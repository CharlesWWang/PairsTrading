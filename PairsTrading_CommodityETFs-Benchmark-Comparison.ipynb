{
 "cells": [
  {
   "cell_type": "markdown",
   "metadata": {},
   "source": [
    "# A benchmark Pairs Trading strategy \n",
    "\n",
    "This notebook explores a pairs trading strategy using bollinger bands. This projected is being developed as part of a master thesis for the degree of Electrical and Computer Engineering.\n",
    "\n",
    "**Author:** Simão Moraes Sarmento <br /> \n",
    "**Contact:** simaosarmento@hotmail.com"
   ]
  },
  {
   "cell_type": "markdown",
   "metadata": {},
   "source": [
    "## Dependencies\n",
    "\n",
    "This notebook requires code from:\n",
    "\n",
    "Python files:\n",
    "- `class_SeriesAnalyser.py` - contains a set of functions to deal with time series analysis.\n",
    "- `class_Trader.py` - contains a set of functions concerning trading strategies.\n",
    "- `class_DataProcessor.py` - contains a set of functions concerning the data pre processing.\n",
    "\n",
    "Pickle files:\n",
    "- pickle file containing pairs to be traded (obtained from running `PairsTrading_CommodityETFs-Clustering.ipynb`)\n",
    "\n",
    "As a good practise, the notebook solely intends to exemplify the application of different trading strategies for different dataset examples, rather than coding the strategies theirselves. Please look into the files menitoned above for more detailed info on how the functions are built."
   ]
  },
  {
   "cell_type": "markdown",
   "metadata": {},
   "source": [
    "### Import Libraries"
   ]
  },
  {
   "cell_type": "code",
   "execution_count": 1,
   "metadata": {},
   "outputs": [],
   "source": [
    "import numpy as np\n",
    "import pandas as pd\n",
    "import pickle\n",
    "\n",
    "import json\n",
    "\n",
    "import statsmodels\n",
    "import statsmodels.api as sm\n",
    "from statsmodels.tsa.stattools import coint, adfuller\n",
    "\n",
    "import matplotlib.pyplot as plt\n",
    "import matplotlib.cm as cm\n",
    "\n",
    "# Import Datetime and the Pandas DataReader\n",
    "from datetime import datetime\n",
    "from pandas_datareader import data, wb\n",
    "\n",
    "# Import alpha vantage\n",
    "from alpha_vantage.timeseries import TimeSeries\n",
    "\n",
    "# Import scikit instruments\n",
    "from sklearn.cluster import DBSCAN\n",
    "from sklearn.decomposition import PCA\n",
    "from sklearn.manifold import TSNE\n",
    "from sklearn import preprocessing\n",
    "from sklearn.metrics import silhouette_score\n",
    "\n",
    "# just set the seed for the random number generator\n",
    "np.random.seed(107)"
   ]
  },
  {
   "cell_type": "markdown",
   "metadata": {},
   "source": [
    "### Import Configurations"
   ]
  },
  {
   "cell_type": "code",
   "execution_count": 2,
   "metadata": {},
   "outputs": [],
   "source": [
    "config_file = 'config/config_commodities_2010_2019.json'"
   ]
  },
  {
   "cell_type": "code",
   "execution_count": 3,
   "metadata": {},
   "outputs": [],
   "source": [
    "with open(config_file, 'r') as f:\n",
    "    config = json.load(f)"
   ]
  },
  {
   "cell_type": "code",
   "execution_count": 4,
   "metadata": {},
   "outputs": [],
   "source": [
    "with open(config['dataset']['ticker_segment_dict'], 'rb') as handle:\n",
    "    ticker_segment_dict = pickle.load(handle)"
   ]
  },
  {
   "cell_type": "markdown",
   "metadata": {},
   "source": [
    "### Import Classes"
   ]
  },
  {
   "cell_type": "code",
   "execution_count": 38,
   "metadata": {},
   "outputs": [
    {
     "name": "stdout",
     "output_type": "stream",
     "text": [
      "The autoreload extension is already loaded. To reload it, use:\n",
      "  %reload_ext autoreload\n"
     ]
    }
   ],
   "source": [
    "%load_ext autoreload\n",
    "%aimport class_SeriesAnalyser, class_Trader, class_DataProcessor\n",
    "%autoreload 1"
   ]
  },
  {
   "cell_type": "code",
   "execution_count": 39,
   "metadata": {},
   "outputs": [],
   "source": [
    "series_analyser = class_SeriesAnalyser.SeriesAnalyser()\n",
    "trader = class_Trader.Trader()\n",
    "data_processor = class_DataProcessor.DataProcessor()"
   ]
  },
  {
   "cell_type": "markdown",
   "metadata": {},
   "source": [
    "# Retrieve prices data set"
   ]
  },
  {
   "cell_type": "markdown",
   "metadata": {},
   "source": [
    "We start by retrieving the data from a Dataframe saved in a pickle file, as it was previously processed in the `PairsTrading_CommodityETFS_Datapreprocessing.ipynb` notebook."
   ]
  },
  {
   "cell_type": "code",
   "execution_count": 40,
   "metadata": {},
   "outputs": [],
   "source": [
    "# intraday\n",
    "df_prices = pd.read_pickle('data/etfs/pickle/commodity_ETFs_from_2014_complete.pickle')"
   ]
  },
  {
   "cell_type": "code",
   "execution_count": 92,
   "metadata": {},
   "outputs": [
    {
     "name": "stdout",
     "output_type": "stream",
     "text": [
      "Total of 116 tickers\n",
      "Total of 95 tickers after removing tickers with Nan values\n"
     ]
    }
   ],
   "source": [
    "# split data in training and test\n",
    "df_prices_train, df_prices_test = data_processor.split_data(df_prices,\n",
    "                                                            ('01-01-2012',\n",
    "                                                             '31-12-2014'),\n",
    "                                                            ('01-01-2015',\n",
    "                                                             '31-12-2015'),\n",
    "                                                            remove_nan=True)\n",
    "train_val_split = '01-01-2014'"
   ]
  },
  {
   "cell_type": "code",
   "execution_count": 42,
   "metadata": {},
   "outputs": [
    {
     "data": {
      "text/plain": [
       "77916"
      ]
     },
     "execution_count": 42,
     "metadata": {},
     "output_type": "execute_result"
    }
   ],
   "source": [
    "len(df_prices_train)+len(df_prices_test)"
   ]
  },
  {
   "cell_type": "markdown",
   "metadata": {},
   "source": [
    "# Load Pairs"
   ]
  },
  {
   "cell_type": "code",
   "execution_count": 43,
   "metadata": {},
   "outputs": [],
   "source": [
    "# intra day\n",
    "#with open('data/etfs/pickle/pairs_unfiltered_intraday.pickle', 'rb') as handle:\n",
    "#    pairs = pickle.load(handle)\n",
    "\n",
    "#with open('data/etfs/pickle/pairs_category_intraday.pickle', 'rb') as handle:\n",
    "with open('data/etfs/pickle/2012-2016/pairs_category_intraday.pickle', 'rb') as handle:\n",
    "    pairs = pickle.load(handle)\n",
    "\n",
    "#with open('data/etfs/pickle/2014-2018/pairs_unsupervised_learning_intraday.pickle', 'rb') as handle:\n",
    "#    pairs = pickle.load(handle)\n",
    "    \n",
    "# interday  \n",
    "#with open('data/etfs/pickle/pairs_unfiltered_interday.pickle', 'rb') as handle:\n",
    "#    pairs = pickle.load(handle)\n",
    "\n",
    "#with open('data/etfs/pickle/pairs_category_interday.pickle', 'rb') as handle:\n",
    "#    pairs = pickle.load(handle)\n",
    "\n",
    "#with open('data/etfs/pickle/pairs_unsupervised_learning_interday.pickle', 'rb') as handle:\n",
    "#    pairs = pickle.load(handle)"
   ]
  },
  {
   "cell_type": "code",
   "execution_count": 44,
   "metadata": {},
   "outputs": [],
   "source": [
    "###### lookback_multiplier= config['trading']['lookback_multiplier']\n",
    "entry_multiplier= config['trading']['entry_multiplier']\n",
    "exit_multiplier= config['trading']['exit_multiplier']\n",
    "# obtain trading filter info\n",
    "if config['trading_filter']['active'] == 1:\n",
    "    trading_filter = config['trading_filter']\n",
    "else:\n",
    "    trading_filter = None"
   ]
  },
  {
   "cell_type": "code",
   "execution_count": 45,
   "metadata": {},
   "outputs": [
    {
     "data": {
      "text/plain": [
       "59"
      ]
     },
     "execution_count": 45,
     "metadata": {},
     "output_type": "execute_result"
    }
   ],
   "source": [
    "len(pairs)"
   ]
  },
  {
   "cell_type": "code",
   "execution_count": 46,
   "metadata": {},
   "outputs": [
    {
     "data": {
      "text/plain": [
       "1"
      ]
     },
     "execution_count": 46,
     "metadata": {},
     "output_type": "execute_result"
    }
   ],
   "source": [
    "# intraday\n",
    "n_years_test = 1"
   ]
  },
  {
   "cell_type": "markdown",
   "metadata": {},
   "source": [
    "## Applying Fixed Beta"
   ]
  },
  {
   "cell_type": "code",
   "execution_count": 81,
   "metadata": {},
   "outputs": [
    {
     "name": "stdout",
     "output_type": "stream",
     "text": [
      "Pair: 59/59"
     ]
    }
   ],
   "source": [
    "train_results_without_costs, train_results_with_costs, performance_threshold_train = \\\n",
    "                 trader.apply_trading_strategy(pairs, \n",
    "                                                'fixed_beta',\n",
    "                                                2,#entry_multiplier,\n",
    "                                                0,#exit_multiplier,\n",
    "                                                test_mode=False,\n",
    "                                                train_val_split=train_val_split\n",
    "                                               )\n",
    "\n",
    "sharpe_results_threshold_train_nocosts, cum_returns_threshold_train_nocosts = train_results_without_costs\n",
    "sharpe_results_threshold_train_w_costs, cum_returns_threshold_train_w_costs = train_results_with_costs"
   ]
  },
  {
   "cell_type": "code",
   "execution_count": 83,
   "metadata": {},
   "outputs": [
    {
     "name": "stdout",
     "output_type": "stream",
     "text": [
      "Pair: 41/41"
     ]
    }
   ],
   "source": [
    "cum_returns_threshold_train_w_costs = np.asarray(cum_returns_threshold_train_w_costs)\n",
    "profitable_pairs_indices = np.argwhere(cum_returns_threshold_train_w_costs > 0)\n",
    "profitable_pairs = [pairs[i] for i in profitable_pairs_indices.flatten()]\n",
    "\n",
    "results_without_costs, results_with_costs, performance_threshold_test = trader.apply_trading_strategy(\n",
    "                                                                                             profitable_pairs,\n",
    "                                                                                             'fixed_beta',\n",
    "                                                                                             2,\n",
    "                                                                                             0,\n",
    "                                                                                             test_mode=True)\n",
    "sharpe_results_threshold_test_nocosts, cum_returns_threshold_test_nocosts = results_without_costs\n",
    "sharpe_results_threshold_test_w_costs, cum_returns_threshold_test_w_costs = results_with_costs"
   ]
  },
  {
   "cell_type": "code",
   "execution_count": 84,
   "metadata": {},
   "outputs": [
    {
     "name": "stdout",
     "output_type": "stream",
     "text": [
      "Average result:  0.7761166451995087\n",
      "avg_annual_roi:  11.829184590791808\n",
      "82.92682926829268 % of the pairs had positive returns\n"
     ]
    }
   ],
   "source": [
    "_, _, _, _ = trader.calculate_metrics(sharpe_results_threshold_test_w_costs, cum_returns_threshold_test_w_costs,\n",
    "                                      n_years_test)"
   ]
  },
  {
   "cell_type": "markdown",
   "metadata": {},
   "source": [
    "## Applying the bollinger bands strategy"
   ]
  },
  {
   "cell_type": "code",
   "execution_count": 102,
   "metadata": {},
   "outputs": [
    {
     "name": "stdout",
     "output_type": "stream",
     "text": [
      "Pair: 1/599.469617152412368\n",
      "Pair: 2/592.7658509616273363\n",
      "Pair: 3/590.0\n",
      "Pair: 4/590.0\n",
      "Pair: 5/590.0\n",
      "Pair: 6/590.0\n",
      "Pair: 7/592.3878462253870802\n",
      "Pair: 8/590.0\n",
      "Pair: 9/59-0.39276116571623776\n",
      "Pair: 10/590.0\n",
      "Pair: 11/5915.434249635605202\n",
      "Pair: 12/5916.77592200018627\n",
      "Pair: 13/5926.418818004831923\n",
      "Pair: 14/590.0\n",
      "Pair: 15/590.0\n",
      "Pair: 16/590.0\n",
      "Pair: 17/590.0\n",
      "Pair: 18/590.0\n",
      "Pair: 19/590.0\n",
      "Pair: 20/590.0\n",
      "Pair: 21/590.0\n",
      "Pair: 22/5910.722478248041734\n",
      "Pair: 23/590.0\n",
      "Pair: 24/592.905178047719259\n",
      "Pair: 25/591.673424420699554\n",
      "Pair: 26/598.920524070388659\n",
      "Pair: 27/590.0\n",
      "Pair: 28/593.5323465084066585\n",
      "Pair: 29/590.0\n",
      "Pair: 30/590.0\n",
      "Pair: 31/590.5948415250237593\n",
      "Pair: 32/590.0\n",
      "Pair: 33/590.0\n",
      "Pair: 34/590.0\n",
      "Pair: 35/590.0\n",
      "Pair: 36/59-4.303261303710659\n",
      "Pair: 37/59-2.304652311049016\n",
      "Pair: 38/590.0\n",
      "Pair: 39/590.0\n",
      "Pair: 40/591.8839616274230142\n",
      "Pair: 41/590.0\n",
      "Pair: 42/5914.494311950538652\n",
      "Pair: 43/590.0\n",
      "Pair: 44/591.9858208124466925\n",
      "Pair: 45/590.0\n",
      "Pair: 46/590.0\n",
      "Pair: 47/590.0\n",
      "Pair: 48/593.329730135832465\n",
      "Pair: 49/590.0\n",
      "Pair: 50/599.53836526065408\n",
      "Pair: 51/590.0\n",
      "Pair: 52/59-2.0256813536718044\n",
      "Pair: 53/5910.952988182340938\n",
      "Pair: 54/59-4.804058856590466\n",
      "Pair: 55/598.35421381586643\n",
      "Pair: 56/5911.500209171501652\n",
      "Pair: 57/590.0\n",
      "Pair: 58/59-1.9620892937490142\n",
      "Pair: 59/590.0\n"
     ]
    }
   ],
   "source": [
    "train_results_without_costs, train_results_with_costs, performance_train = trader.apply_trading_strategy(pairs,\n",
    "                                                                               'bollinger_bands', \n",
    "                                                                                2,\n",
    "                                                                                0,\n",
    "                                                                                test_mode=False,\n",
    "                                                                                train_val_split=train_val_split)\n",
    "sharpe_results_train_nocosts, cum_returns_train_nocosts = train_results_without_costs\n",
    "sharpe_results_train_w_costs, cum_returns_train_w_costs = train_results_with_costs"
   ]
  },
  {
   "cell_type": "code",
   "execution_count": 105,
   "metadata": {},
   "outputs": [
    {
     "name": "stdout",
     "output_type": "stream",
     "text": [
      "Pair: 1/59  0.0\n",
      "Pair: 2/59  0.0\n",
      "Pair: 3/59  -2.125164750794084\n",
      "Pair: 4/59  3.7662084822359443\n",
      "Pair: 5/59  0.0\n",
      "Pair: 6/59  -0.5311165312349431\n",
      "Pair: 7/59  0.0\n",
      "Pair: 8/59  -6.7867730036161085\n",
      "Pair: 9/59  6.046364931995263\n",
      "Pair: 10/59  0.0\n",
      "Pair: 11/59  0.0\n",
      "Pair: 12/59  0.0\n",
      "Pair: 13/59  0.0\n",
      "Pair: 14/59  0.0\n",
      "Pair: 15/59  0.0\n",
      "Pair: 16/59  0.0\n",
      "Pair: 17/59  0.0\n",
      "Pair: 18/59  0.0\n",
      "Pair: 19/59  0.0\n",
      "Pair: 20/59  0.0\n",
      "Pair: 21/59  0.0\n",
      "Pair: 22/59  0.0\n",
      "Pair: 23/59  0.0\n",
      "Pair: 24/59  0.0\n",
      "Pair: 25/59  0.0\n",
      "Pair: 26/59  0.0\n",
      "Pair: 27/59  0.0\n",
      "Pair: 28/59  -0.6909591163512308\n",
      "Pair: 29/59  0.0\n",
      "Pair: 30/59  0.0\n",
      "Pair: 31/59  0.8677545643140938\n",
      "Pair: 32/59  0.0\n",
      "Pair: 33/59  0.0\n",
      "Pair: 34/59  0.0\n",
      "Pair: 35/59  0.0\n",
      "Pair: 36/59  0.0\n",
      "Pair: 37/59  0.0\n",
      "Pair: 38/59  19.383006262558556\n",
      "Pair: 39/59  0.0\n",
      "Pair: 40/59  0.0\n",
      "Pair: 41/59  0.0\n",
      "Pair: 42/59  0.0\n",
      "Pair: 43/59  0.0\n",
      "Pair: 44/59  0.0\n",
      "Pair: 45/59  0.0\n",
      "Pair: 46/59  0.0\n",
      "Pair: 47/59  0.0\n",
      "Pair: 48/59  -2.352708412362836\n",
      "Pair: 49/59  0.0\n",
      "Pair: 50/59  0.0\n",
      "Pair: 51/59  0.0\n",
      "Pair: 52/59  -2.913327455423953\n",
      "Pair: 53/59  0.0\n",
      "Pair: 54/59  0.0\n",
      "Pair: 55/59  6.1828313262094925\n",
      "Pair: 56/59  0.0\n",
      "Pair: 57/59  0.0\n",
      "Pair: 58/59  -3.2759389045583065\n",
      "Pair: 59/59  0.0\n"
     ]
    }
   ],
   "source": [
    "cum_returns_train_w_costs = np.asarray(cum_returns_train_w_costs)\n",
    "profitable_pairs_indices = np.argwhere(cum_returns_train_w_costs > 0)\n",
    "profitable_pairs = [pairs[i] for i in profitable_pairs_indices.flatten()]\n",
    "\n",
    "results_without_costs, results_with_costs, performance_test = trader.apply_trading_strategy(\n",
    "                                                                                             pairs,\n",
    "                                                                                             'bollinger_bands',\n",
    "                                                                                             2,\n",
    "                                                                                             0,\n",
    "                                                                                             test_mode=True)\n",
    "sharpe_results_test_nocosts, cum_returns_test_nocosts = results_without_costs\n",
    "sharpe_results_test_w_costs, cum_returns_test_w_costs = results_with_costs"
   ]
  },
  {
   "cell_type": "code",
   "execution_count": 106,
   "metadata": {},
   "outputs": [
    {
     "name": "stdout",
     "output_type": "stream",
     "text": [
      "Average result:  0.0\n",
      "avg_annual_roi:  0.2977996168300301\n",
      "8.474576271186441 % of the pairs had positive returns\n"
     ]
    }
   ],
   "source": [
    "_, _, _, _ = trader.calculate_metrics(sharpe_results_test_w_costs, cum_returns_test_w_costs,\n",
    "                                      n_years_test)"
   ]
  },
  {
   "cell_type": "markdown",
   "metadata": {},
   "source": [
    "### Kalman Filter"
   ]
  },
  {
   "cell_type": "code",
   "execution_count": 97,
   "metadata": {},
   "outputs": [
    {
     "name": "stdout",
     "output_type": "stream",
     "text": [
      "Pair: 59/59"
     ]
    }
   ],
   "source": [
    "train_results_without_costs, train_results_with_costs, performance_train = trader.apply_trading_strategy(pairs,\n",
    "                                                                               'kalman_filter', \n",
    "                                                                                2,\n",
    "                                                                                0,\n",
    "                                                                                test_mode=False,\n",
    "                                                                                train_val_split=train_val_split\n",
    "                                                                                )\n",
    "sharpe_results_train_nocosts, cum_returns_train_nocosts = train_results_without_costs\n",
    "sharpe_results_train_w_costs, cum_returns_train_w_costs = train_results_with_costs"
   ]
  },
  {
   "cell_type": "code",
   "execution_count": 98,
   "metadata": {},
   "outputs": [
    {
     "name": "stdout",
     "output_type": "stream",
     "text": [
      "Pair: 59/59"
     ]
    }
   ],
   "source": [
    "results_without_costs, results_with_costs, performance_test = trader.apply_trading_strategy(pairs,\n",
    "                                                                                    'kalman_filter',\n",
    "                                                                                     2,\n",
    "                                                                                     0,\n",
    "                                                                                     test_mode=True)\n",
    "sharpe_results_test_nocosts, cum_returns_test_nocosts = results_without_costs\n",
    "sharpe_results_test_w_costs, cum_returns_test_w_costs = results_with_costs"
   ]
  },
  {
   "cell_type": "code",
   "execution_count": 99,
   "metadata": {},
   "outputs": [
    {
     "name": "stdout",
     "output_type": "stream",
     "text": [
      "Average result:  0.0\n",
      "avg_annual_roi:  -21.003326213586803\n",
      "10.169491525423728 % of the pairs had positive returns\n"
     ]
    }
   ],
   "source": [
    "_, _, _, _ = trader.calculate_metrics(sharpe_results_test_w_costs, cum_returns_test_w_costs,\n",
    "                                      n_years_test)"
   ]
  }
 ],
 "metadata": {
  "kernelspec": {
   "display_name": "Python [conda root]",
   "language": "python",
   "name": "conda-root-py"
  },
  "language_info": {
   "codemirror_mode": {
    "name": "ipython",
    "version": 3
   },
   "file_extension": ".py",
   "mimetype": "text/x-python",
   "name": "python",
   "nbconvert_exporter": "python",
   "pygments_lexer": "ipython3",
   "version": "3.6.0"
  }
 },
 "nbformat": 4,
 "nbformat_minor": 2
}
