{
 "cells": [
  {
   "cell_type": "markdown",
   "metadata": {},
   "source": [
    "# A benchmark Pairs Trading strategy \n",
    "\n",
    "This notebook explores a pairs trading strategy using bollinger bands. This projected is being developed as part of a master thesis for the degree of Electrical and Computer Engineering.\n",
    "\n",
    "**Author:** Simão Moraes Sarmento <br /> \n",
    "**Contact:** simaosarmento@hotmail.com"
   ]
  },
  {
   "cell_type": "markdown",
   "metadata": {},
   "source": [
    "## Dependencies\n",
    "\n",
    "This notebook requires code from:\n",
    "\n",
    "Python files:\n",
    "- `class_SeriesAnalyser.py` - contains a set of functions to deal with time series analysis.\n",
    "- `class_Trader.py` - contains a set of functions concerning trading strategies.\n",
    "- `class_DataProcessor.py` - contains a set of functions concerning the data pre processing.\n",
    "\n",
    "Pickle files:\n",
    "- pickle file containing pairs to be traded (obtained from running `PairsTrading_CommodityETFs-Clustering.ipynb`)\n",
    "\n",
    "As a good practise, the notebook solely intends to exemplify the application of different trading strategies for different dataset examples, rather than coding the strategies theirselves. Please look into the files menitoned above for more detailed info on how the functions are built."
   ]
  },
  {
   "cell_type": "markdown",
   "metadata": {},
   "source": [
    "### Import Libraries"
   ]
  },
  {
   "cell_type": "code",
   "execution_count": 1,
   "metadata": {},
   "outputs": [],
   "source": [
    "import numpy as np\n",
    "import pandas as pd\n",
    "import pickle\n",
    "\n",
    "import json\n",
    "\n",
    "import statsmodels\n",
    "import statsmodels.api as sm\n",
    "from statsmodels.tsa.stattools import coint, adfuller\n",
    "\n",
    "import matplotlib.pyplot as plt\n",
    "import matplotlib.cm as cm\n",
    "\n",
    "# Import Datetime and the Pandas DataReader\n",
    "from datetime import datetime\n",
    "from pandas_datareader import data, wb\n",
    "\n",
    "# Import alpha vantage\n",
    "from alpha_vantage.timeseries import TimeSeries\n",
    "\n",
    "# Import scikit instruments\n",
    "from sklearn.cluster import DBSCAN\n",
    "from sklearn.decomposition import PCA\n",
    "from sklearn.manifold import TSNE\n",
    "from sklearn import preprocessing\n",
    "from sklearn.metrics import silhouette_score\n",
    "\n",
    "# just set the seed for the random number generator\n",
    "np.random.seed(107)"
   ]
  },
  {
   "cell_type": "markdown",
   "metadata": {},
   "source": [
    "### Import Configurations"
   ]
  },
  {
   "cell_type": "code",
   "execution_count": 2,
   "metadata": {},
   "outputs": [],
   "source": [
    "config_file = 'config/config_commodities_2010_2019.json'"
   ]
  },
  {
   "cell_type": "code",
   "execution_count": 3,
   "metadata": {},
   "outputs": [],
   "source": [
    "with open(config_file, 'r') as f:\n",
    "    config = json.load(f)"
   ]
  },
  {
   "cell_type": "code",
   "execution_count": 4,
   "metadata": {},
   "outputs": [],
   "source": [
    "with open(config['dataset']['ticker_segment_dict'], 'rb') as handle:\n",
    "    ticker_segment_dict = pickle.load(handle)"
   ]
  },
  {
   "cell_type": "markdown",
   "metadata": {},
   "source": [
    "### Import Classes"
   ]
  },
  {
   "cell_type": "code",
   "execution_count": 5,
   "metadata": {},
   "outputs": [],
   "source": [
    "%load_ext autoreload\n",
    "%aimport class_SeriesAnalyser, class_Trader, class_DataProcessor\n",
    "%autoreload 1"
   ]
  },
  {
   "cell_type": "code",
   "execution_count": 6,
   "metadata": {},
   "outputs": [],
   "source": [
    "series_analyser = class_SeriesAnalyser.SeriesAnalyser()\n",
    "trader = class_Trader.Trader()\n",
    "data_processor = class_DataProcessor.DataProcessor()"
   ]
  },
  {
   "cell_type": "markdown",
   "metadata": {},
   "source": [
    "# Retrieve prices data set"
   ]
  },
  {
   "cell_type": "markdown",
   "metadata": {},
   "source": [
    "We start by retrieving the data from a Dataframe saved in a pickle file, as it was previously processed in the `PairsTrading_CommodityETFS_Datapreprocessing.ipynb` notebook."
   ]
  },
  {
   "cell_type": "code",
   "execution_count": 7,
   "metadata": {},
   "outputs": [],
   "source": [
    "# intraday\n",
    "df_prices = pd.read_pickle('data/etfs/pickle/commodity_ETFs_from_2014_complete.pickle')"
   ]
  },
  {
   "cell_type": "code",
   "execution_count": 8,
   "metadata": {},
   "outputs": [
    {
     "name": "stdout",
     "output_type": "stream",
     "text": [
      "Total of 116 tickers\n",
      "Total of 95 tickers after removing tickers with Nan values\n"
     ]
    }
   ],
   "source": [
    "# split data in training and test\n",
    "df_prices_train, df_prices_test = data_processor.split_data(df_prices,\n",
    "                                                            ('01-01-2012',\n",
    "                                                             '31-12-2014'),\n",
    "                                                            ('01-01-2015',\n",
    "                                                             '31-12-2015'),\n",
    "                                                            remove_nan=True)"
   ]
  },
  {
   "cell_type": "code",
   "execution_count": 9,
   "metadata": {},
   "outputs": [
    {
     "data": {
      "text/plain": [
       "77916"
      ]
     },
     "execution_count": 9,
     "metadata": {},
     "output_type": "execute_result"
    }
   ],
   "source": [
    "len(df_prices_train)+len(df_prices_test)"
   ]
  },
  {
   "cell_type": "markdown",
   "metadata": {},
   "source": [
    "# Load Pairs"
   ]
  },
  {
   "cell_type": "code",
   "execution_count": 10,
   "metadata": {},
   "outputs": [],
   "source": [
    "# intra day\n",
    "#with open('data/etfs/pickle/pairs_unfiltered_intraday.pickle', 'rb') as handle:\n",
    "#    pairs = pickle.load(handle)\n",
    "\n",
    "#with open('data/etfs/pickle/pairs_category_intraday.pickle', 'rb') as handle:\n",
    "with open('data/etfs/pickle/2012-2016/pairs_category_intraday.pickle', 'rb') as handle:\n",
    "    pairs = pickle.load(handle)\n",
    "\n",
    "#with open('data/etfs/pickle/2014-2018/pairs_unsupervised_learning_intraday.pickle', 'rb') as handle:\n",
    "#    pairs = pickle.load(handle)\n",
    "    \n",
    "# interday  \n",
    "#with open('data/etfs/pickle/pairs_unfiltered_interday.pickle', 'rb') as handle:\n",
    "#    pairs = pickle.load(handle)\n",
    "\n",
    "#with open('data/etfs/pickle/pairs_category_interday.pickle', 'rb') as handle:\n",
    "#    pairs = pickle.load(handle)\n",
    "\n",
    "#with open('data/etfs/pickle/pairs_unsupervised_learning_interday.pickle', 'rb') as handle:\n",
    "#    pairs = pickle.load(handle)"
   ]
  },
  {
   "cell_type": "code",
   "execution_count": 11,
   "metadata": {},
   "outputs": [],
   "source": [
    "###### lookback_multiplier= config['trading']['lookback_multiplier']\n",
    "entry_multiplier= config['trading']['entry_multiplier']\n",
    "exit_multiplier= config['trading']['exit_multiplier']\n",
    "# obtain trading filter info\n",
    "if config['trading_filter']['active'] == 1:\n",
    "    trading_filter = config['trading_filter']\n",
    "else:\n",
    "    trading_filter = None"
   ]
  },
  {
   "cell_type": "code",
   "execution_count": 12,
   "metadata": {},
   "outputs": [
    {
     "data": {
      "text/plain": [
       "59"
      ]
     },
     "execution_count": 12,
     "metadata": {},
     "output_type": "execute_result"
    }
   ],
   "source": [
    "len(pairs)"
   ]
  },
  {
   "cell_type": "markdown",
   "metadata": {},
   "source": [
    "# Apply trading strategies"
   ]
  },
  {
   "cell_type": "markdown",
   "metadata": {},
   "source": [
    "**Applying the fixed beta strategy in validation period**"
   ]
  },
  {
   "cell_type": "code",
   "execution_count": 13,
   "metadata": {},
   "outputs": [
    {
     "data": {
      "text/plain": [
       "1"
      ]
     },
     "execution_count": 13,
     "metadata": {},
     "output_type": "execute_result"
    }
   ],
   "source": [
    "train_val_split = '2014-01-01'\n",
    "\n",
    "# intraday\n",
    "n_years_val = round(len(df_prices_train[train_val_split:])/(240*78))\n",
    "\n",
    "# interday\n",
    "#n_years_val = round(len(df_prices_train)/(240))\n",
    "\n",
    "n_years_val"
   ]
  },
  {
   "cell_type": "code",
   "execution_count": 19,
   "metadata": {},
   "outputs": [
    {
     "name": "stdout",
     "output_type": "stream",
     "text": [
      " entry delay turned on.\n",
      "Pair: 59/59"
     ]
    }
   ],
   "source": [
    "entry_multiplier= config['trading']['entry_multiplier']\n",
    "exit_multiplier= config['trading']['exit_multiplier']\n",
    "train_results_without_costs, train_results_with_costs, performance_threshold_train = \\\n",
    "        trader.apply_trading_strategy(pairs, \n",
    "                                       'fixed_beta',\n",
    "                                        2,#entry_multiplier,\n",
    "                                        0,#exit_multiplier,\n",
    "                                        test_mode=False,\n",
    "                                        train_val_split=train_val_split\n",
    "                                       )\n",
    "\n",
    "sharpe_results_threshold_train_nocosts, cum_returns_threshold_train_nocosts = train_results_without_costs\n",
    "sharpe_results_threshold_train_w_costs, cum_returns_threshold_train_w_costs = train_results_with_costs"
   ]
  },
  {
   "cell_type": "code",
   "execution_count": 20,
   "metadata": {},
   "outputs": [
    {
     "name": "stdout",
     "output_type": "stream",
     "text": [
      "Average result:  0.5515971435560743\n",
      "avg_annual_roi:  6.963721425394276\n",
      "67.79661016949153 % of the pairs had positive returns\n"
     ]
    }
   ],
   "source": [
    "# WARNING: MUST CHANGE SHARPE RATIO\n",
    "avg_sharpe_train, total_roi_train, anual_roi_train, positive_pct_train = \\\n",
    "    trader.calculate_metrics(sharpe_results_threshold_train_w_costs, cum_returns_threshold_train_w_costs,\n",
    "                             n_years_val)"
   ]
  },
  {
   "cell_type": "code",
   "execution_count": 21,
   "metadata": {},
   "outputs": [
    {
     "name": "stdout",
     "output_type": "stream",
     "text": [
      "Sharpe Ratio Distribution: \n"
     ]
    },
    {
     "data": {
      "image/png": "[encoded data removed]",
      "text/plain": [
       "<matplotlib.figure.Figure at 0x11615a550>"
      ]
     },
     "metadata": {},
     "output_type": "display_data"
    }
   ],
   "source": [
    "print('Sharpe Ratio Distribution: ')\n",
    "n, bins, patches = plt.hist(sharpe_results_threshold_train_w_costs, bins = 16, normed=True, orientation='vertical',\n",
    "                            color='red', rwidth=0.9, align='mid')"
   ]
  },
  {
   "cell_type": "code",
   "execution_count": 22,
   "metadata": {},
   "outputs": [],
   "source": [
    "#cum_returns_threshold_train_w_costs"
   ]
  },
  {
   "cell_type": "code",
   "execution_count": 23,
   "metadata": {},
   "outputs": [
    {
     "data": {
      "text/plain": [
       "array([ 1.24525033,  2.4274593 ,  1.14350396,  1.15481571,  0.45903805,\n",
       "        0.57130184,  0.83395672,  2.81857608,  0.24434038,  1.53438387,\n",
       "        0.16867686,  0.36914727,  0.20139504,  0.75714618,  1.39133223,\n",
       "        2.39499998,  0.23866385,  1.39881789,  1.67173893,  1.37550723,\n",
       "        0.67513256,  1.05054659,  1.80493701,  5.4288947 ,  2.28250428,\n",
       "        1.18180798,  1.83889542,  1.27400836,  1.55303747,  1.24726812,\n",
       "        1.85944218,  1.22645846,  0.93119343,  1.62616958,  9.28888945,\n",
       "       12.1799656 , 11.98787394,  1.6464653 ,  5.80386653,  1.93981938,\n",
       "        0.56163217,  0.88791065,  0.56797951,  1.90691545,  0.29291248,\n",
       "        3.28013448,  0.33238383,  6.97806628,  0.32686603,  2.18455585,\n",
       "        3.39830113,  2.35621741,  1.92368515,  4.14116457,  1.07878942,\n",
       "        2.14847196,  3.34185575,  2.3173922 ,  0.57458147])"
      ]
     },
     "execution_count": 23,
     "metadata": {},
     "output_type": "execute_result"
    }
   ],
   "source": [
    "betas = list()\n",
    "for i in range(len(pairs)):\n",
    "    betas.append(pairs[i][2]['coint_coef'])\n",
    "np.asarray(betas)"
   ]
  },
  {
   "cell_type": "code",
   "execution_count": 24,
   "metadata": {},
   "outputs": [
    {
     "name": "stdout",
     "output_type": "stream",
     "text": [
      "Average result:  0.5515971435560743\n",
      "avg_annual_roi:  6.963721425394276\n",
      "67.79661016949153 % of the pairs had positive returns\n"
     ]
    }
   ],
   "source": [
    "results_training, pairs_summary_training = trader.summarize_results(sharpe_results_threshold_train_w_costs,\n",
    "                                                                    cum_returns_threshold_train_w_costs,\n",
    "                                                                    performance_threshold_train,\n",
    "                                                                    pairs,\n",
    "                                                                    ticker_segment_dict, n_years_val)"
   ]
  },
  {
   "cell_type": "markdown",
   "metadata": {},
   "source": [
    "# Out of Sample Analysis\n",
    "\n",
    "In this section, we analyze the performance of the strategy in the validation dataset. \n",
    "\n",
    "We proceed with some data exploration analysis. For this purpose we will do the following:\n",
    "\n",
    "- Analyze which percentage of the identified pairs are still cointegrated in the validation period.\n",
    "- Analyze which percentage of pairs have positive returns, and how many of those are still cointegrated.\n",
    "- Analyze how many new pais were not identified to be cointegrated up to the validation period.\n",
    "- Run strategy for identified pairs in training period.\n",
    "\n",
    "This analysis will help us getting some insight into how the cointegrated pairs vary from time to time, and therefore how we should allocate our resources to predict when pairs are not cointegrated anymore."
   ]
  },
  {
   "cell_type": "markdown",
   "metadata": {},
   "source": [
    "## Applying the Strategy out-of Sample\n",
    "\n",
    "We might want to apply the strategy in all pairs identified. Or, instead, we might prefer to apply the strategy only on those pairs that turned out to be profitable. Let's compare how both approaches work:"
   ]
  },
  {
   "cell_type": "code",
   "execution_count": 25,
   "metadata": {},
   "outputs": [
    {
     "data": {
      "text/plain": [
       "1"
      ]
     },
     "execution_count": 25,
     "metadata": {},
     "output_type": "execute_result"
    }
   ],
   "source": [
    "# intraday\n",
    "n_years_test = round(len(df_prices_test)/(240*78))\n",
    "\n",
    "# interday\n",
    "#n_years_test = round(len(df_prices_test)/(240))\n",
    "\n",
    "n_years_test"
   ]
  },
  {
   "cell_type": "markdown",
   "metadata": {},
   "source": [
    "### Approach 1: Unrestricted"
   ]
  },
  {
   "cell_type": "markdown",
   "metadata": {},
   "source": [
    "**Basic Threshold Strategy**"
   ]
  },
  {
   "cell_type": "code",
   "execution_count": 27,
   "metadata": {},
   "outputs": [
    {
     "name": "stdout",
     "output_type": "stream",
     "text": [
      " entry delay turned on.\n",
      "Pair: 59/59"
     ]
    }
   ],
   "source": [
    "results_without_costs, results_with_costs, performance_threshold_test = \\\n",
    "                            trader.apply_trading_strategy(pairs, \n",
    "                                                           'fixed_beta',\n",
    "                                                            2,#entry_multiplier,\n",
    "                                                            0,#exit_multiplier,\n",
    "                                                            test_mode=True,\n",
    "                                                            train_val_split=train_val_split\n",
    "                                                           )\n",
    "sharpe_results_threshold_test_nocosts, cum_returns_threshold_test_nocosts = results_without_costs\n",
    "sharpe_results_threshold_test_w_costs, cum_returns_threshold_test_w_costs = results_with_costs"
   ]
  },
  {
   "cell_type": "code",
   "execution_count": 28,
   "metadata": {
    "scrolled": true
   },
   "outputs": [
    {
     "name": "stdout",
     "output_type": "stream",
     "text": [
      "Average result:  0.458885146447794\n",
      "avg_annual_roi:  5.565435875692537\n",
      "64.40677966101696 % of the pairs had positive returns\n"
     ]
    }
   ],
   "source": [
    "_, _, _, _ = trader.calculate_metrics(sharpe_results_threshold_test_w_costs, cum_returns_threshold_test_w_costs,\n",
    "                                      n_years_test)"
   ]
  },
  {
   "cell_type": "markdown",
   "metadata": {},
   "source": [
    "### Approach 2: Keeping only pairs that had positive returns in the training period"
   ]
  },
  {
   "cell_type": "code",
   "execution_count": 29,
   "metadata": {},
   "outputs": [],
   "source": [
    "cum_returns_threshold_train_w_costs = np.asarray(cum_returns_threshold_train_w_costs)\n",
    "profitable_pairs_indices = np.argwhere(cum_returns_threshold_train_w_costs > 0)\n",
    "profitable_pairs = [pairs[i] for i in profitable_pairs_indices.flatten()]"
   ]
  },
  {
   "cell_type": "code",
   "execution_count": 31,
   "metadata": {
    "scrolled": false
   },
   "outputs": [
    {
     "name": "stdout",
     "output_type": "stream",
     "text": [
      " entry delay turned on.\n",
      "Pair: 40/40"
     ]
    }
   ],
   "source": [
    "results_without_costs, results_with_costs, performance_threshold_test = \\\n",
    "                            trader.apply_trading_strategy(profitable_pairs, \n",
    "                                                           'fixed_beta',\n",
    "                                                            2,#entry_multiplier,\n",
    "                                                            0,#exit_multiplier,\n",
    "                                                            test_mode=True,\n",
    "                                                            train_val_split=train_val_split\n",
    "                                                           )\n",
    "sharpe_results_threshold_test_nocosts, cum_returns_threshold_test_nocosts = results_without_costs\n",
    "sharpe_results_threshold_test_w_costs, cum_returns_threshold_test_w_costs = results_with_costs"
   ]
  },
  {
   "cell_type": "code",
   "execution_count": 32,
   "metadata": {},
   "outputs": [
    {
     "name": "stdout",
     "output_type": "stream",
     "text": [
      "Average result:  0.7425476260389077\n",
      "avg_annual_roi:  9.412322989565357\n",
      "85.0 % of the pairs had positive returns\n"
     ]
    }
   ],
   "source": [
    "_, _, _, _ = trader.calculate_metrics(sharpe_results_threshold_test_w_costs, cum_returns_threshold_test_w_costs,\n",
    "                                      n_years_test)"
   ]
  },
  {
   "cell_type": "markdown",
   "metadata": {},
   "source": [
    "### Approach 3: Keeping only top 10 pairs"
   ]
  },
  {
   "cell_type": "code",
   "execution_count": 33,
   "metadata": {},
   "outputs": [],
   "source": [
    "sharpe_results_threshold_train_w_costs = np.asarray(sharpe_results_threshold_train_w_costs)\n",
    "sorted_pairs_indices = np.argsort(sharpe_results_threshold_train_w_costs)[::-1][:10]\n",
    "top_10_pairs = [pairs[i] for i in sorted_pairs_indices.flatten()]"
   ]
  },
  {
   "cell_type": "code",
   "execution_count": 34,
   "metadata": {},
   "outputs": [],
   "source": [
    "# sorting by returns seems to give better results"
   ]
  },
  {
   "cell_type": "code",
   "execution_count": 35,
   "metadata": {},
   "outputs": [],
   "source": [
    "cum_returns_threshold_train_w_costs = np.asarray(cum_returns_threshold_train_w_costs)\n",
    "sorted_pairs_indices = np.argsort(cum_returns_threshold_train_w_costs)[::-1][:10]\n",
    "top_10_pairs = [pairs[i] for i in sorted_pairs_indices.flatten()]"
   ]
  },
  {
   "cell_type": "code",
   "execution_count": 36,
   "metadata": {},
   "outputs": [
    {
     "name": "stdout",
     "output_type": "stream",
     "text": [
      " entry delay turned on.\n",
      "Pair: 10/10"
     ]
    }
   ],
   "source": [
    "results_without_costs, results_with_costs, performance_threshold_test = \\\n",
    "                            trader.apply_trading_strategy(top_10_pairs, \n",
    "                                                           'fixed_beta',\n",
    "                                                            2,#entry_multiplier,\n",
    "                                                            0,#exit_multiplier,\n",
    "                                                            test_mode=True,\n",
    "                                                            train_val_split=train_val_split\n",
    "                                                           )\n",
    "sharpe_results_threshold_test_nocosts, cum_returns_threshold_test_nocosts = results_without_costs\n",
    "sharpe_results_threshold_test_w_costs, cum_returns_threshold_test_w_costs = results_with_costs"
   ]
  },
  {
   "cell_type": "code",
   "execution_count": 37,
   "metadata": {},
   "outputs": [
    {
     "name": "stdout",
     "output_type": "stream",
     "text": [
      "Average result:  1.1749572140536675\n",
      "avg_annual_roi:  17.835716817070455\n",
      "90.0 % of the pairs had positive returns\n"
     ]
    }
   ],
   "source": [
    "_, _, _, _ = trader.calculate_metrics(sharpe_results_threshold_test_w_costs, cum_returns_threshold_test_w_costs,\n",
    "                                      n_years_test)"
   ]
  },
  {
   "cell_type": "markdown",
   "metadata": {},
   "source": [
    "# Validate the results"
   ]
  },
  {
   "cell_type": "code",
   "execution_count": 38,
   "metadata": {},
   "outputs": [
    {
     "name": "stdout",
     "output_type": "stream",
     "text": [
      "Average result:  1.1749572140536675\n",
      "avg_annual_roi:  17.835716817070455\n",
      "90.0 % of the pairs had positive returns\n"
     ]
    }
   ],
   "source": [
    "results, pairs_summary = trader.summarize_results(sharpe_results_threshold_test_w_costs,\n",
    "                                                  cum_returns_threshold_test_w_costs,\n",
    "                                                  performance_threshold_test,\n",
    "                                                  profitable_pairs, ticker_segment_dict,\n",
    "                                                  n_years_test)"
   ]
  },
  {
   "cell_type": "code",
   "execution_count": 39,
   "metadata": {
    "scrolled": false
   },
   "outputs": [
    {
     "data": {
      "text/html": [
       "<div>\n",
       "<style scoped>\n",
       "    .dataframe tbody tr th:only-of-type {\n",
       "        vertical-align: middle;\n",
       "    }\n",
       "\n",
       "    .dataframe tbody tr th {\n",
       "        vertical-align: top;\n",
       "    }\n",
       "\n",
       "    .dataframe thead th {\n",
       "        text-align: right;\n",
       "    }\n",
       "</style>\n",
       "<table border=\"1\" class=\"dataframe\">\n",
       "  <thead>\n",
       "    <tr style=\"text-align: right;\">\n",
       "      <th></th>\n",
       "      <th>Leg1</th>\n",
       "      <th>Leg1_Segmt</th>\n",
       "      <th>Leg2</th>\n",
       "      <th>Leg2_Segmt</th>\n",
       "      <th>t_statistic</th>\n",
       "      <th>p_value</th>\n",
       "      <th>zero_cross</th>\n",
       "      <th>half_life</th>\n",
       "      <th>hurst_exponent</th>\n",
       "      <th>positive_trades</th>\n",
       "      <th>negative_trades</th>\n",
       "      <th>sharpe_result</th>\n",
       "      <th>positive_trades_per_pair_pct</th>\n",
       "    </tr>\n",
       "  </thead>\n",
       "  <tbody>\n",
       "    <tr>\n",
       "      <th>0</th>\n",
       "      <td>DBB</td>\n",
       "      <td>Commodities: Industrial Metals</td>\n",
       "      <td>COPX</td>\n",
       "      <td>Equity: Global Metals &amp; Mining</td>\n",
       "      <td>-3.538797</td>\n",
       "      <td>0.007045</td>\n",
       "      <td>435</td>\n",
       "      <td>753</td>\n",
       "      <td>0.437295</td>\n",
       "      <td>18</td>\n",
       "      <td>0</td>\n",
       "      <td>2.973054</td>\n",
       "      <td>100.0</td>\n",
       "    </tr>\n",
       "    <tr>\n",
       "      <th>1</th>\n",
       "      <td>KOL</td>\n",
       "      <td>Equity: Global Coal</td>\n",
       "      <td>URA</td>\n",
       "      <td>Equity: Global Nuclear Energy</td>\n",
       "      <td>-3.684891</td>\n",
       "      <td>0.004331</td>\n",
       "      <td>377</td>\n",
       "      <td>1419</td>\n",
       "      <td>0.487672</td>\n",
       "      <td>4</td>\n",
       "      <td>0</td>\n",
       "      <td>2.062324</td>\n",
       "      <td>100.0</td>\n",
       "    </tr>\n",
       "    <tr>\n",
       "      <th>2</th>\n",
       "      <td>AGQ</td>\n",
       "      <td>Leveraged Commodities: Precious Metals Silver</td>\n",
       "      <td>GDX</td>\n",
       "      <td>Equity: Global Gold Miners</td>\n",
       "      <td>-4.024961</td>\n",
       "      <td>0.001285</td>\n",
       "      <td>397</td>\n",
       "      <td>1103</td>\n",
       "      <td>0.477619</td>\n",
       "      <td>3</td>\n",
       "      <td>0</td>\n",
       "      <td>1.339193</td>\n",
       "      <td>100.0</td>\n",
       "    </tr>\n",
       "    <tr>\n",
       "      <th>3</th>\n",
       "      <td>AGQ</td>\n",
       "      <td>Leveraged Commodities: Precious Metals Silver</td>\n",
       "      <td>GDXJ</td>\n",
       "      <td>Equity: Global Gold Miners</td>\n",
       "      <td>-3.998006</td>\n",
       "      <td>0.001421</td>\n",
       "      <td>425</td>\n",
       "      <td>1103</td>\n",
       "      <td>0.472849</td>\n",
       "      <td>1</td>\n",
       "      <td>0</td>\n",
       "      <td>1.154118</td>\n",
       "      <td>100.0</td>\n",
       "    </tr>\n",
       "    <tr>\n",
       "      <th>4</th>\n",
       "      <td>AGQ</td>\n",
       "      <td>Leveraged Commodities: Precious Metals Silver</td>\n",
       "      <td>GOEX</td>\n",
       "      <td>Equity: Global Gold Miners</td>\n",
       "      <td>-3.641566</td>\n",
       "      <td>0.005014</td>\n",
       "      <td>200</td>\n",
       "      <td>1581</td>\n",
       "      <td>0.443185</td>\n",
       "      <td>1</td>\n",
       "      <td>0</td>\n",
       "      <td>1.073512</td>\n",
       "      <td>100.0</td>\n",
       "    </tr>\n",
       "    <tr>\n",
       "      <th>5</th>\n",
       "      <td>OIH</td>\n",
       "      <td>Equity: Global Oil &amp; Gas Equipment &amp; Services</td>\n",
       "      <td>XOP</td>\n",
       "      <td>Equity: U.S. Oil &amp; Gas Exploration &amp; Production</td>\n",
       "      <td>-4.950624</td>\n",
       "      <td>0.000028</td>\n",
       "      <td>721</td>\n",
       "      <td>678</td>\n",
       "      <td>0.484755</td>\n",
       "      <td>2</td>\n",
       "      <td>0</td>\n",
       "      <td>1.004109</td>\n",
       "      <td>100.0</td>\n",
       "    </tr>\n",
       "    <tr>\n",
       "      <th>6</th>\n",
       "      <td>DBP</td>\n",
       "      <td>Commodities: Precious Metals</td>\n",
       "      <td>DBS</td>\n",
       "      <td>Commodities: Precious Metals Silver</td>\n",
       "      <td>-3.475079</td>\n",
       "      <td>0.008651</td>\n",
       "      <td>626</td>\n",
       "      <td>256</td>\n",
       "      <td>0.304712</td>\n",
       "      <td>3</td>\n",
       "      <td>0</td>\n",
       "      <td>0.818109</td>\n",
       "      <td>100.0</td>\n",
       "    </tr>\n",
       "    <tr>\n",
       "      <th>7</th>\n",
       "      <td>PXI</td>\n",
       "      <td>Equity: U.S. Energy</td>\n",
       "      <td>RYE</td>\n",
       "      <td>Equity: U.S. Energy</td>\n",
       "      <td>-4.106884</td>\n",
       "      <td>0.000943</td>\n",
       "      <td>1014</td>\n",
       "      <td>157</td>\n",
       "      <td>0.277443</td>\n",
       "      <td>1</td>\n",
       "      <td>0</td>\n",
       "      <td>0.777688</td>\n",
       "      <td>100.0</td>\n",
       "    </tr>\n",
       "    <tr>\n",
       "      <th>8</th>\n",
       "      <td>XME</td>\n",
       "      <td>Equity: U.S. Metals &amp; Mining</td>\n",
       "      <td>LIT</td>\n",
       "      <td>Equity: Global Metals &amp; Mining</td>\n",
       "      <td>-4.331598</td>\n",
       "      <td>0.000391</td>\n",
       "      <td>749</td>\n",
       "      <td>516</td>\n",
       "      <td>0.392483</td>\n",
       "      <td>1</td>\n",
       "      <td>0</td>\n",
       "      <td>0.547464</td>\n",
       "      <td>100.0</td>\n",
       "    </tr>\n",
       "    <tr>\n",
       "      <th>9</th>\n",
       "      <td>NIB</td>\n",
       "      <td>Commodities: Agriculture Cocoa</td>\n",
       "      <td>PIO</td>\n",
       "      <td>Equity: Global Water</td>\n",
       "      <td>-3.429395</td>\n",
       "      <td>0.009997</td>\n",
       "      <td>283</td>\n",
       "      <td>1498</td>\n",
       "      <td>0.478569</td>\n",
       "      <td>0</td>\n",
       "      <td>0</td>\n",
       "      <td>0.000000</td>\n",
       "      <td>NaN</td>\n",
       "    </tr>\n",
       "  </tbody>\n",
       "</table>\n",
       "</div>"
      ],
      "text/plain": [
       "  Leg1                                     Leg1_Segmt  Leg2  \\\n",
       "0  DBB                 Commodities: Industrial Metals  COPX   \n",
       "1  KOL                            Equity: Global Coal   URA   \n",
       "2  AGQ  Leveraged Commodities: Precious Metals Silver   GDX   \n",
       "3  AGQ  Leveraged Commodities: Precious Metals Silver  GDXJ   \n",
       "4  AGQ  Leveraged Commodities: Precious Metals Silver  GOEX   \n",
       "5  OIH  Equity: Global Oil & Gas Equipment & Services   XOP   \n",
       "6  DBP                   Commodities: Precious Metals   DBS   \n",
       "7  PXI                            Equity: U.S. Energy   RYE   \n",
       "8  XME                   Equity: U.S. Metals & Mining   LIT   \n",
       "9  NIB                 Commodities: Agriculture Cocoa   PIO   \n",
       "\n",
       "                                        Leg2_Segmt  t_statistic   p_value  \\\n",
       "0                   Equity: Global Metals & Mining    -3.538797  0.007045   \n",
       "1                    Equity: Global Nuclear Energy    -3.684891  0.004331   \n",
       "2                       Equity: Global Gold Miners    -4.024961  0.001285   \n",
       "3                       Equity: Global Gold Miners    -3.998006  0.001421   \n",
       "4                       Equity: Global Gold Miners    -3.641566  0.005014   \n",
       "5  Equity: U.S. Oil & Gas Exploration & Production    -4.950624  0.000028   \n",
       "6              Commodities: Precious Metals Silver    -3.475079  0.008651   \n",
       "7                              Equity: U.S. Energy    -4.106884  0.000943   \n",
       "8                   Equity: Global Metals & Mining    -4.331598  0.000391   \n",
       "9                             Equity: Global Water    -3.429395  0.009997   \n",
       "\n",
       "   zero_cross  half_life  hurst_exponent  positive_trades  negative_trades  \\\n",
       "0         435        753        0.437295               18                0   \n",
       "1         377       1419        0.487672                4                0   \n",
       "2         397       1103        0.477619                3                0   \n",
       "3         425       1103        0.472849                1                0   \n",
       "4         200       1581        0.443185                1                0   \n",
       "5         721        678        0.484755                2                0   \n",
       "6         626        256        0.304712                3                0   \n",
       "7        1014        157        0.277443                1                0   \n",
       "8         749        516        0.392483                1                0   \n",
       "9         283       1498        0.478569                0                0   \n",
       "\n",
       "   sharpe_result  positive_trades_per_pair_pct  \n",
       "0       2.973054                         100.0  \n",
       "1       2.062324                         100.0  \n",
       "2       1.339193                         100.0  \n",
       "3       1.154118                         100.0  \n",
       "4       1.073512                         100.0  \n",
       "5       1.004109                         100.0  \n",
       "6       0.818109                         100.0  \n",
       "7       0.777688                         100.0  \n",
       "8       0.547464                         100.0  \n",
       "9       0.000000                           NaN  "
      ]
     },
     "execution_count": 39,
     "metadata": {},
     "output_type": "execute_result"
    }
   ],
   "source": [
    "pairs_summary"
   ]
  },
  {
   "cell_type": "markdown",
   "metadata": {},
   "source": [
    "## Analyzing Pairs' Overlap"
   ]
  },
  {
   "cell_type": "markdown",
   "metadata": {},
   "source": [
    "There could be two possible interpretations for pairs' overlap.\n",
    "1. We might be interested in checking which of the cointegrated pairs found in the training dataset are also cointegrated in the test set; Furthermore we want to explore how the two types of pairs perform.\n",
    "2. We might be interested in finding if the pairs that would have been found in the test set by performing PCA + clustering would be cointegrated in the training set."
   ]
  },
  {
   "cell_type": "markdown",
   "metadata": {},
   "source": [
    "Starting with **1)**, let's see how many of the identified pairs actually turned out to be cointegrated during this period."
   ]
  },
  {
   "cell_type": "code",
   "execution_count": null,
   "metadata": {},
   "outputs": [],
   "source": [
    "pairs_overlapped, pairs_overlapped_index = series_analyser.pairs_overlap(pairs,\n",
    "                                  config['pair_restrictions']['p_value_threshold'],\n",
    "                                  config['pair_restrictions']['min_zero_crossings'],\n",
    "                                  config['pair_restrictions']['min_half_life'],\n",
    "                                  config['pair_restrictions']['hurst_threshold'])\n",
    "print('{} of the {} pairs identified in the training set are also cointegrated in the test set'.format(\\\n",
    "    len(pairs_overlapped), len(pairs)))"
   ]
  },
  {
   "cell_type": "code",
   "execution_count": null,
   "metadata": {},
   "outputs": [],
   "source": [
    "profitable_pairs_overlapped, profitable_pairs_overlapped_index = series_analyser.pairs_overlap(profitable_pairs,\n",
    "                                  config['pair_restrictions']['p_value_threshold'],\n",
    "                                  config['pair_restrictions']['min_zero_crossings'],\n",
    "                                  config['pair_restrictions']['min_half_life'],\n",
    "                                  config['pair_restrictions']['hurst_threshold'])\n",
    "print('{} of the {} pairs with positive returns identified in the training set are also cointegrated in the test set'.format(\\\n",
    "    len(profitable_pairs_overlapped), len(profitable_pairs)))"
   ]
  },
  {
   "cell_type": "markdown",
   "metadata": {},
   "source": [
    "### Is cointegration really important?\n",
    "\n",
    "To answer this question we will see how many of the still cointegrated pairs had positive and negative returns. We will then do the same for those pairs that were not cointegrated. \n",
    "\n",
    "If both are as likely to have positive and negative returns, then it means cointegration is not as important of a condition. On the other hand, if we verify that all pairs that are still cointegrated turned out to be profitable and those that are not anymore led to consistent negative returns, we can infer that cointegration is a very important predictor of future returns.\n",
    "\n",
    "We also compare the average performance of the two groups two see the relevance of being cointegrated with respect to the sharpe ratio obtained."
   ]
  },
  {
   "cell_type": "markdown",
   "metadata": {},
   "source": [
    "*Still cointegrated*"
   ]
  },
  {
   "cell_type": "code",
   "execution_count": null,
   "metadata": {},
   "outputs": [],
   "source": [
    "# distribution for pairs which were cointegrated in train and test\n",
    "sharpe_results_pairs_overlapped = np.asarray([sharpe_results_kalman_test[index] for index \\\n",
    "                                              in profitable_pairs_overlapped_index])\n",
    "cum_returns_pairs_overlapped = np.asarray([cum_returns_kalman_test[index] for index \\\n",
    "                                              in profitable_pairs_overlapped_index])\n",
    "\n",
    "if len(sharpe_results_pairs_overlapped)>0:\n",
    "    _,_,_,_ = trader.calculate_metrics(sharpe_results_pairs_overlapped, cum_returns_pairs_overlapped,\n",
    "                                   n_years_test)\n",
    "else:\n",
    "    print('0% of the pairs cointegrated in the train are also cointegrated in the test set')"
   ]
  },
  {
   "cell_type": "markdown",
   "metadata": {},
   "source": [
    "*Not cointegrated anymore*"
   ]
  },
  {
   "cell_type": "code",
   "execution_count": null,
   "metadata": {},
   "outputs": [],
   "source": [
    "# distribution for pairs which were cointegrated in train but not in test\n",
    "profitable_pairs_not_overlapped_index = [i for i in np.arange(0,len(profitable_pairs))\\\n",
    "                                         if i not in profitable_pairs_overlapped_index]\n",
    "\n",
    "sharpe_results_pairs_not_overlapped = np.asarray([sharpe_results_kalman_test[index] for index \\\n",
    "                                              in profitable_pairs_not_overlapped_index])\n",
    "\n",
    "cum_returns_pairs_not_overlapped = np.asarray([cum_returns_kalman_test[index] for index \\\n",
    "                                              in profitable_pairs_not_overlapped_index])\n",
    "\n",
    "_,_,_,_ = trader.calculate_metrics(sharpe_results_pairs_not_overlapped, cum_returns_pairs_not_overlapped,\n",
    "                                   n_years_test)"
   ]
  },
  {
   "cell_type": "markdown",
   "metadata": {},
   "source": [
    "Answering to the first question we were concerned with, we verify that a cointegrated pair is indeed more likely to have a positive return. Furthermore, we can conclude from the results that being cointegrated implied that those pairs generated higher returns. \n",
    "\n",
    "**TO REVIEW:Conclusion**: The fact that a pair is not cointegrated anymore does not impact the results obained. In fact, we just concluded that betting solely on the cointegrated pairs would yield a worse result. Therefore, we should not spend much effort in detecting pairs that are no cointegrated anymore."
   ]
  },
  {
   "cell_type": "markdown",
   "metadata": {},
   "source": [
    "Following with point number **2)**, we proceed to analyze the performance of the pairs that woud have been identified in the testing period."
   ]
  },
  {
   "cell_type": "code",
   "execution_count": null,
   "metadata": {},
   "outputs": [],
   "source": [
    "initial_test_date = config['dataset']['testing_initial_date']\n",
    "final_teste_date = config['dataset']['testing_final_date']\n",
    "\n",
    "# Get returns for test period\n",
    "df_returns_test = data_processor.get_return_series(df_prices_test)\n",
    "\n",
    "# APPLY PCA and CLUSTERING\n",
    "range_n_components = config['PCA']['N_COMPONENTS']\n",
    "X_test, clustered_series_all_test, clustered_series_test, counts_test, clf_test = \\\n",
    "            series_analyser.clustering_for_optimal_PCA(range_n_components[0], range_n_components[1],\n",
    "                                                       df_returns_test, config['clustering'])\n",
    "# Find pairs\n",
    "pairs_test, unique_tickers_test = series_analyser.get_candidate_pairs(\\\n",
    "                                            clustered_series=clustered_series_test,\n",
    "                                            pricing_df_train=df_prices_test,\n",
    "                                            pricing_df_test=df_prices_train,\n",
    "                                            min_half_life=config['pair_restrictions']['min_half_life'],\n",
    "                                            min_zero_crosings=config['pair_restrictions']['min_zero_crossings'],\n",
    "                                            p_value_threshold=config['pair_restrictions']['p_value_threshold'],\n",
    "                                            hurst_threshold=config['pair_restrictions']['hurst_threshold']\n",
    "                                            )\n",
    "\n",
    "# Finally, see overlap\n",
    "pairs_overlapped, pairs_overlapped_index = series_analyser.pairs_overlap(pairs_test,\n",
    "                                  config['pair_restrictions']['p_value_threshold'],\n",
    "                                  config['pair_restrictions']['min_zero_crossings'],\n",
    "                                  config['pair_restrictions']['min_half_life'],\n",
    "                                  config['pair_restrictions']['hurst_threshold'])\n",
    "print('{} of the {} pairs identified in the test set are also cointegrated in the training set'.format(\\\n",
    "    len(pairs_overlapped), len(pairs_test)))"
   ]
  },
  {
   "cell_type": "markdown",
   "metadata": {},
   "source": [
    "Let's see if the pairs identified in the test period lead indeed to improved results:"
   ]
  },
  {
   "cell_type": "code",
   "execution_count": null,
   "metadata": {
    "scrolled": true
   },
   "outputs": [],
   "source": [
    "sharpe_results_kalman_test_newpairs, cum_returns_kalman_test_newpairs, performance_kalman_test_newpairs =\\\n",
    "    trader.apply_kalman_strategy(pairs_test, entry_multiplier,exit_multiplier,trading_filter, test_mode=False)\n",
    "\n",
    "_,_,_,_ = trader.calculate_metrics(sharpe_results_kalman_test_newpairs, cum_returns_kalman_test_newpairs,\n",
    "                                   n_years_test)"
   ]
  },
  {
   "cell_type": "markdown",
   "metadata": {},
   "source": [
    "The sharpe ratio is higher in this scenatio. Note hoewever, that the annual ROI is not so high as the pairs identified previously. This might be linked with the fact that these pairs did not prove to be cointegrated for a period as long as the other and therefore the pairs might be less stable."
   ]
  },
  {
   "cell_type": "markdown",
   "metadata": {},
   "source": [
    "## Analyzing the influence of pairs statistics\n",
    "\n",
    "It's interesting to analyze whether we could have used extra information from the pairs trading statistic, instead of considering it just as a pass or not pass test. `Law 2017` explore this concept on their paper (htey basically rank pairs according to a trade off between t-statistic and spread deviation from its mean). However, what we see below is that there is no obvious influence of any parameter in the performance of the corresponding pair."
   ]
  },
  {
   "cell_type": "code",
   "execution_count": null,
   "metadata": {},
   "outputs": [],
   "source": [
    "pairs_summary.corr()[['sharpe_result', 'positive_trades_per_pair_pct']].loc[['t_statistic', 'p_value',\n",
    "                                                                             'zero_cross', 'half_life',\n",
    "                                                                             'hurst_exponent']]"
   ]
  },
  {
   "cell_type": "markdown",
   "metadata": {},
   "source": [
    "### The Correlation Filter\n",
    "\n",
    "The correlation filter aims to track how the correlation between the two legs of tha pair is varing, and provide that information as input to the trading strategy."
   ]
  },
  {
   "cell_type": "code",
   "execution_count": null,
   "metadata": {},
   "outputs": [],
   "source": [
    "example_pair = failed_pairs[2]\n",
    "\n",
    "example_pair_leg1 = example_pair[0][0]\n",
    "example_pair_leg2 = example_pair[0][1]\n",
    "\n",
    "example_pair_prices = etfs_pricing[[example_pair_leg1, example_pair_leg2]]\n",
    "example_pair_prices.plot(figsize=(15,5))\n",
    "\n",
    "\n",
    "# proceed to calculate correlation\n",
    "rolling_window = config['trading']['lookback_multiplier']*example_pair[0][2]['half_life']\n",
    "\n",
    "# get returns\n",
    "example_pair_returns = data_processor.get_return_series(example_pair_prices)\n",
    "\n",
    "# analyze correlation on returns\n",
    "example_correlation = example_pair_returns[example_pair_leg1].rolling(rolling_window).corr(example_pair_returns[example_pair_leg2])\n",
    "\n",
    "# plot correlation of returns\n",
    "diff_example_correlation = example_correlation.diff(periods=1)\n",
    "#diff_example_correlation = diff_example_correlation*10\n",
    "diff_example_correlation.plot()"
   ]
  },
  {
   "cell_type": "markdown",
   "metadata": {},
   "source": [
    "This result indicates there's almost no correlation between correlation diff and returns... Let's see how this result varies on average:"
   ]
  },
  {
   "cell_type": "code",
   "execution_count": null,
   "metadata": {},
   "outputs": [],
   "source": [
    "failure_correlations = []\n",
    "for failure in failed_pairs:\n",
    "    failure_df = failure[1][failure[1].units != 0]\n",
    "    correlation = failure_df['ret'].corr(failure_df['correlation'])\n",
    "    failure_correlations.append(correlation)\n",
    "    \n",
    "print(np.mean(failure_correlations))"
   ]
  },
  {
   "cell_type": "markdown",
   "metadata": {},
   "source": [
    "However, we are not realyy interested in the correlation of the the diff column, but rather on the correlation with its sign."
   ]
  },
  {
   "cell_type": "code",
   "execution_count": null,
   "metadata": {},
   "outputs": [],
   "source": [
    "failure_correlations = []\n",
    "for failure in failed_pairs:\n",
    "    failure_df = failure[1][failure[1].units != 0]\n",
    "    failure_df['diff_correlation_sign']=failure_df['diff_correlation'].apply(lambda row: -1 if row<0 else 1)\n",
    "    correlation = failure_df['ret'].corr(failure_df['diff_correlation_sign'])\n",
    "    failure_correlations.append(correlation)\n",
    "    \n",
    "print(np.mean(failure_correlations))"
   ]
  },
  {
   "cell_type": "markdown",
   "metadata": {},
   "source": [
    "We could use mutual information rather than correlation as the sign is discrete. What about the relation with the zscore evolution?"
   ]
  },
  {
   "cell_type": "markdown",
   "metadata": {},
   "source": [
    "### Analyze non-profitable pairs"
   ]
  },
  {
   "cell_type": "code",
   "execution_count": null,
   "metadata": {},
   "outputs": [],
   "source": [
    "sharpe_results_kalman_test = np.asarray(sharpe_results_kalman_test)\n",
    "negative_pairs_indices = np.argwhere(sharpe_results_kalman_test < 0)\n",
    "print('{} out of {} pairs turned out to be non-profitable'.format(len(negative_pairs_indices), len(pairs)))"
   ]
  },
  {
   "cell_type": "markdown",
   "metadata": {},
   "source": [
    "Let's get some more information on the non-profitable pairs:"
   ]
  },
  {
   "cell_type": "code",
   "execution_count": null,
   "metadata": {},
   "outputs": [],
   "source": [
    "negative_pairs = [pairs[i] for i in negative_pairs_indices.flatten()]\n",
    "negative_pairs = [(item[0], item[1]) for item in negative_pairs]\n",
    "negative_pairs"
   ]
  },
  {
   "cell_type": "markdown",
   "metadata": {},
   "source": [
    "To what clusters do these pairs belong?"
   ]
  },
  {
   "cell_type": "code",
   "execution_count": null,
   "metadata": {},
   "outputs": [],
   "source": [
    "for label_n in range(len(counts)):\n",
    "    elements_cluster_n = list(clustered_series[clustered_series == label_n].index)\n",
    "    etfs_cluster_n = etfs_unique[etfs_unique['Ticker'].isin(elements_cluster_n)]\n",
    "    for pair in negative_pairs:\n",
    "        if pair[0] in list(etfs_cluster_n.Ticker):\n",
    "            print('Pair {} belongs to cluster {}'.format(pair, label_n))"
   ]
  },
  {
   "cell_type": "markdown",
   "metadata": {},
   "source": [
    "How do the statistics rank?"
   ]
  },
  {
   "cell_type": "code",
   "execution_count": null,
   "metadata": {},
   "outputs": [],
   "source": [
    "sorted_indices = np.flip(np.argsort(sharpe_results_bollinger), axis=0)\n",
    "\n",
    "# initialize list of lists \n",
    "data = []\n",
    "for index in sorted_indices:\n",
    "    # get number of positive and negative positions\n",
    "    position_returns = performance_bollinger[index][1].position_return\n",
    "    positive_positions = len(position_returns[position_returns>0])\n",
    "    negative_positions = len(position_returns[position_returns<0])\n",
    "    data.append([pairs[index][0],\n",
    "                 pairs[index][1],\n",
    "                 pairs[index][2]['t_statistic'],\n",
    "                 pairs[index][2]['p_value'],\n",
    "                 pairs[index][2]['zero_cross'],\n",
    "                 pairs[index][2]['half_life'],\n",
    "                 pairs[index][2]['hurst_exponent'],\n",
    "                 positive_positions,\n",
    "                 negative_positions,\n",
    "                 sharpe_results_bollinger[index]\n",
    "                ])\n",
    "      \n",
    "# Create the pandas DataFrame \n",
    "df = pd.DataFrame(data, columns = ['Leg1', 'Leg2', 't_statistic', 'p_value', 'zero_cross',\n",
    "                                   'half_life', 'hurst_exponent', 'positive trades', 'negative_trades',\n",
    "                                   'sharpe_result']) \n",
    "df"
   ]
  },
  {
   "cell_type": "code",
   "execution_count": null,
   "metadata": {},
   "outputs": [],
   "source": [
    "df.half_life.mean()"
   ]
  },
  {
   "cell_type": "code",
   "execution_count": null,
   "metadata": {},
   "outputs": [],
   "source": [
    "# analyze correlations\n",
    "print('Half-life vs Sharpe Ratio correlation: ', df['sharpe_result'].corr(df['half_life']))\n",
    "print('Zero crossings vs Sharpe Ratio correlation: ', df['sharpe_result'].corr(df['zero_cross']))\n",
    "print('p-value vs Sharpe Ratio correlation: ', df['sharpe_result'].corr(df['p_value']))\n",
    "print('t-statistic vs Sharpe Ratio correlation: ', df['sharpe_result'].corr(df['t_statistic']))\n",
    "print('Hurst exponent vs Sharpe Ratio correlation ', df['sharpe_result'].corr(df['hurst_exponent']))"
   ]
  },
  {
   "cell_type": "markdown",
   "metadata": {},
   "source": [
    "Are there any signs these pairs were not profitable as the strategy evolves? Could we have predicted their lack of profitability?\n",
    "- Using a ML algorithm that recognizes when a pair is not profitable anymore.\n",
    "- Checking how the hurst exponent has been changing.\n",
    "- Analyze their previous positions' returns"
   ]
  }
 ],
 "metadata": {
  "kernelspec": {
   "display_name": "Python [conda root]",
   "language": "python",
   "name": "conda-root-py"
  },
  "language_info": {
   "codemirror_mode": {
    "name": "ipython",
    "version": 3
   },
   "file_extension": ".py",
   "mimetype": "text/x-python",
   "name": "python",
   "nbconvert_exporter": "python",
   "pygments_lexer": "ipython3",
   "version": "3.6.0"
  }
 },
 "nbformat": 4,
 "nbformat_minor": 2
}
