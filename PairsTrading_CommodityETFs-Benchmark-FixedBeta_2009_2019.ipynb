{
 "cells": [
  {
   "cell_type": "markdown",
   "metadata": {},
   "source": [
    "# A benchmark Pairs Trading strategy \n",
    "\n",
    "This notebook explores a pairs trading strategy using bollinger bands. This projected is being developed as part of a master thesis for the degree of Electrical and Computer Engineering.\n",
    "\n",
    "**Author:** Simão Moraes Sarmento <br /> \n",
    "**Contact:** simaosarmento@hotmail.com"
   ]
  },
  {
   "cell_type": "markdown",
   "metadata": {},
   "source": [
    "## Dependencies\n",
    "\n",
    "This notebook requires code from:\n",
    "\n",
    "Python files:\n",
    "- `class_SeriesAnalyser.py` - contains a set of functions to deal with time series analysis.\n",
    "- `class_Trader.py` - contains a set of functions concerning trading strategies.\n",
    "- `class_DataProcessor.py` - contains a set of functions concerning the data pre processing.\n",
    "\n",
    "Pickle files:\n",
    "- pickle file containing pairs to be traded (obtained from running `PairsTrading_CommodityETFs-Clustering.ipynb`)\n",
    "\n",
    "As a good practise, the notebook solely intends to exemplify the application of different trading strategies for different dataset examples, rather than coding the strategies theirselves. Please look into the files menitoned above for more detailed info on how the functions are built."
   ]
  },
  {
   "cell_type": "markdown",
   "metadata": {},
   "source": [
    "### Import Libraries"
   ]
  },
  {
   "cell_type": "code",
   "execution_count": 2,
   "metadata": {},
   "outputs": [],
   "source": [
    "import numpy as np\n",
    "import pandas as pd\n",
    "import pickle\n",
    "\n",
    "import json\n",
    "\n",
    "import statsmodels\n",
    "import statsmodels.api as sm\n",
    "from statsmodels.tsa.stattools import coint, adfuller\n",
    "\n",
    "import matplotlib.pyplot as plt\n",
    "import matplotlib.cm as cm\n",
    "\n",
    "# Import Datetime and the Pandas DataReader\n",
    "from datetime import datetime\n",
    "from pandas_datareader import data, wb\n",
    "\n",
    "# Import alpha vantage\n",
    "from alpha_vantage.timeseries import TimeSeries\n",
    "\n",
    "# Import scikit instruments\n",
    "from sklearn.cluster import DBSCAN\n",
    "from sklearn.decomposition import PCA\n",
    "from sklearn.manifold import TSNE\n",
    "from sklearn import preprocessing\n",
    "from sklearn.metrics import silhouette_score\n",
    "\n",
    "# just set the seed for the random number generator\n",
    "np.random.seed(107)"
   ]
  },
  {
   "cell_type": "markdown",
   "metadata": {},
   "source": [
    "### Import Configurations"
   ]
  },
  {
   "cell_type": "code",
   "execution_count": 3,
   "metadata": {},
   "outputs": [],
   "source": [
    "config_file = 'config/config_commodities_2010_2019.json'"
   ]
  },
  {
   "cell_type": "code",
   "execution_count": 4,
   "metadata": {},
   "outputs": [],
   "source": [
    "with open(config_file, 'r') as f:\n",
    "    config = json.load(f)"
   ]
  },
  {
   "cell_type": "code",
   "execution_count": 5,
   "metadata": {},
   "outputs": [],
   "source": [
    "with open(config['dataset']['ticker_segment_dict'], 'rb') as handle:\n",
    "    ticker_segment_dict = pickle.load(handle)"
   ]
  },
  {
   "cell_type": "markdown",
   "metadata": {},
   "source": [
    "### Import Classes"
   ]
  },
  {
   "cell_type": "code",
   "execution_count": 6,
   "metadata": {},
   "outputs": [],
   "source": [
    "%load_ext autoreload\n",
    "%aimport class_SeriesAnalyser, class_Trader, class_DataProcessor\n",
    "%autoreload 1"
   ]
  },
  {
   "cell_type": "code",
   "execution_count": 7,
   "metadata": {},
   "outputs": [],
   "source": [
    "series_analyser = class_SeriesAnalyser.SeriesAnalyser()\n",
    "trader = class_Trader.Trader()\n",
    "data_processor = class_DataProcessor.DataProcessor()"
   ]
  },
  {
   "cell_type": "markdown",
   "metadata": {},
   "source": [
    "# Retrieve prices data set"
   ]
  },
  {
   "cell_type": "markdown",
   "metadata": {},
   "source": [
    "We start by retrieving the data from a Dataframe saved in a pickle file, as it was previously processed in the `PairsTrading_CommodityETFS_Datapreprocessing.ipynb` notebook."
   ]
  },
  {
   "cell_type": "code",
   "execution_count": 8,
   "metadata": {},
   "outputs": [],
   "source": [
    "# intraday\n",
    "df_prices = pd.read_pickle('data/etfs/pickle/commodity_ETFs_intraday_interpolated_screened_no_outliers.pickle')\n",
    "\n",
    "# inter day\n",
    "#df_prices = pd.read_pickle('data/etfs/pickle/commodity_ETFs_interpolated_screened')"
   ]
  },
  {
   "cell_type": "code",
   "execution_count": 9,
   "metadata": {},
   "outputs": [
    {
     "name": "stdout",
     "output_type": "stream",
     "text": [
      "Total of 59 tickers\n",
      "Total of 58 tickers after removing tickers with Nan values\n"
     ]
    }
   ],
   "source": [
    "# split data in training and test\n",
    "df_prices_train, df_prices_test = data_processor.split_data(df_prices,\n",
    "                                                            ('01-01-2009',\n",
    "                                                             '31-12-2017'),\n",
    "                                                            ('01-01-2018',\n",
    "                                                             '31-12-2018'),\n",
    "                                                            remove_nan=True)"
   ]
  },
  {
   "cell_type": "code",
   "execution_count": 10,
   "metadata": {},
   "outputs": [
    {
     "data": {
      "text/plain": [
       "195414"
      ]
     },
     "execution_count": 10,
     "metadata": {},
     "output_type": "execute_result"
    }
   ],
   "source": [
    "len(df_prices_train)+len(df_prices_test)"
   ]
  },
  {
   "cell_type": "markdown",
   "metadata": {},
   "source": [
    "# Load Pairs"
   ]
  },
  {
   "cell_type": "code",
   "execution_count": 11,
   "metadata": {},
   "outputs": [],
   "source": [
    "# intra day\n",
    "#with open('data/etfs/pickle/pairs_unfiltered_intraday.pickle', 'rb') as handle:\n",
    "#    pairs = pickle.load(handle)\n",
    "\n",
    "#with open('data/etfs/pickle/pairs_category_intraday.pickle', 'rb') as handle:\n",
    "#    pairs = pickle.load(handle)\n",
    "\n",
    "#with open('data/etfs/pickle/pairs_unsupervised_learning_intraday.pickle', 'rb') as handle:#/2009-2019/\n",
    "with open('data/etfs/pickle/2009-2019/pairs_unsupervised_learning_optical_intraday.pickle', 'rb') as handle:\n",
    "    pairs = pickle.load(handle)\n",
    "    \n",
    "# interday  \n",
    "#with open('data/etfs/pickle/pairs_unfiltered_interday.pickle', 'rb') as handle:\n",
    "#    pairs = pickle.load(handle)\n",
    "\n",
    "#with open('data/etfs/pickle/pairs_category_interday.pickle', 'rb') as handle:\n",
    "#    pairs = pickle.load(handle)\n",
    "\n",
    "#with open('data/etfs/pickle/pairs_unsupervised_learning_interday.pickle', 'rb') as handle:\n",
    "#    pairs = pickle.load(handle)"
   ]
  },
  {
   "cell_type": "code",
   "execution_count": 12,
   "metadata": {},
   "outputs": [
    {
     "data": {
      "text/plain": [
       "5"
      ]
     },
     "execution_count": 12,
     "metadata": {},
     "output_type": "execute_result"
    }
   ],
   "source": [
    "len(pairs)"
   ]
  },
  {
   "cell_type": "code",
   "execution_count": 13,
   "metadata": {},
   "outputs": [],
   "source": [
    "lookback_multiplier= config['trading']['lookback_multiplier']\n",
    "entry_multiplier= config['trading']['entry_multiplier']\n",
    "exit_multiplier= config['trading']['exit_multiplier']\n",
    "# obtain trading filter info\n",
    "if config['trading_filter']['active'] == 1:\n",
    "    trading_filter = config['trading_filter']\n",
    "else:\n",
    "    trading_filter = None"
   ]
  },
  {
   "cell_type": "markdown",
   "metadata": {},
   "source": [
    "# Apply trading strategies"
   ]
  },
  {
   "cell_type": "markdown",
   "metadata": {},
   "source": [
    "**Applying the fixed beta strategy in validation period**"
   ]
  },
  {
   "cell_type": "code",
   "execution_count": 14,
   "metadata": {},
   "outputs": [
    {
     "data": {
      "text/plain": [
       "1"
      ]
     },
     "execution_count": 14,
     "metadata": {},
     "output_type": "execute_result"
    }
   ],
   "source": [
    "train_val_split = '2017-01-01'\n",
    "\n",
    "# intraday\n",
    "n_years_val = round(len(df_prices_train[train_val_split:])/(240*78))\n",
    "\n",
    "# interday\n",
    "#n_years_val = round(len(df_prices_train)/(240))\n",
    "\n",
    "n_years_val"
   ]
  },
  {
   "cell_type": "code",
   "execution_count": 15,
   "metadata": {
    "scrolled": true
   },
   "outputs": [
    {
     "name": "stdout",
     "output_type": "stream",
     "text": [
      "Pair: 5/5"
     ]
    }
   ],
   "source": [
    "train_results_without_costs, train_results_with_costs, performance_threshold_train = \\\n",
    "        trader.apply_trading_strategy(pairs, \n",
    "                                        strategy='fixed_beta',\n",
    "                                        entry_multiplier=2,\n",
    "                                        exit_multiplier=0.5,\n",
    "                                        test_mode=False,\n",
    "                                        train_val_split=train_val_split\n",
    "                                       )\n",
    "\n",
    "sharpe_results_threshold_train_nocosts, cum_returns_threshold_train_nocosts = train_results_without_costs\n",
    "sharpe_results_threshold_train_w_costs, cum_returns_threshold_train_w_costs = train_results_with_costs"
   ]
  },
  {
   "cell_type": "code",
   "execution_count": 16,
   "metadata": {},
   "outputs": [
    {
     "name": "stdout",
     "output_type": "stream",
     "text": [
      "Average result:  0.9296033945354896\n",
      "avg_annual_roi:  6.096059064443171\n",
      "80.0 % of the pairs had positive returns\n"
     ]
    }
   ],
   "source": [
    "# WARNING: MUST CHANGE SHARPE RATIO\n",
    "avg_sharpe_train, total_roi_train, anual_roi_train, positive_pct_train = \\\n",
    "    trader.calculate_metrics(sharpe_results_threshold_train_w_costs, cum_returns_threshold_train_w_costs,\n",
    "                             n_years_val)"
   ]
  },
  {
   "cell_type": "code",
   "execution_count": 17,
   "metadata": {},
   "outputs": [
    {
     "name": "stdout",
     "output_type": "stream",
     "text": [
      "Sharpe Ratio Distribution: \n"
     ]
    },
    {
     "data": {
      "image/png": "[encoded data removed]",
      "text/plain": [
       "<matplotlib.figure.Figure at 0x114d72668>"
      ]
     },
     "metadata": {},
     "output_type": "display_data"
    }
   ],
   "source": [
    "print('Sharpe Ratio Distribution: ')\n",
    "n, bins, patches = plt.hist(sharpe_results_threshold_train_w_costs, bins = 16, normed=True, orientation='vertical',\n",
    "                            color='red', rwidth=0.9, align='mid')"
   ]
  },
  {
   "cell_type": "code",
   "execution_count": 18,
   "metadata": {},
   "outputs": [
    {
     "data": {
      "text/plain": [
       "[-3.44788488806701,\n",
       " 4.418434153483375,\n",
       " 3.1750462189374717,\n",
       " 15.79832626804356,\n",
       " 10.536373569818469]"
      ]
     },
     "execution_count": 18,
     "metadata": {},
     "output_type": "execute_result"
    }
   ],
   "source": [
    "cum_returns_threshold_train_w_costs"
   ]
  },
  {
   "cell_type": "code",
   "execution_count": 19,
   "metadata": {},
   "outputs": [
    {
     "name": "stdout",
     "output_type": "stream",
     "text": [
      "Average result:  0.9296033945354896\n",
      "avg_annual_roi:  6.096059064443171\n",
      "80.0 % of the pairs had positive returns\n"
     ]
    }
   ],
   "source": [
    "results_training, pairs_summary_training = trader.summarize_results(sharpe_results_threshold_train_w_costs,\n",
    "                                                                    cum_returns_threshold_train_w_costs,\n",
    "                                                                    performance_threshold_train,\n",
    "                                                                    pairs,\n",
    "                                                                    ticker_segment_dict, n_years_val)"
   ]
  },
  {
   "cell_type": "markdown",
   "metadata": {},
   "source": [
    "# Out of Sample Analysis\n",
    "\n",
    "In this section, we analyze the performance of the strategy in the validation dataset. \n",
    "\n",
    "We proceed with some data exploration analysis. For this purpose we will do the following:\n",
    "\n",
    "- Analyze which percentage of the identified pairs are still cointegrated in the validation period.\n",
    "- Analyze which percentage of pairs have positive returns, and how many of those are still cointegrated.\n",
    "- Analyze how many new pais were not identified to be cointegrated up to the validation period.\n",
    "- Run strategy for identified pairs in training period.\n",
    "\n",
    "This analysis will help us getting some insight into how the cointegrated pairs vary from time to time, and therefore how we should allocate our resources to predict when pairs are not cointegrated anymore."
   ]
  },
  {
   "cell_type": "markdown",
   "metadata": {},
   "source": [
    "## Applying the Strategy out-of Sample\n",
    "\n",
    "We might want to apply the strategy in all pairs identified. Or, instead, we might prefer to apply the strategy only on those pairs that turned out to be profitable. Let's compare how both approaches work:"
   ]
  },
  {
   "cell_type": "code",
   "execution_count": 20,
   "metadata": {},
   "outputs": [
    {
     "data": {
      "text/plain": [
       "1"
      ]
     },
     "execution_count": 20,
     "metadata": {},
     "output_type": "execute_result"
    }
   ],
   "source": [
    "# intraday\n",
    "n_years_test = round(len(df_prices_test)/(240*78))\n",
    "\n",
    "# interday\n",
    "#n_years_test = round(len(df_prices_test)/(240))\n",
    "\n",
    "n_years_test"
   ]
  },
  {
   "cell_type": "markdown",
   "metadata": {},
   "source": [
    "### Approach 1: Keeping every pair"
   ]
  },
  {
   "cell_type": "markdown",
   "metadata": {},
   "source": [
    "**Basic Threshold Strategy**"
   ]
  },
  {
   "cell_type": "code",
   "execution_count": 21,
   "metadata": {},
   "outputs": [
    {
     "name": "stdout",
     "output_type": "stream",
     "text": [
      "Pair: 5/5"
     ]
    }
   ],
   "source": [
    "results_without_costs, results_with_costs, performance_threshold_test = trader.apply_trading_strategy(pairs,\n",
    "                                                                                             'fixed_beta',\n",
    "                                                                                             2,\n",
    "                                                                                             0,\n",
    "                                                                                             test_mode=True)\n",
    "sharpe_results_threshold_test_nocosts, cum_returns_threshold_test_nocosts = results_without_costs\n",
    "sharpe_results_threshold_test_w_costs, cum_returns_threshold_test_w_costs = results_with_costs"
   ]
  },
  {
   "cell_type": "code",
   "execution_count": 22,
   "metadata": {},
   "outputs": [
    {
     "name": "stdout",
     "output_type": "stream",
     "text": [
      "Average result:  2.2159600231046337\n",
      "avg_annual_roi:  19.912529652484157\n",
      "80.0 % of the pairs had positive returns\n"
     ]
    }
   ],
   "source": [
    "_, _, _, _ = trader.calculate_metrics(sharpe_results_threshold_test_w_costs, cum_returns_threshold_test_w_costs,\n",
    "                                      n_years_test)"
   ]
  },
  {
   "cell_type": "code",
   "execution_count": 23,
   "metadata": {},
   "outputs": [
    {
     "data": {
      "text/plain": [
       "[17.32680819215542,\n",
       " 9.263283520258137,\n",
       " 7.840980679162657,\n",
       " -1.1776828014536833,\n",
       " 66.30925867229831]"
      ]
     },
     "execution_count": 23,
     "metadata": {},
     "output_type": "execute_result"
    }
   ],
   "source": [
    "cum_returns_threshold_test_w_costs"
   ]
  },
  {
   "cell_type": "code",
   "execution_count": 24,
   "metadata": {},
   "outputs": [
    {
     "data": {
      "text/html": [
       "<div>\n",
       "<style scoped>\n",
       "    .dataframe tbody tr th:only-of-type {\n",
       "        vertical-align: middle;\n",
       "    }\n",
       "\n",
       "    .dataframe tbody tr th {\n",
       "        vertical-align: top;\n",
       "    }\n",
       "\n",
       "    .dataframe thead th {\n",
       "        text-align: right;\n",
       "    }\n",
       "</style>\n",
       "<table border=\"1\" class=\"dataframe\">\n",
       "  <thead>\n",
       "    <tr style=\"text-align: right;\">\n",
       "      <th></th>\n",
       "      <th>pnl</th>\n",
       "      <th>pnl_y</th>\n",
       "      <th>pnl_x</th>\n",
       "      <th>account_balance</th>\n",
       "      <th>returns</th>\n",
       "      <th>position_return</th>\n",
       "      <th>RJA</th>\n",
       "      <th>GCC</th>\n",
       "      <th>norm_spread</th>\n",
       "      <th>position_during_day</th>\n",
       "      <th>trading_duration</th>\n",
       "      <th>position_ret_with_costs</th>\n",
       "    </tr>\n",
       "  </thead>\n",
       "  <tbody>\n",
       "    <tr>\n",
       "      <th>2018-05-29 15:50:00</th>\n",
       "      <td>0.000000</td>\n",
       "      <td>0.000000</td>\n",
       "      <td>0.000000</td>\n",
       "      <td>1.000000</td>\n",
       "      <td>0.000000</td>\n",
       "      <td>0.0</td>\n",
       "      <td>6.470</td>\n",
       "      <td>19.730</td>\n",
       "      <td>1.880084</td>\n",
       "      <td>0.0</td>\n",
       "      <td>0</td>\n",
       "      <td>0.0</td>\n",
       "    </tr>\n",
       "    <tr>\n",
       "      <th>2018-05-29 15:55:00</th>\n",
       "      <td>0.000000</td>\n",
       "      <td>0.000000</td>\n",
       "      <td>0.000000</td>\n",
       "      <td>1.000000</td>\n",
       "      <td>0.000000</td>\n",
       "      <td>0.0</td>\n",
       "      <td>6.475</td>\n",
       "      <td>19.730</td>\n",
       "      <td>1.929624</td>\n",
       "      <td>0.0</td>\n",
       "      <td>0</td>\n",
       "      <td>0.0</td>\n",
       "    </tr>\n",
       "    <tr>\n",
       "      <th>2018-05-29 16:00:00</th>\n",
       "      <td>0.000000</td>\n",
       "      <td>0.000000</td>\n",
       "      <td>0.000000</td>\n",
       "      <td>1.000000</td>\n",
       "      <td>0.000000</td>\n",
       "      <td>0.0</td>\n",
       "      <td>6.475</td>\n",
       "      <td>19.730</td>\n",
       "      <td>1.929624</td>\n",
       "      <td>0.0</td>\n",
       "      <td>0</td>\n",
       "      <td>0.0</td>\n",
       "    </tr>\n",
       "    <tr>\n",
       "      <th>2018-05-29 16:05:00</th>\n",
       "      <td>0.000000</td>\n",
       "      <td>0.000000</td>\n",
       "      <td>0.000000</td>\n",
       "      <td>1.000000</td>\n",
       "      <td>0.000000</td>\n",
       "      <td>0.0</td>\n",
       "      <td>6.475</td>\n",
       "      <td>19.730</td>\n",
       "      <td>1.929624</td>\n",
       "      <td>0.0</td>\n",
       "      <td>0</td>\n",
       "      <td>0.0</td>\n",
       "    </tr>\n",
       "    <tr>\n",
       "      <th>2018-05-29 16:10:00</th>\n",
       "      <td>0.000000</td>\n",
       "      <td>0.000000</td>\n",
       "      <td>0.000000</td>\n",
       "      <td>1.000000</td>\n",
       "      <td>0.000000</td>\n",
       "      <td>0.0</td>\n",
       "      <td>6.475</td>\n",
       "      <td>19.730</td>\n",
       "      <td>1.929624</td>\n",
       "      <td>0.0</td>\n",
       "      <td>0</td>\n",
       "      <td>0.0</td>\n",
       "    </tr>\n",
       "    <tr>\n",
       "      <th>2018-05-29 16:15:00</th>\n",
       "      <td>0.000000</td>\n",
       "      <td>0.000000</td>\n",
       "      <td>0.000000</td>\n",
       "      <td>1.000000</td>\n",
       "      <td>0.000000</td>\n",
       "      <td>0.0</td>\n",
       "      <td>6.470</td>\n",
       "      <td>19.730</td>\n",
       "      <td>1.880084</td>\n",
       "      <td>0.0</td>\n",
       "      <td>0</td>\n",
       "      <td>0.0</td>\n",
       "    </tr>\n",
       "    <tr>\n",
       "      <th>2018-05-29 16:20:00</th>\n",
       "      <td>0.000000</td>\n",
       "      <td>0.000000</td>\n",
       "      <td>0.000000</td>\n",
       "      <td>1.000000</td>\n",
       "      <td>0.000000</td>\n",
       "      <td>0.0</td>\n",
       "      <td>6.470</td>\n",
       "      <td>19.730</td>\n",
       "      <td>1.880084</td>\n",
       "      <td>0.0</td>\n",
       "      <td>0</td>\n",
       "      <td>0.0</td>\n",
       "    </tr>\n",
       "    <tr>\n",
       "      <th>2018-05-29 16:25:00</th>\n",
       "      <td>0.000000</td>\n",
       "      <td>0.000000</td>\n",
       "      <td>0.000000</td>\n",
       "      <td>1.000000</td>\n",
       "      <td>0.000000</td>\n",
       "      <td>0.0</td>\n",
       "      <td>6.470</td>\n",
       "      <td>19.730</td>\n",
       "      <td>1.880084</td>\n",
       "      <td>0.0</td>\n",
       "      <td>0</td>\n",
       "      <td>0.0</td>\n",
       "    </tr>\n",
       "    <tr>\n",
       "      <th>2018-05-29 16:30:00</th>\n",
       "      <td>0.000000</td>\n",
       "      <td>0.000000</td>\n",
       "      <td>0.000000</td>\n",
       "      <td>1.000000</td>\n",
       "      <td>0.000000</td>\n",
       "      <td>0.0</td>\n",
       "      <td>6.470</td>\n",
       "      <td>19.730</td>\n",
       "      <td>1.880084</td>\n",
       "      <td>0.0</td>\n",
       "      <td>0</td>\n",
       "      <td>0.0</td>\n",
       "    </tr>\n",
       "    <tr>\n",
       "      <th>2018-05-29 16:35:00</th>\n",
       "      <td>0.000000</td>\n",
       "      <td>0.000000</td>\n",
       "      <td>0.000000</td>\n",
       "      <td>1.000000</td>\n",
       "      <td>0.000000</td>\n",
       "      <td>0.0</td>\n",
       "      <td>6.470</td>\n",
       "      <td>19.670</td>\n",
       "      <td>2.047524</td>\n",
       "      <td>0.0</td>\n",
       "      <td>0</td>\n",
       "      <td>0.0</td>\n",
       "    </tr>\n",
       "    <tr>\n",
       "      <th>2018-05-29 16:40:00</th>\n",
       "      <td>-0.000497</td>\n",
       "      <td>0.000291</td>\n",
       "      <td>-0.000789</td>\n",
       "      <td>0.999503</td>\n",
       "      <td>-0.000497</td>\n",
       "      <td>0.0</td>\n",
       "      <td>6.450</td>\n",
       "      <td>19.670</td>\n",
       "      <td>1.849365</td>\n",
       "      <td>-1.0</td>\n",
       "      <td>0</td>\n",
       "      <td>0.0</td>\n",
       "    </tr>\n",
       "    <tr>\n",
       "      <th>2018-05-29 16:45:00</th>\n",
       "      <td>-0.000243</td>\n",
       "      <td>-0.000000</td>\n",
       "      <td>-0.000243</td>\n",
       "      <td>0.999259</td>\n",
       "      <td>-0.000244</td>\n",
       "      <td>0.0</td>\n",
       "      <td>6.450</td>\n",
       "      <td>19.653</td>\n",
       "      <td>1.896806</td>\n",
       "      <td>-1.0</td>\n",
       "      <td>0</td>\n",
       "      <td>0.0</td>\n",
       "    </tr>\n",
       "    <tr>\n",
       "      <th>2018-05-29 16:50:00</th>\n",
       "      <td>0.000000</td>\n",
       "      <td>-0.000000</td>\n",
       "      <td>0.000000</td>\n",
       "      <td>0.999259</td>\n",
       "      <td>0.000000</td>\n",
       "      <td>0.0</td>\n",
       "      <td>6.450</td>\n",
       "      <td>19.653</td>\n",
       "      <td>1.896806</td>\n",
       "      <td>-1.0</td>\n",
       "      <td>0</td>\n",
       "      <td>0.0</td>\n",
       "    </tr>\n",
       "    <tr>\n",
       "      <th>2018-05-29 16:55:00</th>\n",
       "      <td>0.000000</td>\n",
       "      <td>-0.000000</td>\n",
       "      <td>0.000000</td>\n",
       "      <td>0.999259</td>\n",
       "      <td>0.000000</td>\n",
       "      <td>0.0</td>\n",
       "      <td>6.450</td>\n",
       "      <td>19.653</td>\n",
       "      <td>1.896806</td>\n",
       "      <td>-1.0</td>\n",
       "      <td>0</td>\n",
       "      <td>0.0</td>\n",
       "    </tr>\n",
       "    <tr>\n",
       "      <th>2018-05-29 17:00:00</th>\n",
       "      <td>0.001546</td>\n",
       "      <td>0.001546</td>\n",
       "      <td>0.000000</td>\n",
       "      <td>1.000805</td>\n",
       "      <td>0.001547</td>\n",
       "      <td>0.0</td>\n",
       "      <td>6.440</td>\n",
       "      <td>19.653</td>\n",
       "      <td>1.797727</td>\n",
       "      <td>-1.0</td>\n",
       "      <td>0</td>\n",
       "      <td>0.0</td>\n",
       "    </tr>\n",
       "    <tr>\n",
       "      <th>2018-05-29 17:05:00</th>\n",
       "      <td>0.001460</td>\n",
       "      <td>0.001546</td>\n",
       "      <td>-0.000086</td>\n",
       "      <td>1.002264</td>\n",
       "      <td>0.001459</td>\n",
       "      <td>0.0</td>\n",
       "      <td>6.430</td>\n",
       "      <td>19.647</td>\n",
       "      <td>1.715391</td>\n",
       "      <td>-1.0</td>\n",
       "      <td>0</td>\n",
       "      <td>0.0</td>\n",
       "    </tr>\n",
       "    <tr>\n",
       "      <th>2018-05-29 17:10:00</th>\n",
       "      <td>0.000000</td>\n",
       "      <td>-0.000000</td>\n",
       "      <td>0.000000</td>\n",
       "      <td>1.002264</td>\n",
       "      <td>0.000000</td>\n",
       "      <td>0.0</td>\n",
       "      <td>6.430</td>\n",
       "      <td>19.647</td>\n",
       "      <td>1.715391</td>\n",
       "      <td>-1.0</td>\n",
       "      <td>0</td>\n",
       "      <td>0.0</td>\n",
       "    </tr>\n",
       "    <tr>\n",
       "      <th>2018-05-29 17:15:00</th>\n",
       "      <td>0.000000</td>\n",
       "      <td>-0.000000</td>\n",
       "      <td>0.000000</td>\n",
       "      <td>1.002264</td>\n",
       "      <td>0.000000</td>\n",
       "      <td>0.0</td>\n",
       "      <td>6.430</td>\n",
       "      <td>19.647</td>\n",
       "      <td>1.715391</td>\n",
       "      <td>-1.0</td>\n",
       "      <td>0</td>\n",
       "      <td>0.0</td>\n",
       "    </tr>\n",
       "    <tr>\n",
       "      <th>2018-05-29 17:20:00</th>\n",
       "      <td>0.000000</td>\n",
       "      <td>-0.000000</td>\n",
       "      <td>0.000000</td>\n",
       "      <td>1.002264</td>\n",
       "      <td>0.000000</td>\n",
       "      <td>0.0</td>\n",
       "      <td>6.430</td>\n",
       "      <td>19.647</td>\n",
       "      <td>1.715391</td>\n",
       "      <td>-1.0</td>\n",
       "      <td>0</td>\n",
       "      <td>0.0</td>\n",
       "    </tr>\n",
       "    <tr>\n",
       "      <th>2018-05-29 17:25:00</th>\n",
       "      <td>0.000000</td>\n",
       "      <td>-0.000000</td>\n",
       "      <td>0.000000</td>\n",
       "      <td>1.002264</td>\n",
       "      <td>0.000000</td>\n",
       "      <td>0.0</td>\n",
       "      <td>6.430</td>\n",
       "      <td>19.647</td>\n",
       "      <td>1.715391</td>\n",
       "      <td>-1.0</td>\n",
       "      <td>0</td>\n",
       "      <td>0.0</td>\n",
       "    </tr>\n",
       "    <tr>\n",
       "      <th>2018-05-29 17:30:00</th>\n",
       "      <td>0.000000</td>\n",
       "      <td>-0.000000</td>\n",
       "      <td>0.000000</td>\n",
       "      <td>1.002264</td>\n",
       "      <td>0.000000</td>\n",
       "      <td>0.0</td>\n",
       "      <td>6.430</td>\n",
       "      <td>19.647</td>\n",
       "      <td>1.715391</td>\n",
       "      <td>-1.0</td>\n",
       "      <td>0</td>\n",
       "      <td>0.0</td>\n",
       "    </tr>\n",
       "    <tr>\n",
       "      <th>2018-05-29 17:35:00</th>\n",
       "      <td>0.000000</td>\n",
       "      <td>-0.000000</td>\n",
       "      <td>0.000000</td>\n",
       "      <td>1.002264</td>\n",
       "      <td>0.000000</td>\n",
       "      <td>0.0</td>\n",
       "      <td>6.430</td>\n",
       "      <td>19.647</td>\n",
       "      <td>1.715391</td>\n",
       "      <td>-1.0</td>\n",
       "      <td>0</td>\n",
       "      <td>0.0</td>\n",
       "    </tr>\n",
       "    <tr>\n",
       "      <th>2018-05-29 17:40:00</th>\n",
       "      <td>0.000000</td>\n",
       "      <td>-0.000000</td>\n",
       "      <td>0.000000</td>\n",
       "      <td>1.002264</td>\n",
       "      <td>0.000000</td>\n",
       "      <td>0.0</td>\n",
       "      <td>6.430</td>\n",
       "      <td>19.647</td>\n",
       "      <td>1.715391</td>\n",
       "      <td>-1.0</td>\n",
       "      <td>0</td>\n",
       "      <td>0.0</td>\n",
       "    </tr>\n",
       "    <tr>\n",
       "      <th>2018-05-29 17:45:00</th>\n",
       "      <td>0.000000</td>\n",
       "      <td>-0.000000</td>\n",
       "      <td>0.000000</td>\n",
       "      <td>1.002264</td>\n",
       "      <td>0.000000</td>\n",
       "      <td>0.0</td>\n",
       "      <td>6.430</td>\n",
       "      <td>19.647</td>\n",
       "      <td>1.715391</td>\n",
       "      <td>-1.0</td>\n",
       "      <td>0</td>\n",
       "      <td>0.0</td>\n",
       "    </tr>\n",
       "    <tr>\n",
       "      <th>2018-05-29 17:50:00</th>\n",
       "      <td>0.000000</td>\n",
       "      <td>-0.000000</td>\n",
       "      <td>0.000000</td>\n",
       "      <td>1.002264</td>\n",
       "      <td>0.000000</td>\n",
       "      <td>0.0</td>\n",
       "      <td>6.430</td>\n",
       "      <td>19.647</td>\n",
       "      <td>1.715391</td>\n",
       "      <td>-1.0</td>\n",
       "      <td>0</td>\n",
       "      <td>0.0</td>\n",
       "    </tr>\n",
       "    <tr>\n",
       "      <th>2018-05-29 17:55:00</th>\n",
       "      <td>0.000000</td>\n",
       "      <td>-0.000000</td>\n",
       "      <td>0.000000</td>\n",
       "      <td>1.002264</td>\n",
       "      <td>0.000000</td>\n",
       "      <td>0.0</td>\n",
       "      <td>6.430</td>\n",
       "      <td>19.647</td>\n",
       "      <td>1.715391</td>\n",
       "      <td>-1.0</td>\n",
       "      <td>0</td>\n",
       "      <td>0.0</td>\n",
       "    </tr>\n",
       "    <tr>\n",
       "      <th>2018-05-29 18:00:00</th>\n",
       "      <td>0.000100</td>\n",
       "      <td>-0.000000</td>\n",
       "      <td>0.000100</td>\n",
       "      <td>1.002365</td>\n",
       "      <td>0.000100</td>\n",
       "      <td>0.0</td>\n",
       "      <td>6.430</td>\n",
       "      <td>19.654</td>\n",
       "      <td>1.695857</td>\n",
       "      <td>-1.0</td>\n",
       "      <td>0</td>\n",
       "      <td>0.0</td>\n",
       "    </tr>\n",
       "    <tr>\n",
       "      <th>2018-05-29 18:05:00</th>\n",
       "      <td>0.000000</td>\n",
       "      <td>-0.000000</td>\n",
       "      <td>0.000000</td>\n",
       "      <td>1.002365</td>\n",
       "      <td>0.000000</td>\n",
       "      <td>0.0</td>\n",
       "      <td>6.430</td>\n",
       "      <td>19.654</td>\n",
       "      <td>1.695857</td>\n",
       "      <td>-1.0</td>\n",
       "      <td>0</td>\n",
       "      <td>0.0</td>\n",
       "    </tr>\n",
       "    <tr>\n",
       "      <th>2018-05-29 18:10:00</th>\n",
       "      <td>0.000000</td>\n",
       "      <td>-0.000000</td>\n",
       "      <td>0.000000</td>\n",
       "      <td>1.002365</td>\n",
       "      <td>0.000000</td>\n",
       "      <td>0.0</td>\n",
       "      <td>6.430</td>\n",
       "      <td>19.654</td>\n",
       "      <td>1.695857</td>\n",
       "      <td>-1.0</td>\n",
       "      <td>0</td>\n",
       "      <td>0.0</td>\n",
       "    </tr>\n",
       "    <tr>\n",
       "      <th>2018-05-29 18:15:00</th>\n",
       "      <td>0.000000</td>\n",
       "      <td>-0.000000</td>\n",
       "      <td>0.000000</td>\n",
       "      <td>1.002365</td>\n",
       "      <td>0.000000</td>\n",
       "      <td>0.0</td>\n",
       "      <td>6.430</td>\n",
       "      <td>19.654</td>\n",
       "      <td>1.695857</td>\n",
       "      <td>-1.0</td>\n",
       "      <td>0</td>\n",
       "      <td>0.0</td>\n",
       "    </tr>\n",
       "    <tr>\n",
       "      <th>...</th>\n",
       "      <td>...</td>\n",
       "      <td>...</td>\n",
       "      <td>...</td>\n",
       "      <td>...</td>\n",
       "      <td>...</td>\n",
       "      <td>...</td>\n",
       "      <td>...</td>\n",
       "      <td>...</td>\n",
       "      <td>...</td>\n",
       "      <td>...</td>\n",
       "      <td>...</td>\n",
       "      <td>...</td>\n",
       "    </tr>\n",
       "    <tr>\n",
       "      <th>2018-05-30 17:35:00</th>\n",
       "      <td>0.000000</td>\n",
       "      <td>-0.000000</td>\n",
       "      <td>0.000000</td>\n",
       "      <td>1.010494</td>\n",
       "      <td>0.000000</td>\n",
       "      <td>0.0</td>\n",
       "      <td>6.385</td>\n",
       "      <td>19.736</td>\n",
       "      <td>1.021164</td>\n",
       "      <td>-1.0</td>\n",
       "      <td>0</td>\n",
       "      <td>0.0</td>\n",
       "    </tr>\n",
       "    <tr>\n",
       "      <th>2018-05-30 17:40:00</th>\n",
       "      <td>0.000223</td>\n",
       "      <td>0.000309</td>\n",
       "      <td>-0.000086</td>\n",
       "      <td>1.010717</td>\n",
       "      <td>0.000221</td>\n",
       "      <td>0.0</td>\n",
       "      <td>6.383</td>\n",
       "      <td>19.730</td>\n",
       "      <td>1.018092</td>\n",
       "      <td>-1.0</td>\n",
       "      <td>0</td>\n",
       "      <td>0.0</td>\n",
       "    </tr>\n",
       "    <tr>\n",
       "      <th>2018-05-30 17:45:00</th>\n",
       "      <td>0.000000</td>\n",
       "      <td>-0.000000</td>\n",
       "      <td>0.000000</td>\n",
       "      <td>1.010717</td>\n",
       "      <td>0.000000</td>\n",
       "      <td>0.0</td>\n",
       "      <td>6.383</td>\n",
       "      <td>19.730</td>\n",
       "      <td>1.018092</td>\n",
       "      <td>-1.0</td>\n",
       "      <td>0</td>\n",
       "      <td>0.0</td>\n",
       "    </tr>\n",
       "    <tr>\n",
       "      <th>2018-05-30 17:50:00</th>\n",
       "      <td>0.000000</td>\n",
       "      <td>-0.000000</td>\n",
       "      <td>0.000000</td>\n",
       "      <td>1.010717</td>\n",
       "      <td>0.000000</td>\n",
       "      <td>0.0</td>\n",
       "      <td>6.383</td>\n",
       "      <td>19.730</td>\n",
       "      <td>1.018092</td>\n",
       "      <td>-1.0</td>\n",
       "      <td>0</td>\n",
       "      <td>0.0</td>\n",
       "    </tr>\n",
       "    <tr>\n",
       "      <th>2018-05-30 17:55:00</th>\n",
       "      <td>0.000000</td>\n",
       "      <td>-0.000000</td>\n",
       "      <td>0.000000</td>\n",
       "      <td>1.010717</td>\n",
       "      <td>0.000000</td>\n",
       "      <td>0.0</td>\n",
       "      <td>6.383</td>\n",
       "      <td>19.730</td>\n",
       "      <td>1.018092</td>\n",
       "      <td>-1.0</td>\n",
       "      <td>0</td>\n",
       "      <td>0.0</td>\n",
       "    </tr>\n",
       "    <tr>\n",
       "      <th>2018-05-30 18:00:00</th>\n",
       "      <td>0.000464</td>\n",
       "      <td>0.000464</td>\n",
       "      <td>0.000000</td>\n",
       "      <td>1.011181</td>\n",
       "      <td>0.000459</td>\n",
       "      <td>0.0</td>\n",
       "      <td>6.380</td>\n",
       "      <td>19.730</td>\n",
       "      <td>0.988368</td>\n",
       "      <td>-1.0</td>\n",
       "      <td>0</td>\n",
       "      <td>0.0</td>\n",
       "    </tr>\n",
       "    <tr>\n",
       "      <th>2018-05-30 18:05:00</th>\n",
       "      <td>0.000000</td>\n",
       "      <td>-0.000000</td>\n",
       "      <td>0.000000</td>\n",
       "      <td>1.011181</td>\n",
       "      <td>0.000000</td>\n",
       "      <td>0.0</td>\n",
       "      <td>6.380</td>\n",
       "      <td>19.730</td>\n",
       "      <td>0.988368</td>\n",
       "      <td>-1.0</td>\n",
       "      <td>0</td>\n",
       "      <td>0.0</td>\n",
       "    </tr>\n",
       "    <tr>\n",
       "      <th>2018-05-30 18:10:00</th>\n",
       "      <td>0.000000</td>\n",
       "      <td>-0.000000</td>\n",
       "      <td>0.000000</td>\n",
       "      <td>1.011181</td>\n",
       "      <td>0.000000</td>\n",
       "      <td>0.0</td>\n",
       "      <td>6.380</td>\n",
       "      <td>19.730</td>\n",
       "      <td>0.988368</td>\n",
       "      <td>-1.0</td>\n",
       "      <td>0</td>\n",
       "      <td>0.0</td>\n",
       "    </tr>\n",
       "    <tr>\n",
       "      <th>2018-05-30 18:15:00</th>\n",
       "      <td>-0.000143</td>\n",
       "      <td>-0.000000</td>\n",
       "      <td>-0.000143</td>\n",
       "      <td>1.011038</td>\n",
       "      <td>-0.000142</td>\n",
       "      <td>0.0</td>\n",
       "      <td>6.380</td>\n",
       "      <td>19.720</td>\n",
       "      <td>1.016275</td>\n",
       "      <td>-1.0</td>\n",
       "      <td>0</td>\n",
       "      <td>0.0</td>\n",
       "    </tr>\n",
       "    <tr>\n",
       "      <th>2018-05-30 18:20:00</th>\n",
       "      <td>0.000000</td>\n",
       "      <td>-0.000000</td>\n",
       "      <td>0.000000</td>\n",
       "      <td>1.011038</td>\n",
       "      <td>0.000000</td>\n",
       "      <td>0.0</td>\n",
       "      <td>6.380</td>\n",
       "      <td>19.720</td>\n",
       "      <td>1.016275</td>\n",
       "      <td>-1.0</td>\n",
       "      <td>0</td>\n",
       "      <td>0.0</td>\n",
       "    </tr>\n",
       "    <tr>\n",
       "      <th>2018-05-30 18:25:00</th>\n",
       "      <td>0.000272</td>\n",
       "      <td>-0.000000</td>\n",
       "      <td>0.000272</td>\n",
       "      <td>1.011310</td>\n",
       "      <td>0.000269</td>\n",
       "      <td>0.0</td>\n",
       "      <td>6.380</td>\n",
       "      <td>19.739</td>\n",
       "      <td>0.963252</td>\n",
       "      <td>-1.0</td>\n",
       "      <td>0</td>\n",
       "      <td>0.0</td>\n",
       "    </tr>\n",
       "    <tr>\n",
       "      <th>2018-05-30 18:30:00</th>\n",
       "      <td>0.000000</td>\n",
       "      <td>-0.000000</td>\n",
       "      <td>0.000000</td>\n",
       "      <td>1.011310</td>\n",
       "      <td>0.000000</td>\n",
       "      <td>0.0</td>\n",
       "      <td>6.380</td>\n",
       "      <td>19.739</td>\n",
       "      <td>0.963252</td>\n",
       "      <td>-1.0</td>\n",
       "      <td>0</td>\n",
       "      <td>0.0</td>\n",
       "    </tr>\n",
       "    <tr>\n",
       "      <th>2018-05-30 18:35:00</th>\n",
       "      <td>0.000000</td>\n",
       "      <td>-0.000000</td>\n",
       "      <td>0.000000</td>\n",
       "      <td>1.011310</td>\n",
       "      <td>0.000000</td>\n",
       "      <td>0.0</td>\n",
       "      <td>6.380</td>\n",
       "      <td>19.739</td>\n",
       "      <td>0.963252</td>\n",
       "      <td>-1.0</td>\n",
       "      <td>0</td>\n",
       "      <td>0.0</td>\n",
       "    </tr>\n",
       "    <tr>\n",
       "      <th>2018-05-30 18:40:00</th>\n",
       "      <td>-0.000258</td>\n",
       "      <td>-0.000000</td>\n",
       "      <td>-0.000258</td>\n",
       "      <td>1.011052</td>\n",
       "      <td>-0.000255</td>\n",
       "      <td>0.0</td>\n",
       "      <td>6.380</td>\n",
       "      <td>19.721</td>\n",
       "      <td>1.013484</td>\n",
       "      <td>-1.0</td>\n",
       "      <td>0</td>\n",
       "      <td>0.0</td>\n",
       "    </tr>\n",
       "    <tr>\n",
       "      <th>2018-05-30 18:45:00</th>\n",
       "      <td>0.000309</td>\n",
       "      <td>0.000309</td>\n",
       "      <td>0.000000</td>\n",
       "      <td>1.011361</td>\n",
       "      <td>0.000306</td>\n",
       "      <td>0.0</td>\n",
       "      <td>6.378</td>\n",
       "      <td>19.721</td>\n",
       "      <td>0.993668</td>\n",
       "      <td>-1.0</td>\n",
       "      <td>0</td>\n",
       "      <td>0.0</td>\n",
       "    </tr>\n",
       "    <tr>\n",
       "      <th>2018-05-30 18:50:00</th>\n",
       "      <td>0.000000</td>\n",
       "      <td>-0.000000</td>\n",
       "      <td>0.000000</td>\n",
       "      <td>1.011361</td>\n",
       "      <td>0.000000</td>\n",
       "      <td>0.0</td>\n",
       "      <td>6.378</td>\n",
       "      <td>19.721</td>\n",
       "      <td>0.993668</td>\n",
       "      <td>-1.0</td>\n",
       "      <td>0</td>\n",
       "      <td>0.0</td>\n",
       "    </tr>\n",
       "    <tr>\n",
       "      <th>2018-05-30 18:55:00</th>\n",
       "      <td>-0.000014</td>\n",
       "      <td>-0.000000</td>\n",
       "      <td>-0.000014</td>\n",
       "      <td>1.011347</td>\n",
       "      <td>-0.000014</td>\n",
       "      <td>0.0</td>\n",
       "      <td>6.378</td>\n",
       "      <td>19.720</td>\n",
       "      <td>0.996459</td>\n",
       "      <td>-1.0</td>\n",
       "      <td>0</td>\n",
       "      <td>0.0</td>\n",
       "    </tr>\n",
       "    <tr>\n",
       "      <th>2018-05-30 19:00:00</th>\n",
       "      <td>0.000000</td>\n",
       "      <td>-0.000000</td>\n",
       "      <td>0.000000</td>\n",
       "      <td>1.011347</td>\n",
       "      <td>0.000000</td>\n",
       "      <td>0.0</td>\n",
       "      <td>6.378</td>\n",
       "      <td>19.720</td>\n",
       "      <td>0.996459</td>\n",
       "      <td>-1.0</td>\n",
       "      <td>0</td>\n",
       "      <td>0.0</td>\n",
       "    </tr>\n",
       "    <tr>\n",
       "      <th>2018-05-30 19:05:00</th>\n",
       "      <td>0.000000</td>\n",
       "      <td>-0.000000</td>\n",
       "      <td>0.000000</td>\n",
       "      <td>1.011347</td>\n",
       "      <td>0.000000</td>\n",
       "      <td>0.0</td>\n",
       "      <td>6.378</td>\n",
       "      <td>19.720</td>\n",
       "      <td>0.996459</td>\n",
       "      <td>-1.0</td>\n",
       "      <td>0</td>\n",
       "      <td>0.0</td>\n",
       "    </tr>\n",
       "    <tr>\n",
       "      <th>2018-05-30 19:10:00</th>\n",
       "      <td>0.000000</td>\n",
       "      <td>-0.000000</td>\n",
       "      <td>0.000000</td>\n",
       "      <td>1.011347</td>\n",
       "      <td>0.000000</td>\n",
       "      <td>0.0</td>\n",
       "      <td>6.378</td>\n",
       "      <td>19.720</td>\n",
       "      <td>0.996459</td>\n",
       "      <td>-1.0</td>\n",
       "      <td>0</td>\n",
       "      <td>0.0</td>\n",
       "    </tr>\n",
       "    <tr>\n",
       "      <th>2018-05-30 19:15:00</th>\n",
       "      <td>0.000000</td>\n",
       "      <td>-0.000000</td>\n",
       "      <td>0.000000</td>\n",
       "      <td>1.011347</td>\n",
       "      <td>0.000000</td>\n",
       "      <td>0.0</td>\n",
       "      <td>6.378</td>\n",
       "      <td>19.720</td>\n",
       "      <td>0.996459</td>\n",
       "      <td>-1.0</td>\n",
       "      <td>0</td>\n",
       "      <td>0.0</td>\n",
       "    </tr>\n",
       "    <tr>\n",
       "      <th>2018-05-30 19:20:00</th>\n",
       "      <td>0.001236</td>\n",
       "      <td>0.001236</td>\n",
       "      <td>0.000000</td>\n",
       "      <td>1.012583</td>\n",
       "      <td>0.001223</td>\n",
       "      <td>0.0</td>\n",
       "      <td>6.370</td>\n",
       "      <td>19.720</td>\n",
       "      <td>0.917195</td>\n",
       "      <td>-1.0</td>\n",
       "      <td>0</td>\n",
       "      <td>0.0</td>\n",
       "    </tr>\n",
       "    <tr>\n",
       "      <th>2018-05-30 19:25:00</th>\n",
       "      <td>0.000000</td>\n",
       "      <td>-0.000000</td>\n",
       "      <td>0.000000</td>\n",
       "      <td>1.012583</td>\n",
       "      <td>0.000000</td>\n",
       "      <td>0.0</td>\n",
       "      <td>6.370</td>\n",
       "      <td>19.720</td>\n",
       "      <td>0.917195</td>\n",
       "      <td>-1.0</td>\n",
       "      <td>0</td>\n",
       "      <td>0.0</td>\n",
       "    </tr>\n",
       "    <tr>\n",
       "      <th>2018-05-30 19:30:00</th>\n",
       "      <td>0.000000</td>\n",
       "      <td>-0.000000</td>\n",
       "      <td>0.000000</td>\n",
       "      <td>1.012583</td>\n",
       "      <td>0.000000</td>\n",
       "      <td>0.0</td>\n",
       "      <td>6.370</td>\n",
       "      <td>19.720</td>\n",
       "      <td>0.917195</td>\n",
       "      <td>-1.0</td>\n",
       "      <td>0</td>\n",
       "      <td>0.0</td>\n",
       "    </tr>\n",
       "    <tr>\n",
       "      <th>2018-05-30 19:35:00</th>\n",
       "      <td>0.000029</td>\n",
       "      <td>-0.000000</td>\n",
       "      <td>0.000029</td>\n",
       "      <td>1.012612</td>\n",
       "      <td>0.000028</td>\n",
       "      <td>0.0</td>\n",
       "      <td>6.370</td>\n",
       "      <td>19.722</td>\n",
       "      <td>0.911614</td>\n",
       "      <td>-1.0</td>\n",
       "      <td>0</td>\n",
       "      <td>0.0</td>\n",
       "    </tr>\n",
       "    <tr>\n",
       "      <th>2018-05-30 19:40:00</th>\n",
       "      <td>-0.000029</td>\n",
       "      <td>-0.000000</td>\n",
       "      <td>-0.000029</td>\n",
       "      <td>1.012583</td>\n",
       "      <td>-0.000028</td>\n",
       "      <td>0.0</td>\n",
       "      <td>6.370</td>\n",
       "      <td>19.720</td>\n",
       "      <td>0.917195</td>\n",
       "      <td>-1.0</td>\n",
       "      <td>0</td>\n",
       "      <td>0.0</td>\n",
       "    </tr>\n",
       "    <tr>\n",
       "      <th>2018-05-30 19:45:00</th>\n",
       "      <td>0.000258</td>\n",
       "      <td>-0.000000</td>\n",
       "      <td>0.000258</td>\n",
       "      <td>1.012841</td>\n",
       "      <td>0.000255</td>\n",
       "      <td>0.0</td>\n",
       "      <td>6.370</td>\n",
       "      <td>19.738</td>\n",
       "      <td>0.866963</td>\n",
       "      <td>-1.0</td>\n",
       "      <td>0</td>\n",
       "      <td>0.0</td>\n",
       "    </tr>\n",
       "    <tr>\n",
       "      <th>2018-05-30 19:50:00</th>\n",
       "      <td>0.000000</td>\n",
       "      <td>-0.000000</td>\n",
       "      <td>0.000000</td>\n",
       "      <td>1.012841</td>\n",
       "      <td>0.000000</td>\n",
       "      <td>0.0</td>\n",
       "      <td>6.370</td>\n",
       "      <td>19.738</td>\n",
       "      <td>0.866963</td>\n",
       "      <td>-1.0</td>\n",
       "      <td>0</td>\n",
       "      <td>0.0</td>\n",
       "    </tr>\n",
       "    <tr>\n",
       "      <th>2018-05-30 19:55:00</th>\n",
       "      <td>-0.000229</td>\n",
       "      <td>-0.000000</td>\n",
       "      <td>-0.000229</td>\n",
       "      <td>1.012612</td>\n",
       "      <td>-0.000226</td>\n",
       "      <td>0.0</td>\n",
       "      <td>6.370</td>\n",
       "      <td>19.722</td>\n",
       "      <td>0.911614</td>\n",
       "      <td>-1.0</td>\n",
       "      <td>0</td>\n",
       "      <td>0.0</td>\n",
       "    </tr>\n",
       "    <tr>\n",
       "      <th>2018-05-30 20:00:00</th>\n",
       "      <td>-0.000813</td>\n",
       "      <td>-0.000927</td>\n",
       "      <td>0.000115</td>\n",
       "      <td>1.011799</td>\n",
       "      <td>-0.000803</td>\n",
       "      <td>0.0</td>\n",
       "      <td>6.376</td>\n",
       "      <td>19.730</td>\n",
       "      <td>0.948736</td>\n",
       "      <td>-1.0</td>\n",
       "      <td>0</td>\n",
       "      <td>0.0</td>\n",
       "    </tr>\n",
       "  </tbody>\n",
       "</table>\n",
       "<p>129 rows × 12 columns</p>\n",
       "</div>"
      ],
      "text/plain": [
       "                          pnl     pnl_y     pnl_x  account_balance   returns  \\\n",
       "2018-05-29 15:50:00  0.000000  0.000000  0.000000         1.000000  0.000000   \n",
       "2018-05-29 15:55:00  0.000000  0.000000  0.000000         1.000000  0.000000   \n",
       "2018-05-29 16:00:00  0.000000  0.000000  0.000000         1.000000  0.000000   \n",
       "2018-05-29 16:05:00  0.000000  0.000000  0.000000         1.000000  0.000000   \n",
       "2018-05-29 16:10:00  0.000000  0.000000  0.000000         1.000000  0.000000   \n",
       "2018-05-29 16:15:00  0.000000  0.000000  0.000000         1.000000  0.000000   \n",
       "2018-05-29 16:20:00  0.000000  0.000000  0.000000         1.000000  0.000000   \n",
       "2018-05-29 16:25:00  0.000000  0.000000  0.000000         1.000000  0.000000   \n",
       "2018-05-29 16:30:00  0.000000  0.000000  0.000000         1.000000  0.000000   \n",
       "2018-05-29 16:35:00  0.000000  0.000000  0.000000         1.000000  0.000000   \n",
       "2018-05-29 16:40:00 -0.000497  0.000291 -0.000789         0.999503 -0.000497   \n",
       "2018-05-29 16:45:00 -0.000243 -0.000000 -0.000243         0.999259 -0.000244   \n",
       "2018-05-29 16:50:00  0.000000 -0.000000  0.000000         0.999259  0.000000   \n",
       "2018-05-29 16:55:00  0.000000 -0.000000  0.000000         0.999259  0.000000   \n",
       "2018-05-29 17:00:00  0.001546  0.001546  0.000000         1.000805  0.001547   \n",
       "2018-05-29 17:05:00  0.001460  0.001546 -0.000086         1.002264  0.001459   \n",
       "2018-05-29 17:10:00  0.000000 -0.000000  0.000000         1.002264  0.000000   \n",
       "2018-05-29 17:15:00  0.000000 -0.000000  0.000000         1.002264  0.000000   \n",
       "2018-05-29 17:20:00  0.000000 -0.000000  0.000000         1.002264  0.000000   \n",
       "2018-05-29 17:25:00  0.000000 -0.000000  0.000000         1.002264  0.000000   \n",
       "2018-05-29 17:30:00  0.000000 -0.000000  0.000000         1.002264  0.000000   \n",
       "2018-05-29 17:35:00  0.000000 -0.000000  0.000000         1.002264  0.000000   \n",
       "2018-05-29 17:40:00  0.000000 -0.000000  0.000000         1.002264  0.000000   \n",
       "2018-05-29 17:45:00  0.000000 -0.000000  0.000000         1.002264  0.000000   \n",
       "2018-05-29 17:50:00  0.000000 -0.000000  0.000000         1.002264  0.000000   \n",
       "2018-05-29 17:55:00  0.000000 -0.000000  0.000000         1.002264  0.000000   \n",
       "2018-05-29 18:00:00  0.000100 -0.000000  0.000100         1.002365  0.000100   \n",
       "2018-05-29 18:05:00  0.000000 -0.000000  0.000000         1.002365  0.000000   \n",
       "2018-05-29 18:10:00  0.000000 -0.000000  0.000000         1.002365  0.000000   \n",
       "2018-05-29 18:15:00  0.000000 -0.000000  0.000000         1.002365  0.000000   \n",
       "...                       ...       ...       ...              ...       ...   \n",
       "2018-05-30 17:35:00  0.000000 -0.000000  0.000000         1.010494  0.000000   \n",
       "2018-05-30 17:40:00  0.000223  0.000309 -0.000086         1.010717  0.000221   \n",
       "2018-05-30 17:45:00  0.000000 -0.000000  0.000000         1.010717  0.000000   \n",
       "2018-05-30 17:50:00  0.000000 -0.000000  0.000000         1.010717  0.000000   \n",
       "2018-05-30 17:55:00  0.000000 -0.000000  0.000000         1.010717  0.000000   \n",
       "2018-05-30 18:00:00  0.000464  0.000464  0.000000         1.011181  0.000459   \n",
       "2018-05-30 18:05:00  0.000000 -0.000000  0.000000         1.011181  0.000000   \n",
       "2018-05-30 18:10:00  0.000000 -0.000000  0.000000         1.011181  0.000000   \n",
       "2018-05-30 18:15:00 -0.000143 -0.000000 -0.000143         1.011038 -0.000142   \n",
       "2018-05-30 18:20:00  0.000000 -0.000000  0.000000         1.011038  0.000000   \n",
       "2018-05-30 18:25:00  0.000272 -0.000000  0.000272         1.011310  0.000269   \n",
       "2018-05-30 18:30:00  0.000000 -0.000000  0.000000         1.011310  0.000000   \n",
       "2018-05-30 18:35:00  0.000000 -0.000000  0.000000         1.011310  0.000000   \n",
       "2018-05-30 18:40:00 -0.000258 -0.000000 -0.000258         1.011052 -0.000255   \n",
       "2018-05-30 18:45:00  0.000309  0.000309  0.000000         1.011361  0.000306   \n",
       "2018-05-30 18:50:00  0.000000 -0.000000  0.000000         1.011361  0.000000   \n",
       "2018-05-30 18:55:00 -0.000014 -0.000000 -0.000014         1.011347 -0.000014   \n",
       "2018-05-30 19:00:00  0.000000 -0.000000  0.000000         1.011347  0.000000   \n",
       "2018-05-30 19:05:00  0.000000 -0.000000  0.000000         1.011347  0.000000   \n",
       "2018-05-30 19:10:00  0.000000 -0.000000  0.000000         1.011347  0.000000   \n",
       "2018-05-30 19:15:00  0.000000 -0.000000  0.000000         1.011347  0.000000   \n",
       "2018-05-30 19:20:00  0.001236  0.001236  0.000000         1.012583  0.001223   \n",
       "2018-05-30 19:25:00  0.000000 -0.000000  0.000000         1.012583  0.000000   \n",
       "2018-05-30 19:30:00  0.000000 -0.000000  0.000000         1.012583  0.000000   \n",
       "2018-05-30 19:35:00  0.000029 -0.000000  0.000029         1.012612  0.000028   \n",
       "2018-05-30 19:40:00 -0.000029 -0.000000 -0.000029         1.012583 -0.000028   \n",
       "2018-05-30 19:45:00  0.000258 -0.000000  0.000258         1.012841  0.000255   \n",
       "2018-05-30 19:50:00  0.000000 -0.000000  0.000000         1.012841  0.000000   \n",
       "2018-05-30 19:55:00 -0.000229 -0.000000 -0.000229         1.012612 -0.000226   \n",
       "2018-05-30 20:00:00 -0.000813 -0.000927  0.000115         1.011799 -0.000803   \n",
       "\n",
       "                     position_return    RJA     GCC  norm_spread  \\\n",
       "2018-05-29 15:50:00              0.0  6.470  19.730     1.880084   \n",
       "2018-05-29 15:55:00              0.0  6.475  19.730     1.929624   \n",
       "2018-05-29 16:00:00              0.0  6.475  19.730     1.929624   \n",
       "2018-05-29 16:05:00              0.0  6.475  19.730     1.929624   \n",
       "2018-05-29 16:10:00              0.0  6.475  19.730     1.929624   \n",
       "2018-05-29 16:15:00              0.0  6.470  19.730     1.880084   \n",
       "2018-05-29 16:20:00              0.0  6.470  19.730     1.880084   \n",
       "2018-05-29 16:25:00              0.0  6.470  19.730     1.880084   \n",
       "2018-05-29 16:30:00              0.0  6.470  19.730     1.880084   \n",
       "2018-05-29 16:35:00              0.0  6.470  19.670     2.047524   \n",
       "2018-05-29 16:40:00              0.0  6.450  19.670     1.849365   \n",
       "2018-05-29 16:45:00              0.0  6.450  19.653     1.896806   \n",
       "2018-05-29 16:50:00              0.0  6.450  19.653     1.896806   \n",
       "2018-05-29 16:55:00              0.0  6.450  19.653     1.896806   \n",
       "2018-05-29 17:00:00              0.0  6.440  19.653     1.797727   \n",
       "2018-05-29 17:05:00              0.0  6.430  19.647     1.715391   \n",
       "2018-05-29 17:10:00              0.0  6.430  19.647     1.715391   \n",
       "2018-05-29 17:15:00              0.0  6.430  19.647     1.715391   \n",
       "2018-05-29 17:20:00              0.0  6.430  19.647     1.715391   \n",
       "2018-05-29 17:25:00              0.0  6.430  19.647     1.715391   \n",
       "2018-05-29 17:30:00              0.0  6.430  19.647     1.715391   \n",
       "2018-05-29 17:35:00              0.0  6.430  19.647     1.715391   \n",
       "2018-05-29 17:40:00              0.0  6.430  19.647     1.715391   \n",
       "2018-05-29 17:45:00              0.0  6.430  19.647     1.715391   \n",
       "2018-05-29 17:50:00              0.0  6.430  19.647     1.715391   \n",
       "2018-05-29 17:55:00              0.0  6.430  19.647     1.715391   \n",
       "2018-05-29 18:00:00              0.0  6.430  19.654     1.695857   \n",
       "2018-05-29 18:05:00              0.0  6.430  19.654     1.695857   \n",
       "2018-05-29 18:10:00              0.0  6.430  19.654     1.695857   \n",
       "2018-05-29 18:15:00              0.0  6.430  19.654     1.695857   \n",
       "...                              ...    ...     ...          ...   \n",
       "2018-05-30 17:35:00              0.0  6.385  19.736     1.021164   \n",
       "2018-05-30 17:40:00              0.0  6.383  19.730     1.018092   \n",
       "2018-05-30 17:45:00              0.0  6.383  19.730     1.018092   \n",
       "2018-05-30 17:50:00              0.0  6.383  19.730     1.018092   \n",
       "2018-05-30 17:55:00              0.0  6.383  19.730     1.018092   \n",
       "2018-05-30 18:00:00              0.0  6.380  19.730     0.988368   \n",
       "2018-05-30 18:05:00              0.0  6.380  19.730     0.988368   \n",
       "2018-05-30 18:10:00              0.0  6.380  19.730     0.988368   \n",
       "2018-05-30 18:15:00              0.0  6.380  19.720     1.016275   \n",
       "2018-05-30 18:20:00              0.0  6.380  19.720     1.016275   \n",
       "2018-05-30 18:25:00              0.0  6.380  19.739     0.963252   \n",
       "2018-05-30 18:30:00              0.0  6.380  19.739     0.963252   \n",
       "2018-05-30 18:35:00              0.0  6.380  19.739     0.963252   \n",
       "2018-05-30 18:40:00              0.0  6.380  19.721     1.013484   \n",
       "2018-05-30 18:45:00              0.0  6.378  19.721     0.993668   \n",
       "2018-05-30 18:50:00              0.0  6.378  19.721     0.993668   \n",
       "2018-05-30 18:55:00              0.0  6.378  19.720     0.996459   \n",
       "2018-05-30 19:00:00              0.0  6.378  19.720     0.996459   \n",
       "2018-05-30 19:05:00              0.0  6.378  19.720     0.996459   \n",
       "2018-05-30 19:10:00              0.0  6.378  19.720     0.996459   \n",
       "2018-05-30 19:15:00              0.0  6.378  19.720     0.996459   \n",
       "2018-05-30 19:20:00              0.0  6.370  19.720     0.917195   \n",
       "2018-05-30 19:25:00              0.0  6.370  19.720     0.917195   \n",
       "2018-05-30 19:30:00              0.0  6.370  19.720     0.917195   \n",
       "2018-05-30 19:35:00              0.0  6.370  19.722     0.911614   \n",
       "2018-05-30 19:40:00              0.0  6.370  19.720     0.917195   \n",
       "2018-05-30 19:45:00              0.0  6.370  19.738     0.866963   \n",
       "2018-05-30 19:50:00              0.0  6.370  19.738     0.866963   \n",
       "2018-05-30 19:55:00              0.0  6.370  19.722     0.911614   \n",
       "2018-05-30 20:00:00              0.0  6.376  19.730     0.948736   \n",
       "\n",
       "                     position_during_day  trading_duration  \\\n",
       "2018-05-29 15:50:00                  0.0                 0   \n",
       "2018-05-29 15:55:00                  0.0                 0   \n",
       "2018-05-29 16:00:00                  0.0                 0   \n",
       "2018-05-29 16:05:00                  0.0                 0   \n",
       "2018-05-29 16:10:00                  0.0                 0   \n",
       "2018-05-29 16:15:00                  0.0                 0   \n",
       "2018-05-29 16:20:00                  0.0                 0   \n",
       "2018-05-29 16:25:00                  0.0                 0   \n",
       "2018-05-29 16:30:00                  0.0                 0   \n",
       "2018-05-29 16:35:00                  0.0                 0   \n",
       "2018-05-29 16:40:00                 -1.0                 0   \n",
       "2018-05-29 16:45:00                 -1.0                 0   \n",
       "2018-05-29 16:50:00                 -1.0                 0   \n",
       "2018-05-29 16:55:00                 -1.0                 0   \n",
       "2018-05-29 17:00:00                 -1.0                 0   \n",
       "2018-05-29 17:05:00                 -1.0                 0   \n",
       "2018-05-29 17:10:00                 -1.0                 0   \n",
       "2018-05-29 17:15:00                 -1.0                 0   \n",
       "2018-05-29 17:20:00                 -1.0                 0   \n",
       "2018-05-29 17:25:00                 -1.0                 0   \n",
       "2018-05-29 17:30:00                 -1.0                 0   \n",
       "2018-05-29 17:35:00                 -1.0                 0   \n",
       "2018-05-29 17:40:00                 -1.0                 0   \n",
       "2018-05-29 17:45:00                 -1.0                 0   \n",
       "2018-05-29 17:50:00                 -1.0                 0   \n",
       "2018-05-29 17:55:00                 -1.0                 0   \n",
       "2018-05-29 18:00:00                 -1.0                 0   \n",
       "2018-05-29 18:05:00                 -1.0                 0   \n",
       "2018-05-29 18:10:00                 -1.0                 0   \n",
       "2018-05-29 18:15:00                 -1.0                 0   \n",
       "...                                  ...               ...   \n",
       "2018-05-30 17:35:00                 -1.0                 0   \n",
       "2018-05-30 17:40:00                 -1.0                 0   \n",
       "2018-05-30 17:45:00                 -1.0                 0   \n",
       "2018-05-30 17:50:00                 -1.0                 0   \n",
       "2018-05-30 17:55:00                 -1.0                 0   \n",
       "2018-05-30 18:00:00                 -1.0                 0   \n",
       "2018-05-30 18:05:00                 -1.0                 0   \n",
       "2018-05-30 18:10:00                 -1.0                 0   \n",
       "2018-05-30 18:15:00                 -1.0                 0   \n",
       "2018-05-30 18:20:00                 -1.0                 0   \n",
       "2018-05-30 18:25:00                 -1.0                 0   \n",
       "2018-05-30 18:30:00                 -1.0                 0   \n",
       "2018-05-30 18:35:00                 -1.0                 0   \n",
       "2018-05-30 18:40:00                 -1.0                 0   \n",
       "2018-05-30 18:45:00                 -1.0                 0   \n",
       "2018-05-30 18:50:00                 -1.0                 0   \n",
       "2018-05-30 18:55:00                 -1.0                 0   \n",
       "2018-05-30 19:00:00                 -1.0                 0   \n",
       "2018-05-30 19:05:00                 -1.0                 0   \n",
       "2018-05-30 19:10:00                 -1.0                 0   \n",
       "2018-05-30 19:15:00                 -1.0                 0   \n",
       "2018-05-30 19:20:00                 -1.0                 0   \n",
       "2018-05-30 19:25:00                 -1.0                 0   \n",
       "2018-05-30 19:30:00                 -1.0                 0   \n",
       "2018-05-30 19:35:00                 -1.0                 0   \n",
       "2018-05-30 19:40:00                 -1.0                 0   \n",
       "2018-05-30 19:45:00                 -1.0                 0   \n",
       "2018-05-30 19:50:00                 -1.0                 0   \n",
       "2018-05-30 19:55:00                 -1.0                 0   \n",
       "2018-05-30 20:00:00                 -1.0                 0   \n",
       "\n",
       "                     position_ret_with_costs  \n",
       "2018-05-29 15:50:00                      0.0  \n",
       "2018-05-29 15:55:00                      0.0  \n",
       "2018-05-29 16:00:00                      0.0  \n",
       "2018-05-29 16:05:00                      0.0  \n",
       "2018-05-29 16:10:00                      0.0  \n",
       "2018-05-29 16:15:00                      0.0  \n",
       "2018-05-29 16:20:00                      0.0  \n",
       "2018-05-29 16:25:00                      0.0  \n",
       "2018-05-29 16:30:00                      0.0  \n",
       "2018-05-29 16:35:00                      0.0  \n",
       "2018-05-29 16:40:00                      0.0  \n",
       "2018-05-29 16:45:00                      0.0  \n",
       "2018-05-29 16:50:00                      0.0  \n",
       "2018-05-29 16:55:00                      0.0  \n",
       "2018-05-29 17:00:00                      0.0  \n",
       "2018-05-29 17:05:00                      0.0  \n",
       "2018-05-29 17:10:00                      0.0  \n",
       "2018-05-29 17:15:00                      0.0  \n",
       "2018-05-29 17:20:00                      0.0  \n",
       "2018-05-29 17:25:00                      0.0  \n",
       "2018-05-29 17:30:00                      0.0  \n",
       "2018-05-29 17:35:00                      0.0  \n",
       "2018-05-29 17:40:00                      0.0  \n",
       "2018-05-29 17:45:00                      0.0  \n",
       "2018-05-29 17:50:00                      0.0  \n",
       "2018-05-29 17:55:00                      0.0  \n",
       "2018-05-29 18:00:00                      0.0  \n",
       "2018-05-29 18:05:00                      0.0  \n",
       "2018-05-29 18:10:00                      0.0  \n",
       "2018-05-29 18:15:00                      0.0  \n",
       "...                                      ...  \n",
       "2018-05-30 17:35:00                      0.0  \n",
       "2018-05-30 17:40:00                      0.0  \n",
       "2018-05-30 17:45:00                      0.0  \n",
       "2018-05-30 17:50:00                      0.0  \n",
       "2018-05-30 17:55:00                      0.0  \n",
       "2018-05-30 18:00:00                      0.0  \n",
       "2018-05-30 18:05:00                      0.0  \n",
       "2018-05-30 18:10:00                      0.0  \n",
       "2018-05-30 18:15:00                      0.0  \n",
       "2018-05-30 18:20:00                      0.0  \n",
       "2018-05-30 18:25:00                      0.0  \n",
       "2018-05-30 18:30:00                      0.0  \n",
       "2018-05-30 18:35:00                      0.0  \n",
       "2018-05-30 18:40:00                      0.0  \n",
       "2018-05-30 18:45:00                      0.0  \n",
       "2018-05-30 18:50:00                      0.0  \n",
       "2018-05-30 18:55:00                      0.0  \n",
       "2018-05-30 19:00:00                      0.0  \n",
       "2018-05-30 19:05:00                      0.0  \n",
       "2018-05-30 19:10:00                      0.0  \n",
       "2018-05-30 19:15:00                      0.0  \n",
       "2018-05-30 19:20:00                      0.0  \n",
       "2018-05-30 19:25:00                      0.0  \n",
       "2018-05-30 19:30:00                      0.0  \n",
       "2018-05-30 19:35:00                      0.0  \n",
       "2018-05-30 19:40:00                      0.0  \n",
       "2018-05-30 19:45:00                      0.0  \n",
       "2018-05-30 19:50:00                      0.0  \n",
       "2018-05-30 19:55:00                      0.0  \n",
       "2018-05-30 20:00:00                      0.0  \n",
       "\n",
       "[129 rows x 12 columns]"
      ]
     },
     "execution_count": 24,
     "metadata": {},
     "output_type": "execute_result"
    }
   ],
   "source": [
    "performance_threshold_test[2][1]['2018-05-29 15:50:00':'2018-05-30']#[performance_threshold_test[2][1].position_during_day!=0]"
   ]
  },
  {
   "cell_type": "markdown",
   "metadata": {},
   "source": [
    "### Approach 2: Keeping only pairs that had positive returns in the training period"
   ]
  },
  {
   "cell_type": "code",
   "execution_count": 39,
   "metadata": {},
   "outputs": [],
   "source": [
    "cum_returns_threshold_train_w_costs = np.asarray(cum_returns_threshold_train_w_costs)\n",
    "profitable_pairs_indices = np.argwhere(cum_returns_threshold_train_w_costs > 0)\n",
    "profitable_pairs = [pairs[i] for i in profitable_pairs_indices.flatten()]"
   ]
  },
  {
   "cell_type": "code",
   "execution_count": 42,
   "metadata": {
    "scrolled": false
   },
   "outputs": [
    {
     "name": "stdout",
     "output_type": "stream",
     "text": [
      "Pair: 4/4"
     ]
    }
   ],
   "source": [
    "results_without_costs, results_with_costs, performance_threshold_test = trader.apply_trading_strategy(\n",
    "                                                                                    profitable_pairs, \n",
    "                                                                                    'fixed_beta',\n",
    "                                                                                    2,#entry_multiplier,\n",
    "                                                                                    0,#exit_multiplier,\n",
    "                                                                                    test_mode=True)\n",
    "sharpe_results_threshold_test_nocosts, cum_returns_threshold_test_nocosts = results_without_costs\n",
    "sharpe_results_threshold_test_w_costs, cum_returns_threshold_test_w_costs = results_with_costs"
   ]
  },
  {
   "cell_type": "code",
   "execution_count": 43,
   "metadata": {},
   "outputs": [
    {
     "name": "stdout",
     "output_type": "stream",
     "text": [
      "Average result:  2.2663119605251496\n",
      "avg_annual_roi:  20.558960017566363\n",
      "75.0 % of the pairs had positive returns\n"
     ]
    }
   ],
   "source": [
    "_, _, _, _ = trader.calculate_metrics(sharpe_results_threshold_test_w_costs, cum_returns_threshold_test_w_costs,\n",
    "                                      n_years_test)"
   ]
  },
  {
   "cell_type": "markdown",
   "metadata": {},
   "source": [
    "Checking beta values and returns"
   ]
  },
  {
   "cell_type": "code",
   "execution_count": 44,
   "metadata": {},
   "outputs": [
    {
     "data": {
      "text/plain": [
       "[1.1848010535853197,\n",
       " 0.28165908805607154,\n",
       " 0.18642112727898758,\n",
       " 0.6024381086001016]"
      ]
     },
     "execution_count": 44,
     "metadata": {},
     "output_type": "execute_result"
    }
   ],
   "source": [
    "betas = list()\n",
    "for i in list(profitable_pairs_indices.flatten()):\n",
    "    betas.append(pairs[i][2]['coint_coef'])\n",
    "betas"
   ]
  },
  {
   "cell_type": "code",
   "execution_count": 45,
   "metadata": {},
   "outputs": [
    {
     "data": {
      "text/plain": [
       "[9.263283520258137, 7.840980679162657, -1.1776828014536833, 66.30925867229831]"
      ]
     },
     "execution_count": 45,
     "metadata": {},
     "output_type": "execute_result"
    }
   ],
   "source": [
    "cum_returns_threshold_test_w_costs"
   ]
  },
  {
   "cell_type": "markdown",
   "metadata": {},
   "source": [
    "# Validate the results"
   ]
  },
  {
   "cell_type": "code",
   "execution_count": 27,
   "metadata": {},
   "outputs": [
    {
     "name": "stdout",
     "output_type": "stream",
     "text": [
      "Average result:  2.2159600231046337\n",
      "avg_annual_roi:  19.912529652484157\n",
      "80.0 % of the pairs had positive returns\n"
     ]
    }
   ],
   "source": [
    "results, pairs_summary = trader.summarize_results(sharpe_results_threshold_test_w_costs,\n",
    "                                                  cum_returns_threshold_test_w_costs,\n",
    "                                                  performance_threshold_test,\n",
    "                                                  pairs, ticker_segment_dict,\n",
    "                                                  n_years_test)"
   ]
  },
  {
   "cell_type": "code",
   "execution_count": 28,
   "metadata": {
    "scrolled": false
   },
   "outputs": [
    {
     "data": {
      "text/html": [
       "<div>\n",
       "<style scoped>\n",
       "    .dataframe tbody tr th:only-of-type {\n",
       "        vertical-align: middle;\n",
       "    }\n",
       "\n",
       "    .dataframe tbody tr th {\n",
       "        vertical-align: top;\n",
       "    }\n",
       "\n",
       "    .dataframe thead th {\n",
       "        text-align: right;\n",
       "    }\n",
       "</style>\n",
       "<table border=\"1\" class=\"dataframe\">\n",
       "  <thead>\n",
       "    <tr style=\"text-align: right;\">\n",
       "      <th></th>\n",
       "      <th>Leg1</th>\n",
       "      <th>Leg1_Segmt</th>\n",
       "      <th>Leg2</th>\n",
       "      <th>Leg2_Segmt</th>\n",
       "      <th>t_statistic</th>\n",
       "      <th>p_value</th>\n",
       "      <th>zero_cross</th>\n",
       "      <th>half_life</th>\n",
       "      <th>hurst_exponent</th>\n",
       "      <th>positive_trades</th>\n",
       "      <th>negative_trades</th>\n",
       "      <th>sharpe_result</th>\n",
       "      <th>positive_trades_per_pair_pct</th>\n",
       "    </tr>\n",
       "  </thead>\n",
       "  <tbody>\n",
       "    <tr>\n",
       "      <th>0</th>\n",
       "      <td>DGP</td>\n",
       "      <td>Leveraged Commodities: Precious Metals Gold</td>\n",
       "      <td>UGL</td>\n",
       "      <td>Leveraged Commodities: Precious Metals Gold</td>\n",
       "      <td>-3.397245</td>\n",
       "      <td>0.011053</td>\n",
       "      <td>8623</td>\n",
       "      <td>139</td>\n",
       "      <td>0.247655</td>\n",
       "      <td>143</td>\n",
       "      <td>0</td>\n",
       "      <td>5.944450</td>\n",
       "      <td>100.0</td>\n",
       "    </tr>\n",
       "    <tr>\n",
       "      <th>1</th>\n",
       "      <td>PXE</td>\n",
       "      <td>Equity: U.S. Oil &amp; Gas Exploration &amp; Production</td>\n",
       "      <td>PXI</td>\n",
       "      <td>Equity: U.S. Energy</td>\n",
       "      <td>-3.254852</td>\n",
       "      <td>0.017021</td>\n",
       "      <td>1374</td>\n",
       "      <td>462</td>\n",
       "      <td>0.231966</td>\n",
       "      <td>1</td>\n",
       "      <td>0</td>\n",
       "      <td>2.014552</td>\n",
       "      <td>100.0</td>\n",
       "    </tr>\n",
       "    <tr>\n",
       "      <th>2</th>\n",
       "      <td>DBA</td>\n",
       "      <td>Commodities: Agriculture</td>\n",
       "      <td>GCC</td>\n",
       "      <td>Commodities: Broad Market</td>\n",
       "      <td>-3.959994</td>\n",
       "      <td>0.001635</td>\n",
       "      <td>1335</td>\n",
       "      <td>1571</td>\n",
       "      <td>0.378959</td>\n",
       "      <td>3</td>\n",
       "      <td>0</td>\n",
       "      <td>1.687804</td>\n",
       "      <td>100.0</td>\n",
       "    </tr>\n",
       "    <tr>\n",
       "      <th>3</th>\n",
       "      <td>GCC</td>\n",
       "      <td>Commodities: Broad Market</td>\n",
       "      <td>RJA</td>\n",
       "      <td>Commodities: Agriculture</td>\n",
       "      <td>-3.292388</td>\n",
       "      <td>0.015222</td>\n",
       "      <td>1751</td>\n",
       "      <td>1106</td>\n",
       "      <td>0.360744</td>\n",
       "      <td>2</td>\n",
       "      <td>0</td>\n",
       "      <td>1.676790</td>\n",
       "      <td>100.0</td>\n",
       "    </tr>\n",
       "    <tr>\n",
       "      <th>4</th>\n",
       "      <td>GSP</td>\n",
       "      <td>Commodities: Broad Market</td>\n",
       "      <td>RJI</td>\n",
       "      <td>Commodities: Broad Market</td>\n",
       "      <td>-2.968215</td>\n",
       "      <td>0.037971</td>\n",
       "      <td>1543</td>\n",
       "      <td>864</td>\n",
       "      <td>0.163140</td>\n",
       "      <td>0</td>\n",
       "      <td>1</td>\n",
       "      <td>-0.243796</td>\n",
       "      <td>0.0</td>\n",
       "    </tr>\n",
       "  </tbody>\n",
       "</table>\n",
       "</div>"
      ],
      "text/plain": [
       "  Leg1                                       Leg1_Segmt Leg2  \\\n",
       "0  DGP      Leveraged Commodities: Precious Metals Gold  UGL   \n",
       "1  PXE  Equity: U.S. Oil & Gas Exploration & Production  PXI   \n",
       "2  DBA                         Commodities: Agriculture  GCC   \n",
       "3  GCC                        Commodities: Broad Market  RJA   \n",
       "4  GSP                        Commodities: Broad Market  RJI   \n",
       "\n",
       "                                    Leg2_Segmt  t_statistic   p_value  \\\n",
       "0  Leveraged Commodities: Precious Metals Gold    -3.397245  0.011053   \n",
       "1                          Equity: U.S. Energy    -3.254852  0.017021   \n",
       "2                    Commodities: Broad Market    -3.959994  0.001635   \n",
       "3                     Commodities: Agriculture    -3.292388  0.015222   \n",
       "4                    Commodities: Broad Market    -2.968215  0.037971   \n",
       "\n",
       "   zero_cross  half_life  hurst_exponent  positive_trades  negative_trades  \\\n",
       "0        8623        139        0.247655              143                0   \n",
       "1        1374        462        0.231966                1                0   \n",
       "2        1335       1571        0.378959                3                0   \n",
       "3        1751       1106        0.360744                2                0   \n",
       "4        1543        864        0.163140                0                1   \n",
       "\n",
       "   sharpe_result  positive_trades_per_pair_pct  \n",
       "0       5.944450                         100.0  \n",
       "1       2.014552                         100.0  \n",
       "2       1.687804                         100.0  \n",
       "3       1.676790                         100.0  \n",
       "4      -0.243796                           0.0  "
      ]
     },
     "execution_count": 28,
     "metadata": {},
     "output_type": "execute_result"
    }
   ],
   "source": [
    "pairs_summary"
   ]
  },
  {
   "cell_type": "code",
   "execution_count": 35,
   "metadata": {},
   "outputs": [
    {
     "name": "stdout",
     "output_type": "stream",
     "text": [
      "Pair: PXE-PXI\n"
     ]
    },
    {
     "data": {
      "image/png": "[encoded data removed]",
      "text/plain": [
       "<matplotlib.figure.Figure at 0x117ac5fd0>"
      ]
     },
     "metadata": {},
     "output_type": "display_data"
    },
    {
     "name": "stdout",
     "output_type": "stream",
     "text": [
      "Pair: DBA-GCC\n"
     ]
    },
    {
     "data": {
      "image/png": "[encoded data removed]",
      "text/plain": [
       "<matplotlib.figure.Figure at 0x118d232e8>"
      ]
     },
     "metadata": {},
     "output_type": "display_data"
    },
    {
     "name": "stdout",
     "output_type": "stream",
     "text": [
      "Pair: GCC-RJA\n"
     ]
    },
    {
     "data": {
      "image/png": "[encoded data removed]",
      "text/plain": [
       "<matplotlib.figure.Figure at 0x116f0dd30>"
      ]
     },
     "metadata": {},
     "output_type": "display_data"
    },
    {
     "name": "stdout",
     "output_type": "stream",
     "text": [
      "Pair: GSP-RJI\n"
     ]
    },
    {
     "data": {
      "image/png": "[encoded data removed]",
      "text/plain": [
       "<matplotlib.figure.Figure at 0x119134390>"
      ]
     },
     "metadata": {},
     "output_type": "display_data"
    },
    {
     "name": "stdout",
     "output_type": "stream",
     "text": [
      "Pair: DGP-UGL\n"
     ]
    },
    {
     "data": {
      "image/png": "[encoded data removed]",
      "text/plain": [
       "<matplotlib.figure.Figure at 0x1197a6fd0>"
      ]
     },
     "metadata": {},
     "output_type": "display_data"
    }
   ],
   "source": [
    "colors = ['b', 'r', 'g', 'y', 'pink']\n",
    "for i in range(len(pairs)):\n",
    "    print('Pair: {}-{}'.format(performance_threshold_test[i][0][0],performance_threshold_test[i][0][1]))\n",
    "    \n",
    "    plt.figure(figsize=(20,5))\n",
    "    plt.plot(performance_threshold_test[i][1]['norm_spread'].values[::50], c=colors[i])\n",
    "    \n",
    "    std = performance_threshold_test[i][0][2]['spread'].std()\n",
    "    mean = performance_threshold_test[i][0][2]['spread'].mean()\n",
    "    plt.axhline(y=2, color=colors[i], linestyle='--')\n",
    "    plt.axhline(y=0, color='black', linestyle='--')\n",
    "    plt.axhline(y=-2, color=colors[i], linestyle='--')\n",
    "    plt.xticks([])\n",
    "    plt.show()"
   ]
  },
  {
   "cell_type": "markdown",
   "metadata": {},
   "source": [
    "## Analyzing Pairs' Overlap"
   ]
  },
  {
   "cell_type": "markdown",
   "metadata": {},
   "source": [
    "There could be two possible interpretations for pairs' overlap.\n",
    "1. We might be interested in checking which of the cointegrated pairs found in the training dataset are also cointegrated in the test set; Furthermore we want to explore how the two types of pairs perform.\n",
    "2. We might be interested in finding if the pairs that would have been found in the test set by performing PCA + clustering would be cointegrated in the training set."
   ]
  },
  {
   "cell_type": "markdown",
   "metadata": {},
   "source": [
    "Starting with **1)**, let's see how many of the identified pairs actually turned out to be cointegrated during this period."
   ]
  },
  {
   "cell_type": "code",
   "execution_count": null,
   "metadata": {},
   "outputs": [],
   "source": [
    "pairs_overlapped, pairs_overlapped_index = series_analyser.pairs_overlap(pairs,\n",
    "                                  config['pair_restrictions']['p_value_threshold'],\n",
    "                                  config['pair_restrictions']['min_zero_crossings'],\n",
    "                                  config['pair_restrictions']['min_half_life'],\n",
    "                                  config['pair_restrictions']['hurst_threshold'])\n",
    "print('{} of the {} pairs identified in the training set are also cointegrated in the test set'.format(\\\n",
    "    len(pairs_overlapped), len(pairs)))"
   ]
  },
  {
   "cell_type": "code",
   "execution_count": null,
   "metadata": {},
   "outputs": [],
   "source": [
    "profitable_pairs_overlapped, profitable_pairs_overlapped_index = series_analyser.pairs_overlap(profitable_pairs,\n",
    "                                  config['pair_restrictions']['p_value_threshold'],\n",
    "                                  config['pair_restrictions']['min_zero_crossings'],\n",
    "                                  config['pair_restrictions']['min_half_life'],\n",
    "                                  config['pair_restrictions']['hurst_threshold'])\n",
    "print('{} of the {} pairs with positive returns identified in the training set are also cointegrated in the test set'.format(\\\n",
    "    len(profitable_pairs_overlapped), len(profitable_pairs)))"
   ]
  },
  {
   "cell_type": "markdown",
   "metadata": {},
   "source": [
    "### Is cointegration really important?\n",
    "\n",
    "To answer this question we will see how many of the still cointegrated pairs had positive and negative returns. We will then do the same for those pairs that were not cointegrated. \n",
    "\n",
    "If both are as likely to have positive and negative returns, then it means cointegration is not as important of a condition. On the other hand, if we verify that all pairs that are still cointegrated turned out to be profitable and those that are not anymore led to consistent negative returns, we can infer that cointegration is a very important predictor of future returns.\n",
    "\n",
    "We also compare the average performance of the two groups two see the relevance of being cointegrated with respect to the sharpe ratio obtained."
   ]
  },
  {
   "cell_type": "markdown",
   "metadata": {},
   "source": [
    "*Still cointegrated*"
   ]
  },
  {
   "cell_type": "code",
   "execution_count": null,
   "metadata": {},
   "outputs": [],
   "source": [
    "# distribution for pairs which were cointegrated in train and test\n",
    "sharpe_results_pairs_overlapped = np.asarray([sharpe_results_kalman_test[index] for index \\\n",
    "                                              in profitable_pairs_overlapped_index])\n",
    "cum_returns_pairs_overlapped = np.asarray([cum_returns_kalman_test[index] for index \\\n",
    "                                              in profitable_pairs_overlapped_index])\n",
    "\n",
    "if len(sharpe_results_pairs_overlapped)>0:\n",
    "    _,_,_,_ = trader.calculate_metrics(sharpe_results_pairs_overlapped, cum_returns_pairs_overlapped,\n",
    "                                   n_years_test)\n",
    "else:\n",
    "    print('0% of the pairs cointegrated in the train are also cointegrated in the test set')"
   ]
  },
  {
   "cell_type": "markdown",
   "metadata": {},
   "source": [
    "*Not cointegrated anymore*"
   ]
  },
  {
   "cell_type": "code",
   "execution_count": null,
   "metadata": {},
   "outputs": [],
   "source": [
    "# distribution for pairs which were cointegrated in train but not in test\n",
    "profitable_pairs_not_overlapped_index = [i for i in np.arange(0,len(profitable_pairs))\\\n",
    "                                         if i not in profitable_pairs_overlapped_index]\n",
    "\n",
    "sharpe_results_pairs_not_overlapped = np.asarray([sharpe_results_kalman_test[index] for index \\\n",
    "                                              in profitable_pairs_not_overlapped_index])\n",
    "\n",
    "cum_returns_pairs_not_overlapped = np.asarray([cum_returns_kalman_test[index] for index \\\n",
    "                                              in profitable_pairs_not_overlapped_index])\n",
    "\n",
    "_,_,_,_ = trader.calculate_metrics(sharpe_results_pairs_not_overlapped, cum_returns_pairs_not_overlapped,\n",
    "                                   n_years_test)"
   ]
  },
  {
   "cell_type": "markdown",
   "metadata": {},
   "source": [
    "Answering to the first question we were concerned with, we verify that a cointegrated pair is indeed more likely to have a positive return. Furthermore, we can conclude from the results that being cointegrated implied that those pairs generated higher returns. \n",
    "\n",
    "**TO REVIEW:Conclusion**: The fact that a pair is not cointegrated anymore does not impact the results obained. In fact, we just concluded that betting solely on the cointegrated pairs would yield a worse result. Therefore, we should not spend much effort in detecting pairs that are no cointegrated anymore."
   ]
  },
  {
   "cell_type": "markdown",
   "metadata": {},
   "source": [
    "Following with point number **2)**, we proceed to analyze the performance of the pairs that woud have been identified in the testing period."
   ]
  },
  {
   "cell_type": "code",
   "execution_count": null,
   "metadata": {},
   "outputs": [],
   "source": [
    "initial_test_date = config['dataset']['testing_initial_date']\n",
    "final_teste_date = config['dataset']['testing_final_date']\n",
    "\n",
    "# Get returns for test period\n",
    "df_returns_test = data_processor.get_return_series(df_prices_test)\n",
    "\n",
    "# APPLY PCA and CLUSTERING\n",
    "range_n_components = config['PCA']['N_COMPONENTS']\n",
    "X_test, clustered_series_all_test, clustered_series_test, counts_test, clf_test = \\\n",
    "            series_analyser.clustering_for_optimal_PCA(range_n_components[0], range_n_components[1],\n",
    "                                                       df_returns_test, config['clustering'])\n",
    "# Find pairs\n",
    "pairs_test, unique_tickers_test = series_analyser.get_candidate_pairs(\\\n",
    "                                            clustered_series=clustered_series_test,\n",
    "                                            pricing_df_train=df_prices_test,\n",
    "                                            pricing_df_test=df_prices_train,\n",
    "                                            min_half_life=config['pair_restrictions']['min_half_life'],\n",
    "                                            min_zero_crosings=config['pair_restrictions']['min_zero_crossings'],\n",
    "                                            p_value_threshold=config['pair_restrictions']['p_value_threshold'],\n",
    "                                            hurst_threshold=config['pair_restrictions']['hurst_threshold']\n",
    "                                            )\n",
    "\n",
    "# Finally, see overlap\n",
    "pairs_overlapped, pairs_overlapped_index = series_analyser.pairs_overlap(pairs_test,\n",
    "                                  config['pair_restrictions']['p_value_threshold'],\n",
    "                                  config['pair_restrictions']['min_zero_crossings'],\n",
    "                                  config['pair_restrictions']['min_half_life'],\n",
    "                                  config['pair_restrictions']['hurst_threshold'])\n",
    "print('{} of the {} pairs identified in the test set are also cointegrated in the training set'.format(\\\n",
    "    len(pairs_overlapped), len(pairs_test)))"
   ]
  },
  {
   "cell_type": "markdown",
   "metadata": {},
   "source": [
    "Let's see if the pairs identified in the test period lead indeed to improved results:"
   ]
  },
  {
   "cell_type": "code",
   "execution_count": null,
   "metadata": {
    "scrolled": true
   },
   "outputs": [],
   "source": [
    "sharpe_results_kalman_test_newpairs, cum_returns_kalman_test_newpairs, performance_kalman_test_newpairs =\\\n",
    "    trader.apply_kalman_strategy(pairs_test, entry_multiplier,exit_multiplier,trading_filter, test_mode=False)\n",
    "\n",
    "_,_,_,_ = trader.calculate_metrics(sharpe_results_kalman_test_newpairs, cum_returns_kalman_test_newpairs,\n",
    "                                   n_years_test)"
   ]
  },
  {
   "cell_type": "markdown",
   "metadata": {},
   "source": [
    "The sharpe ratio is higher in this scenatio. Note hoewever, that the annual ROI is not so high as the pairs identified previously. This might be linked with the fact that these pairs did not prove to be cointegrated for a period as long as the other and therefore the pairs might be less stable."
   ]
  },
  {
   "cell_type": "markdown",
   "metadata": {},
   "source": [
    "## Analyzing the influence of pairs statistics\n",
    "\n",
    "It's interesting to analyze whether we could have used extra information from the pairs trading statistic, instead of considering it just as a pass or not pass test. `Law 2017` explore this concept on their paper (htey basically rank pairs according to a trade off between t-statistic and spread deviation from its mean). However, what we see below is that there is no obvious influence of any parameter in the performance of the corresponding pair."
   ]
  },
  {
   "cell_type": "code",
   "execution_count": null,
   "metadata": {},
   "outputs": [],
   "source": [
    "pairs_summary.corr()[['sharpe_result', 'positive_trades_per_pair_pct']].loc[['t_statistic', 'p_value',\n",
    "                                                                             'zero_cross', 'half_life',\n",
    "                                                                             'hurst_exponent']]"
   ]
  },
  {
   "cell_type": "markdown",
   "metadata": {},
   "source": [
    "### The Correlation Filter\n",
    "\n",
    "The correlation filter aims to track how the correlation between the two legs of tha pair is varing, and provide that information as input to the trading strategy."
   ]
  },
  {
   "cell_type": "code",
   "execution_count": null,
   "metadata": {},
   "outputs": [],
   "source": [
    "example_pair = failed_pairs[2]\n",
    "\n",
    "example_pair_leg1 = example_pair[0][0]\n",
    "example_pair_leg2 = example_pair[0][1]\n",
    "\n",
    "example_pair_prices = etfs_pricing[[example_pair_leg1, example_pair_leg2]]\n",
    "example_pair_prices.plot(figsize=(15,5))\n",
    "\n",
    "\n",
    "# proceed to calculate correlation\n",
    "rolling_window = config['trading']['lookback_multiplier']*example_pair[0][2]['half_life']\n",
    "\n",
    "# get returns\n",
    "example_pair_returns = data_processor.get_return_series(example_pair_prices)\n",
    "\n",
    "# analyze correlation on returns\n",
    "example_correlation = example_pair_returns[example_pair_leg1].rolling(rolling_window).corr(example_pair_returns[example_pair_leg2])\n",
    "\n",
    "# plot correlation of returns\n",
    "diff_example_correlation = example_correlation.diff(periods=1)\n",
    "#diff_example_correlation = diff_example_correlation*10\n",
    "diff_example_correlation.plot()"
   ]
  },
  {
   "cell_type": "markdown",
   "metadata": {},
   "source": [
    "This result indicates there's almost no correlation between correlation diff and returns... Let's see how this result varies on average:"
   ]
  },
  {
   "cell_type": "code",
   "execution_count": null,
   "metadata": {},
   "outputs": [],
   "source": [
    "failure_correlations = []\n",
    "for failure in failed_pairs:\n",
    "    failure_df = failure[1][failure[1].units != 0]\n",
    "    correlation = failure_df['ret'].corr(failure_df['correlation'])\n",
    "    failure_correlations.append(correlation)\n",
    "    \n",
    "print(np.mean(failure_correlations))"
   ]
  },
  {
   "cell_type": "markdown",
   "metadata": {},
   "source": [
    "However, we are not realyy interested in the correlation of the the diff column, but rather on the correlation with its sign."
   ]
  },
  {
   "cell_type": "code",
   "execution_count": null,
   "metadata": {},
   "outputs": [],
   "source": [
    "failure_correlations = []\n",
    "for failure in failed_pairs:\n",
    "    failure_df = failure[1][failure[1].units != 0]\n",
    "    failure_df['diff_correlation_sign']=failure_df['diff_correlation'].apply(lambda row: -1 if row<0 else 1)\n",
    "    correlation = failure_df['ret'].corr(failure_df['diff_correlation_sign'])\n",
    "    failure_correlations.append(correlation)\n",
    "    \n",
    "print(np.mean(failure_correlations))"
   ]
  },
  {
   "cell_type": "markdown",
   "metadata": {},
   "source": [
    "We could use mutual information rather than correlation as the sign is discrete. What about the relation with the zscore evolution?"
   ]
  },
  {
   "cell_type": "markdown",
   "metadata": {},
   "source": [
    "### Analyze non-profitable pairs"
   ]
  },
  {
   "cell_type": "code",
   "execution_count": null,
   "metadata": {},
   "outputs": [],
   "source": [
    "sharpe_results_kalman_test = np.asarray(sharpe_results_kalman_test)\n",
    "negative_pairs_indices = np.argwhere(sharpe_results_kalman_test < 0)\n",
    "print('{} out of {} pairs turned out to be non-profitable'.format(len(negative_pairs_indices), len(pairs)))"
   ]
  },
  {
   "cell_type": "markdown",
   "metadata": {},
   "source": [
    "Let's get some more information on the non-profitable pairs:"
   ]
  },
  {
   "cell_type": "code",
   "execution_count": null,
   "metadata": {},
   "outputs": [],
   "source": [
    "negative_pairs = [pairs[i] for i in negative_pairs_indices.flatten()]\n",
    "negative_pairs = [(item[0], item[1]) for item in negative_pairs]\n",
    "negative_pairs"
   ]
  },
  {
   "cell_type": "markdown",
   "metadata": {},
   "source": [
    "To what clusters do these pairs belong?"
   ]
  },
  {
   "cell_type": "code",
   "execution_count": null,
   "metadata": {},
   "outputs": [],
   "source": [
    "for label_n in range(len(counts)):\n",
    "    elements_cluster_n = list(clustered_series[clustered_series == label_n].index)\n",
    "    etfs_cluster_n = etfs_unique[etfs_unique['Ticker'].isin(elements_cluster_n)]\n",
    "    for pair in negative_pairs:\n",
    "        if pair[0] in list(etfs_cluster_n.Ticker):\n",
    "            print('Pair {} belongs to cluster {}'.format(pair, label_n))"
   ]
  },
  {
   "cell_type": "markdown",
   "metadata": {},
   "source": [
    "How do the statistics rank?"
   ]
  },
  {
   "cell_type": "code",
   "execution_count": null,
   "metadata": {},
   "outputs": [],
   "source": [
    "sorted_indices = np.flip(np.argsort(sharpe_results_bollinger), axis=0)\n",
    "\n",
    "# initialize list of lists \n",
    "data = []\n",
    "for index in sorted_indices:\n",
    "    # get number of positive and negative positions\n",
    "    position_returns = performance_bollinger[index][1].position_return\n",
    "    positive_positions = len(position_returns[position_returns>0])\n",
    "    negative_positions = len(position_returns[position_returns<0])\n",
    "    data.append([pairs[index][0],\n",
    "                 pairs[index][1],\n",
    "                 pairs[index][2]['t_statistic'],\n",
    "                 pairs[index][2]['p_value'],\n",
    "                 pairs[index][2]['zero_cross'],\n",
    "                 pairs[index][2]['half_life'],\n",
    "                 pairs[index][2]['hurst_exponent'],\n",
    "                 positive_positions,\n",
    "                 negative_positions,\n",
    "                 sharpe_results_bollinger[index]\n",
    "                ])\n",
    "      \n",
    "# Create the pandas DataFrame \n",
    "df = pd.DataFrame(data, columns = ['Leg1', 'Leg2', 't_statistic', 'p_value', 'zero_cross',\n",
    "                                   'half_life', 'hurst_exponent', 'positive trades', 'negative_trades',\n",
    "                                   'sharpe_result']) \n",
    "df"
   ]
  },
  {
   "cell_type": "code",
   "execution_count": null,
   "metadata": {},
   "outputs": [],
   "source": [
    "df.half_life.mean()"
   ]
  },
  {
   "cell_type": "code",
   "execution_count": null,
   "metadata": {},
   "outputs": [],
   "source": [
    "# analyze correlations\n",
    "print('Half-life vs Sharpe Ratio correlation: ', df['sharpe_result'].corr(df['half_life']))\n",
    "print('Zero crossings vs Sharpe Ratio correlation: ', df['sharpe_result'].corr(df['zero_cross']))\n",
    "print('p-value vs Sharpe Ratio correlation: ', df['sharpe_result'].corr(df['p_value']))\n",
    "print('t-statistic vs Sharpe Ratio correlation: ', df['sharpe_result'].corr(df['t_statistic']))\n",
    "print('Hurst exponent vs Sharpe Ratio correlation ', df['sharpe_result'].corr(df['hurst_exponent']))"
   ]
  },
  {
   "cell_type": "markdown",
   "metadata": {},
   "source": [
    "Are there any signs these pairs were not profitable as the strategy evolves? Could we have predicted their lack of profitability?\n",
    "- Using a ML algorithm that recognizes when a pair is not profitable anymore.\n",
    "- Checking how the hurst exponent has been changing.\n",
    "- Analyze their previous positions' returns"
   ]
  }
 ],
 "metadata": {
  "kernelspec": {
   "display_name": "Python [conda root]",
   "language": "python",
   "name": "conda-root-py"
  },
  "language_info": {
   "codemirror_mode": {
    "name": "ipython",
    "version": 3
   },
   "file_extension": ".py",
   "mimetype": "text/x-python",
   "name": "python",
   "nbconvert_exporter": "python",
   "pygments_lexer": "ipython3",
   "version": "3.6.0"
  }
 },
 "nbformat": 4,
 "nbformat_minor": 2
}
