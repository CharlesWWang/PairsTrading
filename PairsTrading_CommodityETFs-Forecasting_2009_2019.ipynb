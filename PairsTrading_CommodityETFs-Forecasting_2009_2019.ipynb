{
 "cells": [
  {
   "cell_type": "markdown",
   "metadata": {},
   "source": [
    "# A Pairs Trading strategy boosted with AI\n",
    "\n",
    "This notebook explores a pairs trading strategy fueled by AI innovative techniques. This projected is being developed as part of a master thesis for the degree of Electrical and Computer Engineering."
   ]
  },
  {
   "cell_type": "markdown",
   "metadata": {},
   "source": [
    "## Dependencies\n",
    "\n",
    "This notebook requires code from:\n",
    "\n",
    "Python files:\n",
    "- `class_SeriesAnalyser.py` - contains a set of functions to deal with time series analysis.\n",
    "- `class_ForecastingTrader.py` - contains a set of functions concerning trading strategies.\n",
    "- `class_DataProcessor.py` - contains a set of functions concerning the data pre processing.\n",
    "\n",
    "Pickle files:\n",
    "- pickle file containing pairs to be traded (obtained from running `PairsTrading_CommodityETFs-Clustering.ipynb`)\n",
    "\n",
    "As a good practise, the notebook solely intends to exemplify the application of different trading strategies for different dataset examples, rather than coding the strategies theirselves. Please look into the files menitoned above for more detailed info on how the functions are built."
   ]
  },
  {
   "cell_type": "markdown",
   "metadata": {},
   "source": [
    "### Import Libraries"
   ]
  },
  {
   "cell_type": "code",
   "execution_count": 1,
   "metadata": {},
   "outputs": [
    {
     "name": "stderr",
     "output_type": "stream",
     "text": [
      "/Users/simaomoraessarmento/anaconda/lib/python3.6/site-packages/h5py/__init__.py:34: FutureWarning: Conversion of the second argument of issubdtype from `float` to `np.floating` is deprecated. In future, it will be treated as `np.float64 == np.dtype(float).type`.\n",
      "  from ._conv import register_converters as _register_converters\n",
      "Using TensorFlow backend.\n"
     ]
    }
   ],
   "source": [
    "import numpy as np\n",
    "np.random.seed(1) # NumPy\n",
    "import random\n",
    "random.seed(3) # Python\n",
    "import tensorflow as tf\n",
    "tf.set_random_seed(2) # Tensorflow\n",
    "session_conf = tf.ConfigProto(intra_op_parallelism_threads=1,\n",
    "                              inter_op_parallelism_threads=1)\n",
    "from keras import backend as K\n",
    "sess = tf.Session(graph=tf.get_default_graph(), config=session_conf)\n",
    "K.set_session(sess)"
   ]
  },
  {
   "cell_type": "code",
   "execution_count": 2,
   "metadata": {},
   "outputs": [
    {
     "data": {
      "text/plain": [
       "'1.6.0'"
      ]
     },
     "execution_count": 2,
     "metadata": {},
     "output_type": "execute_result"
    }
   ],
   "source": [
    "tf.__version__"
   ]
  },
  {
   "cell_type": "code",
   "execution_count": 3,
   "metadata": {},
   "outputs": [],
   "source": [
    "import warnings\n",
    "warnings.filterwarnings('ignore')\n",
    "\n",
    "from pylab import *\n",
    "\n",
    "import pandas as pd\n",
    "import pickle\n",
    "import time\n",
    "import sys\n",
    "import json\n",
    "import os\n",
    "\n",
    "import statsmodels\n",
    "import statsmodels.api as sm\n",
    "from statsmodels.tsa.stattools import coint, adfuller\n",
    "\n",
    "import matplotlib.pyplot as plt\n",
    "import matplotlib.cm as cm\n",
    "\n",
    "# Import Datetime and the Pandas DataReader\n",
    "from datetime import datetime\n",
    "from pandas_datareader import data, wb\n",
    "\n",
    "# Import scikit instruments\n",
    "from sklearn.cluster import DBSCAN\n",
    "from sklearn.decomposition import PCA\n",
    "from sklearn.manifold import TSNE\n",
    "from sklearn import preprocessing\n",
    "from sklearn.metrics import silhouette_score\n",
    "from sklearn.metrics import mean_squared_error, mean_absolute_error\n",
    "from sklearn.preprocessing import MinMaxScaler, StandardScaler\n",
    "\n",
    "\n",
    "# Import keras\n",
    "from keras.models import Sequential, load_model\n",
    "from keras.layers import Dense, Flatten, LSTM, GRU, Dropout, TimeDistributed\n",
    "from keras.optimizers import SGD, Adam\n",
    "from keras.layers.convolutional import Conv1D\n",
    "from keras.layers.convolutional import MaxPooling1D\n",
    "from keras.callbacks import EarlyStopping, ProgbarLogger"
   ]
  },
  {
   "cell_type": "code",
   "execution_count": 4,
   "metadata": {},
   "outputs": [],
   "source": [
    "config_file = 'config/config_commodities_2010_2019.json'"
   ]
  },
  {
   "cell_type": "code",
   "execution_count": 5,
   "metadata": {},
   "outputs": [
    {
     "data": {
      "text/plain": [
       "'0.24.2'"
      ]
     },
     "execution_count": 5,
     "metadata": {},
     "output_type": "execute_result"
    }
   ],
   "source": [
    "pd.__version__"
   ]
  },
  {
   "cell_type": "markdown",
   "metadata": {},
   "source": [
    "### Import Configurations"
   ]
  },
  {
   "cell_type": "code",
   "execution_count": 6,
   "metadata": {},
   "outputs": [],
   "source": [
    "with open(config_file, 'r') as f:\n",
    "    config = json.load(f)"
   ]
  },
  {
   "cell_type": "markdown",
   "metadata": {},
   "source": [
    "### Import Classes"
   ]
  },
  {
   "cell_type": "code",
   "execution_count": 1073,
   "metadata": {},
   "outputs": [
    {
     "name": "stdout",
     "output_type": "stream",
     "text": [
      "The autoreload extension is already loaded. To reload it, use:\n",
      "  %reload_ext autoreload\n"
     ]
    }
   ],
   "source": [
    "%load_ext autoreload\n",
    "%aimport class_SeriesAnalyser, class_Trader, class_DataProcessor, class_ForecastingTrader\n",
    "%autoreload 1"
   ]
  },
  {
   "cell_type": "code",
   "execution_count": 1074,
   "metadata": {},
   "outputs": [],
   "source": [
    "series_analyser = class_SeriesAnalyser.SeriesAnalyser()\n",
    "trader = class_Trader.Trader()\n",
    "data_processor = class_DataProcessor.DataProcessor()\n",
    "forecasting_trader = class_ForecastingTrader.ForecastingTrader()"
   ]
  },
  {
   "cell_type": "markdown",
   "metadata": {},
   "source": [
    "# Retrieve prices data set"
   ]
  },
  {
   "cell_type": "markdown",
   "metadata": {},
   "source": [
    "We start by retrieving the data from a Dataframe saved in a pickle file, as it was previously processed in the `PairsTrading_CommodityETFS_Datapreprocessing.ipynb` notebook."
   ]
  },
  {
   "cell_type": "code",
   "execution_count": 10,
   "metadata": {},
   "outputs": [],
   "source": [
    "# intraday\n",
    "df_prices = pd.read_pickle('data/etfs/pickle/commodity_ETFs_intraday_interpolated_screened_no_outliers.pickle')\n",
    "\n",
    "# inter day\n",
    "#df_prices = pd.read_pickle('data/etfs/pickle/commodity_ETFs_interpolated_screened')"
   ]
  },
  {
   "cell_type": "code",
   "execution_count": 11,
   "metadata": {},
   "outputs": [
    {
     "name": "stdout",
     "output_type": "stream",
     "text": [
      "Total of 59 tickers\n",
      "Total of 58 tickers after removing tickers with Nan values\n"
     ]
    }
   ],
   "source": [
    "# split data in training and test\n",
    "df_prices_train, df_prices_test = data_processor.split_data(df_prices,\n",
    "                                                            ('01-01-2009',\n",
    "                                                             '31-12-2017'),\n",
    "                                                            ('01-01-2018',\n",
    "                                                             '31-12-2018'),\n",
    "                                                            remove_nan=True)"
   ]
  },
  {
   "cell_type": "code",
   "execution_count": 12,
   "metadata": {
    "scrolled": true
   },
   "outputs": [
    {
     "data": {
      "text/plain": [
       "195414"
      ]
     },
     "execution_count": 12,
     "metadata": {},
     "output_type": "execute_result"
    }
   ],
   "source": [
    "len(df_prices_train)+len(df_prices_test)"
   ]
  },
  {
   "cell_type": "markdown",
   "metadata": {},
   "source": [
    "# Load Pairs"
   ]
  },
  {
   "cell_type": "code",
   "execution_count": 271,
   "metadata": {},
   "outputs": [],
   "source": [
    "# intraday\n",
    "n_years_train = round(len(df_prices_train)/(240*78))\n",
    "\n",
    "# interday\n",
    "#n_years_train = round(len(df_prices_train)/(240))\n",
    "\n",
    "n_years_train\n",
    "\n",
    "train_val_split = '2017-01-01'"
   ]
  },
  {
   "cell_type": "markdown",
   "metadata": {},
   "source": [
    "# The ideal scenario - forecasting accuracy of 100%"
   ]
  },
  {
   "cell_type": "code",
   "execution_count": 932,
   "metadata": {},
   "outputs": [
    {
     "name": "stdout",
     "output_type": "stream",
     "text": [
      "Long threshold: 0.23\n",
      "Short threshold: -0.24\n",
      "Accuracy of time series forecasting: 100.00%\n",
      "Pair 0: Accumulated return: 10.723356019812048%\n",
      "Long threshold: 0.07\n",
      "Short threshold: -0.07\n",
      "Accuracy of time series forecasting: 100.00%\n",
      "Pair 1: Accumulated return: -3.756966799459527%\n",
      "Long threshold: 0.03\n",
      "Short threshold: -0.03\n",
      "Accuracy of time series forecasting: 100.00%\n",
      "Pair 2: Accumulated return: 17.239328571588896%\n",
      "Long threshold: 0.03\n",
      "Short threshold: -0.03\n",
      "Accuracy of time series forecasting: 100.00%\n",
      "Pair 3: Accumulated return: 5.6362617280037774%\n",
      "Long threshold: 0.09\n",
      "Short threshold: -0.09\n",
      "Accuracy of time series forecasting: 100.00%\n",
      "Pair 4: Accumulated return: 32.47421415939109%\n",
      "\n",
      "Average annual ROI: 12.46\n"
     ]
    }
   ],
   "source": [
    "# define data size - select one year for validation\n",
    "train_val_split = '2017-01-01' # initial date\n",
    "cumret_pairs = []    \n",
    "summaries = []\n",
    "val=True\n",
    "for i in range(len(pairs)):\n",
    "    example = pairs[i]\n",
    "    example_spread = example[2]['spread']\n",
    "\n",
    "    if val:\n",
    "        # spread validation\n",
    "        spread_val = example_spread[train_val_split:] \n",
    "    else:\n",
    "        spread_val = pairs[i][2]['Y_test']-pairs[i][2]['coint_coef']*pairs[i][2]['X_test']\n",
    "\n",
    "    ret_example, cumret_example, summary_example, _ = forecasting_trader.spread_trading(\n",
    "                                                                       X=example[2]['X_train'][train_val_split:],\n",
    "                                                                       Y=example[2]['Y_train'][train_val_split:],\n",
    "                                                                       spread_test=spread_val,\n",
    "                                                                       spread_train=example_spread[:train_val_split],\n",
    "                                                                       beta=pairs[i][2]['coint_coef'], \n",
    "                                                                       predictions=spread_val,\n",
    "                                                                       lag=1,\n",
    "                                                                       low_quantile=0.05,\n",
    "                                                                       high_quantile=0.95)\n",
    "    print('Pair {}: Accumulated return: {}%'.format(i,cumret_example[-1]*100))\n",
    "    cumret_pairs.append(cumret_example[-1]*100)\n",
    "    summaries.append(summary_example)\n",
    "    #cumret_example.plot()\n",
    "print('\\nAverage annual ROI: {:.2f}'.format(np.mean(cumret_pairs)))"
   ]
  },
  {
   "cell_type": "code",
   "execution_count": 933,
   "metadata": {},
   "outputs": [
    {
     "name": "stdout",
     "output_type": "stream",
     "text": [
      "Long threshold: 57.98\n",
      "Short threshold: -57.06\n",
      "Pair 0: Accumulated return: 67.07757117005887%\n",
      "Long threshold: 1.63\n",
      "Short threshold: -1.66\n",
      "Pair 1: Accumulated return: -80.11194883917233%\n",
      "Long threshold: 9.43\n",
      "Short threshold: -8.74\n",
      "Pair 2: Accumulated return: 12.643800438612217%\n",
      "Long threshold: 1.53\n",
      "Short threshold: -1.51\n",
      "Pair 3: Accumulated return: 67.00878725721675%\n",
      "Long threshold: 103.64\n",
      "Short threshold: -102.71\n",
      "Pair 4: Accumulated return: 0.9936748474326684%\n",
      "\n",
      "Average annual ROI: 13.52\n"
     ]
    }
   ],
   "source": [
    "# define data size - select one year for validation\n",
    "train_val_split = '2017-01-01' # initial date\n",
    "cumret_pairs = []    \n",
    "summaries = []\n",
    "val=False\n",
    "for i in range(len(pairs)):\n",
    "    example = pairs[i]\n",
    "    example_spread = example[2]['spread']\n",
    "\n",
    "    if val:\n",
    "        # spread validation\n",
    "        spread_val = example_spread[train_val_split:] \n",
    "    else:\n",
    "        spread_val = pairs[i][2]['Y_test']-pairs[i][2]['coint_coef']*pairs[i][2]['X_test']\n",
    "\n",
    "    ret_example, cumret_example, summary_example, _ = forecasting_trader.forecast_spread_trading(\n",
    "                                                                       X=example[2]['X_test'],\n",
    "                                                                       Y=example[2]['Y_test'],\n",
    "                                                                       spread_test=spread_val,\n",
    "                                                                       spread_train=example_spread[:train_val_split],\n",
    "                                                                       beta=pairs[i][2]['coint_coef'], \n",
    "                                                                       predictions=spread_val,\n",
    "                                                                       lag=1,\n",
    "                                                                       low_quantile=0.05,\n",
    "                                                                       high_quantile=0.95)\n",
    "    print('Pair {}: Accumulated return: {}%'.format(i,cumret_example[-1]*100))\n",
    "    cumret_pairs.append(cumret_example[-1]*100)\n",
    "    summaries.append(summary_example)\n",
    "    #cumret_example.plot()\n",
    "print('\\nAverage annual ROI: {:.2f}'.format(np.mean(cumret_pairs)))"
   ]
  },
  {
   "cell_type": "markdown",
   "metadata": {},
   "source": [
    "# ARMA/ARIMA Model"
   ]
  },
  {
   "cell_type": "code",
   "execution_count": 695,
   "metadata": {},
   "outputs": [],
   "source": [
    "from statsmodels.tsa.arima_model import ARIMA\n",
    "    \n",
    "def predict(coef, history, flag):\n",
    "    yhat = 0.0\n",
    "    for i in range(1, len(coef)+1):\n",
    "        yhat += coef[i-1] * history[-i]\n",
    "        \n",
    "    return yhat\n",
    "\n",
    "def static_ARIMA(spread_train, spread_test, p, d, q):\n",
    "\n",
    "    # normalize data\n",
    "    scaler = StandardScaler()\n",
    "    spread_train_norm = scaler.fit_transform(spread_train.values.reshape(spread_train.shape[0],1)) \n",
    "    spread_train_norm = pd.Series(data=spread_train_norm.flatten(), index=spread_train.index)\n",
    "\n",
    "    # spread test\n",
    "    spread_test_norm = scaler.transform(spread_test.values.reshape(spread_test.shape[0],1)) \n",
    "    spread_test_norm = pd.Series(data=spread_test_norm.flatten(), index=spread_test.index)\n",
    "\n",
    "    train, train_except_val, train_val, test = spread_train_norm.values, spread_train_norm[:'2017-01-01'].values,\\\n",
    "                                               spread_train_norm['2017-01-01':].values, spread_test_norm.values\n",
    "    history, history_val = np.asarray(train), np.asarray(train_except_val)\n",
    "    predictions, predictions_val = list(), list()\n",
    "    residuals, residuals_val = list(), list()\n",
    "    \n",
    "    #print('Start model fitting...')\n",
    "    start = time.time()\n",
    "    model = ARIMA(history, order=(p,d,q))\n",
    "    model_fit = model.fit(transparams=False, tol=0.0001, trend='nc', disp=1)\n",
    "    ar_coef, ma_coef = model_fit.arparams, model_fit.maparams \n",
    "    resid = model_fit.resid \n",
    "    end = time.time()\n",
    "    print('Finished model fitting... Time elapsed: ',(end - start))\n",
    "    print(model_fit.summary())\n",
    "\n",
    "    # validation data\n",
    "    residuals_val.extend(resid)\n",
    "    for t in range(len(train_val)): \n",
    "        yhat = predict(ar_coef, history_val, 'ar') + predict(ma_coef, residuals_val, 'ma')\n",
    "        predictions_val.append(yhat)\n",
    "        obs = train_val[t]\n",
    "        history_val = np.append(history_val, obs)\n",
    "        residuals_val.append(obs - yhat)\n",
    "        sys.stdout.write('\\r'+str(t))\n",
    "    \n",
    "    # test data\n",
    "    residuals.extend(resid)\n",
    "    for t in range(len(test)): \n",
    "        yhat = predict(ar_coef, history, 'ar') + predict(ma_coef, residuals, 'ma')\n",
    "        predictions.append(yhat)\n",
    "        obs = test[t]\n",
    "        history = np.append(history, obs)\n",
    "        residuals.append(obs - yhat)\n",
    "        sys.stdout.write('\\r'+str(t))\n",
    "        \n",
    "    # destandardize\n",
    "    predictions, predictions_val = np.array(predictions), np.array(predictions_val)\n",
    "    predictions =  scaler.inverse_transform(predictions.reshape(predictions.shape[0],1)).flatten()\n",
    "    predictions_val =  scaler.inverse_transform(predictions_val.reshape(predictions_val.shape[0],1)).flatten()\n",
    "    #mse = mean_squared_error(spread_test, predictions)\n",
    "    #rmse = np.sqrt(mse)\n",
    "    #print('\\nVal MSE: %.3E' % mse)\n",
    "    #print('Val RMSE: %.3E'% rmse)\n",
    "    \n",
    "    # plot\n",
    "    test = scaler.inverse_transform(test.reshape(test.shape[0],1)).flatten()\n",
    "    plt.plot(test)\n",
    "    plt.plot(predictions, color='red')\n",
    "    plt.show()\n",
    "    \n",
    "    predictions = pd.Series(data=predictions, index=spread_test.index, name='ARMA_predictions')\n",
    "    predictions_val = pd.Series(data=predictions_val, index=spread_train['2017-01-01':].index,\n",
    "                                name='ARMA_predictions_val')\n",
    "    \n",
    "    return predictions, predictions_val, mse"
   ]
  },
  {
   "cell_type": "markdown",
   "metadata": {},
   "source": [
    "Contrarily from the Neural Network models, predicting the time step t+n implies training until t+n-1, due to the residuals that must be inferred."
   ]
  },
  {
   "cell_type": "code",
   "execution_count": 696,
   "metadata": {},
   "outputs": [
    {
     "data": {
      "text/plain": [
       "5"
      ]
     },
     "execution_count": 696,
     "metadata": {},
     "output_type": "execute_result"
    }
   ],
   "source": [
    "current_path=('models_copy/rnn_5_pairs_optical/')\n",
    "with open(current_path+'pairs_unsupervised_learning_intraday.pickle', 'rb') as handle:\n",
    "    pairs = pickle.load(handle)\n",
    "len(pairs)"
   ]
  },
  {
   "cell_type": "code",
   "execution_count": 625,
   "metadata": {
    "scrolled": true
   },
   "outputs": [
    {
     "name": "stdout",
     "output_type": "stream",
     "text": [
      "\r",
      "Pair: 1/5"
     ]
    },
    {
     "name": "stderr",
     "output_type": "stream",
     "text": [
      "/Users/simaomoraessarmento/anaconda/lib/python3.6/site-packages/statsmodels/base/model.py:488: HessianInversionWarning: Inverting hessian failed, no bse or cov_params available\n",
      "  'available', HessianInversionWarning)\n",
      "/Users/simaomoraessarmento/anaconda/lib/python3.6/site-packages/statsmodels/base/model.py:508: ConvergenceWarning: Maximum Likelihood optimization failed to converge. Check mle_retvals\n",
      "  \"Check mle_retvals\", ConvergenceWarning)\n"
     ]
    },
    {
     "name": "stdout",
     "output_type": "stream",
     "text": [
      "Finished model fitting... Time elapsed:  667.5320100784302\n",
      "                              ARMA Model Results                              \n",
      "==============================================================================\n",
      "Dep. Variable:                      y   No. Observations:               176022\n",
      "Model:                    ARMA(12, 4)   Log Likelihood              269345.581\n",
      "Method:                       css-mle   S.D. of innovations                nan\n",
      "Date:                Tue, 30 Jul 2019   AIC                        -538657.162\n",
      "Time:                        11:44:34   BIC                        -538485.830\n",
      "Sample:                             0   HQIC                       -538606.454\n",
      "                                                                              \n",
      "==============================================================================\n",
      "                 coef    std err          z      P>|z|      [0.025      0.975]\n",
      "------------------------------------------------------------------------------\n",
      "ar.L1.y        0.9023      0.001    705.886      0.000       0.900       0.905\n",
      "ar.L2.y        0.1738      0.010     17.173      0.000       0.154       0.194\n",
      "ar.L3.y       -0.0049      0.015     -0.333      0.739      -0.034       0.024\n",
      "ar.L4.y        0.1830        nan        nan        nan         nan         nan\n",
      "ar.L5.y       -0.2274      0.010    -22.751      0.000      -0.247      -0.208\n",
      "ar.L6.y       -0.0002      0.003     -0.073      0.942      -0.007       0.006\n",
      "ar.L7.y       -0.0121      0.003     -3.639      0.000      -0.019      -0.006\n",
      "ar.L8.y       -0.0064      0.003     -1.948      0.051      -0.013    3.98e-05\n",
      "ar.L9.y       -0.0089      0.003     -2.758      0.006      -0.015      -0.003\n",
      "ar.L10.y       0.0011      0.003      0.337      0.736      -0.005       0.007\n",
      "ar.L11.y       0.0030      0.003      0.927      0.354      -0.003       0.009\n",
      "ar.L12.y      -0.0033      0.003     -1.155      0.248      -0.009       0.002\n",
      "ma.L1.y       -0.1337      0.003    -48.386      0.000      -0.139      -0.128\n",
      "ma.L2.y       -0.2497      0.011    -23.285      0.000      -0.271      -0.229\n",
      "ma.L3.y       -0.1333      0.006    -23.926      0.000      -0.144      -0.122\n",
      "ma.L4.y       -0.3000      0.010    -28.787      0.000      -0.320      -0.280\n",
      "                                    Roots                                     \n",
      "==============================================================================\n",
      "                   Real          Imaginary           Modulus         Frequency\n",
      "------------------------------------------------------------------------------\n",
      "AR.1            -1.4087           -0.0000j            1.4087           -0.5000\n",
      "AR.2            -1.8463           -0.0000j            1.8463           -0.5000\n",
      "AR.3            -1.2164           -1.3943j            1.8503           -0.3642\n",
      "AR.4            -1.2164           +1.3943j            1.8503            0.3642\n",
      "AR.5            -0.1611           -1.4177j            1.4269           -0.2680\n",
      "AR.6            -0.1611           +1.4177j            1.4269            0.2680\n",
      "AR.7             1.0001           -0.0000j            1.0001           -0.0000\n",
      "AR.8             1.2269           -0.0000j            1.2269           -0.0000\n",
      "AR.9             0.6283           -1.6986j            1.8111           -0.1936\n",
      "AR.10            0.6283           +1.6986j            1.8111            0.1936\n",
      "AR.11            1.7180           -1.1026j            2.0413           -0.0908\n",
      "AR.12            1.7180           +1.1026j            2.0413            0.0908\n",
      "MA.1             1.0756           -0.0000j            1.0756           -0.0000\n",
      "MA.2            -1.3701           -0.0000j            1.3701           -0.5000\n",
      "MA.3            -0.0749           -1.5022j            1.5040           -0.2579\n",
      "MA.4            -0.0749           +1.5022j            1.5040            0.2579\n",
      "------------------------------------------------------------------------------\n",
      "19391"
     ]
    },
    {
     "data": {
      "image/png": "[encoded data removed]",
      "text/plain": [
       "<matplotlib.figure.Figure at 0x1284c6eb8>"
      ]
     },
     "metadata": {},
     "output_type": "display_data"
    },
    {
     "name": "stdout",
     "output_type": "stream",
     "text": [
      "\r",
      "Pair: 2/5"
     ]
    },
    {
     "name": "stderr",
     "output_type": "stream",
     "text": [
      "/Users/simaomoraessarmento/anaconda/lib/python3.6/site-packages/statsmodels/base/model.py:488: HessianInversionWarning: Inverting hessian failed, no bse or cov_params available\n",
      "  'available', HessianInversionWarning)\n",
      "/Users/simaomoraessarmento/anaconda/lib/python3.6/site-packages/statsmodels/base/model.py:508: ConvergenceWarning: Maximum Likelihood optimization failed to converge. Check mle_retvals\n",
      "  \"Check mle_retvals\", ConvergenceWarning)\n"
     ]
    },
    {
     "name": "stdout",
     "output_type": "stream",
     "text": [
      "Finished model fitting... Time elapsed:  657.624354839325\n",
      "                              ARMA Model Results                              \n",
      "==============================================================================\n",
      "Dep. Variable:                      y   No. Observations:               176022\n",
      "Model:                    ARMA(12, 4)   Log Likelihood              380300.364\n",
      "Method:                       css-mle   S.D. of innovations                nan\n",
      "Date:                Tue, 30 Jul 2019   AIC                        -760566.728\n",
      "Time:                        12:00:28   BIC                        -760395.395\n",
      "Sample:                             0   HQIC                       -760516.020\n",
      "                                                                              \n",
      "==============================================================================\n",
      "                 coef    std err          z      P>|z|      [0.025      0.975]\n",
      "------------------------------------------------------------------------------\n",
      "ar.L1.y        0.7370      0.003    240.410      0.000       0.731       0.743\n",
      "ar.L2.y       -0.0181        nan        nan        nan         nan         nan\n",
      "ar.L3.y        0.3297        nan        nan        nan         nan         nan\n",
      "ar.L4.y        0.4387      0.007     62.437      0.000       0.425       0.453\n",
      "ar.L5.y       -0.4006      0.009    -42.963      0.000      -0.419      -0.382\n",
      "ar.L6.y       -0.0332      0.003    -10.176      0.000      -0.040      -0.027\n",
      "ar.L7.y       -0.0244      0.003     -7.250      0.000      -0.031      -0.018\n",
      "ar.L8.y       -0.0226      0.003     -7.031      0.000      -0.029      -0.016\n",
      "ar.L9.y       -0.0092      0.003     -3.014      0.003      -0.015      -0.003\n",
      "ar.L10.y       0.0010      0.003      0.352      0.725      -0.005       0.007\n",
      "ar.L11.y      -0.0045      0.003     -1.502      0.133      -0.010       0.001\n",
      "ar.L12.y       0.0061      0.002      2.555      0.011       0.001       0.011\n",
      "ma.L1.y        0.0400      0.004     10.358      0.000       0.032       0.048\n",
      "ma.L2.y        0.1232        nan        nan        nan         nan         nan\n",
      "ma.L3.y       -0.1832        nan        nan        nan         nan         nan\n",
      "ma.L4.y       -0.5340      0.011    -48.328      0.000      -0.556      -0.512\n",
      "                                    Roots                                     \n",
      "==============================================================================\n",
      "                   Real          Imaginary           Modulus         Frequency\n",
      "------------------------------------------------------------------------------\n",
      "AR.1            -1.2798           -0.0000j            1.2798           -0.5000\n",
      "AR.2            -0.0909           -1.1160j            1.1197           -0.2629\n",
      "AR.3            -0.0909           +1.1160j            1.1197            0.2629\n",
      "AR.4            -1.6059           -0.8538j            1.8187           -0.4222\n",
      "AR.5            -1.6059           +0.8538j            1.8187            0.4222\n",
      "AR.6            -0.4231           -1.8378j            1.8859           -0.2860\n",
      "AR.7            -0.4231           +1.8378j            1.8859            0.2860\n",
      "AR.8             1.0001           -0.0000j            1.0001           -0.0000\n",
      "AR.9             1.2387           -0.0000j            1.2387           -0.0000\n",
      "AR.10            0.9841           -1.5669j            1.8503           -0.1607\n",
      "AR.11            0.9841           +1.5669j            1.8503            0.1607\n",
      "AR.12            2.0398           -0.0000j            2.0398           -0.0000\n",
      "MA.1             1.1490           -0.0000j            1.1490           -0.0000\n",
      "MA.2            -0.0913           -1.1119j            1.1156           -0.2630\n",
      "MA.3            -0.0913           +1.1119j            1.1156            0.2630\n",
      "MA.4            -1.3095           -0.0000j            1.3095           -0.5000\n",
      "------------------------------------------------------------------------------\n",
      "19391"
     ]
    },
    {
     "data": {
      "image/png": "[encoded data removed]",
      "text/plain": [
       "<matplotlib.figure.Figure at 0x133a81048>"
      ]
     },
     "metadata": {},
     "output_type": "display_data"
    },
    {
     "name": "stdout",
     "output_type": "stream",
     "text": [
      "\r",
      "Pair: 3/5"
     ]
    },
    {
     "name": "stderr",
     "output_type": "stream",
     "text": [
      "/Users/simaomoraessarmento/anaconda/lib/python3.6/site-packages/statsmodels/base/model.py:508: ConvergenceWarning: Maximum Likelihood optimization failed to converge. Check mle_retvals\n",
      "  \"Check mle_retvals\", ConvergenceWarning)\n"
     ]
    },
    {
     "name": "stdout",
     "output_type": "stream",
     "text": [
      "Finished model fitting... Time elapsed:  634.6238179206848\n",
      "                              ARMA Model Results                              \n",
      "==============================================================================\n",
      "Dep. Variable:                      y   No. Observations:               176022\n",
      "Model:                    ARMA(12, 4)   Log Likelihood              347487.197\n",
      "Method:                       css-mle   S.D. of innovations                nan\n",
      "Date:                Tue, 30 Jul 2019   AIC                        -694940.395\n",
      "Time:                        12:16:09   BIC                        -694769.063\n",
      "Sample:                             0   HQIC                       -694889.687\n",
      "                                                                              \n",
      "==============================================================================\n",
      "                 coef    std err          z      P>|z|      [0.025      0.975]\n",
      "------------------------------------------------------------------------------\n",
      "ar.L1.y        0.8195      0.002    401.701      0.000       0.816       0.824\n",
      "ar.L2.y        0.3740      0.005     76.425      0.000       0.364       0.384\n",
      "ar.L3.y       -0.1690      0.013    -12.622      0.000      -0.195      -0.143\n",
      "ar.L4.y        0.1231      0.029      4.198      0.000       0.066       0.181\n",
      "ar.L5.y       -0.1171      0.018     -6.590      0.000      -0.152      -0.082\n",
      "ar.L6.y       -0.0166      0.004     -4.089      0.000      -0.024      -0.009\n",
      "ar.L7.y        0.0030      0.003      0.860      0.390      -0.004       0.010\n",
      "ar.L8.y       -0.0039      0.003     -1.182      0.237      -0.010       0.003\n",
      "ar.L9.y       -0.0160      0.003     -4.923      0.000      -0.022      -0.010\n",
      "ar.L10.y      -0.0029      0.003     -0.908      0.364      -0.009       0.003\n",
      "ar.L11.y      -0.0025      0.003     -0.784      0.433      -0.009       0.004\n",
      "ar.L12.y       0.0084      0.003      3.176      0.001       0.003       0.014\n",
      "ma.L1.y       -0.1094      0.003    -34.860      0.000      -0.116      -0.103\n",
      "ma.L2.y       -0.3453      0.005    -67.873      0.000      -0.355      -0.335\n",
      "ma.L3.y       -0.0331      0.013     -2.560      0.010      -0.058      -0.008\n",
      "ma.L4.y       -0.1590      0.025     -6.297      0.000      -0.209      -0.110\n",
      "                                    Roots                                     \n",
      "==============================================================================\n",
      "                   Real          Imaginary           Modulus         Frequency\n",
      "------------------------------------------------------------------------------\n",
      "AR.1             1.0001           -0.0000j            1.0001           -0.0000\n",
      "AR.2             1.4718           -0.1152j            1.4763           -0.0124\n",
      "AR.3             1.4718           +0.1152j            1.4763            0.0124\n",
      "AR.4             0.9634           -1.2190j            1.5537           -0.1436\n",
      "AR.5             0.9634           +1.2190j            1.5537            0.1436\n",
      "AR.6            -1.3058           -0.0000j            1.3058           -0.5000\n",
      "AR.7            -1.4431           -0.7515j            1.6271           -0.4236\n",
      "AR.8            -1.4431           +0.7515j            1.6271            0.4236\n",
      "AR.9            -0.7322           -1.5302j            1.6963           -0.3210\n",
      "AR.10           -0.7322           +1.5302j            1.6963            0.3210\n",
      "AR.11            0.0407           -1.5069j            1.5074           -0.2457\n",
      "AR.12            0.0407           +1.5069j            1.5074            0.2457\n",
      "MA.1             1.1929           -0.0000j            1.1929           -0.0000\n",
      "MA.2            -1.3815           -0.0000j            1.3815           -0.5000\n",
      "MA.3            -0.0097           -1.9534j            1.9534           -0.2508\n",
      "MA.4            -0.0097           +1.9534j            1.9534            0.2508\n",
      "------------------------------------------------------------------------------\n",
      "19391"
     ]
    },
    {
     "data": {
      "image/png": "[encoded data removed]",
      "text/plain": [
       "<matplotlib.figure.Figure at 0x12f373d30>"
      ]
     },
     "metadata": {},
     "output_type": "display_data"
    },
    {
     "name": "stdout",
     "output_type": "stream",
     "text": [
      "\r",
      "Pair: 4/5"
     ]
    },
    {
     "name": "stderr",
     "output_type": "stream",
     "text": [
      "/Users/simaomoraessarmento/anaconda/lib/python3.6/site-packages/statsmodels/base/model.py:488: HessianInversionWarning: Inverting hessian failed, no bse or cov_params available\n",
      "  'available', HessianInversionWarning)\n",
      "/Users/simaomoraessarmento/anaconda/lib/python3.6/site-packages/statsmodels/base/model.py:508: ConvergenceWarning: Maximum Likelihood optimization failed to converge. Check mle_retvals\n",
      "  \"Check mle_retvals\", ConvergenceWarning)\n"
     ]
    },
    {
     "name": "stdout",
     "output_type": "stream",
     "text": [
      "Finished model fitting... Time elapsed:  448.0322241783142\n",
      "                              ARMA Model Results                              \n",
      "==============================================================================\n",
      "Dep. Variable:                      y   No. Observations:               176022\n",
      "Model:                    ARMA(12, 4)   Log Likelihood              329382.103\n",
      "Method:                       css-mle   S.D. of innovations                nan\n",
      "Date:                Tue, 30 Jul 2019   AIC                        -658730.206\n",
      "Time:                        12:27:41   BIC                        -658558.874\n",
      "Sample:                             0   HQIC                       -658679.498\n",
      "                                                                              \n",
      "==============================================================================\n",
      "                 coef    std err          z      P>|z|      [0.025      0.975]\n",
      "------------------------------------------------------------------------------\n",
      "ar.L1.y        0.8658      0.000   4680.326      0.000       0.865       0.866\n",
      "ar.L2.y        0.0895        nan        nan        nan         nan         nan\n",
      "ar.L3.y        0.2360      0.000   1036.290      0.000       0.236       0.236\n",
      "ar.L4.y        0.1239      0.000    624.533      0.000       0.124       0.124\n",
      "ar.L5.y       -0.2480        nan        nan        nan         nan         nan\n",
      "ar.L6.y       -0.0351      0.003    -13.421      0.000      -0.040      -0.030\n",
      "ar.L7.y       -0.0128      0.003     -3.925      0.000      -0.019      -0.006\n",
      "ar.L8.y       -0.0130      0.003     -4.106      0.000      -0.019      -0.007\n",
      "ar.L9.y        0.0016      0.003      0.517      0.605      -0.005       0.008\n",
      "ar.L10.y      -0.0096      0.003     -3.071      0.002      -0.016      -0.003\n",
      "ar.L11.y       0.0056      0.003      1.771      0.076      -0.001       0.012\n",
      "ar.L12.y      -0.0040      0.002     -1.643      0.100      -0.009       0.001\n",
      "ma.L1.y       -0.1592      0.002    -69.826      0.000      -0.164      -0.155\n",
      "ma.L2.y       -0.1147      0.002    -52.514      0.000      -0.119      -0.110\n",
      "ma.L3.y       -0.2978      0.002   -124.388      0.000      -0.302      -0.293\n",
      "ma.L4.y       -0.3256      0.002   -139.706      0.000      -0.330      -0.321\n",
      "                                    Roots                                     \n",
      "==============================================================================\n",
      "                   Real          Imaginary           Modulus         Frequency\n",
      "------------------------------------------------------------------------------\n",
      "AR.1             1.0001           -0.0000j            1.0001           -0.0000\n",
      "AR.2             1.1616           -0.0000j            1.1616           -0.0000\n",
      "AR.3            -1.4819           -0.3475j            1.5221           -0.4633\n",
      "AR.4            -1.4819           +0.3475j            1.5221            0.4633\n",
      "AR.5            -0.1596           -1.3241j            1.3337           -0.2691\n",
      "AR.6            -0.1596           +1.3241j            1.3337            0.2691\n",
      "AR.7            -0.9984           -1.4758j            1.7818           -0.3447\n",
      "AR.8            -0.9984           +1.4758j            1.7818            0.3447\n",
      "AR.9             1.6905           -1.1654j            2.0532           -0.0961\n",
      "AR.10            1.6905           +1.1654j            2.0532            0.0961\n",
      "AR.11            0.5673           -1.8924j            1.9756           -0.2036\n",
      "AR.12            0.5673           +1.8924j            1.9756            0.2036\n",
      "MA.1             1.0381           -0.0000j            1.0381           -0.0000\n",
      "MA.2            -0.1692           -1.3432j            1.3538           -0.2699\n",
      "MA.3            -0.1692           +1.3432j            1.3538            0.2699\n",
      "MA.4            -1.6141           -0.0000j            1.6141           -0.5000\n",
      "------------------------------------------------------------------------------\n",
      "19391"
     ]
    },
    {
     "data": {
      "image/png": "[encoded data removed]",
      "text/plain": [
       "<matplotlib.figure.Figure at 0x134536d30>"
      ]
     },
     "metadata": {},
     "output_type": "display_data"
    },
    {
     "name": "stdout",
     "output_type": "stream",
     "text": [
      "\r",
      "Pair: 5/5"
     ]
    },
    {
     "name": "stderr",
     "output_type": "stream",
     "text": [
      "/Users/simaomoraessarmento/anaconda/lib/python3.6/site-packages/statsmodels/base/model.py:488: HessianInversionWarning: Inverting hessian failed, no bse or cov_params available\n",
      "  'available', HessianInversionWarning)\n",
      "/Users/simaomoraessarmento/anaconda/lib/python3.6/site-packages/statsmodels/base/model.py:508: ConvergenceWarning: Maximum Likelihood optimization failed to converge. Check mle_retvals\n",
      "  \"Check mle_retvals\", ConvergenceWarning)\n"
     ]
    },
    {
     "name": "stdout",
     "output_type": "stream",
     "text": [
      "Finished model fitting... Time elapsed:  610.8715419769287\n",
      "                              ARMA Model Results                              \n",
      "==============================================================================\n",
      "Dep. Variable:                      y   No. Observations:               176022\n",
      "Model:                    ARMA(12, 4)   Log Likelihood              174487.369\n",
      "Method:                       css-mle   S.D. of innovations                nan\n",
      "Date:                Tue, 30 Jul 2019   AIC                        -348940.737\n",
      "Time:                        12:40:36   BIC                        -348769.405\n",
      "Sample:                             0   HQIC                       -348890.029\n",
      "                                                                              \n",
      "==============================================================================\n",
      "                 coef    std err          z      P>|z|      [0.025      0.975]\n",
      "------------------------------------------------------------------------------\n",
      "ar.L1.y        0.5218      0.068      7.682      0.000       0.389       0.655\n",
      "ar.L2.y        0.3887      0.091      4.262      0.000       0.210       0.567\n",
      "ar.L3.y        0.0110        nan        nan        nan         nan         nan\n",
      "ar.L4.y        0.3354        nan        nan        nan         nan         nan\n",
      "ar.L5.y       -0.1787        nan        nan        nan         nan         nan\n",
      "ar.L6.y       -0.0380        nan        nan        nan         nan         nan\n",
      "ar.L7.y       -0.0174      0.002     -9.143      0.000      -0.021      -0.014\n",
      "ar.L8.y       -0.0040      0.003     -1.333      0.183      -0.010       0.002\n",
      "ar.L9.y       -0.0138      0.003     -4.822      0.000      -0.019      -0.008\n",
      "ar.L10.y      -0.0060      0.003     -1.971      0.049      -0.012   -3.35e-05\n",
      "ar.L11.y      -0.0063      0.003     -2.219      0.026      -0.012      -0.001\n",
      "ar.L12.y       0.0068      0.002      2.792      0.005       0.002       0.012\n",
      "ma.L1.y        0.0090      0.068      0.132      0.895      -0.124       0.142\n",
      "ma.L2.y       -0.2402      0.072     -3.321      0.001      -0.382      -0.098\n",
      "ma.L3.y       -0.0637        nan        nan        nan         nan         nan\n",
      "ma.L4.y       -0.3627        nan        nan        nan         nan         nan\n",
      "                                    Roots                                     \n",
      "==============================================================================\n",
      "                   Real          Imaginary           Modulus         Frequency\n",
      "------------------------------------------------------------------------------\n",
      "AR.1            -1.1753           -0.0000j            1.1753           -0.5000\n",
      "AR.2            -1.5193           -0.7681j            1.7024           -0.4255\n",
      "AR.3            -1.5193           +0.7681j            1.7024            0.4255\n",
      "AR.4            -0.0040           -1.3551j            1.3551           -0.2505\n",
      "AR.5            -0.0040           +1.3551j            1.3551            0.2505\n",
      "AR.6            -0.6435           -1.5533j            1.6813           -0.3125\n",
      "AR.7            -0.6435           +1.5533j            1.6813            0.3125\n",
      "AR.8             1.0003           -0.0000j            1.0003           -0.0000\n",
      "AR.9             0.9732           -1.3725j            1.6825           -0.1518\n",
      "AR.10            0.9732           +1.3725j            1.6825            0.1518\n",
      "AR.11            1.3974           -0.0000j            1.3974           -0.0000\n",
      "AR.12            2.0931           -0.0000j            2.0931           -0.0000\n",
      "MA.1             1.1370           -0.0000j            1.1370           -0.0000\n",
      "MA.2            -1.2004           -0.0000j            1.2004           -0.5000\n",
      "MA.3            -0.0560           -1.4201j            1.4212           -0.2563\n",
      "MA.4            -0.0560           +1.4201j            1.4212            0.2563\n",
      "------------------------------------------------------------------------------\n",
      "19391"
     ]
    },
    {
     "data": {
      "image/png": "[encoded data removed]",
      "text/plain": [
       "<matplotlib.figure.Figure at 0x12817a240>"
      ]
     },
     "metadata": {},
     "output_type": "display_data"
    }
   ],
   "source": [
    "arima_predictions_val, arima_predictions_test = [], []\n",
    "arima_val, arima_test = [], []\n",
    "for i, pair in enumerate(pairs):\n",
    "    sys.stdout.write(\"\\r\"+'Pair: {}/{}'.format(i + 1, len(pairs)))\n",
    "    sys.stdout.flush()\n",
    "    spread_train = pair[2]['spread']\n",
    "    spread_test = (pair[2]['Y_test'] - pair[2]['coint_coef']*pair[2]['X_test'])\n",
    "\n",
    "    pair_predictions_test, pair_predictions_val, error = static_ARIMA(spread_train, spread_test, 12, 0, 4)\n",
    "    # add predictions\n",
    "    arima_predictions_val.append(pair_predictions_val)\n",
    "    arima_predictions_test.append(pair_predictions_test)\n",
    "    # add spreads\n",
    "    arima_val.append(spread_train['2017-01-01':])\n",
    "    arima_test.append(spread_test)    "
   ]
  },
  {
   "cell_type": "code",
   "execution_count": 697,
   "metadata": {},
   "outputs": [
    {
     "name": "stdout",
     "output_type": "stream",
     "text": [
      "ARMA:  0.009598143171965877\n",
      "Benchmark:  0.01041369561199642\n"
     ]
    }
   ],
   "source": [
    "index = 0\n",
    "print('ARMA: ', mean_squared_error(arima_test[index], arima_predictions_test[index]))\n",
    "print('Benchmark: ', mean_squared_error(arima_test[index], \n",
    "                                        arima_test[index].shift(1).fillna(0)))"
   ]
  },
  {
   "cell_type": "markdown",
   "metadata": {},
   "source": [
    "## Trading with ARMA"
   ]
  },
  {
   "cell_type": "code",
   "execution_count": 1154,
   "metadata": {},
   "outputs": [],
   "source": [
    "# model to test\n",
    "low_quantile = 0.10\n",
    "high_quantile = 0.90"
   ]
  },
  {
   "cell_type": "markdown",
   "metadata": {},
   "source": [
    "**Validation**"
   ]
  },
  {
   "cell_type": "code",
   "execution_count": 1155,
   "metadata": {},
   "outputs": [
    {
     "name": "stdout",
     "output_type": "stream",
     "text": [
      "\n",
      "Pair loaded: PXE_PXI:\n",
      "Check pairs: PXE_PXI.\n",
      "Long threshold: 30.87\n",
      "Short threshold: -30.28\n",
      "Accumulated return: -1.66%\n",
      "Sharpe Ratio: -0.5678216980066089\n",
      "\n",
      "Pair loaded: DBA_GCC:\n",
      "Check pairs: DBA_GCC.\n",
      "Long threshold: 1.23\n",
      "Short threshold: -1.25\n",
      "Accumulated return: 1.48%\n",
      "Sharpe Ratio: 0.3709541198982\n",
      "\n",
      "Pair loaded: GCC_RJA:\n",
      "Check pairs: GCC_RJA.\n",
      "Long threshold: 5.25\n",
      "Short threshold: -4.96\n",
      "Accumulated return: 3.34%\n",
      "Sharpe Ratio: 0.9113927264682566\n",
      "\n",
      "Pair loaded: GSP_RJI:\n",
      "Check pairs: GSP_RJI.\n",
      "Long threshold: 1.08\n",
      "Short threshold: -1.07\n",
      "Accumulated return: 2.45%\n",
      "Sharpe Ratio: 0.7919961693181957\n",
      "\n",
      "Pair loaded: DGP_UGL:\n",
      "Check pairs: DGP_UGL.\n",
      "Long threshold: 54.94\n",
      "Short threshold: -48.31\n",
      "Accumulated return: 10.09%\n",
      "Sharpe Ratio: 2.615583052264036\n",
      "\n",
      "Model mean ROI: 3.14%\n",
      "Model mean Sharpe Ratio: 0.82\n",
      "Portfolio Sharpe Ratio:  1.5487607484635613\n"
     ]
    }
   ],
   "source": [
    "model_cumret, model_sharpe_ratio = list(), list()\n",
    "balance_summaries_arma, summaries_arma = list(), list()\n",
    "for pair_i in range(len(pairs)):\n",
    "    print('\\nPair loaded: {}_{}:'.format(model[pair_i]['leg1'], model[pair_i]['leg2']))\n",
    "    print('Check pairs: {}_{}.'.format(pairs[pair_i][0], pairs[pair_i][1]))\n",
    "    predictions = arima_predictions_val[pair_i]\n",
    "    #predictions = arima_val[pair_i].shift(1).fillna(0)\n",
    "    spread_train = pairs[pair_i][2]['spread'][:train_val_split]\n",
    "    spread_val = arima_val[pair_i]\n",
    "    \n",
    "    ret, cumret, summary, balance_summary = forecasting_trader.forecast_spread_trading(\n",
    "                                                        X=pairs[pair_i][2]['X_train'][train_val_split:],\n",
    "                                                        Y=pairs[pair_i][2]['Y_train'][train_val_split:],\n",
    "                                                        spread_test=spread_val,#[-len(predictions):],\n",
    "                                                        spread_train=spread_train,\n",
    "                                                        beta=pairs[pair_i][2]['coint_coef'],\n",
    "                                                        predictions=predictions,\n",
    "                                                        lag=1,\n",
    "                                                        low_quantile=low_quantile,\n",
    "                                                        high_quantile=high_quantile,\n",
    "                                                        multistep=0)\n",
    "    \n",
    "    print('Accumulated return: {:.2f}%'.format(cumret[-1] * 100))\n",
    "\n",
    "    if np.std(ret) != 0:\n",
    "        sharpe_ratio = trader.calculate_sharpe_ratio(1, 252, ret)\n",
    "    else:\n",
    "        sharpe_ratio = 0\n",
    "    print('Sharpe Ratio:', sharpe_ratio)\n",
    "\n",
    "    model_cumret.append(cumret[-1] * 100)\n",
    "    model_sharpe_ratio.append(sharpe_ratio)\n",
    "    summaries_arma.append(summary)\n",
    "    balance_summaries_arma.append(balance_summary)\n",
    "\n",
    "print('\\nModel mean ROI: {:.2f}%'.format(np.mean(model_cumret)))\n",
    "print('Model mean Sharpe Ratio: {:.2f}'.format(np.mean(model_sharpe_ratio)))\n",
    "performance_arma = [(summaries_arma[i], balance_summaries_arma[i]) for i in range(len(pairs))]\n",
    "print('Portfolio Sharpe Ratio: ',trader.calculate_portfolio_sharpe_ratio(performance_arma, pairs))"
   ]
  },
  {
   "cell_type": "code",
   "execution_count": 1156,
   "metadata": {},
   "outputs": [
    {
     "data": {
      "image/png": "[encoded data removed]",
      "text/plain": [
       "<matplotlib.figure.Figure at 0x13589ce48>"
      ]
     },
     "metadata": {},
     "output_type": "display_data"
    }
   ],
   "source": [
    "initial = 0\n",
    "final=50\n",
    "sampling = 1\n",
    "plt.figure(figsize=(20,10))\n",
    "plt.grid()\n",
    "plt.plot(summaries_arma[-1]['prediction(t)'].values[initial:final:sampling], color='blue', label='Forecast')\n",
    "plt.plot(summaries_arma[-1]['spread(t)'].values[initial:final:sampling], color='red', label='Spread')\n",
    "plt.plot(summaries_arma[-1]['position_during_day'].values[initial:final:sampling], color='orange',\n",
    "         label='Position')\n",
    "dates = summaries_arma[0]['prediction(t)'][initial:final:sampling].index[::1]\n",
    "xi = np.arange(0, len(summaries_arma[-1]['prediction(t)'][initial:final:sampling]), 1)\n",
    "plt.xticks(xi, dates, rotation=90)\n",
    "plt.legend()\n",
    "plt.show()"
   ]
  },
  {
   "cell_type": "code",
   "execution_count": 1134,
   "metadata": {},
   "outputs": [
    {
     "data": {
      "text/html": [
       "<div>\n",
       "<style scoped>\n",
       "    .dataframe tbody tr th:only-of-type {\n",
       "        vertical-align: middle;\n",
       "    }\n",
       "\n",
       "    .dataframe tbody tr th {\n",
       "        vertical-align: top;\n",
       "    }\n",
       "\n",
       "    .dataframe thead th {\n",
       "        text-align: right;\n",
       "    }\n",
       "</style>\n",
       "<table border=\"1\" class=\"dataframe\">\n",
       "  <thead>\n",
       "    <tr style=\"text-align: right;\">\n",
       "      <th></th>\n",
       "      <th>prediction(t)</th>\n",
       "      <th>spread(t)</th>\n",
       "      <th>spread_predicted_change</th>\n",
       "      <th>position_during_day</th>\n",
       "      <th>PXI</th>\n",
       "      <th>PXE</th>\n",
       "      <th>trading_days</th>\n",
       "      <th>ret_with_costs</th>\n",
       "    </tr>\n",
       "  </thead>\n",
       "  <tbody>\n",
       "    <tr>\n",
       "      <th>2017-04-04 19:40:00</th>\n",
       "      <td>1.769519</td>\n",
       "      <td>1.775347</td>\n",
       "      <td>0.005828</td>\n",
       "      <td>0.0</td>\n",
       "      <td>38.553</td>\n",
       "      <td>20.630</td>\n",
       "      <td>0</td>\n",
       "      <td>0.000000</td>\n",
       "    </tr>\n",
       "    <tr>\n",
       "      <th>2017-04-04 19:45:00</th>\n",
       "      <td>1.762903</td>\n",
       "      <td>1.745347</td>\n",
       "      <td>-0.017556</td>\n",
       "      <td>0.0</td>\n",
       "      <td>38.523</td>\n",
       "      <td>20.630</td>\n",
       "      <td>0</td>\n",
       "      <td>0.000000</td>\n",
       "    </tr>\n",
       "    <tr>\n",
       "      <th>2017-04-04 19:50:00</th>\n",
       "      <td>1.746259</td>\n",
       "      <td>1.756347</td>\n",
       "      <td>0.010088</td>\n",
       "      <td>0.0</td>\n",
       "      <td>38.534</td>\n",
       "      <td>20.630</td>\n",
       "      <td>0</td>\n",
       "      <td>0.000000</td>\n",
       "    </tr>\n",
       "    <tr>\n",
       "      <th>2017-04-04 19:55:00</th>\n",
       "      <td>1.751951</td>\n",
       "      <td>1.755347</td>\n",
       "      <td>0.003396</td>\n",
       "      <td>0.0</td>\n",
       "      <td>38.533</td>\n",
       "      <td>20.630</td>\n",
       "      <td>0</td>\n",
       "      <td>0.000000</td>\n",
       "    </tr>\n",
       "    <tr>\n",
       "      <th>2017-04-04 20:00:00</th>\n",
       "      <td>1.750692</td>\n",
       "      <td>1.629640</td>\n",
       "      <td>-0.121053</td>\n",
       "      <td>0.0</td>\n",
       "      <td>38.582</td>\n",
       "      <td>20.728</td>\n",
       "      <td>0</td>\n",
       "      <td>0.000000</td>\n",
       "    </tr>\n",
       "    <tr>\n",
       "      <th>2017-04-05 13:35:00</th>\n",
       "      <td>1.655656</td>\n",
       "      <td>2.132760</td>\n",
       "      <td>0.477104</td>\n",
       "      <td>0.0</td>\n",
       "      <td>39.242</td>\n",
       "      <td>20.816</td>\n",
       "      <td>0</td>\n",
       "      <td>0.000000</td>\n",
       "    </tr>\n",
       "    <tr>\n",
       "      <th>2017-04-05 13:40:00</th>\n",
       "      <td>2.039548</td>\n",
       "      <td>2.132760</td>\n",
       "      <td>0.093212</td>\n",
       "      <td>1.0</td>\n",
       "      <td>39.242</td>\n",
       "      <td>20.816</td>\n",
       "      <td>0</td>\n",
       "      <td>-0.004371</td>\n",
       "    </tr>\n",
       "    <tr>\n",
       "      <th>2017-04-05 13:45:00</th>\n",
       "      <td>2.045563</td>\n",
       "      <td>2.210760</td>\n",
       "      <td>0.165197</td>\n",
       "      <td>1.0</td>\n",
       "      <td>39.320</td>\n",
       "      <td>20.816</td>\n",
       "      <td>0</td>\n",
       "      <td>0.001120</td>\n",
       "    </tr>\n",
       "    <tr>\n",
       "      <th>2017-04-05 13:50:00</th>\n",
       "      <td>2.133894</td>\n",
       "      <td>2.368760</td>\n",
       "      <td>0.234866</td>\n",
       "      <td>1.0</td>\n",
       "      <td>39.478</td>\n",
       "      <td>20.816</td>\n",
       "      <td>0</td>\n",
       "      <td>0.002266</td>\n",
       "    </tr>\n",
       "    <tr>\n",
       "      <th>2017-04-05 13:55:00</th>\n",
       "      <td>2.255124</td>\n",
       "      <td>2.218760</td>\n",
       "      <td>-0.036364</td>\n",
       "      <td>1.0</td>\n",
       "      <td>39.328</td>\n",
       "      <td>20.816</td>\n",
       "      <td>1</td>\n",
       "      <td>-0.002186</td>\n",
       "    </tr>\n",
       "    <tr>\n",
       "      <th>2017-04-05 14:00:00</th>\n",
       "      <td>2.157687</td>\n",
       "      <td>2.250760</td>\n",
       "      <td>0.093073</td>\n",
       "      <td>0.0</td>\n",
       "      <td>39.360</td>\n",
       "      <td>20.816</td>\n",
       "      <td>0</td>\n",
       "      <td>0.000000</td>\n",
       "    </tr>\n",
       "    <tr>\n",
       "      <th>2017-04-05 14:05:00</th>\n",
       "      <td>2.194455</td>\n",
       "      <td>1.957610</td>\n",
       "      <td>-0.236845</td>\n",
       "      <td>0.0</td>\n",
       "      <td>39.361</td>\n",
       "      <td>20.981</td>\n",
       "      <td>0</td>\n",
       "      <td>0.000000</td>\n",
       "    </tr>\n",
       "    <tr>\n",
       "      <th>2017-04-05 14:10:00</th>\n",
       "      <td>1.969122</td>\n",
       "      <td>1.946610</td>\n",
       "      <td>-0.022512</td>\n",
       "      <td>-1.0</td>\n",
       "      <td>39.350</td>\n",
       "      <td>20.981</td>\n",
       "      <td>0</td>\n",
       "      <td>-0.004214</td>\n",
       "    </tr>\n",
       "    <tr>\n",
       "      <th>2017-04-05 14:15:00</th>\n",
       "      <td>1.960571</td>\n",
       "      <td>1.850699</td>\n",
       "      <td>-0.109872</td>\n",
       "      <td>-1.0</td>\n",
       "      <td>39.222</td>\n",
       "      <td>20.963</td>\n",
       "      <td>0</td>\n",
       "      <td>0.000970</td>\n",
       "    </tr>\n",
       "    <tr>\n",
       "      <th>2017-04-05 14:20:00</th>\n",
       "      <td>1.871156</td>\n",
       "      <td>1.822699</td>\n",
       "      <td>-0.048457</td>\n",
       "      <td>-1.0</td>\n",
       "      <td>39.194</td>\n",
       "      <td>20.963</td>\n",
       "      <td>0</td>\n",
       "      <td>0.000400</td>\n",
       "    </tr>\n",
       "    <tr>\n",
       "      <th>2017-04-05 14:25:00</th>\n",
       "      <td>1.850157</td>\n",
       "      <td>1.890699</td>\n",
       "      <td>0.040542</td>\n",
       "      <td>-1.0</td>\n",
       "      <td>39.262</td>\n",
       "      <td>20.963</td>\n",
       "      <td>1</td>\n",
       "      <td>-0.000994</td>\n",
       "    </tr>\n",
       "    <tr>\n",
       "      <th>2017-04-05 14:30:00</th>\n",
       "      <td>1.893891</td>\n",
       "      <td>1.890699</td>\n",
       "      <td>-0.003192</td>\n",
       "      <td>0.0</td>\n",
       "      <td>39.262</td>\n",
       "      <td>20.963</td>\n",
       "      <td>0</td>\n",
       "      <td>0.000000</td>\n",
       "    </tr>\n",
       "    <tr>\n",
       "      <th>2017-04-05 14:35:00</th>\n",
       "      <td>1.890097</td>\n",
       "      <td>1.693715</td>\n",
       "      <td>-0.196382</td>\n",
       "      <td>0.0</td>\n",
       "      <td>38.819</td>\n",
       "      <td>20.825</td>\n",
       "      <td>0</td>\n",
       "      <td>0.000000</td>\n",
       "    </tr>\n",
       "    <tr>\n",
       "      <th>2017-04-05 14:40:00</th>\n",
       "      <td>1.740272</td>\n",
       "      <td>1.617414</td>\n",
       "      <td>-0.122858</td>\n",
       "      <td>0.0</td>\n",
       "      <td>38.691</td>\n",
       "      <td>20.796</td>\n",
       "      <td>0</td>\n",
       "      <td>0.000000</td>\n",
       "    </tr>\n",
       "  </tbody>\n",
       "</table>\n",
       "</div>"
      ],
      "text/plain": [
       "                     prediction(t)  spread(t)  spread_predicted_change  \\\n",
       "2017-04-04 19:40:00       1.769519   1.775347                 0.005828   \n",
       "2017-04-04 19:45:00       1.762903   1.745347                -0.017556   \n",
       "2017-04-04 19:50:00       1.746259   1.756347                 0.010088   \n",
       "2017-04-04 19:55:00       1.751951   1.755347                 0.003396   \n",
       "2017-04-04 20:00:00       1.750692   1.629640                -0.121053   \n",
       "2017-04-05 13:35:00       1.655656   2.132760                 0.477104   \n",
       "2017-04-05 13:40:00       2.039548   2.132760                 0.093212   \n",
       "2017-04-05 13:45:00       2.045563   2.210760                 0.165197   \n",
       "2017-04-05 13:50:00       2.133894   2.368760                 0.234866   \n",
       "2017-04-05 13:55:00       2.255124   2.218760                -0.036364   \n",
       "2017-04-05 14:00:00       2.157687   2.250760                 0.093073   \n",
       "2017-04-05 14:05:00       2.194455   1.957610                -0.236845   \n",
       "2017-04-05 14:10:00       1.969122   1.946610                -0.022512   \n",
       "2017-04-05 14:15:00       1.960571   1.850699                -0.109872   \n",
       "2017-04-05 14:20:00       1.871156   1.822699                -0.048457   \n",
       "2017-04-05 14:25:00       1.850157   1.890699                 0.040542   \n",
       "2017-04-05 14:30:00       1.893891   1.890699                -0.003192   \n",
       "2017-04-05 14:35:00       1.890097   1.693715                -0.196382   \n",
       "2017-04-05 14:40:00       1.740272   1.617414                -0.122858   \n",
       "\n",
       "                     position_during_day     PXI     PXE  trading_days  \\\n",
       "2017-04-04 19:40:00                  0.0  38.553  20.630             0   \n",
       "2017-04-04 19:45:00                  0.0  38.523  20.630             0   \n",
       "2017-04-04 19:50:00                  0.0  38.534  20.630             0   \n",
       "2017-04-04 19:55:00                  0.0  38.533  20.630             0   \n",
       "2017-04-04 20:00:00                  0.0  38.582  20.728             0   \n",
       "2017-04-05 13:35:00                  0.0  39.242  20.816             0   \n",
       "2017-04-05 13:40:00                  1.0  39.242  20.816             0   \n",
       "2017-04-05 13:45:00                  1.0  39.320  20.816             0   \n",
       "2017-04-05 13:50:00                  1.0  39.478  20.816             0   \n",
       "2017-04-05 13:55:00                  1.0  39.328  20.816             1   \n",
       "2017-04-05 14:00:00                  0.0  39.360  20.816             0   \n",
       "2017-04-05 14:05:00                  0.0  39.361  20.981             0   \n",
       "2017-04-05 14:10:00                 -1.0  39.350  20.981             0   \n",
       "2017-04-05 14:15:00                 -1.0  39.222  20.963             0   \n",
       "2017-04-05 14:20:00                 -1.0  39.194  20.963             0   \n",
       "2017-04-05 14:25:00                 -1.0  39.262  20.963             1   \n",
       "2017-04-05 14:30:00                  0.0  39.262  20.963             0   \n",
       "2017-04-05 14:35:00                  0.0  38.819  20.825             0   \n",
       "2017-04-05 14:40:00                  0.0  38.691  20.796             0   \n",
       "\n",
       "                     ret_with_costs  \n",
       "2017-04-04 19:40:00        0.000000  \n",
       "2017-04-04 19:45:00        0.000000  \n",
       "2017-04-04 19:50:00        0.000000  \n",
       "2017-04-04 19:55:00        0.000000  \n",
       "2017-04-04 20:00:00        0.000000  \n",
       "2017-04-05 13:35:00        0.000000  \n",
       "2017-04-05 13:40:00       -0.004371  \n",
       "2017-04-05 13:45:00        0.001120  \n",
       "2017-04-05 13:50:00        0.002266  \n",
       "2017-04-05 13:55:00       -0.002186  \n",
       "2017-04-05 14:00:00        0.000000  \n",
       "2017-04-05 14:05:00        0.000000  \n",
       "2017-04-05 14:10:00       -0.004214  \n",
       "2017-04-05 14:15:00        0.000970  \n",
       "2017-04-05 14:20:00        0.000400  \n",
       "2017-04-05 14:25:00       -0.000994  \n",
       "2017-04-05 14:30:00        0.000000  \n",
       "2017-04-05 14:35:00        0.000000  \n",
       "2017-04-05 14:40:00        0.000000  "
      ]
     },
     "execution_count": 1134,
     "metadata": {},
     "output_type": "execute_result"
    }
   ],
   "source": [
    "summaries_arma[-1]['2017-04-04 19:40:00':'2017-04-05 14:40:00']"
   ]
  },
  {
   "cell_type": "markdown",
   "metadata": {},
   "source": [
    "Validation with profitable pairs"
   ]
  },
  {
   "cell_type": "code",
   "execution_count": 1080,
   "metadata": {},
   "outputs": [],
   "source": [
    "model_cumret = np.asarray(model_cumret)\n",
    "profitable_pairs_indices = np.argwhere(model_cumret > 0)\n",
    "profitable_pairs = [pairs[i] for i in profitable_pairs_indices.flatten()]"
   ]
  },
  {
   "cell_type": "code",
   "execution_count": 901,
   "metadata": {},
   "outputs": [
    {
     "name": "stdout",
     "output_type": "stream",
     "text": [
      "\n",
      "Pair loaded: DBA_GCC:\n",
      "Check pairs: DBA_GCC.\n",
      "Long threshold: 1.23\n",
      "Short threshold: -1.25\n",
      "Accumulated return: 1.48%\n",
      "Sharpe Ratio: 0.3709541198982\n",
      "\n",
      "Pair loaded: GCC_RJA:\n",
      "Check pairs: GCC_RJA.\n",
      "Long threshold: 5.25\n",
      "Short threshold: -4.96\n",
      "Accumulated return: 3.34%\n",
      "Sharpe Ratio: 0.9113927264682566\n",
      "\n",
      "Pair loaded: GSP_RJI:\n",
      "Check pairs: GSP_RJI.\n",
      "Long threshold: 1.08\n",
      "Short threshold: -1.07\n",
      "Accumulated return: 2.45%\n",
      "Sharpe Ratio: 0.7919961693181957\n",
      "\n",
      "Pair loaded: DGP_UGL:\n",
      "Check pairs: DGP_UGL.\n",
      "Long threshold: 54.94\n",
      "Short threshold: -48.31\n",
      "Accumulated return: 10.09%\n",
      "Sharpe Ratio: 2.615583052264036\n",
      "\n",
      "Model mean ROI: 4.34%\n",
      "Model mean Sharpe Ratio: 1.17\n",
      "Portfolio Sharpe Ratio:  2.501257993550183\n",
      "Max DD period: 4.0 days\n",
      "Maximum drawdown of portfolio: -0.47%\n"
     ]
    },
    {
     "data": {
      "image/png": "[encoded data removed]",
      "text/plain": [
       "<matplotlib.figure.Figure at 0x1396f30b8>"
      ]
     },
     "metadata": {},
     "output_type": "display_data"
    }
   ],
   "source": [
    "model_cumret, model_sharpe_ratio = list(), list()\n",
    "balance_summaries_arma, summaries_arma = list(), list()\n",
    "for pair_i in profitable_pairs_indices.flatten():\n",
    "    print('\\nPair loaded: {}_{}:'.format(model[pair_i]['leg1'], model[pair_i]['leg2']))\n",
    "    print('Check pairs: {}_{}.'.format(pairs[pair_i][0], pairs[pair_i][1]))\n",
    "    predictions = arima_predictions_val[pair_i]\n",
    "    #predictions = arima_val[pair_i].shift(1).fillna(0)\n",
    "    spread_train = pairs[pair_i][2]['spread'][:train_val_split]\n",
    "    spread_val = arima_val[pair_i]\n",
    "    \n",
    "    ret, cumret, summary, balance_summary = forecasting_trader.forecast_spread_trading(\n",
    "                                                        X=pairs[pair_i][2]['X_train'][train_val_split:],\n",
    "                                                        Y=pairs[pair_i][2]['Y_train'][train_val_split:],\n",
    "                                                        spread_test=spread_val,#[-len(predictions):],\n",
    "                                                        spread_train=spread_train,\n",
    "                                                        beta=pairs[pair_i][2]['coint_coef'],\n",
    "                                                        predictions=predictions,\n",
    "                                                        lag=1,\n",
    "                                                        low_quantile=low_quantile,\n",
    "                                                        high_quantile=high_quantile,\n",
    "                                                        multistep=0)\n",
    "    \n",
    "    print('Accumulated return: {:.2f}%'.format(cumret[-1] * 100))\n",
    "\n",
    "    if np.std(ret) != 0:\n",
    "        sharpe_ratio = trader.calculate_sharpe_ratio(1, 252, ret)\n",
    "    else:\n",
    "        sharpe_ratio = 0\n",
    "    print('Sharpe Ratio:', sharpe_ratio)\n",
    "\n",
    "    model_cumret.append(cumret[-1] * 100)\n",
    "    model_sharpe_ratio.append(sharpe_ratio)\n",
    "    summaries_arma.append(summary)\n",
    "    balance_summaries_arma.append(balance_summary)\n",
    "\n",
    "print('\\nModel mean ROI: {:.2f}%'.format(np.mean(model_cumret)))\n",
    "print('Model mean Sharpe Ratio: {:.2f}'.format(np.mean(model_sharpe_ratio)))\n",
    "performance_arma = [(summaries_arma[i], balance_summaries_arma[i]) for i in range(len(profitable_pairs))]\n",
    "print('Portfolio Sharpe Ratio: ',trader.calculate_portfolio_sharpe_ratio(performance_arma, profitable_pairs))\n",
    "\n",
    "total_account_balance = balance_summaries_arma[0]['account_balance']\n",
    "for index in range(1, len(profitable_pairs)):\n",
    "    total_account_balance = total_account_balance + balance_summaries_arma[index]['account_balance']\n",
    "total_account_balance = total_account_balance.fillna(method='ffill')\n",
    "\n",
    "print('Maximum drawdown of portfolio: {:.2f}%'.format(trader.calculate_maximum_drawdown(total_account_balance)))"
   ]
  },
  {
   "cell_type": "markdown",
   "metadata": {},
   "source": [
    "**Test**"
   ]
  },
  {
   "cell_type": "code",
   "execution_count": 701,
   "metadata": {},
   "outputs": [
    {
     "name": "stdout",
     "output_type": "stream",
     "text": [
      "\n",
      "Pair loaded: GCC_RJA:\n",
      "Check pairs: GCC_RJA.\n",
      "Long threshold: 2.66\n",
      "Short threshold: -2.58\n",
      "Accumulated return: 2.00%\n",
      "Sharpe Ratio: 0.030103625742899768\n",
      "\n",
      "Pair loaded: GSP_RJI:\n",
      "Check pairs: GSP_RJI.\n",
      "Long threshold: 0.72\n",
      "Short threshold: -0.71\n",
      "Accumulated return: 12.76%\n",
      "Sharpe Ratio: 1.2881846863859496\n",
      "\n",
      "Pair loaded: DGP_UGL:\n",
      "Check pairs: DGP_UGL.\n",
      "Long threshold: 26.51\n",
      "Short threshold: -23.25\n",
      "Accumulated return: 1.77%\n",
      "Sharpe Ratio: -0.1376306294869024\n",
      "\n",
      "Model mean ROI: 5.51%\n",
      "Model mean Sharpe Ratio: 0.39\n",
      "Portfolio Sharpe Ratio:  1.2187670848864263\n"
     ]
    }
   ],
   "source": [
    "model_cumret, model_sharpe_ratio = list(), list()\n",
    "balance_summaries_arma, summaries_arma = list(), list()\n",
    "for pair_i in profitable_pairs_indices.flatten():\n",
    "    print('\\nPair loaded: {}_{}:'.format(model[pair_i]['leg1'], model[pair_i]['leg2']))\n",
    "    print('Check pairs: {}_{}.'.format(pairs[pair_i][0], pairs[pair_i][1]))\n",
    "    predictions = arima_predictions_test[pair_i]\n",
    "    spread_train = pairs[pair_i][2]['spread']\n",
    "    spread_test = arima_test[pair_i]\n",
    "    \n",
    "    ret, cumret, summary, balance_summary = forecasting_trader.forecast_spread_trading(\n",
    "                                                        X=pairs[pair_i][2]['X_test'],\n",
    "                                                        Y=pairs[pair_i][2]['Y_test'],\n",
    "                                                        spread_test=spread_test[-len(predictions):],\n",
    "                                                        spread_train=pairs[pair_i][2]['spread'],\n",
    "                                                        beta=pairs[pair_i][2]['coint_coef'],\n",
    "                                                        predictions=predictions,\n",
    "                                                        lag=1,\n",
    "                                                        low_quantile=low_quantile,\n",
    "                                                        high_quantile=high_quantile,\n",
    "                                                        multistep=0)\n",
    "    \n",
    "    print('Accumulated return: {:.2f}%'.format(cumret[-1] * 100))\n",
    "\n",
    "    if np.std(ret) != 0:\n",
    "        sharpe_ratio = trader.calculate_sharpe_ratio(1, 252, ret)\n",
    "    else:\n",
    "        sharpe_ratio = 0\n",
    "    print('Sharpe Ratio:', sharpe_ratio)\n",
    "\n",
    "    model_cumret.append(cumret[-1] * 100)\n",
    "    model_sharpe_ratio.append(sharpe_ratio)\n",
    "    summaries_arma.append(summary)\n",
    "    balance_summaries_arma.append(balance_summary)\n",
    "\n",
    "print('\\nModel mean ROI: {:.2f}%'.format(np.mean(model_cumret)))\n",
    "print('Model mean Sharpe Ratio: {:.2f}'.format(np.mean(model_sharpe_ratio)))\n",
    "if len(profitable_pairs)>1:\n",
    "    performance_arma = [(summaries_arma[i], balance_summaries_arma[i]) for i in range(len(profitable_pairs))]\n",
    "    print('Portfolio Sharpe Ratio: ',trader.calculate_portfolio_sharpe_ratio(performance_arma, profitable_pairs))"
   ]
  },
  {
   "cell_type": "code",
   "execution_count": 702,
   "metadata": {},
   "outputs": [
    {
     "name": "stdout",
     "output_type": "stream",
     "text": [
      "Max DD period: 22.0 days\n",
      "Maximum drawdown of portfolio: -0.76%\n"
     ]
    },
    {
     "data": {
      "image/png": "[encoded data removed]",
      "text/plain": [
       "<matplotlib.figure.Figure at 0x15a6676a0>"
      ]
     },
     "metadata": {},
     "output_type": "display_data"
    }
   ],
   "source": [
    "total_account_balance = balance_summaries_arma[0]['account_balance']\n",
    "for index in range(1, len(profitable_pairs)):\n",
    "    total_account_balance = total_account_balance + balance_summaries_arma[index]['account_balance']\n",
    "total_account_balance = total_account_balance.fillna(method='ffill')\n",
    "\n",
    "print('Maximum drawdown of portfolio: {:.2f}%'.format(trader.calculate_maximum_drawdown(total_account_balance)))"
   ]
  },
  {
   "cell_type": "code",
   "execution_count": 703,
   "metadata": {},
   "outputs": [
    {
     "name": "stdout",
     "output_type": "stream",
     "text": [
      "Total number of trades:  34\n",
      "Positive trades:  30\n",
      "Negative trades:  4\n"
     ]
    }
   ],
   "source": [
    "total_trades = 0\n",
    "positive_trades = 0\n",
    "negative_trades = 0\n",
    "for i in range(len(profitable_pairs)):\n",
    "    total_trades += len(balance_summaries_arma[i][balance_summaries_arma[i].trading_duration != 0])\n",
    "    # positive & negative\n",
    "    trading_subset = summaries_arma[i][summaries_arma[i].trading_days != 0]\n",
    "    positive_trades += len(trading_subset[trading_subset.position_return > 0])\n",
    "    negative_trades += len(trading_subset[trading_subset.position_return <= 0])\n",
    "print('Total number of trades: ',total_trades)\n",
    "print('Positive trades: ',positive_trades)\n",
    "print('Negative trades: ',negative_trades)"
   ]
  },
  {
   "cell_type": "markdown",
   "metadata": {},
   "source": [
    "# Trying some ANN based models"
   ]
  },
  {
   "cell_type": "code",
   "execution_count": 883,
   "metadata": {},
   "outputs": [],
   "source": [
    "def plot_loss(history, title, epoch_stop, metric='mse'):\n",
    "    \"\"\"\n",
    "    Function to plot loss function.\n",
    "    Arguments:\n",
    "    history: History object with data from training.\n",
    "    title: Plot title.\n",
    "    \"\"\"\n",
    "    plt.figure(figsize=(7,5))\n",
    "    plt.grid()\n",
    "    if metric == 'mse':\n",
    "        plt.plot(history['loss'], label = \"Training MSE\")\n",
    "        plt.plot(history['val_loss'], label = \"Validation MSE\")\n",
    "        plt.plot([epoch_stop], [history['val_loss'][epoch_stop]],'o', color='Red', markersize=7)\n",
    "        plt.annotate(\n",
    "            'Best Epoch: 41\\nValidation MSE:{:.3f}'.format(history['val_loss'][epoch_stop]),\n",
    "            xy=(epoch_stop, history['val_loss'][epoch_stop]),\n",
    "            xytext=(-20, 20),\n",
    "            textcoords='offset points', ha='left', va='bottom',\n",
    "            bbox=dict(boxstyle='round,pad=0.5', fc='grey', alpha=0.5),\n",
    "            arrowprops=dict(arrowstyle = '->', connectionstyle='arc3,rad=0'))\n",
    "        plt.ylim((0,1.2))\n",
    "        plt.ylabel('Mean Squared Error', size=12)\n",
    "    elif metric == 'mae':\n",
    "        plt.plot(history['mean_absolute_error'], label = \"Training MAE\")\n",
    "        plt.plot(history['val_mean_absolute_error'], label = \"Validation MAE\")\n",
    "        plt.plot([epoch_stop], [history['val_mean_absolute_error'][epoch_stop]],'o', color='Red', markersize=7)\n",
    "        plt.annotate(\n",
    "            'Best Epoch: 41\\nValidation MAE:{:.3f}'.format(history['val_mean_absolute_error'][epoch_stop]),\n",
    "            xy=(epoch_stop, history['val_mean_absolute_error'][epoch_stop]),\n",
    "            xytext=(-20, 20),\n",
    "            textcoords='offset points', ha='left', va='bottom',\n",
    "            bbox=dict(boxstyle='round,pad=0.5', fc='grey', alpha=0.5),\n",
    "            arrowprops=dict(arrowstyle = '->', connectionstyle='arc3,rad=0'))\n",
    "        plt.ylim((0,1.2))\n",
    "        plt.ylabel('Mean Absolute Error', size=12)\n",
    "    plt.xlabel('Epochs', size=12)\n",
    "    plt.legend()\n",
    "    plt.savefig('{}_history.png'.format(metric), bbox='tight')\n",
    "    \n",
    "def plot_predictions(summaries):\n",
    "    \n",
    "    n_pairs = len(summaries)\n",
    "    fig, ax = plt.subplots(n_pairs, 1, figsize=(20,25))\n",
    "    \n",
    "    for i in range(n_pairs):\n",
    "        #title('Pair: {}'.format(i))\n",
    "        predictions = summaries[i]['prediction(t)']\n",
    "        spread = summaries[i]['spread(t)']\n",
    "        ax[i].plot(predictions, 'b')\n",
    "        ax[i].plot(spread, 'r')\n",
    "    return None"
   ]
  },
  {
   "cell_type": "markdown",
   "metadata": {},
   "source": [
    "**Load models run in the server**"
   ]
  },
  {
   "cell_type": "code",
   "execution_count": 734,
   "metadata": {},
   "outputs": [],
   "source": [
    "def read_models(path='models/'):\n",
    "    all_models = [] # Creates an empty list\n",
    "    for root, dirs, files in os.walk(path):\n",
    "        for file in files:\n",
    "            if file.endswith(\".pkl\"):\n",
    "                with open(path+file, 'rb') as f:\n",
    "                    models = pickle.load(f)\n",
    "                all_models.append(models)\n",
    "                \n",
    "    return all_models"
   ]
  },
  {
   "cell_type": "markdown",
   "metadata": {},
   "source": [
    "## RNN"
   ]
  },
  {
   "cell_type": "markdown",
   "metadata": {},
   "source": [
    "## Grid Search"
   ]
  },
  {
   "cell_type": "code",
   "execution_count": 1157,
   "metadata": {},
   "outputs": [
    {
     "data": {
      "text/plain": [
       "5"
      ]
     },
     "execution_count": 1157,
     "metadata": {},
     "output_type": "execute_result"
    }
   ],
   "source": [
    "current_path=('models_copy/rnn_5_pairs_optical/')\n",
    "with open(current_path+'pairs_unsupervised_learning_intraday.pickle', 'rb') as handle:\n",
    "    pairs = pickle.load(handle)\n",
    "len(pairs)"
   ]
  },
  {
   "cell_type": "code",
   "execution_count": 1158,
   "metadata": {},
   "outputs": [
    {
     "data": {
      "text/plain": [
       "<matplotlib.legend.Legend at 0x1557a0eb8>"
      ]
     },
     "execution_count": 1158,
     "metadata": {},
     "output_type": "execute_result"
    },
    {
     "data": {
      "image/png": "[encoded data removed]",
      "text/plain": [
       "<matplotlib.figure.Figure at 0x143e277f0>"
      ]
     },
     "metadata": {},
     "output_type": "display_data"
    }
   ],
   "source": [
    "#markers= [\"o\",\"s\",\"+\",\"x\",\"<\"]\n",
    "colors = ['purple', 'r', 'g', 'blue', 'orange']\n",
    "for i in range(len(pairs)):\n",
    "    pairs[i][2]['spread'][::500].plot(figsize=(20,7), grid=True, label='{}-{}'.format(pairs[i][0],pairs[i][1]),\n",
    "                                       c=colors[i])#,marker=markers[i])\n",
    "plt.ylabel('Spread(t)',size=12)\n",
    "plt.xlabel('Year',size=12)\n",
    "plt.xlim(('2009', '2018'))\n",
    "plt.legend()"
   ]
  },
  {
   "cell_type": "code",
   "execution_count": 1159,
   "metadata": {},
   "outputs": [],
   "source": [
    "rnn_models = read_models(path=current_path)"
   ]
  },
  {
   "cell_type": "code",
   "execution_count": 1160,
   "metadata": {},
   "outputs": [],
   "source": [
    "# model to test\n",
    "n_in = 24\n",
    "hidden_nodes = [10]\n",
    "low_quantile = 0.10\n",
    "high_quantile = 0.90"
   ]
  },
  {
   "cell_type": "markdown",
   "metadata": {},
   "source": [
    "**Validation**"
   ]
  },
  {
   "cell_type": "code",
   "execution_count": 1161,
   "metadata": {},
   "outputs": [
    {
     "name": "stdout",
     "output_type": "stream",
     "text": [
      "\n",
      "Pair loaded: PXE_PXI:\n",
      "Check pairs: PXE_PXI.\n",
      "Long threshold: 30.87\n",
      "Short threshold: -30.28\n",
      "Accumulated return: 5.27%\n",
      "Sharpe Ratio: 1.0658066703430273\n",
      "\n",
      "Pair loaded: DBA_GCC:\n",
      "Check pairs: DBA_GCC.\n",
      "Long threshold: 1.23\n",
      "Short threshold: -1.25\n",
      "Accumulated return: -6.64%\n",
      "Sharpe Ratio: -1.9185151571177117\n",
      "\n",
      "Pair loaded: GCC_RJA:\n",
      "Check pairs: GCC_RJA.\n",
      "Long threshold: 5.25\n",
      "Short threshold: -4.96\n",
      "Accumulated return: 2.81%\n",
      "Sharpe Ratio: 0.8746688054966582\n",
      "\n",
      "Pair loaded: GSP_RJI:\n",
      "Check pairs: GSP_RJI.\n",
      "Long threshold: 1.08\n",
      "Short threshold: -1.07\n",
      "Accumulated return: 0.20%\n",
      "Sharpe Ratio: -0.7388213866791108\n",
      "\n",
      "Pair loaded: DGP_UGL:\n",
      "Check pairs: DGP_UGL.\n",
      "Long threshold: 54.94\n",
      "Short threshold: -48.31\n",
      "Accumulated return: 16.00%\n",
      "Sharpe Ratio: 2.9243412840687273\n",
      "\n",
      "Model mean ROI: 3.53%\n",
      "Model mean Sharpe Ratio: 0.44\n",
      "Portfolio Sharpe Ratio:  1.6725168023590145\n"
     ]
    }
   ],
   "source": [
    "model, cumret_val, summaries_rnn, balance_summaries_rnn = \\\n",
    "            forecasting_trader.run_specific_model(n_in, hidden_nodes, pairs,\n",
    "                                                  path=current_path,\n",
    "                                                  low_quantile=low_quantile, high_quantile=high_quantile, lag=1)\n",
    "performance_rnn = [(summaries_rnn[i], balance_summaries_rnn[i]) for i in range(len(pairs))]\n",
    "print('Portfolio Sharpe Ratio: ',trader.calculate_portfolio_sharpe_ratio(performance_rnn, pairs))"
   ]
  },
  {
   "cell_type": "code",
   "execution_count": 975,
   "metadata": {},
   "outputs": [
    {
     "name": "stdout",
     "output_type": "stream",
     "text": [
      "RNN:  0.005702805066566937\n",
      "Benchmark:  0.005583440703337607\n"
     ]
    }
   ],
   "source": [
    "index = 0\n",
    "print('RNN: ', mean_squared_error(summaries_rnn[index]['spread(t)'], summaries_rnn[index]['prediction(t)']))\n",
    "print('Benchmark: ', mean_squared_error(summaries_rnn[index]['spread(t)'], \n",
    "                                      summaries_rnn[index]['spread(t)'].shift(1).fillna(0)))"
   ]
  },
  {
   "cell_type": "markdown",
   "metadata": {},
   "source": [
    "**Test unrestricted**"
   ]
  },
  {
   "cell_type": "code",
   "execution_count": 982,
   "metadata": {},
   "outputs": [
    {
     "name": "stdout",
     "output_type": "stream",
     "text": [
      "\n",
      "Pair loaded: PXE_PXI:\n",
      "Check pairs: PXE_PXI.\n",
      "Long threshold: 30.16\n",
      "Short threshold: -29.87\n",
      "Accumulated return: 1.76%\n",
      "Sharpe Ratio: -0.026271859487251355\n",
      "\n",
      "Pair loaded: DBA_GCC:\n",
      "Check pairs: DBA_GCC.\n",
      "Long threshold: 1.19\n",
      "Short threshold: -1.20\n",
      "Accumulated return: -5.83%\n",
      "Sharpe Ratio: -1.2387446233771877\n",
      "\n",
      "Pair loaded: GCC_RJA:\n",
      "Check pairs: GCC_RJA.\n",
      "Long threshold: 4.96\n",
      "Short threshold: -4.68\n",
      "Accumulated return: 0.08%\n",
      "Sharpe Ratio: -23.47151567510794\n",
      "\n",
      "Pair loaded: GSP_RJI:\n",
      "Check pairs: GSP_RJI.\n",
      "Long threshold: 1.05\n",
      "Short threshold: -1.04\n",
      "Accumulated return: 1.82%\n",
      "Sharpe Ratio: -0.06150526028274873\n",
      "\n",
      "Pair loaded: DGP_UGL:\n",
      "Check pairs: DGP_UGL.\n",
      "Long threshold: 52.17\n",
      "Short threshold: -44.82\n",
      "Accumulated return: 0.00%\n",
      "Sharpe Ratio: 0\n",
      "\n",
      "Model mean ROI on test set: -0.43%\n",
      "Model mean Sharpe Ratio on test set: -4.96\n",
      "Portfolio Sharpe Ratio:  -1.242690940942351\n"
     ]
    }
   ],
   "source": [
    "model, cumret_test, summaries_rnn, balance_summaries_rnn = \\\n",
    "        forecasting_trader.test_specific_model(n_in, hidden_nodes, pairs, path=current_path,\n",
    "                                               low_quantile=low_quantile, high_quantile=high_quantile, lag=1, \n",
    "                                               profitable_pairs_indices=range(len(pairs)))\n",
    "performance_rnn = [(summaries_rnn[i], balance_summaries_rnn[i]) for i in range(len(pairs))]\n",
    "print('Portfolio Sharpe Ratio: ',trader.calculate_portfolio_sharpe_ratio(performance_rnn, pairs))    "
   ]
  },
  {
   "cell_type": "code",
   "execution_count": 686,
   "metadata": {},
   "outputs": [
    {
     "name": "stdout",
     "output_type": "stream",
     "text": [
      "Max DD period: 173.0 days\n",
      "Maximum drawdown of portfolio: -9.25%\n"
     ]
    },
    {
     "data": {
      "image/png": "[encoded data removed]",
      "text/plain": [
       "<matplotlib.figure.Figure at 0x15836abe0>"
      ]
     },
     "metadata": {},
     "output_type": "display_data"
    }
   ],
   "source": [
    "total_account_balance = balance_summaries_rnn[0]['account_balance']\n",
    "for index in range(1, len(pairs)):\n",
    "    total_account_balance = total_account_balance + balance_summaries_rnn[index]['account_balance']\n",
    "total_account_balance = total_account_balance.fillna(method='ffill')\n",
    "\n",
    "print('Maximum drawdown of portfolio: {:.2f}%'.format(trader.calculate_maximum_drawdown(total_account_balance)))"
   ]
  },
  {
   "cell_type": "code",
   "execution_count": 687,
   "metadata": {},
   "outputs": [
    {
     "name": "stdout",
     "output_type": "stream",
     "text": [
      "RNN:  0.025619055108658174\n",
      "Benchmark:  0.010479502439246153\n"
     ]
    }
   ],
   "source": [
    "index = 0\n",
    "print('RNN: ', mean_squared_error(summaries_rnn[index]['spread(t)'], summaries_rnn[index]['prediction(t)']))\n",
    "print('Benchmark: ', mean_squared_error(summaries_rnn[index]['spread(t)'], \n",
    "                                      summaries_rnn[index]['spread(t)'].shift(1).fillna(0)))"
   ]
  },
  {
   "cell_type": "markdown",
   "metadata": {},
   "source": [
    "**Test with active pairs on validation set**\n",
    "\n",
    "We can select top pairs from validation set as we wish."
   ]
  },
  {
   "cell_type": "code",
   "execution_count": 984,
   "metadata": {},
   "outputs": [
    {
     "name": "stdout",
     "output_type": "stream",
     "text": [
      "\n",
      "Pair loaded: GCC_RJA:\n",
      "Check pairs: GCC_RJA.\n",
      "Long threshold: 4.96\n",
      "Short threshold: -4.68\n",
      "Accumulated return: 0.08%\n",
      "Sharpe Ratio: -23.47151567510794\n",
      "\n",
      "Pair loaded: DGP_UGL:\n",
      "Check pairs: DGP_UGL.\n",
      "Long threshold: 52.17\n",
      "Short threshold: -44.82\n",
      "Accumulated return: 0.00%\n",
      "Sharpe Ratio: 0\n",
      "\n",
      "Model mean ROI on test set: 0.04%\n",
      "Model mean Sharpe Ratio on test set: -11.74\n",
      "Portfolio Sharpe Ratio:  -47.84507505432159\n"
     ]
    }
   ],
   "source": [
    "cumret_val = np.asarray(cumret_val)\n",
    "profitable_pairs_indices = np.argwhere(cumret_val > 0)\n",
    "profitable_pairs = [pairs[i] for i in profitable_pairs_indices.flatten()]\n",
    "model, cumret, summaries_rnn, balance_summaries_rnn = \\\n",
    "        forecasting_trader.test_specific_model(n_in, hidden_nodes, pairs, path=current_path,\n",
    "                                               low_quantile=low_quantile, high_quantile=high_quantile, lag=1, \n",
    "                                               profitable_pairs_indices=profitable_pairs_indices)\n",
    "performance_rnn = [(summaries_rnn[i], balance_summaries_rnn[i]) for i in range(len(profitable_pairs))]\n",
    "print('Portfolio Sharpe Ratio: ',trader.calculate_portfolio_sharpe_ratio(performance_rnn, profitable_pairs)) "
   ]
  },
  {
   "cell_type": "code",
   "execution_count": 689,
   "metadata": {},
   "outputs": [
    {
     "name": "stdout",
     "output_type": "stream",
     "text": [
      "Max DD period: 5.0 days\n",
      "Maximum drawdown of portfolio: -1.50%\n"
     ]
    },
    {
     "data": {
      "image/png": "[encoded data removed]",
      "text/plain": [
       "<matplotlib.figure.Figure at 0x14843ac88>"
      ]
     },
     "metadata": {},
     "output_type": "display_data"
    }
   ],
   "source": [
    "total_account_balance = balance_summaries_rnn[0]['account_balance']\n",
    "for index in range(1, len(profitable_pairs)):\n",
    "    total_account_balance = total_account_balance + balance_summaries_rnn[index]['account_balance']\n",
    "total_account_balance = total_account_balance.fillna(method='ffill')\n",
    "\n",
    "print('Maximum drawdown of portfolio: {:.2f}%'.format(trader.calculate_maximum_drawdown(total_account_balance)))"
   ]
  },
  {
   "cell_type": "code",
   "execution_count": 690,
   "metadata": {},
   "outputs": [
    {
     "name": "stdout",
     "output_type": "stream",
     "text": [
      "Total number of trades:  73\n",
      "Positive trades:  61\n",
      "Negative trades:  12\n"
     ]
    }
   ],
   "source": [
    "total_trades = 0\n",
    "positive_trades = 0\n",
    "negative_trades = 0\n",
    "for i in range(len(profitable_pairs)):\n",
    "    total_trades += len(balance_summaries_rnn[i][balance_summaries_rnn[i].trading_duration != 0])\n",
    "    # positive & negative\n",
    "    trading_subset = summaries_rnn[i][summaries_rnn[i].trading_days != 0]\n",
    "    positive_trades += len(trading_subset[trading_subset.position_return > 0])\n",
    "    negative_trades += len(trading_subset[trading_subset.position_return <= 0])\n",
    "print('Total number of trades: ',total_trades)\n",
    "print('Positive trades: ',positive_trades)\n",
    "print('Negative trades: ',negative_trades)"
   ]
  },
  {
   "cell_type": "markdown",
   "metadata": {},
   "source": [
    "## Encoder-Decoder LSTM Multi-step Forecasting"
   ]
  },
  {
   "cell_type": "markdown",
   "metadata": {},
   "source": [
    "### Grid Search"
   ]
  },
  {
   "cell_type": "code",
   "execution_count": 985,
   "metadata": {},
   "outputs": [
    {
     "data": {
      "text/plain": [
       "5"
      ]
     },
     "execution_count": 985,
     "metadata": {},
     "output_type": "execute_result"
    }
   ],
   "source": [
    "current_path=('models_copy/encoder_decoder_5_optical/')\n",
    "with open(current_path+'pairs_unsupervised_learning_intraday.pickle', 'rb') as handle:\n",
    "    pairs = pickle.load(handle)\n",
    "len(pairs)"
   ]
  },
  {
   "cell_type": "code",
   "execution_count": 986,
   "metadata": {},
   "outputs": [],
   "source": [
    "models = read_models(current_path)"
   ]
  },
  {
   "cell_type": "code",
   "execution_count": 987,
   "metadata": {},
   "outputs": [],
   "source": [
    "# model to test\n",
    "n_in = 24\n",
    "hidden_nodes = [10, 10]\n",
    "low_quantile = 0.10\n",
    "high_quantile = 0.90"
   ]
  },
  {
   "cell_type": "code",
   "execution_count": 988,
   "metadata": {},
   "outputs": [
    {
     "name": "stdout",
     "output_type": "stream",
     "text": [
      "\n",
      "Pair loaded: PXE_PXI:\n",
      "Check pairs: PXE_PXI.\n",
      "Long threshold: 35.36\n",
      "Short threshold: -34.93\n",
      "Accumulated return: -1.05%\n",
      "Sharpe Ratio: -0.4684107710007779\n",
      "\n",
      "Pair loaded: DBA_GCC:\n",
      "Check pairs: DBA_GCC.\n",
      "Long threshold: 1.52\n",
      "Short threshold: -1.54\n",
      "Accumulated return: -0.06%\n",
      "Sharpe Ratio: -0.3376199332710901\n",
      "\n",
      "Pair loaded: GCC_RJA:\n",
      "Check pairs: GCC_RJA.\n",
      "Long threshold: 5.93\n",
      "Short threshold: -5.52\n",
      "Accumulated return: 3.24%\n",
      "Sharpe Ratio: 1.0596771603658839\n",
      "\n",
      "Pair loaded: GSP_RJI:\n",
      "Check pairs: GSP_RJI.\n",
      "Long threshold: 1.25\n",
      "Short threshold: -1.23\n",
      "Accumulated return: 2.63%\n",
      "Sharpe Ratio: 0.8576901887580555\n",
      "\n",
      "Pair loaded: DGP_UGL:\n",
      "Check pairs: DGP_UGL.\n",
      "Long threshold: 55.84\n",
      "Short threshold: -47.85\n",
      "Accumulated return: 11.70%\n",
      "Sharpe Ratio: 2.9751603233265245\n",
      "\n",
      "Model mean ROI: 3.29%\n",
      "Model mean Sharpe Ratio: 0.82\n",
      "Portfolio Sharpe Ratio:  1.6559848237040955\n"
     ]
    }
   ],
   "source": [
    "model, cumret_val, summaries_encdec, balance_summaries_encdec = \\\n",
    "            forecasting_trader.run_specific_model(n_in, hidden_nodes, pairs,\n",
    "                                                  path=current_path,\n",
    "                                                  low_quantile=low_quantile, high_quantile=high_quantile,\n",
    "                                                  lag=1, multistep=1)\n",
    "performance_encdec = [(summaries_encdec[i], balance_summaries_encdec[i]) for i in range(len(pairs))]\n",
    "print('Portfolio Sharpe Ratio: ',trader.calculate_portfolio_sharpe_ratio(performance_encdec, pairs))"
   ]
  },
  {
   "cell_type": "code",
   "execution_count": 1051,
   "metadata": {},
   "outputs": [
    {
     "data": {
      "image/png": "[encoded data removed]",
      "text/plain": [
       "<matplotlib.figure.Figure at 0x143f83160>"
      ]
     },
     "metadata": {},
     "output_type": "display_data"
    }
   ],
   "source": [
    "initial = 50\n",
    "final=100\n",
    "sampling = 1\n",
    "plt.figure(figsize=(20,10))\n",
    "plt.grid()\n",
    "plt.plot(summaries_encdec[0]['prediction(t)'].values[initial:final:sampling], color='blue', label='Forecast')\n",
    "plt.plot(summaries_encdec[0]['spread(t)'].values[initial:final:sampling], color='red', label='Spread')\n",
    "dates = summaries_encdec[0]['prediction(t)'][initial:final:sampling].index[::1]\n",
    "xi = np.arange(0, len(summaries_encdec[0]['prediction(t)'][initial:final:sampling]), 1)\n",
    "plt.xticks(xi, dates, rotation=55)\n",
    "plt.legend()\n",
    "plt.show()"
   ]
  },
  {
   "cell_type": "code",
   "execution_count": null,
   "metadata": {},
   "outputs": [],
   "source": [
    "encoder_decoder_trainer.py_decoder_trainer.py"
   ]
  },
  {
   "cell_type": "markdown",
   "metadata": {},
   "source": [
    "## Result for thesis"
   ]
  },
  {
   "cell_type": "code",
   "execution_count": 884,
   "metadata": {},
   "outputs": [
    {
     "data": {
      "image/png": "[encoded data removed]",
      "text/plain": [
       "<matplotlib.figure.Figure at 0x128397470>"
      ]
     },
     "metadata": {},
     "output_type": "display_data"
    }
   ],
   "source": [
    "i = 4\n",
    "plot_loss(model[i]['history'], 'Loss history from {}-{} spread training'.format(pairs[i][0], pairs[i][1]),\n",
    "         epoch_stop = model[i]['epoch_stop'], metric='mse')"
   ]
  },
  {
   "cell_type": "code",
   "execution_count": 881,
   "metadata": {},
   "outputs": [
    {
     "name": "stdout",
     "output_type": "stream",
     "text": [
      "Loss history from DGP-UGL spread training\n"
     ]
    },
    {
     "data": {
      "image/png": "[encoded data removed]",
      "text/plain": [
       "<matplotlib.figure.Figure at 0x138d41390>"
      ]
     },
     "metadata": {},
     "output_type": "display_data"
    }
   ],
   "source": [
    "i = 4\n",
    "print('Loss history from {}-{} spread training'.format(pairs[i][0], pairs[i][1]))\n",
    "plot_loss(model[i]['history'], 'Loss history from {}-{} spread training'.format(pairs[i][0], pairs[i][1]),\n",
    "         epoch_stop = model[i]['epoch_stop'], metric='mae')"
   ]
  },
  {
   "cell_type": "code",
   "execution_count": null,
   "metadata": {},
   "outputs": [],
   "source": [
    "index = 0\n",
    "summaries_encdec[index]['spread(t)'].plot(c='r')\n",
    "summaries_encdec[index]['prediction(t)'].plot(figsize=(15,10), c='b', grid=True)\n",
    "#summaries_encdec[index]['prediction(t+1)'].plot(figsize=(15,10), c='y', grid=True)\n",
    "\n",
    "print('EncDec: ',mean_squared_error(summaries_encdec[index]['spread(t)'],summaries_encdec[index]['prediction(t)']))\n",
    "print('Benchmark: ',mean_squared_error(summaries_encdec[index]['spread(t)'],\n",
    "                                       summaries_encdec[index]['spread(t)'].shift(1).fillna(0)))"
   ]
  },
  {
   "cell_type": "markdown",
   "metadata": {},
   "source": [
    "**Test Unrestricted**"
   ]
  },
  {
   "cell_type": "code",
   "execution_count": 907,
   "metadata": {},
   "outputs": [
    {
     "name": "stdout",
     "output_type": "stream",
     "text": [
      "\n",
      "Pair loaded: PXE_PXI:\n",
      "Check pairs: PXE_PXI.\n",
      "Long threshold: 34.22\n",
      "Short threshold: -34.26\n",
      "Accumulated return: 2.41%\n",
      "Sharpe Ratio: 0.07268280511402561\n",
      "\n",
      "Pair loaded: DBA_GCC:\n",
      "Check pairs: DBA_GCC.\n",
      "Long threshold: 1.47\n",
      "Short threshold: -1.49\n",
      "Accumulated return: -3.78%\n",
      "Sharpe Ratio: -0.8464600119837272\n",
      "\n",
      "Pair loaded: GCC_RJA:\n",
      "Check pairs: GCC_RJA.\n",
      "Long threshold: 5.52\n",
      "Short threshold: -5.16\n",
      "Accumulated return: 2.30%\n",
      "Sharpe Ratio: 0.09994693109292974\n",
      "\n",
      "Pair loaded: GSP_RJI:\n",
      "Check pairs: GSP_RJI.\n",
      "Long threshold: 1.21\n",
      "Short threshold: -1.19\n",
      "Accumulated return: 10.20%\n",
      "Sharpe Ratio: 1.476080410741228\n",
      "\n",
      "Pair loaded: DGP_UGL:\n",
      "Check pairs: DGP_UGL.\n",
      "Long threshold: 53.23\n",
      "Short threshold: -44.21\n",
      "Accumulated return: 0.00%\n",
      "Sharpe Ratio: 0\n",
      "\n",
      "Model mean ROI on test set: 2.23%\n",
      "Model mean Sharpe Ratio on test set: 0.16\n",
      "Portfolio Sharpe Ratio:  0.11712568961614665\n"
     ]
    }
   ],
   "source": [
    "model, cumret_val, summaries_encdec, balance_summaries_encdec = \\\n",
    "            forecasting_trader.test_specific_model(n_in, hidden_nodes, pairs,\n",
    "                                                  path=current_path,\n",
    "                                                  low_quantile=low_quantile, high_quantile=high_quantile,\n",
    "                                                  lag=1, multistep=1, profitable_pairs_indices=range(len(pairs)))\n",
    "performance_encdec = [(summaries_encdec[i], balance_summaries_encdec[i]) for i in range(len(pairs))]\n",
    "print('Portfolio Sharpe Ratio: ',trader.calculate_portfolio_sharpe_ratio(performance_encdec, pairs))"
   ]
  },
  {
   "cell_type": "code",
   "execution_count": 908,
   "metadata": {},
   "outputs": [
    {
     "name": "stdout",
     "output_type": "stream",
     "text": [
      "Max DD period: 84.0 days\n",
      "Maximum drawdown of portfolio: -1.64%\n"
     ]
    },
    {
     "data": {
      "image/png": "[encoded data removed]",
      "text/plain": [
       "<matplotlib.figure.Figure at 0x13a0237b8>"
      ]
     },
     "metadata": {},
     "output_type": "display_data"
    }
   ],
   "source": [
    "total_account_balance = balance_summaries_encdec[0]['account_balance']\n",
    "for index in range(1, len(pairs)):\n",
    "    total_account_balance = total_account_balance + balance_summaries_encdec[index]['account_balance']\n",
    "total_account_balance = total_account_balance.fillna(method='ffill')\n",
    "\n",
    "print('Maximum drawdown of portfolio: {:.2f}%'.format(trader.calculate_maximum_drawdown(total_account_balance)))"
   ]
  },
  {
   "cell_type": "markdown",
   "metadata": {},
   "source": [
    "**Active pairs during validation**"
   ]
  },
  {
   "cell_type": "code",
   "execution_count": 757,
   "metadata": {},
   "outputs": [
    {
     "name": "stdout",
     "output_type": "stream",
     "text": [
      "\n",
      "Pair loaded: PXE_PXI:\n",
      "Check pairs: PXE_PXI.\n",
      "Long threshold: 34.22\n",
      "Short threshold: -34.26\n",
      "Accumulated return: 13.01%\n",
      "Sharpe Ratio: 1.714521884473042\n",
      "\n",
      "Pair loaded: GCC_RJA:\n",
      "Check pairs: GCC_RJA.\n",
      "Long threshold: 5.52\n",
      "Short threshold: -5.16\n",
      "Accumulated return: 2.71%\n",
      "Sharpe Ratio: 0.48927915838637714\n",
      "\n",
      "Pair loaded: GSP_RJI:\n",
      "Check pairs: GSP_RJI.\n",
      "Long threshold: 1.21\n",
      "Short threshold: -1.19\n",
      "Accumulated return: 8.37%\n",
      "Sharpe Ratio: 1.0670662088144727\n",
      "\n",
      "Model mean ROI on test set: 8.03%\n",
      "Model mean Sharpe Ratio on test set: 1.09\n",
      "Portfolio Sharpe Ratio:  1.9896199885244725\n"
     ]
    }
   ],
   "source": [
    "cumret_val = np.asarray(cumret_val)\n",
    "profitable_pairs_indices = np.argwhere(cumret_val > 0)\n",
    "profitable_pairs = [pairs[i] for i in profitable_pairs_indices.flatten()]\n",
    "_, _, summaries_encdec, balance_summaries_encdec = \\\n",
    "        forecasting_trader.test_specific_model(n_in, hidden_nodes, pairs, path=current_path,\n",
    "                                               low_quantile=low_quantile, high_quantile=high_quantile, lag=1, \n",
    "                                               multistep=1,\n",
    "                                               profitable_pairs_indices=profitable_pairs_indices)\n",
    "performance_encdec = [(summaries_encdec[i], balance_summaries_encdec[i]) for i in range(len(profitable_pairs))]\n",
    "print('Portfolio Sharpe Ratio: ',trader.calculate_portfolio_sharpe_ratio(performance_encdec, profitable_pairs))"
   ]
  },
  {
   "cell_type": "code",
   "execution_count": 758,
   "metadata": {
    "scrolled": true
   },
   "outputs": [
    {
     "name": "stdout",
     "output_type": "stream",
     "text": [
      "Max DD period: 4.0 days\n",
      "Maximum drawdown of portfolio: -1.55%\n"
     ]
    },
    {
     "data": {
      "image/png": "[encoded data removed]",
      "text/plain": [
       "<matplotlib.figure.Figure at 0x1571817f0>"
      ]
     },
     "metadata": {},
     "output_type": "display_data"
    }
   ],
   "source": [
    "total_account_balance = balance_summaries_encdec[0]['account_balance']\n",
    "for index in range(1, len(profitable_pairs)):\n",
    "    total_account_balance = total_account_balance + balance_summaries_encdec[index]['account_balance']\n",
    "total_account_balance = total_account_balance.fillna(method='ffill')\n",
    "\n",
    "print('Maximum drawdown of portfolio: {:.2f}%'.format(trader.calculate_maximum_drawdown(total_account_balance)))"
   ]
  },
  {
   "cell_type": "code",
   "execution_count": 759,
   "metadata": {},
   "outputs": [
    {
     "name": "stdout",
     "output_type": "stream",
     "text": [
      "Total number of trades:  106\n",
      "Positive trades:  85\n",
      "Negative trades:  21\n"
     ]
    }
   ],
   "source": [
    "total_trades = 0\n",
    "positive_trades = 0\n",
    "negative_trades = 0\n",
    "for i in range(len(profitable_pairs)):\n",
    "    total_trades += len(balance_summaries_encdec[i][balance_summaries_encdec[i].trading_duration != 0])\n",
    "    # positive & negative\n",
    "    trading_subset = summaries_encdec[i][summaries_encdec[i].trading_days != 0]\n",
    "    positive_trades += len(trading_subset[trading_subset.position_return > 0])\n",
    "    negative_trades += len(trading_subset[trading_subset.position_return <= 0])\n",
    "print('Total number of trades: ',total_trades)\n",
    "print('Positive trades: ',positive_trades)\n",
    "print('Negative trades: ',negative_trades)"
   ]
  },
  {
   "cell_type": "markdown",
   "metadata": {},
   "source": [
    "# Comparing Neural Networks"
   ]
  },
  {
   "cell_type": "code",
   "execution_count": 239,
   "metadata": {},
   "outputs": [
    {
     "name": "stdout",
     "output_type": "stream",
     "text": [
      "{'n_in': 12, 'n_out': 1, 'epochs': 250, 'hidden_nodes': [10], 'loss_fct': 'mse', 'optimizer': 'adam', 'batch_size': 1024, 'train_val_split': '2017-01-01', 'test_init': '2018-01-01'}\n",
      "Pair PXE-PXI: Val RMSE: 104.41480033583048E-3; Accuracy: 18.732697631498%\n",
      "Pair DBA-GCC: Val RMSE: 20.25690867390696E-3; Accuracy: 34.051061211934794%\n",
      "Pair GCC-RJA: Val RMSE: 7.738687580928983E-3; Accuracy: 17.527940120988415%\n",
      "Pair GSP-RJI: Val RMSE: 7.311287943687445E-3; Accuracy: 16.338562493591716%\n",
      "Pair DGP-UGL: Val RMSE: 46.95296630146496E-3; Accuracy: 23.41843535322465%\n"
     ]
    }
   ],
   "source": [
    "current_path=('models_copy/rnn_5_pairs_optical/')\n",
    "rnn_models = read_models(path=current_path)\n",
    "with open(current_path+'pairs_unsupervised_learning_intraday.pickle', 'rb') as handle:\n",
    "    pairs = pickle.load(handle)\n",
    "\n",
    "model_i = 0\n",
    "print(rnn_models[model_i][-1])\n",
    "for pair_i in range(5):\n",
    "    predictions_val = rnn_models[model_i][pair_i]['predictions_val']\n",
    "    spread_val = pairs[pair_i][2]['spread'][train_val_split:]\n",
    "    print('Pair {}-{}: Val RMSE: {}E-3; Accuracy: {}%'.format(pairs[pair_i][0], pairs[pair_i][1], \n",
    "                                           np.sqrt(mean_squared_error(predictions_val, spread_val))*1000,\n",
    "                                           forecasting_trader.calculate_direction_accuracy(spread_val,\n",
    "                                                                                           predictions_val)))"
   ]
  },
  {
   "cell_type": "markdown",
   "metadata": {},
   "source": [
    "### Observations\n",
    "\n",
    "- The simpler the algorithm the better the score. But the score by itself seems not to be strictly related with returns. It is however a way to evaluate the forecasting ability of the algorithms."
   ]
  },
  {
   "cell_type": "markdown",
   "metadata": {},
   "source": [
    "## Supporting the benchmark model with predictions"
   ]
  },
  {
   "cell_type": "code",
   "execution_count": null,
   "metadata": {},
   "outputs": [],
   "source": [
    "# no support"
   ]
  },
  {
   "cell_type": "code",
   "execution_count": 545,
   "metadata": {},
   "outputs": [
    {
     "name": "stdout",
     "output_type": "stream",
     "text": [
      "Pair: 5/5Average result:  2.2072976898033496\n",
      "avg_annual_roi:  26.72258556181264\n",
      "100.0 % of the pairs had positive returns\n"
     ]
    }
   ],
   "source": [
    "results_without_costs, results_with_costs, performance_threshold_test = trader.apply_trading_strategy(pairs,\n",
    "                                                                                             'fixed_beta',\n",
    "                                                                                             1.5,\n",
    "                                                                                             0,\n",
    "                                                                                             test_mode=True)\n",
    "sharpe_results_threshold_test_nocosts, cum_returns_threshold_test_nocosts = results_without_costs\n",
    "sharpe_results_threshold_test_w_costs, cum_returns_threshold_test_w_costs = results_with_costs\n",
    "\n",
    "_, _, _, _ = trader.calculate_metrics(sharpe_results_threshold_test_w_costs, cum_returns_threshold_test_w_costs,\n",
    "                                      1)"
   ]
  },
  {
   "cell_type": "code",
   "execution_count": 474,
   "metadata": {},
   "outputs": [],
   "source": [
    "# with support"
   ]
  },
  {
   "cell_type": "code",
   "execution_count": 549,
   "metadata": {},
   "outputs": [
    {
     "name": "stdout",
     "output_type": "stream",
     "text": [
      "Pair: 5/5Average result:  2.258588850817274\n",
      "avg_annual_roi:  28.694686301384962\n",
      "100.0 % of the pairs had positive returns\n"
     ]
    }
   ],
   "source": [
    "# append predictions to pairs\n",
    "for i in range(len(pairs)):\n",
    "    pairs[i][2]['predictions'] = summaries_rnn[i]['spread(t)'] #summaries_rnn[i]['prediction(t)']\n",
    "    \n",
    "# run again with deep learning flag\n",
    "results_without_costs, results_with_costs, performance_threshold_test = trader.apply_trading_strategy(pairs,\n",
    "                                                                                             'fixed_beta',\n",
    "                                                                                             1.5,\n",
    "                                                                                             0,\n",
    "                                                                                             test_mode=True,\n",
    "                                                                                             ai_support=True\n",
    "                                                                                            )\n",
    "sharpe_results_threshold_test_nocosts, cum_returns_threshold_test_nocosts = results_without_costs\n",
    "sharpe_results_threshold_test_w_costs, cum_returns_threshold_test_w_costs = results_with_costs\n",
    "\n",
    "_, _, _, _ = trader.calculate_metrics(sharpe_results_threshold_test_w_costs, cum_returns_threshold_test_w_costs,\n",
    "                                      1)"
   ]
  },
  {
   "cell_type": "code",
   "execution_count": 550,
   "metadata": {},
   "outputs": [
    {
     "data": {
      "text/html": [
       "<div>\n",
       "<style scoped>\n",
       "    .dataframe tbody tr th:only-of-type {\n",
       "        vertical-align: middle;\n",
       "    }\n",
       "\n",
       "    .dataframe tbody tr th {\n",
       "        vertical-align: top;\n",
       "    }\n",
       "\n",
       "    .dataframe thead th {\n",
       "        text-align: right;\n",
       "    }\n",
       "</style>\n",
       "<table border=\"1\" class=\"dataframe\">\n",
       "  <thead>\n",
       "    <tr style=\"text-align: right;\">\n",
       "      <th></th>\n",
       "      <th>pnl</th>\n",
       "      <th>pnl_y</th>\n",
       "      <th>pnl_x</th>\n",
       "      <th>account_balance</th>\n",
       "      <th>returns</th>\n",
       "      <th>position_return</th>\n",
       "      <th>prediction_change</th>\n",
       "      <th>PXI</th>\n",
       "      <th>PXE</th>\n",
       "      <th>norm_spread</th>\n",
       "      <th>position_during_day</th>\n",
       "      <th>trading_duration</th>\n",
       "      <th>position_ret_with_costs</th>\n",
       "    </tr>\n",
       "  </thead>\n",
       "  <tbody>\n",
       "    <tr>\n",
       "      <th>2018-02-26 14:35:00</th>\n",
       "      <td>0.003827</td>\n",
       "      <td>-0.004436</td>\n",
       "      <td>0.008263</td>\n",
       "      <td>0.963026</td>\n",
       "      <td>0.003989</td>\n",
       "      <td>0.0</td>\n",
       "      <td>-0.009325</td>\n",
       "      <td>38.021</td>\n",
       "      <td>20.553</td>\n",
       "      <td>1.910642</td>\n",
       "      <td>-1.0</td>\n",
       "      <td>0</td>\n",
       "      <td>0.0</td>\n",
       "    </tr>\n",
       "    <tr>\n",
       "      <th>2018-02-26 14:40:00</th>\n",
       "      <td>-0.006638</td>\n",
       "      <td>-0.000000</td>\n",
       "      <td>-0.006638</td>\n",
       "      <td>0.956388</td>\n",
       "      <td>-0.006893</td>\n",
       "      <td>0.0</td>\n",
       "      <td>0.254930</td>\n",
       "      <td>38.021</td>\n",
       "      <td>20.410</td>\n",
       "      <td>2.030490</td>\n",
       "      <td>-1.0</td>\n",
       "      <td>0</td>\n",
       "      <td>0.0</td>\n",
       "    </tr>\n",
       "    <tr>\n",
       "      <th>2018-02-26 14:45:00</th>\n",
       "      <td>0.000000</td>\n",
       "      <td>-0.000000</td>\n",
       "      <td>0.000000</td>\n",
       "      <td>0.956388</td>\n",
       "      <td>0.000000</td>\n",
       "      <td>0.0</td>\n",
       "      <td>0.000000</td>\n",
       "      <td>38.021</td>\n",
       "      <td>20.410</td>\n",
       "      <td>2.030490</td>\n",
       "      <td>-1.0</td>\n",
       "      <td>0</td>\n",
       "      <td>0.0</td>\n",
       "    </tr>\n",
       "    <tr>\n",
       "      <th>2018-02-26 14:50:00</th>\n",
       "      <td>-0.002089</td>\n",
       "      <td>-0.000000</td>\n",
       "      <td>-0.002089</td>\n",
       "      <td>0.954299</td>\n",
       "      <td>-0.002184</td>\n",
       "      <td>0.0</td>\n",
       "      <td>0.080223</td>\n",
       "      <td>38.021</td>\n",
       "      <td>20.365</td>\n",
       "      <td>2.068204</td>\n",
       "      <td>-1.0</td>\n",
       "      <td>0</td>\n",
       "      <td>0.0</td>\n",
       "    </tr>\n",
       "    <tr>\n",
       "      <th>2018-02-26 14:55:00</th>\n",
       "      <td>0.000000</td>\n",
       "      <td>-0.000000</td>\n",
       "      <td>0.000000</td>\n",
       "      <td>0.954299</td>\n",
       "      <td>0.000000</td>\n",
       "      <td>0.0</td>\n",
       "      <td>0.000000</td>\n",
       "      <td>38.021</td>\n",
       "      <td>20.365</td>\n",
       "      <td>2.068204</td>\n",
       "      <td>-1.0</td>\n",
       "      <td>0</td>\n",
       "      <td>0.0</td>\n",
       "    </tr>\n",
       "    <tr>\n",
       "      <th>2018-02-26 15:00:00</th>\n",
       "      <td>0.000000</td>\n",
       "      <td>-0.000000</td>\n",
       "      <td>0.000000</td>\n",
       "      <td>0.954299</td>\n",
       "      <td>0.000000</td>\n",
       "      <td>0.0</td>\n",
       "      <td>0.000000</td>\n",
       "      <td>38.021</td>\n",
       "      <td>20.365</td>\n",
       "      <td>2.068204</td>\n",
       "      <td>-1.0</td>\n",
       "      <td>0</td>\n",
       "      <td>0.0</td>\n",
       "    </tr>\n",
       "    <tr>\n",
       "      <th>2018-02-26 15:05:00</th>\n",
       "      <td>0.000000</td>\n",
       "      <td>-0.000000</td>\n",
       "      <td>0.000000</td>\n",
       "      <td>0.954299</td>\n",
       "      <td>0.000000</td>\n",
       "      <td>0.0</td>\n",
       "      <td>0.000000</td>\n",
       "      <td>38.021</td>\n",
       "      <td>20.365</td>\n",
       "      <td>2.068204</td>\n",
       "      <td>-1.0</td>\n",
       "      <td>0</td>\n",
       "      <td>0.0</td>\n",
       "    </tr>\n",
       "    <tr>\n",
       "      <th>2018-02-26 15:10:00</th>\n",
       "      <td>0.000000</td>\n",
       "      <td>-0.000000</td>\n",
       "      <td>0.000000</td>\n",
       "      <td>0.954299</td>\n",
       "      <td>0.000000</td>\n",
       "      <td>0.0</td>\n",
       "      <td>0.000000</td>\n",
       "      <td>38.021</td>\n",
       "      <td>20.365</td>\n",
       "      <td>2.068204</td>\n",
       "      <td>-1.0</td>\n",
       "      <td>0</td>\n",
       "      <td>0.0</td>\n",
       "    </tr>\n",
       "    <tr>\n",
       "      <th>2018-02-26 15:15:00</th>\n",
       "      <td>-0.001346</td>\n",
       "      <td>-0.000000</td>\n",
       "      <td>-0.001346</td>\n",
       "      <td>0.952953</td>\n",
       "      <td>-0.001411</td>\n",
       "      <td>0.0</td>\n",
       "      <td>0.051699</td>\n",
       "      <td>38.021</td>\n",
       "      <td>20.336</td>\n",
       "      <td>2.092509</td>\n",
       "      <td>-1.0</td>\n",
       "      <td>0</td>\n",
       "      <td>0.0</td>\n",
       "    </tr>\n",
       "    <tr>\n",
       "      <th>2018-02-26 15:20:00</th>\n",
       "      <td>0.000000</td>\n",
       "      <td>-0.000000</td>\n",
       "      <td>0.000000</td>\n",
       "      <td>0.952953</td>\n",
       "      <td>0.000000</td>\n",
       "      <td>0.0</td>\n",
       "      <td>0.000000</td>\n",
       "      <td>38.021</td>\n",
       "      <td>20.336</td>\n",
       "      <td>2.092509</td>\n",
       "      <td>-1.0</td>\n",
       "      <td>0</td>\n",
       "      <td>0.0</td>\n",
       "    </tr>\n",
       "    <tr>\n",
       "      <th>2018-02-26 15:25:00</th>\n",
       "      <td>0.000000</td>\n",
       "      <td>-0.000000</td>\n",
       "      <td>0.000000</td>\n",
       "      <td>0.952953</td>\n",
       "      <td>0.000000</td>\n",
       "      <td>0.0</td>\n",
       "      <td>0.000000</td>\n",
       "      <td>38.021</td>\n",
       "      <td>20.336</td>\n",
       "      <td>2.092509</td>\n",
       "      <td>-1.0</td>\n",
       "      <td>0</td>\n",
       "      <td>0.0</td>\n",
       "    </tr>\n",
       "    <tr>\n",
       "      <th>2018-02-26 15:30:00</th>\n",
       "      <td>0.000000</td>\n",
       "      <td>-0.000000</td>\n",
       "      <td>0.000000</td>\n",
       "      <td>0.952953</td>\n",
       "      <td>0.000000</td>\n",
       "      <td>0.0</td>\n",
       "      <td>0.000000</td>\n",
       "      <td>38.021</td>\n",
       "      <td>20.336</td>\n",
       "      <td>2.092509</td>\n",
       "      <td>-1.0</td>\n",
       "      <td>0</td>\n",
       "      <td>0.0</td>\n",
       "    </tr>\n",
       "    <tr>\n",
       "      <th>2018-02-26 15:35:00</th>\n",
       "      <td>0.000000</td>\n",
       "      <td>-0.000000</td>\n",
       "      <td>0.000000</td>\n",
       "      <td>0.952953</td>\n",
       "      <td>0.000000</td>\n",
       "      <td>0.0</td>\n",
       "      <td>0.000000</td>\n",
       "      <td>38.021</td>\n",
       "      <td>20.336</td>\n",
       "      <td>2.092509</td>\n",
       "      <td>-1.0</td>\n",
       "      <td>0</td>\n",
       "      <td>0.0</td>\n",
       "    </tr>\n",
       "    <tr>\n",
       "      <th>2018-02-26 15:40:00</th>\n",
       "      <td>-0.000928</td>\n",
       "      <td>-0.000000</td>\n",
       "      <td>-0.000928</td>\n",
       "      <td>0.952024</td>\n",
       "      <td>-0.000974</td>\n",
       "      <td>0.0</td>\n",
       "      <td>0.035655</td>\n",
       "      <td>38.021</td>\n",
       "      <td>20.316</td>\n",
       "      <td>2.109271</td>\n",
       "      <td>-1.0</td>\n",
       "      <td>0</td>\n",
       "      <td>0.0</td>\n",
       "    </tr>\n",
       "    <tr>\n",
       "      <th>2018-02-26 15:45:00</th>\n",
       "      <td>0.000000</td>\n",
       "      <td>-0.000000</td>\n",
       "      <td>0.000000</td>\n",
       "      <td>0.952024</td>\n",
       "      <td>0.000000</td>\n",
       "      <td>0.0</td>\n",
       "      <td>0.000000</td>\n",
       "      <td>38.021</td>\n",
       "      <td>20.316</td>\n",
       "      <td>2.109271</td>\n",
       "      <td>-1.0</td>\n",
       "      <td>0</td>\n",
       "      <td>0.0</td>\n",
       "    </tr>\n",
       "    <tr>\n",
       "      <th>2018-02-26 15:50:00</th>\n",
       "      <td>0.000000</td>\n",
       "      <td>-0.000000</td>\n",
       "      <td>0.000000</td>\n",
       "      <td>0.952024</td>\n",
       "      <td>0.000000</td>\n",
       "      <td>0.0</td>\n",
       "      <td>0.000000</td>\n",
       "      <td>38.021</td>\n",
       "      <td>20.316</td>\n",
       "      <td>2.109271</td>\n",
       "      <td>-1.0</td>\n",
       "      <td>0</td>\n",
       "      <td>0.0</td>\n",
       "    </tr>\n",
       "    <tr>\n",
       "      <th>2018-02-26 15:55:00</th>\n",
       "      <td>0.004205</td>\n",
       "      <td>0.004205</td>\n",
       "      <td>0.000000</td>\n",
       "      <td>0.956230</td>\n",
       "      <td>0.004417</td>\n",
       "      <td>0.0</td>\n",
       "      <td>-0.292000</td>\n",
       "      <td>37.729</td>\n",
       "      <td>20.316</td>\n",
       "      <td>1.971995</td>\n",
       "      <td>-1.0</td>\n",
       "      <td>0</td>\n",
       "      <td>0.0</td>\n",
       "    </tr>\n",
       "    <tr>\n",
       "      <th>2018-02-26 16:00:00</th>\n",
       "      <td>0.000000</td>\n",
       "      <td>-0.000000</td>\n",
       "      <td>0.000000</td>\n",
       "      <td>0.956230</td>\n",
       "      <td>0.000000</td>\n",
       "      <td>0.0</td>\n",
       "      <td>0.000000</td>\n",
       "      <td>37.729</td>\n",
       "      <td>20.316</td>\n",
       "      <td>1.971995</td>\n",
       "      <td>-1.0</td>\n",
       "      <td>0</td>\n",
       "      <td>0.0</td>\n",
       "    </tr>\n",
       "    <tr>\n",
       "      <th>2018-02-26 16:05:00</th>\n",
       "      <td>0.000000</td>\n",
       "      <td>-0.000000</td>\n",
       "      <td>0.000000</td>\n",
       "      <td>0.956230</td>\n",
       "      <td>0.000000</td>\n",
       "      <td>0.0</td>\n",
       "      <td>0.000000</td>\n",
       "      <td>37.729</td>\n",
       "      <td>20.316</td>\n",
       "      <td>1.971995</td>\n",
       "      <td>-1.0</td>\n",
       "      <td>0</td>\n",
       "      <td>0.0</td>\n",
       "    </tr>\n",
       "    <tr>\n",
       "      <th>2018-02-26 16:10:00</th>\n",
       "      <td>0.000000</td>\n",
       "      <td>-0.000000</td>\n",
       "      <td>0.000000</td>\n",
       "      <td>0.956230</td>\n",
       "      <td>0.000000</td>\n",
       "      <td>0.0</td>\n",
       "      <td>0.000000</td>\n",
       "      <td>37.729</td>\n",
       "      <td>20.316</td>\n",
       "      <td>1.971995</td>\n",
       "      <td>-1.0</td>\n",
       "      <td>0</td>\n",
       "      <td>0.0</td>\n",
       "    </tr>\n",
       "    <tr>\n",
       "      <th>2018-02-26 16:15:00</th>\n",
       "      <td>0.000000</td>\n",
       "      <td>-0.000000</td>\n",
       "      <td>0.000000</td>\n",
       "      <td>0.956230</td>\n",
       "      <td>0.000000</td>\n",
       "      <td>0.0</td>\n",
       "      <td>0.000000</td>\n",
       "      <td>37.729</td>\n",
       "      <td>20.316</td>\n",
       "      <td>1.971995</td>\n",
       "      <td>-1.0</td>\n",
       "      <td>0</td>\n",
       "      <td>0.0</td>\n",
       "    </tr>\n",
       "    <tr>\n",
       "      <th>2018-02-26 16:20:00</th>\n",
       "      <td>0.000000</td>\n",
       "      <td>-0.000000</td>\n",
       "      <td>0.000000</td>\n",
       "      <td>0.956230</td>\n",
       "      <td>0.000000</td>\n",
       "      <td>0.0</td>\n",
       "      <td>0.000000</td>\n",
       "      <td>37.729</td>\n",
       "      <td>20.316</td>\n",
       "      <td>1.971995</td>\n",
       "      <td>-1.0</td>\n",
       "      <td>0</td>\n",
       "      <td>0.0</td>\n",
       "    </tr>\n",
       "    <tr>\n",
       "      <th>2018-02-26 16:25:00</th>\n",
       "      <td>0.000000</td>\n",
       "      <td>-0.000000</td>\n",
       "      <td>0.000000</td>\n",
       "      <td>0.956230</td>\n",
       "      <td>0.000000</td>\n",
       "      <td>0.0</td>\n",
       "      <td>0.000000</td>\n",
       "      <td>37.729</td>\n",
       "      <td>20.316</td>\n",
       "      <td>1.971995</td>\n",
       "      <td>-1.0</td>\n",
       "      <td>0</td>\n",
       "      <td>0.0</td>\n",
       "    </tr>\n",
       "    <tr>\n",
       "      <th>2018-02-26 16:30:00</th>\n",
       "      <td>0.000000</td>\n",
       "      <td>-0.000000</td>\n",
       "      <td>0.000000</td>\n",
       "      <td>0.956230</td>\n",
       "      <td>0.000000</td>\n",
       "      <td>0.0</td>\n",
       "      <td>0.000000</td>\n",
       "      <td>37.729</td>\n",
       "      <td>20.316</td>\n",
       "      <td>1.971995</td>\n",
       "      <td>-1.0</td>\n",
       "      <td>0</td>\n",
       "      <td>0.0</td>\n",
       "    </tr>\n",
       "    <tr>\n",
       "      <th>2018-02-26 16:35:00</th>\n",
       "      <td>0.000000</td>\n",
       "      <td>-0.000000</td>\n",
       "      <td>0.000000</td>\n",
       "      <td>0.956230</td>\n",
       "      <td>0.000000</td>\n",
       "      <td>0.0</td>\n",
       "      <td>0.000000</td>\n",
       "      <td>37.729</td>\n",
       "      <td>20.316</td>\n",
       "      <td>1.971995</td>\n",
       "      <td>-1.0</td>\n",
       "      <td>0</td>\n",
       "      <td>0.0</td>\n",
       "    </tr>\n",
       "    <tr>\n",
       "      <th>2018-02-26 16:40:00</th>\n",
       "      <td>0.000000</td>\n",
       "      <td>-0.000000</td>\n",
       "      <td>0.000000</td>\n",
       "      <td>0.956230</td>\n",
       "      <td>0.000000</td>\n",
       "      <td>0.0</td>\n",
       "      <td>0.000000</td>\n",
       "      <td>37.729</td>\n",
       "      <td>20.316</td>\n",
       "      <td>1.971995</td>\n",
       "      <td>-1.0</td>\n",
       "      <td>0</td>\n",
       "      <td>0.0</td>\n",
       "    </tr>\n",
       "    <tr>\n",
       "      <th>2018-02-26 16:45:00</th>\n",
       "      <td>0.000000</td>\n",
       "      <td>-0.000000</td>\n",
       "      <td>0.000000</td>\n",
       "      <td>0.956230</td>\n",
       "      <td>0.000000</td>\n",
       "      <td>0.0</td>\n",
       "      <td>0.000000</td>\n",
       "      <td>37.729</td>\n",
       "      <td>20.316</td>\n",
       "      <td>1.971995</td>\n",
       "      <td>-1.0</td>\n",
       "      <td>0</td>\n",
       "      <td>0.0</td>\n",
       "    </tr>\n",
       "    <tr>\n",
       "      <th>2018-02-26 16:50:00</th>\n",
       "      <td>0.000000</td>\n",
       "      <td>-0.000000</td>\n",
       "      <td>0.000000</td>\n",
       "      <td>0.956230</td>\n",
       "      <td>0.000000</td>\n",
       "      <td>0.0</td>\n",
       "      <td>0.000000</td>\n",
       "      <td>37.729</td>\n",
       "      <td>20.316</td>\n",
       "      <td>1.971995</td>\n",
       "      <td>-1.0</td>\n",
       "      <td>0</td>\n",
       "      <td>0.0</td>\n",
       "    </tr>\n",
       "    <tr>\n",
       "      <th>2018-02-26 16:55:00</th>\n",
       "      <td>0.000000</td>\n",
       "      <td>-0.000000</td>\n",
       "      <td>0.000000</td>\n",
       "      <td>0.956230</td>\n",
       "      <td>0.000000</td>\n",
       "      <td>0.0</td>\n",
       "      <td>0.000000</td>\n",
       "      <td>37.729</td>\n",
       "      <td>20.316</td>\n",
       "      <td>1.971995</td>\n",
       "      <td>-1.0</td>\n",
       "      <td>0</td>\n",
       "      <td>0.0</td>\n",
       "    </tr>\n",
       "    <tr>\n",
       "      <th>2018-02-26 17:00:00</th>\n",
       "      <td>0.000000</td>\n",
       "      <td>-0.000000</td>\n",
       "      <td>0.000000</td>\n",
       "      <td>0.956230</td>\n",
       "      <td>0.000000</td>\n",
       "      <td>0.0</td>\n",
       "      <td>0.000000</td>\n",
       "      <td>37.729</td>\n",
       "      <td>20.316</td>\n",
       "      <td>1.971995</td>\n",
       "      <td>-1.0</td>\n",
       "      <td>0</td>\n",
       "      <td>0.0</td>\n",
       "    </tr>\n",
       "    <tr>\n",
       "      <th>...</th>\n",
       "      <td>...</td>\n",
       "      <td>...</td>\n",
       "      <td>...</td>\n",
       "      <td>...</td>\n",
       "      <td>...</td>\n",
       "      <td>...</td>\n",
       "      <td>...</td>\n",
       "      <td>...</td>\n",
       "      <td>...</td>\n",
       "      <td>...</td>\n",
       "      <td>...</td>\n",
       "      <td>...</td>\n",
       "      <td>...</td>\n",
       "    </tr>\n",
       "    <tr>\n",
       "      <th>2018-02-26 18:35:00</th>\n",
       "      <td>0.007798</td>\n",
       "      <td>-0.000000</td>\n",
       "      <td>0.007798</td>\n",
       "      <td>0.960428</td>\n",
       "      <td>0.008186</td>\n",
       "      <td>0.0</td>\n",
       "      <td>-0.299498</td>\n",
       "      <td>37.979</td>\n",
       "      <td>20.484</td>\n",
       "      <td>1.948725</td>\n",
       "      <td>-1.0</td>\n",
       "      <td>0</td>\n",
       "      <td>0.0</td>\n",
       "    </tr>\n",
       "    <tr>\n",
       "      <th>2018-02-26 18:40:00</th>\n",
       "      <td>0.000187</td>\n",
       "      <td>0.000187</td>\n",
       "      <td>0.000000</td>\n",
       "      <td>0.960615</td>\n",
       "      <td>0.000195</td>\n",
       "      <td>0.0</td>\n",
       "      <td>-0.013000</td>\n",
       "      <td>37.966</td>\n",
       "      <td>20.484</td>\n",
       "      <td>1.942614</td>\n",
       "      <td>-1.0</td>\n",
       "      <td>0</td>\n",
       "      <td>0.0</td>\n",
       "    </tr>\n",
       "    <tr>\n",
       "      <th>2018-02-26 18:45:00</th>\n",
       "      <td>0.000000</td>\n",
       "      <td>-0.000000</td>\n",
       "      <td>0.000000</td>\n",
       "      <td>0.960615</td>\n",
       "      <td>0.000000</td>\n",
       "      <td>0.0</td>\n",
       "      <td>0.000000</td>\n",
       "      <td>37.966</td>\n",
       "      <td>20.484</td>\n",
       "      <td>1.942614</td>\n",
       "      <td>-1.0</td>\n",
       "      <td>0</td>\n",
       "      <td>0.0</td>\n",
       "    </tr>\n",
       "    <tr>\n",
       "      <th>2018-02-26 18:50:00</th>\n",
       "      <td>0.000000</td>\n",
       "      <td>-0.000000</td>\n",
       "      <td>0.000000</td>\n",
       "      <td>0.960615</td>\n",
       "      <td>0.000000</td>\n",
       "      <td>0.0</td>\n",
       "      <td>0.000000</td>\n",
       "      <td>37.966</td>\n",
       "      <td>20.484</td>\n",
       "      <td>1.942614</td>\n",
       "      <td>-1.0</td>\n",
       "      <td>0</td>\n",
       "      <td>0.0</td>\n",
       "    </tr>\n",
       "    <tr>\n",
       "      <th>2018-02-26 18:55:00</th>\n",
       "      <td>0.000000</td>\n",
       "      <td>-0.000000</td>\n",
       "      <td>0.000000</td>\n",
       "      <td>0.960615</td>\n",
       "      <td>0.000000</td>\n",
       "      <td>0.0</td>\n",
       "      <td>0.000000</td>\n",
       "      <td>37.966</td>\n",
       "      <td>20.484</td>\n",
       "      <td>1.942614</td>\n",
       "      <td>-1.0</td>\n",
       "      <td>0</td>\n",
       "      <td>0.0</td>\n",
       "    </tr>\n",
       "    <tr>\n",
       "      <th>2018-02-26 19:00:00</th>\n",
       "      <td>0.000634</td>\n",
       "      <td>0.000634</td>\n",
       "      <td>0.000000</td>\n",
       "      <td>0.961249</td>\n",
       "      <td>0.000660</td>\n",
       "      <td>0.0</td>\n",
       "      <td>-0.044000</td>\n",
       "      <td>37.922</td>\n",
       "      <td>20.484</td>\n",
       "      <td>1.921928</td>\n",
       "      <td>-1.0</td>\n",
       "      <td>0</td>\n",
       "      <td>0.0</td>\n",
       "    </tr>\n",
       "    <tr>\n",
       "      <th>2018-02-26 19:05:00</th>\n",
       "      <td>0.000000</td>\n",
       "      <td>-0.000000</td>\n",
       "      <td>0.000000</td>\n",
       "      <td>0.961249</td>\n",
       "      <td>0.000000</td>\n",
       "      <td>0.0</td>\n",
       "      <td>0.000000</td>\n",
       "      <td>37.922</td>\n",
       "      <td>20.484</td>\n",
       "      <td>1.921928</td>\n",
       "      <td>-1.0</td>\n",
       "      <td>0</td>\n",
       "      <td>0.0</td>\n",
       "    </tr>\n",
       "    <tr>\n",
       "      <th>2018-02-26 19:10:00</th>\n",
       "      <td>0.000000</td>\n",
       "      <td>-0.000000</td>\n",
       "      <td>0.000000</td>\n",
       "      <td>0.961249</td>\n",
       "      <td>0.000000</td>\n",
       "      <td>0.0</td>\n",
       "      <td>0.000000</td>\n",
       "      <td>37.922</td>\n",
       "      <td>20.484</td>\n",
       "      <td>1.921928</td>\n",
       "      <td>-1.0</td>\n",
       "      <td>0</td>\n",
       "      <td>0.0</td>\n",
       "    </tr>\n",
       "    <tr>\n",
       "      <th>2018-02-26 19:15:00</th>\n",
       "      <td>0.000000</td>\n",
       "      <td>-0.000000</td>\n",
       "      <td>0.000000</td>\n",
       "      <td>0.961249</td>\n",
       "      <td>0.000000</td>\n",
       "      <td>0.0</td>\n",
       "      <td>0.000000</td>\n",
       "      <td>37.922</td>\n",
       "      <td>20.484</td>\n",
       "      <td>1.921928</td>\n",
       "      <td>-1.0</td>\n",
       "      <td>0</td>\n",
       "      <td>0.0</td>\n",
       "    </tr>\n",
       "    <tr>\n",
       "      <th>2018-02-26 19:20:00</th>\n",
       "      <td>0.000000</td>\n",
       "      <td>-0.000000</td>\n",
       "      <td>0.000000</td>\n",
       "      <td>0.961249</td>\n",
       "      <td>0.000000</td>\n",
       "      <td>0.0</td>\n",
       "      <td>0.000000</td>\n",
       "      <td>37.922</td>\n",
       "      <td>20.484</td>\n",
       "      <td>1.921928</td>\n",
       "      <td>-1.0</td>\n",
       "      <td>0</td>\n",
       "      <td>0.0</td>\n",
       "    </tr>\n",
       "    <tr>\n",
       "      <th>2018-02-26 19:25:00</th>\n",
       "      <td>0.000000</td>\n",
       "      <td>-0.000000</td>\n",
       "      <td>0.000000</td>\n",
       "      <td>0.961249</td>\n",
       "      <td>0.000000</td>\n",
       "      <td>0.0</td>\n",
       "      <td>0.000000</td>\n",
       "      <td>37.922</td>\n",
       "      <td>20.484</td>\n",
       "      <td>1.921928</td>\n",
       "      <td>-1.0</td>\n",
       "      <td>0</td>\n",
       "      <td>0.0</td>\n",
       "    </tr>\n",
       "    <tr>\n",
       "      <th>2018-02-26 19:30:00</th>\n",
       "      <td>-0.001857</td>\n",
       "      <td>-0.000000</td>\n",
       "      <td>-0.001857</td>\n",
       "      <td>0.959392</td>\n",
       "      <td>-0.001932</td>\n",
       "      <td>0.0</td>\n",
       "      <td>0.071309</td>\n",
       "      <td>37.922</td>\n",
       "      <td>20.444</td>\n",
       "      <td>1.955452</td>\n",
       "      <td>-1.0</td>\n",
       "      <td>0</td>\n",
       "      <td>0.0</td>\n",
       "    </tr>\n",
       "    <tr>\n",
       "      <th>2018-02-26 19:35:00</th>\n",
       "      <td>0.000000</td>\n",
       "      <td>-0.000000</td>\n",
       "      <td>0.000000</td>\n",
       "      <td>0.959392</td>\n",
       "      <td>0.000000</td>\n",
       "      <td>0.0</td>\n",
       "      <td>0.000000</td>\n",
       "      <td>37.922</td>\n",
       "      <td>20.444</td>\n",
       "      <td>1.955452</td>\n",
       "      <td>-1.0</td>\n",
       "      <td>0</td>\n",
       "      <td>0.0</td>\n",
       "    </tr>\n",
       "    <tr>\n",
       "      <th>2018-02-26 19:40:00</th>\n",
       "      <td>0.000000</td>\n",
       "      <td>-0.000000</td>\n",
       "      <td>0.000000</td>\n",
       "      <td>0.959392</td>\n",
       "      <td>0.000000</td>\n",
       "      <td>0.0</td>\n",
       "      <td>0.000000</td>\n",
       "      <td>37.922</td>\n",
       "      <td>20.444</td>\n",
       "      <td>1.955452</td>\n",
       "      <td>-1.0</td>\n",
       "      <td>0</td>\n",
       "      <td>0.0</td>\n",
       "    </tr>\n",
       "    <tr>\n",
       "      <th>2018-02-26 19:45:00</th>\n",
       "      <td>0.000720</td>\n",
       "      <td>0.000720</td>\n",
       "      <td>0.000000</td>\n",
       "      <td>0.960112</td>\n",
       "      <td>0.000751</td>\n",
       "      <td>0.0</td>\n",
       "      <td>-0.050000</td>\n",
       "      <td>37.872</td>\n",
       "      <td>20.444</td>\n",
       "      <td>1.931946</td>\n",
       "      <td>-1.0</td>\n",
       "      <td>0</td>\n",
       "      <td>0.0</td>\n",
       "    </tr>\n",
       "    <tr>\n",
       "      <th>2018-02-26 19:50:00</th>\n",
       "      <td>0.000000</td>\n",
       "      <td>-0.000000</td>\n",
       "      <td>0.000000</td>\n",
       "      <td>0.960112</td>\n",
       "      <td>0.000000</td>\n",
       "      <td>0.0</td>\n",
       "      <td>0.000000</td>\n",
       "      <td>37.872</td>\n",
       "      <td>20.444</td>\n",
       "      <td>1.931946</td>\n",
       "      <td>-1.0</td>\n",
       "      <td>0</td>\n",
       "      <td>0.0</td>\n",
       "    </tr>\n",
       "    <tr>\n",
       "      <th>2018-02-26 19:55:00</th>\n",
       "      <td>0.000000</td>\n",
       "      <td>-0.000000</td>\n",
       "      <td>0.000000</td>\n",
       "      <td>0.960112</td>\n",
       "      <td>0.000000</td>\n",
       "      <td>0.0</td>\n",
       "      <td>0.000000</td>\n",
       "      <td>37.872</td>\n",
       "      <td>20.444</td>\n",
       "      <td>1.931946</td>\n",
       "      <td>-1.0</td>\n",
       "      <td>0</td>\n",
       "      <td>0.0</td>\n",
       "    </tr>\n",
       "    <tr>\n",
       "      <th>2018-02-26 20:00:00</th>\n",
       "      <td>0.000000</td>\n",
       "      <td>-0.000000</td>\n",
       "      <td>0.000000</td>\n",
       "      <td>0.960112</td>\n",
       "      <td>0.000000</td>\n",
       "      <td>0.0</td>\n",
       "      <td>0.000000</td>\n",
       "      <td>37.872</td>\n",
       "      <td>20.444</td>\n",
       "      <td>1.931946</td>\n",
       "      <td>-1.0</td>\n",
       "      <td>0</td>\n",
       "      <td>0.0</td>\n",
       "    </tr>\n",
       "    <tr>\n",
       "      <th>2018-02-26 20:05:00</th>\n",
       "      <td>0.000000</td>\n",
       "      <td>-0.000000</td>\n",
       "      <td>0.000000</td>\n",
       "      <td>0.960112</td>\n",
       "      <td>0.000000</td>\n",
       "      <td>0.0</td>\n",
       "      <td>0.000000</td>\n",
       "      <td>37.872</td>\n",
       "      <td>20.444</td>\n",
       "      <td>1.931946</td>\n",
       "      <td>-1.0</td>\n",
       "      <td>0</td>\n",
       "      <td>0.0</td>\n",
       "    </tr>\n",
       "    <tr>\n",
       "      <th>2018-02-26 20:10:00</th>\n",
       "      <td>0.000000</td>\n",
       "      <td>-0.000000</td>\n",
       "      <td>0.000000</td>\n",
       "      <td>0.960112</td>\n",
       "      <td>0.000000</td>\n",
       "      <td>0.0</td>\n",
       "      <td>0.000000</td>\n",
       "      <td>37.872</td>\n",
       "      <td>20.444</td>\n",
       "      <td>1.931946</td>\n",
       "      <td>-1.0</td>\n",
       "      <td>0</td>\n",
       "      <td>0.0</td>\n",
       "    </tr>\n",
       "    <tr>\n",
       "      <th>2018-02-26 20:15:00</th>\n",
       "      <td>0.000000</td>\n",
       "      <td>-0.000000</td>\n",
       "      <td>0.000000</td>\n",
       "      <td>0.960112</td>\n",
       "      <td>0.000000</td>\n",
       "      <td>0.0</td>\n",
       "      <td>0.000000</td>\n",
       "      <td>37.872</td>\n",
       "      <td>20.444</td>\n",
       "      <td>1.931946</td>\n",
       "      <td>-1.0</td>\n",
       "      <td>0</td>\n",
       "      <td>0.0</td>\n",
       "    </tr>\n",
       "    <tr>\n",
       "      <th>2018-02-26 20:20:00</th>\n",
       "      <td>0.000000</td>\n",
       "      <td>-0.000000</td>\n",
       "      <td>0.000000</td>\n",
       "      <td>0.960112</td>\n",
       "      <td>0.000000</td>\n",
       "      <td>0.0</td>\n",
       "      <td>0.000000</td>\n",
       "      <td>37.872</td>\n",
       "      <td>20.444</td>\n",
       "      <td>1.931946</td>\n",
       "      <td>-1.0</td>\n",
       "      <td>0</td>\n",
       "      <td>0.0</td>\n",
       "    </tr>\n",
       "    <tr>\n",
       "      <th>2018-02-26 20:25:00</th>\n",
       "      <td>0.000735</td>\n",
       "      <td>0.000735</td>\n",
       "      <td>0.000000</td>\n",
       "      <td>0.960846</td>\n",
       "      <td>0.000765</td>\n",
       "      <td>0.0</td>\n",
       "      <td>-0.051000</td>\n",
       "      <td>37.821</td>\n",
       "      <td>20.444</td>\n",
       "      <td>1.907970</td>\n",
       "      <td>-1.0</td>\n",
       "      <td>0</td>\n",
       "      <td>0.0</td>\n",
       "    </tr>\n",
       "    <tr>\n",
       "      <th>2018-02-26 20:30:00</th>\n",
       "      <td>0.000000</td>\n",
       "      <td>-0.000000</td>\n",
       "      <td>0.000000</td>\n",
       "      <td>0.960846</td>\n",
       "      <td>0.000000</td>\n",
       "      <td>0.0</td>\n",
       "      <td>0.000000</td>\n",
       "      <td>37.821</td>\n",
       "      <td>20.444</td>\n",
       "      <td>1.907970</td>\n",
       "      <td>-1.0</td>\n",
       "      <td>0</td>\n",
       "      <td>0.0</td>\n",
       "    </tr>\n",
       "    <tr>\n",
       "      <th>2018-02-26 20:35:00</th>\n",
       "      <td>-0.000173</td>\n",
       "      <td>-0.000173</td>\n",
       "      <td>0.000000</td>\n",
       "      <td>0.960674</td>\n",
       "      <td>-0.000180</td>\n",
       "      <td>0.0</td>\n",
       "      <td>0.012000</td>\n",
       "      <td>37.833</td>\n",
       "      <td>20.444</td>\n",
       "      <td>1.913611</td>\n",
       "      <td>-1.0</td>\n",
       "      <td>0</td>\n",
       "      <td>0.0</td>\n",
       "    </tr>\n",
       "    <tr>\n",
       "      <th>2018-02-26 20:40:00</th>\n",
       "      <td>0.000335</td>\n",
       "      <td>-0.000130</td>\n",
       "      <td>0.000464</td>\n",
       "      <td>0.961008</td>\n",
       "      <td>0.000348</td>\n",
       "      <td>0.0</td>\n",
       "      <td>-0.008827</td>\n",
       "      <td>37.842</td>\n",
       "      <td>20.454</td>\n",
       "      <td>1.909462</td>\n",
       "      <td>-1.0</td>\n",
       "      <td>0</td>\n",
       "      <td>0.0</td>\n",
       "    </tr>\n",
       "    <tr>\n",
       "      <th>2018-02-26 20:45:00</th>\n",
       "      <td>0.000000</td>\n",
       "      <td>-0.000000</td>\n",
       "      <td>0.000000</td>\n",
       "      <td>0.961008</td>\n",
       "      <td>0.000000</td>\n",
       "      <td>0.0</td>\n",
       "      <td>0.000000</td>\n",
       "      <td>37.842</td>\n",
       "      <td>20.454</td>\n",
       "      <td>1.909462</td>\n",
       "      <td>-1.0</td>\n",
       "      <td>0</td>\n",
       "      <td>0.0</td>\n",
       "    </tr>\n",
       "    <tr>\n",
       "      <th>2018-02-26 20:50:00</th>\n",
       "      <td>0.000000</td>\n",
       "      <td>-0.000000</td>\n",
       "      <td>0.000000</td>\n",
       "      <td>0.961008</td>\n",
       "      <td>0.000000</td>\n",
       "      <td>0.0</td>\n",
       "      <td>0.000000</td>\n",
       "      <td>37.842</td>\n",
       "      <td>20.454</td>\n",
       "      <td>1.909462</td>\n",
       "      <td>-1.0</td>\n",
       "      <td>0</td>\n",
       "      <td>0.0</td>\n",
       "    </tr>\n",
       "    <tr>\n",
       "      <th>2018-02-26 20:55:00</th>\n",
       "      <td>0.000000</td>\n",
       "      <td>-0.000000</td>\n",
       "      <td>0.000000</td>\n",
       "      <td>0.961008</td>\n",
       "      <td>0.000000</td>\n",
       "      <td>0.0</td>\n",
       "      <td>0.000000</td>\n",
       "      <td>37.842</td>\n",
       "      <td>20.454</td>\n",
       "      <td>1.909462</td>\n",
       "      <td>-1.0</td>\n",
       "      <td>0</td>\n",
       "      <td>0.0</td>\n",
       "    </tr>\n",
       "    <tr>\n",
       "      <th>2018-02-26 21:00:00</th>\n",
       "      <td>0.000000</td>\n",
       "      <td>-0.000000</td>\n",
       "      <td>0.000000</td>\n",
       "      <td>0.961008</td>\n",
       "      <td>0.000000</td>\n",
       "      <td>0.0</td>\n",
       "      <td>0.000000</td>\n",
       "      <td>37.842</td>\n",
       "      <td>20.454</td>\n",
       "      <td>1.909462</td>\n",
       "      <td>-1.0</td>\n",
       "      <td>0</td>\n",
       "      <td>0.0</td>\n",
       "    </tr>\n",
       "  </tbody>\n",
       "</table>\n",
       "<p>78 rows × 13 columns</p>\n",
       "</div>"
      ],
      "text/plain": [
       "                          pnl     pnl_y     pnl_x  account_balance   returns  \\\n",
       "2018-02-26 14:35:00  0.003827 -0.004436  0.008263         0.963026  0.003989   \n",
       "2018-02-26 14:40:00 -0.006638 -0.000000 -0.006638         0.956388 -0.006893   \n",
       "2018-02-26 14:45:00  0.000000 -0.000000  0.000000         0.956388  0.000000   \n",
       "2018-02-26 14:50:00 -0.002089 -0.000000 -0.002089         0.954299 -0.002184   \n",
       "2018-02-26 14:55:00  0.000000 -0.000000  0.000000         0.954299  0.000000   \n",
       "2018-02-26 15:00:00  0.000000 -0.000000  0.000000         0.954299  0.000000   \n",
       "2018-02-26 15:05:00  0.000000 -0.000000  0.000000         0.954299  0.000000   \n",
       "2018-02-26 15:10:00  0.000000 -0.000000  0.000000         0.954299  0.000000   \n",
       "2018-02-26 15:15:00 -0.001346 -0.000000 -0.001346         0.952953 -0.001411   \n",
       "2018-02-26 15:20:00  0.000000 -0.000000  0.000000         0.952953  0.000000   \n",
       "2018-02-26 15:25:00  0.000000 -0.000000  0.000000         0.952953  0.000000   \n",
       "2018-02-26 15:30:00  0.000000 -0.000000  0.000000         0.952953  0.000000   \n",
       "2018-02-26 15:35:00  0.000000 -0.000000  0.000000         0.952953  0.000000   \n",
       "2018-02-26 15:40:00 -0.000928 -0.000000 -0.000928         0.952024 -0.000974   \n",
       "2018-02-26 15:45:00  0.000000 -0.000000  0.000000         0.952024  0.000000   \n",
       "2018-02-26 15:50:00  0.000000 -0.000000  0.000000         0.952024  0.000000   \n",
       "2018-02-26 15:55:00  0.004205  0.004205  0.000000         0.956230  0.004417   \n",
       "2018-02-26 16:00:00  0.000000 -0.000000  0.000000         0.956230  0.000000   \n",
       "2018-02-26 16:05:00  0.000000 -0.000000  0.000000         0.956230  0.000000   \n",
       "2018-02-26 16:10:00  0.000000 -0.000000  0.000000         0.956230  0.000000   \n",
       "2018-02-26 16:15:00  0.000000 -0.000000  0.000000         0.956230  0.000000   \n",
       "2018-02-26 16:20:00  0.000000 -0.000000  0.000000         0.956230  0.000000   \n",
       "2018-02-26 16:25:00  0.000000 -0.000000  0.000000         0.956230  0.000000   \n",
       "2018-02-26 16:30:00  0.000000 -0.000000  0.000000         0.956230  0.000000   \n",
       "2018-02-26 16:35:00  0.000000 -0.000000  0.000000         0.956230  0.000000   \n",
       "2018-02-26 16:40:00  0.000000 -0.000000  0.000000         0.956230  0.000000   \n",
       "2018-02-26 16:45:00  0.000000 -0.000000  0.000000         0.956230  0.000000   \n",
       "2018-02-26 16:50:00  0.000000 -0.000000  0.000000         0.956230  0.000000   \n",
       "2018-02-26 16:55:00  0.000000 -0.000000  0.000000         0.956230  0.000000   \n",
       "2018-02-26 17:00:00  0.000000 -0.000000  0.000000         0.956230  0.000000   \n",
       "...                       ...       ...       ...              ...       ...   \n",
       "2018-02-26 18:35:00  0.007798 -0.000000  0.007798         0.960428  0.008186   \n",
       "2018-02-26 18:40:00  0.000187  0.000187  0.000000         0.960615  0.000195   \n",
       "2018-02-26 18:45:00  0.000000 -0.000000  0.000000         0.960615  0.000000   \n",
       "2018-02-26 18:50:00  0.000000 -0.000000  0.000000         0.960615  0.000000   \n",
       "2018-02-26 18:55:00  0.000000 -0.000000  0.000000         0.960615  0.000000   \n",
       "2018-02-26 19:00:00  0.000634  0.000634  0.000000         0.961249  0.000660   \n",
       "2018-02-26 19:05:00  0.000000 -0.000000  0.000000         0.961249  0.000000   \n",
       "2018-02-26 19:10:00  0.000000 -0.000000  0.000000         0.961249  0.000000   \n",
       "2018-02-26 19:15:00  0.000000 -0.000000  0.000000         0.961249  0.000000   \n",
       "2018-02-26 19:20:00  0.000000 -0.000000  0.000000         0.961249  0.000000   \n",
       "2018-02-26 19:25:00  0.000000 -0.000000  0.000000         0.961249  0.000000   \n",
       "2018-02-26 19:30:00 -0.001857 -0.000000 -0.001857         0.959392 -0.001932   \n",
       "2018-02-26 19:35:00  0.000000 -0.000000  0.000000         0.959392  0.000000   \n",
       "2018-02-26 19:40:00  0.000000 -0.000000  0.000000         0.959392  0.000000   \n",
       "2018-02-26 19:45:00  0.000720  0.000720  0.000000         0.960112  0.000751   \n",
       "2018-02-26 19:50:00  0.000000 -0.000000  0.000000         0.960112  0.000000   \n",
       "2018-02-26 19:55:00  0.000000 -0.000000  0.000000         0.960112  0.000000   \n",
       "2018-02-26 20:00:00  0.000000 -0.000000  0.000000         0.960112  0.000000   \n",
       "2018-02-26 20:05:00  0.000000 -0.000000  0.000000         0.960112  0.000000   \n",
       "2018-02-26 20:10:00  0.000000 -0.000000  0.000000         0.960112  0.000000   \n",
       "2018-02-26 20:15:00  0.000000 -0.000000  0.000000         0.960112  0.000000   \n",
       "2018-02-26 20:20:00  0.000000 -0.000000  0.000000         0.960112  0.000000   \n",
       "2018-02-26 20:25:00  0.000735  0.000735  0.000000         0.960846  0.000765   \n",
       "2018-02-26 20:30:00  0.000000 -0.000000  0.000000         0.960846  0.000000   \n",
       "2018-02-26 20:35:00 -0.000173 -0.000173  0.000000         0.960674 -0.000180   \n",
       "2018-02-26 20:40:00  0.000335 -0.000130  0.000464         0.961008  0.000348   \n",
       "2018-02-26 20:45:00  0.000000 -0.000000  0.000000         0.961008  0.000000   \n",
       "2018-02-26 20:50:00  0.000000 -0.000000  0.000000         0.961008  0.000000   \n",
       "2018-02-26 20:55:00  0.000000 -0.000000  0.000000         0.961008  0.000000   \n",
       "2018-02-26 21:00:00  0.000000 -0.000000  0.000000         0.961008  0.000000   \n",
       "\n",
       "                     position_return  prediction_change     PXI     PXE  \\\n",
       "2018-02-26 14:35:00              0.0          -0.009325  38.021  20.553   \n",
       "2018-02-26 14:40:00              0.0           0.254930  38.021  20.410   \n",
       "2018-02-26 14:45:00              0.0           0.000000  38.021  20.410   \n",
       "2018-02-26 14:50:00              0.0           0.080223  38.021  20.365   \n",
       "2018-02-26 14:55:00              0.0           0.000000  38.021  20.365   \n",
       "2018-02-26 15:00:00              0.0           0.000000  38.021  20.365   \n",
       "2018-02-26 15:05:00              0.0           0.000000  38.021  20.365   \n",
       "2018-02-26 15:10:00              0.0           0.000000  38.021  20.365   \n",
       "2018-02-26 15:15:00              0.0           0.051699  38.021  20.336   \n",
       "2018-02-26 15:20:00              0.0           0.000000  38.021  20.336   \n",
       "2018-02-26 15:25:00              0.0           0.000000  38.021  20.336   \n",
       "2018-02-26 15:30:00              0.0           0.000000  38.021  20.336   \n",
       "2018-02-26 15:35:00              0.0           0.000000  38.021  20.336   \n",
       "2018-02-26 15:40:00              0.0           0.035655  38.021  20.316   \n",
       "2018-02-26 15:45:00              0.0           0.000000  38.021  20.316   \n",
       "2018-02-26 15:50:00              0.0           0.000000  38.021  20.316   \n",
       "2018-02-26 15:55:00              0.0          -0.292000  37.729  20.316   \n",
       "2018-02-26 16:00:00              0.0           0.000000  37.729  20.316   \n",
       "2018-02-26 16:05:00              0.0           0.000000  37.729  20.316   \n",
       "2018-02-26 16:10:00              0.0           0.000000  37.729  20.316   \n",
       "2018-02-26 16:15:00              0.0           0.000000  37.729  20.316   \n",
       "2018-02-26 16:20:00              0.0           0.000000  37.729  20.316   \n",
       "2018-02-26 16:25:00              0.0           0.000000  37.729  20.316   \n",
       "2018-02-26 16:30:00              0.0           0.000000  37.729  20.316   \n",
       "2018-02-26 16:35:00              0.0           0.000000  37.729  20.316   \n",
       "2018-02-26 16:40:00              0.0           0.000000  37.729  20.316   \n",
       "2018-02-26 16:45:00              0.0           0.000000  37.729  20.316   \n",
       "2018-02-26 16:50:00              0.0           0.000000  37.729  20.316   \n",
       "2018-02-26 16:55:00              0.0           0.000000  37.729  20.316   \n",
       "2018-02-26 17:00:00              0.0           0.000000  37.729  20.316   \n",
       "...                              ...                ...     ...     ...   \n",
       "2018-02-26 18:35:00              0.0          -0.299498  37.979  20.484   \n",
       "2018-02-26 18:40:00              0.0          -0.013000  37.966  20.484   \n",
       "2018-02-26 18:45:00              0.0           0.000000  37.966  20.484   \n",
       "2018-02-26 18:50:00              0.0           0.000000  37.966  20.484   \n",
       "2018-02-26 18:55:00              0.0           0.000000  37.966  20.484   \n",
       "2018-02-26 19:00:00              0.0          -0.044000  37.922  20.484   \n",
       "2018-02-26 19:05:00              0.0           0.000000  37.922  20.484   \n",
       "2018-02-26 19:10:00              0.0           0.000000  37.922  20.484   \n",
       "2018-02-26 19:15:00              0.0           0.000000  37.922  20.484   \n",
       "2018-02-26 19:20:00              0.0           0.000000  37.922  20.484   \n",
       "2018-02-26 19:25:00              0.0           0.000000  37.922  20.484   \n",
       "2018-02-26 19:30:00              0.0           0.071309  37.922  20.444   \n",
       "2018-02-26 19:35:00              0.0           0.000000  37.922  20.444   \n",
       "2018-02-26 19:40:00              0.0           0.000000  37.922  20.444   \n",
       "2018-02-26 19:45:00              0.0          -0.050000  37.872  20.444   \n",
       "2018-02-26 19:50:00              0.0           0.000000  37.872  20.444   \n",
       "2018-02-26 19:55:00              0.0           0.000000  37.872  20.444   \n",
       "2018-02-26 20:00:00              0.0           0.000000  37.872  20.444   \n",
       "2018-02-26 20:05:00              0.0           0.000000  37.872  20.444   \n",
       "2018-02-26 20:10:00              0.0           0.000000  37.872  20.444   \n",
       "2018-02-26 20:15:00              0.0           0.000000  37.872  20.444   \n",
       "2018-02-26 20:20:00              0.0           0.000000  37.872  20.444   \n",
       "2018-02-26 20:25:00              0.0          -0.051000  37.821  20.444   \n",
       "2018-02-26 20:30:00              0.0           0.000000  37.821  20.444   \n",
       "2018-02-26 20:35:00              0.0           0.012000  37.833  20.444   \n",
       "2018-02-26 20:40:00              0.0          -0.008827  37.842  20.454   \n",
       "2018-02-26 20:45:00              0.0           0.000000  37.842  20.454   \n",
       "2018-02-26 20:50:00              0.0           0.000000  37.842  20.454   \n",
       "2018-02-26 20:55:00              0.0           0.000000  37.842  20.454   \n",
       "2018-02-26 21:00:00              0.0           0.000000  37.842  20.454   \n",
       "\n",
       "                     norm_spread  position_during_day  trading_duration  \\\n",
       "2018-02-26 14:35:00     1.910642                 -1.0                 0   \n",
       "2018-02-26 14:40:00     2.030490                 -1.0                 0   \n",
       "2018-02-26 14:45:00     2.030490                 -1.0                 0   \n",
       "2018-02-26 14:50:00     2.068204                 -1.0                 0   \n",
       "2018-02-26 14:55:00     2.068204                 -1.0                 0   \n",
       "2018-02-26 15:00:00     2.068204                 -1.0                 0   \n",
       "2018-02-26 15:05:00     2.068204                 -1.0                 0   \n",
       "2018-02-26 15:10:00     2.068204                 -1.0                 0   \n",
       "2018-02-26 15:15:00     2.092509                 -1.0                 0   \n",
       "2018-02-26 15:20:00     2.092509                 -1.0                 0   \n",
       "2018-02-26 15:25:00     2.092509                 -1.0                 0   \n",
       "2018-02-26 15:30:00     2.092509                 -1.0                 0   \n",
       "2018-02-26 15:35:00     2.092509                 -1.0                 0   \n",
       "2018-02-26 15:40:00     2.109271                 -1.0                 0   \n",
       "2018-02-26 15:45:00     2.109271                 -1.0                 0   \n",
       "2018-02-26 15:50:00     2.109271                 -1.0                 0   \n",
       "2018-02-26 15:55:00     1.971995                 -1.0                 0   \n",
       "2018-02-26 16:00:00     1.971995                 -1.0                 0   \n",
       "2018-02-26 16:05:00     1.971995                 -1.0                 0   \n",
       "2018-02-26 16:10:00     1.971995                 -1.0                 0   \n",
       "2018-02-26 16:15:00     1.971995                 -1.0                 0   \n",
       "2018-02-26 16:20:00     1.971995                 -1.0                 0   \n",
       "2018-02-26 16:25:00     1.971995                 -1.0                 0   \n",
       "2018-02-26 16:30:00     1.971995                 -1.0                 0   \n",
       "2018-02-26 16:35:00     1.971995                 -1.0                 0   \n",
       "2018-02-26 16:40:00     1.971995                 -1.0                 0   \n",
       "2018-02-26 16:45:00     1.971995                 -1.0                 0   \n",
       "2018-02-26 16:50:00     1.971995                 -1.0                 0   \n",
       "2018-02-26 16:55:00     1.971995                 -1.0                 0   \n",
       "2018-02-26 17:00:00     1.971995                 -1.0                 0   \n",
       "...                          ...                  ...               ...   \n",
       "2018-02-26 18:35:00     1.948725                 -1.0                 0   \n",
       "2018-02-26 18:40:00     1.942614                 -1.0                 0   \n",
       "2018-02-26 18:45:00     1.942614                 -1.0                 0   \n",
       "2018-02-26 18:50:00     1.942614                 -1.0                 0   \n",
       "2018-02-26 18:55:00     1.942614                 -1.0                 0   \n",
       "2018-02-26 19:00:00     1.921928                 -1.0                 0   \n",
       "2018-02-26 19:05:00     1.921928                 -1.0                 0   \n",
       "2018-02-26 19:10:00     1.921928                 -1.0                 0   \n",
       "2018-02-26 19:15:00     1.921928                 -1.0                 0   \n",
       "2018-02-26 19:20:00     1.921928                 -1.0                 0   \n",
       "2018-02-26 19:25:00     1.921928                 -1.0                 0   \n",
       "2018-02-26 19:30:00     1.955452                 -1.0                 0   \n",
       "2018-02-26 19:35:00     1.955452                 -1.0                 0   \n",
       "2018-02-26 19:40:00     1.955452                 -1.0                 0   \n",
       "2018-02-26 19:45:00     1.931946                 -1.0                 0   \n",
       "2018-02-26 19:50:00     1.931946                 -1.0                 0   \n",
       "2018-02-26 19:55:00     1.931946                 -1.0                 0   \n",
       "2018-02-26 20:00:00     1.931946                 -1.0                 0   \n",
       "2018-02-26 20:05:00     1.931946                 -1.0                 0   \n",
       "2018-02-26 20:10:00     1.931946                 -1.0                 0   \n",
       "2018-02-26 20:15:00     1.931946                 -1.0                 0   \n",
       "2018-02-26 20:20:00     1.931946                 -1.0                 0   \n",
       "2018-02-26 20:25:00     1.907970                 -1.0                 0   \n",
       "2018-02-26 20:30:00     1.907970                 -1.0                 0   \n",
       "2018-02-26 20:35:00     1.913611                 -1.0                 0   \n",
       "2018-02-26 20:40:00     1.909462                 -1.0                 0   \n",
       "2018-02-26 20:45:00     1.909462                 -1.0                 0   \n",
       "2018-02-26 20:50:00     1.909462                 -1.0                 0   \n",
       "2018-02-26 20:55:00     1.909462                 -1.0                 0   \n",
       "2018-02-26 21:00:00     1.909462                 -1.0                 0   \n",
       "\n",
       "                     position_ret_with_costs  \n",
       "2018-02-26 14:35:00                      0.0  \n",
       "2018-02-26 14:40:00                      0.0  \n",
       "2018-02-26 14:45:00                      0.0  \n",
       "2018-02-26 14:50:00                      0.0  \n",
       "2018-02-26 14:55:00                      0.0  \n",
       "2018-02-26 15:00:00                      0.0  \n",
       "2018-02-26 15:05:00                      0.0  \n",
       "2018-02-26 15:10:00                      0.0  \n",
       "2018-02-26 15:15:00                      0.0  \n",
       "2018-02-26 15:20:00                      0.0  \n",
       "2018-02-26 15:25:00                      0.0  \n",
       "2018-02-26 15:30:00                      0.0  \n",
       "2018-02-26 15:35:00                      0.0  \n",
       "2018-02-26 15:40:00                      0.0  \n",
       "2018-02-26 15:45:00                      0.0  \n",
       "2018-02-26 15:50:00                      0.0  \n",
       "2018-02-26 15:55:00                      0.0  \n",
       "2018-02-26 16:00:00                      0.0  \n",
       "2018-02-26 16:05:00                      0.0  \n",
       "2018-02-26 16:10:00                      0.0  \n",
       "2018-02-26 16:15:00                      0.0  \n",
       "2018-02-26 16:20:00                      0.0  \n",
       "2018-02-26 16:25:00                      0.0  \n",
       "2018-02-26 16:30:00                      0.0  \n",
       "2018-02-26 16:35:00                      0.0  \n",
       "2018-02-26 16:40:00                      0.0  \n",
       "2018-02-26 16:45:00                      0.0  \n",
       "2018-02-26 16:50:00                      0.0  \n",
       "2018-02-26 16:55:00                      0.0  \n",
       "2018-02-26 17:00:00                      0.0  \n",
       "...                                      ...  \n",
       "2018-02-26 18:35:00                      0.0  \n",
       "2018-02-26 18:40:00                      0.0  \n",
       "2018-02-26 18:45:00                      0.0  \n",
       "2018-02-26 18:50:00                      0.0  \n",
       "2018-02-26 18:55:00                      0.0  \n",
       "2018-02-26 19:00:00                      0.0  \n",
       "2018-02-26 19:05:00                      0.0  \n",
       "2018-02-26 19:10:00                      0.0  \n",
       "2018-02-26 19:15:00                      0.0  \n",
       "2018-02-26 19:20:00                      0.0  \n",
       "2018-02-26 19:25:00                      0.0  \n",
       "2018-02-26 19:30:00                      0.0  \n",
       "2018-02-26 19:35:00                      0.0  \n",
       "2018-02-26 19:40:00                      0.0  \n",
       "2018-02-26 19:45:00                      0.0  \n",
       "2018-02-26 19:50:00                      0.0  \n",
       "2018-02-26 19:55:00                      0.0  \n",
       "2018-02-26 20:00:00                      0.0  \n",
       "2018-02-26 20:05:00                      0.0  \n",
       "2018-02-26 20:10:00                      0.0  \n",
       "2018-02-26 20:15:00                      0.0  \n",
       "2018-02-26 20:20:00                      0.0  \n",
       "2018-02-26 20:25:00                      0.0  \n",
       "2018-02-26 20:30:00                      0.0  \n",
       "2018-02-26 20:35:00                      0.0  \n",
       "2018-02-26 20:40:00                      0.0  \n",
       "2018-02-26 20:45:00                      0.0  \n",
       "2018-02-26 20:50:00                      0.0  \n",
       "2018-02-26 20:55:00                      0.0  \n",
       "2018-02-26 21:00:00                      0.0  \n",
       "\n",
       "[78 rows x 13 columns]"
      ]
     },
     "execution_count": 550,
     "metadata": {},
     "output_type": "execute_result"
    }
   ],
   "source": [
    "performance_threshold_test[0][1]['2018-02-26']#[performance_threshold_test[0][1].position_during_day != 0]"
   ]
  },
  {
   "cell_type": "code",
   "execution_count": 551,
   "metadata": {},
   "outputs": [
    {
     "data": {
      "text/plain": [
       "<matplotlib.axes._subplots.AxesSubplot at 0x15251cc50>"
      ]
     },
     "execution_count": 551,
     "metadata": {},
     "output_type": "execute_result"
    },
    {
     "data": {
      "image/png": "[encoded data removed]",
      "text/plain": [
       "<matplotlib.figure.Figure at 0x15251c3c8>"
      ]
     },
     "metadata": {},
     "output_type": "display_data"
    }
   ],
   "source": [
    "performance_threshold_test[0][1].account_balance.plot()#['2018-05-29 15:50:00':'2018-05-30']#[performance_threshold_test[2][1].position_during_day!=0]"
   ]
  },
  {
   "cell_type": "markdown",
   "metadata": {},
   "source": [
    "# Comparing the three forecasting models"
   ]
  },
  {
   "cell_type": "markdown",
   "metadata": {},
   "source": [
    "## Validation forecasting error"
   ]
  },
  {
   "cell_type": "code",
   "execution_count": 965,
   "metadata": {},
   "outputs": [],
   "source": [
    "def evaluate_forecasting(n_pairs, true_values, prediction_values):\n",
    "    mse, mae, rmse, accuracy, bias = list(), list(), list(), list(), list()\n",
    "    std_dev = list()\n",
    "    for i in range(n_pairs):\n",
    "        mse.append(mean_squared_error(true_values[i], prediction_values[i]))\n",
    "        rmse.append(np.sqrt(mean_squared_error(true_values[i], prediction_values[i])))\n",
    "        mae.append(mean_absolute_error(true_values[i], prediction_values[i]))\n",
    "        accuracy.append(forecasting_trader.calculate_direction_accuracy(true_values[i], prediction_values[i]))\n",
    "        bias.append((true_values[i] - prediction_values[i]).mean())\n",
    "        std_dev.append(prediction_values[i].std())\n",
    "    print('Average MSE: {:.2f}E-4'.format(np.mean(mse)*10000))\n",
    "    print('Average RMSE: {:.2f}E-3'.format(np.mean(rmse)*1000))\n",
    "    print('Average MAE: {:.2f}E-3'.format(np.mean(mae)*1000))\n",
    "    print('Average Directional Accuracy: {:.2f}%'.format(np.mean(accuracy)))\n",
    "    print('Bias: {:.2f}E-4'.format(np.mean(bias)*10000))\n",
    "    print('Average Standard Deviation from prediction signal ', np.mean(std_dev))\n",
    "    \n",
    "    return mse, mae, rmse, accuracy"
   ]
  },
  {
   "cell_type": "markdown",
   "metadata": {},
   "source": [
    "Naive:"
   ]
  },
  {
   "cell_type": "code",
   "execution_count": 743,
   "metadata": {},
   "outputs": [
    {
     "name": "stdout",
     "output_type": "stream",
     "text": [
      "Average MSE: 18.67E-4\n",
      "Average RMSE: 36.86E-3\n",
      "Average MAE: 15.03E-3\n",
      "Average Directional Accuracy: 23.37%\n",
      "Bias: -0.04E-4\n"
     ]
    }
   ],
   "source": [
    "predictions_naive = [arima_val[i].shift(1).fillna(0) for i in range(len(pairs))]\n",
    "_ = evaluate_forecasting(len(pairs), arima_val, predictions_naive)"
   ]
  },
  {
   "cell_type": "markdown",
   "metadata": {},
   "source": [
    "ARMA:"
   ]
  },
  {
   "cell_type": "code",
   "execution_count": 942,
   "metadata": {},
   "outputs": [
    {
     "name": "stdout",
     "output_type": "stream",
     "text": [
      "Average MSE: 14.93E-4\n",
      "Average RMSE: 29.88E-3\n",
      "Average MAE: 17.61E-3\n",
      "Average Directional Accuracy: 39.12%\n",
      "Bias: 0.02E-4\n",
      "Average Standard Deviation from prediction signal  [1.7909509404904647, 0.586058524721636, 0.14922252706579997, 0.039661783105034445, 0.4308558690946126]\n"
     ]
    }
   ],
   "source": [
    "_ = evaluate_forecasting(len(pairs), arima_val, arima_predictions_val)"
   ]
  },
  {
   "cell_type": "markdown",
   "metadata": {},
   "source": [
    "LSTM"
   ]
  },
  {
   "cell_type": "code",
   "execution_count": 747,
   "metadata": {},
   "outputs": [
    {
     "name": "stdout",
     "output_type": "stream",
     "text": [
      "Average MSE: 31.54E-4\n",
      "Average RMSE: 42.64E-3\n",
      "Average MAE: 21.49E-3\n",
      "Average Directional Accuracy: 39.51%\n",
      "Bias: 4.00E-4\n"
     ]
    }
   ],
   "source": [
    "true_val = [summaries_rnn[i]['spread(t)'] for i in range(len(pairs))]\n",
    "predictions = [summaries_rnn[i]['prediction(t)'] for i in range(len(pairs))]\n",
    "_ = evaluate_forecasting(len(pairs), true_val, predictions)"
   ]
  },
  {
   "cell_type": "markdown",
   "metadata": {},
   "source": [
    "Encoder Decoder"
   ]
  },
  {
   "cell_type": "code",
   "execution_count": 943,
   "metadata": {},
   "outputs": [
    {
     "name": "stdout",
     "output_type": "stream",
     "text": [
      "Average MSE: 20.78E-4\n",
      "Average RMSE: 35.39E-3\n",
      "Average MAE: 23.31E-3\n",
      "Average Directional Accuracy: 39.86%\n",
      "Bias: -9.43E-4\n",
      "Average Standard Deviation from prediction signal  [1.7548466920852661, 0.5712736248970032, 0.14739985764026642, 0.040482137352228165, 0.426640123128891]\n"
     ]
    }
   ],
   "source": [
    "true_val = [summaries_encdec[i]['spread(t)'] for i in range(len(pairs))]\n",
    "predictions = [summaries_encdec[i]['prediction(t)'] for i in range(len(pairs))]\n",
    "_ = evaluate_forecasting(len(pairs), true_val, predictions)"
   ]
  },
  {
   "cell_type": "code",
   "execution_count": 544,
   "metadata": {},
   "outputs": [
    {
     "data": {
      "text/plain": [
       "[<matplotlib.lines.Line2D at 0x1276ac5c0>]"
      ]
     },
     "execution_count": 544,
     "metadata": {},
     "output_type": "execute_result"
    },
    {
     "data": {
      "image/png": "[encoded data removed]",
      "text/plain": [
       "<matplotlib.figure.Figure at 0x144a98208>"
      ]
     },
     "metadata": {},
     "output_type": "display_data"
    }
   ],
   "source": [
    "sampling = 50\n",
    "xmax = 100*78\n",
    "plt.figure(figsize=(20,10))\n",
    "plt.grid()\n",
    "plt.plot(arima_predictions_val[0].values[:xmax:sampling])\n",
    "plt.plot(summaries_rnn[0]['prediction(t)'].values[:xmax:sampling])\n",
    "plt.plot(summaries_encdec[0]['prediction(t)'].values[:xmax:sampling])"
   ]
  },
  {
   "cell_type": "markdown",
   "metadata": {},
   "source": [
    "## Test forecasting error"
   ]
  },
  {
   "cell_type": "markdown",
   "metadata": {},
   "source": [
    "Naive:"
   ]
  },
  {
   "cell_type": "code",
   "execution_count": 580,
   "metadata": {},
   "outputs": [
    {
     "name": "stdout",
     "output_type": "stream",
     "text": [
      "Average MSE: 25.96E-4\n",
      "Average RMSE: 38.87E-3\n",
      "Average MAE: 16.79E-3\n",
      "Average Directional Accuracy: 23.63%\n",
      "Bias: -0.14E-4\n"
     ]
    }
   ],
   "source": [
    "predictions_naive = [arima_test[i].shift(1).fillna(0) for i in range(len(pairs))]\n",
    "evaluate_forecasting(len(pairs), arima_test, predictions_naive)"
   ]
  },
  {
   "cell_type": "markdown",
   "metadata": {},
   "source": [
    "ARMA:"
   ]
  },
  {
   "cell_type": "code",
   "execution_count": 628,
   "metadata": {},
   "outputs": [
    {
     "name": "stdout",
     "output_type": "stream",
     "text": [
      "Average MSE: 22.64E-4\n",
      "Average RMSE: 33.38E-3\n",
      "Average MAE: 19.64E-3\n",
      "Average Directional Accuracy: 40.33%\n",
      "Bias: -0.95E-4\n"
     ]
    }
   ],
   "source": [
    "evaluate_forecasting(len(pairs), arima_test, arima_predictions_test)"
   ]
  },
  {
   "cell_type": "markdown",
   "metadata": {},
   "source": [
    "LSTM:"
   ]
  },
  {
   "cell_type": "code",
   "execution_count": 983,
   "metadata": {},
   "outputs": [
    {
     "name": "stdout",
     "output_type": "stream",
     "text": [
      "Average MSE: 84.48E-4\n",
      "Average RMSE: 62.86E-3\n",
      "Average MAE: 41.03E-3\n",
      "Average Directional Accuracy: 42.44%\n",
      "Bias: -25.17E-4\n",
      "Average Standard Deviation from prediction signal  0.5333357870578765\n"
     ]
    }
   ],
   "source": [
    "true_val = [summaries_rnn[i]['spread(t)'] for i in range(len(pairs))]\n",
    "predictions = [summaries_rnn[i]['prediction(t)'] for i in range(len(pairs))]\n",
    "_ = evaluate_forecasting(len(pairs), true_val, predictions)"
   ]
  },
  {
   "cell_type": "markdown",
   "metadata": {},
   "source": [
    "Encoder Decoder:"
   ]
  },
  {
   "cell_type": "code",
   "execution_count": 910,
   "metadata": {},
   "outputs": [
    {
     "name": "stdout",
     "output_type": "stream",
     "text": [
      "Average MSE: 90.25E-4\n",
      "Average RMSE: 75.02E-3\n",
      "Average MAE: 59.09E-3\n",
      "Average Directional Accuracy: 40.65%\n",
      "Bias: 264.80E-4\n"
     ]
    }
   ],
   "source": [
    "true_val = [summaries_encdec[i]['spread(t)'].shift(1).fillna(method='bfill') for i in range(len(pairs))]\n",
    "#predictions = [summaries_encdec[i]['prediction(t)'] for i in range(len(pairs))]\n",
    "predictions = [summaries_encdec[i]['prediction(t+1)'] for i in range(len(pairs))]\n",
    "_ = evaluate_forecasting(len(pairs), true_val, predictions)"
   ]
  },
  {
   "cell_type": "code",
   "execution_count": 781,
   "metadata": {},
   "outputs": [
    {
     "name": "stdout",
     "output_type": "stream",
     "text": [
      "Average MSE: 171.19E-4\n",
      "Average RMSE: 80.63E-3\n",
      "Average MAE: 56.51E-3\n",
      "Average Directional Accuracy: 41.81%\n",
      "Bias: -207.75E-4\n"
     ]
    }
   ],
   "source": [
    "true_val = [summaries_encdec[i]['spread(t)'] for i in range(len(pairs))]\n",
    "predictions = [summaries_encdec[i]['prediction(t)'] for i in range(len(pairs))]\n",
    "_ = evaluate_forecasting(len(pairs), true_val, predictions)"
   ]
  },
  {
   "cell_type": "code",
   "execution_count": null,
   "metadata": {},
   "outputs": [],
   "source": []
  }
 ],
 "metadata": {
  "kernelspec": {
   "display_name": "Python [conda root]",
   "language": "python",
   "name": "conda-root-py"
  },
  "language_info": {
   "codemirror_mode": {
    "name": "ipython",
    "version": 3
   },
   "file_extension": ".py",
   "mimetype": "text/x-python",
   "name": "python",
   "nbconvert_exporter": "python",
   "pygments_lexer": "ipython3",
   "version": "3.6.0"
  }
 },
 "nbformat": 4,
 "nbformat_minor": 2
}
