{
 "cells": [
  {
   "cell_type": "markdown",
   "metadata": {},
   "source": [
    "# A benchmark Pairs Trading strategy \n",
    "\n",
    "This notebook explores a pairs trading strategy using bollinger bands. This projected is being developed as part of a master thesis for the degree of Electrical and Computer Engineering.\n",
    "\n",
    "**Author:** Simão Moraes Sarmento <br /> \n",
    "**Contact:** simaosarmento@hotmail.com"
   ]
  },
  {
   "cell_type": "markdown",
   "metadata": {},
   "source": [
    "## Dependencies\n",
    "\n",
    "This notebook requires code from:\n",
    "\n",
    "Python files:\n",
    "- `class_SeriesAnalyser.py` - contains a set of functions to deal with time series analysis.\n",
    "- `class_Trader.py` - contains a set of functions concerning trading strategies.\n",
    "- `class_DataProcessor.py` - contains a set of functions concerning the data pre processing.\n",
    "\n",
    "Pickle files:\n",
    "- pickle file containing pairs to be traded (obtained from running `PairsTrading_CommodityETFs-Clustering.ipynb`)\n",
    "\n",
    "As a good practise, the notebook solely intends to exemplify the application of different trading strategies for different dataset examples, rather than coding the strategies theirselves. Please look into the files menitoned above for more detailed info on how the functions are built."
   ]
  },
  {
   "cell_type": "markdown",
   "metadata": {},
   "source": [
    "### Import Libraries"
   ]
  },
  {
   "cell_type": "code",
   "execution_count": 1,
   "metadata": {},
   "outputs": [],
   "source": [
    "import numpy as np\n",
    "import pandas as pd\n",
    "import pickle\n",
    "\n",
    "import json\n",
    "\n",
    "import statsmodels\n",
    "import statsmodels.api as sm\n",
    "from statsmodels.tsa.stattools import coint, adfuller\n",
    "\n",
    "import matplotlib.pyplot as plt\n",
    "import matplotlib.cm as cm\n",
    "\n",
    "# Import Datetime and the Pandas DataReader\n",
    "from datetime import datetime\n",
    "from pandas_datareader import data, wb\n",
    "\n",
    "# Import alpha vantage\n",
    "from alpha_vantage.timeseries import TimeSeries\n",
    "\n",
    "# Import scikit instruments\n",
    "from sklearn.cluster import DBSCAN\n",
    "from sklearn.decomposition import PCA\n",
    "from sklearn.manifold import TSNE\n",
    "from sklearn import preprocessing\n",
    "from sklearn.metrics import silhouette_score\n",
    "\n",
    "# just set the seed for the random number generator\n",
    "np.random.seed(107)"
   ]
  },
  {
   "cell_type": "markdown",
   "metadata": {},
   "source": [
    "### Import Configurations"
   ]
  },
  {
   "cell_type": "code",
   "execution_count": 2,
   "metadata": {},
   "outputs": [],
   "source": [
    "config_file = 'config/config_commodities_2010_2019.json'"
   ]
  },
  {
   "cell_type": "code",
   "execution_count": 3,
   "metadata": {},
   "outputs": [],
   "source": [
    "with open(config_file, 'r') as f:\n",
    "    config = json.load(f)"
   ]
  },
  {
   "cell_type": "code",
   "execution_count": 4,
   "metadata": {},
   "outputs": [],
   "source": [
    "with open(config['dataset']['ticker_segment_dict'], 'rb') as handle:\n",
    "    ticker_segment_dict = pickle.load(handle)"
   ]
  },
  {
   "cell_type": "markdown",
   "metadata": {},
   "source": [
    "### Import Classes"
   ]
  },
  {
   "cell_type": "code",
   "execution_count": 5,
   "metadata": {},
   "outputs": [],
   "source": [
    "%load_ext autoreload\n",
    "%aimport class_SeriesAnalyser, class_Trader, class_DataProcessor\n",
    "%autoreload 1"
   ]
  },
  {
   "cell_type": "code",
   "execution_count": 6,
   "metadata": {},
   "outputs": [],
   "source": [
    "series_analyser = class_SeriesAnalyser.SeriesAnalyser()\n",
    "trader = class_Trader.Trader()\n",
    "data_processor = class_DataProcessor.DataProcessor()"
   ]
  },
  {
   "cell_type": "markdown",
   "metadata": {},
   "source": [
    "# Retrieve prices data set"
   ]
  },
  {
   "cell_type": "markdown",
   "metadata": {},
   "source": [
    "We start by retrieving the data from a Dataframe saved in a pickle file, as it was previously processed in the `PairsTrading_CommodityETFS_Datapreprocessing.ipynb` notebook."
   ]
  },
  {
   "cell_type": "code",
   "execution_count": 7,
   "metadata": {},
   "outputs": [],
   "source": [
    "# intraday\n",
    "df_prices = pd.read_pickle('data/etfs/pickle/commodity_ETFs_from_2014_complete.pickle')"
   ]
  },
  {
   "cell_type": "code",
   "execution_count": 8,
   "metadata": {},
   "outputs": [
    {
     "name": "stdout",
     "output_type": "stream",
     "text": [
      "Total of 116 tickers\n",
      "Total of 105 tickers after removing tickers with Nan values\n"
     ]
    }
   ],
   "source": [
    "# split data in training and test\n",
    "df_prices_train, df_prices_test = data_processor.split_data(df_prices,\n",
    "                                                            ('01-01-2013',\n",
    "                                                             '31-12-2015'),\n",
    "                                                            ('01-01-2016',\n",
    "                                                             '31-12-2016'),\n",
    "                                                            remove_nan=True)"
   ]
  },
  {
   "cell_type": "code",
   "execution_count": 9,
   "metadata": {},
   "outputs": [
    {
     "data": {
      "text/plain": [
       "78222"
      ]
     },
     "execution_count": 9,
     "metadata": {},
     "output_type": "execute_result"
    }
   ],
   "source": [
    "len(df_prices_train)+len(df_prices_test)"
   ]
  },
  {
   "cell_type": "markdown",
   "metadata": {},
   "source": [
    "# Load Pairs"
   ]
  },
  {
   "cell_type": "code",
   "execution_count": 10,
   "metadata": {},
   "outputs": [],
   "source": [
    "# intra day\n",
    "with open('data/etfs/pickle/2013-2017/pairs_no_clustering_intraday.pickle', 'rb') as handle:\n",
    "    pairs = pickle.load(handle)\n",
    "\n",
    "#with open('data/etfs/pickle/pairs_category_intraday.pickle', 'rb') as handle:\n",
    "#with open('data/etfs/pickle/2013-2017/pairs_category_intraday.pickle', 'rb') as handle:\n",
    "#    pairs = pickle.load(handle)\n",
    "\n",
    "#with open('data/etfs/pickle/2013-2017/pairs_unsupervised_learning_intraday.pickle', 'rb') as handle:\n",
    "#    pairs = pickle.load(handle)\n",
    "    \n",
    "# interday  \n",
    "#with open('data/etfs/pickle/pairs_unfiltered_interday.pickle', 'rb') as handle:\n",
    "#    pairs = pickle.load(handle)\n",
    "\n",
    "#with open('data/etfs/pickle/pairs_category_interday.pickle', 'rb') as handle:\n",
    "#    pairs = pickle.load(handle)\n",
    "\n",
    "#with open('data/etfs/pickle/pairs_unsupervised_learning_interday.pickle', 'rb') as handle:\n",
    "#    pairs = pickle.load(handle)"
   ]
  },
  {
   "cell_type": "code",
   "execution_count": 11,
   "metadata": {},
   "outputs": [],
   "source": [
    "###### lookback_multiplier= config['trading']['lookback_multiplier']\n",
    "entry_multiplier= config['trading']['entry_multiplier']\n",
    "exit_multiplier= config['trading']['exit_multiplier']\n",
    "# obtain trading filter info\n",
    "if config['trading_filter']['active'] == 1:\n",
    "    trading_filter = config['trading_filter']\n",
    "else:\n",
    "    trading_filter = None"
   ]
  },
  {
   "cell_type": "code",
   "execution_count": 12,
   "metadata": {},
   "outputs": [
    {
     "data": {
      "text/plain": [
       "236"
      ]
     },
     "execution_count": 12,
     "metadata": {},
     "output_type": "execute_result"
    }
   ],
   "source": [
    "len(pairs)"
   ]
  },
  {
   "cell_type": "markdown",
   "metadata": {},
   "source": [
    "# Apply trading strategies"
   ]
  },
  {
   "cell_type": "markdown",
   "metadata": {},
   "source": [
    "**Applying the fixed beta strategy in validation period**"
   ]
  },
  {
   "cell_type": "code",
   "execution_count": 13,
   "metadata": {},
   "outputs": [
    {
     "data": {
      "text/plain": [
       "1"
      ]
     },
     "execution_count": 13,
     "metadata": {},
     "output_type": "execute_result"
    }
   ],
   "source": [
    "train_val_split = '2015-01-01'\n",
    "\n",
    "# intraday\n",
    "n_years_val = round(len(df_prices_train[train_val_split:])/(240*78))\n",
    "\n",
    "# interday\n",
    "#n_years_val = round(len(df_prices_train)/(240))\n",
    "\n",
    "n_years_val"
   ]
  },
  {
   "cell_type": "code",
   "execution_count": 14,
   "metadata": {},
   "outputs": [
    {
     "name": "stdout",
     "output_type": "stream",
     "text": [
      " entry delay turned on.\n",
      "Pair: 236/236"
     ]
    }
   ],
   "source": [
    "entry_multiplier= config['trading']['entry_multiplier']\n",
    "exit_multiplier= config['trading']['exit_multiplier']\n",
    "train_results_without_costs, train_results_with_costs, performance_threshold_train = \\\n",
    "        trader.apply_trading_strategy(pairs, \n",
    "                                       'fixed_beta',\n",
    "                                        2,#entry_multiplier,\n",
    "                                        0,#exit_multiplier,\n",
    "                                        test_mode=False,\n",
    "                                        train_val_split=train_val_split\n",
    "                                       )\n",
    "\n",
    "sharpe_results_threshold_train_nocosts, cum_returns_threshold_train_nocosts = train_results_without_costs\n",
    "sharpe_results_threshold_train_w_costs, cum_returns_threshold_train_w_costs = train_results_with_costs"
   ]
  },
  {
   "cell_type": "code",
   "execution_count": 17,
   "metadata": {},
   "outputs": [
    {
     "name": "stdout",
     "output_type": "stream",
     "text": [
      "Average result:  1.0904397668639358\n",
      "avg_annual_roi:  20.2788718607259\n",
      "91.52542372881356 % of the pairs had positive returns\n"
     ]
    }
   ],
   "source": [
    "# WARNING: MUST CHANGE SHARPE RATIO\n",
    "avg_sharpe_train, total_roi_train, anual_roi_train, positive_pct_train = \\\n",
    "    trader.calculate_metrics(sharpe_results_threshold_train_w_costs, cum_returns_threshold_train_w_costs,\n",
    "                             n_years_val)"
   ]
  },
  {
   "cell_type": "code",
   "execution_count": 18,
   "metadata": {},
   "outputs": [
    {
     "name": "stdout",
     "output_type": "stream",
     "text": [
      "Sharpe Ratio Distribution: \n"
     ]
    },
    {
     "data": {
      "image/png": "[encoded data removed]",
      "text/plain": [
       "<matplotlib.figure.Figure at 0x16c230c50>"
      ]
     },
     "metadata": {},
     "output_type": "display_data"
    }
   ],
   "source": [
    "print('Sharpe Ratio Distribution: ')\n",
    "n, bins, patches = plt.hist(sharpe_results_threshold_train_w_costs, bins = 16, normed=True, orientation='vertical',\n",
    "                            color='red', rwidth=0.9, align='mid')"
   ]
  },
  {
   "cell_type": "code",
   "execution_count": 19,
   "metadata": {},
   "outputs": [],
   "source": [
    "#cum_returns_threshold_train_w_costs"
   ]
  },
  {
   "cell_type": "code",
   "execution_count": 20,
   "metadata": {},
   "outputs": [
    {
     "data": {
      "text/plain": [
       "array([1.86509984e-01, 6.42584401e-01, 1.24513905e-01, 2.00976047e-01,\n",
       "       5.11894465e-01, 1.39467732e-01, 5.01222321e-01, 1.29941912e+00,\n",
       "       4.28986667e-01, 1.45539576e+00, 1.20149768e+00, 3.79032971e-01,\n",
       "       7.50501174e-01, 9.07732482e-01, 2.39635351e-01, 8.09291630e-01,\n",
       "       9.09628356e-01, 1.22684101e+00, 5.21403020e-01, 7.14397491e-01,\n",
       "       7.45310281e-01, 1.85857758e+00, 3.26897750e+00, 1.74559779e-01,\n",
       "       4.80943479e-01, 2.80352299e-01, 3.15132969e-01, 2.97292201e-01,\n",
       "       1.17226885e-01, 3.53850409e+00, 1.71068977e+00, 1.22277083e+01,\n",
       "       1.56572220e-01, 2.49879707e-01, 1.47267953e-01, 3.84708270e+00,\n",
       "       6.34679736e-02, 1.26068864e-01, 1.88729335e-01, 3.50262446e-01,\n",
       "       1.95318960e-01, 1.93724864e-01, 4.44840649e-01, 2.45440886e-01,\n",
       "       9.58977945e-02, 1.16736045e+00, 7.20550730e-01, 1.80827774e-01,\n",
       "       1.92707752e+00, 1.15029723e+00, 5.53223373e-01, 1.88703316e+00,\n",
       "       1.27496551e+00, 4.83973090e-01, 9.17113957e+01, 6.51069018e+00,\n",
       "       9.21587277e-01, 1.40329718e+00, 1.07246279e+00, 1.26041092e+00,\n",
       "       4.33246880e-01, 2.84449834e+00, 3.98617611e-01, 1.39705430e-01,\n",
       "       1.89866685e-01, 2.32920914e+00, 2.01949384e+00, 8.02834271e-01,\n",
       "       8.12234453e-01, 5.91587012e-01, 3.22414678e-01, 1.68989124e-01,\n",
       "       3.91909698e-01, 2.81258129e-01, 7.23279040e-02, 7.22699824e-01,\n",
       "       7.58516796e-01, 4.48919679e-01, 1.96018541e+00, 2.00058578e-01,\n",
       "       4.71458842e-01, 5.24303259e-01, 2.05926959e-01, 1.15981989e+00,\n",
       "       7.74022507e-01, 1.67031283e+00, 4.16947952e-01, 2.91923373e+00,\n",
       "       1.91160877e+00, 1.00232284e+00, 1.09018985e+00, 4.35860172e-01,\n",
       "       7.07881211e-01, 3.55286313e-01, 1.34417248e+00, 8.36789264e-01,\n",
       "       2.71894431e-01, 3.91067532e-01, 6.45472813e-01, 2.78605276e-01,\n",
       "       2.60505951e-01, 3.61032076e-01, 2.24074911e-01, 5.69463811e-01,\n",
       "       1.03992335e+00, 1.67523364e-01, 2.66674232e-01, 3.01505359e-01,\n",
       "       1.49691952e+00, 9.93095295e-01, 5.51865311e-01, 6.25249620e-01,\n",
       "       6.46504972e-01, 7.38202949e-01, 2.92540405e-01, 4.66744245e-01,\n",
       "       1.82948105e+00, 1.06561240e+00, 5.46157852e-01, 1.20367172e+00,\n",
       "       4.32408334e-01, 9.17060864e-01, 5.36094003e-01, 2.61828203e-01,\n",
       "       6.00272219e-01, 5.68508005e-01, 2.26174370e-01, 4.76699832e-01,\n",
       "       1.54926812e+00, 1.01317950e+00, 1.00174082e+00, 1.26270533e+00,\n",
       "       4.95618185e-01, 1.27968205e+00, 6.13887811e-05, 2.22909142e+00,\n",
       "       2.29261761e+00, 6.54625592e-02, 9.52691707e-02, 5.49323584e+00,\n",
       "       1.45814496e-01, 2.67778903e-01, 4.78885445e-02, 2.55801918e-01,\n",
       "       5.73021103e+00, 7.99092855e-02, 6.92453561e-01, 4.14564180e-01,\n",
       "       1.92894289e-01, 4.56187430e-01, 4.60132088e-01, 1.75072724e-01,\n",
       "       2.05968611e-02, 2.36249693e-01, 2.80229803e+00, 8.93138681e-01,\n",
       "       5.32957221e-01, 2.74337443e-01, 2.86993681e-01, 2.80468590e-01,\n",
       "       5.34023622e-01, 3.31957911e-01, 1.08196547e-01, 8.44310836e-01,\n",
       "       7.55800385e-01, 5.62412677e-01, 5.44467907e-01, 7.19463457e-01,\n",
       "       2.78505561e-01, 6.99538131e-01, 7.24945921e-01, 3.93034735e-01,\n",
       "       8.31017641e-01, 4.79339973e-01, 1.43891142e-01, 5.63409721e-01,\n",
       "       1.44043137e+00, 2.50450793e+00, 6.51332626e-01, 2.16975118e+00,\n",
       "       6.81290264e-01, 3.53013632e-01, 2.57319027e+00, 1.57077802e-01,\n",
       "       3.67111739e-01, 1.64169491e-01, 1.91156626e+00, 4.88209244e+01,\n",
       "       9.69415626e-01, 3.61108122e+00, 1.64073739e+00, 2.47114132e-01,\n",
       "       1.04710564e+02, 8.33430614e+01, 7.09778916e-03, 9.34828399e+01,\n",
       "       1.15141686e-01, 1.69653057e-04, 8.93856532e-01, 1.61352922e+00,\n",
       "       2.63794051e-01, 4.08363685e-01, 1.79500919e+00, 1.47162513e+00,\n",
       "       4.64112294e-01, 1.02214781e+00, 3.97221476e-01, 9.43300225e-01,\n",
       "       4.05929320e-01, 2.60873028e-04, 1.42913711e+00, 1.39630752e+00,\n",
       "       5.93564081e+00, 1.40638022e+00, 1.65492272e+00, 1.86916972e+00,\n",
       "       7.11017106e-01, 4.17888910e-01, 4.47391919e-01, 3.47176232e-01,\n",
       "       1.49383282e-01, 6.70769207e+00, 2.84511657e-01, 5.18671099e-01,\n",
       "       1.94357623e-01, 5.80012938e-01, 1.94492604e+00, 9.62736046e-01,\n",
       "       1.90137916e-04, 7.54508376e-01, 4.92743031e-01, 2.25205095e-01,\n",
       "       4.53764114e+03, 1.13184384e+00, 8.90283565e-01, 1.84187795e+00])"
      ]
     },
     "execution_count": 20,
     "metadata": {},
     "output_type": "execute_result"
    }
   ],
   "source": [
    "betas = list()\n",
    "for i in range(len(pairs)):\n",
    "    betas.append(pairs[i][2]['coint_coef'])\n",
    "np.asarray(betas)"
   ]
  },
  {
   "cell_type": "code",
   "execution_count": 21,
   "metadata": {},
   "outputs": [
    {
     "name": "stdout",
     "output_type": "stream",
     "text": [
      "Average result:  1.0904397668639358\n",
      "avg_annual_roi:  20.2788718607259\n",
      "91.52542372881356 % of the pairs had positive returns\n"
     ]
    }
   ],
   "source": [
    "results_training, pairs_summary_training = trader.summarize_results(sharpe_results_threshold_train_w_costs,\n",
    "                                                                    cum_returns_threshold_train_w_costs,\n",
    "                                                                    performance_threshold_train,\n",
    "                                                                    pairs,\n",
    "                                                                    ticker_segment_dict, n_years_val)"
   ]
  },
  {
   "cell_type": "markdown",
   "metadata": {},
   "source": [
    "# Out of Sample Analysis\n",
    "\n",
    "In this section, we analyze the performance of the strategy in the validation dataset. \n",
    "\n",
    "We proceed with some data exploration analysis. For this purpose we will do the following:\n",
    "\n",
    "- Analyze which percentage of the identified pairs are still cointegrated in the validation period.\n",
    "- Analyze which percentage of pairs have positive returns, and how many of those are still cointegrated.\n",
    "- Analyze how many new pais were not identified to be cointegrated up to the validation period.\n",
    "- Run strategy for identified pairs in training period.\n",
    "\n",
    "This analysis will help us getting some insight into how the cointegrated pairs vary from time to time, and therefore how we should allocate our resources to predict when pairs are not cointegrated anymore."
   ]
  },
  {
   "cell_type": "markdown",
   "metadata": {},
   "source": [
    "## Applying the Strategy out-of Sample\n",
    "\n",
    "We might want to apply the strategy in all pairs identified. Or, instead, we might prefer to apply the strategy only on those pairs that turned out to be profitable. Let's compare how both approaches work:"
   ]
  },
  {
   "cell_type": "code",
   "execution_count": 22,
   "metadata": {},
   "outputs": [
    {
     "data": {
      "text/plain": [
       "1"
      ]
     },
     "execution_count": 22,
     "metadata": {},
     "output_type": "execute_result"
    }
   ],
   "source": [
    "# intraday\n",
    "n_years_test = round(len(df_prices_test)/(240*78))\n",
    "\n",
    "# interday\n",
    "#n_years_test = round(len(df_prices_test)/(240))\n",
    "\n",
    "n_years_test"
   ]
  },
  {
   "cell_type": "markdown",
   "metadata": {},
   "source": [
    "### Approach 1: Unrestricted"
   ]
  },
  {
   "cell_type": "markdown",
   "metadata": {},
   "source": [
    "**Basic Threshold Strategy**"
   ]
  },
  {
   "cell_type": "code",
   "execution_count": 23,
   "metadata": {},
   "outputs": [
    {
     "name": "stdout",
     "output_type": "stream",
     "text": [
      " entry delay turned on.\n",
      "Pair: 236/236"
     ]
    }
   ],
   "source": [
    "results_without_costs, results_with_costs, performance_threshold_test = \\\n",
    "                            trader.apply_trading_strategy(pairs, \n",
    "                                                           'fixed_beta',\n",
    "                                                            2,#entry_multiplier,\n",
    "                                                            0,#exit_multiplier,\n",
    "                                                            test_mode=True,\n",
    "                                                            train_val_split=train_val_split\n",
    "                                                           )\n",
    "sharpe_results_threshold_test_nocosts, cum_returns_threshold_test_nocosts = results_without_costs\n",
    "sharpe_results_threshold_test_w_costs, cum_returns_threshold_test_w_costs = results_with_costs"
   ]
  },
  {
   "cell_type": "code",
   "execution_count": 24,
   "metadata": {
    "scrolled": true
   },
   "outputs": [
    {
     "name": "stdout",
     "output_type": "stream",
     "text": [
      "Average result:  1.1278427020361923\n",
      "avg_annual_roi:  25.117269340668336\n",
      "86.44067796610169 % of the pairs had positive returns\n"
     ]
    }
   ],
   "source": [
    "_, _, _, _ = trader.calculate_metrics(sharpe_results_threshold_test_w_costs, cum_returns_threshold_test_w_costs,\n",
    "                                      n_years_test)"
   ]
  },
  {
   "cell_type": "markdown",
   "metadata": {},
   "source": [
    "### Approach 2: Keeping only pairs that had positive returns in the training period"
   ]
  },
  {
   "cell_type": "code",
   "execution_count": 25,
   "metadata": {},
   "outputs": [],
   "source": [
    "cum_returns_threshold_train_w_costs = np.asarray(cum_returns_threshold_train_w_costs)\n",
    "profitable_pairs_indices = np.argwhere(cum_returns_threshold_train_w_costs > 0)\n",
    "profitable_pairs = [pairs[i] for i in profitable_pairs_indices.flatten()]"
   ]
  },
  {
   "cell_type": "code",
   "execution_count": 26,
   "metadata": {
    "scrolled": false
   },
   "outputs": [
    {
     "name": "stdout",
     "output_type": "stream",
     "text": [
      " entry delay turned on.\n",
      "Pair: 216/216"
     ]
    }
   ],
   "source": [
    "results_without_costs, results_with_costs, performance_threshold_test = \\\n",
    "                            trader.apply_trading_strategy(profitable_pairs, \n",
    "                                                           'fixed_beta',\n",
    "                                                            2,#entry_multiplier,\n",
    "                                                            0,#exit_multiplier,\n",
    "                                                            test_mode=True,\n",
    "                                                            train_val_split=train_val_split\n",
    "                                                           )\n",
    "sharpe_results_threshold_test_nocosts, cum_returns_threshold_test_nocosts = results_without_costs\n",
    "sharpe_results_threshold_test_w_costs, cum_returns_threshold_test_w_costs = results_with_costs"
   ]
  },
  {
   "cell_type": "code",
   "execution_count": 27,
   "metadata": {},
   "outputs": [
    {
     "name": "stdout",
     "output_type": "stream",
     "text": [
      "Average result:  1.1527875119700564\n",
      "avg_annual_roi:  26.317188561774007\n",
      "86.11111111111111 % of the pairs had positive returns\n"
     ]
    }
   ],
   "source": [
    "_, _, _, _ = trader.calculate_metrics(sharpe_results_threshold_test_w_costs, cum_returns_threshold_test_w_costs,\n",
    "                                      n_years_test)"
   ]
  },
  {
   "cell_type": "markdown",
   "metadata": {},
   "source": [
    "### Approach 3: Keeping only top 10 pairs"
   ]
  },
  {
   "cell_type": "code",
   "execution_count": 33,
   "metadata": {},
   "outputs": [],
   "source": [
    "sharpe_results_threshold_train_w_costs = np.asarray(sharpe_results_threshold_train_w_costs)\n",
    "sorted_pairs_indices = np.argsort(sharpe_results_threshold_train_w_costs)[::-1][:10]\n",
    "top_10_pairs = [pairs[i] for i in sorted_pairs_indices.flatten()]"
   ]
  },
  {
   "cell_type": "code",
   "execution_count": 34,
   "metadata": {},
   "outputs": [],
   "source": [
    "# sorting by returns seems to give better results"
   ]
  },
  {
   "cell_type": "code",
   "execution_count": 35,
   "metadata": {},
   "outputs": [
    {
     "name": "stdout",
     "output_type": "stream",
     "text": [
      " entry delay turned on.\n",
      "Pair: 10/10"
     ]
    }
   ],
   "source": [
    "results_without_costs, results_with_costs, performance_threshold_test = \\\n",
    "                            trader.apply_trading_strategy(top_10_pairs, \n",
    "                                                           'fixed_beta',\n",
    "                                                            2,#entry_multiplier,\n",
    "                                                            0,#exit_multiplier,\n",
    "                                                            test_mode=True,\n",
    "                                                            train_val_split=train_val_split\n",
    "                                                           )\n",
    "sharpe_results_threshold_test_nocosts, cum_returns_threshold_test_nocosts = results_without_costs\n",
    "sharpe_results_threshold_test_w_costs, cum_returns_threshold_test_w_costs = results_with_costs"
   ]
  },
  {
   "cell_type": "code",
   "execution_count": 36,
   "metadata": {},
   "outputs": [
    {
     "name": "stdout",
     "output_type": "stream",
     "text": [
      "Average result:  1.2052909338008666\n",
      "avg_annual_roi:  18.761419164343927\n",
      "100.0 % of the pairs had positive returns\n"
     ]
    }
   ],
   "source": [
    "_, _, _, _ = trader.calculate_metrics(sharpe_results_threshold_test_w_costs, cum_returns_threshold_test_w_costs,\n",
    "                                      n_years_test)"
   ]
  },
  {
   "cell_type": "code",
   "execution_count": 30,
   "metadata": {},
   "outputs": [],
   "source": [
    "cum_returns_threshold_train_w_costs = np.asarray(cum_returns_threshold_train_w_costs)\n",
    "sorted_pairs_indices = np.argsort(cum_returns_threshold_train_w_costs)[::-1][:10]\n",
    "top_10_pairs = [pairs[i] for i in sorted_pairs_indices.flatten()]"
   ]
  },
  {
   "cell_type": "markdown",
   "metadata": {},
   "source": [
    "# Validate the results"
   ]
  },
  {
   "cell_type": "code",
   "execution_count": 73,
   "metadata": {},
   "outputs": [
    {
     "name": "stdout",
     "output_type": "stream",
     "text": [
      "Average result:  1.9145168927950444\n",
      "avg_annual_roi:  21.21488842121981\n",
      "100.0 % of the pairs had positive returns\n"
     ]
    }
   ],
   "source": [
    "results, pairs_summary = trader.summarize_results(sharpe_results_threshold_test_w_costs,\n",
    "                                                  cum_returns_threshold_test_w_costs,\n",
    "                                                  performance_threshold_test,\n",
    "                                                  profitable_pairs, ticker_segment_dict,\n",
    "                                                  n_years_test)"
   ]
  },
  {
   "cell_type": "code",
   "execution_count": 75,
   "metadata": {
    "scrolled": false
   },
   "outputs": [
    {
     "data": {
      "text/html": [
       "<div>\n",
       "<style scoped>\n",
       "    .dataframe tbody tr th:only-of-type {\n",
       "        vertical-align: middle;\n",
       "    }\n",
       "\n",
       "    .dataframe tbody tr th {\n",
       "        vertical-align: top;\n",
       "    }\n",
       "\n",
       "    .dataframe thead th {\n",
       "        text-align: right;\n",
       "    }\n",
       "</style>\n",
       "<table border=\"1\" class=\"dataframe\">\n",
       "  <thead>\n",
       "    <tr style=\"text-align: right;\">\n",
       "      <th></th>\n",
       "      <th>Leg1</th>\n",
       "      <th>Leg1_Segmt</th>\n",
       "      <th>Leg2</th>\n",
       "      <th>Leg2_Segmt</th>\n",
       "      <th>t_statistic</th>\n",
       "      <th>p_value</th>\n",
       "      <th>zero_cross</th>\n",
       "      <th>half_life</th>\n",
       "      <th>hurst_exponent</th>\n",
       "      <th>positive_trades</th>\n",
       "      <th>negative_trades</th>\n",
       "      <th>sharpe_result</th>\n",
       "      <th>positive_trades_per_pair_pct</th>\n",
       "    </tr>\n",
       "  </thead>\n",
       "  <tbody>\n",
       "    <tr>\n",
       "      <th>0</th>\n",
       "      <td>DGP</td>\n",
       "      <td>Leveraged Commodities: Precious Metals Gold</td>\n",
       "      <td>UGL</td>\n",
       "      <td>Leveraged Commodities: Precious Metals Gold</td>\n",
       "      <td>-3.397245</td>\n",
       "      <td>0.011053</td>\n",
       "      <td>8623</td>\n",
       "      <td>139</td>\n",
       "      <td>0.247655</td>\n",
       "      <td>143</td>\n",
       "      <td>0</td>\n",
       "      <td>4.904072</td>\n",
       "      <td>100.0</td>\n",
       "    </tr>\n",
       "    <tr>\n",
       "      <th>1</th>\n",
       "      <td>DBA</td>\n",
       "      <td>Commodities: Agriculture</td>\n",
       "      <td>RJZ</td>\n",
       "      <td>Commodities: Broad Market Metals</td>\n",
       "      <td>-3.269818</td>\n",
       "      <td>0.016283</td>\n",
       "      <td>453</td>\n",
       "      <td>3146</td>\n",
       "      <td>0.397512</td>\n",
       "      <td>3</td>\n",
       "      <td>0</td>\n",
       "      <td>2.039132</td>\n",
       "      <td>100.0</td>\n",
       "    </tr>\n",
       "    <tr>\n",
       "      <th>2</th>\n",
       "      <td>DZZ</td>\n",
       "      <td>Inverse Commodities: Precious Metals Gold</td>\n",
       "      <td>GLL</td>\n",
       "      <td>Inverse Commodities: Precious Metals Gold</td>\n",
       "      <td>-4.209984</td>\n",
       "      <td>0.000634</td>\n",
       "      <td>1731</td>\n",
       "      <td>264</td>\n",
       "      <td>0.191601</td>\n",
       "      <td>3</td>\n",
       "      <td>0</td>\n",
       "      <td>1.751853</td>\n",
       "      <td>100.0</td>\n",
       "    </tr>\n",
       "    <tr>\n",
       "      <th>3</th>\n",
       "      <td>GCC</td>\n",
       "      <td>Commodities: Broad Market</td>\n",
       "      <td>RJA</td>\n",
       "      <td>Commodities: Agriculture</td>\n",
       "      <td>-3.292388</td>\n",
       "      <td>0.015222</td>\n",
       "      <td>1751</td>\n",
       "      <td>1106</td>\n",
       "      <td>0.360744</td>\n",
       "      <td>2</td>\n",
       "      <td>0</td>\n",
       "      <td>1.504868</td>\n",
       "      <td>100.0</td>\n",
       "    </tr>\n",
       "    <tr>\n",
       "      <th>4</th>\n",
       "      <td>PXE</td>\n",
       "      <td>Equity: U.S. Oil &amp; Gas Exploration &amp; Production</td>\n",
       "      <td>PXI</td>\n",
       "      <td>Equity: U.S. Energy</td>\n",
       "      <td>-3.254852</td>\n",
       "      <td>0.017021</td>\n",
       "      <td>1374</td>\n",
       "      <td>462</td>\n",
       "      <td>0.231966</td>\n",
       "      <td>1</td>\n",
       "      <td>0</td>\n",
       "      <td>1.180221</td>\n",
       "      <td>100.0</td>\n",
       "    </tr>\n",
       "    <tr>\n",
       "      <th>5</th>\n",
       "      <td>DBE</td>\n",
       "      <td>Commodities: Energy</td>\n",
       "      <td>GSP</td>\n",
       "      <td>Commodities: Broad Market</td>\n",
       "      <td>-2.864635</td>\n",
       "      <td>0.049618</td>\n",
       "      <td>1721</td>\n",
       "      <td>406</td>\n",
       "      <td>0.174335</td>\n",
       "      <td>1</td>\n",
       "      <td>0</td>\n",
       "      <td>1.024143</td>\n",
       "      <td>100.0</td>\n",
       "    </tr>\n",
       "    <tr>\n",
       "      <th>6</th>\n",
       "      <td>RJA</td>\n",
       "      <td>Commodities: Agriculture</td>\n",
       "      <td>RJZ</td>\n",
       "      <td>Commodities: Broad Market Metals</td>\n",
       "      <td>-3.566577</td>\n",
       "      <td>0.006433</td>\n",
       "      <td>491</td>\n",
       "      <td>2149</td>\n",
       "      <td>0.388688</td>\n",
       "      <td>1</td>\n",
       "      <td>0</td>\n",
       "      <td>0.997330</td>\n",
       "      <td>100.0</td>\n",
       "    </tr>\n",
       "  </tbody>\n",
       "</table>\n",
       "</div>"
      ],
      "text/plain": [
       "  Leg1                                       Leg1_Segmt Leg2  \\\n",
       "0  DGP      Leveraged Commodities: Precious Metals Gold  UGL   \n",
       "1  DBA                         Commodities: Agriculture  RJZ   \n",
       "2  DZZ        Inverse Commodities: Precious Metals Gold  GLL   \n",
       "3  GCC                        Commodities: Broad Market  RJA   \n",
       "4  PXE  Equity: U.S. Oil & Gas Exploration & Production  PXI   \n",
       "5  DBE                              Commodities: Energy  GSP   \n",
       "6  RJA                         Commodities: Agriculture  RJZ   \n",
       "\n",
       "                                    Leg2_Segmt  t_statistic   p_value  \\\n",
       "0  Leveraged Commodities: Precious Metals Gold    -3.397245  0.011053   \n",
       "1             Commodities: Broad Market Metals    -3.269818  0.016283   \n",
       "2    Inverse Commodities: Precious Metals Gold    -4.209984  0.000634   \n",
       "3                     Commodities: Agriculture    -3.292388  0.015222   \n",
       "4                          Equity: U.S. Energy    -3.254852  0.017021   \n",
       "5                    Commodities: Broad Market    -2.864635  0.049618   \n",
       "6             Commodities: Broad Market Metals    -3.566577  0.006433   \n",
       "\n",
       "   zero_cross  half_life  hurst_exponent  positive_trades  negative_trades  \\\n",
       "0        8623        139        0.247655              143                0   \n",
       "1         453       3146        0.397512                3                0   \n",
       "2        1731        264        0.191601                3                0   \n",
       "3        1751       1106        0.360744                2                0   \n",
       "4        1374        462        0.231966                1                0   \n",
       "5        1721        406        0.174335                1                0   \n",
       "6         491       2149        0.388688                1                0   \n",
       "\n",
       "   sharpe_result  positive_trades_per_pair_pct  \n",
       "0       4.904072                         100.0  \n",
       "1       2.039132                         100.0  \n",
       "2       1.751853                         100.0  \n",
       "3       1.504868                         100.0  \n",
       "4       1.180221                         100.0  \n",
       "5       1.024143                         100.0  \n",
       "6       0.997330                         100.0  "
      ]
     },
     "execution_count": 75,
     "metadata": {},
     "output_type": "execute_result"
    }
   ],
   "source": [
    "pairs_summary"
   ]
  },
  {
   "cell_type": "markdown",
   "metadata": {},
   "source": [
    "## Analyzing Pairs' Overlap"
   ]
  },
  {
   "cell_type": "markdown",
   "metadata": {},
   "source": [
    "There could be two possible interpretations for pairs' overlap.\n",
    "1. We might be interested in checking which of the cointegrated pairs found in the training dataset are also cointegrated in the test set; Furthermore we want to explore how the two types of pairs perform.\n",
    "2. We might be interested in finding if the pairs that would have been found in the test set by performing PCA + clustering would be cointegrated in the training set."
   ]
  },
  {
   "cell_type": "markdown",
   "metadata": {},
   "source": [
    "Starting with **1)**, let's see how many of the identified pairs actually turned out to be cointegrated during this period."
   ]
  },
  {
   "cell_type": "code",
   "execution_count": null,
   "metadata": {},
   "outputs": [],
   "source": [
    "pairs_overlapped, pairs_overlapped_index = series_analyser.pairs_overlap(pairs,\n",
    "                                  config['pair_restrictions']['p_value_threshold'],\n",
    "                                  config['pair_restrictions']['min_zero_crossings'],\n",
    "                                  config['pair_restrictions']['min_half_life'],\n",
    "                                  config['pair_restrictions']['hurst_threshold'])\n",
    "print('{} of the {} pairs identified in the training set are also cointegrated in the test set'.format(\\\n",
    "    len(pairs_overlapped), len(pairs)))"
   ]
  },
  {
   "cell_type": "code",
   "execution_count": null,
   "metadata": {},
   "outputs": [],
   "source": [
    "profitable_pairs_overlapped, profitable_pairs_overlapped_index = series_analyser.pairs_overlap(profitable_pairs,\n",
    "                                  config['pair_restrictions']['p_value_threshold'],\n",
    "                                  config['pair_restrictions']['min_zero_crossings'],\n",
    "                                  config['pair_restrictions']['min_half_life'],\n",
    "                                  config['pair_restrictions']['hurst_threshold'])\n",
    "print('{} of the {} pairs with positive returns identified in the training set are also cointegrated in the test set'.format(\\\n",
    "    len(profitable_pairs_overlapped), len(profitable_pairs)))"
   ]
  },
  {
   "cell_type": "markdown",
   "metadata": {},
   "source": [
    "### Is cointegration really important?\n",
    "\n",
    "To answer this question we will see how many of the still cointegrated pairs had positive and negative returns. We will then do the same for those pairs that were not cointegrated. \n",
    "\n",
    "If both are as likely to have positive and negative returns, then it means cointegration is not as important of a condition. On the other hand, if we verify that all pairs that are still cointegrated turned out to be profitable and those that are not anymore led to consistent negative returns, we can infer that cointegration is a very important predictor of future returns.\n",
    "\n",
    "We also compare the average performance of the two groups two see the relevance of being cointegrated with respect to the sharpe ratio obtained."
   ]
  },
  {
   "cell_type": "markdown",
   "metadata": {},
   "source": [
    "*Still cointegrated*"
   ]
  },
  {
   "cell_type": "code",
   "execution_count": null,
   "metadata": {},
   "outputs": [],
   "source": [
    "# distribution for pairs which were cointegrated in train and test\n",
    "sharpe_results_pairs_overlapped = np.asarray([sharpe_results_kalman_test[index] for index \\\n",
    "                                              in profitable_pairs_overlapped_index])\n",
    "cum_returns_pairs_overlapped = np.asarray([cum_returns_kalman_test[index] for index \\\n",
    "                                              in profitable_pairs_overlapped_index])\n",
    "\n",
    "if len(sharpe_results_pairs_overlapped)>0:\n",
    "    _,_,_,_ = trader.calculate_metrics(sharpe_results_pairs_overlapped, cum_returns_pairs_overlapped,\n",
    "                                   n_years_test)\n",
    "else:\n",
    "    print('0% of the pairs cointegrated in the train are also cointegrated in the test set')"
   ]
  },
  {
   "cell_type": "markdown",
   "metadata": {},
   "source": [
    "*Not cointegrated anymore*"
   ]
  },
  {
   "cell_type": "code",
   "execution_count": null,
   "metadata": {},
   "outputs": [],
   "source": [
    "# distribution for pairs which were cointegrated in train but not in test\n",
    "profitable_pairs_not_overlapped_index = [i for i in np.arange(0,len(profitable_pairs))\\\n",
    "                                         if i not in profitable_pairs_overlapped_index]\n",
    "\n",
    "sharpe_results_pairs_not_overlapped = np.asarray([sharpe_results_kalman_test[index] for index \\\n",
    "                                              in profitable_pairs_not_overlapped_index])\n",
    "\n",
    "cum_returns_pairs_not_overlapped = np.asarray([cum_returns_kalman_test[index] for index \\\n",
    "                                              in profitable_pairs_not_overlapped_index])\n",
    "\n",
    "_,_,_,_ = trader.calculate_metrics(sharpe_results_pairs_not_overlapped, cum_returns_pairs_not_overlapped,\n",
    "                                   n_years_test)"
   ]
  },
  {
   "cell_type": "markdown",
   "metadata": {},
   "source": [
    "Answering to the first question we were concerned with, we verify that a cointegrated pair is indeed more likely to have a positive return. Furthermore, we can conclude from the results that being cointegrated implied that those pairs generated higher returns. \n",
    "\n",
    "**TO REVIEW:Conclusion**: The fact that a pair is not cointegrated anymore does not impact the results obained. In fact, we just concluded that betting solely on the cointegrated pairs would yield a worse result. Therefore, we should not spend much effort in detecting pairs that are no cointegrated anymore."
   ]
  },
  {
   "cell_type": "markdown",
   "metadata": {},
   "source": [
    "Following with point number **2)**, we proceed to analyze the performance of the pairs that woud have been identified in the testing period."
   ]
  },
  {
   "cell_type": "code",
   "execution_count": null,
   "metadata": {},
   "outputs": [],
   "source": [
    "initial_test_date = config['dataset']['testing_initial_date']\n",
    "final_teste_date = config['dataset']['testing_final_date']\n",
    "\n",
    "# Get returns for test period\n",
    "df_returns_test = data_processor.get_return_series(df_prices_test)\n",
    "\n",
    "# APPLY PCA and CLUSTERING\n",
    "range_n_components = config['PCA']['N_COMPONENTS']\n",
    "X_test, clustered_series_all_test, clustered_series_test, counts_test, clf_test = \\\n",
    "            series_analyser.clustering_for_optimal_PCA(range_n_components[0], range_n_components[1],\n",
    "                                                       df_returns_test, config['clustering'])\n",
    "# Find pairs\n",
    "pairs_test, unique_tickers_test = series_analyser.get_candidate_pairs(\\\n",
    "                                            clustered_series=clustered_series_test,\n",
    "                                            pricing_df_train=df_prices_test,\n",
    "                                            pricing_df_test=df_prices_train,\n",
    "                                            min_half_life=config['pair_restrictions']['min_half_life'],\n",
    "                                            min_zero_crosings=config['pair_restrictions']['min_zero_crossings'],\n",
    "                                            p_value_threshold=config['pair_restrictions']['p_value_threshold'],\n",
    "                                            hurst_threshold=config['pair_restrictions']['hurst_threshold']\n",
    "                                            )\n",
    "\n",
    "# Finally, see overlap\n",
    "pairs_overlapped, pairs_overlapped_index = series_analyser.pairs_overlap(pairs_test,\n",
    "                                  config['pair_restrictions']['p_value_threshold'],\n",
    "                                  config['pair_restrictions']['min_zero_crossings'],\n",
    "                                  config['pair_restrictions']['min_half_life'],\n",
    "                                  config['pair_restrictions']['hurst_threshold'])\n",
    "print('{} of the {} pairs identified in the test set are also cointegrated in the training set'.format(\\\n",
    "    len(pairs_overlapped), len(pairs_test)))"
   ]
  },
  {
   "cell_type": "markdown",
   "metadata": {},
   "source": [
    "Let's see if the pairs identified in the test period lead indeed to improved results:"
   ]
  },
  {
   "cell_type": "code",
   "execution_count": null,
   "metadata": {
    "scrolled": true
   },
   "outputs": [],
   "source": [
    "sharpe_results_kalman_test_newpairs, cum_returns_kalman_test_newpairs, performance_kalman_test_newpairs =\\\n",
    "    trader.apply_kalman_strategy(pairs_test, entry_multiplier,exit_multiplier,trading_filter, test_mode=False)\n",
    "\n",
    "_,_,_,_ = trader.calculate_metrics(sharpe_results_kalman_test_newpairs, cum_returns_kalman_test_newpairs,\n",
    "                                   n_years_test)"
   ]
  },
  {
   "cell_type": "markdown",
   "metadata": {},
   "source": [
    "The sharpe ratio is higher in this scenatio. Note hoewever, that the annual ROI is not so high as the pairs identified previously. This might be linked with the fact that these pairs did not prove to be cointegrated for a period as long as the other and therefore the pairs might be less stable."
   ]
  },
  {
   "cell_type": "markdown",
   "metadata": {},
   "source": [
    "## Analyzing the influence of pairs statistics\n",
    "\n",
    "It's interesting to analyze whether we could have used extra information from the pairs trading statistic, instead of considering it just as a pass or not pass test. `Law 2017` explore this concept on their paper (htey basically rank pairs according to a trade off between t-statistic and spread deviation from its mean). However, what we see below is that there is no obvious influence of any parameter in the performance of the corresponding pair."
   ]
  },
  {
   "cell_type": "code",
   "execution_count": null,
   "metadata": {},
   "outputs": [],
   "source": [
    "pairs_summary.corr()[['sharpe_result', 'positive_trades_per_pair_pct']].loc[['t_statistic', 'p_value',\n",
    "                                                                             'zero_cross', 'half_life',\n",
    "                                                                             'hurst_exponent']]"
   ]
  },
  {
   "cell_type": "markdown",
   "metadata": {},
   "source": [
    "### The Correlation Filter\n",
    "\n",
    "The correlation filter aims to track how the correlation between the two legs of tha pair is varing, and provide that information as input to the trading strategy."
   ]
  },
  {
   "cell_type": "code",
   "execution_count": null,
   "metadata": {},
   "outputs": [],
   "source": [
    "example_pair = failed_pairs[2]\n",
    "\n",
    "example_pair_leg1 = example_pair[0][0]\n",
    "example_pair_leg2 = example_pair[0][1]\n",
    "\n",
    "example_pair_prices = etfs_pricing[[example_pair_leg1, example_pair_leg2]]\n",
    "example_pair_prices.plot(figsize=(15,5))\n",
    "\n",
    "\n",
    "# proceed to calculate correlation\n",
    "rolling_window = config['trading']['lookback_multiplier']*example_pair[0][2]['half_life']\n",
    "\n",
    "# get returns\n",
    "example_pair_returns = data_processor.get_return_series(example_pair_prices)\n",
    "\n",
    "# analyze correlation on returns\n",
    "example_correlation = example_pair_returns[example_pair_leg1].rolling(rolling_window).corr(example_pair_returns[example_pair_leg2])\n",
    "\n",
    "# plot correlation of returns\n",
    "diff_example_correlation = example_correlation.diff(periods=1)\n",
    "#diff_example_correlation = diff_example_correlation*10\n",
    "diff_example_correlation.plot()"
   ]
  },
  {
   "cell_type": "markdown",
   "metadata": {},
   "source": [
    "This result indicates there's almost no correlation between correlation diff and returns... Let's see how this result varies on average:"
   ]
  },
  {
   "cell_type": "code",
   "execution_count": null,
   "metadata": {},
   "outputs": [],
   "source": [
    "failure_correlations = []\n",
    "for failure in failed_pairs:\n",
    "    failure_df = failure[1][failure[1].units != 0]\n",
    "    correlation = failure_df['ret'].corr(failure_df['correlation'])\n",
    "    failure_correlations.append(correlation)\n",
    "    \n",
    "print(np.mean(failure_correlations))"
   ]
  },
  {
   "cell_type": "markdown",
   "metadata": {},
   "source": [
    "However, we are not realyy interested in the correlation of the the diff column, but rather on the correlation with its sign."
   ]
  },
  {
   "cell_type": "code",
   "execution_count": null,
   "metadata": {},
   "outputs": [],
   "source": [
    "failure_correlations = []\n",
    "for failure in failed_pairs:\n",
    "    failure_df = failure[1][failure[1].units != 0]\n",
    "    failure_df['diff_correlation_sign']=failure_df['diff_correlation'].apply(lambda row: -1 if row<0 else 1)\n",
    "    correlation = failure_df['ret'].corr(failure_df['diff_correlation_sign'])\n",
    "    failure_correlations.append(correlation)\n",
    "    \n",
    "print(np.mean(failure_correlations))"
   ]
  },
  {
   "cell_type": "markdown",
   "metadata": {},
   "source": [
    "We could use mutual information rather than correlation as the sign is discrete. What about the relation with the zscore evolution?"
   ]
  },
  {
   "cell_type": "markdown",
   "metadata": {},
   "source": [
    "### Analyze non-profitable pairs"
   ]
  },
  {
   "cell_type": "code",
   "execution_count": null,
   "metadata": {},
   "outputs": [],
   "source": [
    "sharpe_results_kalman_test = np.asarray(sharpe_results_kalman_test)\n",
    "negative_pairs_indices = np.argwhere(sharpe_results_kalman_test < 0)\n",
    "print('{} out of {} pairs turned out to be non-profitable'.format(len(negative_pairs_indices), len(pairs)))"
   ]
  },
  {
   "cell_type": "markdown",
   "metadata": {},
   "source": [
    "Let's get some more information on the non-profitable pairs:"
   ]
  },
  {
   "cell_type": "code",
   "execution_count": null,
   "metadata": {},
   "outputs": [],
   "source": [
    "negative_pairs = [pairs[i] for i in negative_pairs_indices.flatten()]\n",
    "negative_pairs = [(item[0], item[1]) for item in negative_pairs]\n",
    "negative_pairs"
   ]
  },
  {
   "cell_type": "markdown",
   "metadata": {},
   "source": [
    "To what clusters do these pairs belong?"
   ]
  },
  {
   "cell_type": "code",
   "execution_count": null,
   "metadata": {},
   "outputs": [],
   "source": [
    "for label_n in range(len(counts)):\n",
    "    elements_cluster_n = list(clustered_series[clustered_series == label_n].index)\n",
    "    etfs_cluster_n = etfs_unique[etfs_unique['Ticker'].isin(elements_cluster_n)]\n",
    "    for pair in negative_pairs:\n",
    "        if pair[0] in list(etfs_cluster_n.Ticker):\n",
    "            print('Pair {} belongs to cluster {}'.format(pair, label_n))"
   ]
  },
  {
   "cell_type": "markdown",
   "metadata": {},
   "source": [
    "How do the statistics rank?"
   ]
  },
  {
   "cell_type": "code",
   "execution_count": null,
   "metadata": {},
   "outputs": [],
   "source": [
    "sorted_indices = np.flip(np.argsort(sharpe_results_bollinger), axis=0)\n",
    "\n",
    "# initialize list of lists \n",
    "data = []\n",
    "for index in sorted_indices:\n",
    "    # get number of positive and negative positions\n",
    "    position_returns = performance_bollinger[index][1].position_return\n",
    "    positive_positions = len(position_returns[position_returns>0])\n",
    "    negative_positions = len(position_returns[position_returns<0])\n",
    "    data.append([pairs[index][0],\n",
    "                 pairs[index][1],\n",
    "                 pairs[index][2]['t_statistic'],\n",
    "                 pairs[index][2]['p_value'],\n",
    "                 pairs[index][2]['zero_cross'],\n",
    "                 pairs[index][2]['half_life'],\n",
    "                 pairs[index][2]['hurst_exponent'],\n",
    "                 positive_positions,\n",
    "                 negative_positions,\n",
    "                 sharpe_results_bollinger[index]\n",
    "                ])\n",
    "      \n",
    "# Create the pandas DataFrame \n",
    "df = pd.DataFrame(data, columns = ['Leg1', 'Leg2', 't_statistic', 'p_value', 'zero_cross',\n",
    "                                   'half_life', 'hurst_exponent', 'positive trades', 'negative_trades',\n",
    "                                   'sharpe_result']) \n",
    "df"
   ]
  },
  {
   "cell_type": "code",
   "execution_count": null,
   "metadata": {},
   "outputs": [],
   "source": [
    "df.half_life.mean()"
   ]
  },
  {
   "cell_type": "code",
   "execution_count": null,
   "metadata": {},
   "outputs": [],
   "source": [
    "# analyze correlations\n",
    "print('Half-life vs Sharpe Ratio correlation: ', df['sharpe_result'].corr(df['half_life']))\n",
    "print('Zero crossings vs Sharpe Ratio correlation: ', df['sharpe_result'].corr(df['zero_cross']))\n",
    "print('p-value vs Sharpe Ratio correlation: ', df['sharpe_result'].corr(df['p_value']))\n",
    "print('t-statistic vs Sharpe Ratio correlation: ', df['sharpe_result'].corr(df['t_statistic']))\n",
    "print('Hurst exponent vs Sharpe Ratio correlation ', df['sharpe_result'].corr(df['hurst_exponent']))"
   ]
  },
  {
   "cell_type": "markdown",
   "metadata": {},
   "source": [
    "Are there any signs these pairs were not profitable as the strategy evolves? Could we have predicted their lack of profitability?\n",
    "- Using a ML algorithm that recognizes when a pair is not profitable anymore.\n",
    "- Checking how the hurst exponent has been changing.\n",
    "- Analyze their previous positions' returns"
   ]
  }
 ],
 "metadata": {
  "kernelspec": {
   "display_name": "Python [conda root]",
   "language": "python",
   "name": "conda-root-py"
  },
  "language_info": {
   "codemirror_mode": {
    "name": "ipython",
    "version": 3
   },
   "file_extension": ".py",
   "mimetype": "text/x-python",
   "name": "python",
   "nbconvert_exporter": "python",
   "pygments_lexer": "ipython3",
   "version": "3.6.0"
  }
 },
 "nbformat": 4,
 "nbformat_minor": 2
}
