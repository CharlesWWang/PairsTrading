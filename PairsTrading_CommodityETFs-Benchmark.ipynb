{
 "cells": [
  {
   "cell_type": "markdown",
   "metadata": {},
   "source": [
    "# A benchmark Pairs Trading strategy \n",
    "\n",
    "This notebook explores a pairs trading strategy using bollinger bands. This projected is being developed as part of a master thesis for the degree of Electrical and Computer Engineering.\n",
    "\n",
    "**Author:** Simão Moraes Sarmento <br /> \n",
    "**Contact:** simaosarmento@hotmail.com"
   ]
  },
  {
   "cell_type": "markdown",
   "metadata": {},
   "source": [
    "## Dependencies\n",
    "\n",
    "This notebook requires code from:\n",
    "\n",
    "Python files:\n",
    "- `class_SeriesAnalyser.py` - contains a set of functions to deal with time series analysis.\n",
    "- `class_Trader.py` - contains a set of functions concerning trading strategies.\n",
    "- `class_DataProcessor.py` - contains a set of functions concerning the data pre processing.\n",
    "\n",
    "Pickle files:\n",
    "- pickle file containing pairs to be traded (obtained from running `PairsTrading_CommodityETFs-Clustering.ipynb`)\n",
    "\n",
    "As a good practise, the notebook solely intends to exemplify the application of different trading strategies for different dataset examples, rather than coding the strategies theirselves. Please look into the files menitoned above for more detailed info on how the functions are built."
   ]
  },
  {
   "cell_type": "markdown",
   "metadata": {},
   "source": [
    "### Import Libraries"
   ]
  },
  {
   "cell_type": "code",
   "execution_count": 302,
   "metadata": {},
   "outputs": [],
   "source": [
    "import numpy as np\n",
    "import pandas as pd\n",
    "import pickle\n",
    "\n",
    "import json\n",
    "\n",
    "import statsmodels\n",
    "import statsmodels.api as sm\n",
    "from statsmodels.tsa.stattools import coint, adfuller\n",
    "\n",
    "import matplotlib.pyplot as plt\n",
    "import matplotlib.cm as cm\n",
    "\n",
    "# Import Datetime and the Pandas DataReader\n",
    "from datetime import datetime\n",
    "from pandas_datareader import data, wb\n",
    "\n",
    "# Import alpha vantage\n",
    "from alpha_vantage.timeseries import TimeSeries\n",
    "\n",
    "# Import scikit instruments\n",
    "from sklearn.cluster import DBSCAN\n",
    "from sklearn.decomposition import PCA\n",
    "from sklearn.manifold import TSNE\n",
    "from sklearn import preprocessing\n",
    "from sklearn.metrics import silhouette_score\n",
    "\n",
    "# just set the seed for the random number generator\n",
    "np.random.seed(107)"
   ]
  },
  {
   "cell_type": "markdown",
   "metadata": {},
   "source": [
    "### Import Configurations"
   ]
  },
  {
   "cell_type": "code",
   "execution_count": 303,
   "metadata": {},
   "outputs": [],
   "source": [
    "config_file = 'config/config_commodities_2010_2019.json'"
   ]
  },
  {
   "cell_type": "code",
   "execution_count": 304,
   "metadata": {},
   "outputs": [],
   "source": [
    "with open(config_file, 'r') as f:\n",
    "    config = json.load(f)"
   ]
  },
  {
   "cell_type": "markdown",
   "metadata": {},
   "source": [
    "### Import Classes"
   ]
  },
  {
   "cell_type": "code",
   "execution_count": 577,
   "metadata": {},
   "outputs": [
    {
     "name": "stdout",
     "output_type": "stream",
     "text": [
      "The autoreload extension is already loaded. To reload it, use:\n",
      "  %reload_ext autoreload\n"
     ]
    }
   ],
   "source": [
    "%load_ext autoreload\n",
    "%aimport class_SeriesAnalyser, class_Trader, class_DataProcessor\n",
    "%autoreload 1"
   ]
  },
  {
   "cell_type": "code",
   "execution_count": 578,
   "metadata": {},
   "outputs": [],
   "source": [
    "series_analyser = class_SeriesAnalyser.SeriesAnalyser()\n",
    "trader = class_Trader.Trader()\n",
    "data_processor = class_DataProcessor.DataProcessor()"
   ]
  },
  {
   "cell_type": "markdown",
   "metadata": {},
   "source": [
    "# Retrieve prices data set"
   ]
  },
  {
   "cell_type": "markdown",
   "metadata": {},
   "source": [
    "We start by retrieving the data from a Dataframe saved in a pickle file, as it was previously processed in the `PairsTrading_CommodityETFS_Datapreprocessing.ipynb` notebook."
   ]
  },
  {
   "cell_type": "code",
   "execution_count": 392,
   "metadata": {},
   "outputs": [],
   "source": [
    "# intraday\n",
    "#df_prices = pd.read_pickle('data/etfs/pickle/commodity_ETFs_intraday')\n",
    "\n",
    "# inter day\n",
    "df_prices = pd.read_pickle('data/etfs/pickle/commodity_ETFs_interpolated_screened')"
   ]
  },
  {
   "cell_type": "code",
   "execution_count": 393,
   "metadata": {},
   "outputs": [
    {
     "name": "stdout",
     "output_type": "stream",
     "text": [
      "Total of 190 tickers\n",
      "Total of 53 tickers after removing tickers with Nan values\n"
     ]
    }
   ],
   "source": [
    "# split data in training and test\n",
    "df_prices_train, df_prices_test = data_processor.split_data(df_prices,\n",
    "                                                            ('01-01-2009',\n",
    "                                                             '31-12-2017'),\n",
    "                                                            ('01-01-2018',\n",
    "                                                             '31-12-2018'),\n",
    "                                                            remove_nan=True)"
   ]
  },
  {
   "cell_type": "code",
   "execution_count": 394,
   "metadata": {},
   "outputs": [
    {
     "data": {
      "text/plain": [
       "2516"
      ]
     },
     "execution_count": 394,
     "metadata": {},
     "output_type": "execute_result"
    }
   ],
   "source": [
    "len(df_prices_train)+len(df_prices_test)"
   ]
  },
  {
   "cell_type": "markdown",
   "metadata": {},
   "source": [
    "# Load Pairs"
   ]
  },
  {
   "cell_type": "code",
   "execution_count": 515,
   "metadata": {},
   "outputs": [],
   "source": [
    "#with open('data/etfs/pickle/pairs_unfiltered.pickle', 'rb') as handle:\n",
    "#    pairs = pickle.load(handle)\n",
    "\n",
    "with open('data/etfs/pickle/pairs_category.pickle', 'rb') as handle:\n",
    "    pairs = pickle.load(handle)\n",
    "\n",
    "#with open('data/etfs/pickle/pairs_unsupervised_learning.pickle', 'rb') as handle:\n",
    "#    pairs = pickle.load(handle)"
   ]
  },
  {
   "cell_type": "code",
   "execution_count": 516,
   "metadata": {},
   "outputs": [],
   "source": [
    "lookback_multiplier= config['trading']['lookback_multiplier']\n",
    "entry_multiplier= config['trading']['entry_multiplier']\n",
    "exit_multiplier= config['trading']['exit_multiplier']\n",
    "# obtain trading filter info\n",
    "if config['trading_filter']['active'] == 1:\n",
    "    trading_filter = config['trading_filter']\n",
    "else:\n",
    "    trading_filter = None"
   ]
  },
  {
   "cell_type": "code",
   "execution_count": 517,
   "metadata": {},
   "outputs": [
    {
     "data": {
      "text/plain": [
       "9"
      ]
     },
     "execution_count": 517,
     "metadata": {},
     "output_type": "execute_result"
    }
   ],
   "source": [
    "# intraday\n",
    "#n_years_train = round(len(df_prices_train)/(240*78))\n",
    "\n",
    "# interday\n",
    "n_years_train = round(len(df_prices_train)/(240))\n",
    "\n",
    "n_years_train"
   ]
  },
  {
   "cell_type": "markdown",
   "metadata": {},
   "source": [
    "# Apply trading strategies"
   ]
  },
  {
   "cell_type": "markdown",
   "metadata": {},
   "source": [
    "**Applying Bollinger Bands**"
   ]
  },
  {
   "cell_type": "code",
   "execution_count": 518,
   "metadata": {
    "scrolled": true
   },
   "outputs": [
    {
     "name": "stdout",
     "output_type": "stream",
     "text": [
      "\n",
      "1/15\n",
      "\n",
      "2/15\n",
      "\n",
      "3/15\n",
      "\n",
      "4/15\n",
      "\n",
      "5/15\n",
      "\n",
      "6/15\n",
      "\n",
      "7/15\n",
      "\n",
      "8/15\n",
      "\n",
      "9/15\n",
      "\n",
      "10/15\n",
      "\n",
      "11/15\n",
      "\n",
      "12/15\n",
      "\n",
      "13/15\n",
      "\n",
      "14/15\n",
      "\n",
      "15/15\n"
     ]
    }
   ],
   "source": [
    "sharpe_results_bollinger, cum_returns_bollinger, performance_bollinger = trader.apply_bollinger_strategy(pairs,\n",
    "                                                                                         lookback_multiplier,\n",
    "                                                                                         entry_multiplier,\n",
    "                                                                                         exit_multiplier,\n",
    "                                                                                         trading_filter,\n",
    "                                                                                         test_mode=False\n",
    "                                                                                         )"
   ]
  },
  {
   "cell_type": "markdown",
   "metadata": {},
   "source": [
    "**Bollinger Bands Performance**"
   ]
  },
  {
   "cell_type": "code",
   "execution_count": 519,
   "metadata": {},
   "outputs": [
    {
     "name": "stdout",
     "output_type": "stream",
     "text": [
      "Average result:  -0.046614671380213656\n",
      "avg_annual_roi:  -1.8532503583833737\n",
      "46.666666666666664 % of the pairs had positive returns\n"
     ]
    }
   ],
   "source": [
    "avg_sharpe_bollinger, total_roi_bollinger, anual_roi_bollinger, positive_pct_bollinger = \\\n",
    "    trader.calculate_metrics(sharpe_results_bollinger, cum_returns_bollinger, n_years_train)"
   ]
  },
  {
   "cell_type": "markdown",
   "metadata": {},
   "source": [
    "**Applying the Kalman filter based strategy**"
   ]
  },
  {
   "cell_type": "code",
   "execution_count": 520,
   "metadata": {},
   "outputs": [
    {
     "name": "stdout",
     "output_type": "stream",
     "text": [
      "Pair: 1/15\n",
      "Pair: 2/15\n",
      "Pair: 3/15\n",
      "Pair: 4/15\n",
      "Pair: 5/15\n",
      "Pair: 6/15\n",
      "Pair: 7/15\n",
      "Pair: 8/15\n",
      "Pair: 9/15\n",
      "Pair: 10/15\n",
      "Pair: 11/15\n",
      "Pair: 12/15\n",
      "Pair: 13/15\n",
      "Pair: 14/15\n",
      "Pair: 15/15\n"
     ]
    }
   ],
   "source": [
    "entry_multiplier= config['trading']['entry_multiplier']\n",
    "exit_multiplier= config['trading']['exit_multiplier']\n",
    "sharpe_results_kalman, cum_returns_kalman, performance_kalman = trader.apply_kalman_strategy(pairs, \n",
    "                                                                                             entry_multiplier,\n",
    "                                                                                             exit_multiplier,\n",
    "                                                                                             trading_filter,\n",
    "                                                                                             test_mode=False)"
   ]
  },
  {
   "cell_type": "code",
   "execution_count": 521,
   "metadata": {},
   "outputs": [
    {
     "name": "stdout",
     "output_type": "stream",
     "text": [
      "Average result:  0.8303304019485045\n",
      "avg_annual_roi:  52.146368030484425\n",
      "66.66666666666667 % of the pairs had positive returns\n"
     ]
    }
   ],
   "source": [
    "avg_sharpe_kalman, total_roi_kalman, anual_roi_kalman, positive_pct_kalman = \\\n",
    "    trader.calculate_metrics(sharpe_results_kalman, cum_returns_kalman, n_years_train)"
   ]
  },
  {
   "cell_type": "code",
   "execution_count": 522,
   "metadata": {},
   "outputs": [
    {
     "name": "stdout",
     "output_type": "stream",
     "text": [
      "Average result:  0.8303304019485045\n",
      "avg_annual_roi:  52.146368030484425\n",
      "66.66666666666667 % of the pairs had positive returns\n"
     ]
    }
   ],
   "source": [
    "avg_sharpe_kalman, total_roi_kalman, anual_roi_kalman, positive_pct_kalman = \\\n",
    "    trader.calculate_metrics(sharpe_results_kalman, cum_returns_kalman, n_years_train)"
   ]
  },
  {
   "cell_type": "code",
   "execution_count": 523,
   "metadata": {},
   "outputs": [
    {
     "name": "stdout",
     "output_type": "stream",
     "text": [
      "Sharpe Ratio Distribution: \n"
     ]
    },
    {
     "data": {
      "image/png": "[encoded data removed]",
      "text/plain": [
       "<matplotlib.figure.Figure at 0x12ab53668>"
      ]
     },
     "metadata": {},
     "output_type": "display_data"
    }
   ],
   "source": [
    "print('Sharpe Ratio Distribution: ')\n",
    "n, bins, patches = plt.hist(sharpe_results_kalman, bins = 16, normed=True, orientation='vertical',\n",
    "                            color='red', rwidth=0.9, align='mid')"
   ]
  },
  {
   "cell_type": "code",
   "execution_count": 524,
   "metadata": {},
   "outputs": [
    {
     "name": "stdout",
     "output_type": "stream",
     "text": [
      "Average result:  0.8303304019485045\n",
      "avg_annual_roi:  52.146368030484425\n",
      "66.66666666666667 % of the pairs had positive returns\n"
     ]
    }
   ],
   "source": [
    "results_training, pairs_summary_training = trader.summarize_results(sharpe_results_kalman, cum_returns_kalman,\n",
    "                                                  performance_kalman, pairs, ticker_segment_dict, n_years_train)"
   ]
  },
  {
   "cell_type": "code",
   "execution_count": 332,
   "metadata": {},
   "outputs": [
    {
     "data": {
      "text/html": [
       "<div>\n",
       "<style scoped>\n",
       "    .dataframe tbody tr th:only-of-type {\n",
       "        vertical-align: middle;\n",
       "    }\n",
       "\n",
       "    .dataframe tbody tr th {\n",
       "        vertical-align: top;\n",
       "    }\n",
       "\n",
       "    .dataframe thead th {\n",
       "        text-align: right;\n",
       "    }\n",
       "</style>\n",
       "<table border=\"1\" class=\"dataframe\">\n",
       "  <thead>\n",
       "    <tr style=\"text-align: right;\">\n",
       "      <th></th>\n",
       "      <th>Leg1</th>\n",
       "      <th>Leg1_Segmt</th>\n",
       "      <th>Leg2</th>\n",
       "      <th>Leg2_Segmt</th>\n",
       "      <th>t_statistic</th>\n",
       "      <th>p_value</th>\n",
       "      <th>zero_cross</th>\n",
       "      <th>half_life</th>\n",
       "      <th>hurst_exponent</th>\n",
       "      <th>positive_trades</th>\n",
       "      <th>negative_trades</th>\n",
       "      <th>sharpe_result</th>\n",
       "      <th>positive_trades_per_pair_pct</th>\n",
       "    </tr>\n",
       "  </thead>\n",
       "  <tbody>\n",
       "    <tr>\n",
       "      <th>0</th>\n",
       "      <td>FUD</td>\n",
       "      <td>Commodities: Agriculture</td>\n",
       "      <td>GRU</td>\n",
       "      <td>Commodities: Agriculture Grains</td>\n",
       "      <td>-3.462353</td>\n",
       "      <td>0.009008</td>\n",
       "      <td>81</td>\n",
       "      <td>42</td>\n",
       "      <td>0.366386</td>\n",
       "      <td>739</td>\n",
       "      <td>189</td>\n",
       "      <td>11.2399</td>\n",
       "      <td>79.633621</td>\n",
       "    </tr>\n",
       "  </tbody>\n",
       "</table>\n",
       "</div>"
      ],
      "text/plain": [
       "  Leg1                Leg1_Segmt Leg2                       Leg2_Segmt  \\\n",
       "0  FUD  Commodities: Agriculture  GRU  Commodities: Agriculture Grains   \n",
       "\n",
       "   t_statistic   p_value  zero_cross  half_life  hurst_exponent  \\\n",
       "0    -3.462353  0.009008          81         42        0.366386   \n",
       "\n",
       "   positive_trades  negative_trades  sharpe_result  \\\n",
       "0              739              189        11.2399   \n",
       "\n",
       "   positive_trades_per_pair_pct  \n",
       "0                     79.633621  "
      ]
     },
     "execution_count": 332,
     "metadata": {},
     "output_type": "execute_result"
    }
   ],
   "source": [
    "pairs_summary_training.head(1)"
   ]
  },
  {
   "cell_type": "code",
   "execution_count": 333,
   "metadata": {},
   "outputs": [
    {
     "ename": "IndexError",
     "evalue": "list index out of range",
     "output_type": "error",
     "traceback": [
      "\u001b[0;31m---------------------------------------------------------------------------\u001b[0m",
      "\u001b[0;31mIndexError\u001b[0m                                Traceback (most recent call last)",
      "\u001b[0;32m<ipython-input-333-6f4aad436a66>\u001b[0m in \u001b[0;36m<module>\u001b[0;34m()\u001b[0m\n\u001b[0;32m----> 1\u001b[0;31m \u001b[0mprint\u001b[0m\u001b[0;34m(\u001b[0m\u001b[0mlen\u001b[0m\u001b[0;34m(\u001b[0m\u001b[0mperformance_kalman\u001b[0m\u001b[0;34m[\u001b[0m\u001b[0;36m38\u001b[0m\u001b[0;34m]\u001b[0m\u001b[0;34m[\u001b[0m\u001b[0;36m1\u001b[0m\u001b[0;34m]\u001b[0m\u001b[0;34m[\u001b[0m\u001b[0mperformance_kalman\u001b[0m\u001b[0;34m[\u001b[0m\u001b[0;36m38\u001b[0m\u001b[0;34m]\u001b[0m\u001b[0;34m[\u001b[0m\u001b[0;36m1\u001b[0m\u001b[0;34m]\u001b[0m\u001b[0;34m.\u001b[0m\u001b[0mcurrent_position\u001b[0m\u001b[0;34m!=\u001b[0m\u001b[0;36m0\u001b[0m\u001b[0;34m]\u001b[0m\u001b[0;34m)\u001b[0m\u001b[0;34m/\u001b[0m\u001b[0mlen\u001b[0m\u001b[0;34m(\u001b[0m\u001b[0mperformance_kalman\u001b[0m\u001b[0;34m[\u001b[0m\u001b[0;36m38\u001b[0m\u001b[0;34m]\u001b[0m\u001b[0;34m[\u001b[0m\u001b[0;36m1\u001b[0m\u001b[0;34m]\u001b[0m\u001b[0;34m)\u001b[0m\u001b[0;34m)\u001b[0m\u001b[0;34m\u001b[0m\u001b[0m\n\u001b[0m\u001b[1;32m      2\u001b[0m \u001b[0mprint\u001b[0m\u001b[0;34m(\u001b[0m\u001b[0mlen\u001b[0m\u001b[0;34m(\u001b[0m\u001b[0mperformance_kalman\u001b[0m\u001b[0;34m[\u001b[0m\u001b[0;36m38\u001b[0m\u001b[0;34m]\u001b[0m\u001b[0;34m[\u001b[0m\u001b[0;36m1\u001b[0m\u001b[0;34m]\u001b[0m\u001b[0;34m[\u001b[0m\u001b[0mperformance_kalman\u001b[0m\u001b[0;34m[\u001b[0m\u001b[0;36m38\u001b[0m\u001b[0;34m]\u001b[0m\u001b[0;34m[\u001b[0m\u001b[0;36m1\u001b[0m\u001b[0;34m]\u001b[0m\u001b[0;34m.\u001b[0m\u001b[0mret\u001b[0m \u001b[0;34m<\u001b[0m \u001b[0;36m0\u001b[0m\u001b[0;34m]\u001b[0m\u001b[0;34m)\u001b[0m\u001b[0;34m/\u001b[0m\u001b[0mlen\u001b[0m\u001b[0;34m(\u001b[0m\u001b[0mperformance_kalman\u001b[0m\u001b[0;34m[\u001b[0m\u001b[0;36m38\u001b[0m\u001b[0;34m]\u001b[0m\u001b[0;34m[\u001b[0m\u001b[0;36m1\u001b[0m\u001b[0;34m]\u001b[0m\u001b[0;34m[\u001b[0m\u001b[0mperformance_kalman\u001b[0m\u001b[0;34m[\u001b[0m\u001b[0;36m38\u001b[0m\u001b[0;34m]\u001b[0m\u001b[0;34m[\u001b[0m\u001b[0;36m1\u001b[0m\u001b[0;34m]\u001b[0m\u001b[0;34m.\u001b[0m\u001b[0mret\u001b[0m \u001b[0;34m!=\u001b[0m \u001b[0;36m0\u001b[0m\u001b[0;34m]\u001b[0m\u001b[0;34m)\u001b[0m\u001b[0;34m)\u001b[0m\u001b[0;34m\u001b[0m\u001b[0m\n\u001b[1;32m      3\u001b[0m \u001b[0mperformance_kalman\u001b[0m\u001b[0;34m[\u001b[0m\u001b[0;36m38\u001b[0m\u001b[0;34m]\u001b[0m\u001b[0;34m[\u001b[0m\u001b[0;36m1\u001b[0m\u001b[0;34m]\u001b[0m\u001b[0;34m[\u001b[0m\u001b[0mperformance_kalman\u001b[0m\u001b[0;34m[\u001b[0m\u001b[0;36m38\u001b[0m\u001b[0;34m]\u001b[0m\u001b[0;34m[\u001b[0m\u001b[0;36m1\u001b[0m\u001b[0;34m]\u001b[0m\u001b[0;34m.\u001b[0m\u001b[0mret\u001b[0m \u001b[0;34m!=\u001b[0m \u001b[0;36m0\u001b[0m\u001b[0;34m]\u001b[0m\u001b[0;34m.\u001b[0m\u001b[0mret\u001b[0m\u001b[0;34m.\u001b[0m\u001b[0mhist\u001b[0m\u001b[0;34m(\u001b[0m\u001b[0mbins\u001b[0m\u001b[0;34m=\u001b[0m\u001b[0;36m10\u001b[0m\u001b[0;34m)\u001b[0m\u001b[0;34m\u001b[0m\u001b[0m\n",
      "\u001b[0;31mIndexError\u001b[0m: list index out of range"
     ]
    }
   ],
   "source": [
    "print(len(performance_kalman[38][1][performance_kalman[38][1].current_position!=0])/len(performance_kalman[38][1]))\n",
    "print(len(performance_kalman[38][1][performance_kalman[38][1].ret < 0])/len(performance_kalman[38][1][performance_kalman[38][1].ret != 0]))\n",
    "performance_kalman[38][1][performance_kalman[38][1].ret != 0].ret.hist(bins=10)"
   ]
  },
  {
   "cell_type": "markdown",
   "metadata": {},
   "source": [
    "## Some remarks\n",
    "\n",
    "- From the analysis above, the Kalman filter method obtains the best performance, with an average Sharpe Ratio larger than 1.\n",
    "- We should compare this approach with a *compare all against all* approach, to see by which factor our results are improved due to the clustering technique."
   ]
  },
  {
   "cell_type": "markdown",
   "metadata": {},
   "source": [
    "# Out of Sample Analysis\n",
    "\n",
    "In this section, we analyze the performance of the strategy in the validation dataset. \n",
    "\n",
    "We proceed with some data exploration analysis. For this purpose we will do the following:\n",
    "\n",
    "- Analyze which percentage of the identified pairs are still cointegrated in the validation period.\n",
    "- Analyze which percentage of pairs have positive returns, and how many of those are still cointegrated.\n",
    "- Analyze how many new pais were not identified to be cointegrated up to the validation period.\n",
    "- Run strategy for identified pairs in training period.\n",
    "\n",
    "This analysis will help us getting some insight into how the cointegrated pairs vary from time to time, and therefore how we should allocate our resources to predict when pairs are not cointegrated anymore."
   ]
  },
  {
   "cell_type": "markdown",
   "metadata": {},
   "source": [
    "## Applying the Strategy out-of Sample\n",
    "\n",
    "We might want to apply the strategy in all pairs identified. Or, instead, we might prefer to apply the strategy only on those pairs that turned out to be profitable. Let's compare how both approaches work:"
   ]
  },
  {
   "cell_type": "code",
   "execution_count": 525,
   "metadata": {},
   "outputs": [
    {
     "data": {
      "text/plain": [
       "1"
      ]
     },
     "execution_count": 525,
     "metadata": {},
     "output_type": "execute_result"
    }
   ],
   "source": [
    "# intraday\n",
    "n_years_test = round(len(df_prices_test)/(240*78))\n",
    "\n",
    "# interday\n",
    "n_years_test = round(len(df_prices_test)/(240))\n",
    "\n",
    "n_years_test"
   ]
  },
  {
   "cell_type": "markdown",
   "metadata": {},
   "source": [
    "### Approach 1: Keeping every pair"
   ]
  },
  {
   "cell_type": "markdown",
   "metadata": {},
   "source": [
    "**Bollinger Bands Out-of-Sample**"
   ]
  },
  {
   "cell_type": "code",
   "execution_count": 526,
   "metadata": {},
   "outputs": [
    {
     "name": "stdout",
     "output_type": "stream",
     "text": [
      "\n",
      "1/15\n",
      "\n",
      "2/15\n",
      "\n",
      "3/15\n",
      "\n",
      "4/15\n",
      "\n",
      "5/15\n",
      "\n",
      "6/15\n",
      "\n",
      "7/15\n",
      "\n",
      "8/15\n",
      "\n",
      "9/15\n",
      "\n",
      "10/15\n",
      "\n",
      "11/15\n",
      "\n",
      "12/15\n",
      "\n",
      "13/15\n",
      "\n",
      "14/15\n",
      "\n",
      "15/15\n"
     ]
    }
   ],
   "source": [
    "sharpe_results_bollinger_test, cum_returns_bollinger_test, performance_bollinger_test =\\\n",
    "                                    trader.apply_bollinger_strategy(pairs,\n",
    "                                                                    lookback_multiplier,\n",
    "                                                                    entry_multiplier,\n",
    "                                                                    exit_multiplier,\n",
    "                                                                    trading_filter,\n",
    "                                                                    test_mode = True\n",
    "                                                                    )"
   ]
  },
  {
   "cell_type": "code",
   "execution_count": 527,
   "metadata": {},
   "outputs": [
    {
     "name": "stdout",
     "output_type": "stream",
     "text": [
      "Average result:  0.15976420844957712\n",
      "avg_annual_roi:  2.699297398707756\n",
      "60.0 % of the pairs had positive returns\n"
     ]
    }
   ],
   "source": [
    "avg_sharpe_bollinger_test, total_roi_bollinger_test, anual_roi_bollinger_test, positive_pct_bollinger_test = \\\n",
    "    trader.calculate_metrics(sharpe_results_bollinger_test, cum_returns_bollinger_test, n_years_test)"
   ]
  },
  {
   "cell_type": "markdown",
   "metadata": {},
   "source": [
    "**Kalman Out-of-Sample**"
   ]
  },
  {
   "cell_type": "code",
   "execution_count": 528,
   "metadata": {},
   "outputs": [
    {
     "name": "stdout",
     "output_type": "stream",
     "text": [
      "Pair: 1/15\n",
      "Pair: 2/15\n",
      "Pair: 3/15\n",
      "Pair: 4/15\n",
      "Pair: 5/15\n",
      "Pair: 6/15\n",
      "Pair: 7/15\n",
      "Pair: 8/15\n",
      "Pair: 9/15\n",
      "Pair: 10/15\n",
      "Pair: 11/15\n",
      "Pair: 12/15\n",
      "Pair: 13/15\n",
      "Pair: 14/15\n",
      "Pair: 15/15\n"
     ]
    }
   ],
   "source": [
    "sharpe_results_kalman_test, cum_returns_kalman_test, performance_kalman_test = trader.apply_kalman_strategy(pairs, \n",
    "                                                                                             entry_multiplier,\n",
    "                                                                                             exit_multiplier,\n",
    "                                                                                             trading_filter,\n",
    "                                                                                             test_mode=True)"
   ]
  },
  {
   "cell_type": "code",
   "execution_count": 529,
   "metadata": {},
   "outputs": [
    {
     "name": "stdout",
     "output_type": "stream",
     "text": [
      "Average result:  0.5333939384918506\n",
      "avg_annual_roi:  25.639191195986943\n",
      "73.33333333333333 % of the pairs had positive returns\n"
     ]
    }
   ],
   "source": [
    "avg_sharpe_kalman_test, total_roi_kalman_test, anual_roi_kalman_test, positive_pct_kalman_test = \\\n",
    "        trader.calculate_metrics(sharpe_results_kalman_test, cum_returns_kalman_test, n_years_test)"
   ]
  },
  {
   "cell_type": "code",
   "execution_count": 530,
   "metadata": {},
   "outputs": [
    {
     "name": "stdout",
     "output_type": "stream",
     "text": [
      "Average result:  0.5333939384918506\n",
      "avg_annual_roi:  25.639191195986943\n",
      "73.33333333333333 % of the pairs had positive returns\n"
     ]
    }
   ],
   "source": [
    "avg_sharpe_kalman_test, total_roi_kalman_test, anual_roi_kalman_test, positive_pct_kalman_test = \\\n",
    "        trader.calculate_metrics(sharpe_results_kalman_test, cum_returns_kalman_test, n_years_test)"
   ]
  },
  {
   "cell_type": "markdown",
   "metadata": {},
   "source": [
    "### Approach 2: Keeping only pairs that had positive returns in the training period"
   ]
  },
  {
   "cell_type": "markdown",
   "metadata": {},
   "source": [
    "**Bollinger Strategy**"
   ]
  },
  {
   "cell_type": "code",
   "execution_count": 644,
   "metadata": {},
   "outputs": [],
   "source": [
    "sharpe_results_bollinger = np.asarray(sharpe_results_bollinger)\n",
    "profitable_pairs_indices = np.argwhere(sharpe_results_bollinger > 0)\n",
    "profitable_pairs = [pairs[i] for i in profitable_pairs_indices.flatten()]"
   ]
  },
  {
   "cell_type": "code",
   "execution_count": 645,
   "metadata": {},
   "outputs": [
    {
     "name": "stdout",
     "output_type": "stream",
     "text": [
      "\n",
      "1/7\n",
      "\n",
      "2/7\n",
      "\n",
      "3/7\n",
      "\n",
      "4/7\n",
      "\n",
      "5/7\n",
      "\n",
      "6/7\n",
      "\n",
      "7/7\n"
     ]
    }
   ],
   "source": [
    "sharpe_results_bollinger_test, cum_returns_bollinger_test, performance_bollinger_test =\\\n",
    "                                    trader.apply_bollinger_strategy(profitable_pairs,\n",
    "                                                                    lookback_multiplier,\n",
    "                                                                    entry_multiplier,\n",
    "                                                                    exit_multiplier,\n",
    "                                                                    trading_filter,\n",
    "                                                                    test_mode = True)"
   ]
  },
  {
   "cell_type": "code",
   "execution_count": 646,
   "metadata": {},
   "outputs": [
    {
     "name": "stdout",
     "output_type": "stream",
     "text": [
      "Average result:  -0.2956660212614556\n",
      "avg_annual_roi:  -7.132137022042762\n",
      "28.571428571428573 % of the pairs had positive returns\n"
     ]
    }
   ],
   "source": [
    "avg_sharpe_bollinger_test, total_roi_bollinger_test, anual_roi_bollinger_test, positive_pct_bollinger_test = \\\n",
    "    trader.calculate_metrics(sharpe_results_bollinger_test, cum_returns_bollinger_test, n_years_test)"
   ]
  },
  {
   "cell_type": "markdown",
   "metadata": {},
   "source": [
    "**Kalman Strategy**"
   ]
  },
  {
   "cell_type": "code",
   "execution_count": 534,
   "metadata": {},
   "outputs": [],
   "source": [
    "sharpe_results_kalman = np.asarray(sharpe_results_kalman)\n",
    "profitable_pairs_indices = np.argwhere(sharpe_results_kalman > 0)\n",
    "profitable_pairs = [pairs[i] for i in profitable_pairs_indices.flatten()]"
   ]
  },
  {
   "cell_type": "code",
   "execution_count": 640,
   "metadata": {},
   "outputs": [
    {
     "name": "stdout",
     "output_type": "stream",
     "text": [
      "Pair: 1/10\n",
      "Pair: 2/10\n",
      "Pair: 3/10\n",
      "Pair: 4/10\n",
      "Pair: 5/10\n",
      "Pair: 6/10\n",
      "Pair: 7/10\n",
      "Pair: 8/10\n",
      "Pair: 9/10\n",
      "Pair: 10/10\n"
     ]
    }
   ],
   "source": [
    "results_without_costs, results_with_costs, performance_kalman_test = trader.apply_kalman_strategy(\\\n",
    "                                                                                             profitable_pairs, \n",
    "                                                                                             2,#entry_multiplier,\n",
    "                                                                                             0.5,#exit_multiplier,\n",
    "                                                                                             trading_filter,\n",
    "                                                                                             test_mode=True)"
   ]
  },
  {
   "cell_type": "code",
   "execution_count": 641,
   "metadata": {},
   "outputs": [],
   "source": [
    "sharpe_results_kalman_test_nocosts, cum_returns_kalman_test_nocosts = results_without_costs\n",
    "sharpe_results_kalman_test_w_costs, cum_returns_kalman_test_w_costs = results_with_costs"
   ]
  },
  {
   "cell_type": "markdown",
   "metadata": {},
   "source": [
    "No costs:"
   ]
  },
  {
   "cell_type": "code",
   "execution_count": 642,
   "metadata": {},
   "outputs": [
    {
     "name": "stdout",
     "output_type": "stream",
     "text": [
      "Average result:  0.40415783134156924\n",
      "avg_annual_roi:  16.19601495663938\n",
      "66.66666666666667 % of the pairs had positive returns\n"
     ]
    }
   ],
   "source": [
    "avg_sharpe_kalman_test, total_roi_kalman_test, anual_roi_kalman_test, positive_pct_kalman_test = \\\n",
    "    trader.calculate_metrics(sharpe_results_kalman_test_nocosts, cum_returns_kalman_test_nocosts, n_years_test)"
   ]
  },
  {
   "cell_type": "markdown",
   "metadata": {},
   "source": [
    "With costs:"
   ]
  },
  {
   "cell_type": "code",
   "execution_count": 643,
   "metadata": {},
   "outputs": [
    {
     "name": "stdout",
     "output_type": "stream",
     "text": [
      "Average result:  0.40415783134156924\n",
      "avg_annual_roi:  -15.191647951726795\n",
      "66.66666666666667 % of the pairs had positive returns\n"
     ]
    }
   ],
   "source": [
    "# WARNING: MSUT CHANGE SHARPE RATIO\n",
    "sharpe_results_kalman_test_w_costs = sharpe_results_kalman_test_nocosts\n",
    "avg_sharpe_kalman_test, total_roi_kalman_test, anual_roi_kalman_test, positive_pct_kalman_test = \\\n",
    "    trader.calculate_metrics(sharpe_results_kalman_test_w_costs, cum_returns_kalman_test_w_costs, n_years_test)"
   ]
  },
  {
   "cell_type": "markdown",
   "metadata": {},
   "source": [
    "We can conclude that the 2nd approach presents better results. From now on, we assume the 2nd approach was taken."
   ]
  },
  {
   "cell_type": "markdown",
   "metadata": {},
   "source": [
    "# Validate the results\n",
    "\n",
    "The results obtained are suspiciously high. We pretend to look deeper into the numbers."
   ]
  },
  {
   "cell_type": "code",
   "execution_count": 541,
   "metadata": {},
   "outputs": [
    {
     "name": "stdout",
     "output_type": "stream",
     "text": [
      "Average result:  0.5900047147745416\n",
      "avg_annual_roi:  9.477075939752066\n",
      "80.0 % of the pairs had positive returns\n"
     ]
    }
   ],
   "source": [
    "with open(config['dataset']['ticker_segment_dict'], 'rb') as handle:\n",
    "    ticker_segment_dict = pickle.load(handle)\n",
    "results, pairs_summary = trader.summarize_results(sharpe_results_kalman_test, cum_returns_kalman_test,\n",
    "                                                  performance_kalman_test, profitable_pairs, ticker_segment_dict,\n",
    "                                                  n_years_test)"
   ]
  },
  {
   "cell_type": "code",
   "execution_count": 542,
   "metadata": {
    "scrolled": false
   },
   "outputs": [
    {
     "data": {
      "text/html": [
       "<div>\n",
       "<style scoped>\n",
       "    .dataframe tbody tr th:only-of-type {\n",
       "        vertical-align: middle;\n",
       "    }\n",
       "\n",
       "    .dataframe tbody tr th {\n",
       "        vertical-align: top;\n",
       "    }\n",
       "\n",
       "    .dataframe thead th {\n",
       "        text-align: right;\n",
       "    }\n",
       "</style>\n",
       "<table border=\"1\" class=\"dataframe\">\n",
       "  <thead>\n",
       "    <tr style=\"text-align: right;\">\n",
       "      <th></th>\n",
       "      <th>Leg1</th>\n",
       "      <th>Leg1_Segmt</th>\n",
       "      <th>Leg2</th>\n",
       "      <th>Leg2_Segmt</th>\n",
       "      <th>t_statistic</th>\n",
       "      <th>p_value</th>\n",
       "      <th>zero_cross</th>\n",
       "      <th>half_life</th>\n",
       "      <th>hurst_exponent</th>\n",
       "      <th>positive_trades</th>\n",
       "      <th>negative_trades</th>\n",
       "      <th>sharpe_result</th>\n",
       "      <th>positive_trades_per_pair_pct</th>\n",
       "    </tr>\n",
       "  </thead>\n",
       "  <tbody>\n",
       "    <tr>\n",
       "      <th>0</th>\n",
       "      <td>DBE</td>\n",
       "      <td>Commodities: Energy</td>\n",
       "      <td>FCG</td>\n",
       "      <td>Equity: U.S. Natural Gas</td>\n",
       "      <td>-3.736397</td>\n",
       "      <td>0.003629</td>\n",
       "      <td>104</td>\n",
       "      <td>46</td>\n",
       "      <td>0.337332</td>\n",
       "      <td>38</td>\n",
       "      <td>19</td>\n",
       "      <td>1.553700</td>\n",
       "      <td>66.666667</td>\n",
       "    </tr>\n",
       "    <tr>\n",
       "      <th>1</th>\n",
       "      <td>DBO</td>\n",
       "      <td>Commodities: Energy Crude Oil</td>\n",
       "      <td>FCG</td>\n",
       "      <td>Equity: U.S. Natural Gas</td>\n",
       "      <td>-3.971335</td>\n",
       "      <td>0.001568</td>\n",
       "      <td>126</td>\n",
       "      <td>50</td>\n",
       "      <td>0.376579</td>\n",
       "      <td>62</td>\n",
       "      <td>36</td>\n",
       "      <td>1.308403</td>\n",
       "      <td>63.265306</td>\n",
       "    </tr>\n",
       "    <tr>\n",
       "      <th>2</th>\n",
       "      <td>DGP</td>\n",
       "      <td>Leveraged Commodities: Precious Metals Gold</td>\n",
       "      <td>UGL</td>\n",
       "      <td>Leveraged Commodities: Precious Metals Gold</td>\n",
       "      <td>-3.460391</td>\n",
       "      <td>0.009065</td>\n",
       "      <td>207</td>\n",
       "      <td>21</td>\n",
       "      <td>0.318123</td>\n",
       "      <td>2</td>\n",
       "      <td>0</td>\n",
       "      <td>1.012711</td>\n",
       "      <td>100.000000</td>\n",
       "    </tr>\n",
       "    <tr>\n",
       "      <th>3</th>\n",
       "      <td>SCO</td>\n",
       "      <td>Inverse Commodities: Energy Crude Oil</td>\n",
       "      <td>XES</td>\n",
       "      <td>Equity: U.S. Oil &amp; Gas Equipment &amp; Services</td>\n",
       "      <td>-4.068680</td>\n",
       "      <td>0.001091</td>\n",
       "      <td>97</td>\n",
       "      <td>53</td>\n",
       "      <td>0.368903</td>\n",
       "      <td>85</td>\n",
       "      <td>33</td>\n",
       "      <td>0.743299</td>\n",
       "      <td>72.033898</td>\n",
       "    </tr>\n",
       "    <tr>\n",
       "      <th>4</th>\n",
       "      <td>ERY</td>\n",
       "      <td>Inverse Equity: U.S. Energy</td>\n",
       "      <td>UNG</td>\n",
       "      <td>Commodities: Energy Natural Gas</td>\n",
       "      <td>-4.388749</td>\n",
       "      <td>0.000311</td>\n",
       "      <td>79</td>\n",
       "      <td>18</td>\n",
       "      <td>0.177057</td>\n",
       "      <td>77</td>\n",
       "      <td>39</td>\n",
       "      <td>0.667831</td>\n",
       "      <td>66.379310</td>\n",
       "    </tr>\n",
       "  </tbody>\n",
       "</table>\n",
       "</div>"
      ],
      "text/plain": [
       "  Leg1                                   Leg1_Segmt Leg2  \\\n",
       "0  DBE                          Commodities: Energy  FCG   \n",
       "1  DBO                Commodities: Energy Crude Oil  FCG   \n",
       "2  DGP  Leveraged Commodities: Precious Metals Gold  UGL   \n",
       "3  SCO        Inverse Commodities: Energy Crude Oil  XES   \n",
       "4  ERY                  Inverse Equity: U.S. Energy  UNG   \n",
       "\n",
       "                                    Leg2_Segmt  t_statistic   p_value  \\\n",
       "0                     Equity: U.S. Natural Gas    -3.736397  0.003629   \n",
       "1                     Equity: U.S. Natural Gas    -3.971335  0.001568   \n",
       "2  Leveraged Commodities: Precious Metals Gold    -3.460391  0.009065   \n",
       "3  Equity: U.S. Oil & Gas Equipment & Services    -4.068680  0.001091   \n",
       "4              Commodities: Energy Natural Gas    -4.388749  0.000311   \n",
       "\n",
       "   zero_cross  half_life  hurst_exponent  positive_trades  negative_trades  \\\n",
       "0         104         46        0.337332               38               19   \n",
       "1         126         50        0.376579               62               36   \n",
       "2         207         21        0.318123                2                0   \n",
       "3          97         53        0.368903               85               33   \n",
       "4          79         18        0.177057               77               39   \n",
       "\n",
       "   sharpe_result  positive_trades_per_pair_pct  \n",
       "0       1.553700                     66.666667  \n",
       "1       1.308403                     63.265306  \n",
       "2       1.012711                    100.000000  \n",
       "3       0.743299                     72.033898  \n",
       "4       0.667831                     66.379310  "
      ]
     },
     "execution_count": 542,
     "metadata": {},
     "output_type": "execute_result"
    }
   ],
   "source": [
    "pairs_summary.head()"
   ]
  },
  {
   "cell_type": "code",
   "execution_count": 543,
   "metadata": {},
   "outputs": [],
   "source": [
    "adapted_cum_ret_total = []\n",
    "for index in range(len(profitable_pairs)):\n",
    "    _, adapted_cum_ret = trader.calculate_returns_adapted(\n",
    "                                        y=performance_kalman_test[index][0][2]['Y_test'],\n",
    "                                        x=performance_kalman_test[index][0][2]['X_test'],\n",
    "                                        beta=performance_kalman_test[index][1]['beta'],\n",
    "                                        positions=performance_kalman_test[index][1]['current_position'])\n",
    "    adapted_cum_ret_total.append(adapted_cum_ret[-1]*100)"
   ]
  },
  {
   "cell_type": "code",
   "execution_count": 544,
   "metadata": {},
   "outputs": [
    {
     "data": {
      "text/plain": [
       "[26.78087223884433,\n",
       " 23.67071735292523,\n",
       " -37.86917054363676,\n",
       " 25.208069069314078,\n",
       " 7.082430789478145,\n",
       " -8.538441439134715,\n",
       " 13.489456493942109,\n",
       " 31.483756097006086,\n",
       " 9.448324937159903,\n",
       " 4.0147444016223055]"
      ]
     },
     "execution_count": 544,
     "metadata": {},
     "output_type": "execute_result"
    }
   ],
   "source": [
    "adapted_cum_ret_total"
   ]
  },
  {
   "cell_type": "code",
   "execution_count": 422,
   "metadata": {},
   "outputs": [
    {
     "data": {
      "text/plain": [
       "<matplotlib.axes._subplots.AxesSubplot at 0x12b139160>"
      ]
     },
     "execution_count": 422,
     "metadata": {},
     "output_type": "execute_result"
    },
    {
     "data": {
      "image/png": "[encoded data removed]",
      "text/plain": [
       "<matplotlib.figure.Figure at 0x1145e3d30>"
      ]
     },
     "metadata": {},
     "output_type": "display_data"
    }
   ],
   "source": [
    "pd.Series(adapted_cum_ret_total).hist()"
   ]
  },
  {
   "cell_type": "markdown",
   "metadata": {},
   "source": [
    "**Transaction costs**"
   ]
  },
  {
   "cell_type": "code",
   "execution_count": 628,
   "metadata": {},
   "outputs": [
    {
     "data": {
      "text/html": [
       "<div>\n",
       "<style scoped>\n",
       "    .dataframe tbody tr th:only-of-type {\n",
       "        vertical-align: middle;\n",
       "    }\n",
       "\n",
       "    .dataframe tbody tr th {\n",
       "        vertical-align: top;\n",
       "    }\n",
       "\n",
       "    .dataframe thead th {\n",
       "        text-align: right;\n",
       "    }\n",
       "</style>\n",
       "<table border=\"1\" class=\"dataframe\">\n",
       "  <thead>\n",
       "    <tr style=\"text-align: right;\">\n",
       "      <th></th>\n",
       "      <th>ret</th>\n",
       "      <th>DBE</th>\n",
       "      <th>FCG</th>\n",
       "      <th>beta</th>\n",
       "      <th>e</th>\n",
       "      <th>sqrt(Q)</th>\n",
       "      <th>position_during_day</th>\n",
       "      <th>position_return</th>\n",
       "      <th>trade_duration</th>\n",
       "      <th>position_ret_with_costs</th>\n",
       "    </tr>\n",
       "  </thead>\n",
       "  <tbody>\n",
       "    <tr>\n",
       "      <th>2018-01-02</th>\n",
       "      <td>0.0</td>\n",
       "      <td>14.315136</td>\n",
       "      <td>22.860434</td>\n",
       "      <td>0.000000</td>\n",
       "      <td>14.315136</td>\n",
       "      <td>0.031623</td>\n",
       "      <td>0.0</td>\n",
       "      <td>0.0</td>\n",
       "      <td>0</td>\n",
       "      <td>0.0</td>\n",
       "    </tr>\n",
       "    <tr>\n",
       "      <th>2018-01-03</th>\n",
       "      <td>0.0</td>\n",
       "      <td>14.531436</td>\n",
       "      <td>23.114439</td>\n",
       "      <td>0.615992</td>\n",
       "      <td>14.531436</td>\n",
       "      <td>0.233523</td>\n",
       "      <td>0.0</td>\n",
       "      <td>0.0</td>\n",
       "      <td>0</td>\n",
       "      <td>0.0</td>\n",
       "    </tr>\n",
       "    <tr>\n",
       "      <th>2018-01-04</th>\n",
       "      <td>-0.0</td>\n",
       "      <td>14.511772</td>\n",
       "      <td>23.260980</td>\n",
       "      <td>0.622590</td>\n",
       "      <td>0.156538</td>\n",
       "      <td>0.237080</td>\n",
       "      <td>0.0</td>\n",
       "      <td>0.0</td>\n",
       "      <td>0</td>\n",
       "      <td>0.0</td>\n",
       "    </tr>\n",
       "    <tr>\n",
       "      <th>2018-01-05</th>\n",
       "      <td>0.0</td>\n",
       "      <td>14.462613</td>\n",
       "      <td>23.026514</td>\n",
       "      <td>0.626829</td>\n",
       "      <td>0.099602</td>\n",
       "      <td>0.234712</td>\n",
       "      <td>0.0</td>\n",
       "      <td>0.0</td>\n",
       "      <td>0</td>\n",
       "      <td>0.0</td>\n",
       "    </tr>\n",
       "    <tr>\n",
       "      <th>2018-01-08</th>\n",
       "      <td>-0.0</td>\n",
       "      <td>14.492109</td>\n",
       "      <td>23.192594</td>\n",
       "      <td>0.623752</td>\n",
       "      <td>-0.072800</td>\n",
       "      <td>0.236413</td>\n",
       "      <td>0.0</td>\n",
       "      <td>0.0</td>\n",
       "      <td>0</td>\n",
       "      <td>0.0</td>\n",
       "    </tr>\n",
       "  </tbody>\n",
       "</table>\n",
       "</div>"
      ],
      "text/plain": [
       "            ret        DBE        FCG      beta          e   sqrt(Q)  \\\n",
       "2018-01-02  0.0  14.315136  22.860434  0.000000  14.315136  0.031623   \n",
       "2018-01-03  0.0  14.531436  23.114439  0.615992  14.531436  0.233523   \n",
       "2018-01-04 -0.0  14.511772  23.260980  0.622590   0.156538  0.237080   \n",
       "2018-01-05  0.0  14.462613  23.026514  0.626829   0.099602  0.234712   \n",
       "2018-01-08 -0.0  14.492109  23.192594  0.623752  -0.072800  0.236413   \n",
       "\n",
       "            position_during_day  position_return  trade_duration  \\\n",
       "2018-01-02                  0.0              0.0               0   \n",
       "2018-01-03                  0.0              0.0               0   \n",
       "2018-01-04                  0.0              0.0               0   \n",
       "2018-01-05                  0.0              0.0               0   \n",
       "2018-01-08                  0.0              0.0               0   \n",
       "\n",
       "            position_ret_with_costs  \n",
       "2018-01-02                      0.0  \n",
       "2018-01-03                      0.0  \n",
       "2018-01-04                      0.0  \n",
       "2018-01-05                      0.0  \n",
       "2018-01-08                      0.0  "
      ]
     },
     "execution_count": 628,
     "metadata": {},
     "output_type": "execute_result"
    }
   ],
   "source": [
    "performance_kalman_test[0][1].head()#[performance_kalman_test[0][1].position_ret_with_costs!=0]"
   ]
  },
  {
   "cell_type": "code",
   "execution_count": null,
   "metadata": {},
   "outputs": [],
   "source": [
    "index = 3\n",
    "performance_bollinger_test[index][1]['2018-02-28':].head()#[performance_kalman_test[index][1].ret != 0]\n",
    "#(np.cumprod(1 + performance_bollinger_test[index][1].ret) - 1).iloc[-1] * 100"
   ]
  },
  {
   "cell_type": "code",
   "execution_count": null,
   "metadata": {},
   "outputs": [],
   "source": [
    "X_ex = pd.Series(data=[5,4,3,2,1])\n",
    "Y_ex = pd.Series(data=[1,2,3,4,5])\n",
    "beta_ex = pd.Series(data=[1.1,1.2,1.3,1.4,1.5])\n",
    "positions_ex = pd.Series(data=[0,0,1,1,0])\n",
    "df_ex = pd.concat([X_ex, Y_ex, beta_ex, positions_ex], keys=['X_ex', 'Y_ex', 'beta', 'positions'],axis=1)\n",
    "df_ex"
   ]
  },
  {
   "cell_type": "code",
   "execution_count": null,
   "metadata": {},
   "outputs": [],
   "source": [
    "calculate_returns_adapted(Y_ex, X_ex,beta_ex, positions_ex)"
   ]
  },
  {
   "cell_type": "markdown",
   "metadata": {},
   "source": [
    "**Controlling for range of returns**"
   ]
  },
  {
   "cell_type": "code",
   "execution_count": null,
   "metadata": {},
   "outputs": [],
   "source": [
    "print('Maximum return obtained in a single trade, per pair')\n",
    "for i in range(len(profitable_pairs)):\n",
    "    print(performance_kalman_test[i][1]['position_return_(%)'].max())"
   ]
  },
  {
   "cell_type": "code",
   "execution_count": null,
   "metadata": {},
   "outputs": [],
   "source": [
    "print('Worst return obtained in a single trade, per pair')\n",
    "for i in range(len(profitable_pairs)):\n",
    "    print(performance_kalman_test[i][1]['position_return_(%)'].min())"
   ]
  },
  {
   "cell_type": "markdown",
   "metadata": {},
   "source": [
    "Tanto as returns máximas como as mínimas parecem ter valores dentro da normalidade."
   ]
  },
  {
   "cell_type": "markdown",
   "metadata": {},
   "source": [
    "## Training vs Validation"
   ]
  },
  {
   "cell_type": "markdown",
   "metadata": {},
   "source": [
    "For a far comparison, we should compare the test resuls with the results obtained in the training set, but also using only the profitable pairs:"
   ]
  },
  {
   "cell_type": "code",
   "execution_count": null,
   "metadata": {},
   "outputs": [],
   "source": [
    "entry_multiplier= config['trading']['entry_multiplier']\n",
    "exit_multiplier= config['trading']['exit_multiplier']\n",
    "sharpe_results_kalman, cum_returns_kalman, performance_kalman = trader.apply_kalman_strategy(profitable_pairs, \n",
    "                                                                                             entry_multiplier,\n",
    "                                                                                             exit_multiplier,\n",
    "                                                                                             trading_filter,\n",
    "                                                                                             test_mode=False)\n",
    "avg_sharpe_kalman, total_roi_kalman, anual_roi_kalman, positive_pct_kalman = \\\n",
    "    trader.calculate_metrics(sharpe_results_kalman, cum_returns_kalman, n_years_train)"
   ]
  },
  {
   "cell_type": "code",
   "execution_count": null,
   "metadata": {},
   "outputs": [],
   "source": [
    "print('The sharpe ratio obtained in the training set with the pairs used on the test set is ', avg_sharpe_kalman)\n",
    "print('The sharpe ratio obtained in the test set is ', avg_sharpe_kalman_test)"
   ]
  },
  {
   "cell_type": "markdown",
   "metadata": {},
   "source": [
    "As expected, the sharpe ratio is indeed higher in the training set."
   ]
  },
  {
   "cell_type": "code",
   "execution_count": null,
   "metadata": {},
   "outputs": [],
   "source": [
    "len(pairs)"
   ]
  },
  {
   "cell_type": "code",
   "execution_count": null,
   "metadata": {},
   "outputs": [],
   "source": [
    "len(profitable_pairs)"
   ]
  },
  {
   "cell_type": "markdown",
   "metadata": {},
   "source": [
    "## Analyzing Pairs' Overlap"
   ]
  },
  {
   "cell_type": "markdown",
   "metadata": {},
   "source": [
    "There could be two possible interpretations for pairs' overlap.\n",
    "1. We might be interested in checking which of the cointegrated pairs found in the training dataset are also cointegrated in the test set; Furthermore we want to explore how the two types of pairs perform.\n",
    "2. We might be interested in finding if the pairs that would have been found in the test set by performing PCA + clustering would be cointegrated in the training set."
   ]
  },
  {
   "cell_type": "markdown",
   "metadata": {},
   "source": [
    "Starting with **1)**, let's see how many of the identified pairs actually turned out to be cointegrated during this period."
   ]
  },
  {
   "cell_type": "code",
   "execution_count": null,
   "metadata": {},
   "outputs": [],
   "source": [
    "pairs_overlapped, pairs_overlapped_index = series_analyser.pairs_overlap(pairs,\n",
    "                                  config['pair_restrictions']['p_value_threshold'],\n",
    "                                  config['pair_restrictions']['min_zero_crossings'],\n",
    "                                  config['pair_restrictions']['min_half_life'],\n",
    "                                  config['pair_restrictions']['hurst_threshold'])\n",
    "print('{} of the {} pairs identified in the training set are also cointegrated in the test set'.format(\\\n",
    "    len(pairs_overlapped), len(pairs)))"
   ]
  },
  {
   "cell_type": "code",
   "execution_count": null,
   "metadata": {},
   "outputs": [],
   "source": [
    "profitable_pairs_overlapped, profitable_pairs_overlapped_index = series_analyser.pairs_overlap(profitable_pairs,\n",
    "                                  config['pair_restrictions']['p_value_threshold'],\n",
    "                                  config['pair_restrictions']['min_zero_crossings'],\n",
    "                                  config['pair_restrictions']['min_half_life'],\n",
    "                                  config['pair_restrictions']['hurst_threshold'])\n",
    "print('{} of the {} pairs with positive returns identified in the training set are also cointegrated in the test set'.format(\\\n",
    "    len(profitable_pairs_overlapped), len(profitable_pairs)))"
   ]
  },
  {
   "cell_type": "markdown",
   "metadata": {},
   "source": [
    "### Is cointegration really important?\n",
    "\n",
    "To answer this question we will see how many of the still cointegrated pairs had positive and negative returns. We will then do the same for those pairs that were not cointegrated. \n",
    "\n",
    "If both are as likely to have positive and negative returns, then it means cointegration is not as important of a condition. On the other hand, if we verify that all pairs that are still cointegrated turned out to be profitable and those that are not anymore led to consistent negative returns, we can infer that cointegration is a very important predictor of future returns.\n",
    "\n",
    "We also compare the average performance of the two groups two see the relevance of being cointegrated with respect to the sharpe ratio obtained."
   ]
  },
  {
   "cell_type": "markdown",
   "metadata": {},
   "source": [
    "*Still cointegrated*"
   ]
  },
  {
   "cell_type": "code",
   "execution_count": null,
   "metadata": {},
   "outputs": [],
   "source": [
    "# distribution for pairs which were cointegrated in train and test\n",
    "sharpe_results_pairs_overlapped = np.asarray([sharpe_results_kalman_test[index] for index \\\n",
    "                                              in profitable_pairs_overlapped_index])\n",
    "cum_returns_pairs_overlapped = np.asarray([cum_returns_kalman_test[index] for index \\\n",
    "                                              in profitable_pairs_overlapped_index])\n",
    "\n",
    "if len(sharpe_results_pairs_overlapped)>0:\n",
    "    _,_,_,_ = trader.calculate_metrics(sharpe_results_pairs_overlapped, cum_returns_pairs_overlapped,\n",
    "                                   n_years_test)\n",
    "else:\n",
    "    print('0% of the pairs cointegrated in the train are also cointegrated in the test set')"
   ]
  },
  {
   "cell_type": "markdown",
   "metadata": {},
   "source": [
    "*Not cointegrated anymore*"
   ]
  },
  {
   "cell_type": "code",
   "execution_count": null,
   "metadata": {},
   "outputs": [],
   "source": [
    "# distribution for pairs which were cointegrated in train but not in test\n",
    "profitable_pairs_not_overlapped_index = [i for i in np.arange(0,len(profitable_pairs))\\\n",
    "                                         if i not in profitable_pairs_overlapped_index]\n",
    "\n",
    "sharpe_results_pairs_not_overlapped = np.asarray([sharpe_results_kalman_test[index] for index \\\n",
    "                                              in profitable_pairs_not_overlapped_index])\n",
    "\n",
    "cum_returns_pairs_not_overlapped = np.asarray([cum_returns_kalman_test[index] for index \\\n",
    "                                              in profitable_pairs_not_overlapped_index])\n",
    "\n",
    "_,_,_,_ = trader.calculate_metrics(sharpe_results_pairs_not_overlapped, cum_returns_pairs_not_overlapped,\n",
    "                                   n_years_test)"
   ]
  },
  {
   "cell_type": "markdown",
   "metadata": {},
   "source": [
    "Answering to the first question we were concerned with, we verify that a cointegrated pair is indeed more likely to have a positive return. Furthermore, we can conclude from the results that being cointegrated implied that those pairs generated higher returns. \n",
    "\n",
    "**TO REVIEW:Conclusion**: The fact that a pair is not cointegrated anymore does not impact the results obained. In fact, we just concluded that betting solely on the cointegrated pairs would yield a worse result. Therefore, we should not spend much effort in detecting pairs that are no cointegrated anymore."
   ]
  },
  {
   "cell_type": "markdown",
   "metadata": {},
   "source": [
    "Following with point number **2)**, we proceed to analyze the performance of the pairs that woud have been identified in the testing period."
   ]
  },
  {
   "cell_type": "code",
   "execution_count": null,
   "metadata": {},
   "outputs": [],
   "source": [
    "initial_test_date = config['dataset']['testing_initial_date']\n",
    "final_teste_date = config['dataset']['testing_final_date']\n",
    "\n",
    "# Get returns for test period\n",
    "df_returns_test = data_processor.get_return_series(df_prices_test)\n",
    "\n",
    "# APPLY PCA and CLUSTERING\n",
    "range_n_components = config['PCA']['N_COMPONENTS']\n",
    "X_test, clustered_series_all_test, clustered_series_test, counts_test, clf_test = \\\n",
    "            series_analyser.clustering_for_optimal_PCA(range_n_components[0], range_n_components[1],\n",
    "                                                       df_returns_test, config['clustering'])\n",
    "# Find pairs\n",
    "pairs_test, unique_tickers_test = series_analyser.get_candidate_pairs(\\\n",
    "                                            clustered_series=clustered_series_test,\n",
    "                                            pricing_df_train=df_prices_test,\n",
    "                                            pricing_df_test=df_prices_train,\n",
    "                                            min_half_life=config['pair_restrictions']['min_half_life'],\n",
    "                                            min_zero_crosings=config['pair_restrictions']['min_zero_crossings'],\n",
    "                                            p_value_threshold=config['pair_restrictions']['p_value_threshold'],\n",
    "                                            hurst_threshold=config['pair_restrictions']['hurst_threshold']\n",
    "                                            )\n",
    "\n",
    "# Finally, see overlap\n",
    "pairs_overlapped, pairs_overlapped_index = series_analyser.pairs_overlap(pairs_test,\n",
    "                                  config['pair_restrictions']['p_value_threshold'],\n",
    "                                  config['pair_restrictions']['min_zero_crossings'],\n",
    "                                  config['pair_restrictions']['min_half_life'],\n",
    "                                  config['pair_restrictions']['hurst_threshold'])\n",
    "print('{} of the {} pairs identified in the test set are also cointegrated in the training set'.format(\\\n",
    "    len(pairs_overlapped), len(pairs_test)))"
   ]
  },
  {
   "cell_type": "markdown",
   "metadata": {},
   "source": [
    "Let's see if the pairs identified in the test period lead indeed to improved results:"
   ]
  },
  {
   "cell_type": "code",
   "execution_count": null,
   "metadata": {
    "scrolled": true
   },
   "outputs": [],
   "source": [
    "sharpe_results_kalman_test_newpairs, cum_returns_kalman_test_newpairs, performance_kalman_test_newpairs =\\\n",
    "    trader.apply_kalman_strategy(pairs_test, entry_multiplier,exit_multiplier,trading_filter, test_mode=False)\n",
    "\n",
    "_,_,_,_ = trader.calculate_metrics(sharpe_results_kalman_test_newpairs, cum_returns_kalman_test_newpairs,\n",
    "                                   n_years_test)"
   ]
  },
  {
   "cell_type": "markdown",
   "metadata": {},
   "source": [
    "The sharpe ratio is higher in this scenatio. Note hoewever, that the annual ROI is not so high as the pairs identified previously. This might be linked with the fact that these pairs did not prove to be cointegrated for a period as long as the other and therefore the pairs might be less stable."
   ]
  },
  {
   "cell_type": "markdown",
   "metadata": {},
   "source": [
    "## Analyzing the influence of pairs statistics\n",
    "\n",
    "It's interesting to analyze whether we could have used extra information from the pairs trading statistic, instead of considering it just as a pass or not pass test. `Law 2017` explore this concept on their paper (htey basically rank pairs according to a trade off between t-statistic and spread deviation from its mean). However, what we see below is that there is no obvious influence of any parameter in the performance of the corresponding pair."
   ]
  },
  {
   "cell_type": "code",
   "execution_count": null,
   "metadata": {},
   "outputs": [],
   "source": [
    "pairs_summary.corr()[['sharpe_result', 'positive_trades_per_pair_pct']].loc[['t_statistic', 'p_value',\n",
    "                                                                             'zero_cross', 'half_life',\n",
    "                                                                             'hurst_exponent']]"
   ]
  },
  {
   "cell_type": "markdown",
   "metadata": {},
   "source": [
    "### The Correlation Filter\n",
    "\n",
    "The correlation filter aims to track how the correlation between the two legs of tha pair is varing, and provide that information as input to the trading strategy."
   ]
  },
  {
   "cell_type": "code",
   "execution_count": null,
   "metadata": {},
   "outputs": [],
   "source": [
    "example_pair = failed_pairs[2]\n",
    "\n",
    "example_pair_leg1 = example_pair[0][0]\n",
    "example_pair_leg2 = example_pair[0][1]\n",
    "\n",
    "example_pair_prices = etfs_pricing[[example_pair_leg1, example_pair_leg2]]\n",
    "example_pair_prices.plot(figsize=(15,5))\n",
    "\n",
    "\n",
    "# proceed to calculate correlation\n",
    "rolling_window = config['trading']['lookback_multiplier']*example_pair[0][2]['half_life']\n",
    "\n",
    "# get returns\n",
    "example_pair_returns = data_processor.get_return_series(example_pair_prices)\n",
    "\n",
    "# analyze correlation on returns\n",
    "example_correlation = example_pair_returns[example_pair_leg1].rolling(rolling_window).corr(example_pair_returns[example_pair_leg2])\n",
    "\n",
    "# plot correlation of returns\n",
    "diff_example_correlation = example_correlation.diff(periods=1)\n",
    "#diff_example_correlation = diff_example_correlation*10\n",
    "diff_example_correlation.plot()"
   ]
  },
  {
   "cell_type": "markdown",
   "metadata": {},
   "source": [
    "This result indicates there's almost no correlation between correlation diff and returns... Let's see how this result varies on average:"
   ]
  },
  {
   "cell_type": "code",
   "execution_count": null,
   "metadata": {},
   "outputs": [],
   "source": [
    "failure_correlations = []\n",
    "for failure in failed_pairs:\n",
    "    failure_df = failure[1][failure[1].units != 0]\n",
    "    correlation = failure_df['ret'].corr(failure_df['correlation'])\n",
    "    failure_correlations.append(correlation)\n",
    "    \n",
    "print(np.mean(failure_correlations))"
   ]
  },
  {
   "cell_type": "markdown",
   "metadata": {},
   "source": [
    "However, we are not realyy interested in the correlation of the the diff column, but rather on the correlation with its sign."
   ]
  },
  {
   "cell_type": "code",
   "execution_count": null,
   "metadata": {},
   "outputs": [],
   "source": [
    "failure_correlations = []\n",
    "for failure in failed_pairs:\n",
    "    failure_df = failure[1][failure[1].units != 0]\n",
    "    failure_df['diff_correlation_sign']=failure_df['diff_correlation'].apply(lambda row: -1 if row<0 else 1)\n",
    "    correlation = failure_df['ret'].corr(failure_df['diff_correlation_sign'])\n",
    "    failure_correlations.append(correlation)\n",
    "    \n",
    "print(np.mean(failure_correlations))"
   ]
  },
  {
   "cell_type": "markdown",
   "metadata": {},
   "source": [
    "We could use mutual information rather than correlation as the sign is discrete. What about the relation with the zscore evolution?"
   ]
  },
  {
   "cell_type": "markdown",
   "metadata": {},
   "source": [
    "### Analyze non-profitable pairs"
   ]
  },
  {
   "cell_type": "code",
   "execution_count": null,
   "metadata": {},
   "outputs": [],
   "source": [
    "sharpe_results_kalman_test = np.asarray(sharpe_results_kalman_test)\n",
    "negative_pairs_indices = np.argwhere(sharpe_results_kalman_test < 0)\n",
    "print('{} out of {} pairs turned out to be non-profitable'.format(len(negative_pairs_indices), len(pairs)))"
   ]
  },
  {
   "cell_type": "markdown",
   "metadata": {},
   "source": [
    "Let's get some more information on the non-profitable pairs:"
   ]
  },
  {
   "cell_type": "code",
   "execution_count": null,
   "metadata": {},
   "outputs": [],
   "source": [
    "negative_pairs = [pairs[i] for i in negative_pairs_indices.flatten()]\n",
    "negative_pairs = [(item[0], item[1]) for item in negative_pairs]\n",
    "negative_pairs"
   ]
  },
  {
   "cell_type": "markdown",
   "metadata": {},
   "source": [
    "To what clusters do these pairs belong?"
   ]
  },
  {
   "cell_type": "code",
   "execution_count": null,
   "metadata": {},
   "outputs": [],
   "source": [
    "for label_n in range(len(counts)):\n",
    "    elements_cluster_n = list(clustered_series[clustered_series == label_n].index)\n",
    "    etfs_cluster_n = etfs_unique[etfs_unique['Ticker'].isin(elements_cluster_n)]\n",
    "    for pair in negative_pairs:\n",
    "        if pair[0] in list(etfs_cluster_n.Ticker):\n",
    "            print('Pair {} belongs to cluster {}'.format(pair, label_n))"
   ]
  },
  {
   "cell_type": "markdown",
   "metadata": {},
   "source": [
    "How do the statistics rank?"
   ]
  },
  {
   "cell_type": "code",
   "execution_count": null,
   "metadata": {},
   "outputs": [],
   "source": [
    "sorted_indices = np.flip(np.argsort(sharpe_results_bollinger), axis=0)\n",
    "\n",
    "# initialize list of lists \n",
    "data = []\n",
    "for index in sorted_indices:\n",
    "    # get number of positive and negative positions\n",
    "    position_returns = performance_bollinger[index][1].position_return\n",
    "    positive_positions = len(position_returns[position_returns>0])\n",
    "    negative_positions = len(position_returns[position_returns<0])\n",
    "    data.append([pairs[index][0],\n",
    "                 pairs[index][1],\n",
    "                 pairs[index][2]['t_statistic'],\n",
    "                 pairs[index][2]['p_value'],\n",
    "                 pairs[index][2]['zero_cross'],\n",
    "                 pairs[index][2]['half_life'],\n",
    "                 pairs[index][2]['hurst_exponent'],\n",
    "                 positive_positions,\n",
    "                 negative_positions,\n",
    "                 sharpe_results_bollinger[index]\n",
    "                ])\n",
    "      \n",
    "# Create the pandas DataFrame \n",
    "df = pd.DataFrame(data, columns = ['Leg1', 'Leg2', 't_statistic', 'p_value', 'zero_cross',\n",
    "                                   'half_life', 'hurst_exponent', 'positive trades', 'negative_trades',\n",
    "                                   'sharpe_result']) \n",
    "df"
   ]
  },
  {
   "cell_type": "code",
   "execution_count": null,
   "metadata": {},
   "outputs": [],
   "source": [
    "df.half_life.mean()"
   ]
  },
  {
   "cell_type": "code",
   "execution_count": null,
   "metadata": {},
   "outputs": [],
   "source": [
    "# analyze correlations\n",
    "print('Half-life vs Sharpe Ratio correlation: ', df['sharpe_result'].corr(df['half_life']))\n",
    "print('Zero crossings vs Sharpe Ratio correlation: ', df['sharpe_result'].corr(df['zero_cross']))\n",
    "print('p-value vs Sharpe Ratio correlation: ', df['sharpe_result'].corr(df['p_value']))\n",
    "print('t-statistic vs Sharpe Ratio correlation: ', df['sharpe_result'].corr(df['t_statistic']))\n",
    "print('Hurst exponent vs Sharpe Ratio correlation ', df['sharpe_result'].corr(df['hurst_exponent']))"
   ]
  },
  {
   "cell_type": "markdown",
   "metadata": {},
   "source": [
    "Are there any signs these pairs were not profitable as the strategy evolves? Could we have predicted their lack of profitability?\n",
    "- Using a ML algorithm that recognizes when a pair is not profitable anymore.\n",
    "- Checking how the hurst exponent has been changing.\n",
    "- Analyze their previous positions' returns"
   ]
  }
 ],
 "metadata": {
  "kernelspec": {
   "display_name": "Python [conda root]",
   "language": "python",
   "name": "conda-root-py"
  },
  "language_info": {
   "codemirror_mode": {
    "name": "ipython",
    "version": 3
   },
   "file_extension": ".py",
   "mimetype": "text/x-python",
   "name": "python",
   "nbconvert_exporter": "python",
   "pygments_lexer": "ipython3",
   "version": "3.6.0"
  }
 },
 "nbformat": 4,
 "nbformat_minor": 2
}
