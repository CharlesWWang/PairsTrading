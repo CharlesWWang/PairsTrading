{
 "cells": [
  {
   "cell_type": "markdown",
   "metadata": {},
   "source": [
    "# A benchmark Pairs Trading strategy \n",
    "\n",
    "This notebook explores a pairs trading strategy using bollinger bands. This projected is being developed as part of a master thesis for the degree of Electrical and Computer Engineering.\n",
    "\n",
    "**Author:** Simão Moraes Sarmento <br /> \n",
    "**Contact:** simaosarmento@hotmail.com"
   ]
  },
  {
   "cell_type": "markdown",
   "metadata": {},
   "source": [
    "## Dependencies\n",
    "\n",
    "This notebook requires code from:\n",
    "\n",
    "Python files:\n",
    "- `class_SeriesAnalyser.py` - contains a set of functions to deal with time series analysis.\n",
    "- `class_Trader.py` - contains a set of functions concerning trading strategies.\n",
    "- `class_DataProcessor.py` - contains a set of functions concerning the data pre processing.\n",
    "\n",
    "Pickle files:\n",
    "- pickle file containing pairs to be traded (obtained from running `PairsTrading_CommodityETFs-Clustering.ipynb`)\n",
    "\n",
    "As a good practise, the notebook solely intends to exemplify the application of different trading strategies for different dataset examples, rather than coding the strategies theirselves. Please look into the files menitoned above for more detailed info on how the functions are built."
   ]
  },
  {
   "cell_type": "markdown",
   "metadata": {},
   "source": [
    "### Import Libraries"
   ]
  },
  {
   "cell_type": "code",
   "execution_count": 220,
   "metadata": {},
   "outputs": [],
   "source": [
    "import numpy as np\n",
    "import pandas as pd\n",
    "import pickle\n",
    "\n",
    "import json\n",
    "\n",
    "import statsmodels\n",
    "import statsmodels.api as sm\n",
    "from statsmodels.tsa.stattools import coint, adfuller\n",
    "\n",
    "import matplotlib.pyplot as plt\n",
    "import matplotlib.cm as cm\n",
    "\n",
    "# Import Datetime and the Pandas DataReader\n",
    "from datetime import datetime\n",
    "from pandas_datareader import data, wb\n",
    "\n",
    "# Import alpha vantage\n",
    "from alpha_vantage.timeseries import TimeSeries\n",
    "\n",
    "# Import scikit instruments\n",
    "from sklearn.cluster import DBSCAN\n",
    "from sklearn.decomposition import PCA\n",
    "from sklearn.manifold import TSNE\n",
    "from sklearn import preprocessing\n",
    "from sklearn.metrics import silhouette_score\n",
    "\n",
    "# just set the seed for the random number generator\n",
    "np.random.seed(107)"
   ]
  },
  {
   "cell_type": "markdown",
   "metadata": {},
   "source": [
    "### Import Configurations"
   ]
  },
  {
   "cell_type": "code",
   "execution_count": 221,
   "metadata": {},
   "outputs": [],
   "source": [
    "config_file = 'config/config_commodities_2010_2019.json'"
   ]
  },
  {
   "cell_type": "code",
   "execution_count": 222,
   "metadata": {},
   "outputs": [],
   "source": [
    "with open(config_file, 'r') as f:\n",
    "    config = json.load(f)"
   ]
  },
  {
   "cell_type": "code",
   "execution_count": 223,
   "metadata": {},
   "outputs": [],
   "source": [
    "with open(config['dataset']['ticker_segment_dict'], 'rb') as handle:\n",
    "    ticker_segment_dict = pickle.load(handle)"
   ]
  },
  {
   "cell_type": "markdown",
   "metadata": {},
   "source": [
    "### Import Classes"
   ]
  },
  {
   "cell_type": "code",
   "execution_count": 581,
   "metadata": {},
   "outputs": [
    {
     "name": "stdout",
     "output_type": "stream",
     "text": [
      "The autoreload extension is already loaded. To reload it, use:\n",
      "  %reload_ext autoreload\n"
     ]
    }
   ],
   "source": [
    "%load_ext autoreload\n",
    "%aimport class_SeriesAnalyser, class_Trader, class_DataProcessor\n",
    "%autoreload 1"
   ]
  },
  {
   "cell_type": "code",
   "execution_count": 582,
   "metadata": {},
   "outputs": [],
   "source": [
    "series_analyser = class_SeriesAnalyser.SeriesAnalyser()\n",
    "trader = class_Trader.Trader()\n",
    "data_processor = class_DataProcessor.DataProcessor()"
   ]
  },
  {
   "cell_type": "markdown",
   "metadata": {},
   "source": [
    "# Retrieve prices data set"
   ]
  },
  {
   "cell_type": "markdown",
   "metadata": {},
   "source": [
    "We start by retrieving the data from a Dataframe saved in a pickle file, as it was previously processed in the `PairsTrading_CommodityETFS_Datapreprocessing.ipynb` notebook."
   ]
  },
  {
   "cell_type": "code",
   "execution_count": 332,
   "metadata": {},
   "outputs": [],
   "source": [
    "# intraday\n",
    "df_prices = pd.read_pickle('data/etfs/pickle/commodity_ETFs_intraday_interpolated_screened_no_outliers')\n",
    "\n",
    "# inter day\n",
    "#df_prices = pd.read_pickle('data/etfs/pickle/commodity_ETFs_interpolated_screened')"
   ]
  },
  {
   "cell_type": "code",
   "execution_count": 333,
   "metadata": {},
   "outputs": [
    {
     "name": "stdout",
     "output_type": "stream",
     "text": [
      "Total of 59 tickers\n",
      "Total of 58 tickers after removing tickers with Nan values\n"
     ]
    }
   ],
   "source": [
    "# split data in training and test\n",
    "df_prices_train, df_prices_test = data_processor.split_data(df_prices,\n",
    "                                                            ('01-01-2009',\n",
    "                                                             '31-12-2017'),\n",
    "                                                            ('01-01-2018',\n",
    "                                                             '31-12-2018'),\n",
    "                                                            remove_nan=True)"
   ]
  },
  {
   "cell_type": "code",
   "execution_count": 334,
   "metadata": {},
   "outputs": [
    {
     "data": {
      "text/plain": [
       "195414"
      ]
     },
     "execution_count": 334,
     "metadata": {},
     "output_type": "execute_result"
    }
   ],
   "source": [
    "len(df_prices_train)+len(df_prices_test)"
   ]
  },
  {
   "cell_type": "markdown",
   "metadata": {},
   "source": [
    "# Load Pairs"
   ]
  },
  {
   "cell_type": "code",
   "execution_count": 336,
   "metadata": {},
   "outputs": [],
   "source": [
    "#with open('data/etfs/pickle/pairs_unfiltered.pickle', 'rb') as handle:\n",
    "#    pairs = pickle.load(handle)\n",
    "\n",
    "#with open('data/etfs/pickle/pairs_category.pickle', 'rb') as handle:\n",
    "#    pairs = pickle.load(handle)\n",
    "\n",
    "with open('data/etfs/pickle/pairs_unsupervised_learning.pickle', 'rb') as handle:\n",
    "    pairs = pickle.load(handle)"
   ]
  },
  {
   "cell_type": "code",
   "execution_count": 338,
   "metadata": {},
   "outputs": [],
   "source": [
    "lookback_multiplier= config['trading']['lookback_multiplier']\n",
    "entry_multiplier= config['trading']['entry_multiplier']\n",
    "exit_multiplier= config['trading']['exit_multiplier']\n",
    "# obtain trading filter info\n",
    "if config['trading_filter']['active'] == 1:\n",
    "    trading_filter = config['trading_filter']\n",
    "else:\n",
    "    trading_filter = None"
   ]
  },
  {
   "cell_type": "code",
   "execution_count": 340,
   "metadata": {},
   "outputs": [
    {
     "data": {
      "text/plain": [
       "9"
      ]
     },
     "execution_count": 340,
     "metadata": {},
     "output_type": "execute_result"
    }
   ],
   "source": [
    "# intraday\n",
    "n_years_train = round(len(df_prices_train)/(240*78))\n",
    "\n",
    "# interday\n",
    "#n_years_train = round(len(df_prices_train)/(240))\n",
    "\n",
    "n_years_train"
   ]
  },
  {
   "cell_type": "markdown",
   "metadata": {},
   "source": [
    "# Apply trading strategies"
   ]
  },
  {
   "cell_type": "markdown",
   "metadata": {},
   "source": [
    "**Applying the Kalman filter based strategy**"
   ]
  },
  {
   "cell_type": "code",
   "execution_count": 477,
   "metadata": {},
   "outputs": [
    {
     "name": "stdout",
     "output_type": "stream",
     "text": [
      "Pair: 1/9\n",
      "Pair: 2/9\n",
      "Pair: 3/9\n",
      "Pair: 4/9\n",
      "Pair: 5/9\n",
      "Pair: 6/9\n",
      "Pair: 7/9\n",
      "Pair: 8/9\n",
      "Pair: 9/9\n"
     ]
    }
   ],
   "source": [
    "entry_multiplier= config['trading']['entry_multiplier']\n",
    "exit_multiplier= config['trading']['exit_multiplier']\n",
    "train_results_without_costs, train_results_with_costs, performance_kalman = trader.apply_kalman_strategy(pairs, \n",
    "                                                                                             2,#entry_multiplier,\n",
    "                                                                                             0.5,#exit_multiplier,\n",
    "                                                                                             trading_filter,\n",
    "                                                                                             test_mode=False,\n",
    "                                                                                             rebalance=False)"
   ]
  },
  {
   "cell_type": "code",
   "execution_count": 479,
   "metadata": {},
   "outputs": [],
   "source": [
    "sharpe_results_kalman_nocosts, cum_returns_kalman_nocosts = train_results_without_costs\n",
    "sharpe_results_kalman_w_costs, cum_returns_kalman_w_costs = train_results_with_costs"
   ]
  },
  {
   "cell_type": "code",
   "execution_count": 480,
   "metadata": {},
   "outputs": [
    {
     "name": "stdout",
     "output_type": "stream",
     "text": [
      "Average result:  7.314264668199777\n",
      "avg_annual_roi:  390.2453028341177\n",
      "77.77777777777777 % of the pairs had positive returns\n"
     ]
    }
   ],
   "source": [
    "avg_sharpe_kalman, total_roi_kalman, anual_roi_kalman, positive_pct_kalman = \\\n",
    "    trader.calculate_metrics(sharpe_results_kalman_nocosts, cum_returns_kalman_nocosts, n_years_train)"
   ]
  },
  {
   "cell_type": "code",
   "execution_count": 481,
   "metadata": {},
   "outputs": [
    {
     "name": "stdout",
     "output_type": "stream",
     "text": [
      "Average result:  7.314264668199777\n",
      "avg_annual_roi:  -8.14097371747734\n",
      "11.11111111111111 % of the pairs had positive returns\n"
     ]
    }
   ],
   "source": [
    "# WARNING: MUST CHANGE SHARPE RATIO\n",
    "sharpe_results_kalman_w_costs = sharpe_results_kalman_nocosts\n",
    "avg_sharpe_kalman, total_roi_kalman, anual_roi_kalman, positive_pct_kalman = \\\n",
    "    trader.calculate_metrics(sharpe_results_kalman_w_costs, cum_returns_kalman_w_costs, n_years_train)"
   ]
  },
  {
   "cell_type": "code",
   "execution_count": 482,
   "metadata": {},
   "outputs": [
    {
     "name": "stdout",
     "output_type": "stream",
     "text": [
      "Sharpe Ratio Distribution: \n"
     ]
    },
    {
     "data": {
      "image/png": "[encoded data removed]",
      "text/plain": [
       "<matplotlib.figure.Figure at 0x10cf9fd30>"
      ]
     },
     "metadata": {},
     "output_type": "display_data"
    }
   ],
   "source": [
    "print('Sharpe Ratio Distribution: ')\n",
    "n, bins, patches = plt.hist(sharpe_results_kalman_nocosts, bins = 16, normed=True, orientation='vertical',\n",
    "                            color='red', rwidth=0.9, align='mid')"
   ]
  },
  {
   "cell_type": "code",
   "execution_count": 483,
   "metadata": {},
   "outputs": [
    {
     "name": "stdout",
     "output_type": "stream",
     "text": [
      "Average result:  7.314264668199777\n",
      "avg_annual_roi:  390.2453028341177\n",
      "77.77777777777777 % of the pairs had positive returns\n"
     ]
    }
   ],
   "source": [
    "results_training, pairs_summary_training = trader.summarize_results(sharpe_results_kalman_nocosts,\n",
    "                                                                    cum_returns_kalman_nocosts,\n",
    "                                                                    performance_kalman,\n",
    "                                                                    pairs,\n",
    "                                                                    ticker_segment_dict, n_years_train)"
   ]
  },
  {
   "cell_type": "markdown",
   "metadata": {},
   "source": [
    "# Out of Sample Analysis\n",
    "\n",
    "In this section, we analyze the performance of the strategy in the validation dataset. \n",
    "\n",
    "We proceed with some data exploration analysis. For this purpose we will do the following:\n",
    "\n",
    "- Analyze which percentage of the identified pairs are still cointegrated in the validation period.\n",
    "- Analyze which percentage of pairs have positive returns, and how many of those are still cointegrated.\n",
    "- Analyze how many new pais were not identified to be cointegrated up to the validation period.\n",
    "- Run strategy for identified pairs in training period.\n",
    "\n",
    "This analysis will help us getting some insight into how the cointegrated pairs vary from time to time, and therefore how we should allocate our resources to predict when pairs are not cointegrated anymore."
   ]
  },
  {
   "cell_type": "markdown",
   "metadata": {},
   "source": [
    "## Applying the Strategy out-of Sample\n",
    "\n",
    "We might want to apply the strategy in all pairs identified. Or, instead, we might prefer to apply the strategy only on those pairs that turned out to be profitable. Let's compare how both approaches work:"
   ]
  },
  {
   "cell_type": "code",
   "execution_count": 484,
   "metadata": {},
   "outputs": [
    {
     "data": {
      "text/plain": [
       "1"
      ]
     },
     "execution_count": 484,
     "metadata": {},
     "output_type": "execute_result"
    }
   ],
   "source": [
    "# intraday\n",
    "n_years_test = round(len(df_prices_test)/(240*78))\n",
    "\n",
    "# interday\n",
    "#n_years_test = round(len(df_prices_test)/(240))\n",
    "\n",
    "n_years_test"
   ]
  },
  {
   "cell_type": "markdown",
   "metadata": {},
   "source": [
    "### Approach 1: Keeping every pair"
   ]
  },
  {
   "cell_type": "markdown",
   "metadata": {},
   "source": [
    "**Kalman Out-of-Sample**"
   ]
  },
  {
   "cell_type": "code",
   "execution_count": 485,
   "metadata": {},
   "outputs": [
    {
     "name": "stdout",
     "output_type": "stream",
     "text": [
      "Pair: 1/9\n",
      "Pair: 2/9\n",
      "Pair: 3/9\n",
      "Pair: 4/9\n",
      "Pair: 5/9\n",
      "Pair: 6/9\n",
      "Pair: 7/9\n",
      "Pair: 8/9\n",
      "Pair: 9/9\n"
     ]
    }
   ],
   "source": [
    "results_without_costs, results_with_costs, performance_kalman_test = trader.apply_kalman_strategy(pairs, \n",
    "                                                                                             2,\n",
    "                                                                                             0.5,\n",
    "                                                                                             trading_filter,\n",
    "                                                                                             test_mode=True,\n",
    "                                                                                             rebalance=False)\n",
    "sharpe_results_kalman_test_nocosts, cum_returns_kalman_test_nocosts = results_without_costs\n",
    "sharpe_results_kalman_test_w_costs, cum_returns_kalman_test_w_costs = results_with_costs"
   ]
  },
  {
   "cell_type": "code",
   "execution_count": 486,
   "metadata": {},
   "outputs": [
    {
     "name": "stdout",
     "output_type": "stream",
     "text": [
      "Average result:  1.932263268199885\n",
      "avg_annual_roi:  21.231109260702176\n",
      "66.66666666666667 % of the pairs had positive returns\n"
     ]
    }
   ],
   "source": [
    "avg_sharpe_kalman_test, total_roi_kalman_test, anual_roi_kalman_test, positive_pct_kalman_test = \\\n",
    "    trader.calculate_metrics(sharpe_results_kalman_test_nocosts, cum_returns_kalman_test_nocosts, n_years_test)"
   ]
  },
  {
   "cell_type": "code",
   "execution_count": 487,
   "metadata": {},
   "outputs": [
    {
     "name": "stdout",
     "output_type": "stream",
     "text": [
      "Average result:  -6.476940734859351\n",
      "avg_annual_roi:  -23.268793620245486\n",
      "11.11111111111111 % of the pairs had positive returns\n"
     ]
    }
   ],
   "source": [
    "avg_sharpe_kalman_test, total_roi_kalman_test, anual_roi_kalman_test, positive_pct_kalman_test = \\\n",
    "    trader.calculate_metrics(sharpe_results_kalman_test_w_costs, cum_returns_kalman_test_w_costs, n_years_test)"
   ]
  },
  {
   "cell_type": "code",
   "execution_count": 488,
   "metadata": {},
   "outputs": [
    {
     "data": {
      "text/plain": [
       "[-8.876730581696949,\n",
       " -3.461909087854056,\n",
       " -6.925796411763242,\n",
       " -3.2027395472261966,\n",
       " 0.6289297300014426,\n",
       " 0,\n",
       " 0,\n",
       " -36.45422071519517,\n",
       " 0]"
      ]
     },
     "execution_count": 488,
     "metadata": {},
     "output_type": "execute_result"
    }
   ],
   "source": [
    "sharpe_results_kalman_test_w_costs"
   ]
  },
  {
   "cell_type": "markdown",
   "metadata": {},
   "source": [
    "**Basic Threshold Strategy**"
   ]
  },
  {
   "cell_type": "code",
   "execution_count": 617,
   "metadata": {},
   "outputs": [
    {
     "name": "stdout",
     "output_type": "stream",
     "text": [
      "Pair: 1/9\n",
      "Pair: 2/9\n",
      "Pair: 3/9\n",
      "Pair: 4/9\n",
      "Pair: 5/9\n",
      "Pair: 6/9\n",
      "Pair: 7/9\n",
      "Pair: 8/9\n",
      "Pair: 9/9\n"
     ]
    }
   ],
   "source": [
    "results_without_costs, results_with_costs, performance_threshold_test = trader.apply_threshold_strategy(pairs, \n",
    "                                                                                             2,\n",
    "                                                                                             0,\n",
    "                                                                                             trading_filter,\n",
    "                                                                                             test_mode=True,\n",
    "                                                                                             rebalance=False)\n",
    "sharpe_results_threshold_test_nocosts, cum_returns_threshold_test_nocosts = results_without_costs\n",
    "sharpe_results_threshold_test_w_costs, cum_returns_threshold_test_w_costs = results_with_costs"
   ]
  },
  {
   "cell_type": "code",
   "execution_count": 618,
   "metadata": {},
   "outputs": [
    {
     "name": "stdout",
     "output_type": "stream",
     "text": [
      "Average result:  2.1975944772269695\n",
      "avg_annual_roi:  35.42228378111831\n",
      "88.88888888888889 % of the pairs had positive returns\n"
     ]
    }
   ],
   "source": [
    "avg_sharpe_threshold_test, total_roi_threshold_test, anual_roi_threshold_test, positive_pct_threshold_test = \\\n",
    "    trader.calculate_metrics(sharpe_results_threshold_test_nocosts, cum_returns_threshold_test_nocosts, n_years_test)"
   ]
  },
  {
   "cell_type": "code",
   "execution_count": 619,
   "metadata": {
    "scrolled": true
   },
   "outputs": [
    {
     "name": "stdout",
     "output_type": "stream",
     "text": [
      "Average result:  1.5967859065166812\n",
      "avg_annual_roi:  0.0\n",
      "0.0 % of the pairs had positive returns\n"
     ]
    }
   ],
   "source": [
    "_, _, _, _ = trader.calculate_metrics(sharpe_results_threshold_test_w_costs, cum_returns_threshold_test_w_costs,\n",
    "                                      n_years_test)"
   ]
  },
  {
   "cell_type": "code",
   "execution_count": 554,
   "metadata": {},
   "outputs": [
    {
     "data": {
      "text/plain": [
       "[13.3839367330709,\n",
       " 10.74807697394986,\n",
       " 17.203870960400323,\n",
       " 10.796128608938794,\n",
       " 9.124351027110556,\n",
       " 7.088611233776931,\n",
       " 41.305743128792116,\n",
       " 23.12133843313957,\n",
       " -1.570137752913514]"
      ]
     },
     "execution_count": 554,
     "metadata": {},
     "output_type": "execute_result"
    }
   ],
   "source": [
    "cum_returns_threshold_test_w_costs"
   ]
  },
  {
   "cell_type": "code",
   "execution_count": 555,
   "metadata": {},
   "outputs": [
    {
     "data": {
      "text/plain": [
       "[1.0068098796567249,\n",
       " 1.0068098796565463,\n",
       " 1.006809879656075,\n",
       " 1.960326863644839,\n",
       " 1.7429652435084941,\n",
       " 1.4120939765538474,\n",
       " 6.328084218887241,\n",
       " 1.6800529207279102,\n",
       " -1.0068098796562046]"
      ]
     },
     "execution_count": 555,
     "metadata": {},
     "output_type": "execute_result"
    }
   ],
   "source": [
    "sharpe_results_threshold_test_w_costs"
   ]
  },
  {
   "cell_type": "code",
   "execution_count": 556,
   "metadata": {},
   "outputs": [
    {
     "name": "stdout",
     "output_type": "stream",
     "text": [
      "1\n",
      "1\n",
      "1\n",
      "5\n",
      "3\n",
      "2\n",
      "143\n",
      "3\n",
      "1\n"
     ]
    }
   ],
   "source": [
    "for i in range(len(sharpe_results_threshold_test_w_costs)):\n",
    "    print(len(performance_threshold_test[i][1][performance_threshold_test[i][1].trading_days != 0]))"
   ]
  },
  {
   "cell_type": "markdown",
   "metadata": {},
   "source": [
    "### Approach 2: Keeping only pairs that had positive returns in the training period"
   ]
  },
  {
   "cell_type": "markdown",
   "metadata": {},
   "source": [
    "**Kalman Strategy**"
   ]
  },
  {
   "cell_type": "code",
   "execution_count": 476,
   "metadata": {},
   "outputs": [],
   "source": [
    "sharpe_results_kalman_w_costs = np.asarray(sharpe_results_kalman_w_costs)\n",
    "profitable_pairs_indices = np.argwhere(sharpe_results_kalman_w_costs > 0)\n",
    "profitable_pairs = [pairs[i] for i in profitable_pairs_indices.flatten()]"
   ]
  },
  {
   "cell_type": "code",
   "execution_count": 416,
   "metadata": {
    "scrolled": false
   },
   "outputs": [
    {
     "name": "stdout",
     "output_type": "stream",
     "text": [
      "Pair: 1/7\n",
      "Pair: 2/7\n",
      "Pair: 3/7\n",
      "Pair: 4/7\n",
      "Pair: 5/7\n",
      "Pair: 6/7\n",
      "Pair: 7/7\n"
     ]
    }
   ],
   "source": [
    "results_without_costs, results_with_costs, performance_kalman_test = trader.apply_kalman_strategy(\\\n",
    "                                                                                             profitable_pairs, \n",
    "                                                                                             2,#entry_multiplier,\n",
    "                                                                                             0,#exit_multiplier,\n",
    "                                                                                             trading_filter,\n",
    "                                                                                             test_mode=True,\n",
    "                                                                                             rebalance=False)"
   ]
  },
  {
   "cell_type": "code",
   "execution_count": 403,
   "metadata": {},
   "outputs": [],
   "source": [
    "sharpe_results_kalman_test_nocosts, cum_returns_kalman_test_nocosts = results_without_costs\n",
    "sharpe_results_kalman_test_w_costs, cum_returns_kalman_test_w_costs = results_with_costs"
   ]
  },
  {
   "cell_type": "markdown",
   "metadata": {},
   "source": [
    "No costs:"
   ]
  },
  {
   "cell_type": "code",
   "execution_count": 404,
   "metadata": {},
   "outputs": [
    {
     "name": "stdout",
     "output_type": "stream",
     "text": [
      "Average result:  4.3802183281441645\n",
      "avg_annual_roi:  83.47841867448938\n",
      "100.0 % of the pairs had positive returns\n"
     ]
    }
   ],
   "source": [
    "avg_sharpe_kalman_test, total_roi_kalman_test, anual_roi_kalman_test, positive_pct_kalman_test = \\\n",
    "    trader.calculate_metrics(sharpe_results_kalman_test_nocosts, cum_returns_kalman_test_nocosts, n_years_test)"
   ]
  },
  {
   "cell_type": "markdown",
   "metadata": {},
   "source": [
    "With costs:"
   ]
  },
  {
   "cell_type": "code",
   "execution_count": 405,
   "metadata": {},
   "outputs": [
    {
     "name": "stdout",
     "output_type": "stream",
     "text": [
      "Average result:  4.3802183281441645\n",
      "avg_annual_roi:  -28.79473390255005\n",
      "100.0 % of the pairs had positive returns\n"
     ]
    }
   ],
   "source": [
    "# WARNING: MSUT CHANGE SHARPE RATIO\n",
    "sharpe_results_kalman_test_w_costs = sharpe_results_kalman_test_nocosts\n",
    "avg_sharpe_kalman_test, total_roi_kalman_test, anual_roi_kalman_test, positive_pct_kalman_test = \\\n",
    "    trader.calculate_metrics(sharpe_results_kalman_test_w_costs, cum_returns_kalman_test_w_costs, n_years_test)"
   ]
  },
  {
   "cell_type": "markdown",
   "metadata": {},
   "source": [
    "We can conclude that the 2nd approach presents better results. From now on, we assume the 2nd approach was taken."
   ]
  },
  {
   "cell_type": "markdown",
   "metadata": {},
   "source": [
    "# Validate the results"
   ]
  },
  {
   "cell_type": "code",
   "execution_count": 370,
   "metadata": {},
   "outputs": [
    {
     "name": "stdout",
     "output_type": "stream",
     "text": [
      "Average result:  2.953607385380277\n",
      "avg_annual_roi:  -34.903190430368234\n",
      "100.0 % of the pairs had positive returns\n"
     ]
    }
   ],
   "source": [
    "results, pairs_summary = trader.summarize_results(sharpe_results_kalman_test_w_costs,\n",
    "                                                  cum_returns_kalman_test_w_costs,\n",
    "                                                  performance_kalman_test, profitable_pairs, ticker_segment_dict,\n",
    "                                                  n_years_test)"
   ]
  },
  {
   "cell_type": "code",
   "execution_count": 371,
   "metadata": {
    "scrolled": false
   },
   "outputs": [
    {
     "data": {
      "text/html": [
       "<div>\n",
       "<style scoped>\n",
       "    .dataframe tbody tr th:only-of-type {\n",
       "        vertical-align: middle;\n",
       "    }\n",
       "\n",
       "    .dataframe tbody tr th {\n",
       "        vertical-align: top;\n",
       "    }\n",
       "\n",
       "    .dataframe thead th {\n",
       "        text-align: right;\n",
       "    }\n",
       "</style>\n",
       "<table border=\"1\" class=\"dataframe\">\n",
       "  <thead>\n",
       "    <tr style=\"text-align: right;\">\n",
       "      <th></th>\n",
       "      <th>Leg1</th>\n",
       "      <th>Leg1_Segmt</th>\n",
       "      <th>Leg2</th>\n",
       "      <th>Leg2_Segmt</th>\n",
       "      <th>t_statistic</th>\n",
       "      <th>p_value</th>\n",
       "      <th>zero_cross</th>\n",
       "      <th>half_life</th>\n",
       "      <th>hurst_exponent</th>\n",
       "      <th>positive_trades</th>\n",
       "      <th>negative_trades</th>\n",
       "      <th>sharpe_result</th>\n",
       "      <th>positive_trades_per_pair_pct</th>\n",
       "    </tr>\n",
       "  </thead>\n",
       "  <tbody>\n",
       "    <tr>\n",
       "      <th>0</th>\n",
       "      <td>DZZ</td>\n",
       "      <td>Inverse Commodities: Precious Metals Gold</td>\n",
       "      <td>GLL</td>\n",
       "      <td>Inverse Commodities: Precious Metals Gold</td>\n",
       "      <td>-4.210803</td>\n",
       "      <td>0.000632</td>\n",
       "      <td>1725</td>\n",
       "      <td>319</td>\n",
       "      <td>0.229908</td>\n",
       "      <td>721</td>\n",
       "      <td>265</td>\n",
       "      <td>8.789733</td>\n",
       "      <td>73.123732</td>\n",
       "    </tr>\n",
       "    <tr>\n",
       "      <th>1</th>\n",
       "      <td>PXE</td>\n",
       "      <td>Equity: U.S. Oil &amp; Gas Exploration &amp; Production</td>\n",
       "      <td>PXI</td>\n",
       "      <td>Equity: U.S. Energy</td>\n",
       "      <td>-3.254852</td>\n",
       "      <td>0.017021</td>\n",
       "      <td>1374</td>\n",
       "      <td>462</td>\n",
       "      <td>0.231966</td>\n",
       "      <td>31</td>\n",
       "      <td>16</td>\n",
       "      <td>3.068056</td>\n",
       "      <td>65.957447</td>\n",
       "    </tr>\n",
       "    <tr>\n",
       "      <th>2</th>\n",
       "      <td>NLR</td>\n",
       "      <td>Equity: Global Nuclear Energy</td>\n",
       "      <td>PXI</td>\n",
       "      <td>Equity: U.S. Energy</td>\n",
       "      <td>-2.919168</td>\n",
       "      <td>0.043164</td>\n",
       "      <td>285</td>\n",
       "      <td>4889</td>\n",
       "      <td>0.479075</td>\n",
       "      <td>19</td>\n",
       "      <td>9</td>\n",
       "      <td>1.835837</td>\n",
       "      <td>67.857143</td>\n",
       "    </tr>\n",
       "    <tr>\n",
       "      <th>3</th>\n",
       "      <td>PXI</td>\n",
       "      <td>Equity: U.S. Energy</td>\n",
       "      <td>RYE</td>\n",
       "      <td>Equity: U.S. Energy</td>\n",
       "      <td>-3.301482</td>\n",
       "      <td>0.014812</td>\n",
       "      <td>1500</td>\n",
       "      <td>702</td>\n",
       "      <td>0.280768</td>\n",
       "      <td>12</td>\n",
       "      <td>7</td>\n",
       "      <td>1.554076</td>\n",
       "      <td>63.157895</td>\n",
       "    </tr>\n",
       "    <tr>\n",
       "      <th>4</th>\n",
       "      <td>NLR</td>\n",
       "      <td>Equity: Global Nuclear Energy</td>\n",
       "      <td>PXE</td>\n",
       "      <td>Equity: U.S. Oil &amp; Gas Exploration &amp; Production</td>\n",
       "      <td>-2.965900</td>\n",
       "      <td>0.038204</td>\n",
       "      <td>345</td>\n",
       "      <td>4817</td>\n",
       "      <td>0.479905</td>\n",
       "      <td>33</td>\n",
       "      <td>28</td>\n",
       "      <td>1.415900</td>\n",
       "      <td>54.098361</td>\n",
       "    </tr>\n",
       "  </tbody>\n",
       "</table>\n",
       "</div>"
      ],
      "text/plain": [
       "  Leg1                                       Leg1_Segmt Leg2  \\\n",
       "0  DZZ        Inverse Commodities: Precious Metals Gold  GLL   \n",
       "1  PXE  Equity: U.S. Oil & Gas Exploration & Production  PXI   \n",
       "2  NLR                    Equity: Global Nuclear Energy  PXI   \n",
       "3  PXI                              Equity: U.S. Energy  RYE   \n",
       "4  NLR                    Equity: Global Nuclear Energy  PXE   \n",
       "\n",
       "                                        Leg2_Segmt  t_statistic   p_value  \\\n",
       "0        Inverse Commodities: Precious Metals Gold    -4.210803  0.000632   \n",
       "1                              Equity: U.S. Energy    -3.254852  0.017021   \n",
       "2                              Equity: U.S. Energy    -2.919168  0.043164   \n",
       "3                              Equity: U.S. Energy    -3.301482  0.014812   \n",
       "4  Equity: U.S. Oil & Gas Exploration & Production    -2.965900  0.038204   \n",
       "\n",
       "   zero_cross  half_life  hurst_exponent  positive_trades  negative_trades  \\\n",
       "0        1725        319        0.229908              721              265   \n",
       "1        1374        462        0.231966               31               16   \n",
       "2         285       4889        0.479075               19                9   \n",
       "3        1500        702        0.280768               12                7   \n",
       "4         345       4817        0.479905               33               28   \n",
       "\n",
       "   sharpe_result  positive_trades_per_pair_pct  \n",
       "0       8.789733                     73.123732  \n",
       "1       3.068056                     65.957447  \n",
       "2       1.835837                     67.857143  \n",
       "3       1.554076                     63.157895  \n",
       "4       1.415900                     54.098361  "
      ]
     },
     "execution_count": 371,
     "metadata": {},
     "output_type": "execute_result"
    }
   ],
   "source": [
    "pairs_summary.head()"
   ]
  },
  {
   "cell_type": "code",
   "execution_count": 591,
   "metadata": {},
   "outputs": [
    {
     "data": {
      "text/html": [
       "<div>\n",
       "<style scoped>\n",
       "    .dataframe tbody tr th:only-of-type {\n",
       "        vertical-align: middle;\n",
       "    }\n",
       "\n",
       "    .dataframe tbody tr th {\n",
       "        vertical-align: top;\n",
       "    }\n",
       "\n",
       "    .dataframe thead th {\n",
       "        text-align: right;\n",
       "    }\n",
       "</style>\n",
       "<table border=\"1\" class=\"dataframe\">\n",
       "  <thead>\n",
       "    <tr style=\"text-align: right;\">\n",
       "      <th></th>\n",
       "      <th>pnl</th>\n",
       "      <th>pnl_y</th>\n",
       "      <th>pnl_x</th>\n",
       "      <th>account_balance</th>\n",
       "      <th>position_return</th>\n",
       "      <th>NLR</th>\n",
       "      <th>PXE</th>\n",
       "      <th>beta</th>\n",
       "      <th>norm_spread</th>\n",
       "      <th>position_during_day</th>\n",
       "      <th>trading_days</th>\n",
       "      <th>position_ret_with_costs</th>\n",
       "    </tr>\n",
       "  </thead>\n",
       "  <tbody>\n",
       "    <tr>\n",
       "      <th>2018-01-02 14:35:00</th>\n",
       "      <td>0.0</td>\n",
       "      <td>0.0</td>\n",
       "      <td>0.0</td>\n",
       "      <td>1.000000</td>\n",
       "      <td>0.0</td>\n",
       "      <td>47.068</td>\n",
       "      <td>22.661</td>\n",
       "      <td>-0.213428</td>\n",
       "      <td>-0.901271</td>\n",
       "      <td>0.0</td>\n",
       "      <td>0</td>\n",
       "      <td>0.0</td>\n",
       "    </tr>\n",
       "    <tr>\n",
       "      <th>2018-01-02 14:40:00</th>\n",
       "      <td>0.0</td>\n",
       "      <td>0.0</td>\n",
       "      <td>0.0</td>\n",
       "      <td>1.000000</td>\n",
       "      <td>0.0</td>\n",
       "      <td>47.068</td>\n",
       "      <td>22.661</td>\n",
       "      <td>-0.213428</td>\n",
       "      <td>-0.901271</td>\n",
       "      <td>0.0</td>\n",
       "      <td>0</td>\n",
       "      <td>0.0</td>\n",
       "    </tr>\n",
       "    <tr>\n",
       "      <th>2018-01-02 14:45:00</th>\n",
       "      <td>0.0</td>\n",
       "      <td>0.0</td>\n",
       "      <td>0.0</td>\n",
       "      <td>1.000000</td>\n",
       "      <td>0.0</td>\n",
       "      <td>47.068</td>\n",
       "      <td>22.846</td>\n",
       "      <td>-0.213428</td>\n",
       "      <td>-0.882465</td>\n",
       "      <td>0.0</td>\n",
       "      <td>0</td>\n",
       "      <td>0.0</td>\n",
       "    </tr>\n",
       "    <tr>\n",
       "      <th>2018-01-02 14:50:00</th>\n",
       "      <td>0.0</td>\n",
       "      <td>0.0</td>\n",
       "      <td>0.0</td>\n",
       "      <td>1.000000</td>\n",
       "      <td>0.0</td>\n",
       "      <td>47.068</td>\n",
       "      <td>22.846</td>\n",
       "      <td>-0.213428</td>\n",
       "      <td>-0.882465</td>\n",
       "      <td>0.0</td>\n",
       "      <td>0</td>\n",
       "      <td>0.0</td>\n",
       "    </tr>\n",
       "    <tr>\n",
       "      <th>2018-01-02 14:55:00</th>\n",
       "      <td>0.0</td>\n",
       "      <td>0.0</td>\n",
       "      <td>0.0</td>\n",
       "      <td>1.000000</td>\n",
       "      <td>0.0</td>\n",
       "      <td>47.068</td>\n",
       "      <td>22.898</td>\n",
       "      <td>-0.213428</td>\n",
       "      <td>-0.877179</td>\n",
       "      <td>0.0</td>\n",
       "      <td>0</td>\n",
       "      <td>0.0</td>\n",
       "    </tr>\n",
       "    <tr>\n",
       "      <th>2018-01-02 15:00:00</th>\n",
       "      <td>0.0</td>\n",
       "      <td>0.0</td>\n",
       "      <td>0.0</td>\n",
       "      <td>1.000000</td>\n",
       "      <td>0.0</td>\n",
       "      <td>47.068</td>\n",
       "      <td>22.898</td>\n",
       "      <td>-0.213428</td>\n",
       "      <td>-0.877179</td>\n",
       "      <td>0.0</td>\n",
       "      <td>0</td>\n",
       "      <td>0.0</td>\n",
       "    </tr>\n",
       "    <tr>\n",
       "      <th>2018-01-02 15:05:00</th>\n",
       "      <td>0.0</td>\n",
       "      <td>0.0</td>\n",
       "      <td>0.0</td>\n",
       "      <td>1.000000</td>\n",
       "      <td>0.0</td>\n",
       "      <td>47.068</td>\n",
       "      <td>22.918</td>\n",
       "      <td>-0.213428</td>\n",
       "      <td>-0.875146</td>\n",
       "      <td>0.0</td>\n",
       "      <td>0</td>\n",
       "      <td>0.0</td>\n",
       "    </tr>\n",
       "    <tr>\n",
       "      <th>2018-01-02 15:10:00</th>\n",
       "      <td>0.0</td>\n",
       "      <td>0.0</td>\n",
       "      <td>0.0</td>\n",
       "      <td>1.000000</td>\n",
       "      <td>0.0</td>\n",
       "      <td>47.068</td>\n",
       "      <td>23.037</td>\n",
       "      <td>-0.213428</td>\n",
       "      <td>-0.863049</td>\n",
       "      <td>0.0</td>\n",
       "      <td>0</td>\n",
       "      <td>0.0</td>\n",
       "    </tr>\n",
       "    <tr>\n",
       "      <th>2018-01-02 15:15:00</th>\n",
       "      <td>0.0</td>\n",
       "      <td>0.0</td>\n",
       "      <td>0.0</td>\n",
       "      <td>1.000000</td>\n",
       "      <td>0.0</td>\n",
       "      <td>47.068</td>\n",
       "      <td>23.037</td>\n",
       "      <td>-0.213428</td>\n",
       "      <td>-0.863049</td>\n",
       "      <td>0.0</td>\n",
       "      <td>0</td>\n",
       "      <td>0.0</td>\n",
       "    </tr>\n",
       "    <tr>\n",
       "      <th>2018-01-02 15:20:00</th>\n",
       "      <td>0.0</td>\n",
       "      <td>0.0</td>\n",
       "      <td>0.0</td>\n",
       "      <td>1.000000</td>\n",
       "      <td>0.0</td>\n",
       "      <td>47.068</td>\n",
       "      <td>23.037</td>\n",
       "      <td>-0.213428</td>\n",
       "      <td>-0.863049</td>\n",
       "      <td>0.0</td>\n",
       "      <td>0</td>\n",
       "      <td>0.0</td>\n",
       "    </tr>\n",
       "    <tr>\n",
       "      <th>2018-01-02 15:25:00</th>\n",
       "      <td>0.0</td>\n",
       "      <td>0.0</td>\n",
       "      <td>0.0</td>\n",
       "      <td>1.000000</td>\n",
       "      <td>0.0</td>\n",
       "      <td>47.068</td>\n",
       "      <td>23.037</td>\n",
       "      <td>-0.213428</td>\n",
       "      <td>-0.863049</td>\n",
       "      <td>0.0</td>\n",
       "      <td>0</td>\n",
       "      <td>0.0</td>\n",
       "    </tr>\n",
       "    <tr>\n",
       "      <th>2018-01-02 15:30:00</th>\n",
       "      <td>0.0</td>\n",
       "      <td>0.0</td>\n",
       "      <td>0.0</td>\n",
       "      <td>1.000000</td>\n",
       "      <td>0.0</td>\n",
       "      <td>47.068</td>\n",
       "      <td>23.037</td>\n",
       "      <td>-0.213428</td>\n",
       "      <td>-0.863049</td>\n",
       "      <td>0.0</td>\n",
       "      <td>0</td>\n",
       "      <td>0.0</td>\n",
       "    </tr>\n",
       "    <tr>\n",
       "      <th>2018-01-02 15:35:00</th>\n",
       "      <td>0.0</td>\n",
       "      <td>0.0</td>\n",
       "      <td>0.0</td>\n",
       "      <td>1.000000</td>\n",
       "      <td>0.0</td>\n",
       "      <td>47.068</td>\n",
       "      <td>23.037</td>\n",
       "      <td>-0.213428</td>\n",
       "      <td>-0.863049</td>\n",
       "      <td>0.0</td>\n",
       "      <td>0</td>\n",
       "      <td>0.0</td>\n",
       "    </tr>\n",
       "    <tr>\n",
       "      <th>2018-01-02 15:40:00</th>\n",
       "      <td>0.0</td>\n",
       "      <td>0.0</td>\n",
       "      <td>-0.0</td>\n",
       "      <td>1.000000</td>\n",
       "      <td>0.0</td>\n",
       "      <td>47.068</td>\n",
       "      <td>22.963</td>\n",
       "      <td>-0.213428</td>\n",
       "      <td>-0.870571</td>\n",
       "      <td>0.0</td>\n",
       "      <td>0</td>\n",
       "      <td>0.0</td>\n",
       "    </tr>\n",
       "    <tr>\n",
       "      <th>2018-01-02 15:45:00</th>\n",
       "      <td>0.0</td>\n",
       "      <td>0.0</td>\n",
       "      <td>0.0</td>\n",
       "      <td>1.000000</td>\n",
       "      <td>0.0</td>\n",
       "      <td>47.068</td>\n",
       "      <td>22.968</td>\n",
       "      <td>-0.213428</td>\n",
       "      <td>-0.870063</td>\n",
       "      <td>0.0</td>\n",
       "      <td>0</td>\n",
       "      <td>0.0</td>\n",
       "    </tr>\n",
       "    <tr>\n",
       "      <th>2018-01-02 15:50:00</th>\n",
       "      <td>0.0</td>\n",
       "      <td>0.0</td>\n",
       "      <td>0.0</td>\n",
       "      <td>1.000000</td>\n",
       "      <td>0.0</td>\n",
       "      <td>47.068</td>\n",
       "      <td>22.968</td>\n",
       "      <td>-0.213428</td>\n",
       "      <td>-0.870063</td>\n",
       "      <td>0.0</td>\n",
       "      <td>0</td>\n",
       "      <td>0.0</td>\n",
       "    </tr>\n",
       "    <tr>\n",
       "      <th>2018-01-02 15:55:00</th>\n",
       "      <td>0.0</td>\n",
       "      <td>0.0</td>\n",
       "      <td>0.0</td>\n",
       "      <td>1.000000</td>\n",
       "      <td>0.0</td>\n",
       "      <td>47.068</td>\n",
       "      <td>22.968</td>\n",
       "      <td>-0.213428</td>\n",
       "      <td>-0.870063</td>\n",
       "      <td>0.0</td>\n",
       "      <td>0</td>\n",
       "      <td>0.0</td>\n",
       "    </tr>\n",
       "    <tr>\n",
       "      <th>2018-01-02 16:00:00</th>\n",
       "      <td>0.0</td>\n",
       "      <td>0.0</td>\n",
       "      <td>0.0</td>\n",
       "      <td>1.000000</td>\n",
       "      <td>0.0</td>\n",
       "      <td>47.068</td>\n",
       "      <td>22.968</td>\n",
       "      <td>-0.213428</td>\n",
       "      <td>-0.870063</td>\n",
       "      <td>0.0</td>\n",
       "      <td>0</td>\n",
       "      <td>0.0</td>\n",
       "    </tr>\n",
       "    <tr>\n",
       "      <th>2018-01-02 16:05:00</th>\n",
       "      <td>0.0</td>\n",
       "      <td>0.0</td>\n",
       "      <td>0.0</td>\n",
       "      <td>1.000000</td>\n",
       "      <td>0.0</td>\n",
       "      <td>47.068</td>\n",
       "      <td>22.968</td>\n",
       "      <td>-0.213428</td>\n",
       "      <td>-0.870063</td>\n",
       "      <td>0.0</td>\n",
       "      <td>0</td>\n",
       "      <td>0.0</td>\n",
       "    </tr>\n",
       "    <tr>\n",
       "      <th>2018-01-02 16:10:00</th>\n",
       "      <td>0.0</td>\n",
       "      <td>0.0</td>\n",
       "      <td>0.0</td>\n",
       "      <td>1.000000</td>\n",
       "      <td>0.0</td>\n",
       "      <td>47.068</td>\n",
       "      <td>22.968</td>\n",
       "      <td>-0.213428</td>\n",
       "      <td>-0.870063</td>\n",
       "      <td>0.0</td>\n",
       "      <td>0</td>\n",
       "      <td>0.0</td>\n",
       "    </tr>\n",
       "    <tr>\n",
       "      <th>2018-01-02 16:15:00</th>\n",
       "      <td>0.0</td>\n",
       "      <td>0.0</td>\n",
       "      <td>0.0</td>\n",
       "      <td>1.000000</td>\n",
       "      <td>0.0</td>\n",
       "      <td>47.068</td>\n",
       "      <td>22.968</td>\n",
       "      <td>-0.213428</td>\n",
       "      <td>-0.870063</td>\n",
       "      <td>0.0</td>\n",
       "      <td>0</td>\n",
       "      <td>0.0</td>\n",
       "    </tr>\n",
       "    <tr>\n",
       "      <th>2018-01-02 16:20:00</th>\n",
       "      <td>0.0</td>\n",
       "      <td>0.0</td>\n",
       "      <td>-0.0</td>\n",
       "      <td>1.000000</td>\n",
       "      <td>0.0</td>\n",
       "      <td>47.068</td>\n",
       "      <td>22.938</td>\n",
       "      <td>-0.213428</td>\n",
       "      <td>-0.873113</td>\n",
       "      <td>0.0</td>\n",
       "      <td>0</td>\n",
       "      <td>0.0</td>\n",
       "    </tr>\n",
       "    <tr>\n",
       "      <th>2018-01-02 16:25:00</th>\n",
       "      <td>0.0</td>\n",
       "      <td>0.0</td>\n",
       "      <td>0.0</td>\n",
       "      <td>1.000000</td>\n",
       "      <td>0.0</td>\n",
       "      <td>47.068</td>\n",
       "      <td>22.938</td>\n",
       "      <td>-0.213428</td>\n",
       "      <td>-0.873113</td>\n",
       "      <td>0.0</td>\n",
       "      <td>0</td>\n",
       "      <td>0.0</td>\n",
       "    </tr>\n",
       "    <tr>\n",
       "      <th>2018-01-02 16:30:00</th>\n",
       "      <td>0.0</td>\n",
       "      <td>0.0</td>\n",
       "      <td>0.0</td>\n",
       "      <td>1.000000</td>\n",
       "      <td>0.0</td>\n",
       "      <td>47.068</td>\n",
       "      <td>22.938</td>\n",
       "      <td>-0.213428</td>\n",
       "      <td>-0.873113</td>\n",
       "      <td>0.0</td>\n",
       "      <td>0</td>\n",
       "      <td>0.0</td>\n",
       "    </tr>\n",
       "    <tr>\n",
       "      <th>2018-01-02 16:35:00</th>\n",
       "      <td>0.0</td>\n",
       "      <td>0.0</td>\n",
       "      <td>0.0</td>\n",
       "      <td>1.000000</td>\n",
       "      <td>0.0</td>\n",
       "      <td>47.068</td>\n",
       "      <td>22.938</td>\n",
       "      <td>-0.213428</td>\n",
       "      <td>-0.873113</td>\n",
       "      <td>0.0</td>\n",
       "      <td>0</td>\n",
       "      <td>0.0</td>\n",
       "    </tr>\n",
       "    <tr>\n",
       "      <th>2018-01-02 16:40:00</th>\n",
       "      <td>0.0</td>\n",
       "      <td>0.0</td>\n",
       "      <td>0.0</td>\n",
       "      <td>1.000000</td>\n",
       "      <td>0.0</td>\n",
       "      <td>47.068</td>\n",
       "      <td>22.938</td>\n",
       "      <td>-0.213428</td>\n",
       "      <td>-0.873113</td>\n",
       "      <td>0.0</td>\n",
       "      <td>0</td>\n",
       "      <td>0.0</td>\n",
       "    </tr>\n",
       "    <tr>\n",
       "      <th>2018-01-02 16:45:00</th>\n",
       "      <td>0.0</td>\n",
       "      <td>0.0</td>\n",
       "      <td>0.0</td>\n",
       "      <td>1.000000</td>\n",
       "      <td>0.0</td>\n",
       "      <td>47.068</td>\n",
       "      <td>22.938</td>\n",
       "      <td>-0.213428</td>\n",
       "      <td>-0.873113</td>\n",
       "      <td>0.0</td>\n",
       "      <td>0</td>\n",
       "      <td>0.0</td>\n",
       "    </tr>\n",
       "    <tr>\n",
       "      <th>2018-01-02 16:50:00</th>\n",
       "      <td>0.0</td>\n",
       "      <td>0.0</td>\n",
       "      <td>0.0</td>\n",
       "      <td>1.000000</td>\n",
       "      <td>0.0</td>\n",
       "      <td>47.068</td>\n",
       "      <td>22.938</td>\n",
       "      <td>-0.213428</td>\n",
       "      <td>-0.873113</td>\n",
       "      <td>0.0</td>\n",
       "      <td>0</td>\n",
       "      <td>0.0</td>\n",
       "    </tr>\n",
       "    <tr>\n",
       "      <th>2018-01-02 16:55:00</th>\n",
       "      <td>0.0</td>\n",
       "      <td>0.0</td>\n",
       "      <td>0.0</td>\n",
       "      <td>1.000000</td>\n",
       "      <td>0.0</td>\n",
       "      <td>47.068</td>\n",
       "      <td>22.938</td>\n",
       "      <td>-0.213428</td>\n",
       "      <td>-0.873113</td>\n",
       "      <td>0.0</td>\n",
       "      <td>0</td>\n",
       "      <td>0.0</td>\n",
       "    </tr>\n",
       "    <tr>\n",
       "      <th>2018-01-02 17:00:00</th>\n",
       "      <td>0.0</td>\n",
       "      <td>0.0</td>\n",
       "      <td>0.0</td>\n",
       "      <td>1.000000</td>\n",
       "      <td>0.0</td>\n",
       "      <td>47.068</td>\n",
       "      <td>22.938</td>\n",
       "      <td>-0.213428</td>\n",
       "      <td>-0.873113</td>\n",
       "      <td>0.0</td>\n",
       "      <td>0</td>\n",
       "      <td>0.0</td>\n",
       "    </tr>\n",
       "    <tr>\n",
       "      <th>...</th>\n",
       "      <td>...</td>\n",
       "      <td>...</td>\n",
       "      <td>...</td>\n",
       "      <td>...</td>\n",
       "      <td>...</td>\n",
       "      <td>...</td>\n",
       "      <td>...</td>\n",
       "      <td>...</td>\n",
       "      <td>...</td>\n",
       "      <td>...</td>\n",
       "      <td>...</td>\n",
       "      <td>...</td>\n",
       "    </tr>\n",
       "    <tr>\n",
       "      <th>2018-12-28 18:35:00</th>\n",
       "      <td>0.0</td>\n",
       "      <td>0.0</td>\n",
       "      <td>0.0</td>\n",
       "      <td>1.141437</td>\n",
       "      <td>0.0</td>\n",
       "      <td>49.632</td>\n",
       "      <td>17.321</td>\n",
       "      <td>-0.213428</td>\n",
       "      <td>-0.222901</td>\n",
       "      <td>0.0</td>\n",
       "      <td>0</td>\n",
       "      <td>0.0</td>\n",
       "    </tr>\n",
       "    <tr>\n",
       "      <th>2018-12-28 18:40:00</th>\n",
       "      <td>0.0</td>\n",
       "      <td>0.0</td>\n",
       "      <td>-0.0</td>\n",
       "      <td>1.141437</td>\n",
       "      <td>0.0</td>\n",
       "      <td>49.632</td>\n",
       "      <td>17.220</td>\n",
       "      <td>-0.213428</td>\n",
       "      <td>-0.233167</td>\n",
       "      <td>0.0</td>\n",
       "      <td>0</td>\n",
       "      <td>0.0</td>\n",
       "    </tr>\n",
       "    <tr>\n",
       "      <th>2018-12-28 18:45:00</th>\n",
       "      <td>0.0</td>\n",
       "      <td>0.0</td>\n",
       "      <td>0.0</td>\n",
       "      <td>1.141437</td>\n",
       "      <td>0.0</td>\n",
       "      <td>49.632</td>\n",
       "      <td>17.270</td>\n",
       "      <td>-0.213428</td>\n",
       "      <td>-0.228085</td>\n",
       "      <td>0.0</td>\n",
       "      <td>0</td>\n",
       "      <td>0.0</td>\n",
       "    </tr>\n",
       "    <tr>\n",
       "      <th>2018-12-28 18:50:00</th>\n",
       "      <td>0.0</td>\n",
       "      <td>0.0</td>\n",
       "      <td>0.0</td>\n",
       "      <td>1.141437</td>\n",
       "      <td>0.0</td>\n",
       "      <td>49.632</td>\n",
       "      <td>17.270</td>\n",
       "      <td>-0.213428</td>\n",
       "      <td>-0.228085</td>\n",
       "      <td>0.0</td>\n",
       "      <td>0</td>\n",
       "      <td>0.0</td>\n",
       "    </tr>\n",
       "    <tr>\n",
       "      <th>2018-12-28 18:55:00</th>\n",
       "      <td>0.0</td>\n",
       "      <td>0.0</td>\n",
       "      <td>0.0</td>\n",
       "      <td>1.141437</td>\n",
       "      <td>0.0</td>\n",
       "      <td>49.632</td>\n",
       "      <td>17.270</td>\n",
       "      <td>-0.213428</td>\n",
       "      <td>-0.228085</td>\n",
       "      <td>0.0</td>\n",
       "      <td>0</td>\n",
       "      <td>0.0</td>\n",
       "    </tr>\n",
       "    <tr>\n",
       "      <th>2018-12-28 19:00:00</th>\n",
       "      <td>0.0</td>\n",
       "      <td>0.0</td>\n",
       "      <td>0.0</td>\n",
       "      <td>1.141437</td>\n",
       "      <td>0.0</td>\n",
       "      <td>49.632</td>\n",
       "      <td>17.342</td>\n",
       "      <td>-0.213428</td>\n",
       "      <td>-0.220766</td>\n",
       "      <td>0.0</td>\n",
       "      <td>0</td>\n",
       "      <td>0.0</td>\n",
       "    </tr>\n",
       "    <tr>\n",
       "      <th>2018-12-28 19:05:00</th>\n",
       "      <td>0.0</td>\n",
       "      <td>0.0</td>\n",
       "      <td>0.0</td>\n",
       "      <td>1.141437</td>\n",
       "      <td>0.0</td>\n",
       "      <td>49.632</td>\n",
       "      <td>17.342</td>\n",
       "      <td>-0.213428</td>\n",
       "      <td>-0.220766</td>\n",
       "      <td>0.0</td>\n",
       "      <td>0</td>\n",
       "      <td>0.0</td>\n",
       "    </tr>\n",
       "    <tr>\n",
       "      <th>2018-12-28 19:10:00</th>\n",
       "      <td>0.0</td>\n",
       "      <td>0.0</td>\n",
       "      <td>0.0</td>\n",
       "      <td>1.141437</td>\n",
       "      <td>0.0</td>\n",
       "      <td>49.632</td>\n",
       "      <td>17.440</td>\n",
       "      <td>-0.213428</td>\n",
       "      <td>-0.210804</td>\n",
       "      <td>0.0</td>\n",
       "      <td>0</td>\n",
       "      <td>0.0</td>\n",
       "    </tr>\n",
       "    <tr>\n",
       "      <th>2018-12-28 19:15:00</th>\n",
       "      <td>0.0</td>\n",
       "      <td>0.0</td>\n",
       "      <td>0.0</td>\n",
       "      <td>1.141437</td>\n",
       "      <td>0.0</td>\n",
       "      <td>49.632</td>\n",
       "      <td>17.490</td>\n",
       "      <td>-0.213428</td>\n",
       "      <td>-0.205721</td>\n",
       "      <td>0.0</td>\n",
       "      <td>0</td>\n",
       "      <td>0.0</td>\n",
       "    </tr>\n",
       "    <tr>\n",
       "      <th>2018-12-28 19:20:00</th>\n",
       "      <td>0.0</td>\n",
       "      <td>0.0</td>\n",
       "      <td>0.0</td>\n",
       "      <td>1.141437</td>\n",
       "      <td>0.0</td>\n",
       "      <td>49.632</td>\n",
       "      <td>17.490</td>\n",
       "      <td>-0.213428</td>\n",
       "      <td>-0.205721</td>\n",
       "      <td>0.0</td>\n",
       "      <td>0</td>\n",
       "      <td>0.0</td>\n",
       "    </tr>\n",
       "    <tr>\n",
       "      <th>2018-12-28 19:25:00</th>\n",
       "      <td>0.0</td>\n",
       "      <td>0.0</td>\n",
       "      <td>0.0</td>\n",
       "      <td>1.141437</td>\n",
       "      <td>0.0</td>\n",
       "      <td>49.632</td>\n",
       "      <td>17.490</td>\n",
       "      <td>-0.213428</td>\n",
       "      <td>-0.205721</td>\n",
       "      <td>0.0</td>\n",
       "      <td>0</td>\n",
       "      <td>0.0</td>\n",
       "    </tr>\n",
       "    <tr>\n",
       "      <th>2018-12-28 19:30:00</th>\n",
       "      <td>0.0</td>\n",
       "      <td>0.0</td>\n",
       "      <td>0.0</td>\n",
       "      <td>1.141437</td>\n",
       "      <td>0.0</td>\n",
       "      <td>49.632</td>\n",
       "      <td>17.490</td>\n",
       "      <td>-0.213428</td>\n",
       "      <td>-0.205721</td>\n",
       "      <td>0.0</td>\n",
       "      <td>0</td>\n",
       "      <td>0.0</td>\n",
       "    </tr>\n",
       "    <tr>\n",
       "      <th>2018-12-28 19:35:00</th>\n",
       "      <td>0.0</td>\n",
       "      <td>0.0</td>\n",
       "      <td>0.0</td>\n",
       "      <td>1.141437</td>\n",
       "      <td>0.0</td>\n",
       "      <td>49.632</td>\n",
       "      <td>17.490</td>\n",
       "      <td>-0.213428</td>\n",
       "      <td>-0.205721</td>\n",
       "      <td>0.0</td>\n",
       "      <td>0</td>\n",
       "      <td>0.0</td>\n",
       "    </tr>\n",
       "    <tr>\n",
       "      <th>2018-12-28 19:40:00</th>\n",
       "      <td>0.0</td>\n",
       "      <td>-0.0</td>\n",
       "      <td>0.0</td>\n",
       "      <td>1.141437</td>\n",
       "      <td>0.0</td>\n",
       "      <td>49.540</td>\n",
       "      <td>17.490</td>\n",
       "      <td>-0.213428</td>\n",
       "      <td>-0.249539</td>\n",
       "      <td>0.0</td>\n",
       "      <td>0</td>\n",
       "      <td>0.0</td>\n",
       "    </tr>\n",
       "    <tr>\n",
       "      <th>2018-12-28 19:45:00</th>\n",
       "      <td>0.0</td>\n",
       "      <td>0.0</td>\n",
       "      <td>0.0</td>\n",
       "      <td>1.141437</td>\n",
       "      <td>0.0</td>\n",
       "      <td>49.540</td>\n",
       "      <td>17.490</td>\n",
       "      <td>-0.213428</td>\n",
       "      <td>-0.249539</td>\n",
       "      <td>0.0</td>\n",
       "      <td>0</td>\n",
       "      <td>0.0</td>\n",
       "    </tr>\n",
       "    <tr>\n",
       "      <th>2018-12-28 19:50:00</th>\n",
       "      <td>0.0</td>\n",
       "      <td>0.0</td>\n",
       "      <td>0.0</td>\n",
       "      <td>1.141437</td>\n",
       "      <td>0.0</td>\n",
       "      <td>49.540</td>\n",
       "      <td>17.648</td>\n",
       "      <td>-0.213428</td>\n",
       "      <td>-0.233478</td>\n",
       "      <td>0.0</td>\n",
       "      <td>0</td>\n",
       "      <td>0.0</td>\n",
       "    </tr>\n",
       "    <tr>\n",
       "      <th>2018-12-28 19:55:00</th>\n",
       "      <td>0.0</td>\n",
       "      <td>0.0</td>\n",
       "      <td>-0.0</td>\n",
       "      <td>1.141437</td>\n",
       "      <td>0.0</td>\n",
       "      <td>49.620</td>\n",
       "      <td>17.637</td>\n",
       "      <td>-0.213428</td>\n",
       "      <td>-0.196494</td>\n",
       "      <td>0.0</td>\n",
       "      <td>0</td>\n",
       "      <td>0.0</td>\n",
       "    </tr>\n",
       "    <tr>\n",
       "      <th>2018-12-28 20:00:00</th>\n",
       "      <td>0.0</td>\n",
       "      <td>0.0</td>\n",
       "      <td>0.0</td>\n",
       "      <td>1.141437</td>\n",
       "      <td>0.0</td>\n",
       "      <td>49.620</td>\n",
       "      <td>17.637</td>\n",
       "      <td>-0.213428</td>\n",
       "      <td>-0.196494</td>\n",
       "      <td>0.0</td>\n",
       "      <td>0</td>\n",
       "      <td>0.0</td>\n",
       "    </tr>\n",
       "    <tr>\n",
       "      <th>2018-12-28 20:05:00</th>\n",
       "      <td>0.0</td>\n",
       "      <td>0.0</td>\n",
       "      <td>-0.0</td>\n",
       "      <td>1.141437</td>\n",
       "      <td>0.0</td>\n",
       "      <td>49.620</td>\n",
       "      <td>17.538</td>\n",
       "      <td>-0.213428</td>\n",
       "      <td>-0.206557</td>\n",
       "      <td>0.0</td>\n",
       "      <td>0</td>\n",
       "      <td>0.0</td>\n",
       "    </tr>\n",
       "    <tr>\n",
       "      <th>2018-12-28 20:10:00</th>\n",
       "      <td>0.0</td>\n",
       "      <td>0.0</td>\n",
       "      <td>0.0</td>\n",
       "      <td>1.141437</td>\n",
       "      <td>0.0</td>\n",
       "      <td>49.620</td>\n",
       "      <td>17.538</td>\n",
       "      <td>-0.213428</td>\n",
       "      <td>-0.206557</td>\n",
       "      <td>0.0</td>\n",
       "      <td>0</td>\n",
       "      <td>0.0</td>\n",
       "    </tr>\n",
       "    <tr>\n",
       "      <th>2018-12-28 20:15:00</th>\n",
       "      <td>0.0</td>\n",
       "      <td>0.0</td>\n",
       "      <td>-0.0</td>\n",
       "      <td>1.141437</td>\n",
       "      <td>0.0</td>\n",
       "      <td>49.620</td>\n",
       "      <td>17.420</td>\n",
       "      <td>-0.213428</td>\n",
       "      <td>-0.218552</td>\n",
       "      <td>0.0</td>\n",
       "      <td>0</td>\n",
       "      <td>0.0</td>\n",
       "    </tr>\n",
       "    <tr>\n",
       "      <th>2018-12-28 20:20:00</th>\n",
       "      <td>0.0</td>\n",
       "      <td>0.0</td>\n",
       "      <td>0.0</td>\n",
       "      <td>1.141437</td>\n",
       "      <td>0.0</td>\n",
       "      <td>49.620</td>\n",
       "      <td>17.420</td>\n",
       "      <td>-0.213428</td>\n",
       "      <td>-0.218552</td>\n",
       "      <td>0.0</td>\n",
       "      <td>0</td>\n",
       "      <td>0.0</td>\n",
       "    </tr>\n",
       "    <tr>\n",
       "      <th>2018-12-28 20:25:00</th>\n",
       "      <td>0.0</td>\n",
       "      <td>0.0</td>\n",
       "      <td>0.0</td>\n",
       "      <td>1.141437</td>\n",
       "      <td>0.0</td>\n",
       "      <td>49.620</td>\n",
       "      <td>17.420</td>\n",
       "      <td>-0.213428</td>\n",
       "      <td>-0.218552</td>\n",
       "      <td>0.0</td>\n",
       "      <td>0</td>\n",
       "      <td>0.0</td>\n",
       "    </tr>\n",
       "    <tr>\n",
       "      <th>2018-12-28 20:30:00</th>\n",
       "      <td>0.0</td>\n",
       "      <td>0.0</td>\n",
       "      <td>-0.0</td>\n",
       "      <td>1.141437</td>\n",
       "      <td>0.0</td>\n",
       "      <td>49.620</td>\n",
       "      <td>17.296</td>\n",
       "      <td>-0.213428</td>\n",
       "      <td>-0.231157</td>\n",
       "      <td>0.0</td>\n",
       "      <td>0</td>\n",
       "      <td>0.0</td>\n",
       "    </tr>\n",
       "    <tr>\n",
       "      <th>2018-12-28 20:35:00</th>\n",
       "      <td>0.0</td>\n",
       "      <td>-0.0</td>\n",
       "      <td>0.0</td>\n",
       "      <td>1.141437</td>\n",
       "      <td>0.0</td>\n",
       "      <td>49.240</td>\n",
       "      <td>17.298</td>\n",
       "      <td>-0.213428</td>\n",
       "      <td>-0.411943</td>\n",
       "      <td>0.0</td>\n",
       "      <td>0</td>\n",
       "      <td>0.0</td>\n",
       "    </tr>\n",
       "    <tr>\n",
       "      <th>2018-12-28 20:40:00</th>\n",
       "      <td>0.0</td>\n",
       "      <td>0.0</td>\n",
       "      <td>0.0</td>\n",
       "      <td>1.141437</td>\n",
       "      <td>0.0</td>\n",
       "      <td>49.240</td>\n",
       "      <td>17.360</td>\n",
       "      <td>-0.213428</td>\n",
       "      <td>-0.405640</td>\n",
       "      <td>0.0</td>\n",
       "      <td>0</td>\n",
       "      <td>0.0</td>\n",
       "    </tr>\n",
       "    <tr>\n",
       "      <th>2018-12-28 20:45:00</th>\n",
       "      <td>0.0</td>\n",
       "      <td>0.0</td>\n",
       "      <td>-0.0</td>\n",
       "      <td>1.141437</td>\n",
       "      <td>0.0</td>\n",
       "      <td>49.240</td>\n",
       "      <td>17.310</td>\n",
       "      <td>-0.213428</td>\n",
       "      <td>-0.410723</td>\n",
       "      <td>0.0</td>\n",
       "      <td>0</td>\n",
       "      <td>0.0</td>\n",
       "    </tr>\n",
       "    <tr>\n",
       "      <th>2018-12-28 20:50:00</th>\n",
       "      <td>0.0</td>\n",
       "      <td>0.0</td>\n",
       "      <td>-0.0</td>\n",
       "      <td>1.141437</td>\n",
       "      <td>0.0</td>\n",
       "      <td>49.240</td>\n",
       "      <td>17.294</td>\n",
       "      <td>-0.213428</td>\n",
       "      <td>-0.412349</td>\n",
       "      <td>0.0</td>\n",
       "      <td>0</td>\n",
       "      <td>0.0</td>\n",
       "    </tr>\n",
       "    <tr>\n",
       "      <th>2018-12-28 20:55:00</th>\n",
       "      <td>0.0</td>\n",
       "      <td>0.0</td>\n",
       "      <td>-0.0</td>\n",
       "      <td>1.141437</td>\n",
       "      <td>0.0</td>\n",
       "      <td>49.240</td>\n",
       "      <td>17.284</td>\n",
       "      <td>-0.213428</td>\n",
       "      <td>-0.413366</td>\n",
       "      <td>0.0</td>\n",
       "      <td>0</td>\n",
       "      <td>0.0</td>\n",
       "    </tr>\n",
       "    <tr>\n",
       "      <th>2018-12-28 21:00:00</th>\n",
       "      <td>0.0</td>\n",
       "      <td>0.0</td>\n",
       "      <td>-0.0</td>\n",
       "      <td>1.141437</td>\n",
       "      <td>0.0</td>\n",
       "      <td>49.240</td>\n",
       "      <td>17.250</td>\n",
       "      <td>-0.213428</td>\n",
       "      <td>-0.416822</td>\n",
       "      <td>0.0</td>\n",
       "      <td>0</td>\n",
       "      <td>0.0</td>\n",
       "    </tr>\n",
       "  </tbody>\n",
       "</table>\n",
       "<p>19392 rows × 12 columns</p>\n",
       "</div>"
      ],
      "text/plain": [
       "                     pnl  pnl_y  pnl_x  account_balance  position_return  \\\n",
       "2018-01-02 14:35:00  0.0    0.0    0.0         1.000000              0.0   \n",
       "2018-01-02 14:40:00  0.0    0.0    0.0         1.000000              0.0   \n",
       "2018-01-02 14:45:00  0.0    0.0    0.0         1.000000              0.0   \n",
       "2018-01-02 14:50:00  0.0    0.0    0.0         1.000000              0.0   \n",
       "2018-01-02 14:55:00  0.0    0.0    0.0         1.000000              0.0   \n",
       "2018-01-02 15:00:00  0.0    0.0    0.0         1.000000              0.0   \n",
       "2018-01-02 15:05:00  0.0    0.0    0.0         1.000000              0.0   \n",
       "2018-01-02 15:10:00  0.0    0.0    0.0         1.000000              0.0   \n",
       "2018-01-02 15:15:00  0.0    0.0    0.0         1.000000              0.0   \n",
       "2018-01-02 15:20:00  0.0    0.0    0.0         1.000000              0.0   \n",
       "2018-01-02 15:25:00  0.0    0.0    0.0         1.000000              0.0   \n",
       "2018-01-02 15:30:00  0.0    0.0    0.0         1.000000              0.0   \n",
       "2018-01-02 15:35:00  0.0    0.0    0.0         1.000000              0.0   \n",
       "2018-01-02 15:40:00  0.0    0.0   -0.0         1.000000              0.0   \n",
       "2018-01-02 15:45:00  0.0    0.0    0.0         1.000000              0.0   \n",
       "2018-01-02 15:50:00  0.0    0.0    0.0         1.000000              0.0   \n",
       "2018-01-02 15:55:00  0.0    0.0    0.0         1.000000              0.0   \n",
       "2018-01-02 16:00:00  0.0    0.0    0.0         1.000000              0.0   \n",
       "2018-01-02 16:05:00  0.0    0.0    0.0         1.000000              0.0   \n",
       "2018-01-02 16:10:00  0.0    0.0    0.0         1.000000              0.0   \n",
       "2018-01-02 16:15:00  0.0    0.0    0.0         1.000000              0.0   \n",
       "2018-01-02 16:20:00  0.0    0.0   -0.0         1.000000              0.0   \n",
       "2018-01-02 16:25:00  0.0    0.0    0.0         1.000000              0.0   \n",
       "2018-01-02 16:30:00  0.0    0.0    0.0         1.000000              0.0   \n",
       "2018-01-02 16:35:00  0.0    0.0    0.0         1.000000              0.0   \n",
       "2018-01-02 16:40:00  0.0    0.0    0.0         1.000000              0.0   \n",
       "2018-01-02 16:45:00  0.0    0.0    0.0         1.000000              0.0   \n",
       "2018-01-02 16:50:00  0.0    0.0    0.0         1.000000              0.0   \n",
       "2018-01-02 16:55:00  0.0    0.0    0.0         1.000000              0.0   \n",
       "2018-01-02 17:00:00  0.0    0.0    0.0         1.000000              0.0   \n",
       "...                  ...    ...    ...              ...              ...   \n",
       "2018-12-28 18:35:00  0.0    0.0    0.0         1.141437              0.0   \n",
       "2018-12-28 18:40:00  0.0    0.0   -0.0         1.141437              0.0   \n",
       "2018-12-28 18:45:00  0.0    0.0    0.0         1.141437              0.0   \n",
       "2018-12-28 18:50:00  0.0    0.0    0.0         1.141437              0.0   \n",
       "2018-12-28 18:55:00  0.0    0.0    0.0         1.141437              0.0   \n",
       "2018-12-28 19:00:00  0.0    0.0    0.0         1.141437              0.0   \n",
       "2018-12-28 19:05:00  0.0    0.0    0.0         1.141437              0.0   \n",
       "2018-12-28 19:10:00  0.0    0.0    0.0         1.141437              0.0   \n",
       "2018-12-28 19:15:00  0.0    0.0    0.0         1.141437              0.0   \n",
       "2018-12-28 19:20:00  0.0    0.0    0.0         1.141437              0.0   \n",
       "2018-12-28 19:25:00  0.0    0.0    0.0         1.141437              0.0   \n",
       "2018-12-28 19:30:00  0.0    0.0    0.0         1.141437              0.0   \n",
       "2018-12-28 19:35:00  0.0    0.0    0.0         1.141437              0.0   \n",
       "2018-12-28 19:40:00  0.0   -0.0    0.0         1.141437              0.0   \n",
       "2018-12-28 19:45:00  0.0    0.0    0.0         1.141437              0.0   \n",
       "2018-12-28 19:50:00  0.0    0.0    0.0         1.141437              0.0   \n",
       "2018-12-28 19:55:00  0.0    0.0   -0.0         1.141437              0.0   \n",
       "2018-12-28 20:00:00  0.0    0.0    0.0         1.141437              0.0   \n",
       "2018-12-28 20:05:00  0.0    0.0   -0.0         1.141437              0.0   \n",
       "2018-12-28 20:10:00  0.0    0.0    0.0         1.141437              0.0   \n",
       "2018-12-28 20:15:00  0.0    0.0   -0.0         1.141437              0.0   \n",
       "2018-12-28 20:20:00  0.0    0.0    0.0         1.141437              0.0   \n",
       "2018-12-28 20:25:00  0.0    0.0    0.0         1.141437              0.0   \n",
       "2018-12-28 20:30:00  0.0    0.0   -0.0         1.141437              0.0   \n",
       "2018-12-28 20:35:00  0.0   -0.0    0.0         1.141437              0.0   \n",
       "2018-12-28 20:40:00  0.0    0.0    0.0         1.141437              0.0   \n",
       "2018-12-28 20:45:00  0.0    0.0   -0.0         1.141437              0.0   \n",
       "2018-12-28 20:50:00  0.0    0.0   -0.0         1.141437              0.0   \n",
       "2018-12-28 20:55:00  0.0    0.0   -0.0         1.141437              0.0   \n",
       "2018-12-28 21:00:00  0.0    0.0   -0.0         1.141437              0.0   \n",
       "\n",
       "                        NLR     PXE      beta  norm_spread  \\\n",
       "2018-01-02 14:35:00  47.068  22.661 -0.213428    -0.901271   \n",
       "2018-01-02 14:40:00  47.068  22.661 -0.213428    -0.901271   \n",
       "2018-01-02 14:45:00  47.068  22.846 -0.213428    -0.882465   \n",
       "2018-01-02 14:50:00  47.068  22.846 -0.213428    -0.882465   \n",
       "2018-01-02 14:55:00  47.068  22.898 -0.213428    -0.877179   \n",
       "2018-01-02 15:00:00  47.068  22.898 -0.213428    -0.877179   \n",
       "2018-01-02 15:05:00  47.068  22.918 -0.213428    -0.875146   \n",
       "2018-01-02 15:10:00  47.068  23.037 -0.213428    -0.863049   \n",
       "2018-01-02 15:15:00  47.068  23.037 -0.213428    -0.863049   \n",
       "2018-01-02 15:20:00  47.068  23.037 -0.213428    -0.863049   \n",
       "2018-01-02 15:25:00  47.068  23.037 -0.213428    -0.863049   \n",
       "2018-01-02 15:30:00  47.068  23.037 -0.213428    -0.863049   \n",
       "2018-01-02 15:35:00  47.068  23.037 -0.213428    -0.863049   \n",
       "2018-01-02 15:40:00  47.068  22.963 -0.213428    -0.870571   \n",
       "2018-01-02 15:45:00  47.068  22.968 -0.213428    -0.870063   \n",
       "2018-01-02 15:50:00  47.068  22.968 -0.213428    -0.870063   \n",
       "2018-01-02 15:55:00  47.068  22.968 -0.213428    -0.870063   \n",
       "2018-01-02 16:00:00  47.068  22.968 -0.213428    -0.870063   \n",
       "2018-01-02 16:05:00  47.068  22.968 -0.213428    -0.870063   \n",
       "2018-01-02 16:10:00  47.068  22.968 -0.213428    -0.870063   \n",
       "2018-01-02 16:15:00  47.068  22.968 -0.213428    -0.870063   \n",
       "2018-01-02 16:20:00  47.068  22.938 -0.213428    -0.873113   \n",
       "2018-01-02 16:25:00  47.068  22.938 -0.213428    -0.873113   \n",
       "2018-01-02 16:30:00  47.068  22.938 -0.213428    -0.873113   \n",
       "2018-01-02 16:35:00  47.068  22.938 -0.213428    -0.873113   \n",
       "2018-01-02 16:40:00  47.068  22.938 -0.213428    -0.873113   \n",
       "2018-01-02 16:45:00  47.068  22.938 -0.213428    -0.873113   \n",
       "2018-01-02 16:50:00  47.068  22.938 -0.213428    -0.873113   \n",
       "2018-01-02 16:55:00  47.068  22.938 -0.213428    -0.873113   \n",
       "2018-01-02 17:00:00  47.068  22.938 -0.213428    -0.873113   \n",
       "...                     ...     ...       ...          ...   \n",
       "2018-12-28 18:35:00  49.632  17.321 -0.213428    -0.222901   \n",
       "2018-12-28 18:40:00  49.632  17.220 -0.213428    -0.233167   \n",
       "2018-12-28 18:45:00  49.632  17.270 -0.213428    -0.228085   \n",
       "2018-12-28 18:50:00  49.632  17.270 -0.213428    -0.228085   \n",
       "2018-12-28 18:55:00  49.632  17.270 -0.213428    -0.228085   \n",
       "2018-12-28 19:00:00  49.632  17.342 -0.213428    -0.220766   \n",
       "2018-12-28 19:05:00  49.632  17.342 -0.213428    -0.220766   \n",
       "2018-12-28 19:10:00  49.632  17.440 -0.213428    -0.210804   \n",
       "2018-12-28 19:15:00  49.632  17.490 -0.213428    -0.205721   \n",
       "2018-12-28 19:20:00  49.632  17.490 -0.213428    -0.205721   \n",
       "2018-12-28 19:25:00  49.632  17.490 -0.213428    -0.205721   \n",
       "2018-12-28 19:30:00  49.632  17.490 -0.213428    -0.205721   \n",
       "2018-12-28 19:35:00  49.632  17.490 -0.213428    -0.205721   \n",
       "2018-12-28 19:40:00  49.540  17.490 -0.213428    -0.249539   \n",
       "2018-12-28 19:45:00  49.540  17.490 -0.213428    -0.249539   \n",
       "2018-12-28 19:50:00  49.540  17.648 -0.213428    -0.233478   \n",
       "2018-12-28 19:55:00  49.620  17.637 -0.213428    -0.196494   \n",
       "2018-12-28 20:00:00  49.620  17.637 -0.213428    -0.196494   \n",
       "2018-12-28 20:05:00  49.620  17.538 -0.213428    -0.206557   \n",
       "2018-12-28 20:10:00  49.620  17.538 -0.213428    -0.206557   \n",
       "2018-12-28 20:15:00  49.620  17.420 -0.213428    -0.218552   \n",
       "2018-12-28 20:20:00  49.620  17.420 -0.213428    -0.218552   \n",
       "2018-12-28 20:25:00  49.620  17.420 -0.213428    -0.218552   \n",
       "2018-12-28 20:30:00  49.620  17.296 -0.213428    -0.231157   \n",
       "2018-12-28 20:35:00  49.240  17.298 -0.213428    -0.411943   \n",
       "2018-12-28 20:40:00  49.240  17.360 -0.213428    -0.405640   \n",
       "2018-12-28 20:45:00  49.240  17.310 -0.213428    -0.410723   \n",
       "2018-12-28 20:50:00  49.240  17.294 -0.213428    -0.412349   \n",
       "2018-12-28 20:55:00  49.240  17.284 -0.213428    -0.413366   \n",
       "2018-12-28 21:00:00  49.240  17.250 -0.213428    -0.416822   \n",
       "\n",
       "                     position_during_day  trading_days  \\\n",
       "2018-01-02 14:35:00                  0.0             0   \n",
       "2018-01-02 14:40:00                  0.0             0   \n",
       "2018-01-02 14:45:00                  0.0             0   \n",
       "2018-01-02 14:50:00                  0.0             0   \n",
       "2018-01-02 14:55:00                  0.0             0   \n",
       "2018-01-02 15:00:00                  0.0             0   \n",
       "2018-01-02 15:05:00                  0.0             0   \n",
       "2018-01-02 15:10:00                  0.0             0   \n",
       "2018-01-02 15:15:00                  0.0             0   \n",
       "2018-01-02 15:20:00                  0.0             0   \n",
       "2018-01-02 15:25:00                  0.0             0   \n",
       "2018-01-02 15:30:00                  0.0             0   \n",
       "2018-01-02 15:35:00                  0.0             0   \n",
       "2018-01-02 15:40:00                  0.0             0   \n",
       "2018-01-02 15:45:00                  0.0             0   \n",
       "2018-01-02 15:50:00                  0.0             0   \n",
       "2018-01-02 15:55:00                  0.0             0   \n",
       "2018-01-02 16:00:00                  0.0             0   \n",
       "2018-01-02 16:05:00                  0.0             0   \n",
       "2018-01-02 16:10:00                  0.0             0   \n",
       "2018-01-02 16:15:00                  0.0             0   \n",
       "2018-01-02 16:20:00                  0.0             0   \n",
       "2018-01-02 16:25:00                  0.0             0   \n",
       "2018-01-02 16:30:00                  0.0             0   \n",
       "2018-01-02 16:35:00                  0.0             0   \n",
       "2018-01-02 16:40:00                  0.0             0   \n",
       "2018-01-02 16:45:00                  0.0             0   \n",
       "2018-01-02 16:50:00                  0.0             0   \n",
       "2018-01-02 16:55:00                  0.0             0   \n",
       "2018-01-02 17:00:00                  0.0             0   \n",
       "...                                  ...           ...   \n",
       "2018-12-28 18:35:00                  0.0             0   \n",
       "2018-12-28 18:40:00                  0.0             0   \n",
       "2018-12-28 18:45:00                  0.0             0   \n",
       "2018-12-28 18:50:00                  0.0             0   \n",
       "2018-12-28 18:55:00                  0.0             0   \n",
       "2018-12-28 19:00:00                  0.0             0   \n",
       "2018-12-28 19:05:00                  0.0             0   \n",
       "2018-12-28 19:10:00                  0.0             0   \n",
       "2018-12-28 19:15:00                  0.0             0   \n",
       "2018-12-28 19:20:00                  0.0             0   \n",
       "2018-12-28 19:25:00                  0.0             0   \n",
       "2018-12-28 19:30:00                  0.0             0   \n",
       "2018-12-28 19:35:00                  0.0             0   \n",
       "2018-12-28 19:40:00                  0.0             0   \n",
       "2018-12-28 19:45:00                  0.0             0   \n",
       "2018-12-28 19:50:00                  0.0             0   \n",
       "2018-12-28 19:55:00                  0.0             0   \n",
       "2018-12-28 20:00:00                  0.0             0   \n",
       "2018-12-28 20:05:00                  0.0             0   \n",
       "2018-12-28 20:10:00                  0.0             0   \n",
       "2018-12-28 20:15:00                  0.0             0   \n",
       "2018-12-28 20:20:00                  0.0             0   \n",
       "2018-12-28 20:25:00                  0.0             0   \n",
       "2018-12-28 20:30:00                  0.0             0   \n",
       "2018-12-28 20:35:00                  0.0             0   \n",
       "2018-12-28 20:40:00                  0.0             0   \n",
       "2018-12-28 20:45:00                  0.0             0   \n",
       "2018-12-28 20:50:00                  0.0             0   \n",
       "2018-12-28 20:55:00                  0.0             0   \n",
       "2018-12-28 21:00:00                  0.0             0   \n",
       "\n",
       "                     position_ret_with_costs  \n",
       "2018-01-02 14:35:00                      0.0  \n",
       "2018-01-02 14:40:00                      0.0  \n",
       "2018-01-02 14:45:00                      0.0  \n",
       "2018-01-02 14:50:00                      0.0  \n",
       "2018-01-02 14:55:00                      0.0  \n",
       "2018-01-02 15:00:00                      0.0  \n",
       "2018-01-02 15:05:00                      0.0  \n",
       "2018-01-02 15:10:00                      0.0  \n",
       "2018-01-02 15:15:00                      0.0  \n",
       "2018-01-02 15:20:00                      0.0  \n",
       "2018-01-02 15:25:00                      0.0  \n",
       "2018-01-02 15:30:00                      0.0  \n",
       "2018-01-02 15:35:00                      0.0  \n",
       "2018-01-02 15:40:00                      0.0  \n",
       "2018-01-02 15:45:00                      0.0  \n",
       "2018-01-02 15:50:00                      0.0  \n",
       "2018-01-02 15:55:00                      0.0  \n",
       "2018-01-02 16:00:00                      0.0  \n",
       "2018-01-02 16:05:00                      0.0  \n",
       "2018-01-02 16:10:00                      0.0  \n",
       "2018-01-02 16:15:00                      0.0  \n",
       "2018-01-02 16:20:00                      0.0  \n",
       "2018-01-02 16:25:00                      0.0  \n",
       "2018-01-02 16:30:00                      0.0  \n",
       "2018-01-02 16:35:00                      0.0  \n",
       "2018-01-02 16:40:00                      0.0  \n",
       "2018-01-02 16:45:00                      0.0  \n",
       "2018-01-02 16:50:00                      0.0  \n",
       "2018-01-02 16:55:00                      0.0  \n",
       "2018-01-02 17:00:00                      0.0  \n",
       "...                                      ...  \n",
       "2018-12-28 18:35:00                      0.0  \n",
       "2018-12-28 18:40:00                      0.0  \n",
       "2018-12-28 18:45:00                      0.0  \n",
       "2018-12-28 18:50:00                      0.0  \n",
       "2018-12-28 18:55:00                      0.0  \n",
       "2018-12-28 19:00:00                      0.0  \n",
       "2018-12-28 19:05:00                      0.0  \n",
       "2018-12-28 19:10:00                      0.0  \n",
       "2018-12-28 19:15:00                      0.0  \n",
       "2018-12-28 19:20:00                      0.0  \n",
       "2018-12-28 19:25:00                      0.0  \n",
       "2018-12-28 19:30:00                      0.0  \n",
       "2018-12-28 19:35:00                      0.0  \n",
       "2018-12-28 19:40:00                      0.0  \n",
       "2018-12-28 19:45:00                      0.0  \n",
       "2018-12-28 19:50:00                      0.0  \n",
       "2018-12-28 19:55:00                      0.0  \n",
       "2018-12-28 20:00:00                      0.0  \n",
       "2018-12-28 20:05:00                      0.0  \n",
       "2018-12-28 20:10:00                      0.0  \n",
       "2018-12-28 20:15:00                      0.0  \n",
       "2018-12-28 20:20:00                      0.0  \n",
       "2018-12-28 20:25:00                      0.0  \n",
       "2018-12-28 20:30:00                      0.0  \n",
       "2018-12-28 20:35:00                      0.0  \n",
       "2018-12-28 20:40:00                      0.0  \n",
       "2018-12-28 20:45:00                      0.0  \n",
       "2018-12-28 20:50:00                      0.0  \n",
       "2018-12-28 20:55:00                      0.0  \n",
       "2018-12-28 21:00:00                      0.0  \n",
       "\n",
       "[19392 rows x 12 columns]"
      ]
     },
     "execution_count": 591,
     "metadata": {},
     "output_type": "execute_result"
    }
   ],
   "source": [
    "performance_threshold_test[0][1]"
   ]
  },
  {
   "cell_type": "code",
   "execution_count": 568,
   "metadata": {
    "scrolled": false
   },
   "outputs": [
    {
     "name": "stdout",
     "output_type": "stream",
     "text": [
      "14.143706859404137\n",
      "11.509162928488493\n",
      "17.80030977000411\n",
      "16.513273955088238\n",
      "10.916418634459557\n",
      "8.892473995248974\n",
      "181.33047512427325\n",
      "26.080458533684304\n",
      "-0.7086139489076104\n"
     ]
    },
    {
     "data": {
      "text/plain": [
       "31.830851761304828"
      ]
     },
     "execution_count": 568,
     "metadata": {},
     "output_type": "execute_result"
    }
   ],
   "source": [
    "aux = []\n",
    "for i in range(len(pairs)):\n",
    "    print((performance_threshold_test[i][1].account_balance[-1]-1)*100)\n",
    "    aux.append((performance_threshold_test[i][1].account_balance[-1]-1)*100)\n",
    "np.mean(aux)       "
   ]
  },
  {
   "cell_type": "code",
   "execution_count": 577,
   "metadata": {},
   "outputs": [
    {
     "name": "stdout",
     "output_type": "stream",
     "text": [
      "0.09697141774003791\n",
      "-0.008046677787548391\n"
     ]
    }
   ],
   "source": [
    "print(performance_threshold_test[5][1].pnl_y.sum())\n",
    "print(performance_threshold_test[5][1].pnl_x.sum())"
   ]
  },
  {
   "cell_type": "markdown",
   "metadata": {},
   "source": [
    "**Transaction costs**"
   ]
  },
  {
   "cell_type": "code",
   "execution_count": 190,
   "metadata": {},
   "outputs": [
    {
     "name": "stdout",
     "output_type": "stream",
     "text": [
      "0.0012009821101279506\n",
      "-0.0014815255323729639\n",
      "0.0013084223332650296\n",
      "0.005675987898940393\n",
      "0.001246774610564136\n",
      "0.0011664430080722662\n",
      "-0.0002351822386724612\n",
      "-0.0005264111241788798\n",
      "0.00038015172913675435\n",
      "0.006550134119335703\n",
      "0.0011968819105392938\n",
      "-0.0014621919477046555\n",
      "0.0037468443485450024\n",
      "0.0024592041055262405\n",
      "0.005498101183878015\n",
      "-0.002438208074343173\n",
      "nan\n"
     ]
    }
   ],
   "source": [
    "for i in range(len(profitable_pairs)):\n",
    "    print(performance_kalman_test[i][1][performance_kalman_test[i][1].ret != 0].ret.mean())"
   ]
  },
  {
   "cell_type": "markdown",
   "metadata": {},
   "source": [
    "**Controlling for range of returns**"
   ]
  },
  {
   "cell_type": "code",
   "execution_count": null,
   "metadata": {},
   "outputs": [],
   "source": [
    "print('Maximum return obtained in a single trade, per pair')\n",
    "for i in range(len(profitable_pairs)):\n",
    "    print(performance_kalman_test[i][1]['position_return_(%)'].max())"
   ]
  },
  {
   "cell_type": "code",
   "execution_count": null,
   "metadata": {},
   "outputs": [],
   "source": [
    "print('Worst return obtained in a single trade, per pair')\n",
    "for i in range(len(profitable_pairs)):\n",
    "    print(performance_kalman_test[i][1]['position_return_(%)'].min())"
   ]
  },
  {
   "cell_type": "markdown",
   "metadata": {},
   "source": [
    "Tanto as returns máximas como as mínimas parecem ter valores dentro da normalidade."
   ]
  },
  {
   "cell_type": "markdown",
   "metadata": {},
   "source": [
    "## Training vs Validation"
   ]
  },
  {
   "cell_type": "markdown",
   "metadata": {},
   "source": [
    "For a far comparison, we should compare the test resuls with the results obtained in the training set, but also using only the profitable pairs:"
   ]
  },
  {
   "cell_type": "code",
   "execution_count": null,
   "metadata": {},
   "outputs": [],
   "source": [
    "entry_multiplier= config['trading']['entry_multiplier']\n",
    "exit_multiplier= config['trading']['exit_multiplier']\n",
    "sharpe_results_kalman, cum_returns_kalman, performance_kalman = trader.apply_kalman_strategy(profitable_pairs, \n",
    "                                                                                             entry_multiplier,\n",
    "                                                                                             exit_multiplier,\n",
    "                                                                                             trading_filter,\n",
    "                                                                                             test_mode=False)\n",
    "avg_sharpe_kalman, total_roi_kalman, anual_roi_kalman, positive_pct_kalman = \\\n",
    "    trader.calculate_metrics(sharpe_results_kalman, cum_returns_kalman, n_years_train)"
   ]
  },
  {
   "cell_type": "code",
   "execution_count": null,
   "metadata": {},
   "outputs": [],
   "source": [
    "print('The sharpe ratio obtained in the training set with the pairs used on the test set is ', avg_sharpe_kalman)\n",
    "print('The sharpe ratio obtained in the test set is ', avg_sharpe_kalman_test)"
   ]
  },
  {
   "cell_type": "markdown",
   "metadata": {},
   "source": [
    "As expected, the sharpe ratio is indeed higher in the training set."
   ]
  },
  {
   "cell_type": "code",
   "execution_count": null,
   "metadata": {},
   "outputs": [],
   "source": [
    "len(pairs)"
   ]
  },
  {
   "cell_type": "code",
   "execution_count": null,
   "metadata": {},
   "outputs": [],
   "source": [
    "len(profitable_pairs)"
   ]
  },
  {
   "cell_type": "markdown",
   "metadata": {},
   "source": [
    "## Analyzing Pairs' Overlap"
   ]
  },
  {
   "cell_type": "markdown",
   "metadata": {},
   "source": [
    "There could be two possible interpretations for pairs' overlap.\n",
    "1. We might be interested in checking which of the cointegrated pairs found in the training dataset are also cointegrated in the test set; Furthermore we want to explore how the two types of pairs perform.\n",
    "2. We might be interested in finding if the pairs that would have been found in the test set by performing PCA + clustering would be cointegrated in the training set."
   ]
  },
  {
   "cell_type": "markdown",
   "metadata": {},
   "source": [
    "Starting with **1)**, let's see how many of the identified pairs actually turned out to be cointegrated during this period."
   ]
  },
  {
   "cell_type": "code",
   "execution_count": null,
   "metadata": {},
   "outputs": [],
   "source": [
    "pairs_overlapped, pairs_overlapped_index = series_analyser.pairs_overlap(pairs,\n",
    "                                  config['pair_restrictions']['p_value_threshold'],\n",
    "                                  config['pair_restrictions']['min_zero_crossings'],\n",
    "                                  config['pair_restrictions']['min_half_life'],\n",
    "                                  config['pair_restrictions']['hurst_threshold'])\n",
    "print('{} of the {} pairs identified in the training set are also cointegrated in the test set'.format(\\\n",
    "    len(pairs_overlapped), len(pairs)))"
   ]
  },
  {
   "cell_type": "code",
   "execution_count": null,
   "metadata": {},
   "outputs": [],
   "source": [
    "profitable_pairs_overlapped, profitable_pairs_overlapped_index = series_analyser.pairs_overlap(profitable_pairs,\n",
    "                                  config['pair_restrictions']['p_value_threshold'],\n",
    "                                  config['pair_restrictions']['min_zero_crossings'],\n",
    "                                  config['pair_restrictions']['min_half_life'],\n",
    "                                  config['pair_restrictions']['hurst_threshold'])\n",
    "print('{} of the {} pairs with positive returns identified in the training set are also cointegrated in the test set'.format(\\\n",
    "    len(profitable_pairs_overlapped), len(profitable_pairs)))"
   ]
  },
  {
   "cell_type": "markdown",
   "metadata": {},
   "source": [
    "### Is cointegration really important?\n",
    "\n",
    "To answer this question we will see how many of the still cointegrated pairs had positive and negative returns. We will then do the same for those pairs that were not cointegrated. \n",
    "\n",
    "If both are as likely to have positive and negative returns, then it means cointegration is not as important of a condition. On the other hand, if we verify that all pairs that are still cointegrated turned out to be profitable and those that are not anymore led to consistent negative returns, we can infer that cointegration is a very important predictor of future returns.\n",
    "\n",
    "We also compare the average performance of the two groups two see the relevance of being cointegrated with respect to the sharpe ratio obtained."
   ]
  },
  {
   "cell_type": "markdown",
   "metadata": {},
   "source": [
    "*Still cointegrated*"
   ]
  },
  {
   "cell_type": "code",
   "execution_count": null,
   "metadata": {},
   "outputs": [],
   "source": [
    "# distribution for pairs which were cointegrated in train and test\n",
    "sharpe_results_pairs_overlapped = np.asarray([sharpe_results_kalman_test[index] for index \\\n",
    "                                              in profitable_pairs_overlapped_index])\n",
    "cum_returns_pairs_overlapped = np.asarray([cum_returns_kalman_test[index] for index \\\n",
    "                                              in profitable_pairs_overlapped_index])\n",
    "\n",
    "if len(sharpe_results_pairs_overlapped)>0:\n",
    "    _,_,_,_ = trader.calculate_metrics(sharpe_results_pairs_overlapped, cum_returns_pairs_overlapped,\n",
    "                                   n_years_test)\n",
    "else:\n",
    "    print('0% of the pairs cointegrated in the train are also cointegrated in the test set')"
   ]
  },
  {
   "cell_type": "markdown",
   "metadata": {},
   "source": [
    "*Not cointegrated anymore*"
   ]
  },
  {
   "cell_type": "code",
   "execution_count": null,
   "metadata": {},
   "outputs": [],
   "source": [
    "# distribution for pairs which were cointegrated in train but not in test\n",
    "profitable_pairs_not_overlapped_index = [i for i in np.arange(0,len(profitable_pairs))\\\n",
    "                                         if i not in profitable_pairs_overlapped_index]\n",
    "\n",
    "sharpe_results_pairs_not_overlapped = np.asarray([sharpe_results_kalman_test[index] for index \\\n",
    "                                              in profitable_pairs_not_overlapped_index])\n",
    "\n",
    "cum_returns_pairs_not_overlapped = np.asarray([cum_returns_kalman_test[index] for index \\\n",
    "                                              in profitable_pairs_not_overlapped_index])\n",
    "\n",
    "_,_,_,_ = trader.calculate_metrics(sharpe_results_pairs_not_overlapped, cum_returns_pairs_not_overlapped,\n",
    "                                   n_years_test)"
   ]
  },
  {
   "cell_type": "markdown",
   "metadata": {},
   "source": [
    "Answering to the first question we were concerned with, we verify that a cointegrated pair is indeed more likely to have a positive return. Furthermore, we can conclude from the results that being cointegrated implied that those pairs generated higher returns. \n",
    "\n",
    "**TO REVIEW:Conclusion**: The fact that a pair is not cointegrated anymore does not impact the results obained. In fact, we just concluded that betting solely on the cointegrated pairs would yield a worse result. Therefore, we should not spend much effort in detecting pairs that are no cointegrated anymore."
   ]
  },
  {
   "cell_type": "markdown",
   "metadata": {},
   "source": [
    "Following with point number **2)**, we proceed to analyze the performance of the pairs that woud have been identified in the testing period."
   ]
  },
  {
   "cell_type": "code",
   "execution_count": null,
   "metadata": {},
   "outputs": [],
   "source": [
    "initial_test_date = config['dataset']['testing_initial_date']\n",
    "final_teste_date = config['dataset']['testing_final_date']\n",
    "\n",
    "# Get returns for test period\n",
    "df_returns_test = data_processor.get_return_series(df_prices_test)\n",
    "\n",
    "# APPLY PCA and CLUSTERING\n",
    "range_n_components = config['PCA']['N_COMPONENTS']\n",
    "X_test, clustered_series_all_test, clustered_series_test, counts_test, clf_test = \\\n",
    "            series_analyser.clustering_for_optimal_PCA(range_n_components[0], range_n_components[1],\n",
    "                                                       df_returns_test, config['clustering'])\n",
    "# Find pairs\n",
    "pairs_test, unique_tickers_test = series_analyser.get_candidate_pairs(\\\n",
    "                                            clustered_series=clustered_series_test,\n",
    "                                            pricing_df_train=df_prices_test,\n",
    "                                            pricing_df_test=df_prices_train,\n",
    "                                            min_half_life=config['pair_restrictions']['min_half_life'],\n",
    "                                            min_zero_crosings=config['pair_restrictions']['min_zero_crossings'],\n",
    "                                            p_value_threshold=config['pair_restrictions']['p_value_threshold'],\n",
    "                                            hurst_threshold=config['pair_restrictions']['hurst_threshold']\n",
    "                                            )\n",
    "\n",
    "# Finally, see overlap\n",
    "pairs_overlapped, pairs_overlapped_index = series_analyser.pairs_overlap(pairs_test,\n",
    "                                  config['pair_restrictions']['p_value_threshold'],\n",
    "                                  config['pair_restrictions']['min_zero_crossings'],\n",
    "                                  config['pair_restrictions']['min_half_life'],\n",
    "                                  config['pair_restrictions']['hurst_threshold'])\n",
    "print('{} of the {} pairs identified in the test set are also cointegrated in the training set'.format(\\\n",
    "    len(pairs_overlapped), len(pairs_test)))"
   ]
  },
  {
   "cell_type": "markdown",
   "metadata": {},
   "source": [
    "Let's see if the pairs identified in the test period lead indeed to improved results:"
   ]
  },
  {
   "cell_type": "code",
   "execution_count": null,
   "metadata": {
    "scrolled": true
   },
   "outputs": [],
   "source": [
    "sharpe_results_kalman_test_newpairs, cum_returns_kalman_test_newpairs, performance_kalman_test_newpairs =\\\n",
    "    trader.apply_kalman_strategy(pairs_test, entry_multiplier,exit_multiplier,trading_filter, test_mode=False)\n",
    "\n",
    "_,_,_,_ = trader.calculate_metrics(sharpe_results_kalman_test_newpairs, cum_returns_kalman_test_newpairs,\n",
    "                                   n_years_test)"
   ]
  },
  {
   "cell_type": "markdown",
   "metadata": {},
   "source": [
    "The sharpe ratio is higher in this scenatio. Note hoewever, that the annual ROI is not so high as the pairs identified previously. This might be linked with the fact that these pairs did not prove to be cointegrated for a period as long as the other and therefore the pairs might be less stable."
   ]
  },
  {
   "cell_type": "markdown",
   "metadata": {},
   "source": [
    "## Analyzing the influence of pairs statistics\n",
    "\n",
    "It's interesting to analyze whether we could have used extra information from the pairs trading statistic, instead of considering it just as a pass or not pass test. `Law 2017` explore this concept on their paper (htey basically rank pairs according to a trade off between t-statistic and spread deviation from its mean). However, what we see below is that there is no obvious influence of any parameter in the performance of the corresponding pair."
   ]
  },
  {
   "cell_type": "code",
   "execution_count": null,
   "metadata": {},
   "outputs": [],
   "source": [
    "pairs_summary.corr()[['sharpe_result', 'positive_trades_per_pair_pct']].loc[['t_statistic', 'p_value',\n",
    "                                                                             'zero_cross', 'half_life',\n",
    "                                                                             'hurst_exponent']]"
   ]
  },
  {
   "cell_type": "markdown",
   "metadata": {},
   "source": [
    "### The Correlation Filter\n",
    "\n",
    "The correlation filter aims to track how the correlation between the two legs of tha pair is varing, and provide that information as input to the trading strategy."
   ]
  },
  {
   "cell_type": "code",
   "execution_count": null,
   "metadata": {},
   "outputs": [],
   "source": [
    "example_pair = failed_pairs[2]\n",
    "\n",
    "example_pair_leg1 = example_pair[0][0]\n",
    "example_pair_leg2 = example_pair[0][1]\n",
    "\n",
    "example_pair_prices = etfs_pricing[[example_pair_leg1, example_pair_leg2]]\n",
    "example_pair_prices.plot(figsize=(15,5))\n",
    "\n",
    "\n",
    "# proceed to calculate correlation\n",
    "rolling_window = config['trading']['lookback_multiplier']*example_pair[0][2]['half_life']\n",
    "\n",
    "# get returns\n",
    "example_pair_returns = data_processor.get_return_series(example_pair_prices)\n",
    "\n",
    "# analyze correlation on returns\n",
    "example_correlation = example_pair_returns[example_pair_leg1].rolling(rolling_window).corr(example_pair_returns[example_pair_leg2])\n",
    "\n",
    "# plot correlation of returns\n",
    "diff_example_correlation = example_correlation.diff(periods=1)\n",
    "#diff_example_correlation = diff_example_correlation*10\n",
    "diff_example_correlation.plot()"
   ]
  },
  {
   "cell_type": "markdown",
   "metadata": {},
   "source": [
    "This result indicates there's almost no correlation between correlation diff and returns... Let's see how this result varies on average:"
   ]
  },
  {
   "cell_type": "code",
   "execution_count": null,
   "metadata": {},
   "outputs": [],
   "source": [
    "failure_correlations = []\n",
    "for failure in failed_pairs:\n",
    "    failure_df = failure[1][failure[1].units != 0]\n",
    "    correlation = failure_df['ret'].corr(failure_df['correlation'])\n",
    "    failure_correlations.append(correlation)\n",
    "    \n",
    "print(np.mean(failure_correlations))"
   ]
  },
  {
   "cell_type": "markdown",
   "metadata": {},
   "source": [
    "However, we are not realyy interested in the correlation of the the diff column, but rather on the correlation with its sign."
   ]
  },
  {
   "cell_type": "code",
   "execution_count": null,
   "metadata": {},
   "outputs": [],
   "source": [
    "failure_correlations = []\n",
    "for failure in failed_pairs:\n",
    "    failure_df = failure[1][failure[1].units != 0]\n",
    "    failure_df['diff_correlation_sign']=failure_df['diff_correlation'].apply(lambda row: -1 if row<0 else 1)\n",
    "    correlation = failure_df['ret'].corr(failure_df['diff_correlation_sign'])\n",
    "    failure_correlations.append(correlation)\n",
    "    \n",
    "print(np.mean(failure_correlations))"
   ]
  },
  {
   "cell_type": "markdown",
   "metadata": {},
   "source": [
    "We could use mutual information rather than correlation as the sign is discrete. What about the relation with the zscore evolution?"
   ]
  },
  {
   "cell_type": "markdown",
   "metadata": {},
   "source": [
    "### Analyze non-profitable pairs"
   ]
  },
  {
   "cell_type": "code",
   "execution_count": null,
   "metadata": {},
   "outputs": [],
   "source": [
    "sharpe_results_kalman_test = np.asarray(sharpe_results_kalman_test)\n",
    "negative_pairs_indices = np.argwhere(sharpe_results_kalman_test < 0)\n",
    "print('{} out of {} pairs turned out to be non-profitable'.format(len(negative_pairs_indices), len(pairs)))"
   ]
  },
  {
   "cell_type": "markdown",
   "metadata": {},
   "source": [
    "Let's get some more information on the non-profitable pairs:"
   ]
  },
  {
   "cell_type": "code",
   "execution_count": null,
   "metadata": {},
   "outputs": [],
   "source": [
    "negative_pairs = [pairs[i] for i in negative_pairs_indices.flatten()]\n",
    "negative_pairs = [(item[0], item[1]) for item in negative_pairs]\n",
    "negative_pairs"
   ]
  },
  {
   "cell_type": "markdown",
   "metadata": {},
   "source": [
    "To what clusters do these pairs belong?"
   ]
  },
  {
   "cell_type": "code",
   "execution_count": null,
   "metadata": {},
   "outputs": [],
   "source": [
    "for label_n in range(len(counts)):\n",
    "    elements_cluster_n = list(clustered_series[clustered_series == label_n].index)\n",
    "    etfs_cluster_n = etfs_unique[etfs_unique['Ticker'].isin(elements_cluster_n)]\n",
    "    for pair in negative_pairs:\n",
    "        if pair[0] in list(etfs_cluster_n.Ticker):\n",
    "            print('Pair {} belongs to cluster {}'.format(pair, label_n))"
   ]
  },
  {
   "cell_type": "markdown",
   "metadata": {},
   "source": [
    "How do the statistics rank?"
   ]
  },
  {
   "cell_type": "code",
   "execution_count": null,
   "metadata": {},
   "outputs": [],
   "source": [
    "sorted_indices = np.flip(np.argsort(sharpe_results_bollinger), axis=0)\n",
    "\n",
    "# initialize list of lists \n",
    "data = []\n",
    "for index in sorted_indices:\n",
    "    # get number of positive and negative positions\n",
    "    position_returns = performance_bollinger[index][1].position_return\n",
    "    positive_positions = len(position_returns[position_returns>0])\n",
    "    negative_positions = len(position_returns[position_returns<0])\n",
    "    data.append([pairs[index][0],\n",
    "                 pairs[index][1],\n",
    "                 pairs[index][2]['t_statistic'],\n",
    "                 pairs[index][2]['p_value'],\n",
    "                 pairs[index][2]['zero_cross'],\n",
    "                 pairs[index][2]['half_life'],\n",
    "                 pairs[index][2]['hurst_exponent'],\n",
    "                 positive_positions,\n",
    "                 negative_positions,\n",
    "                 sharpe_results_bollinger[index]\n",
    "                ])\n",
    "      \n",
    "# Create the pandas DataFrame \n",
    "df = pd.DataFrame(data, columns = ['Leg1', 'Leg2', 't_statistic', 'p_value', 'zero_cross',\n",
    "                                   'half_life', 'hurst_exponent', 'positive trades', 'negative_trades',\n",
    "                                   'sharpe_result']) \n",
    "df"
   ]
  },
  {
   "cell_type": "code",
   "execution_count": null,
   "metadata": {},
   "outputs": [],
   "source": [
    "df.half_life.mean()"
   ]
  },
  {
   "cell_type": "code",
   "execution_count": null,
   "metadata": {},
   "outputs": [],
   "source": [
    "# analyze correlations\n",
    "print('Half-life vs Sharpe Ratio correlation: ', df['sharpe_result'].corr(df['half_life']))\n",
    "print('Zero crossings vs Sharpe Ratio correlation: ', df['sharpe_result'].corr(df['zero_cross']))\n",
    "print('p-value vs Sharpe Ratio correlation: ', df['sharpe_result'].corr(df['p_value']))\n",
    "print('t-statistic vs Sharpe Ratio correlation: ', df['sharpe_result'].corr(df['t_statistic']))\n",
    "print('Hurst exponent vs Sharpe Ratio correlation ', df['sharpe_result'].corr(df['hurst_exponent']))"
   ]
  },
  {
   "cell_type": "markdown",
   "metadata": {},
   "source": [
    "Are there any signs these pairs were not profitable as the strategy evolves? Could we have predicted their lack of profitability?\n",
    "- Using a ML algorithm that recognizes when a pair is not profitable anymore.\n",
    "- Checking how the hurst exponent has been changing.\n",
    "- Analyze their previous positions' returns"
   ]
  }
 ],
 "metadata": {
  "kernelspec": {
   "display_name": "Python [conda root]",
   "language": "python",
   "name": "conda-root-py"
  },
  "language_info": {
   "codemirror_mode": {
    "name": "ipython",
    "version": 3
   },
   "file_extension": ".py",
   "mimetype": "text/x-python",
   "name": "python",
   "nbconvert_exporter": "python",
   "pygments_lexer": "ipython3",
   "version": "3.6.0"
  }
 },
 "nbformat": 4,
 "nbformat_minor": 2
}
