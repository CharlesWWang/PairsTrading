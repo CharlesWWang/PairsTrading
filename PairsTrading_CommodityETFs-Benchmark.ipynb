{
 "cells": [
  {
   "cell_type": "markdown",
   "metadata": {},
   "source": [
    "# A benchmark Pairs Trading strategy \n",
    "\n",
    "This notebook explores a pairs trading strategy using bollinger bands. This projected is being developed as part of a master thesis for the degree of Electrical and Computer Engineering.\n",
    "\n",
    "**Author:** Simão Moraes Sarmento <br /> \n",
    "**Contact:** simaosarmento@hotmail.com"
   ]
  },
  {
   "cell_type": "markdown",
   "metadata": {},
   "source": [
    "## Dependencies\n",
    "\n",
    "This notebook requires code from:\n",
    "\n",
    "Python files:\n",
    "- `class_SeriesAnalyser.py` - contains a set of functions to deal with time series analysis.\n",
    "- `class_Trader.py` - contains a set of functions concerning trading strategies.\n",
    "- `class_DataProcessor.py` - contains a set of functions concerning the data pre processing.\n",
    "\n",
    "Pickle files:\n",
    "- pickle file containing pairs to be traded (obtained from running `PairsTrading_CommodityETFs-Clustering.ipynb`)\n",
    "\n",
    "As a good practise, the notebook solely intends to exemplify the application of different trading strategies for different dataset examples, rather than coding the strategies theirselves. Please look into the files menitoned above for more detailed info on how the functions are built."
   ]
  },
  {
   "cell_type": "markdown",
   "metadata": {},
   "source": [
    "### Import Libraries"
   ]
  },
  {
   "cell_type": "code",
   "execution_count": 302,
   "metadata": {},
   "outputs": [],
   "source": [
    "import numpy as np\n",
    "import pandas as pd\n",
    "import pickle\n",
    "\n",
    "import json\n",
    "\n",
    "import statsmodels\n",
    "import statsmodels.api as sm\n",
    "from statsmodels.tsa.stattools import coint, adfuller\n",
    "\n",
    "import matplotlib.pyplot as plt\n",
    "import matplotlib.cm as cm\n",
    "\n",
    "# Import Datetime and the Pandas DataReader\n",
    "from datetime import datetime\n",
    "from pandas_datareader import data, wb\n",
    "\n",
    "# Import alpha vantage\n",
    "from alpha_vantage.timeseries import TimeSeries\n",
    "\n",
    "# Import scikit instruments\n",
    "from sklearn.cluster import DBSCAN\n",
    "from sklearn.decomposition import PCA\n",
    "from sklearn.manifold import TSNE\n",
    "from sklearn import preprocessing\n",
    "from sklearn.metrics import silhouette_score\n",
    "\n",
    "# just set the seed for the random number generator\n",
    "np.random.seed(107)"
   ]
  },
  {
   "cell_type": "markdown",
   "metadata": {},
   "source": [
    "### Import Configurations"
   ]
  },
  {
   "cell_type": "code",
   "execution_count": 303,
   "metadata": {},
   "outputs": [],
   "source": [
    "config_file = 'config/config_commodities_2010_2019.json'"
   ]
  },
  {
   "cell_type": "code",
   "execution_count": 304,
   "metadata": {},
   "outputs": [],
   "source": [
    "with open(config_file, 'r') as f:\n",
    "    config = json.load(f)"
   ]
  },
  {
   "cell_type": "markdown",
   "metadata": {},
   "source": [
    "### Import Classes"
   ]
  },
  {
   "cell_type": "code",
   "execution_count": 305,
   "metadata": {},
   "outputs": [
    {
     "name": "stdout",
     "output_type": "stream",
     "text": [
      "The autoreload extension is already loaded. To reload it, use:\n",
      "  %reload_ext autoreload\n"
     ]
    }
   ],
   "source": [
    "%load_ext autoreload\n",
    "%aimport class_SeriesAnalyser, class_Trader, class_DataProcessor\n",
    "%autoreload 1"
   ]
  },
  {
   "cell_type": "code",
   "execution_count": 306,
   "metadata": {},
   "outputs": [],
   "source": [
    "series_analyser = class_SeriesAnalyser.SeriesAnalyser()\n",
    "trader = class_Trader.Trader()\n",
    "data_processor = class_DataProcessor.DataProcessor()"
   ]
  },
  {
   "cell_type": "markdown",
   "metadata": {},
   "source": [
    "# Retrieve prices data set"
   ]
  },
  {
   "cell_type": "markdown",
   "metadata": {},
   "source": [
    "We start by retrieving the data from a Dataframe saved in a pickle file, as it was previously processed in the `PairsTrading_CommodityETFS_Datapreprocessing.ipynb` notebook."
   ]
  },
  {
   "cell_type": "code",
   "execution_count": 389,
   "metadata": {},
   "outputs": [],
   "source": [
    "# intraday\n",
    "#df_prices = pd.read_pickle('data/etfs/pickle/commodity_ETFs_intraday')\n",
    "\n",
    "# inter day\n",
    "df_prices = pd.read_pickle('data/etfs/pickle/commodity_ETFs_interpolated_screened')"
   ]
  },
  {
   "cell_type": "code",
   "execution_count": 390,
   "metadata": {},
   "outputs": [
    {
     "name": "stdout",
     "output_type": "stream",
     "text": [
      "Total of 190 tickers\n",
      "Total of 53 tickers after removing tickers with Nan values\n"
     ]
    }
   ],
   "source": [
    "# split data in training and test\n",
    "df_prices_train, df_prices_test = data_processor.split_data(df_prices,\n",
    "                                                            ('01-01-2009',\n",
    "                                                             '31-12-2017'),\n",
    "                                                            ('01-01-2018',\n",
    "                                                             '31-12-2018'),\n",
    "                                                            remove_nan=True)"
   ]
  },
  {
   "cell_type": "code",
   "execution_count": 391,
   "metadata": {},
   "outputs": [
    {
     "data": {
      "text/plain": [
       "2516"
      ]
     },
     "execution_count": 391,
     "metadata": {},
     "output_type": "execute_result"
    }
   ],
   "source": [
    "len(df_prices_train)+len(df_prices_test)"
   ]
  },
  {
   "cell_type": "markdown",
   "metadata": {},
   "source": [
    "# Load Pairs"
   ]
  },
  {
   "cell_type": "code",
   "execution_count": 322,
   "metadata": {},
   "outputs": [],
   "source": [
    "#with open('data/etfs/pickle/pairs_unfiltered.pickle', 'rb') as handle:\n",
    "#    pairs = pickle.load(handle)\n",
    "\n",
    "with open('data/etfs/pickle/pairs_category.pickle', 'rb') as handle:\n",
    "    pairs = pickle.load(handle)\n",
    "\n",
    "#with open('data/etfs/pickle/pairs_unsupervised_learning.pickle', 'rb') as handle:\n",
    "#    pairs = pickle.load(handle)"
   ]
  },
  {
   "cell_type": "code",
   "execution_count": 323,
   "metadata": {},
   "outputs": [],
   "source": [
    "lookback_multiplier= config['trading']['lookback_multiplier']\n",
    "entry_multiplier= config['trading']['entry_multiplier']\n",
    "exit_multiplier= config['trading']['exit_multiplier']\n",
    "# obtain trading filter info\n",
    "if config['trading_filter']['active'] == 1:\n",
    "    trading_filter = config['trading_filter']\n",
    "else:\n",
    "    trading_filter = None"
   ]
  },
  {
   "cell_type": "code",
   "execution_count": 324,
   "metadata": {},
   "outputs": [
    {
     "data": {
      "text/plain": [
       "9"
      ]
     },
     "execution_count": 324,
     "metadata": {},
     "output_type": "execute_result"
    }
   ],
   "source": [
    "# intraday\n",
    "#n_years_train = round(len(df_prices_train)/(240*78))\n",
    "\n",
    "# interday\n",
    "n_years_train = round(len(df_prices_train)/(240))\n",
    "\n",
    "n_years_train"
   ]
  },
  {
   "cell_type": "markdown",
   "metadata": {},
   "source": [
    "# Apply trading strategies"
   ]
  },
  {
   "cell_type": "markdown",
   "metadata": {},
   "source": [
    "**Applying Bollinger Bands**"
   ]
  },
  {
   "cell_type": "code",
   "execution_count": 325,
   "metadata": {
    "scrolled": true
   },
   "outputs": [
    {
     "name": "stdout",
     "output_type": "stream",
     "text": [
      "\n",
      "1/34\n",
      "\n",
      "2/34\n",
      "\n",
      "3/34\n",
      "\n",
      "4/34\n",
      "\n",
      "5/34\n",
      "\n",
      "6/34\n",
      "\n",
      "7/34\n",
      "\n",
      "8/34\n",
      "\n",
      "9/34\n",
      "\n",
      "10/34\n",
      "\n",
      "11/34\n",
      "\n",
      "12/34\n",
      "\n",
      "13/34\n",
      "\n",
      "14/34\n",
      "\n",
      "15/34\n",
      "\n",
      "16/34\n",
      "\n",
      "17/34\n",
      "\n",
      "18/34\n",
      "\n",
      "19/34\n",
      "\n",
      "20/34\n",
      "\n",
      "21/34\n",
      "\n",
      "22/34\n",
      "\n",
      "23/34\n",
      "\n",
      "24/34\n",
      "\n",
      "25/34\n",
      "\n",
      "26/34\n",
      "\n",
      "27/34\n",
      "\n",
      "28/34\n",
      "\n",
      "29/34\n",
      "\n",
      "30/34\n",
      "\n",
      "31/34\n",
      "\n",
      "32/34\n",
      "\n",
      "33/34\n",
      "\n",
      "34/34\n"
     ]
    }
   ],
   "source": [
    "sharpe_results_bollinger, cum_returns_bollinger, performance_bollinger = trader.apply_bollinger_strategy(pairs,\n",
    "                                                                                         lookback_multiplier,\n",
    "                                                                                         entry_multiplier,\n",
    "                                                                                         exit_multiplier,\n",
    "                                                                                         trading_filter,\n",
    "                                                                                         test_mode=False\n",
    "                                                                                         )"
   ]
  },
  {
   "cell_type": "markdown",
   "metadata": {},
   "source": [
    "**Bollinger Bands Performance**"
   ]
  },
  {
   "cell_type": "code",
   "execution_count": 326,
   "metadata": {},
   "outputs": [
    {
     "name": "stdout",
     "output_type": "stream",
     "text": [
      "Average result:  0.08809343632312153\n",
      "avg_annual_roi:  -1.0896573485117744\n",
      "58.8235294117647 % of the pairs had positive returns\n"
     ]
    }
   ],
   "source": [
    "avg_sharpe_bollinger, total_roi_bollinger, anual_roi_bollinger, positive_pct_bollinger = \\\n",
    "    trader.calculate_metrics(sharpe_results_bollinger, cum_returns_bollinger, n_years_train)"
   ]
  },
  {
   "cell_type": "markdown",
   "metadata": {},
   "source": [
    "**Applying the Kalman filter based strategy**"
   ]
  },
  {
   "cell_type": "code",
   "execution_count": 327,
   "metadata": {},
   "outputs": [
    {
     "name": "stdout",
     "output_type": "stream",
     "text": [
      "Pair: 1/34\n",
      "Pair: 2/34\n",
      "Pair: 3/34\n",
      "Pair: 4/34\n",
      "Pair: 5/34\n",
      "Pair: 6/34\n",
      "Pair: 7/34\n",
      "Pair: 8/34\n",
      "Pair: 9/34\n",
      "Pair: 10/34\n",
      "Pair: 11/34\n",
      "Pair: 12/34\n",
      "Pair: 13/34\n",
      "Pair: 14/34\n",
      "Pair: 15/34\n",
      "Pair: 16/34\n",
      "Pair: 17/34\n",
      "Pair: 18/34\n",
      "Pair: 19/34\n",
      "Pair: 20/34\n",
      "Pair: 21/34\n",
      "Pair: 22/34\n",
      "Pair: 23/34\n",
      "Pair: 24/34\n",
      "Pair: 25/34\n",
      "Pair: 26/34\n",
      "Pair: 27/34\n",
      "Pair: 28/34\n",
      "Pair: 29/34\n",
      "Pair: 30/34\n",
      "Pair: 31/34\n",
      "Pair: 32/34\n",
      "Pair: 33/34\n",
      "Pair: 34/34\n"
     ]
    }
   ],
   "source": [
    "entry_multiplier= config['trading']['entry_multiplier']\n",
    "exit_multiplier= config['trading']['exit_multiplier']\n",
    "sharpe_results_kalman, cum_returns_kalman, performance_kalman = trader.apply_kalman_strategy(pairs, \n",
    "                                                                                             entry_multiplier,\n",
    "                                                                                             exit_multiplier,\n",
    "                                                                                             trading_filter,\n",
    "                                                                                             test_mode=False)"
   ]
  },
  {
   "cell_type": "code",
   "execution_count": 328,
   "metadata": {},
   "outputs": [
    {
     "name": "stdout",
     "output_type": "stream",
     "text": [
      "Average result:  5.644101670828193\n",
      "avg_annual_roi:  73.10392487294122\n",
      "94.11764705882354 % of the pairs had positive returns\n"
     ]
    }
   ],
   "source": [
    "avg_sharpe_kalman, total_roi_kalman, anual_roi_kalman, positive_pct_kalman = \\\n",
    "    trader.calculate_metrics(sharpe_results_kalman, cum_returns_kalman, n_years_train)"
   ]
  },
  {
   "cell_type": "code",
   "execution_count": 329,
   "metadata": {},
   "outputs": [
    {
     "name": "stdout",
     "output_type": "stream",
     "text": [
      "Average result:  5.644101670828193\n",
      "avg_annual_roi:  73.10392487294122\n",
      "94.11764705882354 % of the pairs had positive returns\n"
     ]
    }
   ],
   "source": [
    "avg_sharpe_kalman, total_roi_kalman, anual_roi_kalman, positive_pct_kalman = \\\n",
    "    trader.calculate_metrics(sharpe_results_kalman, cum_returns_kalman, n_years_train)"
   ]
  },
  {
   "cell_type": "code",
   "execution_count": 330,
   "metadata": {},
   "outputs": [
    {
     "name": "stdout",
     "output_type": "stream",
     "text": [
      "Sharpe Ratio Distribution: \n"
     ]
    },
    {
     "data": {
      "image/png": "[encoded data removed]",
      "text/plain": [
       "<matplotlib.figure.Figure at 0x11298dc88>"
      ]
     },
     "metadata": {},
     "output_type": "display_data"
    }
   ],
   "source": [
    "print('Sharpe Ratio Distribution: ')\n",
    "n, bins, patches = plt.hist(sharpe_results_kalman, bins = 16, normed=True, orientation='vertical',\n",
    "                            color='red', rwidth=0.9, align='mid')"
   ]
  },
  {
   "cell_type": "code",
   "execution_count": 331,
   "metadata": {},
   "outputs": [
    {
     "name": "stdout",
     "output_type": "stream",
     "text": [
      "Average result:  5.644101670828193\n",
      "avg_annual_roi:  73.10392487294122\n",
      "94.11764705882354 % of the pairs had positive returns\n"
     ]
    }
   ],
   "source": [
    "results_training, pairs_summary_training = trader.summarize_results(sharpe_results_kalman, cum_returns_kalman,\n",
    "                                                  performance_kalman, pairs, ticker_segment_dict, n_years_train)"
   ]
  },
  {
   "cell_type": "code",
   "execution_count": 332,
   "metadata": {},
   "outputs": [
    {
     "data": {
      "text/html": [
       "<div>\n",
       "<style scoped>\n",
       "    .dataframe tbody tr th:only-of-type {\n",
       "        vertical-align: middle;\n",
       "    }\n",
       "\n",
       "    .dataframe tbody tr th {\n",
       "        vertical-align: top;\n",
       "    }\n",
       "\n",
       "    .dataframe thead th {\n",
       "        text-align: right;\n",
       "    }\n",
       "</style>\n",
       "<table border=\"1\" class=\"dataframe\">\n",
       "  <thead>\n",
       "    <tr style=\"text-align: right;\">\n",
       "      <th></th>\n",
       "      <th>Leg1</th>\n",
       "      <th>Leg1_Segmt</th>\n",
       "      <th>Leg2</th>\n",
       "      <th>Leg2_Segmt</th>\n",
       "      <th>t_statistic</th>\n",
       "      <th>p_value</th>\n",
       "      <th>zero_cross</th>\n",
       "      <th>half_life</th>\n",
       "      <th>hurst_exponent</th>\n",
       "      <th>positive_trades</th>\n",
       "      <th>negative_trades</th>\n",
       "      <th>sharpe_result</th>\n",
       "      <th>positive_trades_per_pair_pct</th>\n",
       "    </tr>\n",
       "  </thead>\n",
       "  <tbody>\n",
       "    <tr>\n",
       "      <th>0</th>\n",
       "      <td>FUD</td>\n",
       "      <td>Commodities: Agriculture</td>\n",
       "      <td>GRU</td>\n",
       "      <td>Commodities: Agriculture Grains</td>\n",
       "      <td>-3.462353</td>\n",
       "      <td>0.009008</td>\n",
       "      <td>81</td>\n",
       "      <td>42</td>\n",
       "      <td>0.366386</td>\n",
       "      <td>739</td>\n",
       "      <td>189</td>\n",
       "      <td>11.2399</td>\n",
       "      <td>79.633621</td>\n",
       "    </tr>\n",
       "  </tbody>\n",
       "</table>\n",
       "</div>"
      ],
      "text/plain": [
       "  Leg1                Leg1_Segmt Leg2                       Leg2_Segmt  \\\n",
       "0  FUD  Commodities: Agriculture  GRU  Commodities: Agriculture Grains   \n",
       "\n",
       "   t_statistic   p_value  zero_cross  half_life  hurst_exponent  \\\n",
       "0    -3.462353  0.009008          81         42        0.366386   \n",
       "\n",
       "   positive_trades  negative_trades  sharpe_result  \\\n",
       "0              739              189        11.2399   \n",
       "\n",
       "   positive_trades_per_pair_pct  \n",
       "0                     79.633621  "
      ]
     },
     "execution_count": 332,
     "metadata": {},
     "output_type": "execute_result"
    }
   ],
   "source": [
    "pairs_summary_training.head(1)"
   ]
  },
  {
   "cell_type": "code",
   "execution_count": 333,
   "metadata": {},
   "outputs": [
    {
     "ename": "IndexError",
     "evalue": "list index out of range",
     "output_type": "error",
     "traceback": [
      "\u001b[0;31m---------------------------------------------------------------------------\u001b[0m",
      "\u001b[0;31mIndexError\u001b[0m                                Traceback (most recent call last)",
      "\u001b[0;32m<ipython-input-333-6f4aad436a66>\u001b[0m in \u001b[0;36m<module>\u001b[0;34m()\u001b[0m\n\u001b[0;32m----> 1\u001b[0;31m \u001b[0mprint\u001b[0m\u001b[0;34m(\u001b[0m\u001b[0mlen\u001b[0m\u001b[0;34m(\u001b[0m\u001b[0mperformance_kalman\u001b[0m\u001b[0;34m[\u001b[0m\u001b[0;36m38\u001b[0m\u001b[0;34m]\u001b[0m\u001b[0;34m[\u001b[0m\u001b[0;36m1\u001b[0m\u001b[0;34m]\u001b[0m\u001b[0;34m[\u001b[0m\u001b[0mperformance_kalman\u001b[0m\u001b[0;34m[\u001b[0m\u001b[0;36m38\u001b[0m\u001b[0;34m]\u001b[0m\u001b[0;34m[\u001b[0m\u001b[0;36m1\u001b[0m\u001b[0;34m]\u001b[0m\u001b[0;34m.\u001b[0m\u001b[0mcurrent_position\u001b[0m\u001b[0;34m!=\u001b[0m\u001b[0;36m0\u001b[0m\u001b[0;34m]\u001b[0m\u001b[0;34m)\u001b[0m\u001b[0;34m/\u001b[0m\u001b[0mlen\u001b[0m\u001b[0;34m(\u001b[0m\u001b[0mperformance_kalman\u001b[0m\u001b[0;34m[\u001b[0m\u001b[0;36m38\u001b[0m\u001b[0;34m]\u001b[0m\u001b[0;34m[\u001b[0m\u001b[0;36m1\u001b[0m\u001b[0;34m]\u001b[0m\u001b[0;34m)\u001b[0m\u001b[0;34m)\u001b[0m\u001b[0;34m\u001b[0m\u001b[0m\n\u001b[0m\u001b[1;32m      2\u001b[0m \u001b[0mprint\u001b[0m\u001b[0;34m(\u001b[0m\u001b[0mlen\u001b[0m\u001b[0;34m(\u001b[0m\u001b[0mperformance_kalman\u001b[0m\u001b[0;34m[\u001b[0m\u001b[0;36m38\u001b[0m\u001b[0;34m]\u001b[0m\u001b[0;34m[\u001b[0m\u001b[0;36m1\u001b[0m\u001b[0;34m]\u001b[0m\u001b[0;34m[\u001b[0m\u001b[0mperformance_kalman\u001b[0m\u001b[0;34m[\u001b[0m\u001b[0;36m38\u001b[0m\u001b[0;34m]\u001b[0m\u001b[0;34m[\u001b[0m\u001b[0;36m1\u001b[0m\u001b[0;34m]\u001b[0m\u001b[0;34m.\u001b[0m\u001b[0mret\u001b[0m \u001b[0;34m<\u001b[0m \u001b[0;36m0\u001b[0m\u001b[0;34m]\u001b[0m\u001b[0;34m)\u001b[0m\u001b[0;34m/\u001b[0m\u001b[0mlen\u001b[0m\u001b[0;34m(\u001b[0m\u001b[0mperformance_kalman\u001b[0m\u001b[0;34m[\u001b[0m\u001b[0;36m38\u001b[0m\u001b[0;34m]\u001b[0m\u001b[0;34m[\u001b[0m\u001b[0;36m1\u001b[0m\u001b[0;34m]\u001b[0m\u001b[0;34m[\u001b[0m\u001b[0mperformance_kalman\u001b[0m\u001b[0;34m[\u001b[0m\u001b[0;36m38\u001b[0m\u001b[0;34m]\u001b[0m\u001b[0;34m[\u001b[0m\u001b[0;36m1\u001b[0m\u001b[0;34m]\u001b[0m\u001b[0;34m.\u001b[0m\u001b[0mret\u001b[0m \u001b[0;34m!=\u001b[0m \u001b[0;36m0\u001b[0m\u001b[0;34m]\u001b[0m\u001b[0;34m)\u001b[0m\u001b[0;34m)\u001b[0m\u001b[0;34m\u001b[0m\u001b[0m\n\u001b[1;32m      3\u001b[0m \u001b[0mperformance_kalman\u001b[0m\u001b[0;34m[\u001b[0m\u001b[0;36m38\u001b[0m\u001b[0;34m]\u001b[0m\u001b[0;34m[\u001b[0m\u001b[0;36m1\u001b[0m\u001b[0;34m]\u001b[0m\u001b[0;34m[\u001b[0m\u001b[0mperformance_kalman\u001b[0m\u001b[0;34m[\u001b[0m\u001b[0;36m38\u001b[0m\u001b[0;34m]\u001b[0m\u001b[0;34m[\u001b[0m\u001b[0;36m1\u001b[0m\u001b[0;34m]\u001b[0m\u001b[0;34m.\u001b[0m\u001b[0mret\u001b[0m \u001b[0;34m!=\u001b[0m \u001b[0;36m0\u001b[0m\u001b[0;34m]\u001b[0m\u001b[0;34m.\u001b[0m\u001b[0mret\u001b[0m\u001b[0;34m.\u001b[0m\u001b[0mhist\u001b[0m\u001b[0;34m(\u001b[0m\u001b[0mbins\u001b[0m\u001b[0;34m=\u001b[0m\u001b[0;36m10\u001b[0m\u001b[0;34m)\u001b[0m\u001b[0;34m\u001b[0m\u001b[0m\n",
      "\u001b[0;31mIndexError\u001b[0m: list index out of range"
     ]
    }
   ],
   "source": [
    "print(len(performance_kalman[38][1][performance_kalman[38][1].current_position!=0])/len(performance_kalman[38][1]))\n",
    "print(len(performance_kalman[38][1][performance_kalman[38][1].ret < 0])/len(performance_kalman[38][1][performance_kalman[38][1].ret != 0]))\n",
    "performance_kalman[38][1][performance_kalman[38][1].ret != 0].ret.hist(bins=10)"
   ]
  },
  {
   "cell_type": "markdown",
   "metadata": {},
   "source": [
    "## Some remarks\n",
    "\n",
    "- From the analysis above, the Kalman filter method obtains the best performance, with an average Sharpe Ratio larger than 1.\n",
    "- We should compare this approach with a *compare all against all* approach, to see by which factor our results are improved due to the clustering technique."
   ]
  },
  {
   "cell_type": "markdown",
   "metadata": {},
   "source": [
    "# Out of Sample Analysis\n",
    "\n",
    "In this section, we analyze the performance of the strategy in the validation dataset. \n",
    "\n",
    "We proceed with some data exploration analysis. For this purpose we will do the following:\n",
    "\n",
    "- Analyze which percentage of the identified pairs are still cointegrated in the validation period.\n",
    "- Analyze which percentage of pairs have positive returns, and how many of those are still cointegrated.\n",
    "- Analyze how many new pais were not identified to be cointegrated up to the validation period.\n",
    "- Run strategy for identified pairs in training period.\n",
    "\n",
    "This analysis will help us getting some insight into how the cointegrated pairs vary from time to time, and therefore how we should allocate our resources to predict when pairs are not cointegrated anymore."
   ]
  },
  {
   "cell_type": "markdown",
   "metadata": {},
   "source": [
    "## Applying the Strategy out-of Sample\n",
    "\n",
    "We might want to apply the strategy in all pairs identified. Or, instead, we might prefer to apply the strategy only on those pairs that turned out to be profitable. Let's compare how both approaches work:"
   ]
  },
  {
   "cell_type": "code",
   "execution_count": 334,
   "metadata": {},
   "outputs": [
    {
     "data": {
      "text/plain": [
       "1"
      ]
     },
     "execution_count": 334,
     "metadata": {},
     "output_type": "execute_result"
    }
   ],
   "source": [
    "# intraday\n",
    "n_years_test = round(len(df_prices_test)/(240*78))\n",
    "\n",
    "# interday\n",
    "n_years_test = round(len(df_prices_test)/(240))\n",
    "\n",
    "n_years_test"
   ]
  },
  {
   "cell_type": "markdown",
   "metadata": {},
   "source": [
    "### Approach 1: Keeping every pair"
   ]
  },
  {
   "cell_type": "markdown",
   "metadata": {},
   "source": [
    "**Bollinger Bands Out-of-Sample**"
   ]
  },
  {
   "cell_type": "code",
   "execution_count": 335,
   "metadata": {},
   "outputs": [
    {
     "name": "stdout",
     "output_type": "stream",
     "text": [
      "\n",
      "1/34\n",
      "\n",
      "2/34\n",
      "\n",
      "3/34\n",
      "\n",
      "4/34\n",
      "\n",
      "5/34\n",
      "\n",
      "6/34\n",
      "\n",
      "7/34\n",
      "\n",
      "8/34\n",
      "\n",
      "9/34\n",
      "\n",
      "10/34\n",
      "\n",
      "11/34\n",
      "\n",
      "12/34\n",
      "\n",
      "13/34\n",
      "\n",
      "14/34\n",
      "\n",
      "15/34\n",
      "\n",
      "16/34\n",
      "\n",
      "17/34\n",
      "\n",
      "18/34\n",
      "\n",
      "19/34\n",
      "\n",
      "20/34\n",
      "\n",
      "21/34\n",
      "\n",
      "22/34\n",
      "\n",
      "23/34\n",
      "\n",
      "24/34\n",
      "\n",
      "25/34\n",
      "\n",
      "26/34\n",
      "\n",
      "27/34\n",
      "\n",
      "28/34\n",
      "\n",
      "29/34\n",
      "\n",
      "30/34\n",
      "\n",
      "31/34\n",
      "\n",
      "32/34\n",
      "\n",
      "33/34\n",
      "\n",
      "34/34\n"
     ]
    }
   ],
   "source": [
    "sharpe_results_bollinger_test, cum_returns_bollinger_test, performance_bollinger_test =\\\n",
    "                                    trader.apply_bollinger_strategy(pairs,\n",
    "                                                                    lookback_multiplier,\n",
    "                                                                    entry_multiplier,\n",
    "                                                                    exit_multiplier,\n",
    "                                                                    trading_filter,\n",
    "                                                                    test_mode = True\n",
    "                                                                    )"
   ]
  },
  {
   "cell_type": "code",
   "execution_count": 336,
   "metadata": {},
   "outputs": [
    {
     "name": "stdout",
     "output_type": "stream",
     "text": [
      "Average result:  0.40034242963125866\n",
      "avg_annual_roi:  5.721389147341727\n",
      "76.47058823529412 % of the pairs had positive returns\n"
     ]
    }
   ],
   "source": [
    "avg_sharpe_bollinger_test, total_roi_bollinger_test, anual_roi_bollinger_test, positive_pct_bollinger_test = \\\n",
    "    trader.calculate_metrics(sharpe_results_bollinger_test, cum_returns_bollinger_test, n_years_test)"
   ]
  },
  {
   "cell_type": "markdown",
   "metadata": {},
   "source": [
    "**Kalman Out-of-Sample**"
   ]
  },
  {
   "cell_type": "code",
   "execution_count": 337,
   "metadata": {},
   "outputs": [
    {
     "name": "stdout",
     "output_type": "stream",
     "text": [
      "Pair: 1/34\n",
      "Pair: 2/34\n",
      "Pair: 3/34\n",
      "Pair: 4/34\n",
      "Pair: 5/34\n",
      "Pair: 6/34\n",
      "Pair: 7/34\n",
      "Pair: 8/34\n",
      "Pair: 9/34\n",
      "Pair: 10/34\n",
      "Pair: 11/34\n",
      "Pair: 12/34\n",
      "Pair: 13/34\n",
      "Pair: 14/34\n",
      "Pair: 15/34\n",
      "Pair: 16/34\n",
      "Pair: 17/34\n",
      "Pair: 18/34\n",
      "Pair: 19/34\n",
      "Pair: 20/34\n",
      "Pair: 21/34\n",
      "Pair: 22/34\n",
      "Pair: 23/34\n",
      "Pair: 24/34\n",
      "Pair: 25/34\n",
      "Pair: 26/34\n",
      "Pair: 27/34\n",
      "Pair: 28/34\n",
      "Pair: 29/34\n",
      "Pair: 30/34\n",
      "Pair: 31/34\n",
      "Pair: 32/34\n",
      "Pair: 33/34\n",
      "Pair: 34/34\n"
     ]
    }
   ],
   "source": [
    "sharpe_results_kalman_test, cum_returns_kalman_test, performance_kalman_test = trader.apply_kalman_strategy(pairs, \n",
    "                                                                                             entry_multiplier,\n",
    "                                                                                             exit_multiplier,\n",
    "                                                                                             trading_filter,\n",
    "                                                                                             test_mode=True)"
   ]
  },
  {
   "cell_type": "code",
   "execution_count": 338,
   "metadata": {},
   "outputs": [
    {
     "name": "stdout",
     "output_type": "stream",
     "text": [
      "Average result:  1.7901590178955478\n",
      "avg_annual_roi:  26.529632343217745\n",
      "94.11764705882354 % of the pairs had positive returns\n"
     ]
    }
   ],
   "source": [
    "avg_sharpe_kalman_test, total_roi_kalman_test, anual_roi_kalman_test, positive_pct_kalman_test = \\\n",
    "        trader.calculate_metrics(sharpe_results_kalman_test, cum_returns_kalman_test, n_years_test)"
   ]
  },
  {
   "cell_type": "code",
   "execution_count": 339,
   "metadata": {},
   "outputs": [
    {
     "name": "stdout",
     "output_type": "stream",
     "text": [
      "Average result:  1.7901590178955478\n",
      "avg_annual_roi:  26.529632343217745\n",
      "94.11764705882354 % of the pairs had positive returns\n"
     ]
    }
   ],
   "source": [
    "avg_sharpe_kalman_test, total_roi_kalman_test, anual_roi_kalman_test, positive_pct_kalman_test = \\\n",
    "        trader.calculate_metrics(sharpe_results_kalman_test, cum_returns_kalman_test, n_years_test)"
   ]
  },
  {
   "cell_type": "markdown",
   "metadata": {},
   "source": [
    "### Approach 2: Keeping only pairs that had positive returns in the training period"
   ]
  },
  {
   "cell_type": "markdown",
   "metadata": {},
   "source": [
    "**Bollinger Strategy**"
   ]
  },
  {
   "cell_type": "code",
   "execution_count": 340,
   "metadata": {},
   "outputs": [],
   "source": [
    "sharpe_results_bollinger = np.asarray(sharpe_results_bollinger)\n",
    "profitable_pairs_indices = np.argwhere(sharpe_results_bollinger > 0)\n",
    "profitable_pairs = [pairs[i] for i in profitable_pairs_indices.flatten()]"
   ]
  },
  {
   "cell_type": "code",
   "execution_count": 353,
   "metadata": {},
   "outputs": [
    {
     "name": "stdout",
     "output_type": "stream",
     "text": [
      "\n",
      "1/32\n",
      "\n",
      "2/32\n",
      "\n",
      "3/32\n",
      "\n",
      "4/32\n",
      "\n",
      "5/32\n",
      "\n",
      "6/32\n",
      "\n",
      "7/32\n",
      "\n",
      "8/32\n",
      "\n",
      "9/32\n",
      "\n",
      "10/32\n",
      "\n",
      "11/32\n",
      "\n",
      "12/32\n",
      "\n",
      "13/32\n",
      "\n",
      "14/32\n",
      "\n",
      "15/32\n",
      "\n",
      "16/32\n",
      "\n",
      "17/32\n",
      "\n",
      "18/32\n",
      "\n",
      "19/32\n",
      "\n",
      "20/32\n",
      "\n",
      "21/32\n",
      "\n",
      "22/32\n",
      "\n",
      "23/32\n",
      "\n",
      "24/32\n",
      "\n",
      "25/32\n",
      "\n",
      "26/32\n",
      "\n",
      "27/32\n",
      "\n",
      "28/32\n",
      "\n",
      "29/32\n",
      "\n",
      "30/32\n",
      "\n",
      "31/32\n",
      "\n",
      "32/32\n"
     ]
    }
   ],
   "source": [
    "sharpe_results_bollinger_test, cum_returns_bollinger_test, performance_bollinger_test =\\\n",
    "                                    trader.apply_bollinger_strategy(profitable_pairs,\n",
    "                                                                    lookback_multiplier,\n",
    "                                                                    entry_multiplier,\n",
    "                                                                    exit_multiplier,\n",
    "                                                                    trading_filter,\n",
    "                                                                    test_mode = True)"
   ]
  },
  {
   "cell_type": "code",
   "execution_count": 342,
   "metadata": {},
   "outputs": [
    {
     "name": "stdout",
     "output_type": "stream",
     "text": [
      "Average result:  0.40201382402283026\n",
      "avg_annual_roi:  6.873636953746609\n",
      "75.0 % of the pairs had positive returns\n"
     ]
    }
   ],
   "source": [
    "avg_sharpe_bollinger_test, total_roi_bollinger_test, anual_roi_bollinger_test, positive_pct_bollinger_test = \\\n",
    "    trader.calculate_metrics(sharpe_results_bollinger_test, cum_returns_bollinger_test, n_years_test)"
   ]
  },
  {
   "cell_type": "markdown",
   "metadata": {},
   "source": [
    "**Kalman Strategy**"
   ]
  },
  {
   "cell_type": "code",
   "execution_count": 361,
   "metadata": {},
   "outputs": [],
   "source": [
    "sharpe_results_kalman = np.asarray(sharpe_results_kalman)\n",
    "profitable_pairs_indices = np.argwhere(sharpe_results_kalman > 0)\n",
    "profitable_pairs = [pairs[i] for i in profitable_pairs_indices.flatten()]"
   ]
  },
  {
   "cell_type": "code",
   "execution_count": 362,
   "metadata": {},
   "outputs": [
    {
     "name": "stdout",
     "output_type": "stream",
     "text": [
      "Pair: 1/32\n",
      "Pair: 2/32\n",
      "Pair: 3/32\n",
      "Pair: 4/32\n",
      "Pair: 5/32\n",
      "Pair: 6/32\n",
      "Pair: 7/32\n",
      "Pair: 8/32\n",
      "Pair: 9/32\n",
      "Pair: 10/32\n",
      "Pair: 11/32\n",
      "Pair: 12/32\n",
      "Pair: 13/32\n",
      "Pair: 14/32\n",
      "Pair: 15/32\n",
      "Pair: 16/32\n",
      "Pair: 17/32\n",
      "Pair: 18/32\n",
      "Pair: 19/32\n",
      "Pair: 20/32\n",
      "Pair: 21/32\n",
      "Pair: 22/32\n",
      "Pair: 23/32\n",
      "Pair: 24/32\n",
      "Pair: 25/32\n",
      "Pair: 26/32\n",
      "Pair: 27/32\n",
      "Pair: 28/32\n",
      "Pair: 29/32\n",
      "Pair: 30/32\n",
      "Pair: 31/32\n",
      "Pair: 32/32\n"
     ]
    }
   ],
   "source": [
    "sharpe_results_kalman_test, cum_returns_kalman_test, performance_kalman_test = trader.apply_kalman_strategy(\\\n",
    "                                                                                             profitable_pairs, \n",
    "                                                                                             2,#entry_multiplier,\n",
    "                                                                                             0.5,#exit_multiplier,\n",
    "                                                                                             trading_filter,\n",
    "                                                                                             test_mode=True)"
   ]
  },
  {
   "cell_type": "code",
   "execution_count": 363,
   "metadata": {},
   "outputs": [
    {
     "name": "stdout",
     "output_type": "stream",
     "text": [
      "Average result:  1.4713613876872034\n",
      "avg_annual_roi:  18.418138140379448\n",
      "89.28571428571429 % of the pairs had positive returns\n"
     ]
    }
   ],
   "source": [
    "avg_sharpe_kalman_test, total_roi_kalman_test, anual_roi_kalman_test, positive_pct_kalman_test = \\\n",
    "    trader.calculate_metrics(sharpe_results_kalman_test, cum_returns_kalman_test, n_years_test)"
   ]
  },
  {
   "cell_type": "code",
   "execution_count": 364,
   "metadata": {},
   "outputs": [
    {
     "name": "stdout",
     "output_type": "stream",
     "text": [
      "Average result:  1.4713613876872034\n",
      "avg_annual_roi:  18.418138140379448\n",
      "89.28571428571429 % of the pairs had positive returns\n"
     ]
    }
   ],
   "source": [
    "# with entry multiplier = 2\n",
    "avg_sharpe_kalman_test, total_roi_kalman_test, anual_roi_kalman_test, positive_pct_kalman_test = \\\n",
    "    trader.calculate_metrics(sharpe_results_kalman_test, cum_returns_kalman_test, n_years_test)"
   ]
  },
  {
   "cell_type": "markdown",
   "metadata": {},
   "source": [
    "We can conclude that the 2nd approach presents better results. From now on, we assume the 2nd approach was taken."
   ]
  },
  {
   "cell_type": "markdown",
   "metadata": {},
   "source": [
    "# Validate the results\n",
    "\n",
    "The results obtained are suspiciously high. We pretend to look deeper into the numbers."
   ]
  },
  {
   "cell_type": "code",
   "execution_count": 365,
   "metadata": {},
   "outputs": [
    {
     "name": "stdout",
     "output_type": "stream",
     "text": [
      "Average result:  1.4713613876872034\n",
      "avg_annual_roi:  18.418138140379448\n",
      "89.28571428571429 % of the pairs had positive returns\n"
     ]
    }
   ],
   "source": [
    "with open(config['dataset']['ticker_segment_dict'], 'rb') as handle:\n",
    "    ticker_segment_dict = pickle.load(handle)\n",
    "results, pairs_summary = trader.summarize_results(sharpe_results_kalman_test, cum_returns_kalman_test,\n",
    "                                                  performance_kalman_test, profitable_pairs, ticker_segment_dict,\n",
    "                                                  n_years_test)"
   ]
  },
  {
   "cell_type": "code",
   "execution_count": 366,
   "metadata": {
    "scrolled": false
   },
   "outputs": [
    {
     "data": {
      "text/html": [
       "<div>\n",
       "<style scoped>\n",
       "    .dataframe tbody tr th:only-of-type {\n",
       "        vertical-align: middle;\n",
       "    }\n",
       "\n",
       "    .dataframe tbody tr th {\n",
       "        vertical-align: top;\n",
       "    }\n",
       "\n",
       "    .dataframe thead th {\n",
       "        text-align: right;\n",
       "    }\n",
       "</style>\n",
       "<table border=\"1\" class=\"dataframe\">\n",
       "  <thead>\n",
       "    <tr style=\"text-align: right;\">\n",
       "      <th></th>\n",
       "      <th>Leg1</th>\n",
       "      <th>Leg1_Segmt</th>\n",
       "      <th>Leg2</th>\n",
       "      <th>Leg2_Segmt</th>\n",
       "      <th>t_statistic</th>\n",
       "      <th>p_value</th>\n",
       "      <th>zero_cross</th>\n",
       "      <th>half_life</th>\n",
       "      <th>hurst_exponent</th>\n",
       "      <th>positive_trades</th>\n",
       "      <th>negative_trades</th>\n",
       "      <th>sharpe_result</th>\n",
       "      <th>positive_trades_per_pair_pct</th>\n",
       "    </tr>\n",
       "  </thead>\n",
       "  <tbody>\n",
       "    <tr>\n",
       "      <th>0</th>\n",
       "      <td>GRU</td>\n",
       "      <td>Commodities: Agriculture Grains</td>\n",
       "      <td>UAG</td>\n",
       "      <td>Commodities: Agriculture</td>\n",
       "      <td>-3.320260</td>\n",
       "      <td>0.013997</td>\n",
       "      <td>101</td>\n",
       "      <td>46</td>\n",
       "      <td>0.385086</td>\n",
       "      <td>55</td>\n",
       "      <td>16</td>\n",
       "      <td>3.010717</td>\n",
       "      <td>77.464789</td>\n",
       "    </tr>\n",
       "    <tr>\n",
       "      <th>1</th>\n",
       "      <td>FUD</td>\n",
       "      <td>Commodities: Agriculture</td>\n",
       "      <td>GRU</td>\n",
       "      <td>Commodities: Agriculture Grains</td>\n",
       "      <td>-3.462353</td>\n",
       "      <td>0.009008</td>\n",
       "      <td>81</td>\n",
       "      <td>42</td>\n",
       "      <td>0.366386</td>\n",
       "      <td>52</td>\n",
       "      <td>19</td>\n",
       "      <td>2.974335</td>\n",
       "      <td>73.239437</td>\n",
       "    </tr>\n",
       "    <tr>\n",
       "      <th>2</th>\n",
       "      <td>GSC</td>\n",
       "      <td>Commodities: Broad Market</td>\n",
       "      <td>GSP</td>\n",
       "      <td>Commodities: Broad Market</td>\n",
       "      <td>-4.015373</td>\n",
       "      <td>0.001332</td>\n",
       "      <td>189</td>\n",
       "      <td>9</td>\n",
       "      <td>0.165446</td>\n",
       "      <td>62</td>\n",
       "      <td>10</td>\n",
       "      <td>2.950032</td>\n",
       "      <td>86.111111</td>\n",
       "    </tr>\n",
       "    <tr>\n",
       "      <th>3</th>\n",
       "      <td>GSC</td>\n",
       "      <td>Commodities: Broad Market</td>\n",
       "      <td>GSG</td>\n",
       "      <td>Commodities: Broad Market</td>\n",
       "      <td>-3.302686</td>\n",
       "      <td>0.014759</td>\n",
       "      <td>101</td>\n",
       "      <td>16</td>\n",
       "      <td>0.195663</td>\n",
       "      <td>47</td>\n",
       "      <td>12</td>\n",
       "      <td>2.885002</td>\n",
       "      <td>79.661017</td>\n",
       "    </tr>\n",
       "    <tr>\n",
       "      <th>4</th>\n",
       "      <td>SLV</td>\n",
       "      <td>Commodities: Precious Metals Silver</td>\n",
       "      <td>UBG</td>\n",
       "      <td>Commodities: Precious Metals Gold</td>\n",
       "      <td>-3.089587</td>\n",
       "      <td>0.027333</td>\n",
       "      <td>113</td>\n",
       "      <td>32</td>\n",
       "      <td>0.397103</td>\n",
       "      <td>42</td>\n",
       "      <td>15</td>\n",
       "      <td>2.783704</td>\n",
       "      <td>73.684211</td>\n",
       "    </tr>\n",
       "  </tbody>\n",
       "</table>\n",
       "</div>"
      ],
      "text/plain": [
       "  Leg1                           Leg1_Segmt Leg2  \\\n",
       "0  GRU      Commodities: Agriculture Grains  UAG   \n",
       "1  FUD             Commodities: Agriculture  GRU   \n",
       "2  GSC            Commodities: Broad Market  GSP   \n",
       "3  GSC            Commodities: Broad Market  GSG   \n",
       "4  SLV  Commodities: Precious Metals Silver  UBG   \n",
       "\n",
       "                          Leg2_Segmt  t_statistic   p_value  zero_cross  \\\n",
       "0           Commodities: Agriculture    -3.320260  0.013997         101   \n",
       "1    Commodities: Agriculture Grains    -3.462353  0.009008          81   \n",
       "2          Commodities: Broad Market    -4.015373  0.001332         189   \n",
       "3          Commodities: Broad Market    -3.302686  0.014759         101   \n",
       "4  Commodities: Precious Metals Gold    -3.089587  0.027333         113   \n",
       "\n",
       "   half_life  hurst_exponent  positive_trades  negative_trades  sharpe_result  \\\n",
       "0         46        0.385086               55               16       3.010717   \n",
       "1         42        0.366386               52               19       2.974335   \n",
       "2          9        0.165446               62               10       2.950032   \n",
       "3         16        0.195663               47               12       2.885002   \n",
       "4         32        0.397103               42               15       2.783704   \n",
       "\n",
       "   positive_trades_per_pair_pct  \n",
       "0                     77.464789  \n",
       "1                     73.239437  \n",
       "2                     86.111111  \n",
       "3                     79.661017  \n",
       "4                     73.684211  "
      ]
     },
     "execution_count": 366,
     "metadata": {},
     "output_type": "execute_result"
    }
   ],
   "source": [
    "pairs_summary.head()"
   ]
  },
  {
   "cell_type": "code",
   "execution_count": 367,
   "metadata": {},
   "outputs": [],
   "source": [
    "adapted_cum_ret_total = []\n",
    "for index in range(len(profitable_pairs)):\n",
    "    _, adapted_cum_ret = trader.calculate_returns_adapted(\n",
    "                                        y=performance_kalman_test[index][0][2]['Y_test'],\n",
    "                                        x=performance_kalman_test[index][0][2]['X_test'],\n",
    "                                        beta=performance_kalman_test[index][1]['beta'],\n",
    "                                        positions=performance_kalman_test[index][1]['current_position'])\n",
    "    adapted_cum_ret_total.append(adapted_cum_ret[-1]*100)"
   ]
  },
  {
   "cell_type": "code",
   "execution_count": 368,
   "metadata": {},
   "outputs": [
    {
     "data": {
      "text/plain": [
       "39.01669754215551"
      ]
     },
     "execution_count": 368,
     "metadata": {},
     "output_type": "execute_result"
    }
   ],
   "source": [
    "np.mean(adapted_cum_ret_total)"
   ]
  },
  {
   "cell_type": "code",
   "execution_count": 369,
   "metadata": {},
   "outputs": [
    {
     "data": {
      "text/plain": [
       "<matplotlib.axes._subplots.AxesSubplot at 0x1143478d0>"
      ]
     },
     "execution_count": 369,
     "metadata": {},
     "output_type": "execute_result"
    },
    {
     "data": {
      "image/png": "[encoded data removed]",
      "text/plain": [
       "<matplotlib.figure.Figure at 0x12761db38>"
      ]
     },
     "metadata": {},
     "output_type": "display_data"
    }
   ],
   "source": [
    "pd.Series(adapted_cum_ret_total).hist()"
   ]
  },
  {
   "cell_type": "code",
   "execution_count": 384,
   "metadata": {},
   "outputs": [],
   "source": [
    "cum_ret_total = []\n",
    "for index in range(len(profitable_pairs)):\n",
    "    cum_ret = (np.cumprod(1 + performance_kalman_test[index][1].ret) - 1)[-1] * 100\n",
    "    cum_ret_total.append(cum_ret)"
   ]
  },
  {
   "cell_type": "code",
   "execution_count": 385,
   "metadata": {},
   "outputs": [
    {
     "data": {
      "text/plain": [
       "<matplotlib.axes._subplots.AxesSubplot at 0x114372f60>"
      ]
     },
     "execution_count": 385,
     "metadata": {},
     "output_type": "execute_result"
    },
    {
     "data": {
      "image/png": "[encoded data removed]",
      "text/plain": [
       "<matplotlib.figure.Figure at 0x114372be0>"
      ]
     },
     "metadata": {},
     "output_type": "display_data"
    }
   ],
   "source": [
    "pd.Series(cum_ret_total).hist()"
   ]
  },
  {
   "cell_type": "markdown",
   "metadata": {},
   "source": [
    "**Transaction costs**"
   ]
  },
  {
   "cell_type": "code",
   "execution_count": 388,
   "metadata": {},
   "outputs": [
    {
     "name": "stdout",
     "output_type": "stream",
     "text": [
      "-0.020424212879366355\n",
      "-0.020643449278930248\n"
     ]
    }
   ],
   "source": [
    "print((np.cumprod(1 + performance_kalman_test[0][1].ret) - 1)[-1] * 100)\n",
    "print((np.cumprod(1 + performance_kalman_test[0][1]['position_return_(%)']) - 1)[-1])"
   ]
  },
  {
   "cell_type": "code",
   "execution_count": 377,
   "metadata": {},
   "outputs": [
    {
     "data": {
      "text/plain": [
       "0.6742212157076377"
      ]
     },
     "execution_count": 377,
     "metadata": {},
     "output_type": "execute_result"
    }
   ],
   "source": [
    "_, cum_ret_testing = trader.calculate_returns_adapted(y=performance_kalman_test[0][0][2]['Y_test'],\n",
    "                                                      x=performance_kalman_test[0][0][2]['X_test'],\n",
    "                                                      beta=performance_kalman_test[0][1]['beta'],\n",
    "                                                      positions=performance_kalman_test[0][1]['current_position'])\n",
    "cum_ret_testing[-1]*100"
   ]
  },
  {
   "cell_type": "code",
   "execution_count": 378,
   "metadata": {},
   "outputs": [
    {
     "data": {
      "text/html": [
       "<div>\n",
       "<style scoped>\n",
       "    .dataframe tbody tr th:only-of-type {\n",
       "        vertical-align: middle;\n",
       "    }\n",
       "\n",
       "    .dataframe tbody tr th {\n",
       "        vertical-align: top;\n",
       "    }\n",
       "\n",
       "    .dataframe thead th {\n",
       "        text-align: right;\n",
       "    }\n",
       "</style>\n",
       "<table border=\"1\" class=\"dataframe\">\n",
       "  <thead>\n",
       "    <tr style=\"text-align: right;\">\n",
       "      <th></th>\n",
       "      <th>pnl</th>\n",
       "      <th>ret</th>\n",
       "      <th>IEO</th>\n",
       "      <th>PXI</th>\n",
       "      <th>beta</th>\n",
       "      <th>e</th>\n",
       "      <th>sqrt(Q)</th>\n",
       "      <th>current_position</th>\n",
       "      <th>position_return_(%)</th>\n",
       "    </tr>\n",
       "    <tr>\n",
       "      <th>Date</th>\n",
       "      <th></th>\n",
       "      <th></th>\n",
       "      <th></th>\n",
       "      <th></th>\n",
       "      <th></th>\n",
       "      <th></th>\n",
       "      <th></th>\n",
       "      <th></th>\n",
       "      <th></th>\n",
       "    </tr>\n",
       "  </thead>\n",
       "  <tbody>\n",
       "    <tr>\n",
       "      <th>2018-01-02</th>\n",
       "      <td>NaN</td>\n",
       "      <td>0.000000</td>\n",
       "      <td>64.879646</td>\n",
       "      <td>39.764124</td>\n",
       "      <td>0.000000</td>\n",
       "      <td>64.879646</td>\n",
       "      <td>0.031623</td>\n",
       "      <td>0.0</td>\n",
       "      <td>0.000000</td>\n",
       "    </tr>\n",
       "    <tr>\n",
       "      <th>2018-01-03</th>\n",
       "      <td>0.000000</td>\n",
       "      <td>0.000000</td>\n",
       "      <td>65.695186</td>\n",
       "      <td>40.199679</td>\n",
       "      <td>1.623174</td>\n",
       "      <td>65.695186</td>\n",
       "      <td>0.403383</td>\n",
       "      <td>0.0</td>\n",
       "      <td>0.000000</td>\n",
       "    </tr>\n",
       "    <tr>\n",
       "      <th>2018-01-04</th>\n",
       "      <td>0.000000</td>\n",
       "      <td>0.000000</td>\n",
       "      <td>66.117695</td>\n",
       "      <td>40.417951</td>\n",
       "      <td>1.634773</td>\n",
       "      <td>0.471953</td>\n",
       "      <td>0.406795</td>\n",
       "      <td>0.0</td>\n",
       "      <td>0.000000</td>\n",
       "    </tr>\n",
       "    <tr>\n",
       "      <th>2018-01-05</th>\n",
       "      <td>0.000000</td>\n",
       "      <td>0.000000</td>\n",
       "      <td>66.029263</td>\n",
       "      <td>40.427355</td>\n",
       "      <td>1.632293</td>\n",
       "      <td>-0.100953</td>\n",
       "      <td>0.406876</td>\n",
       "      <td>0.0</td>\n",
       "      <td>0.000000</td>\n",
       "    </tr>\n",
       "    <tr>\n",
       "      <th>2018-01-08</th>\n",
       "      <td>0.000000</td>\n",
       "      <td>0.000000</td>\n",
       "      <td>66.294559</td>\n",
       "      <td>40.625334</td>\n",
       "      <td>1.630863</td>\n",
       "      <td>-0.058474</td>\n",
       "      <td>0.408855</td>\n",
       "      <td>0.0</td>\n",
       "      <td>0.000000</td>\n",
       "    </tr>\n",
       "    <tr>\n",
       "      <th>2018-01-09</th>\n",
       "      <td>0.000000</td>\n",
       "      <td>0.000000</td>\n",
       "      <td>66.068566</td>\n",
       "      <td>40.397658</td>\n",
       "      <td>1.634427</td>\n",
       "      <td>0.144966</td>\n",
       "      <td>0.406567</td>\n",
       "      <td>0.0</td>\n",
       "      <td>0.000000</td>\n",
       "    </tr>\n",
       "    <tr>\n",
       "      <th>2018-01-10</th>\n",
       "      <td>0.000000</td>\n",
       "      <td>0.000000</td>\n",
       "      <td>65.931005</td>\n",
       "      <td>40.278870</td>\n",
       "      <td>1.635844</td>\n",
       "      <td>0.057466</td>\n",
       "      <td>0.405393</td>\n",
       "      <td>0.0</td>\n",
       "      <td>0.000000</td>\n",
       "    </tr>\n",
       "    <tr>\n",
       "      <th>2018-01-11</th>\n",
       "      <td>0.000000</td>\n",
       "      <td>0.000000</td>\n",
       "      <td>67.375395</td>\n",
       "      <td>41.308362</td>\n",
       "      <td>1.630087</td>\n",
       "      <td>-0.239349</td>\n",
       "      <td>0.415693</td>\n",
       "      <td>0.0</td>\n",
       "      <td>0.000000</td>\n",
       "    </tr>\n",
       "    <tr>\n",
       "      <th>2018-01-12</th>\n",
       "      <td>0.000000</td>\n",
       "      <td>0.000000</td>\n",
       "      <td>68.171284</td>\n",
       "      <td>41.635028</td>\n",
       "      <td>1.636340</td>\n",
       "      <td>0.262010</td>\n",
       "      <td>0.418897</td>\n",
       "      <td>0.0</td>\n",
       "      <td>0.000000</td>\n",
       "    </tr>\n",
       "    <tr>\n",
       "      <th>2018-01-16</th>\n",
       "      <td>0.000000</td>\n",
       "      <td>0.000000</td>\n",
       "      <td>67.119925</td>\n",
       "      <td>41.001494</td>\n",
       "      <td>1.636021</td>\n",
       "      <td>-0.013189</td>\n",
       "      <td>0.412545</td>\n",
       "      <td>0.0</td>\n",
       "      <td>0.000000</td>\n",
       "    </tr>\n",
       "    <tr>\n",
       "      <th>2018-01-17</th>\n",
       "      <td>0.000000</td>\n",
       "      <td>0.000000</td>\n",
       "      <td>67.768427</td>\n",
       "      <td>41.387554</td>\n",
       "      <td>1.636425</td>\n",
       "      <td>0.016823</td>\n",
       "      <td>0.416441</td>\n",
       "      <td>0.0</td>\n",
       "      <td>0.000000</td>\n",
       "    </tr>\n",
       "    <tr>\n",
       "      <th>2018-01-18</th>\n",
       "      <td>0.000000</td>\n",
       "      <td>0.000000</td>\n",
       "      <td>67.296789</td>\n",
       "      <td>40.902208</td>\n",
       "      <td>1.644262</td>\n",
       "      <td>0.322692</td>\n",
       "      <td>0.411567</td>\n",
       "      <td>0.0</td>\n",
       "      <td>0.000000</td>\n",
       "    </tr>\n",
       "    <tr>\n",
       "      <th>2018-01-19</th>\n",
       "      <td>0.000000</td>\n",
       "      <td>0.000000</td>\n",
       "      <td>67.208357</td>\n",
       "      <td>41.031191</td>\n",
       "      <td>1.637031</td>\n",
       "      <td>-0.298610</td>\n",
       "      <td>0.412884</td>\n",
       "      <td>0.0</td>\n",
       "      <td>0.000000</td>\n",
       "    </tr>\n",
       "    <tr>\n",
       "      <th>2018-01-22</th>\n",
       "      <td>0.000000</td>\n",
       "      <td>0.000000</td>\n",
       "      <td>68.731353</td>\n",
       "      <td>41.758567</td>\n",
       "      <td>1.644898</td>\n",
       "      <td>0.330508</td>\n",
       "      <td>0.420149</td>\n",
       "      <td>0.0</td>\n",
       "      <td>0.000000</td>\n",
       "    </tr>\n",
       "    <tr>\n",
       "      <th>2018-01-23</th>\n",
       "      <td>0.000000</td>\n",
       "      <td>0.000000</td>\n",
       "      <td>68.908218</td>\n",
       "      <td>41.991390</td>\n",
       "      <td>1.640064</td>\n",
       "      <td>-0.204235</td>\n",
       "      <td>0.422434</td>\n",
       "      <td>0.0</td>\n",
       "      <td>0.000000</td>\n",
       "    </tr>\n",
       "    <tr>\n",
       "      <th>2018-01-24</th>\n",
       "      <td>0.000000</td>\n",
       "      <td>0.000000</td>\n",
       "      <td>68.677312</td>\n",
       "      <td>41.773613</td>\n",
       "      <td>1.643040</td>\n",
       "      <td>0.125118</td>\n",
       "      <td>0.420244</td>\n",
       "      <td>0.0</td>\n",
       "      <td>0.000000</td>\n",
       "    </tr>\n",
       "    <tr>\n",
       "      <th>2018-01-25</th>\n",
       "      <td>0.000000</td>\n",
       "      <td>0.000000</td>\n",
       "      <td>67.778252</td>\n",
       "      <td>41.174726</td>\n",
       "      <td>1.645107</td>\n",
       "      <td>0.085645</td>\n",
       "      <td>0.414269</td>\n",
       "      <td>0.0</td>\n",
       "      <td>0.000000</td>\n",
       "    </tr>\n",
       "    <tr>\n",
       "      <th>2018-01-26</th>\n",
       "      <td>0.000000</td>\n",
       "      <td>0.000000</td>\n",
       "      <td>68.279367</td>\n",
       "      <td>41.357857</td>\n",
       "      <td>1.649920</td>\n",
       "      <td>0.200344</td>\n",
       "      <td>0.416134</td>\n",
       "      <td>0.0</td>\n",
       "      <td>0.000000</td>\n",
       "    </tr>\n",
       "    <tr>\n",
       "      <th>2018-01-29</th>\n",
       "      <td>0.000000</td>\n",
       "      <td>0.000000</td>\n",
       "      <td>67.149402</td>\n",
       "      <td>40.704526</td>\n",
       "      <td>1.648679</td>\n",
       "      <td>-0.050863</td>\n",
       "      <td>0.409592</td>\n",
       "      <td>0.0</td>\n",
       "      <td>0.000000</td>\n",
       "    </tr>\n",
       "    <tr>\n",
       "      <th>2018-01-30</th>\n",
       "      <td>0.000000</td>\n",
       "      <td>0.000000</td>\n",
       "      <td>65.380761</td>\n",
       "      <td>39.615640</td>\n",
       "      <td>1.649338</td>\n",
       "      <td>0.026279</td>\n",
       "      <td>0.398746</td>\n",
       "      <td>0.0</td>\n",
       "      <td>0.000000</td>\n",
       "    </tr>\n",
       "    <tr>\n",
       "      <th>2018-01-31</th>\n",
       "      <td>0.000000</td>\n",
       "      <td>0.000000</td>\n",
       "      <td>65.424977</td>\n",
       "      <td>39.694832</td>\n",
       "      <td>1.647180</td>\n",
       "      <td>-0.086233</td>\n",
       "      <td>0.399602</td>\n",
       "      <td>0.0</td>\n",
       "      <td>0.000000</td>\n",
       "    </tr>\n",
       "    <tr>\n",
       "      <th>2018-02-01</th>\n",
       "      <td>0.000000</td>\n",
       "      <td>0.000000</td>\n",
       "      <td>65.705012</td>\n",
       "      <td>40.011598</td>\n",
       "      <td>1.641165</td>\n",
       "      <td>-0.242277</td>\n",
       "      <td>0.402764</td>\n",
       "      <td>0.0</td>\n",
       "      <td>0.000000</td>\n",
       "    </tr>\n",
       "    <tr>\n",
       "      <th>2018-02-02</th>\n",
       "      <td>0.000000</td>\n",
       "      <td>0.000000</td>\n",
       "      <td>63.376302</td>\n",
       "      <td>38.497057</td>\n",
       "      <td>1.645171</td>\n",
       "      <td>0.155408</td>\n",
       "      <td>0.387608</td>\n",
       "      <td>0.0</td>\n",
       "      <td>0.000000</td>\n",
       "    </tr>\n",
       "    <tr>\n",
       "      <th>2018-02-05</th>\n",
       "      <td>0.000000</td>\n",
       "      <td>0.000000</td>\n",
       "      <td>61.322713</td>\n",
       "      <td>37.792251</td>\n",
       "      <td>1.621727</td>\n",
       "      <td>-0.893028</td>\n",
       "      <td>0.380654</td>\n",
       "      <td>0.0</td>\n",
       "      <td>0.000000</td>\n",
       "    </tr>\n",
       "    <tr>\n",
       "      <th>2018-02-06</th>\n",
       "      <td>-0.034648</td>\n",
       "      <td>-0.000283</td>\n",
       "      <td>61.853305</td>\n",
       "      <td>38.140794</td>\n",
       "      <td>1.620665</td>\n",
       "      <td>-0.040811</td>\n",
       "      <td>0.384185</td>\n",
       "      <td>1.0</td>\n",
       "      <td>-0.028259</td>\n",
       "    </tr>\n",
       "    <tr>\n",
       "      <th>2018-02-07</th>\n",
       "      <td>0.000000</td>\n",
       "      <td>0.000000</td>\n",
       "      <td>60.742992</td>\n",
       "      <td>37.220092</td>\n",
       "      <td>1.630832</td>\n",
       "      <td>0.381560</td>\n",
       "      <td>0.374960</td>\n",
       "      <td>0.0</td>\n",
       "      <td>0.000000</td>\n",
       "    </tr>\n",
       "    <tr>\n",
       "      <th>2018-02-08</th>\n",
       "      <td>0.000000</td>\n",
       "      <td>0.000000</td>\n",
       "      <td>58.257069</td>\n",
       "      <td>35.678031</td>\n",
       "      <td>1.631710</td>\n",
       "      <td>0.031631</td>\n",
       "      <td>0.359613</td>\n",
       "      <td>0.0</td>\n",
       "      <td>0.000000</td>\n",
       "    </tr>\n",
       "    <tr>\n",
       "      <th>2018-02-09</th>\n",
       "      <td>0.000000</td>\n",
       "      <td>0.000000</td>\n",
       "      <td>58.060553</td>\n",
       "      <td>35.408582</td>\n",
       "      <td>1.638523</td>\n",
       "      <td>0.243393</td>\n",
       "      <td>0.357025</td>\n",
       "      <td>0.0</td>\n",
       "      <td>0.000000</td>\n",
       "    </tr>\n",
       "    <tr>\n",
       "      <th>2018-02-12</th>\n",
       "      <td>0.000000</td>\n",
       "      <td>0.000000</td>\n",
       "      <td>59.544246</td>\n",
       "      <td>36.497467</td>\n",
       "      <td>1.630404</td>\n",
       "      <td>-0.298562</td>\n",
       "      <td>0.367935</td>\n",
       "      <td>0.0</td>\n",
       "      <td>0.000000</td>\n",
       "    </tr>\n",
       "    <tr>\n",
       "      <th>2018-02-13</th>\n",
       "      <td>0.000000</td>\n",
       "      <td>0.000000</td>\n",
       "      <td>59.219995</td>\n",
       "      <td>36.438074</td>\n",
       "      <td>1.624154</td>\n",
       "      <td>-0.229620</td>\n",
       "      <td>0.367255</td>\n",
       "      <td>0.0</td>\n",
       "      <td>0.000000</td>\n",
       "    </tr>\n",
       "    <tr>\n",
       "      <th>...</th>\n",
       "      <td>...</td>\n",
       "      <td>...</td>\n",
       "      <td>...</td>\n",
       "      <td>...</td>\n",
       "      <td>...</td>\n",
       "      <td>...</td>\n",
       "      <td>...</td>\n",
       "      <td>...</td>\n",
       "      <td>...</td>\n",
       "    </tr>\n",
       "    <tr>\n",
       "      <th>2018-11-15</th>\n",
       "      <td>0.000000</td>\n",
       "      <td>0.000000</td>\n",
       "      <td>61.453315</td>\n",
       "      <td>34.516193</td>\n",
       "      <td>1.778088</td>\n",
       "      <td>0.274801</td>\n",
       "      <td>0.348249</td>\n",
       "      <td>0.0</td>\n",
       "      <td>0.000000</td>\n",
       "    </tr>\n",
       "    <tr>\n",
       "      <th>2018-11-16</th>\n",
       "      <td>0.000000</td>\n",
       "      <td>0.000000</td>\n",
       "      <td>61.977965</td>\n",
       "      <td>34.874079</td>\n",
       "      <td>1.774972</td>\n",
       "      <td>-0.109438</td>\n",
       "      <td>0.351777</td>\n",
       "      <td>0.0</td>\n",
       "      <td>0.000000</td>\n",
       "    </tr>\n",
       "    <tr>\n",
       "      <th>2018-11-19</th>\n",
       "      <td>0.000000</td>\n",
       "      <td>0.000000</td>\n",
       "      <td>61.453315</td>\n",
       "      <td>34.367073</td>\n",
       "      <td>1.785737</td>\n",
       "      <td>0.374388</td>\n",
       "      <td>0.346683</td>\n",
       "      <td>0.0</td>\n",
       "      <td>0.000000</td>\n",
       "    </tr>\n",
       "    <tr>\n",
       "      <th>2018-11-20</th>\n",
       "      <td>0.000000</td>\n",
       "      <td>0.000000</td>\n",
       "      <td>59.087442</td>\n",
       "      <td>32.865937</td>\n",
       "      <td>1.795226</td>\n",
       "      <td>0.317876</td>\n",
       "      <td>0.331779</td>\n",
       "      <td>0.0</td>\n",
       "      <td>0.000000</td>\n",
       "    </tr>\n",
       "    <tr>\n",
       "      <th>2018-11-21</th>\n",
       "      <td>0.000000</td>\n",
       "      <td>0.000000</td>\n",
       "      <td>60.522804</td>\n",
       "      <td>33.770595</td>\n",
       "      <td>1.789748</td>\n",
       "      <td>-0.185816</td>\n",
       "      <td>0.340909</td>\n",
       "      <td>0.0</td>\n",
       "      <td>0.000000</td>\n",
       "    </tr>\n",
       "    <tr>\n",
       "      <th>2018-11-23</th>\n",
       "      <td>0.000000</td>\n",
       "      <td>0.000000</td>\n",
       "      <td>58.236123</td>\n",
       "      <td>32.378813</td>\n",
       "      <td>1.795888</td>\n",
       "      <td>0.202659</td>\n",
       "      <td>0.326953</td>\n",
       "      <td>0.0</td>\n",
       "      <td>0.000000</td>\n",
       "    </tr>\n",
       "    <tr>\n",
       "      <th>2018-11-26</th>\n",
       "      <td>0.000000</td>\n",
       "      <td>0.000000</td>\n",
       "      <td>59.414110</td>\n",
       "      <td>33.104528</td>\n",
       "      <td>1.792180</td>\n",
       "      <td>-0.123420</td>\n",
       "      <td>0.334288</td>\n",
       "      <td>0.0</td>\n",
       "      <td>0.000000</td>\n",
       "    </tr>\n",
       "    <tr>\n",
       "      <th>2018-11-27</th>\n",
       "      <td>0.000000</td>\n",
       "      <td>0.000000</td>\n",
       "      <td>58.929057</td>\n",
       "      <td>33.015056</td>\n",
       "      <td>1.782415</td>\n",
       "      <td>-0.325809</td>\n",
       "      <td>0.333311</td>\n",
       "      <td>0.0</td>\n",
       "      <td>0.000000</td>\n",
       "    </tr>\n",
       "    <tr>\n",
       "      <th>2018-11-28</th>\n",
       "      <td>0.000000</td>\n",
       "      <td>0.000000</td>\n",
       "      <td>59.790274</td>\n",
       "      <td>33.522063</td>\n",
       "      <td>1.781069</td>\n",
       "      <td>-0.045411</td>\n",
       "      <td>0.338395</td>\n",
       "      <td>0.0</td>\n",
       "      <td>0.000000</td>\n",
       "    </tr>\n",
       "    <tr>\n",
       "      <th>2018-11-29</th>\n",
       "      <td>0.000000</td>\n",
       "      <td>0.000000</td>\n",
       "      <td>60.275328</td>\n",
       "      <td>33.740771</td>\n",
       "      <td>1.783865</td>\n",
       "      <td>0.095122</td>\n",
       "      <td>0.340530</td>\n",
       "      <td>0.0</td>\n",
       "      <td>0.000000</td>\n",
       "    </tr>\n",
       "    <tr>\n",
       "      <th>2018-11-30</th>\n",
       "      <td>0.000000</td>\n",
       "      <td>0.000000</td>\n",
       "      <td>59.760577</td>\n",
       "      <td>33.482297</td>\n",
       "      <td>1.782304</td>\n",
       "      <td>-0.052848</td>\n",
       "      <td>0.337928</td>\n",
       "      <td>0.0</td>\n",
       "      <td>0.000000</td>\n",
       "    </tr>\n",
       "    <tr>\n",
       "      <th>2018-12-03</th>\n",
       "      <td>0.000000</td>\n",
       "      <td>0.000000</td>\n",
       "      <td>61.492911</td>\n",
       "      <td>34.406838</td>\n",
       "      <td>1.784738</td>\n",
       "      <td>0.084058</td>\n",
       "      <td>0.347216</td>\n",
       "      <td>0.0</td>\n",
       "      <td>0.000000</td>\n",
       "    </tr>\n",
       "    <tr>\n",
       "      <th>2018-12-04</th>\n",
       "      <td>0.000000</td>\n",
       "      <td>0.000000</td>\n",
       "      <td>59.463606</td>\n",
       "      <td>33.184059</td>\n",
       "      <td>1.789292</td>\n",
       "      <td>0.153733</td>\n",
       "      <td>0.334934</td>\n",
       "      <td>0.0</td>\n",
       "      <td>0.000000</td>\n",
       "    </tr>\n",
       "    <tr>\n",
       "      <th>2018-12-06</th>\n",
       "      <td>0.000000</td>\n",
       "      <td>0.000000</td>\n",
       "      <td>58.335114</td>\n",
       "      <td>32.269459</td>\n",
       "      <td>1.804817</td>\n",
       "      <td>0.509364</td>\n",
       "      <td>0.325880</td>\n",
       "      <td>0.0</td>\n",
       "      <td>0.000000</td>\n",
       "    </tr>\n",
       "    <tr>\n",
       "      <th>2018-12-07</th>\n",
       "      <td>0.000000</td>\n",
       "      <td>0.000000</td>\n",
       "      <td>57.949051</td>\n",
       "      <td>32.179987</td>\n",
       "      <td>1.798063</td>\n",
       "      <td>-0.219787</td>\n",
       "      <td>0.325040</td>\n",
       "      <td>0.0</td>\n",
       "      <td>0.000000</td>\n",
       "    </tr>\n",
       "    <tr>\n",
       "      <th>2018-12-10</th>\n",
       "      <td>0.000000</td>\n",
       "      <td>0.000000</td>\n",
       "      <td>56.711669</td>\n",
       "      <td>31.165975</td>\n",
       "      <td>1.816447</td>\n",
       "      <td>0.583796</td>\n",
       "      <td>0.314951</td>\n",
       "      <td>0.0</td>\n",
       "      <td>0.000000</td>\n",
       "    </tr>\n",
       "    <tr>\n",
       "      <th>2018-12-11</th>\n",
       "      <td>0.000000</td>\n",
       "      <td>0.000000</td>\n",
       "      <td>56.721568</td>\n",
       "      <td>31.225622</td>\n",
       "      <td>1.813515</td>\n",
       "      <td>-0.092563</td>\n",
       "      <td>0.315607</td>\n",
       "      <td>0.0</td>\n",
       "      <td>0.000000</td>\n",
       "    </tr>\n",
       "    <tr>\n",
       "      <th>2018-12-12</th>\n",
       "      <td>0.000000</td>\n",
       "      <td>0.000000</td>\n",
       "      <td>57.186824</td>\n",
       "      <td>31.633216</td>\n",
       "      <td>1.804893</td>\n",
       "      <td>-0.274850</td>\n",
       "      <td>0.319681</td>\n",
       "      <td>0.0</td>\n",
       "      <td>0.000000</td>\n",
       "    </tr>\n",
       "    <tr>\n",
       "      <th>2018-12-13</th>\n",
       "      <td>0.000000</td>\n",
       "      <td>0.000000</td>\n",
       "      <td>56.978944</td>\n",
       "      <td>31.484096</td>\n",
       "      <td>1.806732</td>\n",
       "      <td>0.058575</td>\n",
       "      <td>0.318145</td>\n",
       "      <td>0.0</td>\n",
       "      <td>0.000000</td>\n",
       "    </tr>\n",
       "    <tr>\n",
       "      <th>2018-12-14</th>\n",
       "      <td>0.000000</td>\n",
       "      <td>0.000000</td>\n",
       "      <td>55.207013</td>\n",
       "      <td>30.350788</td>\n",
       "      <td>1.815644</td>\n",
       "      <td>0.276232</td>\n",
       "      <td>0.306883</td>\n",
       "      <td>0.0</td>\n",
       "      <td>0.000000</td>\n",
       "    </tr>\n",
       "    <tr>\n",
       "      <th>2018-12-17</th>\n",
       "      <td>0.000000</td>\n",
       "      <td>0.000000</td>\n",
       "      <td>53.781093</td>\n",
       "      <td>29.525660</td>\n",
       "      <td>1.818139</td>\n",
       "      <td>0.075152</td>\n",
       "      <td>0.298730</td>\n",
       "      <td>0.0</td>\n",
       "      <td>0.000000</td>\n",
       "    </tr>\n",
       "    <tr>\n",
       "      <th>2018-12-18</th>\n",
       "      <td>0.000000</td>\n",
       "      <td>0.000000</td>\n",
       "      <td>52.645604</td>\n",
       "      <td>28.760180</td>\n",
       "      <td>1.826896</td>\n",
       "      <td>0.257102</td>\n",
       "      <td>0.291166</td>\n",
       "      <td>0.0</td>\n",
       "      <td>0.000000</td>\n",
       "    </tr>\n",
       "    <tr>\n",
       "      <th>2018-12-19</th>\n",
       "      <td>0.000000</td>\n",
       "      <td>0.000000</td>\n",
       "      <td>52.187284</td>\n",
       "      <td>28.621002</td>\n",
       "      <td>1.819975</td>\n",
       "      <td>-0.201023</td>\n",
       "      <td>0.289834</td>\n",
       "      <td>0.0</td>\n",
       "      <td>0.000000</td>\n",
       "    </tr>\n",
       "    <tr>\n",
       "      <th>2018-12-20</th>\n",
       "      <td>0.000000</td>\n",
       "      <td>0.000000</td>\n",
       "      <td>50.623359</td>\n",
       "      <td>27.736226</td>\n",
       "      <td>1.821523</td>\n",
       "      <td>0.043951</td>\n",
       "      <td>0.281049</td>\n",
       "      <td>0.0</td>\n",
       "      <td>0.000000</td>\n",
       "    </tr>\n",
       "    <tr>\n",
       "      <th>2018-12-21</th>\n",
       "      <td>0.000000</td>\n",
       "      <td>0.000000</td>\n",
       "      <td>49.796571</td>\n",
       "      <td>27.119866</td>\n",
       "      <td>1.832216</td>\n",
       "      <td>0.296483</td>\n",
       "      <td>0.274977</td>\n",
       "      <td>0.0</td>\n",
       "      <td>0.000000</td>\n",
       "    </tr>\n",
       "    <tr>\n",
       "      <th>2018-12-24</th>\n",
       "      <td>0.000000</td>\n",
       "      <td>0.000000</td>\n",
       "      <td>47.475586</td>\n",
       "      <td>25.957300</td>\n",
       "      <td>1.825236</td>\n",
       "      <td>-0.186992</td>\n",
       "      <td>0.263504</td>\n",
       "      <td>0.0</td>\n",
       "      <td>0.000000</td>\n",
       "    </tr>\n",
       "    <tr>\n",
       "      <th>2018-12-26</th>\n",
       "      <td>0.000000</td>\n",
       "      <td>0.000000</td>\n",
       "      <td>51.360496</td>\n",
       "      <td>28.248184</td>\n",
       "      <td>1.814511</td>\n",
       "      <td>-0.299187</td>\n",
       "      <td>0.286807</td>\n",
       "      <td>0.0</td>\n",
       "      <td>0.000000</td>\n",
       "    </tr>\n",
       "    <tr>\n",
       "      <th>2018-12-27</th>\n",
       "      <td>0.000000</td>\n",
       "      <td>0.000000</td>\n",
       "      <td>51.699180</td>\n",
       "      <td>28.350597</td>\n",
       "      <td>1.819711</td>\n",
       "      <td>0.149217</td>\n",
       "      <td>0.287192</td>\n",
       "      <td>0.0</td>\n",
       "      <td>0.000000</td>\n",
       "    </tr>\n",
       "    <tr>\n",
       "      <th>2018-12-28</th>\n",
       "      <td>0.000000</td>\n",
       "      <td>0.000000</td>\n",
       "      <td>50.962044</td>\n",
       "      <td>28.081351</td>\n",
       "      <td>1.811117</td>\n",
       "      <td>-0.245378</td>\n",
       "      <td>0.284492</td>\n",
       "      <td>0.0</td>\n",
       "      <td>0.000000</td>\n",
       "    </tr>\n",
       "    <tr>\n",
       "      <th>2018-12-31</th>\n",
       "      <td>0.000000</td>\n",
       "      <td>0.000000</td>\n",
       "      <td>51.430225</td>\n",
       "      <td>28.310709</td>\n",
       "      <td>1.812855</td>\n",
       "      <td>0.049756</td>\n",
       "      <td>0.286815</td>\n",
       "      <td>0.0</td>\n",
       "      <td>0.000000</td>\n",
       "    </tr>\n",
       "  </tbody>\n",
       "</table>\n",
       "<p>251 rows × 9 columns</p>\n",
       "</div>"
      ],
      "text/plain": [
       "                 pnl       ret        IEO        PXI      beta          e  \\\n",
       "Date                                                                        \n",
       "2018-01-02       NaN  0.000000  64.879646  39.764124  0.000000  64.879646   \n",
       "2018-01-03  0.000000  0.000000  65.695186  40.199679  1.623174  65.695186   \n",
       "2018-01-04  0.000000  0.000000  66.117695  40.417951  1.634773   0.471953   \n",
       "2018-01-05  0.000000  0.000000  66.029263  40.427355  1.632293  -0.100953   \n",
       "2018-01-08  0.000000  0.000000  66.294559  40.625334  1.630863  -0.058474   \n",
       "2018-01-09  0.000000  0.000000  66.068566  40.397658  1.634427   0.144966   \n",
       "2018-01-10  0.000000  0.000000  65.931005  40.278870  1.635844   0.057466   \n",
       "2018-01-11  0.000000  0.000000  67.375395  41.308362  1.630087  -0.239349   \n",
       "2018-01-12  0.000000  0.000000  68.171284  41.635028  1.636340   0.262010   \n",
       "2018-01-16  0.000000  0.000000  67.119925  41.001494  1.636021  -0.013189   \n",
       "2018-01-17  0.000000  0.000000  67.768427  41.387554  1.636425   0.016823   \n",
       "2018-01-18  0.000000  0.000000  67.296789  40.902208  1.644262   0.322692   \n",
       "2018-01-19  0.000000  0.000000  67.208357  41.031191  1.637031  -0.298610   \n",
       "2018-01-22  0.000000  0.000000  68.731353  41.758567  1.644898   0.330508   \n",
       "2018-01-23  0.000000  0.000000  68.908218  41.991390  1.640064  -0.204235   \n",
       "2018-01-24  0.000000  0.000000  68.677312  41.773613  1.643040   0.125118   \n",
       "2018-01-25  0.000000  0.000000  67.778252  41.174726  1.645107   0.085645   \n",
       "2018-01-26  0.000000  0.000000  68.279367  41.357857  1.649920   0.200344   \n",
       "2018-01-29  0.000000  0.000000  67.149402  40.704526  1.648679  -0.050863   \n",
       "2018-01-30  0.000000  0.000000  65.380761  39.615640  1.649338   0.026279   \n",
       "2018-01-31  0.000000  0.000000  65.424977  39.694832  1.647180  -0.086233   \n",
       "2018-02-01  0.000000  0.000000  65.705012  40.011598  1.641165  -0.242277   \n",
       "2018-02-02  0.000000  0.000000  63.376302  38.497057  1.645171   0.155408   \n",
       "2018-02-05  0.000000  0.000000  61.322713  37.792251  1.621727  -0.893028   \n",
       "2018-02-06 -0.034648 -0.000283  61.853305  38.140794  1.620665  -0.040811   \n",
       "2018-02-07  0.000000  0.000000  60.742992  37.220092  1.630832   0.381560   \n",
       "2018-02-08  0.000000  0.000000  58.257069  35.678031  1.631710   0.031631   \n",
       "2018-02-09  0.000000  0.000000  58.060553  35.408582  1.638523   0.243393   \n",
       "2018-02-12  0.000000  0.000000  59.544246  36.497467  1.630404  -0.298562   \n",
       "2018-02-13  0.000000  0.000000  59.219995  36.438074  1.624154  -0.229620   \n",
       "...              ...       ...        ...        ...       ...        ...   \n",
       "2018-11-15  0.000000  0.000000  61.453315  34.516193  1.778088   0.274801   \n",
       "2018-11-16  0.000000  0.000000  61.977965  34.874079  1.774972  -0.109438   \n",
       "2018-11-19  0.000000  0.000000  61.453315  34.367073  1.785737   0.374388   \n",
       "2018-11-20  0.000000  0.000000  59.087442  32.865937  1.795226   0.317876   \n",
       "2018-11-21  0.000000  0.000000  60.522804  33.770595  1.789748  -0.185816   \n",
       "2018-11-23  0.000000  0.000000  58.236123  32.378813  1.795888   0.202659   \n",
       "2018-11-26  0.000000  0.000000  59.414110  33.104528  1.792180  -0.123420   \n",
       "2018-11-27  0.000000  0.000000  58.929057  33.015056  1.782415  -0.325809   \n",
       "2018-11-28  0.000000  0.000000  59.790274  33.522063  1.781069  -0.045411   \n",
       "2018-11-29  0.000000  0.000000  60.275328  33.740771  1.783865   0.095122   \n",
       "2018-11-30  0.000000  0.000000  59.760577  33.482297  1.782304  -0.052848   \n",
       "2018-12-03  0.000000  0.000000  61.492911  34.406838  1.784738   0.084058   \n",
       "2018-12-04  0.000000  0.000000  59.463606  33.184059  1.789292   0.153733   \n",
       "2018-12-06  0.000000  0.000000  58.335114  32.269459  1.804817   0.509364   \n",
       "2018-12-07  0.000000  0.000000  57.949051  32.179987  1.798063  -0.219787   \n",
       "2018-12-10  0.000000  0.000000  56.711669  31.165975  1.816447   0.583796   \n",
       "2018-12-11  0.000000  0.000000  56.721568  31.225622  1.813515  -0.092563   \n",
       "2018-12-12  0.000000  0.000000  57.186824  31.633216  1.804893  -0.274850   \n",
       "2018-12-13  0.000000  0.000000  56.978944  31.484096  1.806732   0.058575   \n",
       "2018-12-14  0.000000  0.000000  55.207013  30.350788  1.815644   0.276232   \n",
       "2018-12-17  0.000000  0.000000  53.781093  29.525660  1.818139   0.075152   \n",
       "2018-12-18  0.000000  0.000000  52.645604  28.760180  1.826896   0.257102   \n",
       "2018-12-19  0.000000  0.000000  52.187284  28.621002  1.819975  -0.201023   \n",
       "2018-12-20  0.000000  0.000000  50.623359  27.736226  1.821523   0.043951   \n",
       "2018-12-21  0.000000  0.000000  49.796571  27.119866  1.832216   0.296483   \n",
       "2018-12-24  0.000000  0.000000  47.475586  25.957300  1.825236  -0.186992   \n",
       "2018-12-26  0.000000  0.000000  51.360496  28.248184  1.814511  -0.299187   \n",
       "2018-12-27  0.000000  0.000000  51.699180  28.350597  1.819711   0.149217   \n",
       "2018-12-28  0.000000  0.000000  50.962044  28.081351  1.811117  -0.245378   \n",
       "2018-12-31  0.000000  0.000000  51.430225  28.310709  1.812855   0.049756   \n",
       "\n",
       "             sqrt(Q)  current_position  position_return_(%)  \n",
       "Date                                                         \n",
       "2018-01-02  0.031623               0.0             0.000000  \n",
       "2018-01-03  0.403383               0.0             0.000000  \n",
       "2018-01-04  0.406795               0.0             0.000000  \n",
       "2018-01-05  0.406876               0.0             0.000000  \n",
       "2018-01-08  0.408855               0.0             0.000000  \n",
       "2018-01-09  0.406567               0.0             0.000000  \n",
       "2018-01-10  0.405393               0.0             0.000000  \n",
       "2018-01-11  0.415693               0.0             0.000000  \n",
       "2018-01-12  0.418897               0.0             0.000000  \n",
       "2018-01-16  0.412545               0.0             0.000000  \n",
       "2018-01-17  0.416441               0.0             0.000000  \n",
       "2018-01-18  0.411567               0.0             0.000000  \n",
       "2018-01-19  0.412884               0.0             0.000000  \n",
       "2018-01-22  0.420149               0.0             0.000000  \n",
       "2018-01-23  0.422434               0.0             0.000000  \n",
       "2018-01-24  0.420244               0.0             0.000000  \n",
       "2018-01-25  0.414269               0.0             0.000000  \n",
       "2018-01-26  0.416134               0.0             0.000000  \n",
       "2018-01-29  0.409592               0.0             0.000000  \n",
       "2018-01-30  0.398746               0.0             0.000000  \n",
       "2018-01-31  0.399602               0.0             0.000000  \n",
       "2018-02-01  0.402764               0.0             0.000000  \n",
       "2018-02-02  0.387608               0.0             0.000000  \n",
       "2018-02-05  0.380654               0.0             0.000000  \n",
       "2018-02-06  0.384185               1.0            -0.028259  \n",
       "2018-02-07  0.374960               0.0             0.000000  \n",
       "2018-02-08  0.359613               0.0             0.000000  \n",
       "2018-02-09  0.357025               0.0             0.000000  \n",
       "2018-02-12  0.367935               0.0             0.000000  \n",
       "2018-02-13  0.367255               0.0             0.000000  \n",
       "...              ...               ...                  ...  \n",
       "2018-11-15  0.348249               0.0             0.000000  \n",
       "2018-11-16  0.351777               0.0             0.000000  \n",
       "2018-11-19  0.346683               0.0             0.000000  \n",
       "2018-11-20  0.331779               0.0             0.000000  \n",
       "2018-11-21  0.340909               0.0             0.000000  \n",
       "2018-11-23  0.326953               0.0             0.000000  \n",
       "2018-11-26  0.334288               0.0             0.000000  \n",
       "2018-11-27  0.333311               0.0             0.000000  \n",
       "2018-11-28  0.338395               0.0             0.000000  \n",
       "2018-11-29  0.340530               0.0             0.000000  \n",
       "2018-11-30  0.337928               0.0             0.000000  \n",
       "2018-12-03  0.347216               0.0             0.000000  \n",
       "2018-12-04  0.334934               0.0             0.000000  \n",
       "2018-12-06  0.325880               0.0             0.000000  \n",
       "2018-12-07  0.325040               0.0             0.000000  \n",
       "2018-12-10  0.314951               0.0             0.000000  \n",
       "2018-12-11  0.315607               0.0             0.000000  \n",
       "2018-12-12  0.319681               0.0             0.000000  \n",
       "2018-12-13  0.318145               0.0             0.000000  \n",
       "2018-12-14  0.306883               0.0             0.000000  \n",
       "2018-12-17  0.298730               0.0             0.000000  \n",
       "2018-12-18  0.291166               0.0             0.000000  \n",
       "2018-12-19  0.289834               0.0             0.000000  \n",
       "2018-12-20  0.281049               0.0             0.000000  \n",
       "2018-12-21  0.274977               0.0             0.000000  \n",
       "2018-12-24  0.263504               0.0             0.000000  \n",
       "2018-12-26  0.286807               0.0             0.000000  \n",
       "2018-12-27  0.287192               0.0             0.000000  \n",
       "2018-12-28  0.284492               0.0             0.000000  \n",
       "2018-12-31  0.286815               0.0             0.000000  \n",
       "\n",
       "[251 rows x 9 columns]"
      ]
     },
     "execution_count": 378,
     "metadata": {},
     "output_type": "execute_result"
    }
   ],
   "source": [
    "performance_kalman_test[0][1]['position_return_(%)']"
   ]
  },
  {
   "cell_type": "code",
   "execution_count": null,
   "metadata": {},
   "outputs": [],
   "source": [
    "index = 3\n",
    "performance_bollinger_test[index][1]['2018-02-28':].head()#[performance_kalman_test[index][1].ret != 0]\n",
    "#(np.cumprod(1 + performance_bollinger_test[index][1].ret) - 1).iloc[-1] * 100"
   ]
  },
  {
   "cell_type": "code",
   "execution_count": null,
   "metadata": {},
   "outputs": [],
   "source": [
    "X_ex = pd.Series(data=[5,4,3,2,1])\n",
    "Y_ex = pd.Series(data=[1,2,3,4,5])\n",
    "beta_ex = pd.Series(data=[1.1,1.2,1.3,1.4,1.5])\n",
    "positions_ex = pd.Series(data=[0,0,1,1,0])\n",
    "df_ex = pd.concat([X_ex, Y_ex, beta_ex, positions_ex], keys=['X_ex', 'Y_ex', 'beta', 'positions'],axis=1)\n",
    "df_ex"
   ]
  },
  {
   "cell_type": "code",
   "execution_count": null,
   "metadata": {},
   "outputs": [],
   "source": [
    "calculate_returns_adapted(Y_ex, X_ex,beta_ex, positions_ex)"
   ]
  },
  {
   "cell_type": "markdown",
   "metadata": {},
   "source": [
    "**Controlling for range of returns**"
   ]
  },
  {
   "cell_type": "code",
   "execution_count": null,
   "metadata": {},
   "outputs": [],
   "source": [
    "print('Maximum return obtained in a single trade, per pair')\n",
    "for i in range(len(profitable_pairs)):\n",
    "    print(performance_kalman_test[i][1]['position_return_(%)'].max())"
   ]
  },
  {
   "cell_type": "code",
   "execution_count": null,
   "metadata": {},
   "outputs": [],
   "source": [
    "print('Worst return obtained in a single trade, per pair')\n",
    "for i in range(len(profitable_pairs)):\n",
    "    print(performance_kalman_test[i][1]['position_return_(%)'].min())"
   ]
  },
  {
   "cell_type": "markdown",
   "metadata": {},
   "source": [
    "Tanto as returns máximas como as mínimas parecem ter valores dentro da normalidade."
   ]
  },
  {
   "cell_type": "markdown",
   "metadata": {},
   "source": [
    "## Training vs Validation"
   ]
  },
  {
   "cell_type": "markdown",
   "metadata": {},
   "source": [
    "For a far comparison, we should compare the test resuls with the results obtained in the training set, but also using only the profitable pairs:"
   ]
  },
  {
   "cell_type": "code",
   "execution_count": null,
   "metadata": {},
   "outputs": [],
   "source": [
    "entry_multiplier= config['trading']['entry_multiplier']\n",
    "exit_multiplier= config['trading']['exit_multiplier']\n",
    "sharpe_results_kalman, cum_returns_kalman, performance_kalman = trader.apply_kalman_strategy(profitable_pairs, \n",
    "                                                                                             entry_multiplier,\n",
    "                                                                                             exit_multiplier,\n",
    "                                                                                             trading_filter,\n",
    "                                                                                             test_mode=False)\n",
    "avg_sharpe_kalman, total_roi_kalman, anual_roi_kalman, positive_pct_kalman = \\\n",
    "    trader.calculate_metrics(sharpe_results_kalman, cum_returns_kalman, n_years_train)"
   ]
  },
  {
   "cell_type": "code",
   "execution_count": null,
   "metadata": {},
   "outputs": [],
   "source": [
    "print('The sharpe ratio obtained in the training set with the pairs used on the test set is ', avg_sharpe_kalman)\n",
    "print('The sharpe ratio obtained in the test set is ', avg_sharpe_kalman_test)"
   ]
  },
  {
   "cell_type": "markdown",
   "metadata": {},
   "source": [
    "As expected, the sharpe ratio is indeed higher in the training set."
   ]
  },
  {
   "cell_type": "code",
   "execution_count": null,
   "metadata": {},
   "outputs": [],
   "source": [
    "len(pairs)"
   ]
  },
  {
   "cell_type": "code",
   "execution_count": null,
   "metadata": {},
   "outputs": [],
   "source": [
    "len(profitable_pairs)"
   ]
  },
  {
   "cell_type": "markdown",
   "metadata": {},
   "source": [
    "## Analyzing Pairs' Overlap"
   ]
  },
  {
   "cell_type": "markdown",
   "metadata": {},
   "source": [
    "There could be two possible interpretations for pairs' overlap.\n",
    "1. We might be interested in checking which of the cointegrated pairs found in the training dataset are also cointegrated in the test set; Furthermore we want to explore how the two types of pairs perform.\n",
    "2. We might be interested in finding if the pairs that would have been found in the test set by performing PCA + clustering would be cointegrated in the training set."
   ]
  },
  {
   "cell_type": "markdown",
   "metadata": {},
   "source": [
    "Starting with **1)**, let's see how many of the identified pairs actually turned out to be cointegrated during this period."
   ]
  },
  {
   "cell_type": "code",
   "execution_count": null,
   "metadata": {},
   "outputs": [],
   "source": [
    "pairs_overlapped, pairs_overlapped_index = series_analyser.pairs_overlap(pairs,\n",
    "                                  config['pair_restrictions']['p_value_threshold'],\n",
    "                                  config['pair_restrictions']['min_zero_crossings'],\n",
    "                                  config['pair_restrictions']['min_half_life'],\n",
    "                                  config['pair_restrictions']['hurst_threshold'])\n",
    "print('{} of the {} pairs identified in the training set are also cointegrated in the test set'.format(\\\n",
    "    len(pairs_overlapped), len(pairs)))"
   ]
  },
  {
   "cell_type": "code",
   "execution_count": null,
   "metadata": {},
   "outputs": [],
   "source": [
    "profitable_pairs_overlapped, profitable_pairs_overlapped_index = series_analyser.pairs_overlap(profitable_pairs,\n",
    "                                  config['pair_restrictions']['p_value_threshold'],\n",
    "                                  config['pair_restrictions']['min_zero_crossings'],\n",
    "                                  config['pair_restrictions']['min_half_life'],\n",
    "                                  config['pair_restrictions']['hurst_threshold'])\n",
    "print('{} of the {} pairs with positive returns identified in the training set are also cointegrated in the test set'.format(\\\n",
    "    len(profitable_pairs_overlapped), len(profitable_pairs)))"
   ]
  },
  {
   "cell_type": "markdown",
   "metadata": {},
   "source": [
    "### Is cointegration really important?\n",
    "\n",
    "To answer this question we will see how many of the still cointegrated pairs had positive and negative returns. We will then do the same for those pairs that were not cointegrated. \n",
    "\n",
    "If both are as likely to have positive and negative returns, then it means cointegration is not as important of a condition. On the other hand, if we verify that all pairs that are still cointegrated turned out to be profitable and those that are not anymore led to consistent negative returns, we can infer that cointegration is a very important predictor of future returns.\n",
    "\n",
    "We also compare the average performance of the two groups two see the relevance of being cointegrated with respect to the sharpe ratio obtained."
   ]
  },
  {
   "cell_type": "markdown",
   "metadata": {},
   "source": [
    "*Still cointegrated*"
   ]
  },
  {
   "cell_type": "code",
   "execution_count": null,
   "metadata": {},
   "outputs": [],
   "source": [
    "# distribution for pairs which were cointegrated in train and test\n",
    "sharpe_results_pairs_overlapped = np.asarray([sharpe_results_kalman_test[index] for index \\\n",
    "                                              in profitable_pairs_overlapped_index])\n",
    "cum_returns_pairs_overlapped = np.asarray([cum_returns_kalman_test[index] for index \\\n",
    "                                              in profitable_pairs_overlapped_index])\n",
    "\n",
    "if len(sharpe_results_pairs_overlapped)>0:\n",
    "    _,_,_,_ = trader.calculate_metrics(sharpe_results_pairs_overlapped, cum_returns_pairs_overlapped,\n",
    "                                   n_years_test)\n",
    "else:\n",
    "    print('0% of the pairs cointegrated in the train are also cointegrated in the test set')"
   ]
  },
  {
   "cell_type": "markdown",
   "metadata": {},
   "source": [
    "*Not cointegrated anymore*"
   ]
  },
  {
   "cell_type": "code",
   "execution_count": null,
   "metadata": {},
   "outputs": [],
   "source": [
    "# distribution for pairs which were cointegrated in train but not in test\n",
    "profitable_pairs_not_overlapped_index = [i for i in np.arange(0,len(profitable_pairs))\\\n",
    "                                         if i not in profitable_pairs_overlapped_index]\n",
    "\n",
    "sharpe_results_pairs_not_overlapped = np.asarray([sharpe_results_kalman_test[index] for index \\\n",
    "                                              in profitable_pairs_not_overlapped_index])\n",
    "\n",
    "cum_returns_pairs_not_overlapped = np.asarray([cum_returns_kalman_test[index] for index \\\n",
    "                                              in profitable_pairs_not_overlapped_index])\n",
    "\n",
    "_,_,_,_ = trader.calculate_metrics(sharpe_results_pairs_not_overlapped, cum_returns_pairs_not_overlapped,\n",
    "                                   n_years_test)"
   ]
  },
  {
   "cell_type": "markdown",
   "metadata": {},
   "source": [
    "Answering to the first question we were concerned with, we verify that a cointegrated pair is indeed more likely to have a positive return. Furthermore, we can conclude from the results that being cointegrated implied that those pairs generated higher returns. \n",
    "\n",
    "**TO REVIEW:Conclusion**: The fact that a pair is not cointegrated anymore does not impact the results obained. In fact, we just concluded that betting solely on the cointegrated pairs would yield a worse result. Therefore, we should not spend much effort in detecting pairs that are no cointegrated anymore."
   ]
  },
  {
   "cell_type": "markdown",
   "metadata": {},
   "source": [
    "Following with point number **2)**, we proceed to analyze the performance of the pairs that woud have been identified in the testing period."
   ]
  },
  {
   "cell_type": "code",
   "execution_count": null,
   "metadata": {},
   "outputs": [],
   "source": [
    "initial_test_date = config['dataset']['testing_initial_date']\n",
    "final_teste_date = config['dataset']['testing_final_date']\n",
    "\n",
    "# Get returns for test period\n",
    "df_returns_test = data_processor.get_return_series(df_prices_test)\n",
    "\n",
    "# APPLY PCA and CLUSTERING\n",
    "range_n_components = config['PCA']['N_COMPONENTS']\n",
    "X_test, clustered_series_all_test, clustered_series_test, counts_test, clf_test = \\\n",
    "            series_analyser.clustering_for_optimal_PCA(range_n_components[0], range_n_components[1],\n",
    "                                                       df_returns_test, config['clustering'])\n",
    "# Find pairs\n",
    "pairs_test, unique_tickers_test = series_analyser.get_candidate_pairs(\\\n",
    "                                            clustered_series=clustered_series_test,\n",
    "                                            pricing_df_train=df_prices_test,\n",
    "                                            pricing_df_test=df_prices_train,\n",
    "                                            min_half_life=config['pair_restrictions']['min_half_life'],\n",
    "                                            min_zero_crosings=config['pair_restrictions']['min_zero_crossings'],\n",
    "                                            p_value_threshold=config['pair_restrictions']['p_value_threshold'],\n",
    "                                            hurst_threshold=config['pair_restrictions']['hurst_threshold']\n",
    "                                            )\n",
    "\n",
    "# Finally, see overlap\n",
    "pairs_overlapped, pairs_overlapped_index = series_analyser.pairs_overlap(pairs_test,\n",
    "                                  config['pair_restrictions']['p_value_threshold'],\n",
    "                                  config['pair_restrictions']['min_zero_crossings'],\n",
    "                                  config['pair_restrictions']['min_half_life'],\n",
    "                                  config['pair_restrictions']['hurst_threshold'])\n",
    "print('{} of the {} pairs identified in the test set are also cointegrated in the training set'.format(\\\n",
    "    len(pairs_overlapped), len(pairs_test)))"
   ]
  },
  {
   "cell_type": "markdown",
   "metadata": {},
   "source": [
    "Let's see if the pairs identified in the test period lead indeed to improved results:"
   ]
  },
  {
   "cell_type": "code",
   "execution_count": null,
   "metadata": {
    "scrolled": true
   },
   "outputs": [],
   "source": [
    "sharpe_results_kalman_test_newpairs, cum_returns_kalman_test_newpairs, performance_kalman_test_newpairs =\\\n",
    "    trader.apply_kalman_strategy(pairs_test, entry_multiplier,exit_multiplier,trading_filter, test_mode=False)\n",
    "\n",
    "_,_,_,_ = trader.calculate_metrics(sharpe_results_kalman_test_newpairs, cum_returns_kalman_test_newpairs,\n",
    "                                   n_years_test)"
   ]
  },
  {
   "cell_type": "markdown",
   "metadata": {},
   "source": [
    "The sharpe ratio is higher in this scenatio. Note hoewever, that the annual ROI is not so high as the pairs identified previously. This might be linked with the fact that these pairs did not prove to be cointegrated for a period as long as the other and therefore the pairs might be less stable."
   ]
  },
  {
   "cell_type": "markdown",
   "metadata": {},
   "source": [
    "## Analyzing the influence of pairs statistics\n",
    "\n",
    "It's interesting to analyze whether we could have used extra information from the pairs trading statistic, instead of considering it just as a pass or not pass test. `Law 2017` explore this concept on their paper (htey basically rank pairs according to a trade off between t-statistic and spread deviation from its mean). However, what we see below is that there is no obvious influence of any parameter in the performance of the corresponding pair."
   ]
  },
  {
   "cell_type": "code",
   "execution_count": null,
   "metadata": {},
   "outputs": [],
   "source": [
    "pairs_summary.corr()[['sharpe_result', 'positive_trades_per_pair_pct']].loc[['t_statistic', 'p_value',\n",
    "                                                                             'zero_cross', 'half_life',\n",
    "                                                                             'hurst_exponent']]"
   ]
  },
  {
   "cell_type": "markdown",
   "metadata": {},
   "source": [
    "### The Correlation Filter\n",
    "\n",
    "The correlation filter aims to track how the correlation between the two legs of tha pair is varing, and provide that information as input to the trading strategy."
   ]
  },
  {
   "cell_type": "code",
   "execution_count": null,
   "metadata": {},
   "outputs": [],
   "source": [
    "example_pair = failed_pairs[2]\n",
    "\n",
    "example_pair_leg1 = example_pair[0][0]\n",
    "example_pair_leg2 = example_pair[0][1]\n",
    "\n",
    "example_pair_prices = etfs_pricing[[example_pair_leg1, example_pair_leg2]]\n",
    "example_pair_prices.plot(figsize=(15,5))\n",
    "\n",
    "\n",
    "# proceed to calculate correlation\n",
    "rolling_window = config['trading']['lookback_multiplier']*example_pair[0][2]['half_life']\n",
    "\n",
    "# get returns\n",
    "example_pair_returns = data_processor.get_return_series(example_pair_prices)\n",
    "\n",
    "# analyze correlation on returns\n",
    "example_correlation = example_pair_returns[example_pair_leg1].rolling(rolling_window).corr(example_pair_returns[example_pair_leg2])\n",
    "\n",
    "# plot correlation of returns\n",
    "diff_example_correlation = example_correlation.diff(periods=1)\n",
    "#diff_example_correlation = diff_example_correlation*10\n",
    "diff_example_correlation.plot()"
   ]
  },
  {
   "cell_type": "markdown",
   "metadata": {},
   "source": [
    "This result indicates there's almost no correlation between correlation diff and returns... Let's see how this result varies on average:"
   ]
  },
  {
   "cell_type": "code",
   "execution_count": null,
   "metadata": {},
   "outputs": [],
   "source": [
    "failure_correlations = []\n",
    "for failure in failed_pairs:\n",
    "    failure_df = failure[1][failure[1].units != 0]\n",
    "    correlation = failure_df['ret'].corr(failure_df['correlation'])\n",
    "    failure_correlations.append(correlation)\n",
    "    \n",
    "print(np.mean(failure_correlations))"
   ]
  },
  {
   "cell_type": "markdown",
   "metadata": {},
   "source": [
    "However, we are not realyy interested in the correlation of the the diff column, but rather on the correlation with its sign."
   ]
  },
  {
   "cell_type": "code",
   "execution_count": null,
   "metadata": {},
   "outputs": [],
   "source": [
    "failure_correlations = []\n",
    "for failure in failed_pairs:\n",
    "    failure_df = failure[1][failure[1].units != 0]\n",
    "    failure_df['diff_correlation_sign']=failure_df['diff_correlation'].apply(lambda row: -1 if row<0 else 1)\n",
    "    correlation = failure_df['ret'].corr(failure_df['diff_correlation_sign'])\n",
    "    failure_correlations.append(correlation)\n",
    "    \n",
    "print(np.mean(failure_correlations))"
   ]
  },
  {
   "cell_type": "markdown",
   "metadata": {},
   "source": [
    "We could use mutual information rather than correlation as the sign is discrete. What about the relation with the zscore evolution?"
   ]
  },
  {
   "cell_type": "markdown",
   "metadata": {},
   "source": [
    "### Analyze non-profitable pairs"
   ]
  },
  {
   "cell_type": "code",
   "execution_count": null,
   "metadata": {},
   "outputs": [],
   "source": [
    "sharpe_results_kalman_test = np.asarray(sharpe_results_kalman_test)\n",
    "negative_pairs_indices = np.argwhere(sharpe_results_kalman_test < 0)\n",
    "print('{} out of {} pairs turned out to be non-profitable'.format(len(negative_pairs_indices), len(pairs)))"
   ]
  },
  {
   "cell_type": "markdown",
   "metadata": {},
   "source": [
    "Let's get some more information on the non-profitable pairs:"
   ]
  },
  {
   "cell_type": "code",
   "execution_count": null,
   "metadata": {},
   "outputs": [],
   "source": [
    "negative_pairs = [pairs[i] for i in negative_pairs_indices.flatten()]\n",
    "negative_pairs = [(item[0], item[1]) for item in negative_pairs]\n",
    "negative_pairs"
   ]
  },
  {
   "cell_type": "markdown",
   "metadata": {},
   "source": [
    "To what clusters do these pairs belong?"
   ]
  },
  {
   "cell_type": "code",
   "execution_count": null,
   "metadata": {},
   "outputs": [],
   "source": [
    "for label_n in range(len(counts)):\n",
    "    elements_cluster_n = list(clustered_series[clustered_series == label_n].index)\n",
    "    etfs_cluster_n = etfs_unique[etfs_unique['Ticker'].isin(elements_cluster_n)]\n",
    "    for pair in negative_pairs:\n",
    "        if pair[0] in list(etfs_cluster_n.Ticker):\n",
    "            print('Pair {} belongs to cluster {}'.format(pair, label_n))"
   ]
  },
  {
   "cell_type": "markdown",
   "metadata": {},
   "source": [
    "How do the statistics rank?"
   ]
  },
  {
   "cell_type": "code",
   "execution_count": null,
   "metadata": {},
   "outputs": [],
   "source": [
    "sorted_indices = np.flip(np.argsort(sharpe_results_bollinger), axis=0)\n",
    "\n",
    "# initialize list of lists \n",
    "data = []\n",
    "for index in sorted_indices:\n",
    "    # get number of positive and negative positions\n",
    "    position_returns = performance_bollinger[index][1].position_return\n",
    "    positive_positions = len(position_returns[position_returns>0])\n",
    "    negative_positions = len(position_returns[position_returns<0])\n",
    "    data.append([pairs[index][0],\n",
    "                 pairs[index][1],\n",
    "                 pairs[index][2]['t_statistic'],\n",
    "                 pairs[index][2]['p_value'],\n",
    "                 pairs[index][2]['zero_cross'],\n",
    "                 pairs[index][2]['half_life'],\n",
    "                 pairs[index][2]['hurst_exponent'],\n",
    "                 positive_positions,\n",
    "                 negative_positions,\n",
    "                 sharpe_results_bollinger[index]\n",
    "                ])\n",
    "      \n",
    "# Create the pandas DataFrame \n",
    "df = pd.DataFrame(data, columns = ['Leg1', 'Leg2', 't_statistic', 'p_value', 'zero_cross',\n",
    "                                   'half_life', 'hurst_exponent', 'positive trades', 'negative_trades',\n",
    "                                   'sharpe_result']) \n",
    "df"
   ]
  },
  {
   "cell_type": "code",
   "execution_count": null,
   "metadata": {},
   "outputs": [],
   "source": [
    "df.half_life.mean()"
   ]
  },
  {
   "cell_type": "code",
   "execution_count": null,
   "metadata": {},
   "outputs": [],
   "source": [
    "# analyze correlations\n",
    "print('Half-life vs Sharpe Ratio correlation: ', df['sharpe_result'].corr(df['half_life']))\n",
    "print('Zero crossings vs Sharpe Ratio correlation: ', df['sharpe_result'].corr(df['zero_cross']))\n",
    "print('p-value vs Sharpe Ratio correlation: ', df['sharpe_result'].corr(df['p_value']))\n",
    "print('t-statistic vs Sharpe Ratio correlation: ', df['sharpe_result'].corr(df['t_statistic']))\n",
    "print('Hurst exponent vs Sharpe Ratio correlation ', df['sharpe_result'].corr(df['hurst_exponent']))"
   ]
  },
  {
   "cell_type": "markdown",
   "metadata": {},
   "source": [
    "Are there any signs these pairs were not profitable as the strategy evolves? Could we have predicted their lack of profitability?\n",
    "- Using a ML algorithm that recognizes when a pair is not profitable anymore.\n",
    "- Checking how the hurst exponent has been changing.\n",
    "- Analyze their previous positions' returns"
   ]
  }
 ],
 "metadata": {
  "kernelspec": {
   "display_name": "Python [conda root]",
   "language": "python",
   "name": "conda-root-py"
  },
  "language_info": {
   "codemirror_mode": {
    "name": "ipython",
    "version": 3
   },
   "file_extension": ".py",
   "mimetype": "text/x-python",
   "name": "python",
   "nbconvert_exporter": "python",
   "pygments_lexer": "ipython3",
   "version": "3.6.0"
  }
 },
 "nbformat": 4,
 "nbformat_minor": 2
}
