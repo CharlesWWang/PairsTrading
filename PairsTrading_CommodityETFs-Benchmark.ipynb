{
 "cells": [
  {
   "cell_type": "markdown",
   "metadata": {},
   "source": [
    "# A benchmark Pairs Trading strategy \n",
    "\n",
    "This notebook explores a pairs trading strategy using bollinger bands. This projected is being developed as part of a master thesis for the degree of Electrical and Computer Engineering.\n",
    "\n",
    "**Author:** Simão Moraes Sarmento <br /> \n",
    "**Contact:** simaosarmento@hotmail.com"
   ]
  },
  {
   "cell_type": "markdown",
   "metadata": {},
   "source": [
    "## Dependencies\n",
    "\n",
    "This notebook requires code from:\n",
    "\n",
    "Python files:\n",
    "- `class_SeriesAnalyser.py` - contains a set of functions to deal with time series analysis.\n",
    "- `class_Trader.py` - contains a set of functions concerning trading strategies.\n",
    "- `class_DataProcessor.py` - contains a set of functions concerning the data pre processing.\n",
    "\n",
    "Pickle files:\n",
    "- pickle file containing pairs to be traded (obtained from running `PairsTrading_CommodityETFs-Clustering.ipynb`)\n",
    "\n",
    "As a good practise, the notebook solely intends to exemplify the application of different trading strategies for different dataset examples, rather than coding the strategies theirselves. Please look into the files menitoned above for more detailed info on how the functions are built."
   ]
  },
  {
   "cell_type": "markdown",
   "metadata": {},
   "source": [
    "### Import Libraries"
   ]
  },
  {
   "cell_type": "code",
   "execution_count": 1,
   "metadata": {},
   "outputs": [],
   "source": [
    "import numpy as np\n",
    "import pandas as pd\n",
    "import pickle\n",
    "\n",
    "import json\n",
    "\n",
    "import statsmodels\n",
    "import statsmodels.api as sm\n",
    "from statsmodels.tsa.stattools import coint, adfuller\n",
    "\n",
    "import matplotlib.pyplot as plt\n",
    "import matplotlib.cm as cm\n",
    "\n",
    "# Import Datetime and the Pandas DataReader\n",
    "from datetime import datetime\n",
    "from pandas_datareader import data, wb\n",
    "\n",
    "# Import alpha vantage\n",
    "from alpha_vantage.timeseries import TimeSeries\n",
    "\n",
    "# Import scikit instruments\n",
    "from sklearn.cluster import DBSCAN\n",
    "from sklearn.decomposition import PCA\n",
    "from sklearn.manifold import TSNE\n",
    "from sklearn import preprocessing\n",
    "from sklearn.metrics import silhouette_score\n",
    "\n",
    "# just set the seed for the random number generator\n",
    "np.random.seed(107)"
   ]
  },
  {
   "cell_type": "markdown",
   "metadata": {},
   "source": [
    "### Import Configurations"
   ]
  },
  {
   "cell_type": "code",
   "execution_count": 2,
   "metadata": {},
   "outputs": [],
   "source": [
    "config_file = 'config/config_commodities_2010_2019.json'"
   ]
  },
  {
   "cell_type": "code",
   "execution_count": 3,
   "metadata": {},
   "outputs": [],
   "source": [
    "with open(config_file, 'r') as f:\n",
    "    config = json.load(f)"
   ]
  },
  {
   "cell_type": "code",
   "execution_count": 4,
   "metadata": {},
   "outputs": [],
   "source": [
    "with open(config['dataset']['ticker_segment_dict'], 'rb') as handle:\n",
    "    ticker_segment_dict = pickle.load(handle)"
   ]
  },
  {
   "cell_type": "markdown",
   "metadata": {},
   "source": [
    "### Import Classes"
   ]
  },
  {
   "cell_type": "code",
   "execution_count": 5,
   "metadata": {},
   "outputs": [],
   "source": [
    "%load_ext autoreload\n",
    "%aimport class_SeriesAnalyser, class_Trader, class_DataProcessor\n",
    "%autoreload 1"
   ]
  },
  {
   "cell_type": "code",
   "execution_count": 6,
   "metadata": {},
   "outputs": [],
   "source": [
    "series_analyser = class_SeriesAnalyser.SeriesAnalyser()\n",
    "trader = class_Trader.Trader()\n",
    "data_processor = class_DataProcessor.DataProcessor()"
   ]
  },
  {
   "cell_type": "markdown",
   "metadata": {},
   "source": [
    "# Retrieve prices data set"
   ]
  },
  {
   "cell_type": "markdown",
   "metadata": {},
   "source": [
    "We start by retrieving the data from a Dataframe saved in a pickle file, as it was previously processed in the `PairsTrading_CommodityETFS_Datapreprocessing.ipynb` notebook."
   ]
  },
  {
   "cell_type": "code",
   "execution_count": 9,
   "metadata": {},
   "outputs": [],
   "source": [
    "# intraday\n",
    "df_prices = pd.read_pickle('data/etfs/pickle/commodity_ETFs_intraday_interpolated_screened_no_outliers.pickle')\n",
    "\n",
    "# inter day\n",
    "#df_prices = pd.read_pickle('data/etfs/pickle/commodity_ETFs_interpolated_screened')"
   ]
  },
  {
   "cell_type": "code",
   "execution_count": 10,
   "metadata": {},
   "outputs": [
    {
     "name": "stdout",
     "output_type": "stream",
     "text": [
      "Total of 59 tickers\n",
      "Total of 58 tickers after removing tickers with Nan values\n"
     ]
    }
   ],
   "source": [
    "# split data in training and test\n",
    "df_prices_train, df_prices_test = data_processor.split_data(df_prices,\n",
    "                                                            ('01-01-2009',\n",
    "                                                             '31-12-2017'),\n",
    "                                                            ('01-01-2018',\n",
    "                                                             '31-12-2018'),\n",
    "                                                            remove_nan=True)"
   ]
  },
  {
   "cell_type": "code",
   "execution_count": 11,
   "metadata": {},
   "outputs": [
    {
     "data": {
      "text/plain": [
       "195414"
      ]
     },
     "execution_count": 11,
     "metadata": {},
     "output_type": "execute_result"
    }
   ],
   "source": [
    "len(df_prices_train)+len(df_prices_test)"
   ]
  },
  {
   "cell_type": "markdown",
   "metadata": {},
   "source": [
    "# Load Pairs"
   ]
  },
  {
   "cell_type": "code",
   "execution_count": 58,
   "metadata": {},
   "outputs": [],
   "source": [
    "# intra day\n",
    "#with open('data/etfs/pickle/pairs_unfiltered_intraday.pickle', 'rb') as handle:\n",
    "#    pairs = pickle.load(handle)\n",
    "\n",
    "#with open('data/etfs/pickle/pairs_category_intraday.pickle', 'rb') as handle:\n",
    "#    pairs = pickle.load(handle)\n",
    "\n",
    "with open('data/etfs/pickle/pairs_unsupervised_learning_intraday.pickle', 'rb') as handle:\n",
    "    pairs = pickle.load(handle)\n",
    "    \n",
    "# interday  \n",
    "#with open('data/etfs/pickle/pairs_unfiltered_interday.pickle', 'rb') as handle:\n",
    "#    pairs = pickle.load(handle)\n",
    "\n",
    "#with open('data/etfs/pickle/pairs_category_interday.pickle', 'rb') as handle:\n",
    "#    pairs = pickle.load(handle)\n",
    "\n",
    "#with open('data/etfs/pickle/pairs_unsupervised_learning_interday.pickle', 'rb') as handle:\n",
    "#    pairs = pickle.load(handle)"
   ]
  },
  {
   "cell_type": "code",
   "execution_count": 59,
   "metadata": {},
   "outputs": [],
   "source": [
    "lookback_multiplier= config['trading']['lookback_multiplier']\n",
    "entry_multiplier= config['trading']['entry_multiplier']\n",
    "exit_multiplier= config['trading']['exit_multiplier']\n",
    "# obtain trading filter info\n",
    "if config['trading_filter']['active'] == 1:\n",
    "    trading_filter = config['trading_filter']\n",
    "else:\n",
    "    trading_filter = None"
   ]
  },
  {
   "cell_type": "code",
   "execution_count": 60,
   "metadata": {},
   "outputs": [
    {
     "data": {
      "text/plain": [
       "9"
      ]
     },
     "execution_count": 60,
     "metadata": {},
     "output_type": "execute_result"
    }
   ],
   "source": [
    "# intraday\n",
    "n_years_train = round(len(df_prices_train)/(240*78))\n",
    "\n",
    "# interday\n",
    "#n_years_train = round(len(df_prices_train)/(240))\n",
    "\n",
    "n_years_train"
   ]
  },
  {
   "cell_type": "markdown",
   "metadata": {},
   "source": [
    "# Apply trading strategies"
   ]
  },
  {
   "cell_type": "markdown",
   "metadata": {},
   "source": [
    "**Applying the Kalman filter based strategy**"
   ]
  },
  {
   "cell_type": "code",
   "execution_count": 477,
   "metadata": {},
   "outputs": [
    {
     "name": "stdout",
     "output_type": "stream",
     "text": [
      "Pair: 1/9\n",
      "Pair: 2/9\n",
      "Pair: 3/9\n",
      "Pair: 4/9\n",
      "Pair: 5/9\n",
      "Pair: 6/9\n",
      "Pair: 7/9\n",
      "Pair: 8/9\n",
      "Pair: 9/9\n"
     ]
    }
   ],
   "source": [
    "entry_multiplier= config['trading']['entry_multiplier']\n",
    "exit_multiplier= config['trading']['exit_multiplier']\n",
    "train_results_without_costs, train_results_with_costs, performance_kalman = trader.apply_kalman_strategy(pairs, \n",
    "                                                                                             2,#entry_multiplier,\n",
    "                                                                                             0.5,#exit_multiplier,\n",
    "                                                                                             trading_filter,\n",
    "                                                                                             test_mode=False,\n",
    "                                                                                             rebalance=False)"
   ]
  },
  {
   "cell_type": "code",
   "execution_count": 479,
   "metadata": {},
   "outputs": [],
   "source": [
    "sharpe_results_kalman_nocosts, cum_returns_kalman_nocosts = train_results_without_costs\n",
    "sharpe_results_kalman_w_costs, cum_returns_kalman_w_costs = train_results_with_costs"
   ]
  },
  {
   "cell_type": "code",
   "execution_count": 480,
   "metadata": {},
   "outputs": [
    {
     "name": "stdout",
     "output_type": "stream",
     "text": [
      "Average result:  7.314264668199777\n",
      "avg_annual_roi:  390.2453028341177\n",
      "77.77777777777777 % of the pairs had positive returns\n"
     ]
    }
   ],
   "source": [
    "avg_sharpe_kalman, total_roi_kalman, anual_roi_kalman, positive_pct_kalman = \\\n",
    "    trader.calculate_metrics(sharpe_results_kalman_nocosts, cum_returns_kalman_nocosts, n_years_train)"
   ]
  },
  {
   "cell_type": "code",
   "execution_count": 481,
   "metadata": {},
   "outputs": [
    {
     "name": "stdout",
     "output_type": "stream",
     "text": [
      "Average result:  7.314264668199777\n",
      "avg_annual_roi:  -8.14097371747734\n",
      "11.11111111111111 % of the pairs had positive returns\n"
     ]
    }
   ],
   "source": [
    "# WARNING: MUST CHANGE SHARPE RATIO\n",
    "sharpe_results_kalman_w_costs = sharpe_results_kalman_nocosts\n",
    "avg_sharpe_kalman, total_roi_kalman, anual_roi_kalman, positive_pct_kalman = \\\n",
    "    trader.calculate_metrics(sharpe_results_kalman_w_costs, cum_returns_kalman_w_costs, n_years_train)"
   ]
  },
  {
   "cell_type": "code",
   "execution_count": 482,
   "metadata": {},
   "outputs": [
    {
     "name": "stdout",
     "output_type": "stream",
     "text": [
      "Sharpe Ratio Distribution: \n"
     ]
    },
    {
     "data": {
      "image/png": "[encoded data removed]",
      "text/plain": [
       "<matplotlib.figure.Figure at 0x10cf9fd30>"
      ]
     },
     "metadata": {},
     "output_type": "display_data"
    }
   ],
   "source": [
    "print('Sharpe Ratio Distribution: ')\n",
    "n, bins, patches = plt.hist(sharpe_results_kalman_nocosts, bins = 16, normed=True, orientation='vertical',\n",
    "                            color='red', rwidth=0.9, align='mid')"
   ]
  },
  {
   "cell_type": "code",
   "execution_count": 483,
   "metadata": {},
   "outputs": [
    {
     "name": "stdout",
     "output_type": "stream",
     "text": [
      "Average result:  7.314264668199777\n",
      "avg_annual_roi:  390.2453028341177\n",
      "77.77777777777777 % of the pairs had positive returns\n"
     ]
    }
   ],
   "source": [
    "results_training, pairs_summary_training = trader.summarize_results(sharpe_results_kalman_nocosts,\n",
    "                                                                    cum_returns_kalman_nocosts,\n",
    "                                                                    performance_kalman,\n",
    "                                                                    pairs,\n",
    "                                                                    ticker_segment_dict, n_years_train)"
   ]
  },
  {
   "cell_type": "markdown",
   "metadata": {},
   "source": [
    "# Out of Sample Analysis\n",
    "\n",
    "In this section, we analyze the performance of the strategy in the validation dataset. \n",
    "\n",
    "We proceed with some data exploration analysis. For this purpose we will do the following:\n",
    "\n",
    "- Analyze which percentage of the identified pairs are still cointegrated in the validation period.\n",
    "- Analyze which percentage of pairs have positive returns, and how many of those are still cointegrated.\n",
    "- Analyze how many new pais were not identified to be cointegrated up to the validation period.\n",
    "- Run strategy for identified pairs in training period.\n",
    "\n",
    "This analysis will help us getting some insight into how the cointegrated pairs vary from time to time, and therefore how we should allocate our resources to predict when pairs are not cointegrated anymore."
   ]
  },
  {
   "cell_type": "markdown",
   "metadata": {},
   "source": [
    "## Applying the Strategy out-of Sample\n",
    "\n",
    "We might want to apply the strategy in all pairs identified. Or, instead, we might prefer to apply the strategy only on those pairs that turned out to be profitable. Let's compare how both approaches work:"
   ]
  },
  {
   "cell_type": "code",
   "execution_count": 15,
   "metadata": {},
   "outputs": [
    {
     "data": {
      "text/plain": [
       "1"
      ]
     },
     "execution_count": 15,
     "metadata": {},
     "output_type": "execute_result"
    }
   ],
   "source": [
    "# intraday\n",
    "n_years_test = round(len(df_prices_test)/(240*78))\n",
    "\n",
    "# interday\n",
    "#n_years_test = round(len(df_prices_test)/(240))\n",
    "\n",
    "n_years_test"
   ]
  },
  {
   "cell_type": "markdown",
   "metadata": {},
   "source": [
    "### Approach 1: Keeping every pair"
   ]
  },
  {
   "cell_type": "markdown",
   "metadata": {},
   "source": [
    "**Kalman Out-of-Sample**"
   ]
  },
  {
   "cell_type": "code",
   "execution_count": 485,
   "metadata": {},
   "outputs": [
    {
     "name": "stdout",
     "output_type": "stream",
     "text": [
      "Pair: 1/9\n",
      "Pair: 2/9\n",
      "Pair: 3/9\n",
      "Pair: 4/9\n",
      "Pair: 5/9\n",
      "Pair: 6/9\n",
      "Pair: 7/9\n",
      "Pair: 8/9\n",
      "Pair: 9/9\n"
     ]
    }
   ],
   "source": [
    "results_without_costs, results_with_costs, performance_kalman_test = trader.apply_kalman_strategy(pairs, \n",
    "                                                                                             2,\n",
    "                                                                                             0.5,\n",
    "                                                                                             trading_filter,\n",
    "                                                                                             test_mode=True,\n",
    "                                                                                             rebalance=False)\n",
    "sharpe_results_kalman_test_nocosts, cum_returns_kalman_test_nocosts = results_without_costs\n",
    "sharpe_results_kalman_test_w_costs, cum_returns_kalman_test_w_costs = results_with_costs"
   ]
  },
  {
   "cell_type": "code",
   "execution_count": 486,
   "metadata": {},
   "outputs": [
    {
     "name": "stdout",
     "output_type": "stream",
     "text": [
      "Average result:  1.932263268199885\n",
      "avg_annual_roi:  21.231109260702176\n",
      "66.66666666666667 % of the pairs had positive returns\n"
     ]
    }
   ],
   "source": [
    "avg_sharpe_kalman_test, total_roi_kalman_test, anual_roi_kalman_test, positive_pct_kalman_test = \\\n",
    "    trader.calculate_metrics(sharpe_results_kalman_test_nocosts, cum_returns_kalman_test_nocosts, n_years_test)"
   ]
  },
  {
   "cell_type": "code",
   "execution_count": 487,
   "metadata": {},
   "outputs": [
    {
     "name": "stdout",
     "output_type": "stream",
     "text": [
      "Average result:  -6.476940734859351\n",
      "avg_annual_roi:  -23.268793620245486\n",
      "11.11111111111111 % of the pairs had positive returns\n"
     ]
    }
   ],
   "source": [
    "avg_sharpe_kalman_test, total_roi_kalman_test, anual_roi_kalman_test, positive_pct_kalman_test = \\\n",
    "    trader.calculate_metrics(sharpe_results_kalman_test_w_costs, cum_returns_kalman_test_w_costs, n_years_test)"
   ]
  },
  {
   "cell_type": "code",
   "execution_count": 488,
   "metadata": {},
   "outputs": [
    {
     "data": {
      "text/plain": [
       "[-8.876730581696949,\n",
       " -3.461909087854056,\n",
       " -6.925796411763242,\n",
       " -3.2027395472261966,\n",
       " 0.6289297300014426,\n",
       " 0,\n",
       " 0,\n",
       " -36.45422071519517,\n",
       " 0]"
      ]
     },
     "execution_count": 488,
     "metadata": {},
     "output_type": "execute_result"
    }
   ],
   "source": [
    "sharpe_results_kalman_test_w_costs"
   ]
  },
  {
   "cell_type": "markdown",
   "metadata": {},
   "source": [
    "**Basic Threshold Strategy**"
   ]
  },
  {
   "cell_type": "code",
   "execution_count": 61,
   "metadata": {},
   "outputs": [
    {
     "name": "stdout",
     "output_type": "stream",
     "text": [
      "Pair: 1/6\n",
      "Pair: 2/6\n",
      "Pair: 3/6\n",
      "Pair: 4/6\n",
      "Pair: 5/6\n",
      "Pair: 6/6\n"
     ]
    }
   ],
   "source": [
    "results_without_costs, results_with_costs, performance_threshold_test = trader.apply_threshold_strategy(pairs, \n",
    "                                                                                             2,\n",
    "                                                                                             0,\n",
    "                                                                                             trading_filter,\n",
    "                                                                                             test_mode=True,\n",
    "                                                                                             rebalance=False)\n",
    "sharpe_results_threshold_test_nocosts, cum_returns_threshold_test_nocosts = results_without_costs\n",
    "sharpe_results_threshold_test_w_costs, cum_returns_threshold_test_w_costs = results_with_costs"
   ]
  },
  {
   "cell_type": "code",
   "execution_count": 62,
   "metadata": {},
   "outputs": [
    {
     "name": "stdout",
     "output_type": "stream",
     "text": [
      "Average result:  2.946791342247898\n",
      "avg_annual_roi:  49.62010079027068\n",
      "100.0 % of the pairs had positive returns\n"
     ]
    }
   ],
   "source": [
    "avg_sharpe_threshold_test, total_roi_threshold_test, anual_roi_threshold_test, positive_pct_threshold_test = \\\n",
    "    trader.calculate_metrics(sharpe_results_threshold_test_nocosts, cum_returns_threshold_test_nocosts, n_years_test)"
   ]
  },
  {
   "cell_type": "code",
   "execution_count": 63,
   "metadata": {
    "scrolled": true
   },
   "outputs": [
    {
     "name": "stdout",
     "output_type": "stream",
     "text": [
      "Average result:  2.0629125638486374\n",
      "avg_annual_roi:  23.76086350251867\n",
      "100.0 % of the pairs had positive returns\n"
     ]
    }
   ],
   "source": [
    "_, _, _, _ = trader.calculate_metrics(sharpe_results_threshold_test_w_costs, cum_returns_threshold_test_w_costs,\n",
    "                                      n_years_test)"
   ]
  },
  {
   "cell_type": "code",
   "execution_count": 64,
   "metadata": {},
   "outputs": [
    {
     "data": {
      "text/plain": [
       "[17.326808192155084,\n",
       " 18.029019177129648,\n",
       " 7.8409806791627235,\n",
       " 9.035769909387215,\n",
       " 66.30925867229773,\n",
       " 24.023344384979683]"
      ]
     },
     "execution_count": 64,
     "metadata": {},
     "output_type": "execute_result"
    }
   ],
   "source": [
    "cum_returns_threshold_test_w_costs"
   ]
  },
  {
   "cell_type": "code",
   "execution_count": 68,
   "metadata": {},
   "outputs": [
    {
     "data": {
      "text/plain": [
       "23.760863502518678"
      ]
     },
     "execution_count": 68,
     "metadata": {},
     "output_type": "execute_result"
    }
   ],
   "source": [
    "np.mean([17.326808192155084,\n",
    " 18.029019177129648,\n",
    " 7.8409806791627235,\n",
    " 9.035769909387215,\n",
    " 66.30925867229773,\n",
    " 24.023344384979683])"
   ]
  },
  {
   "cell_type": "code",
   "execution_count": 57,
   "metadata": {},
   "outputs": [
    {
     "data": {
      "text/plain": [
       "<matplotlib.axes._subplots.AxesSubplot at 0x119865358>"
      ]
     },
     "execution_count": 57,
     "metadata": {},
     "output_type": "execute_result"
    },
    {
     "data": {
      "image/png": "[encoded data removed]",
      "text/plain": [
       "<matplotlib.figure.Figure at 0x11985b1d0>"
      ]
     },
     "metadata": {},
     "output_type": "display_data"
    }
   ],
   "source": [
    "pairs[-2][2]['Y_test'].plot()\n",
    "pairs[-2][2]['X_test'].plot()\n",
    "(pairs[-2][2]['Y_test']-pairs[-2][2]['coint_coef']*pairs[-2][2]['X_test']).plot()"
   ]
  },
  {
   "cell_type": "markdown",
   "metadata": {},
   "source": [
    "### Approach 2: Keeping only pairs that had positive returns in the training period"
   ]
  },
  {
   "cell_type": "markdown",
   "metadata": {},
   "source": [
    "**Kalman Strategy**"
   ]
  },
  {
   "cell_type": "code",
   "execution_count": 30,
   "metadata": {},
   "outputs": [
    {
     "ename": "NameError",
     "evalue": "name 'sharpe_results_kalman_w_costs' is not defined",
     "output_type": "error",
     "traceback": [
      "\u001b[0;31m---------------------------------------------------------------------------\u001b[0m",
      "\u001b[0;31mNameError\u001b[0m                                 Traceback (most recent call last)",
      "\u001b[0;32m<ipython-input-30-9bb40f53d7fc>\u001b[0m in \u001b[0;36m<module>\u001b[0;34m()\u001b[0m\n\u001b[0;32m----> 1\u001b[0;31m \u001b[0msharpe_results_kalman_w_costs\u001b[0m \u001b[0;34m=\u001b[0m \u001b[0mnp\u001b[0m\u001b[0;34m.\u001b[0m\u001b[0masarray\u001b[0m\u001b[0;34m(\u001b[0m\u001b[0msharpe_results_kalman_w_costs\u001b[0m\u001b[0;34m)\u001b[0m\u001b[0;34m\u001b[0m\u001b[0m\n\u001b[0m\u001b[1;32m      2\u001b[0m \u001b[0mprofitable_pairs_indices\u001b[0m \u001b[0;34m=\u001b[0m \u001b[0mnp\u001b[0m\u001b[0;34m.\u001b[0m\u001b[0margwhere\u001b[0m\u001b[0;34m(\u001b[0m\u001b[0msharpe_results_kalman_w_costs\u001b[0m \u001b[0;34m>\u001b[0m \u001b[0;36m0\u001b[0m\u001b[0;34m)\u001b[0m\u001b[0;34m\u001b[0m\u001b[0m\n\u001b[1;32m      3\u001b[0m \u001b[0mprofitable_pairs\u001b[0m \u001b[0;34m=\u001b[0m \u001b[0;34m[\u001b[0m\u001b[0mpairs\u001b[0m\u001b[0;34m[\u001b[0m\u001b[0mi\u001b[0m\u001b[0;34m]\u001b[0m \u001b[0;32mfor\u001b[0m \u001b[0mi\u001b[0m \u001b[0;32min\u001b[0m \u001b[0mprofitable_pairs_indices\u001b[0m\u001b[0;34m.\u001b[0m\u001b[0mflatten\u001b[0m\u001b[0;34m(\u001b[0m\u001b[0;34m)\u001b[0m\u001b[0;34m]\u001b[0m\u001b[0;34m\u001b[0m\u001b[0m\n",
      "\u001b[0;31mNameError\u001b[0m: name 'sharpe_results_kalman_w_costs' is not defined"
     ]
    }
   ],
   "source": [
    "sharpe_results_kalman_w_costs = np.asarray(sharpe_results_kalman_w_costs)\n",
    "profitable_pairs_indices = np.argwhere(sharpe_results_kalman_w_costs > 0)\n",
    "profitable_pairs = [pairs[i] for i in profitable_pairs_indices.flatten()]"
   ]
  },
  {
   "cell_type": "code",
   "execution_count": 31,
   "metadata": {
    "scrolled": false
   },
   "outputs": [
    {
     "ename": "NameError",
     "evalue": "name 'profitable_pairs' is not defined",
     "output_type": "error",
     "traceback": [
      "\u001b[0;31m---------------------------------------------------------------------------\u001b[0m",
      "\u001b[0;31mNameError\u001b[0m                                 Traceback (most recent call last)",
      "\u001b[0;32m<ipython-input-31-1ccde46036af>\u001b[0m in \u001b[0;36m<module>\u001b[0;34m()\u001b[0m\n\u001b[0;32m----> 1\u001b[0;31m results_without_costs, results_with_costs, performance_kalman_test = trader.apply_kalman_strategy(                                                                                             profitable_pairs, \n\u001b[0m\u001b[1;32m      2\u001b[0m                                                                                              \u001b[0;36m2\u001b[0m\u001b[0;34m,\u001b[0m\u001b[0;31m#entry_multiplier,\u001b[0m\u001b[0;34m\u001b[0m\u001b[0m\n\u001b[1;32m      3\u001b[0m                                                                                              \u001b[0;36m0\u001b[0m\u001b[0;34m,\u001b[0m\u001b[0;31m#exit_multiplier,\u001b[0m\u001b[0;34m\u001b[0m\u001b[0m\n\u001b[1;32m      4\u001b[0m                                                                                              \u001b[0mtrading_filter\u001b[0m\u001b[0;34m,\u001b[0m\u001b[0;34m\u001b[0m\u001b[0m\n\u001b[1;32m      5\u001b[0m                                                                                              \u001b[0mtest_mode\u001b[0m\u001b[0;34m=\u001b[0m\u001b[0;32mTrue\u001b[0m\u001b[0;34m,\u001b[0m\u001b[0;34m\u001b[0m\u001b[0m\n",
      "\u001b[0;31mNameError\u001b[0m: name 'profitable_pairs' is not defined"
     ]
    }
   ],
   "source": [
    "results_without_costs, results_with_costs, performance_kalman_test = trader.apply_kalman_strategy(\\\n",
    "                                                                                             profitable_pairs, \n",
    "                                                                                             2,#entry_multiplier,\n",
    "                                                                                             0,#exit_multiplier,\n",
    "                                                                                             trading_filter,\n",
    "                                                                                             test_mode=True,\n",
    "                                                                                             rebalance=False)"
   ]
  },
  {
   "cell_type": "code",
   "execution_count": 403,
   "metadata": {},
   "outputs": [],
   "source": [
    "sharpe_results_kalman_test_nocosts, cum_returns_kalman_test_nocosts = results_without_costs\n",
    "sharpe_results_kalman_test_w_costs, cum_returns_kalman_test_w_costs = results_with_costs"
   ]
  },
  {
   "cell_type": "markdown",
   "metadata": {},
   "source": [
    "No costs:"
   ]
  },
  {
   "cell_type": "code",
   "execution_count": 404,
   "metadata": {},
   "outputs": [
    {
     "name": "stdout",
     "output_type": "stream",
     "text": [
      "Average result:  4.3802183281441645\n",
      "avg_annual_roi:  83.47841867448938\n",
      "100.0 % of the pairs had positive returns\n"
     ]
    }
   ],
   "source": [
    "avg_sharpe_kalman_test, total_roi_kalman_test, anual_roi_kalman_test, positive_pct_kalman_test = \\\n",
    "    trader.calculate_metrics(sharpe_results_kalman_test_nocosts, cum_returns_kalman_test_nocosts, n_years_test)"
   ]
  },
  {
   "cell_type": "markdown",
   "metadata": {},
   "source": [
    "With costs:"
   ]
  },
  {
   "cell_type": "code",
   "execution_count": 405,
   "metadata": {},
   "outputs": [
    {
     "name": "stdout",
     "output_type": "stream",
     "text": [
      "Average result:  4.3802183281441645\n",
      "avg_annual_roi:  -28.79473390255005\n",
      "100.0 % of the pairs had positive returns\n"
     ]
    }
   ],
   "source": [
    "# WARNING: MSUT CHANGE SHARPE RATIO\n",
    "sharpe_results_kalman_test_w_costs = sharpe_results_kalman_test_nocosts\n",
    "avg_sharpe_kalman_test, total_roi_kalman_test, anual_roi_kalman_test, positive_pct_kalman_test = \\\n",
    "    trader.calculate_metrics(sharpe_results_kalman_test_w_costs, cum_returns_kalman_test_w_costs, n_years_test)"
   ]
  },
  {
   "cell_type": "markdown",
   "metadata": {},
   "source": [
    "We can conclude that the 2nd approach presents better results. From now on, we assume the 2nd approach was taken."
   ]
  },
  {
   "cell_type": "markdown",
   "metadata": {},
   "source": [
    "# Validate the results"
   ]
  },
  {
   "cell_type": "code",
   "execution_count": 370,
   "metadata": {},
   "outputs": [
    {
     "name": "stdout",
     "output_type": "stream",
     "text": [
      "Average result:  2.953607385380277\n",
      "avg_annual_roi:  -34.903190430368234\n",
      "100.0 % of the pairs had positive returns\n"
     ]
    }
   ],
   "source": [
    "results, pairs_summary = trader.summarize_results(sharpe_results_kalman_test_w_costs,\n",
    "                                                  cum_returns_kalman_test_w_costs,\n",
    "                                                  performance_kalman_test, profitable_pairs, ticker_segment_dict,\n",
    "                                                  n_years_test)"
   ]
  },
  {
   "cell_type": "code",
   "execution_count": 371,
   "metadata": {
    "scrolled": false
   },
   "outputs": [
    {
     "data": {
      "text/html": [
       "<div>\n",
       "<style scoped>\n",
       "    .dataframe tbody tr th:only-of-type {\n",
       "        vertical-align: middle;\n",
       "    }\n",
       "\n",
       "    .dataframe tbody tr th {\n",
       "        vertical-align: top;\n",
       "    }\n",
       "\n",
       "    .dataframe thead th {\n",
       "        text-align: right;\n",
       "    }\n",
       "</style>\n",
       "<table border=\"1\" class=\"dataframe\">\n",
       "  <thead>\n",
       "    <tr style=\"text-align: right;\">\n",
       "      <th></th>\n",
       "      <th>Leg1</th>\n",
       "      <th>Leg1_Segmt</th>\n",
       "      <th>Leg2</th>\n",
       "      <th>Leg2_Segmt</th>\n",
       "      <th>t_statistic</th>\n",
       "      <th>p_value</th>\n",
       "      <th>zero_cross</th>\n",
       "      <th>half_life</th>\n",
       "      <th>hurst_exponent</th>\n",
       "      <th>positive_trades</th>\n",
       "      <th>negative_trades</th>\n",
       "      <th>sharpe_result</th>\n",
       "      <th>positive_trades_per_pair_pct</th>\n",
       "    </tr>\n",
       "  </thead>\n",
       "  <tbody>\n",
       "    <tr>\n",
       "      <th>0</th>\n",
       "      <td>DZZ</td>\n",
       "      <td>Inverse Commodities: Precious Metals Gold</td>\n",
       "      <td>GLL</td>\n",
       "      <td>Inverse Commodities: Precious Metals Gold</td>\n",
       "      <td>-4.210803</td>\n",
       "      <td>0.000632</td>\n",
       "      <td>1725</td>\n",
       "      <td>319</td>\n",
       "      <td>0.229908</td>\n",
       "      <td>721</td>\n",
       "      <td>265</td>\n",
       "      <td>8.789733</td>\n",
       "      <td>73.123732</td>\n",
       "    </tr>\n",
       "    <tr>\n",
       "      <th>1</th>\n",
       "      <td>PXE</td>\n",
       "      <td>Equity: U.S. Oil &amp; Gas Exploration &amp; Production</td>\n",
       "      <td>PXI</td>\n",
       "      <td>Equity: U.S. Energy</td>\n",
       "      <td>-3.254852</td>\n",
       "      <td>0.017021</td>\n",
       "      <td>1374</td>\n",
       "      <td>462</td>\n",
       "      <td>0.231966</td>\n",
       "      <td>31</td>\n",
       "      <td>16</td>\n",
       "      <td>3.068056</td>\n",
       "      <td>65.957447</td>\n",
       "    </tr>\n",
       "    <tr>\n",
       "      <th>2</th>\n",
       "      <td>NLR</td>\n",
       "      <td>Equity: Global Nuclear Energy</td>\n",
       "      <td>PXI</td>\n",
       "      <td>Equity: U.S. Energy</td>\n",
       "      <td>-2.919168</td>\n",
       "      <td>0.043164</td>\n",
       "      <td>285</td>\n",
       "      <td>4889</td>\n",
       "      <td>0.479075</td>\n",
       "      <td>19</td>\n",
       "      <td>9</td>\n",
       "      <td>1.835837</td>\n",
       "      <td>67.857143</td>\n",
       "    </tr>\n",
       "    <tr>\n",
       "      <th>3</th>\n",
       "      <td>PXI</td>\n",
       "      <td>Equity: U.S. Energy</td>\n",
       "      <td>RYE</td>\n",
       "      <td>Equity: U.S. Energy</td>\n",
       "      <td>-3.301482</td>\n",
       "      <td>0.014812</td>\n",
       "      <td>1500</td>\n",
       "      <td>702</td>\n",
       "      <td>0.280768</td>\n",
       "      <td>12</td>\n",
       "      <td>7</td>\n",
       "      <td>1.554076</td>\n",
       "      <td>63.157895</td>\n",
       "    </tr>\n",
       "    <tr>\n",
       "      <th>4</th>\n",
       "      <td>NLR</td>\n",
       "      <td>Equity: Global Nuclear Energy</td>\n",
       "      <td>PXE</td>\n",
       "      <td>Equity: U.S. Oil &amp; Gas Exploration &amp; Production</td>\n",
       "      <td>-2.965900</td>\n",
       "      <td>0.038204</td>\n",
       "      <td>345</td>\n",
       "      <td>4817</td>\n",
       "      <td>0.479905</td>\n",
       "      <td>33</td>\n",
       "      <td>28</td>\n",
       "      <td>1.415900</td>\n",
       "      <td>54.098361</td>\n",
       "    </tr>\n",
       "  </tbody>\n",
       "</table>\n",
       "</div>"
      ],
      "text/plain": [
       "  Leg1                                       Leg1_Segmt Leg2  \\\n",
       "0  DZZ        Inverse Commodities: Precious Metals Gold  GLL   \n",
       "1  PXE  Equity: U.S. Oil & Gas Exploration & Production  PXI   \n",
       "2  NLR                    Equity: Global Nuclear Energy  PXI   \n",
       "3  PXI                              Equity: U.S. Energy  RYE   \n",
       "4  NLR                    Equity: Global Nuclear Energy  PXE   \n",
       "\n",
       "                                        Leg2_Segmt  t_statistic   p_value  \\\n",
       "0        Inverse Commodities: Precious Metals Gold    -4.210803  0.000632   \n",
       "1                              Equity: U.S. Energy    -3.254852  0.017021   \n",
       "2                              Equity: U.S. Energy    -2.919168  0.043164   \n",
       "3                              Equity: U.S. Energy    -3.301482  0.014812   \n",
       "4  Equity: U.S. Oil & Gas Exploration & Production    -2.965900  0.038204   \n",
       "\n",
       "   zero_cross  half_life  hurst_exponent  positive_trades  negative_trades  \\\n",
       "0        1725        319        0.229908              721              265   \n",
       "1        1374        462        0.231966               31               16   \n",
       "2         285       4889        0.479075               19                9   \n",
       "3        1500        702        0.280768               12                7   \n",
       "4         345       4817        0.479905               33               28   \n",
       "\n",
       "   sharpe_result  positive_trades_per_pair_pct  \n",
       "0       8.789733                     73.123732  \n",
       "1       3.068056                     65.957447  \n",
       "2       1.835837                     67.857143  \n",
       "3       1.554076                     63.157895  \n",
       "4       1.415900                     54.098361  "
      ]
     },
     "execution_count": 371,
     "metadata": {},
     "output_type": "execute_result"
    }
   ],
   "source": [
    "pairs_summary.head()"
   ]
  },
  {
   "cell_type": "code",
   "execution_count": 747,
   "metadata": {},
   "outputs": [],
   "source": [
    "performance_threshold_test[6][1]['position_ret_with_costs_cum'] = \\\n",
    "np.cumprod(performance_threshold_test[6][1].position_ret_with_costs.values + 1) - 1"
   ]
  },
  {
   "cell_type": "code",
   "execution_count": 763,
   "metadata": {},
   "outputs": [
    {
     "data": {
      "text/html": [
       "<div>\n",
       "<style scoped>\n",
       "    .dataframe tbody tr th:only-of-type {\n",
       "        vertical-align: middle;\n",
       "    }\n",
       "\n",
       "    .dataframe tbody tr th {\n",
       "        vertical-align: top;\n",
       "    }\n",
       "\n",
       "    .dataframe thead th {\n",
       "        text-align: right;\n",
       "    }\n",
       "</style>\n",
       "<table border=\"1\" class=\"dataframe\">\n",
       "  <thead>\n",
       "    <tr style=\"text-align: right;\">\n",
       "      <th></th>\n",
       "      <th>account_balance</th>\n",
       "      <th>pnl</th>\n",
       "      <th>pnl_y</th>\n",
       "      <th>pnl_x</th>\n",
       "      <th>daily_return</th>\n",
       "      <th>position_trigger</th>\n",
       "      <th>positions</th>\n",
       "      <th>trading_days</th>\n",
       "    </tr>\n",
       "  </thead>\n",
       "  <tbody>\n",
       "    <tr>\n",
       "      <th>2018-01-02 18:45:00</th>\n",
       "      <td>1.000000</td>\n",
       "      <td>0.000000</td>\n",
       "      <td>0.000000</td>\n",
       "      <td>0.000000</td>\n",
       "      <td>0.000000</td>\n",
       "      <td>0.0</td>\n",
       "      <td>0.0</td>\n",
       "      <td>0</td>\n",
       "    </tr>\n",
       "    <tr>\n",
       "      <th>2018-01-02 18:50:00</th>\n",
       "      <td>1.000000</td>\n",
       "      <td>0.000000</td>\n",
       "      <td>0.000000</td>\n",
       "      <td>0.000000</td>\n",
       "      <td>0.000000</td>\n",
       "      <td>0.0</td>\n",
       "      <td>0.0</td>\n",
       "      <td>0</td>\n",
       "    </tr>\n",
       "    <tr>\n",
       "      <th>2018-01-02 18:55:00</th>\n",
       "      <td>1.000000</td>\n",
       "      <td>0.000000</td>\n",
       "      <td>0.000000</td>\n",
       "      <td>0.000000</td>\n",
       "      <td>0.000000</td>\n",
       "      <td>0.0</td>\n",
       "      <td>0.0</td>\n",
       "      <td>0</td>\n",
       "    </tr>\n",
       "    <tr>\n",
       "      <th>2018-01-02 19:00:00</th>\n",
       "      <td>1.000000</td>\n",
       "      <td>0.000000</td>\n",
       "      <td>0.000000</td>\n",
       "      <td>0.000000</td>\n",
       "      <td>0.000000</td>\n",
       "      <td>0.0</td>\n",
       "      <td>0.0</td>\n",
       "      <td>0</td>\n",
       "    </tr>\n",
       "    <tr>\n",
       "      <th>2018-01-02 19:05:00</th>\n",
       "      <td>1.000000</td>\n",
       "      <td>0.000000</td>\n",
       "      <td>0.000000</td>\n",
       "      <td>0.000000</td>\n",
       "      <td>0.000000</td>\n",
       "      <td>0.0</td>\n",
       "      <td>0.0</td>\n",
       "      <td>0</td>\n",
       "    </tr>\n",
       "    <tr>\n",
       "      <th>2018-01-02 19:10:00</th>\n",
       "      <td>1.000000</td>\n",
       "      <td>0.000000</td>\n",
       "      <td>0.000000</td>\n",
       "      <td>0.000000</td>\n",
       "      <td>0.000000</td>\n",
       "      <td>0.0</td>\n",
       "      <td>0.0</td>\n",
       "      <td>0</td>\n",
       "    </tr>\n",
       "    <tr>\n",
       "      <th>2018-01-02 19:15:00</th>\n",
       "      <td>1.000000</td>\n",
       "      <td>0.000000</td>\n",
       "      <td>0.000000</td>\n",
       "      <td>0.000000</td>\n",
       "      <td>0.000000</td>\n",
       "      <td>0.0</td>\n",
       "      <td>0.0</td>\n",
       "      <td>0</td>\n",
       "    </tr>\n",
       "    <tr>\n",
       "      <th>2018-01-02 19:20:00</th>\n",
       "      <td>1.000000</td>\n",
       "      <td>0.000000</td>\n",
       "      <td>0.000000</td>\n",
       "      <td>0.000000</td>\n",
       "      <td>0.000000</td>\n",
       "      <td>0.0</td>\n",
       "      <td>0.0</td>\n",
       "      <td>0</td>\n",
       "    </tr>\n",
       "    <tr>\n",
       "      <th>2018-01-02 19:25:00</th>\n",
       "      <td>1.000000</td>\n",
       "      <td>0.000000</td>\n",
       "      <td>0.000000</td>\n",
       "      <td>0.000000</td>\n",
       "      <td>0.000000</td>\n",
       "      <td>0.0</td>\n",
       "      <td>0.0</td>\n",
       "      <td>0</td>\n",
       "    </tr>\n",
       "    <tr>\n",
       "      <th>2018-01-02 19:30:00</th>\n",
       "      <td>0.995513</td>\n",
       "      <td>-0.004487</td>\n",
       "      <td>-0.002800</td>\n",
       "      <td>-0.001687</td>\n",
       "      <td>-0.004487</td>\n",
       "      <td>2.0</td>\n",
       "      <td>1.0</td>\n",
       "      <td>0</td>\n",
       "    </tr>\n",
       "    <tr>\n",
       "      <th>2018-01-02 19:35:00</th>\n",
       "      <td>0.995905</td>\n",
       "      <td>0.000392</td>\n",
       "      <td>0.000392</td>\n",
       "      <td>-0.000000</td>\n",
       "      <td>0.000394</td>\n",
       "      <td>0.0</td>\n",
       "      <td>1.0</td>\n",
       "      <td>0</td>\n",
       "    </tr>\n",
       "    <tr>\n",
       "      <th>2018-01-02 19:40:00</th>\n",
       "      <td>0.997282</td>\n",
       "      <td>0.001377</td>\n",
       "      <td>0.000000</td>\n",
       "      <td>0.001377</td>\n",
       "      <td>0.001383</td>\n",
       "      <td>0.0</td>\n",
       "      <td>1.0</td>\n",
       "      <td>0</td>\n",
       "    </tr>\n",
       "    <tr>\n",
       "      <th>2018-01-02 19:45:00</th>\n",
       "      <td>0.997501</td>\n",
       "      <td>0.000218</td>\n",
       "      <td>0.000000</td>\n",
       "      <td>0.000218</td>\n",
       "      <td>0.000219</td>\n",
       "      <td>0.0</td>\n",
       "      <td>1.0</td>\n",
       "      <td>0</td>\n",
       "    </tr>\n",
       "    <tr>\n",
       "      <th>2018-01-02 19:50:00</th>\n",
       "      <td>0.997501</td>\n",
       "      <td>0.000000</td>\n",
       "      <td>0.000000</td>\n",
       "      <td>-0.000000</td>\n",
       "      <td>0.000000</td>\n",
       "      <td>0.0</td>\n",
       "      <td>1.0</td>\n",
       "      <td>0</td>\n",
       "    </tr>\n",
       "    <tr>\n",
       "      <th>2018-01-02 19:55:00</th>\n",
       "      <td>0.997632</td>\n",
       "      <td>0.000131</td>\n",
       "      <td>0.000000</td>\n",
       "      <td>0.000131</td>\n",
       "      <td>0.000131</td>\n",
       "      <td>0.0</td>\n",
       "      <td>1.0</td>\n",
       "      <td>0</td>\n",
       "    </tr>\n",
       "    <tr>\n",
       "      <th>2018-01-02 20:00:00</th>\n",
       "      <td>0.997632</td>\n",
       "      <td>0.000000</td>\n",
       "      <td>0.000000</td>\n",
       "      <td>-0.000000</td>\n",
       "      <td>0.000000</td>\n",
       "      <td>0.0</td>\n",
       "      <td>1.0</td>\n",
       "      <td>0</td>\n",
       "    </tr>\n",
       "    <tr>\n",
       "      <th>2018-01-02 20:05:00</th>\n",
       "      <td>0.998240</td>\n",
       "      <td>0.000608</td>\n",
       "      <td>0.001176</td>\n",
       "      <td>-0.000568</td>\n",
       "      <td>0.000610</td>\n",
       "      <td>0.0</td>\n",
       "      <td>1.0</td>\n",
       "      <td>0</td>\n",
       "    </tr>\n",
       "    <tr>\n",
       "      <th>2018-01-02 20:10:00</th>\n",
       "      <td>0.999024</td>\n",
       "      <td>0.000784</td>\n",
       "      <td>0.000784</td>\n",
       "      <td>-0.000000</td>\n",
       "      <td>0.000786</td>\n",
       "      <td>0.0</td>\n",
       "      <td>1.0</td>\n",
       "      <td>0</td>\n",
       "    </tr>\n",
       "    <tr>\n",
       "      <th>2018-01-02 20:15:00</th>\n",
       "      <td>0.999024</td>\n",
       "      <td>0.000000</td>\n",
       "      <td>0.000000</td>\n",
       "      <td>-0.000000</td>\n",
       "      <td>0.000000</td>\n",
       "      <td>0.0</td>\n",
       "      <td>1.0</td>\n",
       "      <td>0</td>\n",
       "    </tr>\n",
       "    <tr>\n",
       "      <th>2018-01-02 20:20:00</th>\n",
       "      <td>0.998297</td>\n",
       "      <td>-0.000727</td>\n",
       "      <td>0.000000</td>\n",
       "      <td>-0.000727</td>\n",
       "      <td>-0.000728</td>\n",
       "      <td>0.0</td>\n",
       "      <td>1.0</td>\n",
       "      <td>0</td>\n",
       "    </tr>\n",
       "    <tr>\n",
       "      <th>2018-01-02 20:25:00</th>\n",
       "      <td>0.998442</td>\n",
       "      <td>0.000145</td>\n",
       "      <td>0.000000</td>\n",
       "      <td>0.000145</td>\n",
       "      <td>0.000145</td>\n",
       "      <td>0.0</td>\n",
       "      <td>1.0</td>\n",
       "      <td>0</td>\n",
       "    </tr>\n",
       "    <tr>\n",
       "      <th>2018-01-02 20:30:00</th>\n",
       "      <td>0.997862</td>\n",
       "      <td>-0.000581</td>\n",
       "      <td>0.000000</td>\n",
       "      <td>-0.000581</td>\n",
       "      <td>-0.000582</td>\n",
       "      <td>0.0</td>\n",
       "      <td>1.0</td>\n",
       "      <td>0</td>\n",
       "    </tr>\n",
       "    <tr>\n",
       "      <th>2018-01-02 20:35:00</th>\n",
       "      <td>0.999226</td>\n",
       "      <td>0.001364</td>\n",
       "      <td>0.000784</td>\n",
       "      <td>0.000580</td>\n",
       "      <td>0.001367</td>\n",
       "      <td>0.0</td>\n",
       "      <td>1.0</td>\n",
       "      <td>0</td>\n",
       "    </tr>\n",
       "    <tr>\n",
       "      <th>2018-01-02 20:40:00</th>\n",
       "      <td>0.997919</td>\n",
       "      <td>-0.001307</td>\n",
       "      <td>0.000000</td>\n",
       "      <td>-0.001307</td>\n",
       "      <td>-0.001308</td>\n",
       "      <td>0.0</td>\n",
       "      <td>1.0</td>\n",
       "      <td>0</td>\n",
       "    </tr>\n",
       "    <tr>\n",
       "      <th>2018-01-02 20:45:00</th>\n",
       "      <td>0.998064</td>\n",
       "      <td>0.000145</td>\n",
       "      <td>0.000000</td>\n",
       "      <td>0.000145</td>\n",
       "      <td>0.000145</td>\n",
       "      <td>0.0</td>\n",
       "      <td>1.0</td>\n",
       "      <td>0</td>\n",
       "    </tr>\n",
       "    <tr>\n",
       "      <th>2018-01-02 20:50:00</th>\n",
       "      <td>0.998353</td>\n",
       "      <td>0.000289</td>\n",
       "      <td>0.000000</td>\n",
       "      <td>0.000289</td>\n",
       "      <td>0.000290</td>\n",
       "      <td>0.0</td>\n",
       "      <td>1.0</td>\n",
       "      <td>0</td>\n",
       "    </tr>\n",
       "    <tr>\n",
       "      <th>2018-01-02 20:55:00</th>\n",
       "      <td>1.002853</td>\n",
       "      <td>0.004500</td>\n",
       "      <td>0.005451</td>\n",
       "      <td>-0.000951</td>\n",
       "      <td>0.004507</td>\n",
       "      <td>-1.0</td>\n",
       "      <td>1.0</td>\n",
       "      <td>1</td>\n",
       "    </tr>\n",
       "    <tr>\n",
       "      <th>2018-01-02 21:00:00</th>\n",
       "      <td>1.002853</td>\n",
       "      <td>0.000000</td>\n",
       "      <td>0.000000</td>\n",
       "      <td>0.000000</td>\n",
       "      <td>0.000000</td>\n",
       "      <td>0.0</td>\n",
       "      <td>0.0</td>\n",
       "      <td>0</td>\n",
       "    </tr>\n",
       "    <tr>\n",
       "      <th>2018-01-03 14:35:00</th>\n",
       "      <td>1.007049</td>\n",
       "      <td>0.004195</td>\n",
       "      <td>0.002715</td>\n",
       "      <td>0.001480</td>\n",
       "      <td>0.004183</td>\n",
       "      <td>1.0</td>\n",
       "      <td>1.0</td>\n",
       "      <td>1</td>\n",
       "    </tr>\n",
       "    <tr>\n",
       "      <th>2018-01-03 14:40:00</th>\n",
       "      <td>1.007049</td>\n",
       "      <td>0.000000</td>\n",
       "      <td>0.000000</td>\n",
       "      <td>0.000000</td>\n",
       "      <td>0.000000</td>\n",
       "      <td>0.0</td>\n",
       "      <td>0.0</td>\n",
       "      <td>0</td>\n",
       "    </tr>\n",
       "    <tr>\n",
       "      <th>2018-01-03 14:45:00</th>\n",
       "      <td>1.003280</td>\n",
       "      <td>-0.003768</td>\n",
       "      <td>-0.002828</td>\n",
       "      <td>-0.000941</td>\n",
       "      <td>-0.003742</td>\n",
       "      <td>2.0</td>\n",
       "      <td>1.0</td>\n",
       "      <td>0</td>\n",
       "    </tr>\n",
       "    <tr>\n",
       "      <th>2018-01-03 14:50:00</th>\n",
       "      <td>1.006434</td>\n",
       "      <td>0.003153</td>\n",
       "      <td>0.003168</td>\n",
       "      <td>-0.000015</td>\n",
       "      <td>0.003143</td>\n",
       "      <td>0.0</td>\n",
       "      <td>1.0</td>\n",
       "      <td>0</td>\n",
       "    </tr>\n",
       "    <tr>\n",
       "      <th>2018-01-03 14:55:00</th>\n",
       "      <td>1.005524</td>\n",
       "      <td>-0.000910</td>\n",
       "      <td>0.000396</td>\n",
       "      <td>-0.001306</td>\n",
       "      <td>-0.000904</td>\n",
       "      <td>0.0</td>\n",
       "      <td>1.0</td>\n",
       "      <td>0</td>\n",
       "    </tr>\n",
       "    <tr>\n",
       "      <th>2018-01-03 15:00:00</th>\n",
       "      <td>1.005816</td>\n",
       "      <td>0.000292</td>\n",
       "      <td>0.000000</td>\n",
       "      <td>0.000292</td>\n",
       "      <td>0.000291</td>\n",
       "      <td>0.0</td>\n",
       "      <td>1.0</td>\n",
       "      <td>0</td>\n",
       "    </tr>\n",
       "    <tr>\n",
       "      <th>2018-01-03 15:05:00</th>\n",
       "      <td>1.003431</td>\n",
       "      <td>-0.002385</td>\n",
       "      <td>-0.006336</td>\n",
       "      <td>0.003952</td>\n",
       "      <td>-0.002371</td>\n",
       "      <td>0.0</td>\n",
       "      <td>1.0</td>\n",
       "      <td>0</td>\n",
       "    </tr>\n",
       "    <tr>\n",
       "      <th>2018-01-03 15:10:00</th>\n",
       "      <td>1.008159</td>\n",
       "      <td>0.004728</td>\n",
       "      <td>0.004752</td>\n",
       "      <td>-0.000024</td>\n",
       "      <td>0.004712</td>\n",
       "      <td>-1.0</td>\n",
       "      <td>1.0</td>\n",
       "      <td>1</td>\n",
       "    </tr>\n",
       "    <tr>\n",
       "      <th>2018-01-03 15:15:00</th>\n",
       "      <td>1.008159</td>\n",
       "      <td>0.000000</td>\n",
       "      <td>0.000000</td>\n",
       "      <td>0.000000</td>\n",
       "      <td>0.000000</td>\n",
       "      <td>0.0</td>\n",
       "      <td>0.0</td>\n",
       "      <td>0</td>\n",
       "    </tr>\n",
       "    <tr>\n",
       "      <th>2018-01-03 15:20:00</th>\n",
       "      <td>1.008159</td>\n",
       "      <td>0.000000</td>\n",
       "      <td>0.000000</td>\n",
       "      <td>0.000000</td>\n",
       "      <td>0.000000</td>\n",
       "      <td>0.0</td>\n",
       "      <td>0.0</td>\n",
       "      <td>0</td>\n",
       "    </tr>\n",
       "    <tr>\n",
       "      <th>2018-01-03 15:25:00</th>\n",
       "      <td>1.008159</td>\n",
       "      <td>0.000000</td>\n",
       "      <td>0.000000</td>\n",
       "      <td>0.000000</td>\n",
       "      <td>0.000000</td>\n",
       "      <td>0.0</td>\n",
       "      <td>0.0</td>\n",
       "      <td>0</td>\n",
       "    </tr>\n",
       "    <tr>\n",
       "      <th>2018-01-03 15:30:00</th>\n",
       "      <td>1.008159</td>\n",
       "      <td>0.000000</td>\n",
       "      <td>0.000000</td>\n",
       "      <td>0.000000</td>\n",
       "      <td>0.000000</td>\n",
       "      <td>0.0</td>\n",
       "      <td>0.0</td>\n",
       "      <td>0</td>\n",
       "    </tr>\n",
       "    <tr>\n",
       "      <th>2018-01-03 15:35:00</th>\n",
       "      <td>1.008159</td>\n",
       "      <td>0.000000</td>\n",
       "      <td>0.000000</td>\n",
       "      <td>0.000000</td>\n",
       "      <td>0.000000</td>\n",
       "      <td>0.0</td>\n",
       "      <td>0.0</td>\n",
       "      <td>0</td>\n",
       "    </tr>\n",
       "    <tr>\n",
       "      <th>2018-01-03 15:40:00</th>\n",
       "      <td>1.008159</td>\n",
       "      <td>0.000000</td>\n",
       "      <td>0.000000</td>\n",
       "      <td>0.000000</td>\n",
       "      <td>0.000000</td>\n",
       "      <td>0.0</td>\n",
       "      <td>0.0</td>\n",
       "      <td>0</td>\n",
       "    </tr>\n",
       "    <tr>\n",
       "      <th>2018-01-03 15:45:00</th>\n",
       "      <td>1.008159</td>\n",
       "      <td>0.000000</td>\n",
       "      <td>0.000000</td>\n",
       "      <td>0.000000</td>\n",
       "      <td>0.000000</td>\n",
       "      <td>0.0</td>\n",
       "      <td>0.0</td>\n",
       "      <td>0</td>\n",
       "    </tr>\n",
       "    <tr>\n",
       "      <th>2018-01-03 15:50:00</th>\n",
       "      <td>1.008159</td>\n",
       "      <td>0.000000</td>\n",
       "      <td>0.000000</td>\n",
       "      <td>0.000000</td>\n",
       "      <td>0.000000</td>\n",
       "      <td>0.0</td>\n",
       "      <td>0.0</td>\n",
       "      <td>0</td>\n",
       "    </tr>\n",
       "    <tr>\n",
       "      <th>2018-01-03 15:55:00</th>\n",
       "      <td>1.008159</td>\n",
       "      <td>0.000000</td>\n",
       "      <td>0.000000</td>\n",
       "      <td>0.000000</td>\n",
       "      <td>0.000000</td>\n",
       "      <td>0.0</td>\n",
       "      <td>0.0</td>\n",
       "      <td>0</td>\n",
       "    </tr>\n",
       "    <tr>\n",
       "      <th>2018-01-03 16:00:00</th>\n",
       "      <td>1.008159</td>\n",
       "      <td>0.000000</td>\n",
       "      <td>0.000000</td>\n",
       "      <td>0.000000</td>\n",
       "      <td>0.000000</td>\n",
       "      <td>0.0</td>\n",
       "      <td>0.0</td>\n",
       "      <td>0</td>\n",
       "    </tr>\n",
       "    <tr>\n",
       "      <th>2018-01-03 16:05:00</th>\n",
       "      <td>1.008159</td>\n",
       "      <td>0.000000</td>\n",
       "      <td>0.000000</td>\n",
       "      <td>0.000000</td>\n",
       "      <td>0.000000</td>\n",
       "      <td>0.0</td>\n",
       "      <td>0.0</td>\n",
       "      <td>0</td>\n",
       "    </tr>\n",
       "    <tr>\n",
       "      <th>2018-01-03 16:10:00</th>\n",
       "      <td>1.008159</td>\n",
       "      <td>0.000000</td>\n",
       "      <td>0.000000</td>\n",
       "      <td>0.000000</td>\n",
       "      <td>0.000000</td>\n",
       "      <td>0.0</td>\n",
       "      <td>0.0</td>\n",
       "      <td>0</td>\n",
       "    </tr>\n",
       "    <tr>\n",
       "      <th>2018-01-03 16:15:00</th>\n",
       "      <td>1.008159</td>\n",
       "      <td>0.000000</td>\n",
       "      <td>0.000000</td>\n",
       "      <td>0.000000</td>\n",
       "      <td>0.000000</td>\n",
       "      <td>0.0</td>\n",
       "      <td>0.0</td>\n",
       "      <td>0</td>\n",
       "    </tr>\n",
       "    <tr>\n",
       "      <th>2018-01-03 16:20:00</th>\n",
       "      <td>1.008159</td>\n",
       "      <td>0.000000</td>\n",
       "      <td>0.000000</td>\n",
       "      <td>0.000000</td>\n",
       "      <td>0.000000</td>\n",
       "      <td>0.0</td>\n",
       "      <td>0.0</td>\n",
       "      <td>0</td>\n",
       "    </tr>\n",
       "  </tbody>\n",
       "</table>\n",
       "</div>"
      ],
      "text/plain": [
       "                     account_balance       pnl     pnl_y     pnl_x  \\\n",
       "2018-01-02 18:45:00         1.000000  0.000000  0.000000  0.000000   \n",
       "2018-01-02 18:50:00         1.000000  0.000000  0.000000  0.000000   \n",
       "2018-01-02 18:55:00         1.000000  0.000000  0.000000  0.000000   \n",
       "2018-01-02 19:00:00         1.000000  0.000000  0.000000  0.000000   \n",
       "2018-01-02 19:05:00         1.000000  0.000000  0.000000  0.000000   \n",
       "2018-01-02 19:10:00         1.000000  0.000000  0.000000  0.000000   \n",
       "2018-01-02 19:15:00         1.000000  0.000000  0.000000  0.000000   \n",
       "2018-01-02 19:20:00         1.000000  0.000000  0.000000  0.000000   \n",
       "2018-01-02 19:25:00         1.000000  0.000000  0.000000  0.000000   \n",
       "2018-01-02 19:30:00         0.995513 -0.004487 -0.002800 -0.001687   \n",
       "2018-01-02 19:35:00         0.995905  0.000392  0.000392 -0.000000   \n",
       "2018-01-02 19:40:00         0.997282  0.001377  0.000000  0.001377   \n",
       "2018-01-02 19:45:00         0.997501  0.000218  0.000000  0.000218   \n",
       "2018-01-02 19:50:00         0.997501  0.000000  0.000000 -0.000000   \n",
       "2018-01-02 19:55:00         0.997632  0.000131  0.000000  0.000131   \n",
       "2018-01-02 20:00:00         0.997632  0.000000  0.000000 -0.000000   \n",
       "2018-01-02 20:05:00         0.998240  0.000608  0.001176 -0.000568   \n",
       "2018-01-02 20:10:00         0.999024  0.000784  0.000784 -0.000000   \n",
       "2018-01-02 20:15:00         0.999024  0.000000  0.000000 -0.000000   \n",
       "2018-01-02 20:20:00         0.998297 -0.000727  0.000000 -0.000727   \n",
       "2018-01-02 20:25:00         0.998442  0.000145  0.000000  0.000145   \n",
       "2018-01-02 20:30:00         0.997862 -0.000581  0.000000 -0.000581   \n",
       "2018-01-02 20:35:00         0.999226  0.001364  0.000784  0.000580   \n",
       "2018-01-02 20:40:00         0.997919 -0.001307  0.000000 -0.001307   \n",
       "2018-01-02 20:45:00         0.998064  0.000145  0.000000  0.000145   \n",
       "2018-01-02 20:50:00         0.998353  0.000289  0.000000  0.000289   \n",
       "2018-01-02 20:55:00         1.002853  0.004500  0.005451 -0.000951   \n",
       "2018-01-02 21:00:00         1.002853  0.000000  0.000000  0.000000   \n",
       "2018-01-03 14:35:00         1.007049  0.004195  0.002715  0.001480   \n",
       "2018-01-03 14:40:00         1.007049  0.000000  0.000000  0.000000   \n",
       "2018-01-03 14:45:00         1.003280 -0.003768 -0.002828 -0.000941   \n",
       "2018-01-03 14:50:00         1.006434  0.003153  0.003168 -0.000015   \n",
       "2018-01-03 14:55:00         1.005524 -0.000910  0.000396 -0.001306   \n",
       "2018-01-03 15:00:00         1.005816  0.000292  0.000000  0.000292   \n",
       "2018-01-03 15:05:00         1.003431 -0.002385 -0.006336  0.003952   \n",
       "2018-01-03 15:10:00         1.008159  0.004728  0.004752 -0.000024   \n",
       "2018-01-03 15:15:00         1.008159  0.000000  0.000000  0.000000   \n",
       "2018-01-03 15:20:00         1.008159  0.000000  0.000000  0.000000   \n",
       "2018-01-03 15:25:00         1.008159  0.000000  0.000000  0.000000   \n",
       "2018-01-03 15:30:00         1.008159  0.000000  0.000000  0.000000   \n",
       "2018-01-03 15:35:00         1.008159  0.000000  0.000000  0.000000   \n",
       "2018-01-03 15:40:00         1.008159  0.000000  0.000000  0.000000   \n",
       "2018-01-03 15:45:00         1.008159  0.000000  0.000000  0.000000   \n",
       "2018-01-03 15:50:00         1.008159  0.000000  0.000000  0.000000   \n",
       "2018-01-03 15:55:00         1.008159  0.000000  0.000000  0.000000   \n",
       "2018-01-03 16:00:00         1.008159  0.000000  0.000000  0.000000   \n",
       "2018-01-03 16:05:00         1.008159  0.000000  0.000000  0.000000   \n",
       "2018-01-03 16:10:00         1.008159  0.000000  0.000000  0.000000   \n",
       "2018-01-03 16:15:00         1.008159  0.000000  0.000000  0.000000   \n",
       "2018-01-03 16:20:00         1.008159  0.000000  0.000000  0.000000   \n",
       "\n",
       "                     daily_return  position_trigger  positions  trading_days  \n",
       "2018-01-02 18:45:00      0.000000               0.0        0.0             0  \n",
       "2018-01-02 18:50:00      0.000000               0.0        0.0             0  \n",
       "2018-01-02 18:55:00      0.000000               0.0        0.0             0  \n",
       "2018-01-02 19:00:00      0.000000               0.0        0.0             0  \n",
       "2018-01-02 19:05:00      0.000000               0.0        0.0             0  \n",
       "2018-01-02 19:10:00      0.000000               0.0        0.0             0  \n",
       "2018-01-02 19:15:00      0.000000               0.0        0.0             0  \n",
       "2018-01-02 19:20:00      0.000000               0.0        0.0             0  \n",
       "2018-01-02 19:25:00      0.000000               0.0        0.0             0  \n",
       "2018-01-02 19:30:00     -0.004487               2.0        1.0             0  \n",
       "2018-01-02 19:35:00      0.000394               0.0        1.0             0  \n",
       "2018-01-02 19:40:00      0.001383               0.0        1.0             0  \n",
       "2018-01-02 19:45:00      0.000219               0.0        1.0             0  \n",
       "2018-01-02 19:50:00      0.000000               0.0        1.0             0  \n",
       "2018-01-02 19:55:00      0.000131               0.0        1.0             0  \n",
       "2018-01-02 20:00:00      0.000000               0.0        1.0             0  \n",
       "2018-01-02 20:05:00      0.000610               0.0        1.0             0  \n",
       "2018-01-02 20:10:00      0.000786               0.0        1.0             0  \n",
       "2018-01-02 20:15:00      0.000000               0.0        1.0             0  \n",
       "2018-01-02 20:20:00     -0.000728               0.0        1.0             0  \n",
       "2018-01-02 20:25:00      0.000145               0.0        1.0             0  \n",
       "2018-01-02 20:30:00     -0.000582               0.0        1.0             0  \n",
       "2018-01-02 20:35:00      0.001367               0.0        1.0             0  \n",
       "2018-01-02 20:40:00     -0.001308               0.0        1.0             0  \n",
       "2018-01-02 20:45:00      0.000145               0.0        1.0             0  \n",
       "2018-01-02 20:50:00      0.000290               0.0        1.0             0  \n",
       "2018-01-02 20:55:00      0.004507              -1.0        1.0             1  \n",
       "2018-01-02 21:00:00      0.000000               0.0        0.0             0  \n",
       "2018-01-03 14:35:00      0.004183               1.0        1.0             1  \n",
       "2018-01-03 14:40:00      0.000000               0.0        0.0             0  \n",
       "2018-01-03 14:45:00     -0.003742               2.0        1.0             0  \n",
       "2018-01-03 14:50:00      0.003143               0.0        1.0             0  \n",
       "2018-01-03 14:55:00     -0.000904               0.0        1.0             0  \n",
       "2018-01-03 15:00:00      0.000291               0.0        1.0             0  \n",
       "2018-01-03 15:05:00     -0.002371               0.0        1.0             0  \n",
       "2018-01-03 15:10:00      0.004712              -1.0        1.0             1  \n",
       "2018-01-03 15:15:00      0.000000               0.0        0.0             0  \n",
       "2018-01-03 15:20:00      0.000000               0.0        0.0             0  \n",
       "2018-01-03 15:25:00      0.000000               0.0        0.0             0  \n",
       "2018-01-03 15:30:00      0.000000               0.0        0.0             0  \n",
       "2018-01-03 15:35:00      0.000000               0.0        0.0             0  \n",
       "2018-01-03 15:40:00      0.000000               0.0        0.0             0  \n",
       "2018-01-03 15:45:00      0.000000               0.0        0.0             0  \n",
       "2018-01-03 15:50:00      0.000000               0.0        0.0             0  \n",
       "2018-01-03 15:55:00      0.000000               0.0        0.0             0  \n",
       "2018-01-03 16:00:00      0.000000               0.0        0.0             0  \n",
       "2018-01-03 16:05:00      0.000000               0.0        0.0             0  \n",
       "2018-01-03 16:10:00      0.000000               0.0        0.0             0  \n",
       "2018-01-03 16:15:00      0.000000               0.0        0.0             0  \n",
       "2018-01-03 16:20:00      0.000000               0.0        0.0             0  "
      ]
     },
     "execution_count": 763,
     "metadata": {},
     "output_type": "execute_result"
    }
   ],
   "source": [
    "performance_threshold_test[6][2][50:100]"
   ]
  },
  {
   "cell_type": "code",
   "execution_count": 788,
   "metadata": {
    "scrolled": false
   },
   "outputs": [
    {
     "data": {
      "text/html": [
       "<div>\n",
       "<style scoped>\n",
       "    .dataframe tbody tr th:only-of-type {\n",
       "        vertical-align: middle;\n",
       "    }\n",
       "\n",
       "    .dataframe tbody tr th {\n",
       "        vertical-align: top;\n",
       "    }\n",
       "\n",
       "    .dataframe thead th {\n",
       "        text-align: right;\n",
       "    }\n",
       "</style>\n",
       "<table border=\"1\" class=\"dataframe\">\n",
       "  <thead>\n",
       "    <tr style=\"text-align: right;\">\n",
       "      <th></th>\n",
       "      <th>pnl</th>\n",
       "      <th>pnl_y</th>\n",
       "      <th>pnl_x</th>\n",
       "      <th>account_balance</th>\n",
       "      <th>daily_return</th>\n",
       "      <th>position_return</th>\n",
       "      <th>DGP</th>\n",
       "      <th>UGL</th>\n",
       "      <th>beta</th>\n",
       "      <th>norm_spread</th>\n",
       "      <th>position_during_day</th>\n",
       "      <th>trading_duration</th>\n",
       "      <th>position_ret_with_costs</th>\n",
       "    </tr>\n",
       "  </thead>\n",
       "  <tbody>\n",
       "    <tr>\n",
       "      <th>2018-01-02 19:25:00</th>\n",
       "      <td>0.000000</td>\n",
       "      <td>0.000000</td>\n",
       "      <td>0.000000</td>\n",
       "      <td>1.000000</td>\n",
       "      <td>0.000000</td>\n",
       "      <td>0.000000</td>\n",
       "      <td>25.430</td>\n",
       "      <td>41.490</td>\n",
       "      <td>0.602438</td>\n",
       "      <td>-2.208900</td>\n",
       "      <td>0.0</td>\n",
       "      <td>0</td>\n",
       "      <td>0.000000</td>\n",
       "    </tr>\n",
       "    <tr>\n",
       "      <th>2018-01-02 19:30:00</th>\n",
       "      <td>0.000000</td>\n",
       "      <td>0.000000</td>\n",
       "      <td>-0.000000</td>\n",
       "      <td>1.000000</td>\n",
       "      <td>0.000000</td>\n",
       "      <td>0.000000</td>\n",
       "      <td>25.430</td>\n",
       "      <td>41.490</td>\n",
       "      <td>0.602438</td>\n",
       "      <td>-2.208900</td>\n",
       "      <td>1.0</td>\n",
       "      <td>0</td>\n",
       "      <td>0.000000</td>\n",
       "    </tr>\n",
       "    <tr>\n",
       "      <th>2018-01-02 19:35:00</th>\n",
       "      <td>0.000393</td>\n",
       "      <td>0.000393</td>\n",
       "      <td>-0.000000</td>\n",
       "      <td>1.000393</td>\n",
       "      <td>0.000393</td>\n",
       "      <td>0.000000</td>\n",
       "      <td>25.440</td>\n",
       "      <td>41.490</td>\n",
       "      <td>0.602438</td>\n",
       "      <td>-2.073060</td>\n",
       "      <td>1.0</td>\n",
       "      <td>0</td>\n",
       "      <td>0.000000</td>\n",
       "    </tr>\n",
       "    <tr>\n",
       "      <th>2018-01-02 19:40:00</th>\n",
       "      <td>0.001379</td>\n",
       "      <td>0.000000</td>\n",
       "      <td>0.001379</td>\n",
       "      <td>1.001773</td>\n",
       "      <td>0.001379</td>\n",
       "      <td>0.000000</td>\n",
       "      <td>25.440</td>\n",
       "      <td>41.395</td>\n",
       "      <td>0.602438</td>\n",
       "      <td>-1.295626</td>\n",
       "      <td>1.0</td>\n",
       "      <td>0</td>\n",
       "      <td>0.000000</td>\n",
       "    </tr>\n",
       "    <tr>\n",
       "      <th>2018-01-02 19:45:00</th>\n",
       "      <td>0.000219</td>\n",
       "      <td>0.000000</td>\n",
       "      <td>0.000219</td>\n",
       "      <td>1.001991</td>\n",
       "      <td>0.000218</td>\n",
       "      <td>0.000000</td>\n",
       "      <td>25.440</td>\n",
       "      <td>41.380</td>\n",
       "      <td>0.602438</td>\n",
       "      <td>-1.172874</td>\n",
       "      <td>1.0</td>\n",
       "      <td>0</td>\n",
       "      <td>0.000000</td>\n",
       "    </tr>\n",
       "    <tr>\n",
       "      <th>2018-01-02 19:50:00</th>\n",
       "      <td>0.000000</td>\n",
       "      <td>0.000000</td>\n",
       "      <td>-0.000000</td>\n",
       "      <td>1.001991</td>\n",
       "      <td>0.000000</td>\n",
       "      <td>0.000000</td>\n",
       "      <td>25.440</td>\n",
       "      <td>41.380</td>\n",
       "      <td>0.602438</td>\n",
       "      <td>-1.172874</td>\n",
       "      <td>1.0</td>\n",
       "      <td>0</td>\n",
       "      <td>0.000000</td>\n",
       "    </tr>\n",
       "    <tr>\n",
       "      <th>2018-01-02 19:55:00</th>\n",
       "      <td>0.000131</td>\n",
       "      <td>0.000000</td>\n",
       "      <td>0.000131</td>\n",
       "      <td>1.002122</td>\n",
       "      <td>0.000131</td>\n",
       "      <td>0.000000</td>\n",
       "      <td>25.440</td>\n",
       "      <td>41.371</td>\n",
       "      <td>0.602438</td>\n",
       "      <td>-1.099222</td>\n",
       "      <td>1.0</td>\n",
       "      <td>0</td>\n",
       "      <td>0.000000</td>\n",
       "    </tr>\n",
       "    <tr>\n",
       "      <th>2018-01-02 20:00:00</th>\n",
       "      <td>0.000000</td>\n",
       "      <td>0.000000</td>\n",
       "      <td>-0.000000</td>\n",
       "      <td>1.002122</td>\n",
       "      <td>0.000000</td>\n",
       "      <td>0.000000</td>\n",
       "      <td>25.440</td>\n",
       "      <td>41.371</td>\n",
       "      <td>0.602438</td>\n",
       "      <td>-1.099222</td>\n",
       "      <td>1.0</td>\n",
       "      <td>0</td>\n",
       "      <td>0.000000</td>\n",
       "    </tr>\n",
       "    <tr>\n",
       "      <th>2018-01-02 20:05:00</th>\n",
       "      <td>0.000611</td>\n",
       "      <td>0.001180</td>\n",
       "      <td>-0.000569</td>\n",
       "      <td>1.002733</td>\n",
       "      <td>0.000610</td>\n",
       "      <td>0.000000</td>\n",
       "      <td>25.470</td>\n",
       "      <td>41.410</td>\n",
       "      <td>0.602438</td>\n",
       "      <td>-1.010860</td>\n",
       "      <td>1.0</td>\n",
       "      <td>0</td>\n",
       "      <td>0.000000</td>\n",
       "    </tr>\n",
       "    <tr>\n",
       "      <th>2018-01-02 20:10:00</th>\n",
       "      <td>0.000786</td>\n",
       "      <td>0.000786</td>\n",
       "      <td>-0.000000</td>\n",
       "      <td>1.003520</td>\n",
       "      <td>0.000784</td>\n",
       "      <td>0.000000</td>\n",
       "      <td>25.490</td>\n",
       "      <td>41.410</td>\n",
       "      <td>0.602438</td>\n",
       "      <td>-0.739180</td>\n",
       "      <td>1.0</td>\n",
       "      <td>0</td>\n",
       "      <td>0.000000</td>\n",
       "    </tr>\n",
       "    <tr>\n",
       "      <th>2018-01-02 20:15:00</th>\n",
       "      <td>0.000000</td>\n",
       "      <td>0.000000</td>\n",
       "      <td>-0.000000</td>\n",
       "      <td>1.003520</td>\n",
       "      <td>0.000000</td>\n",
       "      <td>0.000000</td>\n",
       "      <td>25.490</td>\n",
       "      <td>41.410</td>\n",
       "      <td>0.602438</td>\n",
       "      <td>-0.739180</td>\n",
       "      <td>1.0</td>\n",
       "      <td>0</td>\n",
       "      <td>0.000000</td>\n",
       "    </tr>\n",
       "    <tr>\n",
       "      <th>2018-01-02 20:20:00</th>\n",
       "      <td>-0.000728</td>\n",
       "      <td>0.000000</td>\n",
       "      <td>-0.000728</td>\n",
       "      <td>1.002792</td>\n",
       "      <td>-0.000726</td>\n",
       "      <td>0.000000</td>\n",
       "      <td>25.490</td>\n",
       "      <td>41.460</td>\n",
       "      <td>0.602438</td>\n",
       "      <td>-1.148355</td>\n",
       "      <td>1.0</td>\n",
       "      <td>0</td>\n",
       "      <td>0.000000</td>\n",
       "    </tr>\n",
       "    <tr>\n",
       "      <th>2018-01-02 20:25:00</th>\n",
       "      <td>0.000145</td>\n",
       "      <td>0.000000</td>\n",
       "      <td>0.000145</td>\n",
       "      <td>1.002937</td>\n",
       "      <td>0.000145</td>\n",
       "      <td>0.000000</td>\n",
       "      <td>25.490</td>\n",
       "      <td>41.450</td>\n",
       "      <td>0.602438</td>\n",
       "      <td>-1.066520</td>\n",
       "      <td>1.0</td>\n",
       "      <td>0</td>\n",
       "      <td>0.000000</td>\n",
       "    </tr>\n",
       "    <tr>\n",
       "      <th>2018-01-02 20:30:00</th>\n",
       "      <td>-0.000582</td>\n",
       "      <td>0.000000</td>\n",
       "      <td>-0.000582</td>\n",
       "      <td>1.002355</td>\n",
       "      <td>-0.000580</td>\n",
       "      <td>0.000000</td>\n",
       "      <td>25.490</td>\n",
       "      <td>41.490</td>\n",
       "      <td>0.602438</td>\n",
       "      <td>-1.393861</td>\n",
       "      <td>1.0</td>\n",
       "      <td>0</td>\n",
       "      <td>0.000000</td>\n",
       "    </tr>\n",
       "    <tr>\n",
       "      <th>2018-01-02 20:35:00</th>\n",
       "      <td>0.001367</td>\n",
       "      <td>0.000786</td>\n",
       "      <td>0.000581</td>\n",
       "      <td>1.003722</td>\n",
       "      <td>0.001364</td>\n",
       "      <td>0.000000</td>\n",
       "      <td>25.510</td>\n",
       "      <td>41.450</td>\n",
       "      <td>0.602438</td>\n",
       "      <td>-0.794841</td>\n",
       "      <td>1.0</td>\n",
       "      <td>0</td>\n",
       "      <td>0.000000</td>\n",
       "    </tr>\n",
       "    <tr>\n",
       "      <th>2018-01-02 20:40:00</th>\n",
       "      <td>-0.001309</td>\n",
       "      <td>0.000000</td>\n",
       "      <td>-0.001309</td>\n",
       "      <td>1.002414</td>\n",
       "      <td>-0.001304</td>\n",
       "      <td>0.000000</td>\n",
       "      <td>25.510</td>\n",
       "      <td>41.540</td>\n",
       "      <td>0.602438</td>\n",
       "      <td>-1.531356</td>\n",
       "      <td>1.0</td>\n",
       "      <td>0</td>\n",
       "      <td>0.000000</td>\n",
       "    </tr>\n",
       "    <tr>\n",
       "      <th>2018-01-02 20:45:00</th>\n",
       "      <td>0.000145</td>\n",
       "      <td>0.000000</td>\n",
       "      <td>0.000145</td>\n",
       "      <td>1.002559</td>\n",
       "      <td>0.000145</td>\n",
       "      <td>0.000000</td>\n",
       "      <td>25.510</td>\n",
       "      <td>41.530</td>\n",
       "      <td>0.602438</td>\n",
       "      <td>-1.449521</td>\n",
       "      <td>1.0</td>\n",
       "      <td>0</td>\n",
       "      <td>0.000000</td>\n",
       "    </tr>\n",
       "    <tr>\n",
       "      <th>2018-01-02 20:50:00</th>\n",
       "      <td>0.000290</td>\n",
       "      <td>0.000000</td>\n",
       "      <td>0.000290</td>\n",
       "      <td>1.002849</td>\n",
       "      <td>0.000289</td>\n",
       "      <td>0.000000</td>\n",
       "      <td>25.510</td>\n",
       "      <td>41.510</td>\n",
       "      <td>0.602438</td>\n",
       "      <td>-1.285851</td>\n",
       "      <td>1.0</td>\n",
       "      <td>0</td>\n",
       "      <td>0.000000</td>\n",
       "    </tr>\n",
       "    <tr>\n",
       "      <th>2018-01-02 20:55:00</th>\n",
       "      <td>0.004537</td>\n",
       "      <td>0.005466</td>\n",
       "      <td>-0.000929</td>\n",
       "      <td>1.007386</td>\n",
       "      <td>0.004525</td>\n",
       "      <td>0.007392</td>\n",
       "      <td>25.649</td>\n",
       "      <td>41.574</td>\n",
       "      <td>0.602438</td>\n",
       "      <td>0.078578</td>\n",
       "      <td>1.0</td>\n",
       "      <td>1</td>\n",
       "      <td>0.002881</td>\n",
       "    </tr>\n",
       "    <tr>\n",
       "      <th>2018-01-02 21:00:00</th>\n",
       "      <td>0.000000</td>\n",
       "      <td>0.000000</td>\n",
       "      <td>0.000000</td>\n",
       "      <td>1.007386</td>\n",
       "      <td>0.000000</td>\n",
       "      <td>-0.000000</td>\n",
       "      <td>25.420</td>\n",
       "      <td>41.590</td>\n",
       "      <td>0.602438</td>\n",
       "      <td>-3.163090</td>\n",
       "      <td>0.0</td>\n",
       "      <td>0</td>\n",
       "      <td>-0.000000</td>\n",
       "    </tr>\n",
       "  </tbody>\n",
       "</table>\n",
       "</div>"
      ],
      "text/plain": [
       "                          pnl     pnl_y     pnl_x  account_balance  \\\n",
       "2018-01-02 19:25:00  0.000000  0.000000  0.000000         1.000000   \n",
       "2018-01-02 19:30:00  0.000000  0.000000 -0.000000         1.000000   \n",
       "2018-01-02 19:35:00  0.000393  0.000393 -0.000000         1.000393   \n",
       "2018-01-02 19:40:00  0.001379  0.000000  0.001379         1.001773   \n",
       "2018-01-02 19:45:00  0.000219  0.000000  0.000219         1.001991   \n",
       "2018-01-02 19:50:00  0.000000  0.000000 -0.000000         1.001991   \n",
       "2018-01-02 19:55:00  0.000131  0.000000  0.000131         1.002122   \n",
       "2018-01-02 20:00:00  0.000000  0.000000 -0.000000         1.002122   \n",
       "2018-01-02 20:05:00  0.000611  0.001180 -0.000569         1.002733   \n",
       "2018-01-02 20:10:00  0.000786  0.000786 -0.000000         1.003520   \n",
       "2018-01-02 20:15:00  0.000000  0.000000 -0.000000         1.003520   \n",
       "2018-01-02 20:20:00 -0.000728  0.000000 -0.000728         1.002792   \n",
       "2018-01-02 20:25:00  0.000145  0.000000  0.000145         1.002937   \n",
       "2018-01-02 20:30:00 -0.000582  0.000000 -0.000582         1.002355   \n",
       "2018-01-02 20:35:00  0.001367  0.000786  0.000581         1.003722   \n",
       "2018-01-02 20:40:00 -0.001309  0.000000 -0.001309         1.002414   \n",
       "2018-01-02 20:45:00  0.000145  0.000000  0.000145         1.002559   \n",
       "2018-01-02 20:50:00  0.000290  0.000000  0.000290         1.002849   \n",
       "2018-01-02 20:55:00  0.004537  0.005466 -0.000929         1.007386   \n",
       "2018-01-02 21:00:00  0.000000  0.000000  0.000000         1.007386   \n",
       "\n",
       "                     daily_return  position_return     DGP     UGL      beta  \\\n",
       "2018-01-02 19:25:00      0.000000         0.000000  25.430  41.490  0.602438   \n",
       "2018-01-02 19:30:00      0.000000         0.000000  25.430  41.490  0.602438   \n",
       "2018-01-02 19:35:00      0.000393         0.000000  25.440  41.490  0.602438   \n",
       "2018-01-02 19:40:00      0.001379         0.000000  25.440  41.395  0.602438   \n",
       "2018-01-02 19:45:00      0.000218         0.000000  25.440  41.380  0.602438   \n",
       "2018-01-02 19:50:00      0.000000         0.000000  25.440  41.380  0.602438   \n",
       "2018-01-02 19:55:00      0.000131         0.000000  25.440  41.371  0.602438   \n",
       "2018-01-02 20:00:00      0.000000         0.000000  25.440  41.371  0.602438   \n",
       "2018-01-02 20:05:00      0.000610         0.000000  25.470  41.410  0.602438   \n",
       "2018-01-02 20:10:00      0.000784         0.000000  25.490  41.410  0.602438   \n",
       "2018-01-02 20:15:00      0.000000         0.000000  25.490  41.410  0.602438   \n",
       "2018-01-02 20:20:00     -0.000726         0.000000  25.490  41.460  0.602438   \n",
       "2018-01-02 20:25:00      0.000145         0.000000  25.490  41.450  0.602438   \n",
       "2018-01-02 20:30:00     -0.000580         0.000000  25.490  41.490  0.602438   \n",
       "2018-01-02 20:35:00      0.001364         0.000000  25.510  41.450  0.602438   \n",
       "2018-01-02 20:40:00     -0.001304         0.000000  25.510  41.540  0.602438   \n",
       "2018-01-02 20:45:00      0.000145         0.000000  25.510  41.530  0.602438   \n",
       "2018-01-02 20:50:00      0.000289         0.000000  25.510  41.510  0.602438   \n",
       "2018-01-02 20:55:00      0.004525         0.007392  25.649  41.574  0.602438   \n",
       "2018-01-02 21:00:00      0.000000        -0.000000  25.420  41.590  0.602438   \n",
       "\n",
       "                     norm_spread  position_during_day  trading_duration  \\\n",
       "2018-01-02 19:25:00    -2.208900                  0.0                 0   \n",
       "2018-01-02 19:30:00    -2.208900                  1.0                 0   \n",
       "2018-01-02 19:35:00    -2.073060                  1.0                 0   \n",
       "2018-01-02 19:40:00    -1.295626                  1.0                 0   \n",
       "2018-01-02 19:45:00    -1.172874                  1.0                 0   \n",
       "2018-01-02 19:50:00    -1.172874                  1.0                 0   \n",
       "2018-01-02 19:55:00    -1.099222                  1.0                 0   \n",
       "2018-01-02 20:00:00    -1.099222                  1.0                 0   \n",
       "2018-01-02 20:05:00    -1.010860                  1.0                 0   \n",
       "2018-01-02 20:10:00    -0.739180                  1.0                 0   \n",
       "2018-01-02 20:15:00    -0.739180                  1.0                 0   \n",
       "2018-01-02 20:20:00    -1.148355                  1.0                 0   \n",
       "2018-01-02 20:25:00    -1.066520                  1.0                 0   \n",
       "2018-01-02 20:30:00    -1.393861                  1.0                 0   \n",
       "2018-01-02 20:35:00    -0.794841                  1.0                 0   \n",
       "2018-01-02 20:40:00    -1.531356                  1.0                 0   \n",
       "2018-01-02 20:45:00    -1.449521                  1.0                 0   \n",
       "2018-01-02 20:50:00    -1.285851                  1.0                 0   \n",
       "2018-01-02 20:55:00     0.078578                  1.0                 1   \n",
       "2018-01-02 21:00:00    -3.163090                  0.0                 0   \n",
       "\n",
       "                     position_ret_with_costs  \n",
       "2018-01-02 19:25:00                 0.000000  \n",
       "2018-01-02 19:30:00                 0.000000  \n",
       "2018-01-02 19:35:00                 0.000000  \n",
       "2018-01-02 19:40:00                 0.000000  \n",
       "2018-01-02 19:45:00                 0.000000  \n",
       "2018-01-02 19:50:00                 0.000000  \n",
       "2018-01-02 19:55:00                 0.000000  \n",
       "2018-01-02 20:00:00                 0.000000  \n",
       "2018-01-02 20:05:00                 0.000000  \n",
       "2018-01-02 20:10:00                 0.000000  \n",
       "2018-01-02 20:15:00                 0.000000  \n",
       "2018-01-02 20:20:00                 0.000000  \n",
       "2018-01-02 20:25:00                 0.000000  \n",
       "2018-01-02 20:30:00                 0.000000  \n",
       "2018-01-02 20:35:00                 0.000000  \n",
       "2018-01-02 20:40:00                 0.000000  \n",
       "2018-01-02 20:45:00                 0.000000  \n",
       "2018-01-02 20:50:00                 0.000000  \n",
       "2018-01-02 20:55:00                 0.002881  \n",
       "2018-01-02 21:00:00                -0.000000  "
      ]
     },
     "execution_count": 788,
     "metadata": {},
     "output_type": "execute_result"
    }
   ],
   "source": [
    "performance_threshold_test[6][1]['2018-01-02 19:25:00':'2018-01-02 21:00:00']"
   ]
  },
  {
   "cell_type": "code",
   "execution_count": 789,
   "metadata": {},
   "outputs": [
    {
     "data": {
      "text/plain": [
       "0.0073859360333433394"
      ]
     },
     "execution_count": 789,
     "metadata": {},
     "output_type": "execute_result"
    }
   ],
   "source": [
    "performance_threshold_test[6][1]['2018-01-02 19:25:00':'2018-01-02 21:00:00'].pnl_x.sum() + \\\n",
    "performance_threshold_test[6][1]['2018-01-02 19:25:00':'2018-01-02 21:00:00'].pnl_y.sum()"
   ]
  },
  {
   "cell_type": "code",
   "execution_count": 680,
   "metadata": {},
   "outputs": [
    {
     "data": {
      "text/plain": [
       "<matplotlib.axes._subplots.AxesSubplot at 0x24925ea58>"
      ]
     },
     "execution_count": 680,
     "metadata": {},
     "output_type": "execute_result"
    },
    {
     "data": {
      "image/png": "[encoded data removed]",
      "text/plain": [
       "<matplotlib.figure.Figure at 0x249273128>"
      ]
     },
     "metadata": {},
     "output_type": "display_data"
    }
   ],
   "source": [
    "performance_threshold_test[6][1].DGP.plot()\n",
    "performance_threshold_test[6][1].UGL.plot()\n",
    "#performance_threshold_test[6][1].norm_spread.plot(figsize=(20,10))"
   ]
  },
  {
   "cell_type": "code",
   "execution_count": 673,
   "metadata": {},
   "outputs": [
    {
     "data": {
      "text/plain": [
       "<matplotlib.axes._subplots.AxesSubplot at 0x247a9b588>"
      ]
     },
     "execution_count": 673,
     "metadata": {},
     "output_type": "execute_result"
    },
    {
     "data": {
      "image/png": "[encoded data removed]",
      "text/plain": [
       "<matplotlib.figure.Figure at 0x247aafa20>"
      ]
     },
     "metadata": {},
     "output_type": "display_data"
    }
   ],
   "source": [
    "performance_threshold_test[6][1][:'2018-01-11'].account_balance.plot()"
   ]
  },
  {
   "cell_type": "code",
   "execution_count": 650,
   "metadata": {},
   "outputs": [
    {
     "data": {
      "text/plain": [
       "<matplotlib.axes._subplots.AxesSubplot at 0x245a734e0>"
      ]
     },
     "execution_count": 650,
     "metadata": {},
     "output_type": "execute_result"
    },
    {
     "data": {
      "image/png": "[encoded data removed]",
      "text/plain": [
       "<matplotlib.figure.Figure at 0x245d53b00>"
      ]
     },
     "metadata": {},
     "output_type": "display_data"
    }
   ],
   "source": [
    "performance_threshold_test[6][1].daily_return.plot()"
   ]
  },
  {
   "cell_type": "code",
   "execution_count": 568,
   "metadata": {
    "scrolled": false
   },
   "outputs": [
    {
     "name": "stdout",
     "output_type": "stream",
     "text": [
      "14.143706859404137\n",
      "11.509162928488493\n",
      "17.80030977000411\n",
      "16.513273955088238\n",
      "10.916418634459557\n",
      "8.892473995248974\n",
      "181.33047512427325\n",
      "26.080458533684304\n",
      "-0.7086139489076104\n"
     ]
    },
    {
     "data": {
      "text/plain": [
       "31.830851761304828"
      ]
     },
     "execution_count": 568,
     "metadata": {},
     "output_type": "execute_result"
    }
   ],
   "source": [
    "aux = []\n",
    "for i in range(len(pairs)):\n",
    "    print((performance_threshold_test[i][1].account_balance[-1]-1)*100)\n",
    "    aux.append((performance_threshold_test[i][1].account_balance[-1]-1)*100)\n",
    "np.mean(aux)       "
   ]
  },
  {
   "cell_type": "code",
   "execution_count": 577,
   "metadata": {},
   "outputs": [
    {
     "name": "stdout",
     "output_type": "stream",
     "text": [
      "0.09697141774003791\n",
      "-0.008046677787548391\n"
     ]
    }
   ],
   "source": [
    "print(performance_threshold_test[5][1].pnl_y.sum())\n",
    "print(performance_threshold_test[5][1].pnl_x.sum())"
   ]
  },
  {
   "cell_type": "markdown",
   "metadata": {},
   "source": [
    "**Transaction costs**"
   ]
  },
  {
   "cell_type": "code",
   "execution_count": 190,
   "metadata": {},
   "outputs": [
    {
     "name": "stdout",
     "output_type": "stream",
     "text": [
      "0.0012009821101279506\n",
      "-0.0014815255323729639\n",
      "0.0013084223332650296\n",
      "0.005675987898940393\n",
      "0.001246774610564136\n",
      "0.0011664430080722662\n",
      "-0.0002351822386724612\n",
      "-0.0005264111241788798\n",
      "0.00038015172913675435\n",
      "0.006550134119335703\n",
      "0.0011968819105392938\n",
      "-0.0014621919477046555\n",
      "0.0037468443485450024\n",
      "0.0024592041055262405\n",
      "0.005498101183878015\n",
      "-0.002438208074343173\n",
      "nan\n"
     ]
    }
   ],
   "source": [
    "for i in range(len(profitable_pairs)):\n",
    "    print(performance_kalman_test[i][1][performance_kalman_test[i][1].ret != 0].ret.mean())"
   ]
  },
  {
   "cell_type": "markdown",
   "metadata": {},
   "source": [
    "**Controlling for range of returns**"
   ]
  },
  {
   "cell_type": "code",
   "execution_count": null,
   "metadata": {},
   "outputs": [],
   "source": [
    "print('Maximum return obtained in a single trade, per pair')\n",
    "for i in range(len(profitable_pairs)):\n",
    "    print(performance_kalman_test[i][1]['position_return_(%)'].max())"
   ]
  },
  {
   "cell_type": "code",
   "execution_count": null,
   "metadata": {},
   "outputs": [],
   "source": [
    "print('Worst return obtained in a single trade, per pair')\n",
    "for i in range(len(profitable_pairs)):\n",
    "    print(performance_kalman_test[i][1]['position_return_(%)'].min())"
   ]
  },
  {
   "cell_type": "markdown",
   "metadata": {},
   "source": [
    "Tanto as returns máximas como as mínimas parecem ter valores dentro da normalidade."
   ]
  },
  {
   "cell_type": "markdown",
   "metadata": {},
   "source": [
    "## Training vs Validation"
   ]
  },
  {
   "cell_type": "markdown",
   "metadata": {},
   "source": [
    "For a far comparison, we should compare the test resuls with the results obtained in the training set, but also using only the profitable pairs:"
   ]
  },
  {
   "cell_type": "code",
   "execution_count": null,
   "metadata": {},
   "outputs": [],
   "source": [
    "entry_multiplier= config['trading']['entry_multiplier']\n",
    "exit_multiplier= config['trading']['exit_multiplier']\n",
    "sharpe_results_kalman, cum_returns_kalman, performance_kalman = trader.apply_kalman_strategy(profitable_pairs, \n",
    "                                                                                             entry_multiplier,\n",
    "                                                                                             exit_multiplier,\n",
    "                                                                                             trading_filter,\n",
    "                                                                                             test_mode=False)\n",
    "avg_sharpe_kalman, total_roi_kalman, anual_roi_kalman, positive_pct_kalman = \\\n",
    "    trader.calculate_metrics(sharpe_results_kalman, cum_returns_kalman, n_years_train)"
   ]
  },
  {
   "cell_type": "code",
   "execution_count": null,
   "metadata": {},
   "outputs": [],
   "source": [
    "print('The sharpe ratio obtained in the training set with the pairs used on the test set is ', avg_sharpe_kalman)\n",
    "print('The sharpe ratio obtained in the test set is ', avg_sharpe_kalman_test)"
   ]
  },
  {
   "cell_type": "markdown",
   "metadata": {},
   "source": [
    "As expected, the sharpe ratio is indeed higher in the training set."
   ]
  },
  {
   "cell_type": "code",
   "execution_count": null,
   "metadata": {},
   "outputs": [],
   "source": [
    "len(pairs)"
   ]
  },
  {
   "cell_type": "code",
   "execution_count": null,
   "metadata": {},
   "outputs": [],
   "source": [
    "len(profitable_pairs)"
   ]
  },
  {
   "cell_type": "markdown",
   "metadata": {},
   "source": [
    "## Analyzing Pairs' Overlap"
   ]
  },
  {
   "cell_type": "markdown",
   "metadata": {},
   "source": [
    "There could be two possible interpretations for pairs' overlap.\n",
    "1. We might be interested in checking which of the cointegrated pairs found in the training dataset are also cointegrated in the test set; Furthermore we want to explore how the two types of pairs perform.\n",
    "2. We might be interested in finding if the pairs that would have been found in the test set by performing PCA + clustering would be cointegrated in the training set."
   ]
  },
  {
   "cell_type": "markdown",
   "metadata": {},
   "source": [
    "Starting with **1)**, let's see how many of the identified pairs actually turned out to be cointegrated during this period."
   ]
  },
  {
   "cell_type": "code",
   "execution_count": null,
   "metadata": {},
   "outputs": [],
   "source": [
    "pairs_overlapped, pairs_overlapped_index = series_analyser.pairs_overlap(pairs,\n",
    "                                  config['pair_restrictions']['p_value_threshold'],\n",
    "                                  config['pair_restrictions']['min_zero_crossings'],\n",
    "                                  config['pair_restrictions']['min_half_life'],\n",
    "                                  config['pair_restrictions']['hurst_threshold'])\n",
    "print('{} of the {} pairs identified in the training set are also cointegrated in the test set'.format(\\\n",
    "    len(pairs_overlapped), len(pairs)))"
   ]
  },
  {
   "cell_type": "code",
   "execution_count": null,
   "metadata": {},
   "outputs": [],
   "source": [
    "profitable_pairs_overlapped, profitable_pairs_overlapped_index = series_analyser.pairs_overlap(profitable_pairs,\n",
    "                                  config['pair_restrictions']['p_value_threshold'],\n",
    "                                  config['pair_restrictions']['min_zero_crossings'],\n",
    "                                  config['pair_restrictions']['min_half_life'],\n",
    "                                  config['pair_restrictions']['hurst_threshold'])\n",
    "print('{} of the {} pairs with positive returns identified in the training set are also cointegrated in the test set'.format(\\\n",
    "    len(profitable_pairs_overlapped), len(profitable_pairs)))"
   ]
  },
  {
   "cell_type": "markdown",
   "metadata": {},
   "source": [
    "### Is cointegration really important?\n",
    "\n",
    "To answer this question we will see how many of the still cointegrated pairs had positive and negative returns. We will then do the same for those pairs that were not cointegrated. \n",
    "\n",
    "If both are as likely to have positive and negative returns, then it means cointegration is not as important of a condition. On the other hand, if we verify that all pairs that are still cointegrated turned out to be profitable and those that are not anymore led to consistent negative returns, we can infer that cointegration is a very important predictor of future returns.\n",
    "\n",
    "We also compare the average performance of the two groups two see the relevance of being cointegrated with respect to the sharpe ratio obtained."
   ]
  },
  {
   "cell_type": "markdown",
   "metadata": {},
   "source": [
    "*Still cointegrated*"
   ]
  },
  {
   "cell_type": "code",
   "execution_count": null,
   "metadata": {},
   "outputs": [],
   "source": [
    "# distribution for pairs which were cointegrated in train and test\n",
    "sharpe_results_pairs_overlapped = np.asarray([sharpe_results_kalman_test[index] for index \\\n",
    "                                              in profitable_pairs_overlapped_index])\n",
    "cum_returns_pairs_overlapped = np.asarray([cum_returns_kalman_test[index] for index \\\n",
    "                                              in profitable_pairs_overlapped_index])\n",
    "\n",
    "if len(sharpe_results_pairs_overlapped)>0:\n",
    "    _,_,_,_ = trader.calculate_metrics(sharpe_results_pairs_overlapped, cum_returns_pairs_overlapped,\n",
    "                                   n_years_test)\n",
    "else:\n",
    "    print('0% of the pairs cointegrated in the train are also cointegrated in the test set')"
   ]
  },
  {
   "cell_type": "markdown",
   "metadata": {},
   "source": [
    "*Not cointegrated anymore*"
   ]
  },
  {
   "cell_type": "code",
   "execution_count": null,
   "metadata": {},
   "outputs": [],
   "source": [
    "# distribution for pairs which were cointegrated in train but not in test\n",
    "profitable_pairs_not_overlapped_index = [i for i in np.arange(0,len(profitable_pairs))\\\n",
    "                                         if i not in profitable_pairs_overlapped_index]\n",
    "\n",
    "sharpe_results_pairs_not_overlapped = np.asarray([sharpe_results_kalman_test[index] for index \\\n",
    "                                              in profitable_pairs_not_overlapped_index])\n",
    "\n",
    "cum_returns_pairs_not_overlapped = np.asarray([cum_returns_kalman_test[index] for index \\\n",
    "                                              in profitable_pairs_not_overlapped_index])\n",
    "\n",
    "_,_,_,_ = trader.calculate_metrics(sharpe_results_pairs_not_overlapped, cum_returns_pairs_not_overlapped,\n",
    "                                   n_years_test)"
   ]
  },
  {
   "cell_type": "markdown",
   "metadata": {},
   "source": [
    "Answering to the first question we were concerned with, we verify that a cointegrated pair is indeed more likely to have a positive return. Furthermore, we can conclude from the results that being cointegrated implied that those pairs generated higher returns. \n",
    "\n",
    "**TO REVIEW:Conclusion**: The fact that a pair is not cointegrated anymore does not impact the results obained. In fact, we just concluded that betting solely on the cointegrated pairs would yield a worse result. Therefore, we should not spend much effort in detecting pairs that are no cointegrated anymore."
   ]
  },
  {
   "cell_type": "markdown",
   "metadata": {},
   "source": [
    "Following with point number **2)**, we proceed to analyze the performance of the pairs that woud have been identified in the testing period."
   ]
  },
  {
   "cell_type": "code",
   "execution_count": null,
   "metadata": {},
   "outputs": [],
   "source": [
    "initial_test_date = config['dataset']['testing_initial_date']\n",
    "final_teste_date = config['dataset']['testing_final_date']\n",
    "\n",
    "# Get returns for test period\n",
    "df_returns_test = data_processor.get_return_series(df_prices_test)\n",
    "\n",
    "# APPLY PCA and CLUSTERING\n",
    "range_n_components = config['PCA']['N_COMPONENTS']\n",
    "X_test, clustered_series_all_test, clustered_series_test, counts_test, clf_test = \\\n",
    "            series_analyser.clustering_for_optimal_PCA(range_n_components[0], range_n_components[1],\n",
    "                                                       df_returns_test, config['clustering'])\n",
    "# Find pairs\n",
    "pairs_test, unique_tickers_test = series_analyser.get_candidate_pairs(\\\n",
    "                                            clustered_series=clustered_series_test,\n",
    "                                            pricing_df_train=df_prices_test,\n",
    "                                            pricing_df_test=df_prices_train,\n",
    "                                            min_half_life=config['pair_restrictions']['min_half_life'],\n",
    "                                            min_zero_crosings=config['pair_restrictions']['min_zero_crossings'],\n",
    "                                            p_value_threshold=config['pair_restrictions']['p_value_threshold'],\n",
    "                                            hurst_threshold=config['pair_restrictions']['hurst_threshold']\n",
    "                                            )\n",
    "\n",
    "# Finally, see overlap\n",
    "pairs_overlapped, pairs_overlapped_index = series_analyser.pairs_overlap(pairs_test,\n",
    "                                  config['pair_restrictions']['p_value_threshold'],\n",
    "                                  config['pair_restrictions']['min_zero_crossings'],\n",
    "                                  config['pair_restrictions']['min_half_life'],\n",
    "                                  config['pair_restrictions']['hurst_threshold'])\n",
    "print('{} of the {} pairs identified in the test set are also cointegrated in the training set'.format(\\\n",
    "    len(pairs_overlapped), len(pairs_test)))"
   ]
  },
  {
   "cell_type": "markdown",
   "metadata": {},
   "source": [
    "Let's see if the pairs identified in the test period lead indeed to improved results:"
   ]
  },
  {
   "cell_type": "code",
   "execution_count": null,
   "metadata": {
    "scrolled": true
   },
   "outputs": [],
   "source": [
    "sharpe_results_kalman_test_newpairs, cum_returns_kalman_test_newpairs, performance_kalman_test_newpairs =\\\n",
    "    trader.apply_kalman_strategy(pairs_test, entry_multiplier,exit_multiplier,trading_filter, test_mode=False)\n",
    "\n",
    "_,_,_,_ = trader.calculate_metrics(sharpe_results_kalman_test_newpairs, cum_returns_kalman_test_newpairs,\n",
    "                                   n_years_test)"
   ]
  },
  {
   "cell_type": "markdown",
   "metadata": {},
   "source": [
    "The sharpe ratio is higher in this scenatio. Note hoewever, that the annual ROI is not so high as the pairs identified previously. This might be linked with the fact that these pairs did not prove to be cointegrated for a period as long as the other and therefore the pairs might be less stable."
   ]
  },
  {
   "cell_type": "markdown",
   "metadata": {},
   "source": [
    "## Analyzing the influence of pairs statistics\n",
    "\n",
    "It's interesting to analyze whether we could have used extra information from the pairs trading statistic, instead of considering it just as a pass or not pass test. `Law 2017` explore this concept on their paper (htey basically rank pairs according to a trade off between t-statistic and spread deviation from its mean). However, what we see below is that there is no obvious influence of any parameter in the performance of the corresponding pair."
   ]
  },
  {
   "cell_type": "code",
   "execution_count": null,
   "metadata": {},
   "outputs": [],
   "source": [
    "pairs_summary.corr()[['sharpe_result', 'positive_trades_per_pair_pct']].loc[['t_statistic', 'p_value',\n",
    "                                                                             'zero_cross', 'half_life',\n",
    "                                                                             'hurst_exponent']]"
   ]
  },
  {
   "cell_type": "markdown",
   "metadata": {},
   "source": [
    "### The Correlation Filter\n",
    "\n",
    "The correlation filter aims to track how the correlation between the two legs of tha pair is varing, and provide that information as input to the trading strategy."
   ]
  },
  {
   "cell_type": "code",
   "execution_count": null,
   "metadata": {},
   "outputs": [],
   "source": [
    "example_pair = failed_pairs[2]\n",
    "\n",
    "example_pair_leg1 = example_pair[0][0]\n",
    "example_pair_leg2 = example_pair[0][1]\n",
    "\n",
    "example_pair_prices = etfs_pricing[[example_pair_leg1, example_pair_leg2]]\n",
    "example_pair_prices.plot(figsize=(15,5))\n",
    "\n",
    "\n",
    "# proceed to calculate correlation\n",
    "rolling_window = config['trading']['lookback_multiplier']*example_pair[0][2]['half_life']\n",
    "\n",
    "# get returns\n",
    "example_pair_returns = data_processor.get_return_series(example_pair_prices)\n",
    "\n",
    "# analyze correlation on returns\n",
    "example_correlation = example_pair_returns[example_pair_leg1].rolling(rolling_window).corr(example_pair_returns[example_pair_leg2])\n",
    "\n",
    "# plot correlation of returns\n",
    "diff_example_correlation = example_correlation.diff(periods=1)\n",
    "#diff_example_correlation = diff_example_correlation*10\n",
    "diff_example_correlation.plot()"
   ]
  },
  {
   "cell_type": "markdown",
   "metadata": {},
   "source": [
    "This result indicates there's almost no correlation between correlation diff and returns... Let's see how this result varies on average:"
   ]
  },
  {
   "cell_type": "code",
   "execution_count": null,
   "metadata": {},
   "outputs": [],
   "source": [
    "failure_correlations = []\n",
    "for failure in failed_pairs:\n",
    "    failure_df = failure[1][failure[1].units != 0]\n",
    "    correlation = failure_df['ret'].corr(failure_df['correlation'])\n",
    "    failure_correlations.append(correlation)\n",
    "    \n",
    "print(np.mean(failure_correlations))"
   ]
  },
  {
   "cell_type": "markdown",
   "metadata": {},
   "source": [
    "However, we are not realyy interested in the correlation of the the diff column, but rather on the correlation with its sign."
   ]
  },
  {
   "cell_type": "code",
   "execution_count": null,
   "metadata": {},
   "outputs": [],
   "source": [
    "failure_correlations = []\n",
    "for failure in failed_pairs:\n",
    "    failure_df = failure[1][failure[1].units != 0]\n",
    "    failure_df['diff_correlation_sign']=failure_df['diff_correlation'].apply(lambda row: -1 if row<0 else 1)\n",
    "    correlation = failure_df['ret'].corr(failure_df['diff_correlation_sign'])\n",
    "    failure_correlations.append(correlation)\n",
    "    \n",
    "print(np.mean(failure_correlations))"
   ]
  },
  {
   "cell_type": "markdown",
   "metadata": {},
   "source": [
    "We could use mutual information rather than correlation as the sign is discrete. What about the relation with the zscore evolution?"
   ]
  },
  {
   "cell_type": "markdown",
   "metadata": {},
   "source": [
    "### Analyze non-profitable pairs"
   ]
  },
  {
   "cell_type": "code",
   "execution_count": null,
   "metadata": {},
   "outputs": [],
   "source": [
    "sharpe_results_kalman_test = np.asarray(sharpe_results_kalman_test)\n",
    "negative_pairs_indices = np.argwhere(sharpe_results_kalman_test < 0)\n",
    "print('{} out of {} pairs turned out to be non-profitable'.format(len(negative_pairs_indices), len(pairs)))"
   ]
  },
  {
   "cell_type": "markdown",
   "metadata": {},
   "source": [
    "Let's get some more information on the non-profitable pairs:"
   ]
  },
  {
   "cell_type": "code",
   "execution_count": null,
   "metadata": {},
   "outputs": [],
   "source": [
    "negative_pairs = [pairs[i] for i in negative_pairs_indices.flatten()]\n",
    "negative_pairs = [(item[0], item[1]) for item in negative_pairs]\n",
    "negative_pairs"
   ]
  },
  {
   "cell_type": "markdown",
   "metadata": {},
   "source": [
    "To what clusters do these pairs belong?"
   ]
  },
  {
   "cell_type": "code",
   "execution_count": null,
   "metadata": {},
   "outputs": [],
   "source": [
    "for label_n in range(len(counts)):\n",
    "    elements_cluster_n = list(clustered_series[clustered_series == label_n].index)\n",
    "    etfs_cluster_n = etfs_unique[etfs_unique['Ticker'].isin(elements_cluster_n)]\n",
    "    for pair in negative_pairs:\n",
    "        if pair[0] in list(etfs_cluster_n.Ticker):\n",
    "            print('Pair {} belongs to cluster {}'.format(pair, label_n))"
   ]
  },
  {
   "cell_type": "markdown",
   "metadata": {},
   "source": [
    "How do the statistics rank?"
   ]
  },
  {
   "cell_type": "code",
   "execution_count": null,
   "metadata": {},
   "outputs": [],
   "source": [
    "sorted_indices = np.flip(np.argsort(sharpe_results_bollinger), axis=0)\n",
    "\n",
    "# initialize list of lists \n",
    "data = []\n",
    "for index in sorted_indices:\n",
    "    # get number of positive and negative positions\n",
    "    position_returns = performance_bollinger[index][1].position_return\n",
    "    positive_positions = len(position_returns[position_returns>0])\n",
    "    negative_positions = len(position_returns[position_returns<0])\n",
    "    data.append([pairs[index][0],\n",
    "                 pairs[index][1],\n",
    "                 pairs[index][2]['t_statistic'],\n",
    "                 pairs[index][2]['p_value'],\n",
    "                 pairs[index][2]['zero_cross'],\n",
    "                 pairs[index][2]['half_life'],\n",
    "                 pairs[index][2]['hurst_exponent'],\n",
    "                 positive_positions,\n",
    "                 negative_positions,\n",
    "                 sharpe_results_bollinger[index]\n",
    "                ])\n",
    "      \n",
    "# Create the pandas DataFrame \n",
    "df = pd.DataFrame(data, columns = ['Leg1', 'Leg2', 't_statistic', 'p_value', 'zero_cross',\n",
    "                                   'half_life', 'hurst_exponent', 'positive trades', 'negative_trades',\n",
    "                                   'sharpe_result']) \n",
    "df"
   ]
  },
  {
   "cell_type": "code",
   "execution_count": null,
   "metadata": {},
   "outputs": [],
   "source": [
    "df.half_life.mean()"
   ]
  },
  {
   "cell_type": "code",
   "execution_count": null,
   "metadata": {},
   "outputs": [],
   "source": [
    "# analyze correlations\n",
    "print('Half-life vs Sharpe Ratio correlation: ', df['sharpe_result'].corr(df['half_life']))\n",
    "print('Zero crossings vs Sharpe Ratio correlation: ', df['sharpe_result'].corr(df['zero_cross']))\n",
    "print('p-value vs Sharpe Ratio correlation: ', df['sharpe_result'].corr(df['p_value']))\n",
    "print('t-statistic vs Sharpe Ratio correlation: ', df['sharpe_result'].corr(df['t_statistic']))\n",
    "print('Hurst exponent vs Sharpe Ratio correlation ', df['sharpe_result'].corr(df['hurst_exponent']))"
   ]
  },
  {
   "cell_type": "markdown",
   "metadata": {},
   "source": [
    "Are there any signs these pairs were not profitable as the strategy evolves? Could we have predicted their lack of profitability?\n",
    "- Using a ML algorithm that recognizes when a pair is not profitable anymore.\n",
    "- Checking how the hurst exponent has been changing.\n",
    "- Analyze their previous positions' returns"
   ]
  }
 ],
 "metadata": {
  "kernelspec": {
   "display_name": "Python [conda root]",
   "language": "python",
   "name": "conda-root-py"
  },
  "language_info": {
   "codemirror_mode": {
    "name": "ipython",
    "version": 3
   },
   "file_extension": ".py",
   "mimetype": "text/x-python",
   "name": "python",
   "nbconvert_exporter": "python",
   "pygments_lexer": "ipython3",
   "version": "3.6.0"
  }
 },
 "nbformat": 4,
 "nbformat_minor": 2
}
