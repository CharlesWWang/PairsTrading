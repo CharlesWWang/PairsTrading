{
 "cells": [
  {
   "cell_type": "markdown",
   "metadata": {},
   "source": [
    "# A benchmark Pairs Trading strategy \n",
    "\n",
    "This notebook explores a pairs trading strategy using bollinger bands. This projected is being developed as part of a master thesis for the degree of Electrical and Computer Engineering.\n",
    "\n",
    "**Author:** Simão Moraes Sarmento <br /> \n",
    "**Contact:** simaosarmento@hotmail.com"
   ]
  },
  {
   "cell_type": "markdown",
   "metadata": {},
   "source": [
    "## Dependencies\n",
    "\n",
    "This notebook requires code from:\n",
    "\n",
    "Python files:\n",
    "- `class_SeriesAnalyser.py` - contains a set of functions to deal with time series analysis.\n",
    "- `class_Trader.py` - contains a set of functions concerning trading strategies.\n",
    "- `class_DataProcessor.py` - contains a set of functions concerning the data pre processing.\n",
    "\n",
    "Pickle files:\n",
    "- pickle file containing pairs to be traded (obtained from running `PairsTrading_CommodityETFs-Clustering.ipynb`)\n",
    "\n",
    "As a good practise, the notebook solely intends to exemplify the application of different trading strategies for different dataset examples, rather than coding the strategies theirselves. Please look into the files menitoned above for more detailed info on how the functions are built."
   ]
  },
  {
   "cell_type": "markdown",
   "metadata": {},
   "source": [
    "### Import Libraries"
   ]
  },
  {
   "cell_type": "code",
   "execution_count": 30,
   "metadata": {},
   "outputs": [],
   "source": [
    "import numpy as np\n",
    "import pandas as pd\n",
    "import pickle\n",
    "\n",
    "import json\n",
    "\n",
    "import statsmodels\n",
    "import statsmodels.api as sm\n",
    "from statsmodels.tsa.stattools import coint, adfuller\n",
    "\n",
    "import matplotlib.pyplot as plt\n",
    "import matplotlib.cm as cm\n",
    "\n",
    "# Import Datetime and the Pandas DataReader\n",
    "from datetime import datetime\n",
    "from pandas_datareader import data, wb\n",
    "\n",
    "# Import alpha vantage\n",
    "from alpha_vantage.timeseries import TimeSeries\n",
    "\n",
    "# Import scikit instruments\n",
    "from sklearn.cluster import DBSCAN\n",
    "from sklearn.decomposition import PCA\n",
    "from sklearn.manifold import TSNE\n",
    "from sklearn import preprocessing\n",
    "from sklearn.metrics import silhouette_score\n",
    "\n",
    "# just set the seed for the random number generator\n",
    "np.random.seed(107)"
   ]
  },
  {
   "cell_type": "markdown",
   "metadata": {},
   "source": [
    "### Import Configurations"
   ]
  },
  {
   "cell_type": "code",
   "execution_count": 31,
   "metadata": {},
   "outputs": [],
   "source": [
    "config_file = 'config/config_commodities_2010_2019.json'"
   ]
  },
  {
   "cell_type": "code",
   "execution_count": 32,
   "metadata": {},
   "outputs": [],
   "source": [
    "with open(config_file, 'r') as f:\n",
    "    config = json.load(f)"
   ]
  },
  {
   "cell_type": "markdown",
   "metadata": {},
   "source": [
    "### Import Classes"
   ]
  },
  {
   "cell_type": "code",
   "execution_count": 33,
   "metadata": {},
   "outputs": [
    {
     "name": "stdout",
     "output_type": "stream",
     "text": [
      "The autoreload extension is already loaded. To reload it, use:\n",
      "  %reload_ext autoreload\n"
     ]
    }
   ],
   "source": [
    "%load_ext autoreload\n",
    "%aimport class_SeriesAnalyser, class_Trader, class_DataProcessor\n",
    "%autoreload 1"
   ]
  },
  {
   "cell_type": "code",
   "execution_count": 34,
   "metadata": {},
   "outputs": [],
   "source": [
    "series_analyser = class_SeriesAnalyser.SeriesAnalyser()\n",
    "trader = class_Trader.Trader()\n",
    "data_processor = class_DataProcessor.DataProcessor()"
   ]
  },
  {
   "cell_type": "markdown",
   "metadata": {},
   "source": [
    "# Retrieve prices data set"
   ]
  },
  {
   "cell_type": "markdown",
   "metadata": {},
   "source": [
    "We start by retrieving the data from a Dataframe saved in a pickle file, as it was previously processed in the `PairsTrading_CommodityETFS_Datapreprocessing.ipynb` notebook."
   ]
  },
  {
   "cell_type": "code",
   "execution_count": 35,
   "metadata": {},
   "outputs": [],
   "source": [
    "df_prices = pd.read_pickle('data/etfs/pickle/commodity_ETFs_long_updated')"
   ]
  },
  {
   "cell_type": "code",
   "execution_count": 36,
   "metadata": {},
   "outputs": [
    {
     "name": "stdout",
     "output_type": "stream",
     "text": [
      "Total of 208 tickers\n",
      "Total of 71 tickers after removing tickers with Nan values\n"
     ]
    }
   ],
   "source": [
    "# split data in training and test\n",
    "df_prices_train, df_prices_test = data_processor.split_data(df_prices,\n",
    "                                                            ('01-01-2009',\n",
    "                                                             '31-12-2017'),\n",
    "                                                            ('01-01-2018',\n",
    "                                                             '31-12-2018'),\n",
    "                                                            remove_nan=True)"
   ]
  },
  {
   "cell_type": "code",
   "execution_count": 37,
   "metadata": {},
   "outputs": [
    {
     "data": {
      "text/plain": [
       "2516"
      ]
     },
     "execution_count": 37,
     "metadata": {},
     "output_type": "execute_result"
    }
   ],
   "source": [
    "len(df_prices_train)+len(df_prices_test)"
   ]
  },
  {
   "cell_type": "markdown",
   "metadata": {},
   "source": [
    "# Load Pairs"
   ]
  },
  {
   "cell_type": "code",
   "execution_count": 38,
   "metadata": {},
   "outputs": [],
   "source": [
    "with open('data/etfs/pickle/pairs_unsupervised_learning.pickle', 'rb') as handle:\n",
    "    pairs = pickle.load(handle)\n",
    "\n",
    "#with open('data/etfs/pickle/pairs_category.pickle', 'rb') as handle:\n",
    "#    pairs = pickle.load(handle)"
   ]
  },
  {
   "cell_type": "code",
   "execution_count": 39,
   "metadata": {},
   "outputs": [],
   "source": [
    "lookback_multiplier= config['trading']['lookback_multiplier']\n",
    "entry_multiplier= config['trading']['entry_multiplier']\n",
    "exit_multiplier= config['trading']['exit_multiplier']\n",
    "# obtain trading filter info\n",
    "if config['trading_filter']['active'] == 1:\n",
    "    trading_filter = config['trading_filter']\n",
    "else:\n",
    "    trading_filter = None"
   ]
  },
  {
   "cell_type": "code",
   "execution_count": 40,
   "metadata": {},
   "outputs": [
    {
     "data": {
      "text/plain": [
       "9"
      ]
     },
     "execution_count": 40,
     "metadata": {},
     "output_type": "execute_result"
    }
   ],
   "source": [
    "n_years_train = round(len(df_prices_train)/240)\n",
    "n_years_train"
   ]
  },
  {
   "cell_type": "markdown",
   "metadata": {},
   "source": [
    "# Apply trading strategies"
   ]
  },
  {
   "cell_type": "markdown",
   "metadata": {},
   "source": [
    "**Applying Bollinger Bands**"
   ]
  },
  {
   "cell_type": "code",
   "execution_count": 41,
   "metadata": {
    "scrolled": true
   },
   "outputs": [],
   "source": [
    "sharpe_results_bollinger, cum_returns_bollinger, performance_bollinger = trader.apply_bollinger_strategy(pairs,\n",
    "                                                                                         lookback_multiplier,\n",
    "                                                                                         entry_multiplier,\n",
    "                                                                                         exit_multiplier,\n",
    "                                                                                         trading_filter,\n",
    "                                                                                         test_mode=False\n",
    "                                                                                         )"
   ]
  },
  {
   "cell_type": "markdown",
   "metadata": {},
   "source": [
    "**Bollinger Bands Performance**"
   ]
  },
  {
   "cell_type": "code",
   "execution_count": 42,
   "metadata": {},
   "outputs": [
    {
     "name": "stdout",
     "output_type": "stream",
     "text": [
      "Average result:  0.08809343632312153\n",
      "avg_total_roi:  -9.39016128090814\n",
      "avg_annual_roi:  -1.0896573485117744\n",
      "58.8235294117647 % of the pairs had positive returns\n"
     ]
    }
   ],
   "source": [
    "avg_sharpe_bollinger, total_roi_bollinger, anual_roi_bollinger, positive_pct_bollinger = \\\n",
    "    trader.calculate_metrics(sharpe_results_bollinger, cum_returns_bollinger, n_years_train)"
   ]
  },
  {
   "cell_type": "markdown",
   "metadata": {},
   "source": [
    "**Applying the Kalman filter based strategy**"
   ]
  },
  {
   "cell_type": "code",
   "execution_count": 43,
   "metadata": {},
   "outputs": [],
   "source": [
    "entry_multiplier= config['trading']['entry_multiplier']\n",
    "exit_multiplier= config['trading']['exit_multiplier']\n",
    "sharpe_results_kalman, cum_returns_kalman, performance_kalman = trader.apply_kalman_strategy(pairs, \n",
    "                                                                                             entry_multiplier,\n",
    "                                                                                             exit_multiplier,\n",
    "                                                                                             trading_filter,\n",
    "                                                                                             test_mode=False)"
   ]
  },
  {
   "cell_type": "code",
   "execution_count": 44,
   "metadata": {},
   "outputs": [
    {
     "name": "stdout",
     "output_type": "stream",
     "text": [
      "Average result:  5.644101670828193\n",
      "avg_total_roi:  13856.040937177115\n",
      "avg_annual_roi:  73.10392487294122\n",
      "94.11764705882354 % of the pairs had positive returns\n"
     ]
    }
   ],
   "source": [
    "avg_sharpe_kalman, total_roi_kalman, anual_roi_kalman, positive_pct_kalman = \\\n",
    "    trader.calculate_metrics(sharpe_results_kalman, cum_returns_kalman, n_years_train)"
   ]
  },
  {
   "cell_type": "code",
   "execution_count": 45,
   "metadata": {},
   "outputs": [
    {
     "name": "stdout",
     "output_type": "stream",
     "text": [
      "Sharpe Ratio Distribution: \n"
     ]
    },
    {
     "data": {
      "image/png": "[encoded data removed]",
      "text/plain": [
       "<matplotlib.figure.Figure at 0x11f531ef0>"
      ]
     },
     "metadata": {},
     "output_type": "display_data"
    }
   ],
   "source": [
    "print('Sharpe Ratio Distribution: ')\n",
    "n, bins, patches = plt.hist(sharpe_results_kalman, bins = 16, normed=True, orientation='vertical',\n",
    "                            color='red', rwidth=0.9, align='mid')"
   ]
  },
  {
   "cell_type": "markdown",
   "metadata": {},
   "source": [
    "## Some remarks\n",
    "\n",
    "- From the analysis above, the Kalman filter method obtains the best performance, with an average Sharpe Ratio larger than 1.\n",
    "- We should compare this approach with a *compare all against all* approach, to see by which factor our results are improved due to the clustering technique."
   ]
  },
  {
   "cell_type": "markdown",
   "metadata": {},
   "source": [
    "# Out of Sample Analysis\n",
    "\n",
    "In this section, we analyze the performance of the strategy in the validation dataset. \n",
    "\n",
    "We proceed with some data exploration analysis. For this purpose we will do the following:\n",
    "\n",
    "- Analyze which percentage of the identified pairs are still cointegrated in the validation period.\n",
    "- Analyze which percentage of pairs have positive returns, and how many of those are still cointegrated.\n",
    "- Analyze how many new pais were not identified to be cointegrated up to the validation period.\n",
    "- Run strategy for identified pairs in training period.\n",
    "\n",
    "This analysis will help us getting some insight into how the cointegrated pairs vary from time to time, and therefore how we should allocate our resources to predict when pairs are not cointegrated anymore."
   ]
  },
  {
   "cell_type": "markdown",
   "metadata": {},
   "source": [
    "## Applying the Strategy out-of Sample\n",
    "\n",
    "We might want to apply the strategy in all pairs identified. Or, instead, we might prefer to apply the strategy only on those pairs that turned out to be profitable. Let's compare how both approaches work:"
   ]
  },
  {
   "cell_type": "code",
   "execution_count": 46,
   "metadata": {},
   "outputs": [
    {
     "data": {
      "text/plain": [
       "1"
      ]
     },
     "execution_count": 46,
     "metadata": {},
     "output_type": "execute_result"
    }
   ],
   "source": [
    "n_years_test = round(len(df_prices_test)/240)\n",
    "n_years_test"
   ]
  },
  {
   "cell_type": "markdown",
   "metadata": {},
   "source": [
    "### Approach 1: Keeping every pair"
   ]
  },
  {
   "cell_type": "markdown",
   "metadata": {},
   "source": [
    "**Bollinger Bands Out-of-Sample**"
   ]
  },
  {
   "cell_type": "code",
   "execution_count": 47,
   "metadata": {},
   "outputs": [],
   "source": [
    "sharpe_results_bollinger_test, cum_returns_bollinger_test, performance_bollinger_test =\\\n",
    "                                    trader.apply_bollinger_strategy(pairs,\n",
    "                                                                    lookback_multiplier,\n",
    "                                                                    entry_multiplier,\n",
    "                                                                    exit_multiplier,\n",
    "                                                                    trading_filter,\n",
    "                                                                    test_mode = True\n",
    "                                                                    )"
   ]
  },
  {
   "cell_type": "code",
   "execution_count": 48,
   "metadata": {},
   "outputs": [
    {
     "name": "stdout",
     "output_type": "stream",
     "text": [
      "Average result:  0.40034242963125866\n",
      "avg_total_roi:  5.721389147341722\n",
      "avg_annual_roi:  5.721389147341727\n",
      "76.47058823529412 % of the pairs had positive returns\n"
     ]
    }
   ],
   "source": [
    "avg_sharpe_bollinger_test, total_roi_bollinger_test, anual_roi_bollinger_test, positive_pct_bollinger_test = \\\n",
    "    trader.calculate_metrics(sharpe_results_bollinger_test, cum_returns_bollinger_test, n_years_test)"
   ]
  },
  {
   "cell_type": "markdown",
   "metadata": {},
   "source": [
    "**Kalman Out-of-Sample**"
   ]
  },
  {
   "cell_type": "code",
   "execution_count": 49,
   "metadata": {},
   "outputs": [],
   "source": [
    "sharpe_results_kalman_test, cum_returns_kalman_test, performance_kalman_test = trader.apply_kalman_strategy(pairs, \n",
    "                                                                                             entry_multiplier,\n",
    "                                                                                             exit_multiplier,\n",
    "                                                                                             trading_filter,\n",
    "                                                                                             test_mode=True)"
   ]
  },
  {
   "cell_type": "code",
   "execution_count": 50,
   "metadata": {},
   "outputs": [
    {
     "name": "stdout",
     "output_type": "stream",
     "text": [
      "Average result:  1.7901590178955478\n",
      "avg_total_roi:  26.52963234321774\n",
      "avg_annual_roi:  26.529632343217745\n",
      "94.11764705882354 % of the pairs had positive returns\n"
     ]
    }
   ],
   "source": [
    "avg_sharpe_kalman_test, total_roi_kalman_test, anual_roi_kalman_test, positive_pct_kalman_test = \\\n",
    "        trader.calculate_metrics(sharpe_results_kalman_test, cum_returns_kalman_test, n_years_test)"
   ]
  },
  {
   "cell_type": "markdown",
   "metadata": {},
   "source": [
    "### Approach 2: Keeping only pairs that had positive returns in the training period"
   ]
  },
  {
   "cell_type": "markdown",
   "metadata": {},
   "source": [
    "**Bollinger Strategy**"
   ]
  },
  {
   "cell_type": "code",
   "execution_count": 51,
   "metadata": {},
   "outputs": [],
   "source": [
    "sharpe_results_bollinger = np.asarray(sharpe_results_bollinger)\n",
    "profitable_pairs_indices = np.argwhere(sharpe_results_bollinger > 0)\n",
    "profitable_pairs = [pairs[i] for i in profitable_pairs_indices.flatten()]"
   ]
  },
  {
   "cell_type": "code",
   "execution_count": 52,
   "metadata": {},
   "outputs": [],
   "source": [
    "sharpe_results_bollinger_test, cum_returns_bollinger_test, performance_bollinger_test =\\\n",
    "                                    trader.apply_bollinger_strategy(profitable_pairs,\n",
    "                                                                    lookback_multiplier,\n",
    "                                                                    entry_multiplier,\n",
    "                                                                    exit_multiplier,\n",
    "                                                                    trading_filter,\n",
    "                                                                    test_mode = True)"
   ]
  },
  {
   "cell_type": "code",
   "execution_count": 53,
   "metadata": {},
   "outputs": [
    {
     "name": "stdout",
     "output_type": "stream",
     "text": [
      "Average result:  0.40201382402283026\n",
      "avg_total_roi:  6.873636953746609\n",
      "avg_annual_roi:  6.873636953746609\n",
      "75.0 % of the pairs had positive returns\n"
     ]
    }
   ],
   "source": [
    "avg_sharpe_bollinger_test, total_roi_bollinger_test, anual_roi_bollinger_test, positive_pct_bollinger_test = \\\n",
    "    trader.calculate_metrics(sharpe_results_bollinger_test, cum_returns_bollinger_test, n_years_test)"
   ]
  },
  {
   "cell_type": "markdown",
   "metadata": {},
   "source": [
    "**Kalman Strategy**"
   ]
  },
  {
   "cell_type": "code",
   "execution_count": 54,
   "metadata": {},
   "outputs": [],
   "source": [
    "sharpe_results_kalman = np.asarray(sharpe_results_kalman)\n",
    "profitable_pairs_indices = np.argwhere(sharpe_results_kalman > 0)\n",
    "profitable_pairs = [pairs[i] for i in profitable_pairs_indices.flatten()]"
   ]
  },
  {
   "cell_type": "code",
   "execution_count": 55,
   "metadata": {},
   "outputs": [],
   "source": [
    "sharpe_results_kalman_test, cum_returns_kalman_test, performance_kalman_test = trader.apply_kalman_strategy(\\\n",
    "                                                                                             profitable_pairs, \n",
    "                                                                                             entry_multiplier,\n",
    "                                                                                             exit_multiplier,\n",
    "                                                                                             trading_filter,\n",
    "                                                                                             test_mode=True)"
   ]
  },
  {
   "cell_type": "code",
   "execution_count": 56,
   "metadata": {},
   "outputs": [
    {
     "name": "stdout",
     "output_type": "stream",
     "text": [
      "Average result:  1.8416829371242054\n",
      "avg_total_roi:  27.648145500200386\n",
      "avg_annual_roi:  27.648145500200382\n",
      "93.75 % of the pairs had positive returns\n"
     ]
    }
   ],
   "source": [
    "avg_sharpe_kalman_test, total_roi_kalman_test, anual_roi_kalman_test, positive_pct_kalman_test = \\\n",
    "    trader.calculate_metrics(sharpe_results_kalman_test, cum_returns_kalman_test, n_years_test)"
   ]
  },
  {
   "cell_type": "markdown",
   "metadata": {},
   "source": [
    "We can conclude that the 2nd approach presents better results. From now on, we assume the 2nd approach was taken."
   ]
  },
  {
   "cell_type": "markdown",
   "metadata": {},
   "source": [
    "# Validate the results\n",
    "\n",
    "The results obtained are suspiciously high. We pretend to look deeper into the numbers."
   ]
  },
  {
   "cell_type": "code",
   "execution_count": 57,
   "metadata": {},
   "outputs": [
    {
     "name": "stdout",
     "output_type": "stream",
     "text": [
      "Average result:  1.8416829371242054\n",
      "avg_total_roi:  27.648145500200386\n",
      "avg_annual_roi:  27.648145500200382\n",
      "93.75 % of the pairs had positive returns\n"
     ]
    }
   ],
   "source": [
    "with open(config['dataset']['ticker_segment_dict'], 'rb') as handle:\n",
    "    ticker_segment_dict = pickle.load(handle)\n",
    "results, pairs_summary = trader.summarize_results(sharpe_results_kalman_test, cum_returns_kalman_test,\n",
    "                                                  performance_kalman_test, profitable_pairs, ticker_segment_dict)"
   ]
  },
  {
   "cell_type": "code",
   "execution_count": 58,
   "metadata": {
    "scrolled": false
   },
   "outputs": [
    {
     "data": {
      "text/html": [
       "<div>\n",
       "<style scoped>\n",
       "    .dataframe tbody tr th:only-of-type {\n",
       "        vertical-align: middle;\n",
       "    }\n",
       "\n",
       "    .dataframe tbody tr th {\n",
       "        vertical-align: top;\n",
       "    }\n",
       "\n",
       "    .dataframe thead th {\n",
       "        text-align: right;\n",
       "    }\n",
       "</style>\n",
       "<table border=\"1\" class=\"dataframe\">\n",
       "  <thead>\n",
       "    <tr style=\"text-align: right;\">\n",
       "      <th></th>\n",
       "      <th>Leg1</th>\n",
       "      <th>Leg1_Segmt</th>\n",
       "      <th>Leg2</th>\n",
       "      <th>Leg2_Segmt</th>\n",
       "      <th>t_statistic</th>\n",
       "      <th>p_value</th>\n",
       "      <th>zero_cross</th>\n",
       "      <th>half_life</th>\n",
       "      <th>hurst_exponent</th>\n",
       "      <th>positive_trades</th>\n",
       "      <th>negative_trades</th>\n",
       "      <th>sharpe_result</th>\n",
       "      <th>positive_trades_per_pair_pct</th>\n",
       "    </tr>\n",
       "  </thead>\n",
       "  <tbody>\n",
       "    <tr>\n",
       "      <th>0</th>\n",
       "      <td>FUE</td>\n",
       "      <td>Commodities: Agriculture Grains</td>\n",
       "      <td>RJI</td>\n",
       "      <td>Commodities: Broad Market</td>\n",
       "      <td>-3.024221</td>\n",
       "      <td>0.032694</td>\n",
       "      <td>114</td>\n",
       "      <td>19</td>\n",
       "      <td>0.306913</td>\n",
       "      <td>40</td>\n",
       "      <td>13</td>\n",
       "      <td>3.103910</td>\n",
       "      <td>75.471698</td>\n",
       "    </tr>\n",
       "    <tr>\n",
       "      <th>1</th>\n",
       "      <td>FUE</td>\n",
       "      <td>Commodities: Agriculture Grains</td>\n",
       "      <td>RJZ</td>\n",
       "      <td>Commodities: Broad Market Metals</td>\n",
       "      <td>-2.870450</td>\n",
       "      <td>0.048894</td>\n",
       "      <td>87</td>\n",
       "      <td>37</td>\n",
       "      <td>0.340088</td>\n",
       "      <td>52</td>\n",
       "      <td>15</td>\n",
       "      <td>2.961096</td>\n",
       "      <td>77.611940</td>\n",
       "    </tr>\n",
       "    <tr>\n",
       "      <th>2</th>\n",
       "      <td>FUE</td>\n",
       "      <td>Commodities: Agriculture Grains</td>\n",
       "      <td>LD</td>\n",
       "      <td>Commodities: Industrial Metals Lead</td>\n",
       "      <td>-3.547390</td>\n",
       "      <td>0.006850</td>\n",
       "      <td>81</td>\n",
       "      <td>44</td>\n",
       "      <td>0.350501</td>\n",
       "      <td>35</td>\n",
       "      <td>11</td>\n",
       "      <td>2.910385</td>\n",
       "      <td>76.086957</td>\n",
       "    </tr>\n",
       "    <tr>\n",
       "      <th>3</th>\n",
       "      <td>FUE</td>\n",
       "      <td>Commodities: Agriculture Grains</td>\n",
       "      <td>RJA</td>\n",
       "      <td>Commodities: Agriculture</td>\n",
       "      <td>-3.526155</td>\n",
       "      <td>0.007340</td>\n",
       "      <td>142</td>\n",
       "      <td>13</td>\n",
       "      <td>0.199388</td>\n",
       "      <td>34</td>\n",
       "      <td>11</td>\n",
       "      <td>2.875192</td>\n",
       "      <td>75.555556</td>\n",
       "    </tr>\n",
       "    <tr>\n",
       "      <th>4</th>\n",
       "      <td>FUE</td>\n",
       "      <td>Commodities: Agriculture Grains</td>\n",
       "      <td>GRU</td>\n",
       "      <td>Commodities: Agriculture Grains</td>\n",
       "      <td>-3.911956</td>\n",
       "      <td>0.001949</td>\n",
       "      <td>171</td>\n",
       "      <td>16</td>\n",
       "      <td>0.214385</td>\n",
       "      <td>41</td>\n",
       "      <td>20</td>\n",
       "      <td>2.850105</td>\n",
       "      <td>67.213115</td>\n",
       "    </tr>\n",
       "    <tr>\n",
       "      <th>5</th>\n",
       "      <td>FUD</td>\n",
       "      <td>Commodities: Agriculture</td>\n",
       "      <td>GRU</td>\n",
       "      <td>Commodities: Agriculture Grains</td>\n",
       "      <td>-3.462353</td>\n",
       "      <td>0.009008</td>\n",
       "      <td>81</td>\n",
       "      <td>42</td>\n",
       "      <td>0.366386</td>\n",
       "      <td>61</td>\n",
       "      <td>21</td>\n",
       "      <td>2.768138</td>\n",
       "      <td>74.390244</td>\n",
       "    </tr>\n",
       "    <tr>\n",
       "      <th>6</th>\n",
       "      <td>SLV</td>\n",
       "      <td>Commodities: Precious Metals Silver</td>\n",
       "      <td>UBG</td>\n",
       "      <td>Commodities: Precious Metals Gold</td>\n",
       "      <td>-3.089587</td>\n",
       "      <td>0.027333</td>\n",
       "      <td>113</td>\n",
       "      <td>32</td>\n",
       "      <td>0.397103</td>\n",
       "      <td>70</td>\n",
       "      <td>26</td>\n",
       "      <td>2.760451</td>\n",
       "      <td>72.916667</td>\n",
       "    </tr>\n",
       "    <tr>\n",
       "      <th>7</th>\n",
       "      <td>FUE</td>\n",
       "      <td>Commodities: Agriculture Grains</td>\n",
       "      <td>GSC</td>\n",
       "      <td>Commodities: Broad Market</td>\n",
       "      <td>-2.954870</td>\n",
       "      <td>0.039329</td>\n",
       "      <td>98</td>\n",
       "      <td>25</td>\n",
       "      <td>0.338285</td>\n",
       "      <td>23</td>\n",
       "      <td>6</td>\n",
       "      <td>2.647978</td>\n",
       "      <td>79.310345</td>\n",
       "    </tr>\n",
       "    <tr>\n",
       "      <th>8</th>\n",
       "      <td>GRU</td>\n",
       "      <td>Commodities: Agriculture Grains</td>\n",
       "      <td>UAG</td>\n",
       "      <td>Commodities: Agriculture</td>\n",
       "      <td>-3.320260</td>\n",
       "      <td>0.013997</td>\n",
       "      <td>101</td>\n",
       "      <td>46</td>\n",
       "      <td>0.385086</td>\n",
       "      <td>56</td>\n",
       "      <td>20</td>\n",
       "      <td>2.419975</td>\n",
       "      <td>73.684211</td>\n",
       "    </tr>\n",
       "    <tr>\n",
       "      <th>9</th>\n",
       "      <td>GSC</td>\n",
       "      <td>Commodities: Broad Market</td>\n",
       "      <td>GSP</td>\n",
       "      <td>Commodities: Broad Market</td>\n",
       "      <td>-4.015373</td>\n",
       "      <td>0.001332</td>\n",
       "      <td>189</td>\n",
       "      <td>9</td>\n",
       "      <td>0.165446</td>\n",
       "      <td>95</td>\n",
       "      <td>14</td>\n",
       "      <td>2.388995</td>\n",
       "      <td>87.155963</td>\n",
       "    </tr>\n",
       "    <tr>\n",
       "      <th>10</th>\n",
       "      <td>DBP</td>\n",
       "      <td>Commodities: Precious Metals</td>\n",
       "      <td>USV</td>\n",
       "      <td>Commodities: Precious Metals Silver</td>\n",
       "      <td>-3.022640</td>\n",
       "      <td>0.032834</td>\n",
       "      <td>167</td>\n",
       "      <td>29</td>\n",
       "      <td>0.393918</td>\n",
       "      <td>61</td>\n",
       "      <td>18</td>\n",
       "      <td>2.387781</td>\n",
       "      <td>77.215190</td>\n",
       "    </tr>\n",
       "    <tr>\n",
       "      <th>11</th>\n",
       "      <td>DBC</td>\n",
       "      <td>Commodities: Broad Market</td>\n",
       "      <td>UCI</td>\n",
       "      <td>Commodities: Broad Market</td>\n",
       "      <td>-2.942095</td>\n",
       "      <td>0.040667</td>\n",
       "      <td>125</td>\n",
       "      <td>20</td>\n",
       "      <td>0.298497</td>\n",
       "      <td>7</td>\n",
       "      <td>0</td>\n",
       "      <td>2.334258</td>\n",
       "      <td>100.000000</td>\n",
       "    </tr>\n",
       "    <tr>\n",
       "      <th>12</th>\n",
       "      <td>DBC</td>\n",
       "      <td>Commodities: Broad Market</td>\n",
       "      <td>FUE</td>\n",
       "      <td>Commodities: Agriculture Grains</td>\n",
       "      <td>-3.122564</td>\n",
       "      <td>0.024928</td>\n",
       "      <td>102</td>\n",
       "      <td>21</td>\n",
       "      <td>0.314844</td>\n",
       "      <td>22</td>\n",
       "      <td>6</td>\n",
       "      <td>2.273250</td>\n",
       "      <td>78.571429</td>\n",
       "    </tr>\n",
       "    <tr>\n",
       "      <th>13</th>\n",
       "      <td>DBA</td>\n",
       "      <td>Commodities: Agriculture</td>\n",
       "      <td>FUE</td>\n",
       "      <td>Commodities: Agriculture Grains</td>\n",
       "      <td>-3.069734</td>\n",
       "      <td>0.028876</td>\n",
       "      <td>137</td>\n",
       "      <td>21</td>\n",
       "      <td>0.225000</td>\n",
       "      <td>18</td>\n",
       "      <td>4</td>\n",
       "      <td>2.131338</td>\n",
       "      <td>81.818182</td>\n",
       "    </tr>\n",
       "    <tr>\n",
       "      <th>14</th>\n",
       "      <td>FUE</td>\n",
       "      <td>Commodities: Agriculture Grains</td>\n",
       "      <td>GSG</td>\n",
       "      <td>Commodities: Broad Market</td>\n",
       "      <td>-2.878539</td>\n",
       "      <td>0.047901</td>\n",
       "      <td>96</td>\n",
       "      <td>28</td>\n",
       "      <td>0.336877</td>\n",
       "      <td>20</td>\n",
       "      <td>9</td>\n",
       "      <td>2.127484</td>\n",
       "      <td>68.965517</td>\n",
       "    </tr>\n",
       "    <tr>\n",
       "      <th>15</th>\n",
       "      <td>GSC</td>\n",
       "      <td>Commodities: Broad Market</td>\n",
       "      <td>GSG</td>\n",
       "      <td>Commodities: Broad Market</td>\n",
       "      <td>-3.302686</td>\n",
       "      <td>0.014759</td>\n",
       "      <td>101</td>\n",
       "      <td>16</td>\n",
       "      <td>0.195663</td>\n",
       "      <td>89</td>\n",
       "      <td>13</td>\n",
       "      <td>2.120205</td>\n",
       "      <td>87.254902</td>\n",
       "    </tr>\n",
       "    <tr>\n",
       "      <th>16</th>\n",
       "      <td>FUE</td>\n",
       "      <td>Commodities: Agriculture Grains</td>\n",
       "      <td>GSP</td>\n",
       "      <td>Commodities: Broad Market</td>\n",
       "      <td>-2.906558</td>\n",
       "      <td>0.044591</td>\n",
       "      <td>100</td>\n",
       "      <td>27</td>\n",
       "      <td>0.337568</td>\n",
       "      <td>25</td>\n",
       "      <td>10</td>\n",
       "      <td>2.047847</td>\n",
       "      <td>71.428571</td>\n",
       "    </tr>\n",
       "    <tr>\n",
       "      <th>17</th>\n",
       "      <td>LD</td>\n",
       "      <td>Commodities: Industrial Metals Lead</td>\n",
       "      <td>RJZ</td>\n",
       "      <td>Commodities: Broad Market Metals</td>\n",
       "      <td>-3.791818</td>\n",
       "      <td>0.002992</td>\n",
       "      <td>133</td>\n",
       "      <td>26</td>\n",
       "      <td>0.287178</td>\n",
       "      <td>62</td>\n",
       "      <td>21</td>\n",
       "      <td>2.013059</td>\n",
       "      <td>74.698795</td>\n",
       "    </tr>\n",
       "    <tr>\n",
       "      <th>18</th>\n",
       "      <td>DBE</td>\n",
       "      <td>Commodities: Energy</td>\n",
       "      <td>FUE</td>\n",
       "      <td>Commodities: Agriculture Grains</td>\n",
       "      <td>-2.870259</td>\n",
       "      <td>0.048917</td>\n",
       "      <td>102</td>\n",
       "      <td>27</td>\n",
       "      <td>0.357430</td>\n",
       "      <td>25</td>\n",
       "      <td>11</td>\n",
       "      <td>1.941231</td>\n",
       "      <td>69.444444</td>\n",
       "    </tr>\n",
       "    <tr>\n",
       "      <th>19</th>\n",
       "      <td>FUE</td>\n",
       "      <td>Commodities: Agriculture Grains</td>\n",
       "      <td>UCI</td>\n",
       "      <td>Commodities: Broad Market</td>\n",
       "      <td>-3.345345</td>\n",
       "      <td>0.012969</td>\n",
       "      <td>138</td>\n",
       "      <td>17</td>\n",
       "      <td>0.297090</td>\n",
       "      <td>21</td>\n",
       "      <td>9</td>\n",
       "      <td>1.941079</td>\n",
       "      <td>70.000000</td>\n",
       "    </tr>\n",
       "    <tr>\n",
       "      <th>20</th>\n",
       "      <td>FUE</td>\n",
       "      <td>Commodities: Agriculture Grains</td>\n",
       "      <td>GCC</td>\n",
       "      <td>Commodities: Broad Market</td>\n",
       "      <td>-3.143423</td>\n",
       "      <td>0.023502</td>\n",
       "      <td>118</td>\n",
       "      <td>17</td>\n",
       "      <td>0.262899</td>\n",
       "      <td>18</td>\n",
       "      <td>3</td>\n",
       "      <td>1.914655</td>\n",
       "      <td>85.714286</td>\n",
       "    </tr>\n",
       "    <tr>\n",
       "      <th>21</th>\n",
       "      <td>GRU</td>\n",
       "      <td>Commodities: Agriculture Grains</td>\n",
       "      <td>LD</td>\n",
       "      <td>Commodities: Industrial Metals Lead</td>\n",
       "      <td>-3.214636</td>\n",
       "      <td>0.019153</td>\n",
       "      <td>81</td>\n",
       "      <td>54</td>\n",
       "      <td>0.385029</td>\n",
       "      <td>64</td>\n",
       "      <td>22</td>\n",
       "      <td>1.779861</td>\n",
       "      <td>74.418605</td>\n",
       "    </tr>\n",
       "    <tr>\n",
       "      <th>22</th>\n",
       "      <td>FUE</td>\n",
       "      <td>Commodities: Agriculture Grains</td>\n",
       "      <td>UGA</td>\n",
       "      <td>Commodities: Energy Gasoline</td>\n",
       "      <td>-3.096368</td>\n",
       "      <td>0.026823</td>\n",
       "      <td>138</td>\n",
       "      <td>21</td>\n",
       "      <td>0.347770</td>\n",
       "      <td>14</td>\n",
       "      <td>5</td>\n",
       "      <td>1.567917</td>\n",
       "      <td>73.684211</td>\n",
       "    </tr>\n",
       "    <tr>\n",
       "      <th>23</th>\n",
       "      <td>IEO</td>\n",
       "      <td>Equity: U.S. Oil &amp; Gas Exploration &amp; Production</td>\n",
       "      <td>PXI</td>\n",
       "      <td>Equity: U.S. Energy</td>\n",
       "      <td>-3.355718</td>\n",
       "      <td>0.012564</td>\n",
       "      <td>82</td>\n",
       "      <td>59</td>\n",
       "      <td>0.376321</td>\n",
       "      <td>27</td>\n",
       "      <td>10</td>\n",
       "      <td>1.132084</td>\n",
       "      <td>72.972973</td>\n",
       "    </tr>\n",
       "    <tr>\n",
       "      <th>24</th>\n",
       "      <td>DGP</td>\n",
       "      <td>Leveraged Commodities: Precious Metals Gold</td>\n",
       "      <td>UGL</td>\n",
       "      <td>Leveraged Commodities: Precious Metals Gold</td>\n",
       "      <td>-3.460391</td>\n",
       "      <td>0.009065</td>\n",
       "      <td>207</td>\n",
       "      <td>21</td>\n",
       "      <td>0.318123</td>\n",
       "      <td>2</td>\n",
       "      <td>0</td>\n",
       "      <td>1.113220</td>\n",
       "      <td>100.000000</td>\n",
       "    </tr>\n",
       "    <tr>\n",
       "      <th>25</th>\n",
       "      <td>IXC</td>\n",
       "      <td>Equity: Global Energy</td>\n",
       "      <td>RYE</td>\n",
       "      <td>Equity: U.S. Energy</td>\n",
       "      <td>-3.256756</td>\n",
       "      <td>0.016926</td>\n",
       "      <td>82</td>\n",
       "      <td>37</td>\n",
       "      <td>0.365935</td>\n",
       "      <td>2</td>\n",
       "      <td>0</td>\n",
       "      <td>1.075936</td>\n",
       "      <td>100.000000</td>\n",
       "    </tr>\n",
       "    <tr>\n",
       "      <th>26</th>\n",
       "      <td>IYE</td>\n",
       "      <td>Equity: U.S. Energy</td>\n",
       "      <td>PXI</td>\n",
       "      <td>Equity: U.S. Energy</td>\n",
       "      <td>-3.696545</td>\n",
       "      <td>0.004162</td>\n",
       "      <td>128</td>\n",
       "      <td>39</td>\n",
       "      <td>0.396602</td>\n",
       "      <td>24</td>\n",
       "      <td>9</td>\n",
       "      <td>1.054030</td>\n",
       "      <td>72.727273</td>\n",
       "    </tr>\n",
       "    <tr>\n",
       "      <th>27</th>\n",
       "      <td>DBB</td>\n",
       "      <td>Commodities: Industrial Metals</td>\n",
       "      <td>LD</td>\n",
       "      <td>Commodities: Industrial Metals Lead</td>\n",
       "      <td>-5.238515</td>\n",
       "      <td>0.000007</td>\n",
       "      <td>137</td>\n",
       "      <td>16</td>\n",
       "      <td>0.247670</td>\n",
       "      <td>71</td>\n",
       "      <td>31</td>\n",
       "      <td>0.572323</td>\n",
       "      <td>69.607843</td>\n",
       "    </tr>\n",
       "    <tr>\n",
       "      <th>28</th>\n",
       "      <td>UBG</td>\n",
       "      <td>Commodities: Precious Metals Gold</td>\n",
       "      <td>USV</td>\n",
       "      <td>Commodities: Precious Metals Silver</td>\n",
       "      <td>-2.911002</td>\n",
       "      <td>0.044083</td>\n",
       "      <td>123</td>\n",
       "      <td>29</td>\n",
       "      <td>0.377822</td>\n",
       "      <td>23</td>\n",
       "      <td>12</td>\n",
       "      <td>0.467447</td>\n",
       "      <td>65.714286</td>\n",
       "    </tr>\n",
       "    <tr>\n",
       "      <th>29</th>\n",
       "      <td>IEZ</td>\n",
       "      <td>Equity: U.S. Oil &amp; Gas Equipment &amp; Services</td>\n",
       "      <td>XOP</td>\n",
       "      <td>Equity: U.S. Oil &amp; Gas Exploration &amp; Production</td>\n",
       "      <td>-4.067478</td>\n",
       "      <td>0.001096</td>\n",
       "      <td>124</td>\n",
       "      <td>43</td>\n",
       "      <td>0.374766</td>\n",
       "      <td>21</td>\n",
       "      <td>14</td>\n",
       "      <td>0.061239</td>\n",
       "      <td>60.000000</td>\n",
       "    </tr>\n",
       "    <tr>\n",
       "      <th>30</th>\n",
       "      <td>FUD</td>\n",
       "      <td>Commodities: Agriculture</td>\n",
       "      <td>LD</td>\n",
       "      <td>Commodities: Industrial Metals Lead</td>\n",
       "      <td>-3.106873</td>\n",
       "      <td>0.026049</td>\n",
       "      <td>79</td>\n",
       "      <td>50</td>\n",
       "      <td>0.358730</td>\n",
       "      <td>32</td>\n",
       "      <td>18</td>\n",
       "      <td>-0.064883</td>\n",
       "      <td>64.000000</td>\n",
       "    </tr>\n",
       "    <tr>\n",
       "      <th>31</th>\n",
       "      <td>DBA</td>\n",
       "      <td>Commodities: Agriculture</td>\n",
       "      <td>GCC</td>\n",
       "      <td>Commodities: Broad Market</td>\n",
       "      <td>-4.071764</td>\n",
       "      <td>0.001078</td>\n",
       "      <td>105</td>\n",
       "      <td>37</td>\n",
       "      <td>0.394628</td>\n",
       "      <td>4</td>\n",
       "      <td>5</td>\n",
       "      <td>-0.743732</td>\n",
       "      <td>44.444444</td>\n",
       "    </tr>\n",
       "  </tbody>\n",
       "</table>\n",
       "</div>"
      ],
      "text/plain": [
       "   Leg1                                       Leg1_Segmt Leg2  \\\n",
       "0   FUE                  Commodities: Agriculture Grains  RJI   \n",
       "1   FUE                  Commodities: Agriculture Grains  RJZ   \n",
       "2   FUE                  Commodities: Agriculture Grains   LD   \n",
       "3   FUE                  Commodities: Agriculture Grains  RJA   \n",
       "4   FUE                  Commodities: Agriculture Grains  GRU   \n",
       "5   FUD                         Commodities: Agriculture  GRU   \n",
       "6   SLV              Commodities: Precious Metals Silver  UBG   \n",
       "7   FUE                  Commodities: Agriculture Grains  GSC   \n",
       "8   GRU                  Commodities: Agriculture Grains  UAG   \n",
       "9   GSC                        Commodities: Broad Market  GSP   \n",
       "10  DBP                     Commodities: Precious Metals  USV   \n",
       "11  DBC                        Commodities: Broad Market  UCI   \n",
       "12  DBC                        Commodities: Broad Market  FUE   \n",
       "13  DBA                         Commodities: Agriculture  FUE   \n",
       "14  FUE                  Commodities: Agriculture Grains  GSG   \n",
       "15  GSC                        Commodities: Broad Market  GSG   \n",
       "16  FUE                  Commodities: Agriculture Grains  GSP   \n",
       "17   LD              Commodities: Industrial Metals Lead  RJZ   \n",
       "18  DBE                              Commodities: Energy  FUE   \n",
       "19  FUE                  Commodities: Agriculture Grains  UCI   \n",
       "20  FUE                  Commodities: Agriculture Grains  GCC   \n",
       "21  GRU                  Commodities: Agriculture Grains   LD   \n",
       "22  FUE                  Commodities: Agriculture Grains  UGA   \n",
       "23  IEO  Equity: U.S. Oil & Gas Exploration & Production  PXI   \n",
       "24  DGP      Leveraged Commodities: Precious Metals Gold  UGL   \n",
       "25  IXC                            Equity: Global Energy  RYE   \n",
       "26  IYE                              Equity: U.S. Energy  PXI   \n",
       "27  DBB                   Commodities: Industrial Metals   LD   \n",
       "28  UBG                Commodities: Precious Metals Gold  USV   \n",
       "29  IEZ      Equity: U.S. Oil & Gas Equipment & Services  XOP   \n",
       "30  FUD                         Commodities: Agriculture   LD   \n",
       "31  DBA                         Commodities: Agriculture  GCC   \n",
       "\n",
       "                                         Leg2_Segmt  t_statistic   p_value  \\\n",
       "0                         Commodities: Broad Market    -3.024221  0.032694   \n",
       "1                  Commodities: Broad Market Metals    -2.870450  0.048894   \n",
       "2               Commodities: Industrial Metals Lead    -3.547390  0.006850   \n",
       "3                          Commodities: Agriculture    -3.526155  0.007340   \n",
       "4                   Commodities: Agriculture Grains    -3.911956  0.001949   \n",
       "5                   Commodities: Agriculture Grains    -3.462353  0.009008   \n",
       "6                 Commodities: Precious Metals Gold    -3.089587  0.027333   \n",
       "7                         Commodities: Broad Market    -2.954870  0.039329   \n",
       "8                          Commodities: Agriculture    -3.320260  0.013997   \n",
       "9                         Commodities: Broad Market    -4.015373  0.001332   \n",
       "10              Commodities: Precious Metals Silver    -3.022640  0.032834   \n",
       "11                        Commodities: Broad Market    -2.942095  0.040667   \n",
       "12                  Commodities: Agriculture Grains    -3.122564  0.024928   \n",
       "13                  Commodities: Agriculture Grains    -3.069734  0.028876   \n",
       "14                        Commodities: Broad Market    -2.878539  0.047901   \n",
       "15                        Commodities: Broad Market    -3.302686  0.014759   \n",
       "16                        Commodities: Broad Market    -2.906558  0.044591   \n",
       "17                 Commodities: Broad Market Metals    -3.791818  0.002992   \n",
       "18                  Commodities: Agriculture Grains    -2.870259  0.048917   \n",
       "19                        Commodities: Broad Market    -3.345345  0.012969   \n",
       "20                        Commodities: Broad Market    -3.143423  0.023502   \n",
       "21              Commodities: Industrial Metals Lead    -3.214636  0.019153   \n",
       "22                     Commodities: Energy Gasoline    -3.096368  0.026823   \n",
       "23                              Equity: U.S. Energy    -3.355718  0.012564   \n",
       "24      Leveraged Commodities: Precious Metals Gold    -3.460391  0.009065   \n",
       "25                              Equity: U.S. Energy    -3.256756  0.016926   \n",
       "26                              Equity: U.S. Energy    -3.696545  0.004162   \n",
       "27              Commodities: Industrial Metals Lead    -5.238515  0.000007   \n",
       "28              Commodities: Precious Metals Silver    -2.911002  0.044083   \n",
       "29  Equity: U.S. Oil & Gas Exploration & Production    -4.067478  0.001096   \n",
       "30              Commodities: Industrial Metals Lead    -3.106873  0.026049   \n",
       "31                        Commodities: Broad Market    -4.071764  0.001078   \n",
       "\n",
       "    zero_cross  half_life  hurst_exponent  positive_trades  negative_trades  \\\n",
       "0          114         19        0.306913               40               13   \n",
       "1           87         37        0.340088               52               15   \n",
       "2           81         44        0.350501               35               11   \n",
       "3          142         13        0.199388               34               11   \n",
       "4          171         16        0.214385               41               20   \n",
       "5           81         42        0.366386               61               21   \n",
       "6          113         32        0.397103               70               26   \n",
       "7           98         25        0.338285               23                6   \n",
       "8          101         46        0.385086               56               20   \n",
       "9          189          9        0.165446               95               14   \n",
       "10         167         29        0.393918               61               18   \n",
       "11         125         20        0.298497                7                0   \n",
       "12         102         21        0.314844               22                6   \n",
       "13         137         21        0.225000               18                4   \n",
       "14          96         28        0.336877               20                9   \n",
       "15         101         16        0.195663               89               13   \n",
       "16         100         27        0.337568               25               10   \n",
       "17         133         26        0.287178               62               21   \n",
       "18         102         27        0.357430               25               11   \n",
       "19         138         17        0.297090               21                9   \n",
       "20         118         17        0.262899               18                3   \n",
       "21          81         54        0.385029               64               22   \n",
       "22         138         21        0.347770               14                5   \n",
       "23          82         59        0.376321               27               10   \n",
       "24         207         21        0.318123                2                0   \n",
       "25          82         37        0.365935                2                0   \n",
       "26         128         39        0.396602               24                9   \n",
       "27         137         16        0.247670               71               31   \n",
       "28         123         29        0.377822               23               12   \n",
       "29         124         43        0.374766               21               14   \n",
       "30          79         50        0.358730               32               18   \n",
       "31         105         37        0.394628                4                5   \n",
       "\n",
       "    sharpe_result  positive_trades_per_pair_pct  \n",
       "0        3.103910                     75.471698  \n",
       "1        2.961096                     77.611940  \n",
       "2        2.910385                     76.086957  \n",
       "3        2.875192                     75.555556  \n",
       "4        2.850105                     67.213115  \n",
       "5        2.768138                     74.390244  \n",
       "6        2.760451                     72.916667  \n",
       "7        2.647978                     79.310345  \n",
       "8        2.419975                     73.684211  \n",
       "9        2.388995                     87.155963  \n",
       "10       2.387781                     77.215190  \n",
       "11       2.334258                    100.000000  \n",
       "12       2.273250                     78.571429  \n",
       "13       2.131338                     81.818182  \n",
       "14       2.127484                     68.965517  \n",
       "15       2.120205                     87.254902  \n",
       "16       2.047847                     71.428571  \n",
       "17       2.013059                     74.698795  \n",
       "18       1.941231                     69.444444  \n",
       "19       1.941079                     70.000000  \n",
       "20       1.914655                     85.714286  \n",
       "21       1.779861                     74.418605  \n",
       "22       1.567917                     73.684211  \n",
       "23       1.132084                     72.972973  \n",
       "24       1.113220                    100.000000  \n",
       "25       1.075936                    100.000000  \n",
       "26       1.054030                     72.727273  \n",
       "27       0.572323                     69.607843  \n",
       "28       0.467447                     65.714286  \n",
       "29       0.061239                     60.000000  \n",
       "30      -0.064883                     64.000000  \n",
       "31      -0.743732                     44.444444  "
      ]
     },
     "execution_count": 58,
     "metadata": {},
     "output_type": "execute_result"
    }
   ],
   "source": [
    "pairs_summary"
   ]
  },
  {
   "cell_type": "code",
   "execution_count": 95,
   "metadata": {},
   "outputs": [
    {
     "data": {
      "text/plain": [
       "<matplotlib.axes._subplots.AxesSubplot at 0x11f25a978>"
      ]
     },
     "execution_count": 95,
     "metadata": {},
     "output_type": "execute_result"
    },
    {
     "data": {
      "image/png": "[encoded data removed]",
      "text/plain": [
       "<matplotlib.figure.Figure at 0x1209793c8>"
      ]
     },
     "metadata": {},
     "output_type": "display_data"
    }
   ],
   "source": [
    "index = 20\n",
    "performance_kalman[index][1]['FUE'].plot()\n",
    "performance_kalman[index][1]['RJI'].plot()\n",
    "#[performance_kalman_test[index][1].ret != 0]\n",
    "#(np.cumprod(1 + performance_kalman_test[index][1].ret) - 1).iloc[-1] * 100"
   ]
  },
  {
   "cell_type": "code",
   "execution_count": 42,
   "metadata": {},
   "outputs": [
    {
     "data": {
      "text/html": [
       "<div>\n",
       "<style scoped>\n",
       "    .dataframe tbody tr th:only-of-type {\n",
       "        vertical-align: middle;\n",
       "    }\n",
       "\n",
       "    .dataframe tbody tr th {\n",
       "        vertical-align: top;\n",
       "    }\n",
       "\n",
       "    .dataframe thead th {\n",
       "        text-align: right;\n",
       "    }\n",
       "</style>\n",
       "<table border=\"1\" class=\"dataframe\">\n",
       "  <thead>\n",
       "    <tr style=\"text-align: right;\">\n",
       "      <th></th>\n",
       "      <th>pnl</th>\n",
       "      <th>ret</th>\n",
       "      <th>FUE</th>\n",
       "      <th>RJA</th>\n",
       "      <th>beta</th>\n",
       "      <th>spread</th>\n",
       "      <th>zscore</th>\n",
       "      <th>current_position</th>\n",
       "      <th>position_return_(%)</th>\n",
       "    </tr>\n",
       "  </thead>\n",
       "  <tbody>\n",
       "    <tr>\n",
       "      <th>2018-02-28</th>\n",
       "      <td>0.000000</td>\n",
       "      <td>0.000000</td>\n",
       "      <td>6.91</td>\n",
       "      <td>6.35</td>\n",
       "      <td>-1.301899</td>\n",
       "      <td>15.177059</td>\n",
       "      <td>1.983318</td>\n",
       "      <td>0.0</td>\n",
       "      <td>0.0</td>\n",
       "    </tr>\n",
       "    <tr>\n",
       "      <th>2018-03-01</th>\n",
       "      <td>-0.511133</td>\n",
       "      <td>-0.033678</td>\n",
       "      <td>7.33</td>\n",
       "      <td>6.42</td>\n",
       "      <td>-1.260405</td>\n",
       "      <td>15.421803</td>\n",
       "      <td>1.756506</td>\n",
       "      <td>-1.0</td>\n",
       "      <td>0.0</td>\n",
       "    </tr>\n",
       "    <tr>\n",
       "      <th>2018-03-02</th>\n",
       "      <td>0.525624</td>\n",
       "      <td>0.034083</td>\n",
       "      <td>6.88</td>\n",
       "      <td>6.36</td>\n",
       "      <td>-0.462475</td>\n",
       "      <td>9.821342</td>\n",
       "      <td>0.874462</td>\n",
       "      <td>-1.0</td>\n",
       "      <td>0.0</td>\n",
       "    </tr>\n",
       "    <tr>\n",
       "      <th>2018-03-05</th>\n",
       "      <td>-0.036998</td>\n",
       "      <td>-0.003767</td>\n",
       "      <td>6.88</td>\n",
       "      <td>6.44</td>\n",
       "      <td>-0.632532</td>\n",
       "      <td>10.953503</td>\n",
       "      <td>0.961267</td>\n",
       "      <td>-1.0</td>\n",
       "      <td>0.0</td>\n",
       "    </tr>\n",
       "    <tr>\n",
       "      <th>2018-03-06</th>\n",
       "      <td>0.012651</td>\n",
       "      <td>0.001155</td>\n",
       "      <td>6.88</td>\n",
       "      <td>6.42</td>\n",
       "      <td>-0.663953</td>\n",
       "      <td>11.142575</td>\n",
       "      <td>0.909020</td>\n",
       "      <td>-1.0</td>\n",
       "      <td>0.0</td>\n",
       "    </tr>\n",
       "  </tbody>\n",
       "</table>\n",
       "</div>"
      ],
      "text/plain": [
       "                 pnl       ret   FUE   RJA      beta     spread    zscore  \\\n",
       "2018-02-28  0.000000  0.000000  6.91  6.35 -1.301899  15.177059  1.983318   \n",
       "2018-03-01 -0.511133 -0.033678  7.33  6.42 -1.260405  15.421803  1.756506   \n",
       "2018-03-02  0.525624  0.034083  6.88  6.36 -0.462475   9.821342  0.874462   \n",
       "2018-03-05 -0.036998 -0.003767  6.88  6.44 -0.632532  10.953503  0.961267   \n",
       "2018-03-06  0.012651  0.001155  6.88  6.42 -0.663953  11.142575  0.909020   \n",
       "\n",
       "            current_position  position_return_(%)  \n",
       "2018-02-28               0.0                  0.0  \n",
       "2018-03-01              -1.0                  0.0  \n",
       "2018-03-02              -1.0                  0.0  \n",
       "2018-03-05              -1.0                  0.0  \n",
       "2018-03-06              -1.0                  0.0  "
      ]
     },
     "execution_count": 42,
     "metadata": {},
     "output_type": "execute_result"
    }
   ],
   "source": [
    "index = 3\n",
    "performance_bollinger_test[index][1]['2018-02-28':].head()#[performance_kalman_test[index][1].ret != 0]\n",
    "#(np.cumprod(1 + performance_bollinger_test[index][1].ret) - 1).iloc[-1] * 100"
   ]
  },
  {
   "cell_type": "markdown",
   "metadata": {},
   "source": [
    "**Controlling for range of returns**"
   ]
  },
  {
   "cell_type": "code",
   "execution_count": 32,
   "metadata": {},
   "outputs": [
    {
     "name": "stdout",
     "output_type": "stream",
     "text": [
      "Maximum return obtained in a single trade, per pair\n",
      "6.909643329707249\n",
      "2.344319660257277\n",
      "6.325049465710242\n",
      "6.860857673435539\n",
      "7.7576502921139046\n",
      "0.5472888742080073\n",
      "4.719338412152352\n",
      "4.588519787256695\n",
      "1.9119661476994176\n",
      "2.5717140926448057\n",
      "3.6115280102167358\n",
      "6.344712404353237\n",
      "8.944771315862665\n",
      "6.770436995676965\n",
      "7.872547354205239\n",
      "0\n",
      "0.603724342557066\n",
      "7.4551148557032265\n",
      "2.1992877949544187\n",
      "1.3714593365384387\n",
      "1.1169718070006773\n",
      "7.473367817498389\n",
      "8.793958998520024\n",
      "7.847044174543161\n",
      "2.362776294397251\n",
      "1.7495892510591249\n",
      "2.9713087148948603\n"
     ]
    }
   ],
   "source": [
    "print('Maximum return obtained in a single trade, per pair')\n",
    "for i in range(len(profitable_pairs)):\n",
    "    print(performance_kalman_test[i][1]['position_return_(%)'].max())"
   ]
  },
  {
   "cell_type": "code",
   "execution_count": 33,
   "metadata": {},
   "outputs": [
    {
     "name": "stdout",
     "output_type": "stream",
     "text": [
      "Worst return obtained in a single trade, per pair\n",
      "-1.6911257178030437\n",
      "-2.5716237277046194\n",
      "-1.396548093702843\n",
      "-1.5213508400645726\n",
      "-2.602345414307572\n",
      "0.0\n",
      "-5.147165474636695\n",
      "-3.593443943742247\n",
      "-2.7125628795925505\n",
      "-4.3052777853785695\n",
      "-3.836767909719385\n",
      "-15.447270551358494\n",
      "-12.529718632368391\n",
      "-14.662036092456832\n",
      "-14.45972086192998\n",
      "0\n",
      "-0.8524721002408753\n",
      "-11.379207839522277\n",
      "-1.7291765129797576\n",
      "0.0\n",
      "-1.178545620649185\n",
      "-14.496690367595356\n",
      "-21.51140530231296\n",
      "-14.501701046026216\n",
      "-6.038117635525553\n",
      "-2.324922501050386\n",
      "-8.528108800685818\n"
     ]
    }
   ],
   "source": [
    "print('Worst return obtained in a single trade, per pair')\n",
    "for i in range(len(profitable_pairs)):\n",
    "    print(performance_kalman_test[i][1]['position_return_(%)'].min())"
   ]
  },
  {
   "cell_type": "markdown",
   "metadata": {},
   "source": [
    "Tanto as returns máximas como as mínimas parecem ter valores dentro da normalidade."
   ]
  },
  {
   "cell_type": "markdown",
   "metadata": {},
   "source": [
    "## Training vs Validation"
   ]
  },
  {
   "cell_type": "markdown",
   "metadata": {},
   "source": [
    "For a far comparison, we should compare the test resuls with the results obtained in the training set, but also using only the profitable pairs:"
   ]
  },
  {
   "cell_type": "code",
   "execution_count": 34,
   "metadata": {},
   "outputs": [
    {
     "name": "stdout",
     "output_type": "stream",
     "text": [
      "Average result:  3.9480398122265092\n",
      "avg_total_roi:  13214.915149711247\n",
      "avg_annual_roi:  72.20176574126901\n",
      "100.0 % of the pairs had positive returns\n"
     ]
    }
   ],
   "source": [
    "entry_multiplier= config['trading']['entry_multiplier']\n",
    "exit_multiplier= config['trading']['exit_multiplier']\n",
    "sharpe_results_kalman, cum_returns_kalman, performance_kalman = trader.apply_kalman_strategy(profitable_pairs, \n",
    "                                                                                             entry_multiplier,\n",
    "                                                                                             exit_multiplier,\n",
    "                                                                                             trading_filter,\n",
    "                                                                                             test_mode=False)\n",
    "avg_sharpe_kalman, total_roi_kalman, anual_roi_kalman, positive_pct_kalman = \\\n",
    "    trader.calculate_metrics(sharpe_results_kalman, cum_returns_kalman, n_years_train)"
   ]
  },
  {
   "cell_type": "code",
   "execution_count": 35,
   "metadata": {},
   "outputs": [
    {
     "name": "stdout",
     "output_type": "stream",
     "text": [
      "The sharpe ratio obtained in the training set with the pairs used on the test set is  3.9480398122265092\n",
      "The sharpe ratio obtained in the test set is  1.3171267445846853\n"
     ]
    }
   ],
   "source": [
    "print('The sharpe ratio obtained in the training set with the pairs used on the test set is ', avg_sharpe_kalman)\n",
    "print('The sharpe ratio obtained in the test set is ', avg_sharpe_kalman_test)"
   ]
  },
  {
   "cell_type": "markdown",
   "metadata": {},
   "source": [
    "As expected, the sharpe ratio is indeed higher in the training set."
   ]
  },
  {
   "cell_type": "code",
   "execution_count": 36,
   "metadata": {},
   "outputs": [
    {
     "data": {
      "text/plain": [
       "33"
      ]
     },
     "execution_count": 36,
     "metadata": {},
     "output_type": "execute_result"
    }
   ],
   "source": [
    "len(pairs)"
   ]
  },
  {
   "cell_type": "code",
   "execution_count": 37,
   "metadata": {},
   "outputs": [
    {
     "data": {
      "text/plain": [
       "27"
      ]
     },
     "execution_count": 37,
     "metadata": {},
     "output_type": "execute_result"
    }
   ],
   "source": [
    "len(profitable_pairs)"
   ]
  },
  {
   "cell_type": "markdown",
   "metadata": {},
   "source": [
    "## Analyzing Pairs' Overlap"
   ]
  },
  {
   "cell_type": "markdown",
   "metadata": {},
   "source": [
    "There could be two possible interpretations for pairs' overlap.\n",
    "1. We might be interested in checking which of the cointegrated pairs found in the training dataset are also cointegrated in the test set; Furthermore we want to explore how the two types of pairs perform.\n",
    "2. We might be interested in finding if the pairs that would have been found in the test set by performing PCA + clustering would be cointegrated in the training set."
   ]
  },
  {
   "cell_type": "markdown",
   "metadata": {},
   "source": [
    "Starting with **1)**, let's see how many of the identified pairs actually turned out to be cointegrated during this period."
   ]
  },
  {
   "cell_type": "code",
   "execution_count": 38,
   "metadata": {},
   "outputs": [
    {
     "name": "stdout",
     "output_type": "stream",
     "text": [
      "4 of the 33 pairs identified in the training set are also cointegrated in the test set\n"
     ]
    }
   ],
   "source": [
    "pairs_overlapped, pairs_overlapped_index = series_analyser.pairs_overlap(pairs,\n",
    "                                  config['pair_restrictions']['p_value_threshold'],\n",
    "                                  config['pair_restrictions']['min_zero_crossings'],\n",
    "                                  config['pair_restrictions']['min_half_life'],\n",
    "                                  config['pair_restrictions']['hurst_threshold'])\n",
    "print('{} of the {} pairs identified in the training set are also cointegrated in the test set'.format(\\\n",
    "    len(pairs_overlapped), len(pairs)))"
   ]
  },
  {
   "cell_type": "code",
   "execution_count": 39,
   "metadata": {},
   "outputs": [
    {
     "name": "stdout",
     "output_type": "stream",
     "text": [
      "2 of the 27 pairs with positive returns identified in the training set are also cointegrated in the test set\n"
     ]
    }
   ],
   "source": [
    "profitable_pairs_overlapped, profitable_pairs_overlapped_index = series_analyser.pairs_overlap(profitable_pairs,\n",
    "                                  config['pair_restrictions']['p_value_threshold'],\n",
    "                                  config['pair_restrictions']['min_zero_crossings'],\n",
    "                                  config['pair_restrictions']['min_half_life'],\n",
    "                                  config['pair_restrictions']['hurst_threshold'])\n",
    "print('{} of the {} pairs with positive returns identified in the training set are also cointegrated in the test set'.format(\\\n",
    "    len(profitable_pairs_overlapped), len(profitable_pairs)))"
   ]
  },
  {
   "cell_type": "markdown",
   "metadata": {},
   "source": [
    "### Is cointegration really important?\n",
    "\n",
    "To answer this question we will see how many of the still cointegrated pairs had positive and negative returns. We will then do the same for those pairs that were not cointegrated. \n",
    "\n",
    "If both are as likely to have positive and negative returns, then it means cointegration is not as important of a condition. On the other hand, if we verify that all pairs that are still cointegrated turned out to be profitable and those that are not anymore led to consistent negative returns, we can infer that cointegration is a very important predictor of future returns.\n",
    "\n",
    "We also compare the average performance of the two groups two see the relevance of being cointegrated with respect to the sharpe ratio obtained."
   ]
  },
  {
   "cell_type": "markdown",
   "metadata": {},
   "source": [
    "*Still cointegrated*"
   ]
  },
  {
   "cell_type": "code",
   "execution_count": 40,
   "metadata": {},
   "outputs": [
    {
     "name": "stdout",
     "output_type": "stream",
     "text": [
      "Average result:  1.7479555681745413\n",
      "avg_total_roi:  17.128817803477034\n",
      "avg_annual_roi:  17.128817803477038\n",
      "100.0 % of the pairs had positive returns\n"
     ]
    }
   ],
   "source": [
    "# distribution for pairs which were cointegrated in train and test\n",
    "sharpe_results_pairs_overlapped = np.asarray([sharpe_results_kalman_test[index] for index \\\n",
    "                                              in profitable_pairs_overlapped_index])\n",
    "cum_returns_pairs_overlapped = np.asarray([cum_returns_kalman_test[index] for index \\\n",
    "                                              in profitable_pairs_overlapped_index])\n",
    "\n",
    "if len(sharpe_results_pairs_overlapped)>0:\n",
    "    _,_,_,_ = trader.calculate_metrics(sharpe_results_pairs_overlapped, cum_returns_pairs_overlapped,\n",
    "                                   n_years_test)\n",
    "else:\n",
    "    print('0% of the pairs cointegrated in the train are also cointegrated in the test set')"
   ]
  },
  {
   "cell_type": "markdown",
   "metadata": {},
   "source": [
    "*Not cointegrated anymore*"
   ]
  },
  {
   "cell_type": "code",
   "execution_count": 41,
   "metadata": {},
   "outputs": [
    {
     "name": "stdout",
     "output_type": "stream",
     "text": [
      "Average result:  1.2826604386974967\n",
      "avg_total_roi:  24.34169502419012\n",
      "avg_annual_roi:  24.341695024190123\n",
      "92.0 % of the pairs had positive returns\n"
     ]
    }
   ],
   "source": [
    "# distribution for pairs which were cointegrated in train but not in test\n",
    "profitable_pairs_not_overlapped_index = [i for i in np.arange(0,len(profitable_pairs))\\\n",
    "                                         if i not in profitable_pairs_overlapped_index]\n",
    "\n",
    "sharpe_results_pairs_not_overlapped = np.asarray([sharpe_results_kalman_test[index] for index \\\n",
    "                                              in profitable_pairs_not_overlapped_index])\n",
    "\n",
    "cum_returns_pairs_not_overlapped = np.asarray([cum_returns_kalman_test[index] for index \\\n",
    "                                              in profitable_pairs_not_overlapped_index])\n",
    "\n",
    "_,_,_,_ = trader.calculate_metrics(sharpe_results_pairs_not_overlapped, cum_returns_pairs_not_overlapped,\n",
    "                                   n_years_test)"
   ]
  },
  {
   "cell_type": "markdown",
   "metadata": {},
   "source": [
    "Answering to the first question we were concerned with, we verify that a cointegrated pair is indeed more likely to have a positive return. Furthermore, we can conclude from the results that being cointegrated implied that those pairs generated higher returns. \n",
    "\n",
    "**TO REVIEW:Conclusion**: The fact that a pair is not cointegrated anymore does not impact the results obained. In fact, we just concluded that betting solely on the cointegrated pairs would yield a worse result. Therefore, we should not spend much effort in detecting pairs that are no cointegrated anymore."
   ]
  },
  {
   "cell_type": "markdown",
   "metadata": {},
   "source": [
    "Following with point number **2)**, we proceed to analyze the performance of the pairs that woud have been identified in the testing period."
   ]
  },
  {
   "cell_type": "code",
   "execution_count": 42,
   "metadata": {},
   "outputs": [
    {
     "name": "stdout",
     "output_type": "stream",
     "text": [
      "\n",
      "Number of components:  10\n",
      "Returns shape:  (250, 71)\n",
      "Clusters discovered: 7\n",
      "Pairs to evaluate: 16\n",
      "Silhouette score  -0.16573849480651415\n",
      "\n",
      "Number of components:  11\n",
      "Returns shape:  (250, 71)\n",
      "Clusters discovered: 7\n",
      "Pairs to evaluate: 16\n",
      "Silhouette score  -0.16509632505521246\n",
      "\n",
      "Number of components:  12\n",
      "Returns shape:  (250, 71)\n",
      "Clusters discovered: 6\n",
      "Pairs to evaluate: 13\n",
      "Silhouette score  -0.19695784214924508\n",
      "\n",
      "Number of components:  13\n",
      "Returns shape:  (250, 71)\n",
      "Clusters discovered: 5\n",
      "Pairs to evaluate: 9\n",
      "Silhouette score  -0.20569116834384663\n",
      "\n",
      "Number of components:  14\n",
      "Returns shape:  (250, 71)\n",
      "Clusters discovered: 4\n",
      "Pairs to evaluate: 8\n",
      "Silhouette score  -0.1977134047270998\n",
      "\n",
      "The best silhouette coefficient was: -0.16509632505521246 for 11 principal components\n",
      "Found 2 pairs\n",
      "The pairs contain 4 unique tickers\n",
      "1 of the 2 pairs identified in the test set are also cointegrated in the training set\n"
     ]
    }
   ],
   "source": [
    "initial_test_date = config['dataset']['testing_initial_date']\n",
    "final_teste_date = config['dataset']['testing_final_date']\n",
    "\n",
    "# Get returns for test period\n",
    "df_returns_test = data_processor.get_return_series(df_prices_test)\n",
    "\n",
    "# APPLY PCA and CLUSTERING\n",
    "range_n_components = config['PCA']['N_COMPONENTS']\n",
    "X_test, clustered_series_all_test, clustered_series_test, counts_test, clf_test = \\\n",
    "            series_analyser.clustering_for_optimal_PCA(range_n_components[0], range_n_components[1],\n",
    "                                                       df_returns_test, config['clustering'])\n",
    "# Find pairs\n",
    "pairs_test, unique_tickers_test = series_analyser.get_candidate_pairs(\\\n",
    "                                            clustered_series=clustered_series_test,\n",
    "                                            pricing_df_train=df_prices_test,\n",
    "                                            pricing_df_test=df_prices_train,\n",
    "                                            min_half_life=config['pair_restrictions']['min_half_life'],\n",
    "                                            min_zero_crosings=config['pair_restrictions']['min_zero_crossings'],\n",
    "                                            p_value_threshold=config['pair_restrictions']['p_value_threshold'],\n",
    "                                            hurst_threshold=config['pair_restrictions']['hurst_threshold']\n",
    "                                            )\n",
    "\n",
    "# Finally, see overlap\n",
    "pairs_overlapped, pairs_overlapped_index = series_analyser.pairs_overlap(pairs_test,\n",
    "                                  config['pair_restrictions']['p_value_threshold'],\n",
    "                                  config['pair_restrictions']['min_zero_crossings'],\n",
    "                                  config['pair_restrictions']['min_half_life'],\n",
    "                                  config['pair_restrictions']['hurst_threshold'])\n",
    "print('{} of the {} pairs identified in the test set are also cointegrated in the training set'.format(\\\n",
    "    len(pairs_overlapped), len(pairs_test)))"
   ]
  },
  {
   "cell_type": "markdown",
   "metadata": {},
   "source": [
    "Let's see if the pairs identified in the test period lead indeed to improved results:"
   ]
  },
  {
   "cell_type": "code",
   "execution_count": 43,
   "metadata": {
    "scrolled": true
   },
   "outputs": [
    {
     "name": "stdout",
     "output_type": "stream",
     "text": [
      "Average result:  1.3850770707572364\n",
      "avg_total_roi:  1.1660881620394137\n",
      "avg_annual_roi:  1.1660881620394026\n",
      "50.0 % of the pairs had positive returns\n"
     ]
    }
   ],
   "source": [
    "sharpe_results_kalman_test_newpairs, cum_returns_kalman_test_newpairs, performance_kalman_test_newpairs =\\\n",
    "    trader.apply_kalman_strategy(pairs_test, entry_multiplier,exit_multiplier,trading_filter, test_mode=False)\n",
    "\n",
    "_,_,_,_ = trader.calculate_metrics(sharpe_results_kalman_test_newpairs, cum_returns_kalman_test_newpairs,\n",
    "                                   n_years_test)"
   ]
  },
  {
   "cell_type": "markdown",
   "metadata": {},
   "source": [
    "The sharpe ratio is higher in this scenatio. Note hoewever, that the annual ROI is not so high as the pairs identified previously. This might be linked with the fact that these pairs did not prove to be cointegrated for a period as long as the other and therefore the pairs might be less stable."
   ]
  },
  {
   "cell_type": "markdown",
   "metadata": {},
   "source": [
    "## Analyzing the influence of pairs statistics\n",
    "\n",
    "It's interesting to analyze whether we could have used extra information from the pairs trading statistic, instead of considering it just as a pass or not pass test. `Law 2017` explore this concept on their paper (htey basically rank pairs according to a trade off between t-statistic and spread deviation from its mean). However, what we see below is that there is no obvious influence of any parameter in the performance of the corresponding pair."
   ]
  },
  {
   "cell_type": "code",
   "execution_count": 44,
   "metadata": {},
   "outputs": [
    {
     "data": {
      "text/html": [
       "<div>\n",
       "<style scoped>\n",
       "    .dataframe tbody tr th:only-of-type {\n",
       "        vertical-align: middle;\n",
       "    }\n",
       "\n",
       "    .dataframe tbody tr th {\n",
       "        vertical-align: top;\n",
       "    }\n",
       "\n",
       "    .dataframe thead th {\n",
       "        text-align: right;\n",
       "    }\n",
       "</style>\n",
       "<table border=\"1\" class=\"dataframe\">\n",
       "  <thead>\n",
       "    <tr style=\"text-align: right;\">\n",
       "      <th></th>\n",
       "      <th>sharpe_result</th>\n",
       "      <th>positive_trades_per_pair_pct</th>\n",
       "    </tr>\n",
       "  </thead>\n",
       "  <tbody>\n",
       "    <tr>\n",
       "      <th>t_statistic</th>\n",
       "      <td>0.601476</td>\n",
       "      <td>0.565698</td>\n",
       "    </tr>\n",
       "    <tr>\n",
       "      <th>p_value</th>\n",
       "      <td>0.461473</td>\n",
       "      <td>0.657006</td>\n",
       "    </tr>\n",
       "    <tr>\n",
       "      <th>zero_cross</th>\n",
       "      <td>0.332275</td>\n",
       "      <td>0.113088</td>\n",
       "    </tr>\n",
       "    <tr>\n",
       "      <th>half_life</th>\n",
       "      <td>-0.140625</td>\n",
       "      <td>-0.202277</td>\n",
       "    </tr>\n",
       "    <tr>\n",
       "      <th>hurst_exponent</th>\n",
       "      <td>-0.134503</td>\n",
       "      <td>-0.101301</td>\n",
       "    </tr>\n",
       "  </tbody>\n",
       "</table>\n",
       "</div>"
      ],
      "text/plain": [
       "                sharpe_result  positive_trades_per_pair_pct\n",
       "t_statistic          0.601476                      0.565698\n",
       "p_value              0.461473                      0.657006\n",
       "zero_cross           0.332275                      0.113088\n",
       "half_life           -0.140625                     -0.202277\n",
       "hurst_exponent      -0.134503                     -0.101301"
      ]
     },
     "execution_count": 44,
     "metadata": {},
     "output_type": "execute_result"
    }
   ],
   "source": [
    "pairs_summary.corr()[['sharpe_result', 'positive_trades_per_pair_pct']].loc[['t_statistic', 'p_value',\n",
    "                                                                             'zero_cross', 'half_life',\n",
    "                                                                             'hurst_exponent']]"
   ]
  },
  {
   "cell_type": "markdown",
   "metadata": {},
   "source": [
    "### The Correlation Filter\n",
    "\n",
    "The correlation filter aims to track how the correlation between the two legs of tha pair is varing, and provide that information as input to the trading strategy."
   ]
  },
  {
   "cell_type": "code",
   "execution_count": 45,
   "metadata": {},
   "outputs": [
    {
     "ename": "NameError",
     "evalue": "name 'failed_pairs' is not defined",
     "output_type": "error",
     "traceback": [
      "\u001b[0;31m---------------------------------------------------------------------------\u001b[0m",
      "\u001b[0;31mNameError\u001b[0m                                 Traceback (most recent call last)",
      "\u001b[0;32m<ipython-input-45-92346adfc16f>\u001b[0m in \u001b[0;36m<module>\u001b[0;34m()\u001b[0m\n\u001b[0;32m----> 1\u001b[0;31m \u001b[0mexample_pair\u001b[0m \u001b[0;34m=\u001b[0m \u001b[0mfailed_pairs\u001b[0m\u001b[0;34m[\u001b[0m\u001b[0;36m2\u001b[0m\u001b[0;34m]\u001b[0m\u001b[0;34m\u001b[0m\u001b[0m\n\u001b[0m\u001b[1;32m      2\u001b[0m \u001b[0;34m\u001b[0m\u001b[0m\n\u001b[1;32m      3\u001b[0m \u001b[0mexample_pair_leg1\u001b[0m \u001b[0;34m=\u001b[0m \u001b[0mexample_pair\u001b[0m\u001b[0;34m[\u001b[0m\u001b[0;36m0\u001b[0m\u001b[0;34m]\u001b[0m\u001b[0;34m[\u001b[0m\u001b[0;36m0\u001b[0m\u001b[0;34m]\u001b[0m\u001b[0;34m\u001b[0m\u001b[0m\n\u001b[1;32m      4\u001b[0m \u001b[0mexample_pair_leg2\u001b[0m \u001b[0;34m=\u001b[0m \u001b[0mexample_pair\u001b[0m\u001b[0;34m[\u001b[0m\u001b[0;36m0\u001b[0m\u001b[0;34m]\u001b[0m\u001b[0;34m[\u001b[0m\u001b[0;36m1\u001b[0m\u001b[0;34m]\u001b[0m\u001b[0;34m\u001b[0m\u001b[0m\n\u001b[1;32m      5\u001b[0m \u001b[0;34m\u001b[0m\u001b[0m\n",
      "\u001b[0;31mNameError\u001b[0m: name 'failed_pairs' is not defined"
     ]
    }
   ],
   "source": [
    "example_pair = failed_pairs[2]\n",
    "\n",
    "example_pair_leg1 = example_pair[0][0]\n",
    "example_pair_leg2 = example_pair[0][1]\n",
    "\n",
    "example_pair_prices = etfs_pricing[[example_pair_leg1, example_pair_leg2]]\n",
    "example_pair_prices.plot(figsize=(15,5))\n",
    "\n",
    "\n",
    "# proceed to calculate correlation\n",
    "rolling_window = config['trading']['lookback_multiplier']*example_pair[0][2]['half_life']\n",
    "\n",
    "# get returns\n",
    "example_pair_returns = data_processor.get_return_series(example_pair_prices)\n",
    "\n",
    "# analyze correlation on returns\n",
    "example_correlation = example_pair_returns[example_pair_leg1].rolling(rolling_window).corr(example_pair_returns[example_pair_leg2])\n",
    "\n",
    "# plot correlation of returns\n",
    "diff_example_correlation = example_correlation.diff(periods=1)\n",
    "#diff_example_correlation = diff_example_correlation*10\n",
    "diff_example_correlation.plot()"
   ]
  },
  {
   "cell_type": "markdown",
   "metadata": {},
   "source": [
    "This result indicates there's almost no correlation between correlation diff and returns... Let's see how this result varies on average:"
   ]
  },
  {
   "cell_type": "code",
   "execution_count": null,
   "metadata": {},
   "outputs": [],
   "source": [
    "failure_correlations = []\n",
    "for failure in failed_pairs:\n",
    "    failure_df = failure[1][failure[1].units != 0]\n",
    "    correlation = failure_df['ret'].corr(failure_df['correlation'])\n",
    "    failure_correlations.append(correlation)\n",
    "    \n",
    "print(np.mean(failure_correlations))"
   ]
  },
  {
   "cell_type": "markdown",
   "metadata": {},
   "source": [
    "However, we are not realyy interested in the correlation of the the diff column, but rather on the correlation with its sign."
   ]
  },
  {
   "cell_type": "code",
   "execution_count": null,
   "metadata": {},
   "outputs": [],
   "source": [
    "failure_correlations = []\n",
    "for failure in failed_pairs:\n",
    "    failure_df = failure[1][failure[1].units != 0]\n",
    "    failure_df['diff_correlation_sign']=failure_df['diff_correlation'].apply(lambda row: -1 if row<0 else 1)\n",
    "    correlation = failure_df['ret'].corr(failure_df['diff_correlation_sign'])\n",
    "    failure_correlations.append(correlation)\n",
    "    \n",
    "print(np.mean(failure_correlations))"
   ]
  },
  {
   "cell_type": "markdown",
   "metadata": {},
   "source": [
    "We could use mutual information rather than correlation as the sign is discrete. What about the relation with the zscore evolution?"
   ]
  },
  {
   "cell_type": "markdown",
   "metadata": {},
   "source": [
    "### Analyze non-profitable pairs"
   ]
  },
  {
   "cell_type": "code",
   "execution_count": null,
   "metadata": {},
   "outputs": [],
   "source": [
    "sharpe_results_kalman_test = np.asarray(sharpe_results_kalman_test)\n",
    "negative_pairs_indices = np.argwhere(sharpe_results_kalman_test < 0)\n",
    "print('{} out of {} pairs turned out to be non-profitable'.format(len(negative_pairs_indices), len(pairs)))"
   ]
  },
  {
   "cell_type": "markdown",
   "metadata": {},
   "source": [
    "Let's get some more information on the non-profitable pairs:"
   ]
  },
  {
   "cell_type": "code",
   "execution_count": null,
   "metadata": {},
   "outputs": [],
   "source": [
    "negative_pairs = [pairs[i] for i in negative_pairs_indices.flatten()]\n",
    "negative_pairs = [(item[0], item[1]) for item in negative_pairs]\n",
    "negative_pairs"
   ]
  },
  {
   "cell_type": "markdown",
   "metadata": {},
   "source": [
    "To what clusters do these pairs belong?"
   ]
  },
  {
   "cell_type": "code",
   "execution_count": null,
   "metadata": {},
   "outputs": [],
   "source": [
    "for label_n in range(len(counts)):\n",
    "    elements_cluster_n = list(clustered_series[clustered_series == label_n].index)\n",
    "    etfs_cluster_n = etfs_unique[etfs_unique['Ticker'].isin(elements_cluster_n)]\n",
    "    for pair in negative_pairs:\n",
    "        if pair[0] in list(etfs_cluster_n.Ticker):\n",
    "            print('Pair {} belongs to cluster {}'.format(pair, label_n))"
   ]
  },
  {
   "cell_type": "markdown",
   "metadata": {},
   "source": [
    "How do the statistics rank?"
   ]
  },
  {
   "cell_type": "code",
   "execution_count": null,
   "metadata": {},
   "outputs": [],
   "source": [
    "sorted_indices = np.flip(np.argsort(sharpe_results_bollinger), axis=0)\n",
    "\n",
    "# initialize list of lists \n",
    "data = []\n",
    "for index in sorted_indices:\n",
    "    # get number of positive and negative positions\n",
    "    position_returns = performance_bollinger[index][1].position_return\n",
    "    positive_positions = len(position_returns[position_returns>0])\n",
    "    negative_positions = len(position_returns[position_returns<0])\n",
    "    data.append([pairs[index][0],\n",
    "                 pairs[index][1],\n",
    "                 pairs[index][2]['t_statistic'],\n",
    "                 pairs[index][2]['p_value'],\n",
    "                 pairs[index][2]['zero_cross'],\n",
    "                 pairs[index][2]['half_life'],\n",
    "                 pairs[index][2]['hurst_exponent'],\n",
    "                 positive_positions,\n",
    "                 negative_positions,\n",
    "                 sharpe_results_bollinger[index]\n",
    "                ])\n",
    "      \n",
    "# Create the pandas DataFrame \n",
    "df = pd.DataFrame(data, columns = ['Leg1', 'Leg2', 't_statistic', 'p_value', 'zero_cross',\n",
    "                                   'half_life', 'hurst_exponent', 'positive trades', 'negative_trades',\n",
    "                                   'sharpe_result']) \n",
    "df"
   ]
  },
  {
   "cell_type": "code",
   "execution_count": null,
   "metadata": {},
   "outputs": [],
   "source": [
    "df.half_life.mean()"
   ]
  },
  {
   "cell_type": "code",
   "execution_count": null,
   "metadata": {},
   "outputs": [],
   "source": [
    "# analyze correlations\n",
    "print('Half-life vs Sharpe Ratio correlation: ', df['sharpe_result'].corr(df['half_life']))\n",
    "print('Zero crossings vs Sharpe Ratio correlation: ', df['sharpe_result'].corr(df['zero_cross']))\n",
    "print('p-value vs Sharpe Ratio correlation: ', df['sharpe_result'].corr(df['p_value']))\n",
    "print('t-statistic vs Sharpe Ratio correlation: ', df['sharpe_result'].corr(df['t_statistic']))\n",
    "print('Hurst exponent vs Sharpe Ratio correlation ', df['sharpe_result'].corr(df['hurst_exponent']))"
   ]
  },
  {
   "cell_type": "markdown",
   "metadata": {},
   "source": [
    "Are there any signs these pairs were not profitable as the strategy evolves? Could we have predicted their lack of profitability?\n",
    "- Using a ML algorithm that recognizes when a pair is not profitable anymore.\n",
    "- Checking how the hurst exponent has been changing.\n",
    "- Analyze their previous positions' returns"
   ]
  }
 ],
 "metadata": {
  "kernelspec": {
   "display_name": "Python [conda root]",
   "language": "python",
   "name": "conda-root-py"
  },
  "language_info": {
   "codemirror_mode": {
    "name": "ipython",
    "version": 3
   },
   "file_extension": ".py",
   "mimetype": "text/x-python",
   "name": "python",
   "nbconvert_exporter": "python",
   "pygments_lexer": "ipython3",
   "version": "3.6.0"
  }
 },
 "nbformat": 4,
 "nbformat_minor": 2
}
